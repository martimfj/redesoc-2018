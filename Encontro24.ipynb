{
 "cells": [
  {
   "cell_type": "markdown",
   "metadata": {},
   "source": [
    "# Balanceamento Estrutural\n",
    "\n",
    "Importando bibliotecas:"
   ]
  },
  {
   "cell_type": "code",
   "execution_count": null,
   "metadata": {
    "scrolled": true
   },
   "outputs": [],
   "source": [
    "import networkx as nx\n",
    "import socnet as sn\n",
    "\n",
    "from random import choice, random\n",
    "from itertools import combinations"
   ]
  },
  {
   "cell_type": "markdown",
   "metadata": {},
   "source": [
    "Configurando bibliotecas:"
   ]
  },
  {
   "cell_type": "code",
   "execution_count": null,
   "metadata": {},
   "outputs": [],
   "source": [
    "sn.node_size = 5\n",
    "sn.node_color = (255, 255, 255)\n",
    "\n",
    "sn.edge_width = 1"
   ]
  },
  {
   "cell_type": "markdown",
   "metadata": {},
   "source": [
    "Definindo constantes:"
   ]
  },
  {
   "cell_type": "code",
   "execution_count": null,
   "metadata": {},
   "outputs": [],
   "source": [
    "NUM_NODES = 15\n",
    "\n",
    "POSITIVE_COLOR = (0, 0, 255)\n",
    "NEGATIVE_COLOR = (255, 0, 0)"
   ]
  },
  {
   "cell_type": "markdown",
   "metadata": {},
   "source": [
    "Inicialização da simulação:"
   ]
  },
  {
   "cell_type": "code",
   "execution_count": null,
   "metadata": {},
   "outputs": [],
   "source": [
    "def set_edge_color(g, n, m):\n",
    "    if g.edges[n, m]['signal'] == 1:\n",
    "        g.edges[n, m]['color'] = POSITIVE_COLOR\n",
    "    else:\n",
    "        g.edges[n, m]['color'] = NEGATIVE_COLOR\n",
    "\n",
    "\n",
    "def build_graph(frac_positives=0.5):\n",
    "    g = nx.complete_graph(NUM_NODES)\n",
    "\n",
    "    sn.reset_node_colors(g)\n",
    "\n",
    "    for n, m in g.edges:\n",
    "        if random() < frac_positives:\n",
    "            g.edges[n, m]['signal'] = 1\n",
    "        else:\n",
    "            g.edges[n, m]['signal'] = -1\n",
    "\n",
    "        set_edge_color(g, n, m)\n",
    "\n",
    "    sn.reset_positions(g)\n",
    "\n",
    "    return g"
   ]
  },
  {
   "cell_type": "markdown",
   "metadata": {},
   "source": [
    "Passo da simulação:"
   ]
  },
  {
   "cell_type": "code",
   "execution_count": null,
   "metadata": {},
   "outputs": [],
   "source": [
    "def invert(g, n, m):\n",
    "    g.edges[n, m]['signal'] *= -1\n",
    "\n",
    "    set_edge_color(g, n, m)\n",
    "\n",
    "\n",
    "def update(g, mec2_weight=1, mec3_weight=1, mec5_weight=1):\n",
    "    # Inicializa as pressões.\n",
    "\n",
    "    for n, m in g.edges():\n",
    "        g.edges[n, m]['pressure'] = 0\n",
    "\n",
    "    # Para cada tríade.\n",
    "\n",
    "    for t in combinations(g.nodes, 3):\n",
    "        # Lista todas as arestas da tríade.\n",
    "        edges = [(t[0], t[1]), (t[0], t[2]), (t[1], t[2])]\n",
    "\n",
    "        # Conta quantas arestas são positivas.\n",
    "        num_positives = sum(g.edges[n, m]['signal'] == 1 for n, m in edges)\n",
    "\n",
    "        # Duas positivas significa tríade instável.\n",
    "        if num_positives == 2:\n",
    "            for n, m in edges:\n",
    "                if g.edges[n, m]['signal'] == -1:\n",
    "                    g.edges[n, m]['pressure'] += mec2_weight # Mecanismo 2\n",
    "                else:\n",
    "                    g.edges[n, m]['pressure'] += mec3_weight # Mecanismo 3\n",
    "\n",
    "        # Zero positivas também significa tríade instável.\n",
    "        elif num_positives == 0:\n",
    "            for n, m in edges:\n",
    "                g.edges[n, m]['pressure'] += mec5_weight # Mecanismo 5\n",
    "\n",
    "    # Obtém a maior pressão.\n",
    "    pressure = max(g.edges[n, m]['pressure'] for n, m in g.edges)\n",
    "\n",
    "    # Se for positiva, inverte uma aresta que esteja\n",
    "    # sob essa pressão, escolhida aleatoriamente, e\n",
    "    # devolve True para indicar que houve mudança.\n",
    "    if pressure > 0:\n",
    "        n, m = choice([(n, m) for n, m in g.edges if g.edges[n, m]['pressure'] == pressure])\n",
    "        invert(g, n, m)\n",
    "        return True\n",
    "\n",
    "    # Se for zero, devolvendo False para indicar que\n",
    "    # não houve mudança, ou seja, a rede estabilizou.\n",
    "    return False"
   ]
  },
  {
   "cell_type": "markdown",
   "metadata": {},
   "source": [
    "Animação da simulação:"
   ]
  },
  {
   "cell_type": "code",
   "execution_count": null,
   "metadata": {},
   "outputs": [],
   "source": [
    "g = build_graph()\n",
    "\n",
    "sn.reset_positions(g)\n",
    "\n",
    "frames = []\n",
    "\n",
    "while update(g):\n",
    "    sn.update_positions(g, weight='signal')\n",
    "\n",
    "    frames.append(sn.generate_frame(g))\n",
    "\n",
    "print('simulação encerrada, gerando animação...')\n",
    "\n",
    "sn.show_animation(frames)"
   ]
  },
  {
   "cell_type": "markdown",
   "metadata": {},
   "source": [
    "Avaliação da simulação:"
   ]
  },
  {
   "cell_type": "code",
   "execution_count": null,
   "metadata": {},
   "outputs": [],
   "source": [
    "def number_components(g):\n",
    "    h = g.copy()\n",
    "\n",
    "    for n, m in g.edges:\n",
    "        if g.edges[n, m]['signal'] == -1:\n",
    "            h.remove_edge(n, m)\n",
    "\n",
    "    return nx.number_connected_components(h)\n",
    "\n",
    "\n",
    "print(number_components(g))"
   ]
  }
 ],
 "metadata": {
  "kernelspec": {
   "display_name": "Python 3",
   "language": "python",
   "name": "python3"
  },
  "language_info": {
   "codemirror_mode": {
    "name": "ipython",
    "version": 3
   },
   "file_extension": ".py",
   "mimetype": "text/x-python",
   "name": "python",
   "nbconvert_exporter": "python",
   "pygments_lexer": "ipython3",
   "version": "3.6.5"
  }
 },
 "nbformat": 4,
 "nbformat_minor": 1
}
