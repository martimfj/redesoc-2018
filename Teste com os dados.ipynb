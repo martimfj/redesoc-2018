{
 "cells": [
  {
   "cell_type": "code",
   "execution_count": 15,
   "metadata": {},
   "outputs": [],
   "source": [
    "%matplotlib inline\n",
    "\n",
    "import matplotlib\n",
    "import numpy as np\n",
    "import matplotlib.pyplot as plt"
   ]
  },
  {
   "cell_type": "code",
   "execution_count": 16,
   "metadata": {},
   "outputs": [
    {
     "name": "stdout",
     "output_type": "stream",
     "text": [
      "Esperamos trabalhar no diretório\n",
      "C:\\Users\\Martim\\Dropbox\\Insper\\redesoc-2018\n"
     ]
    }
   ],
   "source": [
    "import pandas as pd\n",
    "import seaborn as sns\n",
    "\n",
    "import os\n",
    "print('Esperamos trabalhar no diretório')\n",
    "print(os.getcwd())"
   ]
  },
  {
   "cell_type": "code",
   "execution_count": 17,
   "metadata": {},
   "outputs": [
    {
     "data": {
      "text/plain": [
       "'0.23.4'"
      ]
     },
     "execution_count": 17,
     "metadata": {},
     "output_type": "execute_result"
    }
   ],
   "source": [
    "pd.__version__"
   ]
  },
  {
   "cell_type": "code",
   "execution_count": 18,
   "metadata": {},
   "outputs": [],
   "source": [
    "dados = pd.read_table(\"cabreuva_limpa.csv\", encoding=\"windows-1252\", sep=\",\")"
   ]
  },
  {
   "cell_type": "code",
   "execution_count": 30,
   "metadata": {
    "scrolled": true
   },
   "outputs": [
    {
     "data": {
      "text/plain": [
       "Unnamed: 0                                                 int64\n",
       "ESCOLA                                                    object\n",
       "NOME                                                      object\n",
       "TURMA                                                     object\n",
       "IDDEINQUIRIDO                                            float64\n",
       "DATADEINÍCIO                                              object\n",
       "IDADE                                                      int64\n",
       "ANODENASCIMENTO                                            int64\n",
       "SEXO                                                      object\n",
       "RELIGIÃO                                                  object\n",
       "EVANGELICO                                                 int64\n",
       "RAÇA                                                      object\n",
       "CORDEPELE                                                  int64\n",
       "BEMCONSIGOMESMO                                            int64\n",
       "ACREDITOEMSORTEMAISDOQUETRABALHO                           int64\n",
       "ALGOMEIMPEDEDECONQUISTARASCOISAS                           int64\n",
       "PLANOSSEMPREDÃOERRADO                                      int64\n",
       "INÚTIL                                                     int64\n",
       "ACREDITONOSMEUSPLANOS                                      int64\n",
       "INCLUSÃODEPORTADORESDEDEFICIÊNCIAEMSALASCOMUNS             int64\n",
       "FILHALÉSBICA                                               int64\n",
       "TANTOFAZBRANCOSOUNEGROS                                    int64\n",
       "IMPORTANTEESCOLASESPECIAISPARAPORTADORESDEDEFICIÊNCIA      int64\n",
       "GAYSREVEJAMSUAOPÇÃO                                        int64\n",
       "BRANCOSMAISDISCIPLINADOS                                   int64\n",
       "ALGUNSGRUPOSTEMMAISVALOR                                   int64\n",
       "USARFORÇACONTRAOUTROS                                      int64\n",
       "TANTOFAZAMIGOSBRANCOSENEGROS                               int64\n",
       "NORMALUMGRUPOTERMAISOPORTUNIDADE                           int64\n",
       "GRUPOSSUPERIORESDEVEMCONDUZIR                              int64\n",
       "                                                          ...   \n",
       "PAIADOTIVO                                               float64\n",
       "MÃE                                                      float64\n",
       "MADRASTA                                                 float64\n",
       "MÃEADOTIVA                                               float64\n",
       "IRMÃO                                                    float64\n",
       "IRMÃ                                                     float64\n",
       "AVÓ                                                      float64\n",
       "MEUCONJUGE                                               float64\n",
       "MEUFILHO                                                 float64\n",
       "OUTROSPARENTES                                           float64\n",
       "PESSOASQUENÃOSÃOPARENTES                                 float64\n",
       "TRABALHODAMÃE                                             object\n",
       "TRABALHODOPAI                                             object\n",
       "HORASNAINTERNETPARAESTUDAR                                 int64\n",
       "HORASNAINTERNETPARACOMUNICAÇÃO                             int64\n",
       "HORASNAINTERNETPARAJOGAR                                   int64\n",
       "HORASNATELEVISÃO                                         float64\n",
       "X                                                         object\n",
       "entrevista                                                 int64\n",
       "escola                                                     int64\n",
       "escola_short                                              object\n",
       "serie                                                      int64\n",
       "eja                                                        int64\n",
       "idade                                                      int64\n",
       "grupo_idade                                                int64\n",
       "masculino                                                  int64\n",
       "religion                                                   int64\n",
       "religiao                                                   int64\n",
       "raca                                                       int64\n",
       "corpele                                                    int64\n",
       "Length: 117, dtype: object"
      ]
     },
     "execution_count": 30,
     "metadata": {},
     "output_type": "execute_result"
    }
   ],
   "source": [
    "dados.dtypes"
   ]
  },
  {
   "cell_type": "code",
   "execution_count": 33,
   "metadata": {},
   "outputs": [
    {
     "data": {
      "text/plain": [
       "Evangélico (a)                                                      1670\n",
       "Católico (a)                                                        1353\n",
       "Eu não tenho religião                                                261\n",
       "Sou ateu                                                              30\n",
       "Pertenço a outra religião. Minha religião é (escreva ao lado):e)      24\n",
       "Espírita                                                              20\n",
       "Religião afro-brasileira (como o Candomblé ou a Umbanda)               6\n",
       "cristao                                                                4\n",
       "Testemunha de Jeová                                                    4\n",
       "testemunha de jeová                                                    4\n",
       "crista                                                                 3\n",
       "Cristã                                                                 3\n",
       "testemunha de jeova                                                    2\n",
       "TESTEMUNHA DE JEOVA                                                    2\n",
       "testemunha de Jeová                                                    2\n",
       "Cristão                                                                2\n",
       "crente                                                                 2\n",
       "budista                                                                1\n",
       "congregação                                                            1\n",
       "testemunhas de Jeova                                                   1\n",
       "adventista do setimo dia                                               1\n",
       "Budista                                                                1\n",
       "adventista                                                             1\n",
       "congregação cristan no brasil                                          1\n",
       "nao sou de nem uma                                                     1\n",
       "ADIVENTISTA DO 7 DIA                                                   1\n",
       "sim                                                                    1\n",
       "congregaçao crista no brasil                                           1\n",
       "CONGREGAÇÃO                                                            1\n",
       "mormon                                                                 1\n",
       "Congregação Cristã no Brasil                                           1\n",
       "Testemunha de jeová                                                    1\n",
       "COMO A RELIGIAO E MINHA SO CABE A MIM O INTERESSE                      1\n",
       "apostolica                                                             1\n",
       "não pertenço a nenhuma religião                                        1\n",
       "adiventista  do  setimo  dia                                           1\n",
       "MORMON                                                                 1\n",
       "servo de Deus congregação cristã                                       1\n",
       "cristão                                                                1\n",
       "culdo                                                                  1\n",
       "nenhuma                                                                1\n",
       "deus                                                                   1\n",
       "é aqui em Cabreuva                                                     1\n",
       "concregação crista do brasil                                           1\n",
       "sou crente                                                             1\n",
       "eu sou da univesal                                                     1\n",
       "TESTEMUNHA DE JEOVÁ                                                    1\n",
       "cristan                                                                1\n",
       "Estou frequentando Adventista do 7º Dia , sou Católico                 1\n",
       "congregação cristã no brasil                                           1\n",
       "Testemunha de Jeova                                                    1\n",
       "testemunhas de jeova                                                   1\n",
       "congregaçao                                                            1\n",
       "cristã                                                                 1\n",
       "igreja mundial do poder de deus                                        1\n",
       "Mórmon(a igreja de Jesus Cristo dos santos dos Ùltimos dias)           1\n",
       "Name: RELIGIÃO, dtype: int64"
      ]
     },
     "execution_count": 33,
     "metadata": {},
     "output_type": "execute_result"
    }
   ],
   "source": [
    "dados.RELIGIÃO.value_counts()"
   ]
  },
  {
   "cell_type": "code",
   "execution_count": null,
   "metadata": {},
   "outputs": [],
   "source": [
    "dados[(dados.RELIGIÃO) & (dados.RAÇA)]"
   ]
  },
  {
   "cell_type": "code",
   "execution_count": null,
   "metadata": {},
   "outputs": [],
   "source": []
  }
 ],
 "metadata": {
  "kernelspec": {
   "display_name": "Python 3",
   "language": "python",
   "name": "python3"
  },
  "language_info": {
   "codemirror_mode": {
    "name": "ipython",
    "version": 3
   },
   "file_extension": ".py",
   "mimetype": "text/x-python",
   "name": "python",
   "nbconvert_exporter": "python",
   "pygments_lexer": "ipython3",
   "version": "3.6.5"
  }
 },
 "nbformat": 4,
 "nbformat_minor": 2
}
