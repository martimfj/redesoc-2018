{
 "cells": [
  {
   "cell_type": "markdown",
   "metadata": {},
   "source": [
    "# Encontro 13: Medidas de Centralidade\n",
    "\n",
    "Importando a biblioteca:"
   ]
  },
  {
   "cell_type": "code",
   "execution_count": 1,
   "metadata": {},
   "outputs": [
    {
     "data": {
      "text/html": [
       "<script>requirejs.config({paths: { 'plotly': ['https://cdn.plot.ly/plotly-latest.min']},});if(!window.Plotly) {{require(['plotly'],function(plotly) {window.Plotly=plotly;});}}</script>"
      ],
      "text/vnd.plotly.v1+html": [
       "<script>requirejs.config({paths: { 'plotly': ['https://cdn.plot.ly/plotly-latest.min']},});if(!window.Plotly) {{require(['plotly'],function(plotly) {window.Plotly=plotly;});}}</script>"
      ]
     },
     "metadata": {},
     "output_type": "display_data"
    }
   ],
   "source": [
    "import sys\n",
    "sys.path.append('..')\n",
    "\n",
    "from random import choice\n",
    "from itertools import permutations\n",
    "\n",
    "import pandas as pd\n",
    "import networkx as nx\n",
    "\n",
    "import socnet as sn"
   ]
  },
  {
   "cell_type": "markdown",
   "metadata": {},
   "source": [
    "Configurando a biblioteca:"
   ]
  },
  {
   "cell_type": "code",
   "execution_count": 2,
   "metadata": {},
   "outputs": [],
   "source": [
    "sn.node_size = 10\n",
    "sn.node_color = (255, 255, 255)\n",
    "\n",
    "sn.edge_width = 1\n",
    "sn.edge_color = (192, 192, 192)\n",
    "\n",
    "sn.node_label_position = 'top center'"
   ]
  },
  {
   "cell_type": "markdown",
   "metadata": {},
   "source": [
    "Carregando rede de casamentos entre famílias de Florença durante a Renascença.\n",
    "\n",
    "J. F. Padgett e C. K. Ansell. *Robust action and the rise of the Medici, 1400–1434.* American Journal of\n",
    "Sociology 98, págs. 1259-1319, 1993."
   ]
  },
  {
   "cell_type": "code",
   "execution_count": 3,
   "metadata": {},
   "outputs": [
    {
     "data": {
      "application/vnd.plotly.v1+json": {
       "data": [
        {
         "hoverinfo": "none",
         "line": {
          "color": "rgb(192, 192, 192)",
          "width": 1
         },
         "mode": "lines",
         "type": "scatter",
         "uid": "6fe8c62c-ba7e-11e8-8ecc-dc4a3ef028fa",
         "x": [
          0.5138211382113821,
          0.5609756097560976,
          null,
          0.9658536585365853,
          0.8097560975609757,
          null,
          0.5609756097560976,
          0.8097560975609757,
          null,
          0.5609756097560976,
          0.44552845528455287,
          null,
          0.8097560975609757,
          0.6130081300813008,
          null,
          0.8097560975609757,
          1,
          null,
          0,
          0.23414634146341465,
          null,
          0.23414634146341465,
          0.44552845528455287,
          null,
          0.44552845528455287,
          0.6130081300813008,
          null,
          0.44552845528455287,
          0.624390243902439,
          null,
          0.44552845528455287,
          0.26991869918699185,
          null,
          0.44552845528455287,
          0.5138211382113821,
          null,
          0.6130081300813008,
          0.624390243902439,
          null,
          1,
          0.9951219512195122,
          null,
          1,
          0.8357723577235773,
          null,
          0.624390243902439,
          0.8357723577235773,
          null,
          0.8357723577235773,
          0.7626016260162601,
          null,
          0.9951219512195122,
          0.7626016260162601,
          null,
          0.5138211382113821,
          0.7626016260162601,
          null
         ],
         "y": [
          1,
          0.736734693877551,
          null,
          0.8673469387755102,
          0.6714285714285715,
          null,
          0.736734693877551,
          0.6714285714285715,
          null,
          0.736734693877551,
          0.4285714285714286,
          null,
          0.6714285714285715,
          0.5326530612244897,
          null,
          0.6714285714285715,
          0.44897959183673475,
          null,
          0.5061224489795919,
          0.48367346938775513,
          null,
          0.48367346938775513,
          0.4285714285714286,
          null,
          0.4285714285714286,
          0.5326530612244897,
          null,
          0.4285714285714286,
          0.33673469387755106,
          null,
          0.4285714285714286,
          0.2204081632653061,
          null,
          0.4285714285714286,
          0.09999999999999998,
          null,
          0.5326530612244897,
          0.33673469387755106,
          null,
          0.44897959183673475,
          0.17755102040816328,
          null,
          0.44897959183673475,
          0.2020408163265306,
          null,
          0.33673469387755106,
          0.2020408163265306,
          null,
          0.2020408163265306,
          0,
          null,
          0.17755102040816328,
          0,
          null,
          0.09999999999999998,
          0,
          null
         ]
        },
        {
         "hoverinfo": "none",
         "marker": {
          "color": "rgb(255, 255, 255)",
          "line": {
           "color": "rgb(0, 0, 0)",
           "width": 1
          },
          "size": 10
         },
         "mode": "markers+text",
         "text": [
          "ginori",
          "lambertes",
          "albizzi",
          "guadagni",
          "pazzi",
          "salviati",
          "medici",
          "tornabuon",
          "bischeri",
          "ridolfi",
          "acciaiuol",
          "strozzi",
          "peruzzi",
          "barbadori",
          "castellan"
         ],
         "textfont": {
          "color": "rgb(0, 0, 0)"
         },
         "textposition": "top center",
         "type": "scatter",
         "uid": "6fe8c62d-ba7e-11e8-8ecc-dc4a3ef028fa",
         "x": [
          0.5138211382113821,
          0.9658536585365853,
          0.5609756097560976,
          0.8097560975609757,
          0,
          0.23414634146341465,
          0.44552845528455287,
          0.6130081300813008,
          1,
          0.624390243902439,
          0.26991869918699185,
          0.8357723577235773,
          0.9951219512195122,
          0.5138211382113821,
          0.7626016260162601
         ],
         "y": [
          1,
          0.8673469387755102,
          0.736734693877551,
          0.6714285714285715,
          0.5061224489795919,
          0.48367346938775513,
          0.4285714285714286,
          0.5326530612244897,
          0.44897959183673475,
          0.33673469387755106,
          0.2204081632653061,
          0.2020408163265306,
          0.17755102040816328,
          0.09999999999999998,
          0
         ]
        }
       ],
       "layout": {
        "height": 450,
        "margin": {
         "b": 0,
         "l": 0,
         "r": 0,
         "t": 0
        },
        "showlegend": false,
        "width": 800,
        "xaxis": {
         "showgrid": false,
         "showticklabels": false,
         "zeroline": false
        },
        "yaxis": {
         "showgrid": false,
         "showticklabels": false,
         "zeroline": false
        }
       }
      },
      "text/html": [
       "<div id=\"cdb3481f-9be5-4729-8221-cfa72b651d54\" style=\"height: 450px; width: 800px;\" class=\"plotly-graph-div\"></div><script type=\"text/javascript\">require([\"plotly\"], function(Plotly) { window.PLOTLYENV=window.PLOTLYENV || {};window.PLOTLYENV.BASE_URL=\"https://plot.ly\";Plotly.newPlot(\"cdb3481f-9be5-4729-8221-cfa72b651d54\", [{\"hoverinfo\": \"none\", \"line\": {\"color\": \"rgb(192, 192, 192)\", \"width\": 1}, \"mode\": \"lines\", \"x\": [0.5138211382113821, 0.5609756097560976, null, 0.9658536585365853, 0.8097560975609757, null, 0.5609756097560976, 0.8097560975609757, null, 0.5609756097560976, 0.44552845528455287, null, 0.8097560975609757, 0.6130081300813008, null, 0.8097560975609757, 1.0, null, 0.0, 0.23414634146341465, null, 0.23414634146341465, 0.44552845528455287, null, 0.44552845528455287, 0.6130081300813008, null, 0.44552845528455287, 0.624390243902439, null, 0.44552845528455287, 0.26991869918699185, null, 0.44552845528455287, 0.5138211382113821, null, 0.6130081300813008, 0.624390243902439, null, 1.0, 0.9951219512195122, null, 1.0, 0.8357723577235773, null, 0.624390243902439, 0.8357723577235773, null, 0.8357723577235773, 0.7626016260162601, null, 0.9951219512195122, 0.7626016260162601, null, 0.5138211382113821, 0.7626016260162601, null], \"y\": [1.0, 0.736734693877551, null, 0.8673469387755102, 0.6714285714285715, null, 0.736734693877551, 0.6714285714285715, null, 0.736734693877551, 0.4285714285714286, null, 0.6714285714285715, 0.5326530612244897, null, 0.6714285714285715, 0.44897959183673475, null, 0.5061224489795919, 0.48367346938775513, null, 0.48367346938775513, 0.4285714285714286, null, 0.4285714285714286, 0.5326530612244897, null, 0.4285714285714286, 0.33673469387755106, null, 0.4285714285714286, 0.2204081632653061, null, 0.4285714285714286, 0.09999999999999998, null, 0.5326530612244897, 0.33673469387755106, null, 0.44897959183673475, 0.17755102040816328, null, 0.44897959183673475, 0.2020408163265306, null, 0.33673469387755106, 0.2020408163265306, null, 0.2020408163265306, 0.0, null, 0.17755102040816328, 0.0, null, 0.09999999999999998, 0.0, null], \"type\": \"scatter\", \"uid\": \"717bc048-ba7e-11e8-8ecc-dc4a3ef028fa\"}, {\"hoverinfo\": \"none\", \"marker\": {\"color\": \"rgb(255, 255, 255)\", \"line\": {\"color\": \"rgb(0, 0, 0)\", \"width\": 1}, \"size\": 10}, \"mode\": \"markers+text\", \"text\": [\"ginori\", \"lambertes\", \"albizzi\", \"guadagni\", \"pazzi\", \"salviati\", \"medici\", \"tornabuon\", \"bischeri\", \"ridolfi\", \"acciaiuol\", \"strozzi\", \"peruzzi\", \"barbadori\", \"castellan\"], \"textfont\": {\"color\": \"rgb(0, 0, 0)\"}, \"textposition\": \"top center\", \"x\": [0.5138211382113821, 0.9658536585365853, 0.5609756097560976, 0.8097560975609757, 0.0, 0.23414634146341465, 0.44552845528455287, 0.6130081300813008, 1.0, 0.624390243902439, 0.26991869918699185, 0.8357723577235773, 0.9951219512195122, 0.5138211382113821, 0.7626016260162601], \"y\": [1.0, 0.8673469387755102, 0.736734693877551, 0.6714285714285715, 0.5061224489795919, 0.48367346938775513, 0.4285714285714286, 0.5326530612244897, 0.44897959183673475, 0.33673469387755106, 0.2204081632653061, 0.2020408163265306, 0.17755102040816328, 0.09999999999999998, 0.0], \"type\": \"scatter\", \"uid\": \"717bc049-ba7e-11e8-8ecc-dc4a3ef028fa\"}], {\"height\": 450, \"margin\": {\"b\": 0, \"l\": 0, \"r\": 0, \"t\": 0}, \"showlegend\": false, \"width\": 800, \"xaxis\": {\"showgrid\": false, \"showticklabels\": false, \"zeroline\": false}, \"yaxis\": {\"showgrid\": false, \"showticklabels\": false, \"zeroline\": false}}, {\"showLink\": false, \"linkText\": \"Export to plot.ly\", \"displayModeBar\": false})});</script>"
      ],
      "text/vnd.plotly.v1+html": [
       "<div id=\"cdb3481f-9be5-4729-8221-cfa72b651d54\" style=\"height: 450px; width: 800px;\" class=\"plotly-graph-div\"></div><script type=\"text/javascript\">require([\"plotly\"], function(Plotly) { window.PLOTLYENV=window.PLOTLYENV || {};window.PLOTLYENV.BASE_URL=\"https://plot.ly\";Plotly.newPlot(\"cdb3481f-9be5-4729-8221-cfa72b651d54\", [{\"hoverinfo\": \"none\", \"line\": {\"color\": \"rgb(192, 192, 192)\", \"width\": 1}, \"mode\": \"lines\", \"x\": [0.5138211382113821, 0.5609756097560976, null, 0.9658536585365853, 0.8097560975609757, null, 0.5609756097560976, 0.8097560975609757, null, 0.5609756097560976, 0.44552845528455287, null, 0.8097560975609757, 0.6130081300813008, null, 0.8097560975609757, 1.0, null, 0.0, 0.23414634146341465, null, 0.23414634146341465, 0.44552845528455287, null, 0.44552845528455287, 0.6130081300813008, null, 0.44552845528455287, 0.624390243902439, null, 0.44552845528455287, 0.26991869918699185, null, 0.44552845528455287, 0.5138211382113821, null, 0.6130081300813008, 0.624390243902439, null, 1.0, 0.9951219512195122, null, 1.0, 0.8357723577235773, null, 0.624390243902439, 0.8357723577235773, null, 0.8357723577235773, 0.7626016260162601, null, 0.9951219512195122, 0.7626016260162601, null, 0.5138211382113821, 0.7626016260162601, null], \"y\": [1.0, 0.736734693877551, null, 0.8673469387755102, 0.6714285714285715, null, 0.736734693877551, 0.6714285714285715, null, 0.736734693877551, 0.4285714285714286, null, 0.6714285714285715, 0.5326530612244897, null, 0.6714285714285715, 0.44897959183673475, null, 0.5061224489795919, 0.48367346938775513, null, 0.48367346938775513, 0.4285714285714286, null, 0.4285714285714286, 0.5326530612244897, null, 0.4285714285714286, 0.33673469387755106, null, 0.4285714285714286, 0.2204081632653061, null, 0.4285714285714286, 0.09999999999999998, null, 0.5326530612244897, 0.33673469387755106, null, 0.44897959183673475, 0.17755102040816328, null, 0.44897959183673475, 0.2020408163265306, null, 0.33673469387755106, 0.2020408163265306, null, 0.2020408163265306, 0.0, null, 0.17755102040816328, 0.0, null, 0.09999999999999998, 0.0, null], \"type\": \"scatter\", \"uid\": \"717bc048-ba7e-11e8-8ecc-dc4a3ef028fa\"}, {\"hoverinfo\": \"none\", \"marker\": {\"color\": \"rgb(255, 255, 255)\", \"line\": {\"color\": \"rgb(0, 0, 0)\", \"width\": 1}, \"size\": 10}, \"mode\": \"markers+text\", \"text\": [\"ginori\", \"lambertes\", \"albizzi\", \"guadagni\", \"pazzi\", \"salviati\", \"medici\", \"tornabuon\", \"bischeri\", \"ridolfi\", \"acciaiuol\", \"strozzi\", \"peruzzi\", \"barbadori\", \"castellan\"], \"textfont\": {\"color\": \"rgb(0, 0, 0)\"}, \"textposition\": \"top center\", \"x\": [0.5138211382113821, 0.9658536585365853, 0.5609756097560976, 0.8097560975609757, 0.0, 0.23414634146341465, 0.44552845528455287, 0.6130081300813008, 1.0, 0.624390243902439, 0.26991869918699185, 0.8357723577235773, 0.9951219512195122, 0.5138211382113821, 0.7626016260162601], \"y\": [1.0, 0.8673469387755102, 0.736734693877551, 0.6714285714285715, 0.5061224489795919, 0.48367346938775513, 0.4285714285714286, 0.5326530612244897, 0.44897959183673475, 0.33673469387755106, 0.2204081632653061, 0.2020408163265306, 0.17755102040816328, 0.09999999999999998, 0.0], \"type\": \"scatter\", \"uid\": \"717bc049-ba7e-11e8-8ecc-dc4a3ef028fa\"}], {\"height\": 450, \"margin\": {\"b\": 0, \"l\": 0, \"r\": 0, \"t\": 0}, \"showlegend\": false, \"width\": 800, \"xaxis\": {\"showgrid\": false, \"showticklabels\": false, \"zeroline\": false}, \"yaxis\": {\"showgrid\": false, \"showticklabels\": false, \"zeroline\": false}}, {\"showLink\": false, \"linkText\": \"Export to plot.ly\", \"displayModeBar\": false})});</script>"
      ]
     },
     "metadata": {},
     "output_type": "display_data"
    }
   ],
   "source": [
    "g = sn.load_graph('Renaissance.gml', has_pos=True)\n",
    "\n",
    "sn.show_graph(g, nlab=True)"
   ]
  },
  {
   "cell_type": "markdown",
   "metadata": {},
   "source": [
    "Função que registra, em cada nó, seus sucessores em geodésicas de $s$ a $t$."
   ]
  },
  {
   "cell_type": "code",
   "execution_count": 4,
   "metadata": {},
   "outputs": [],
   "source": [
    "def set_geodesic_successors(g, s, t):\n",
    "    for n in g.nodes:\n",
    "        g.nodes[n]['geodesic_successors'] = set()\n",
    "\n",
    "    for p in nx.all_shortest_paths(g, s, t):\n",
    "        for i in range(len(p) - 1):\n",
    "            g.nodes[p[i]]['geodesic_successors'].add(p[i + 1])"
   ]
  },
  {
   "cell_type": "markdown",
   "metadata": {},
   "source": [
    "Funções que representam uma escolha aleatória de sucessor para diferentes tipos de trajetórias."
   ]
  },
  {
   "cell_type": "code",
   "execution_count": 5,
   "metadata": {},
   "outputs": [],
   "source": [
    "# Pense que o atributo 'passages' abaixo indica quantas\n",
    "# vezes um fluxo já passou por um nó ou por uma aresta.\n",
    "\n",
    "def random_geodesic_successor(g, n):\n",
    "    return choice([m for m in g.nodes[n]['geodesic_successors']])\n",
    "\n",
    "def random_path_successor(g, n):\n",
    "    return choice([m for m in g.neighbors(n) if g.nodes[m]['passages'] == 0])\n",
    "\n",
    "def random_trail_successor(g, n):\n",
    "    return choice([m for m in g.neighbors(n) if g.edges[n, m]['passages'] == 0])\n",
    "\n",
    "def random_walk_successor(g, n):\n",
    "    return choice([m for m in g.neighbors(n)])"
   ]
  },
  {
   "cell_type": "markdown",
   "metadata": {},
   "source": [
    "Função que faz uma simulação de fluxo de $s$ a $t$, que pode ou não ser bem-sucedida."
   ]
  },
  {
   "cell_type": "code",
   "execution_count": 6,
   "metadata": {},
   "outputs": [],
   "source": [
    "def simulate_single_flow(g, s, t):\n",
    "    # Inicializa o atributo 'passages' de cada nó.\n",
    "    for n in g.nodes:\n",
    "        g.nodes[n]['passages'] = 0\n",
    "    g.nodes[s]['passages'] = 1\n",
    "\n",
    "    # Inicializa o atributo 'passages' de cada aresta.\n",
    "    for n, m in g.edges:\n",
    "        g.edges[n, m]['passages'] = 0\n",
    "\n",
    "    # Inicializa s como o único dono do insumo.\n",
    "    for n in g.nodes:\n",
    "        g.nodes[n]['owner'] = False\n",
    "    g.nodes[s]['owner'] = True\n",
    "\n",
    "    # Simula o fluxo, contando o número total de passos.\n",
    "\n",
    "    steps = 0\n",
    "\n",
    "    while True:\n",
    "        # O conjunto reached representa todos os nós\n",
    "        # que o fluxo consegue alcançar no passo atual.\n",
    "        reached = set()\n",
    "\n",
    "        # Verifica cada um dos donos atuais do insumo.\n",
    "\n",
    "        owners = [n for n in g.nodes if g.nodes[n]['owner']]\n",
    "\n",
    "        for n in owners:\n",
    "            # Escolhe aleatoriamente um dos sucessores.\n",
    "            try:\n",
    "                m = random_geodesic_successor(g, n)\n",
    "            except IndexError:\n",
    "                continue\n",
    "\n",
    "            # Deixa de ser dono do insumo.\n",
    "            g.nodes[n]['owner'] = False\n",
    "\n",
    "            # Incrementa o atributo 'passages' do nó.\n",
    "            g.nodes[m]['passages'] += 1\n",
    "\n",
    "            # Incrementa o atributo 'passages' da aresta.\n",
    "            g.edges[n, m]['passages'] += 1\n",
    "\n",
    "            # Registra que consegue alcançar esse nó.\n",
    "            reached.add(m)\n",
    "\n",
    "        # Todo nó alcançado passa a ser dono do insumo.\n",
    "\n",
    "        for n in reached:\n",
    "            g.nodes[n]['owner'] = True\n",
    "\n",
    "        # Isso conclui o passo atual da simulação.\n",
    "        steps += 1\n",
    "\n",
    "        # Se o passo alcançou t, chegamos ao fim da simulação.\n",
    "        # Ela foi bem-sucedida: devolvemos o número de passos.\n",
    "        if t in reached:\n",
    "            return steps\n",
    "\n",
    "        # Se o passo não alcançou ninguém, chegamos ao fim da\n",
    "        # simulação. Ela não foi bem-sucedida: devolvemos -1.\n",
    "        if not reached:\n",
    "            return -1"
   ]
  },
  {
   "cell_type": "markdown",
   "metadata": {},
   "source": [
    "Função que faz simulações de fluxo de $s$ a $t$ até uma ser bem-sucedida."
   ]
  },
  {
   "cell_type": "code",
   "execution_count": 7,
   "metadata": {},
   "outputs": [],
   "source": [
    "def simulate_successful_flow(g, s, t):\n",
    "    set_geodesic_successors(g, s, t)\n",
    "\n",
    "    while True:\n",
    "        steps = simulate_single_flow(g, s, t)\n",
    "\n",
    "        if steps != -1:\n",
    "            return steps"
   ]
  },
  {
   "cell_type": "markdown",
   "metadata": {},
   "source": [
    "Função que faz simulações de fluxo para todo $s$ e $t$ possíveis, e tira disso um *closeness simulado* e um *betweenness simulado*."
   ]
  },
  {
   "cell_type": "code",
   "execution_count": 8,
   "metadata": {},
   "outputs": [],
   "source": [
    "def simulate_all_flows(g):\n",
    "    for n in g.nodes:\n",
    "        g.nodes[n]['closeness'] = 0\n",
    "        g.nodes[n]['betweenness'] = 0\n",
    "\n",
    "    for s, t in permutations(g.nodes, 2):\n",
    "        steps = simulate_successful_flow(g, s, t)\n",
    "\n",
    "        g.nodes[s]['closeness'] += steps\n",
    "        for n in g.nodes:\n",
    "            if n != s and n != t:\n",
    "                g.nodes[n]['betweenness'] += g.nodes[n]['passages']\n",
    "\n",
    "    # Normalizações necessárias para comparar com os\n",
    "    # resultados analíticos. Não é preciso entender.\n",
    "    for n in g.nodes:\n",
    "        g.nodes[n]['closeness'] = (g.number_of_nodes() - 1) / g.nodes[n]['closeness']\n",
    "        g.nodes[n]['betweenness'] /= (g.number_of_nodes() - 1) * (g.number_of_nodes() - 2)"
   ]
  },
  {
   "cell_type": "markdown",
   "metadata": {},
   "source": [
    "Média de *closeness simulado* e *betweenness simulado* para muitas repetições da simulação acima."
   ]
  },
  {
   "cell_type": "code",
   "execution_count": 9,
   "metadata": {},
   "outputs": [],
   "source": [
    "TIMES = 100\n",
    "\n",
    "\n",
    "for n in g.nodes:\n",
    "    g.nodes[n]['mean_closeness'] = 0\n",
    "    g.nodes[n]['mean_betweenness'] = 0\n",
    "\n",
    "for _ in range(TIMES):\n",
    "    simulate_all_flows(g)\n",
    "\n",
    "    for n in g.nodes:\n",
    "        g.nodes[n]['mean_closeness'] += g.nodes[n]['closeness']\n",
    "        g.nodes[n]['mean_betweenness'] += g.nodes[n]['betweenness']\n",
    "\n",
    "for n in g.nodes:\n",
    "    g.nodes[n]['mean_closeness'] /= TIMES\n",
    "    g.nodes[n]['mean_betweenness'] /= TIMES"
   ]
  },
  {
   "cell_type": "markdown",
   "metadata": {},
   "source": [
    "Cálculo de *closeness* e *betweenness* a partir das funções prontas da NetworkX, para comparação."
   ]
  },
  {
   "cell_type": "code",
   "execution_count": 10,
   "metadata": {},
   "outputs": [],
   "source": [
    "cc = nx.closeness_centrality(g)\n",
    "\n",
    "bc = nx.betweenness_centrality(g)"
   ]
  },
  {
   "cell_type": "markdown",
   "metadata": {},
   "source": [
    "Construção de data frame só para comparar mais facilmente."
   ]
  },
  {
   "cell_type": "code",
   "execution_count": 11,
   "metadata": {},
   "outputs": [
    {
     "data": {
      "text/html": [
       "<div>\n",
       "<style scoped>\n",
       "    .dataframe tbody tr th:only-of-type {\n",
       "        vertical-align: middle;\n",
       "    }\n",
       "\n",
       "    .dataframe tbody tr th {\n",
       "        vertical-align: top;\n",
       "    }\n",
       "\n",
       "    .dataframe thead th {\n",
       "        text-align: right;\n",
       "    }\n",
       "</style>\n",
       "<table border=\"1\" class=\"dataframe\">\n",
       "  <thead>\n",
       "    <tr style=\"text-align: right;\">\n",
       "      <th></th>\n",
       "      <th>família</th>\n",
       "      <th>closeness simulado</th>\n",
       "      <th>closeness analítico</th>\n",
       "      <th>betweenness simulado</th>\n",
       "      <th>betweenness analítico</th>\n",
       "    </tr>\n",
       "  </thead>\n",
       "  <tbody>\n",
       "    <tr>\n",
       "      <th>0</th>\n",
       "      <td>ginori</td>\n",
       "      <td>0.333333</td>\n",
       "      <td>0.333333</td>\n",
       "      <td>0.000000</td>\n",
       "      <td>0.000000</td>\n",
       "    </tr>\n",
       "    <tr>\n",
       "      <th>1</th>\n",
       "      <td>lambertes</td>\n",
       "      <td>0.325581</td>\n",
       "      <td>0.325581</td>\n",
       "      <td>0.000000</td>\n",
       "      <td>0.000000</td>\n",
       "    </tr>\n",
       "    <tr>\n",
       "      <th>2</th>\n",
       "      <td>albizzi</td>\n",
       "      <td>0.482759</td>\n",
       "      <td>0.482759</td>\n",
       "      <td>0.210791</td>\n",
       "      <td>0.212454</td>\n",
       "    </tr>\n",
       "    <tr>\n",
       "      <th>3</th>\n",
       "      <td>guadagni</td>\n",
       "      <td>0.466667</td>\n",
       "      <td>0.466667</td>\n",
       "      <td>0.256170</td>\n",
       "      <td>0.260073</td>\n",
       "    </tr>\n",
       "    <tr>\n",
       "      <th>4</th>\n",
       "      <td>pazzi</td>\n",
       "      <td>0.285714</td>\n",
       "      <td>0.285714</td>\n",
       "      <td>0.000000</td>\n",
       "      <td>0.000000</td>\n",
       "    </tr>\n",
       "    <tr>\n",
       "      <th>5</th>\n",
       "      <td>salviati</td>\n",
       "      <td>0.388889</td>\n",
       "      <td>0.388889</td>\n",
       "      <td>0.142857</td>\n",
       "      <td>0.142857</td>\n",
       "    </tr>\n",
       "    <tr>\n",
       "      <th>6</th>\n",
       "      <td>medici</td>\n",
       "      <td>0.560000</td>\n",
       "      <td>0.560000</td>\n",
       "      <td>0.522022</td>\n",
       "      <td>0.521978</td>\n",
       "    </tr>\n",
       "    <tr>\n",
       "      <th>7</th>\n",
       "      <td>tornabuon</td>\n",
       "      <td>0.482759</td>\n",
       "      <td>0.482759</td>\n",
       "      <td>0.089286</td>\n",
       "      <td>0.091575</td>\n",
       "    </tr>\n",
       "    <tr>\n",
       "      <th>8</th>\n",
       "      <td>bischeri</td>\n",
       "      <td>0.400000</td>\n",
       "      <td>0.400000</td>\n",
       "      <td>0.120797</td>\n",
       "      <td>0.120879</td>\n",
       "    </tr>\n",
       "    <tr>\n",
       "      <th>9</th>\n",
       "      <td>ridolfi</td>\n",
       "      <td>0.482759</td>\n",
       "      <td>0.482759</td>\n",
       "      <td>0.089940</td>\n",
       "      <td>0.086081</td>\n",
       "    </tr>\n",
       "    <tr>\n",
       "      <th>10</th>\n",
       "      <td>acciaiuol</td>\n",
       "      <td>0.368421</td>\n",
       "      <td>0.368421</td>\n",
       "      <td>0.000000</td>\n",
       "      <td>0.000000</td>\n",
       "    </tr>\n",
       "    <tr>\n",
       "      <th>11</th>\n",
       "      <td>strozzi</td>\n",
       "      <td>0.424242</td>\n",
       "      <td>0.424242</td>\n",
       "      <td>0.079055</td>\n",
       "      <td>0.075092</td>\n",
       "    </tr>\n",
       "    <tr>\n",
       "      <th>12</th>\n",
       "      <td>peruzzi</td>\n",
       "      <td>0.350000</td>\n",
       "      <td>0.350000</td>\n",
       "      <td>0.021874</td>\n",
       "      <td>0.021978</td>\n",
       "    </tr>\n",
       "    <tr>\n",
       "      <th>13</th>\n",
       "      <td>barbadori</td>\n",
       "      <td>0.437500</td>\n",
       "      <td>0.437500</td>\n",
       "      <td>0.115478</td>\n",
       "      <td>0.115385</td>\n",
       "    </tr>\n",
       "    <tr>\n",
       "      <th>14</th>\n",
       "      <td>castellan</td>\n",
       "      <td>0.388889</td>\n",
       "      <td>0.388889</td>\n",
       "      <td>0.087995</td>\n",
       "      <td>0.087912</td>\n",
       "    </tr>\n",
       "  </tbody>\n",
       "</table>\n",
       "</div>"
      ],
      "text/plain": [
       "      família  closeness simulado  closeness analítico  betweenness simulado  \\\n",
       "0      ginori            0.333333             0.333333              0.000000   \n",
       "1   lambertes            0.325581             0.325581              0.000000   \n",
       "2     albizzi            0.482759             0.482759              0.210791   \n",
       "3    guadagni            0.466667             0.466667              0.256170   \n",
       "4       pazzi            0.285714             0.285714              0.000000   \n",
       "5    salviati            0.388889             0.388889              0.142857   \n",
       "6      medici            0.560000             0.560000              0.522022   \n",
       "7   tornabuon            0.482759             0.482759              0.089286   \n",
       "8    bischeri            0.400000             0.400000              0.120797   \n",
       "9     ridolfi            0.482759             0.482759              0.089940   \n",
       "10  acciaiuol            0.368421             0.368421              0.000000   \n",
       "11    strozzi            0.424242             0.424242              0.079055   \n",
       "12    peruzzi            0.350000             0.350000              0.021874   \n",
       "13  barbadori            0.437500             0.437500              0.115478   \n",
       "14  castellan            0.388889             0.388889              0.087995   \n",
       "\n",
       "    betweenness analítico  \n",
       "0                0.000000  \n",
       "1                0.000000  \n",
       "2                0.212454  \n",
       "3                0.260073  \n",
       "4                0.000000  \n",
       "5                0.142857  \n",
       "6                0.521978  \n",
       "7                0.091575  \n",
       "8                0.120879  \n",
       "9                0.086081  \n",
       "10               0.000000  \n",
       "11               0.075092  \n",
       "12               0.021978  \n",
       "13               0.115385  \n",
       "14               0.087912  "
      ]
     },
     "execution_count": 11,
     "metadata": {},
     "output_type": "execute_result"
    }
   ],
   "source": [
    "pd.DataFrame({\n",
    "    'família': [g.nodes[n]['label'] for n in g.nodes],\n",
    "    'closeness simulado': [g.nodes[n]['mean_closeness'] for n in g.nodes],\n",
    "    'closeness analítico': [cc[n] for n in g.nodes],\n",
    "    'betweenness simulado': [g.nodes[n]['mean_betweenness'] for n in g.nodes],\n",
    "    'betweenness analítico': [bc[n] for n in g.nodes],\n",
    "})"
   ]
  },
  {
   "cell_type": "markdown",
   "metadata": {},
   "source": [
    "E agora, vamos pensar um pouco...\n",
    "\n",
    "* Onde você precisa mudar o código para usar uma *trajetória* que não seja a *geodésica*? (caminho, trilha, passeio)\n",
    "\n",
    "* Onde você precisa mudar o código para usar uma *difusão* que não seja a *transferência*? (duplicação)\n",
    "\n",
    "Considere então a seguinte **hipótese**:\n",
    "\n",
    ">Quando consideramos outros tipos de trajetória e outros tipos de difusão, os nós com maior *closeness simulado* e *betweenness simulado* não são necessariamente os nós com maior *closeness* e *betweenness* segundo as fórmulas clássicas. (que correspondem ao uso de geodésica e transferência na simulação)\n",
    "\n",
    "Queremos:\n",
    "\n",
    "1. Operacionalização e teste dessas hipótese. (Objetivo 3)\n",
    "2. Interpretação dos resultados na linguagem de Análise de Redes Sociais (Objetivo 4)\n",
    "\n",
    "Um *feedback* da atividade sobre *coreness no Jazz* será dado em breve, para vocês terem uma melhor referência do item 2."
   ]
  }
 ],
 "metadata": {
  "kernelspec": {
   "display_name": "Python 3",
   "language": "python",
   "name": "python3"
  },
  "language_info": {
   "codemirror_mode": {
    "name": "ipython",
    "version": 3
   },
   "file_extension": ".py",
   "mimetype": "text/x-python",
   "name": "python",
   "nbconvert_exporter": "python",
   "pygments_lexer": "ipython3",
   "version": "3.6.5"
  }
 },
 "nbformat": 4,
 "nbformat_minor": 1
}
