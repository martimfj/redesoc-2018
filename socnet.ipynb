{
 "cells": [
  {
   "cell_type": "markdown",
   "metadata": {},
   "source": [
    "# Desafios de Programação: Guia 8\n",
    "\n",
    "Formalmente, um **grafo** é um par $(N, E)$, onde $N$ é um conjunto qualquer e $E$ é um conjunto de pares ordenados de elementos de $N$, ou seja,\n",
    "\n",
    "$$E \\subseteq \\{(n, m) \\colon n \\in N \\textrm{ e } m \\in N\\}$$.\n",
    "\n",
    "Entendeu? Provavelmente não, então vamos tentar uma definição mais informal: um grafo contém elementos, chamados **nós**, e cada par desses elementos pode ou não ter uma conexão. Essas conexões, chamadas **arestas**, possuem direção: a aresta de $n$ para $m$ e a aresta de $m$ para $n$ são consideradas diferentes.\n",
    "\n",
    "Entendeu agora? Provavelmente ainda não... Mesmo sendo mais informal, essa descrição em texto é muito abstrata!"
   ]
  },
  {
   "cell_type": "markdown",
   "metadata": {},
   "source": [
    "## Instalando as dependências\n",
    "\n",
    "Precisamos de uma descrição mais visual, mas para isso precisamos antes instalar algumas dependências.\n",
    "\n",
    "    pip install networkx plotly\n",
    "\n",
    "Em algumas distribuições Linux você deve usar o comando `pip3`, pois o comando `pip` está associado a Python 2 por padrão."
   ]
  },
  {
   "cell_type": "markdown",
   "metadata": {},
   "source": [
    "## Importando a biblioteca\n",
    "\n",
    "Confirme que o arquivo `socnet.py` e este notebook estão na mesma pasta."
   ]
  },
  {
   "cell_type": "code",
   "execution_count": 1,
   "metadata": {},
   "outputs": [
    {
     "data": {
      "text/html": [
       "<script>requirejs.config({paths: { 'plotly': ['https://cdn.plot.ly/plotly-latest.min']},});if(!window.Plotly) {{require(['plotly'],function(plotly) {window.Plotly=plotly;});}}</script>"
      ],
      "text/vnd.plotly.v1+html": [
       "<script>requirejs.config({paths: { 'plotly': ['https://cdn.plot.ly/plotly-latest.min']},});if(!window.Plotly) {{require(['plotly'],function(plotly) {window.Plotly=plotly;});}}</script>"
      ]
     },
     "metadata": {},
     "output_type": "display_data"
    }
   ],
   "source": [
    "import socnet as sn"
   ]
  },
  {
   "cell_type": "markdown",
   "metadata": {},
   "source": [
    "## Configurando a biblioteca\n",
    "\n",
    "Por enquanto, mantenha os valores padrão. Você pode mudar depois."
   ]
  },
  {
   "cell_type": "code",
   "execution_count": 2,
   "metadata": {},
   "outputs": [],
   "source": [
    "sn.graph_width = 320\n",
    "sn.graph_height = 180\n",
    "\n",
    "sn.node_size = 20\n",
    "sn.node_color = (255, 255, 255)\n",
    "\n",
    "sn.edge_width = 1\n",
    "sn.edge_color = (0, 0, 0)"
   ]
  },
  {
   "cell_type": "markdown",
   "metadata": {},
   "source": [
    "## Carregando um grafo\n",
    "\n",
    "O arquivo `socnet.gml` está no [formato GML](http://www.fim.uni-passau.de/fileadmin/files/lehrstuhl/brandenburg/projekte/gml/gml-technical-report.pdf).\n",
    "\n",
    "O parâmetro `has_pos=True` indica que o próprio arquivo diz em qual posição cada nó deve estar na visualização. Se isso não fosse verdade, a biblioteca atribuiria posições aleatórias."
   ]
  },
  {
   "cell_type": "code",
   "execution_count": 3,
   "metadata": {},
   "outputs": [],
   "source": [
    "g = sn.load_graph('socnet.gml', has_pos=True)"
   ]
  },
  {
   "cell_type": "markdown",
   "metadata": {},
   "source": [
    "## Visualizando um grafo"
   ]
  },
  {
   "cell_type": "code",
   "execution_count": 4,
   "metadata": {},
   "outputs": [
    {
     "data": {
      "application/vnd.plotly.v1+json": {
       "data": [
        {
         "hoverinfo": "none",
         "line": {
          "color": "rgb(0, 0, 0)",
          "width": 1
         },
         "mode": "lines",
         "type": "scatter",
         "uid": "1b4c1ee4-997e-11e8-b468-9a5fd3dcadb7",
         "x": [
          0,
          0.33,
          null,
          0.3003062713421305,
          0.2855225877733855,
          null,
          0.3003062713421305,
          0.2629725579755741,
          null,
          0,
          0.33,
          null,
          0.3003062713421305,
          0.2629725579755741,
          null,
          0.3003062713421305,
          0.2855225877733855,
          null,
          0.33,
          0.66,
          null,
          0.6221212121212122,
          0.5888794484132436,
          null,
          0.6221212121212122,
          0.5888794484132436,
          null,
          0.66,
          1,
          null,
          0.9621212121212122,
          0.9288794484132434,
          null,
          0.9621212121212122,
          0.9288794484132434,
          null,
          0.66,
          0.33,
          null,
          0.35022071942550836,
          0.3526100389194443,
          null,
          0.35022071942550836,
          0.3833221014449805,
          null,
          1,
          0.66,
          null,
          0.6806532023433265,
          0.6835549327328607,
          null,
          0.6806532023433265,
          0.7140012524011855,
          null,
          0.33,
          0.66,
          null,
          0.6221212121212122,
          0.5888794484132436,
          null,
          0.6221212121212122,
          0.5888794484132436,
          null,
          0.66,
          1,
          null,
          0.9621212121212122,
          0.9288794484132434,
          null,
          0.9621212121212122,
          0.9288794484132434,
          null
         ],
         "y": [
          0.5,
          1,
          null,
          0.9550095020335311,
          0.8882926689752846,
          null,
          0.9550095020335311,
          0.9427605821595028,
          null,
          0.5,
          0,
          null,
          0.04499049796646893,
          0.0572394178404972,
          null,
          0.04499049796646893,
          0.11170733102471547,
          null,
          1,
          1,
          null,
          1,
          0.9652590189417244,
          null,
          1,
          1.0347409810582755,
          null,
          1,
          1,
          null,
          1,
          0.9652590189417244,
          null,
          1,
          1.0347409810582755,
          null,
          1,
          0,
          null,
          0.06127490735002531,
          0.13359437096827784,
          null,
          0.06127490735002531,
          0.09650302407543368,
          null,
          1,
          0,
          null,
          0.06074471277448944,
          0.13299554373343975,
          null,
          0.06074471277448944,
          0.09511088313140172,
          null,
          0,
          0,
          null,
          0,
          -0.034740981058275576,
          null,
          0,
          0.034740981058275576,
          null,
          0,
          0,
          null,
          0,
          -0.034740981058275576,
          null,
          0,
          0.034740981058275576,
          null
         ]
        },
        {
         "hoverinfo": "none",
         "marker": {
          "color": "rgb(255, 255, 255)",
          "line": {
           "color": "rgb(0, 0, 0)",
           "width": 1
          },
          "size": 20
         },
         "mode": "markers+text",
         "text": [],
         "textfont": {
          "color": "rgb(0, 0, 0)"
         },
         "textposition": "middle center",
         "type": "scatter",
         "uid": "1b4c1ee5-997e-11e8-b3f2-9a5fd3dcadb7",
         "x": [
          0,
          0.33,
          0.66,
          1,
          0.33,
          0.66,
          1
         ],
         "y": [
          0.5,
          1,
          1,
          1,
          0,
          0,
          0
         ]
        }
       ],
       "layout": {
        "height": 180,
        "margin": {
         "b": 0,
         "l": 0,
         "r": 0,
         "t": 0
        },
        "showlegend": false,
        "width": 320,
        "xaxis": {
         "showgrid": false,
         "showticklabels": false,
         "zeroline": false
        },
        "yaxis": {
         "showgrid": false,
         "showticklabels": false,
         "zeroline": false
        }
       }
      },
      "text/html": [
       "<div id=\"2c53e83f-3fbf-4423-aa96-58f9323bba3b\" style=\"height: 180px; width: 320px;\" class=\"plotly-graph-div\"></div><script type=\"text/javascript\">require([\"plotly\"], function(Plotly) { window.PLOTLYENV=window.PLOTLYENV || {};window.PLOTLYENV.BASE_URL=\"https://plot.ly\";Plotly.newPlot(\"2c53e83f-3fbf-4423-aa96-58f9323bba3b\", [{\"hoverinfo\": \"none\", \"line\": {\"color\": \"rgb(0, 0, 0)\", \"width\": 1}, \"mode\": \"lines\", \"x\": [0.0, 0.33, null, 0.3003062713421305, 0.2855225877733855, null, 0.3003062713421305, 0.2629725579755741, null, 0.0, 0.33, null, 0.3003062713421305, 0.2629725579755741, null, 0.3003062713421305, 0.2855225877733855, null, 0.33, 0.66, null, 0.6221212121212122, 0.5888794484132436, null, 0.6221212121212122, 0.5888794484132436, null, 0.66, 1.0, null, 0.9621212121212122, 0.9288794484132434, null, 0.9621212121212122, 0.9288794484132434, null, 0.66, 0.33, null, 0.35022071942550836, 0.3526100389194443, null, 0.35022071942550836, 0.3833221014449805, null, 1.0, 0.66, null, 0.6806532023433265, 0.6835549327328607, null, 0.6806532023433265, 0.7140012524011855, null, 0.33, 0.66, null, 0.6221212121212122, 0.5888794484132436, null, 0.6221212121212122, 0.5888794484132436, null, 0.66, 1.0, null, 0.9621212121212122, 0.9288794484132434, null, 0.9621212121212122, 0.9288794484132434, null], \"y\": [0.5, 1.0, null, 0.9550095020335311, 0.8882926689752846, null, 0.9550095020335311, 0.9427605821595028, null, 0.5, 0.0, null, 0.04499049796646893, 0.0572394178404972, null, 0.04499049796646893, 0.11170733102471547, null, 1.0, 1.0, null, 1.0, 0.9652590189417244, null, 1.0, 1.0347409810582755, null, 1.0, 1.0, null, 1.0, 0.9652590189417244, null, 1.0, 1.0347409810582755, null, 1.0, 0.0, null, 0.06127490735002531, 0.13359437096827784, null, 0.06127490735002531, 0.09650302407543368, null, 1.0, 0.0, null, 0.06074471277448944, 0.13299554373343975, null, 0.06074471277448944, 0.09511088313140172, null, 0.0, 0.0, null, 0.0, -0.034740981058275576, null, 0.0, 0.034740981058275576, null, 0.0, 0.0, null, 0.0, -0.034740981058275576, null, 0.0, 0.034740981058275576, null], \"type\": \"scatter\", \"uid\": \"1eeaaf80-997e-11e8-8d18-9a5fd3dcadb7\"}, {\"hoverinfo\": \"none\", \"marker\": {\"color\": \"rgb(255, 255, 255)\", \"line\": {\"color\": \"rgb(0, 0, 0)\", \"width\": 1}, \"size\": 20}, \"mode\": \"markers+text\", \"text\": [], \"textfont\": {\"color\": \"rgb(0, 0, 0)\"}, \"textposition\": \"middle center\", \"x\": [0.0, 0.33, 0.66, 1.0, 0.33, 0.66, 1.0], \"y\": [0.5, 1.0, 1.0, 1.0, 0.0, 0.0, 0.0], \"type\": \"scatter\", \"uid\": \"1eeaaf81-997e-11e8-9061-9a5fd3dcadb7\"}], {\"height\": 180, \"margin\": {\"b\": 0, \"l\": 0, \"r\": 0, \"t\": 0}, \"showlegend\": false, \"width\": 320, \"xaxis\": {\"showgrid\": false, \"showticklabels\": false, \"zeroline\": false}, \"yaxis\": {\"showgrid\": false, \"showticklabels\": false, \"zeroline\": false}}, {\"showLink\": false, \"linkText\": \"Export to plot.ly\", \"displayModeBar\": false})});</script>"
      ],
      "text/vnd.plotly.v1+html": [
       "<div id=\"2c53e83f-3fbf-4423-aa96-58f9323bba3b\" style=\"height: 180px; width: 320px;\" class=\"plotly-graph-div\"></div><script type=\"text/javascript\">require([\"plotly\"], function(Plotly) { window.PLOTLYENV=window.PLOTLYENV || {};window.PLOTLYENV.BASE_URL=\"https://plot.ly\";Plotly.newPlot(\"2c53e83f-3fbf-4423-aa96-58f9323bba3b\", [{\"hoverinfo\": \"none\", \"line\": {\"color\": \"rgb(0, 0, 0)\", \"width\": 1}, \"mode\": \"lines\", \"x\": [0.0, 0.33, null, 0.3003062713421305, 0.2855225877733855, null, 0.3003062713421305, 0.2629725579755741, null, 0.0, 0.33, null, 0.3003062713421305, 0.2629725579755741, null, 0.3003062713421305, 0.2855225877733855, null, 0.33, 0.66, null, 0.6221212121212122, 0.5888794484132436, null, 0.6221212121212122, 0.5888794484132436, null, 0.66, 1.0, null, 0.9621212121212122, 0.9288794484132434, null, 0.9621212121212122, 0.9288794484132434, null, 0.66, 0.33, null, 0.35022071942550836, 0.3526100389194443, null, 0.35022071942550836, 0.3833221014449805, null, 1.0, 0.66, null, 0.6806532023433265, 0.6835549327328607, null, 0.6806532023433265, 0.7140012524011855, null, 0.33, 0.66, null, 0.6221212121212122, 0.5888794484132436, null, 0.6221212121212122, 0.5888794484132436, null, 0.66, 1.0, null, 0.9621212121212122, 0.9288794484132434, null, 0.9621212121212122, 0.9288794484132434, null], \"y\": [0.5, 1.0, null, 0.9550095020335311, 0.8882926689752846, null, 0.9550095020335311, 0.9427605821595028, null, 0.5, 0.0, null, 0.04499049796646893, 0.0572394178404972, null, 0.04499049796646893, 0.11170733102471547, null, 1.0, 1.0, null, 1.0, 0.9652590189417244, null, 1.0, 1.0347409810582755, null, 1.0, 1.0, null, 1.0, 0.9652590189417244, null, 1.0, 1.0347409810582755, null, 1.0, 0.0, null, 0.06127490735002531, 0.13359437096827784, null, 0.06127490735002531, 0.09650302407543368, null, 1.0, 0.0, null, 0.06074471277448944, 0.13299554373343975, null, 0.06074471277448944, 0.09511088313140172, null, 0.0, 0.0, null, 0.0, -0.034740981058275576, null, 0.0, 0.034740981058275576, null, 0.0, 0.0, null, 0.0, -0.034740981058275576, null, 0.0, 0.034740981058275576, null], \"type\": \"scatter\", \"uid\": \"1eeaaf80-997e-11e8-8d18-9a5fd3dcadb7\"}, {\"hoverinfo\": \"none\", \"marker\": {\"color\": \"rgb(255, 255, 255)\", \"line\": {\"color\": \"rgb(0, 0, 0)\", \"width\": 1}, \"size\": 20}, \"mode\": \"markers+text\", \"text\": [], \"textfont\": {\"color\": \"rgb(0, 0, 0)\"}, \"textposition\": \"middle center\", \"x\": [0.0, 0.33, 0.66, 1.0, 0.33, 0.66, 1.0], \"y\": [0.5, 1.0, 1.0, 1.0, 0.0, 0.0, 0.0], \"type\": \"scatter\", \"uid\": \"1eeaaf81-997e-11e8-9061-9a5fd3dcadb7\"}], {\"height\": 180, \"margin\": {\"b\": 0, \"l\": 0, \"r\": 0, \"t\": 0}, \"showlegend\": false, \"width\": 320, \"xaxis\": {\"showgrid\": false, \"showticklabels\": false, \"zeroline\": false}, \"yaxis\": {\"showgrid\": false, \"showticklabels\": false, \"zeroline\": false}}, {\"showLink\": false, \"linkText\": \"Export to plot.ly\", \"displayModeBar\": false})});</script>"
      ]
     },
     "metadata": {},
     "output_type": "display_data"
    }
   ],
   "source": [
    "sn.show_graph(g)"
   ]
  },
  {
   "cell_type": "markdown",
   "metadata": {},
   "source": [
    "Pronto, isso é um grafo! Bolinhas e setas que ligam essas bolinhas.\n",
    "\n",
    "Releia as definições anteriores e confirme que estávamos falando disso o tempo todo!"
   ]
  },
  {
   "cell_type": "markdown",
   "metadata": {},
   "source": [
    "## Usando outras funcionalidades da biblioteca\n",
    "\n",
    "O grafo `g` tem $7$ nós:"
   ]
  },
  {
   "cell_type": "code",
   "execution_count": 5,
   "metadata": {},
   "outputs": [
    {
     "name": "stdout",
     "output_type": "stream",
     "text": [
      "7\n"
     ]
    }
   ],
   "source": [
    "print(g.number_of_nodes())"
   ]
  },
  {
   "cell_type": "markdown",
   "metadata": {},
   "source": [
    "Fiel à definição formal, a biblioteca aceita que nós possam ser qualquer coisa. Nesse grafo em particular, são os inteiros de $0$ a $6$."
   ]
  },
  {
   "cell_type": "code",
   "execution_count": 6,
   "metadata": {},
   "outputs": [
    {
     "name": "stdout",
     "output_type": "stream",
     "text": [
      "0\n",
      "1\n",
      "2\n",
      "3\n",
      "4\n",
      "5\n",
      "6\n"
     ]
    }
   ],
   "source": [
    "for n in g.nodes:\n",
    "    print(n)"
   ]
  },
  {
   "cell_type": "markdown",
   "metadata": {},
   "source": [
    "Usando uma sintaxe especial de colchetes, podemos ler e escrever atributos em nós."
   ]
  },
  {
   "cell_type": "code",
   "execution_count": 7,
   "metadata": {},
   "outputs": [
    {
     "name": "stdout",
     "output_type": "stream",
     "text": [
      "(255, 0, 0)\n"
     ]
    }
   ],
   "source": [
    "# atribui ao atributo chamado 'color' do nó 0 o valor (255, 0, 0)\n",
    "g.nodes[0]['color'] = (255, 0, 0)\n",
    "\n",
    "# imprime o atributo chamado 'color' do nó 0\n",
    "print(g.nodes[0]['color'])"
   ]
  },
  {
   "cell_type": "markdown",
   "metadata": {},
   "source": [
    "Usando outra sintaxe especial de colchetes, podemos ler e escrever atributos em arestas."
   ]
  },
  {
   "cell_type": "code",
   "execution_count": 8,
   "metadata": {},
   "outputs": [
    {
     "name": "stdout",
     "output_type": "stream",
     "text": [
      "(0, 0, 255)\n"
     ]
    }
   ],
   "source": [
    "# atribui ao atributo chamado 'color' da aresta (0, 1) o valor (0, 0, 255)\n",
    "g.edges[0, 1]['color'] = (0, 0, 255)\n",
    "\n",
    "# imprime o atributo chamado 'color' da aresta (0, 1)\n",
    "print(g.edges[0, 1]['color'])"
   ]
  },
  {
   "cell_type": "markdown",
   "metadata": {},
   "source": [
    "Se adicionamos um atributo `label` a cada nó e adicionamos o parâmetro `nlab=True` à função `show_graph`, podemos incluir nomes na visualização.\n",
    "\n",
    "Além disso, o atributo `color`, tanto em nós quanto em arestas, é usado na visualização."
   ]
  },
  {
   "cell_type": "code",
   "execution_count": 9,
   "metadata": {},
   "outputs": [
    {
     "data": {
      "application/vnd.plotly.v1+json": {
       "data": [
        {
         "hoverinfo": "none",
         "line": {
          "color": "rgb(0, 0, 255)",
          "width": 1
         },
         "mode": "lines",
         "type": "scatter",
         "uid": "1f176976-997e-11e8-8cb2-9a5fd3dcadb7",
         "x": [
          0,
          0.33,
          null,
          0.3003062713421305,
          0.2855225877733855,
          null,
          0.3003062713421305,
          0.2629725579755741,
          null
         ],
         "y": [
          0.5,
          1,
          null,
          0.9550095020335311,
          0.8882926689752846,
          null,
          0.9550095020335311,
          0.9427605821595028,
          null
         ]
        },
        {
         "hoverinfo": "none",
         "line": {
          "color": "rgb(0, 0, 0)",
          "width": 1
         },
         "mode": "lines",
         "type": "scatter",
         "uid": "1f17909c-997e-11e8-9103-9a5fd3dcadb7",
         "x": [
          0,
          0.33,
          null,
          0.3003062713421305,
          0.2629725579755741,
          null,
          0.3003062713421305,
          0.2855225877733855,
          null,
          0.33,
          0.66,
          null,
          0.6221212121212122,
          0.5888794484132436,
          null,
          0.6221212121212122,
          0.5888794484132436,
          null,
          0.66,
          1,
          null,
          0.9621212121212122,
          0.9288794484132434,
          null,
          0.9621212121212122,
          0.9288794484132434,
          null,
          0.66,
          0.33,
          null,
          0.35022071942550836,
          0.3526100389194443,
          null,
          0.35022071942550836,
          0.3833221014449805,
          null,
          1,
          0.66,
          null,
          0.6806532023433265,
          0.6835549327328607,
          null,
          0.6806532023433265,
          0.7140012524011855,
          null,
          0.33,
          0.66,
          null,
          0.6221212121212122,
          0.5888794484132436,
          null,
          0.6221212121212122,
          0.5888794484132436,
          null,
          0.66,
          1,
          null,
          0.9621212121212122,
          0.9288794484132434,
          null,
          0.9621212121212122,
          0.9288794484132434,
          null
         ],
         "y": [
          0.5,
          0,
          null,
          0.04499049796646893,
          0.0572394178404972,
          null,
          0.04499049796646893,
          0.11170733102471547,
          null,
          1,
          1,
          null,
          1,
          0.9652590189417244,
          null,
          1,
          1.0347409810582755,
          null,
          1,
          1,
          null,
          1,
          0.9652590189417244,
          null,
          1,
          1.0347409810582755,
          null,
          1,
          0,
          null,
          0.06127490735002531,
          0.13359437096827784,
          null,
          0.06127490735002531,
          0.09650302407543368,
          null,
          1,
          0,
          null,
          0.06074471277448944,
          0.13299554373343975,
          null,
          0.06074471277448944,
          0.09511088313140172,
          null,
          0,
          0,
          null,
          0,
          -0.034740981058275576,
          null,
          0,
          0.034740981058275576,
          null,
          0,
          0,
          null,
          0,
          -0.034740981058275576,
          null,
          0,
          0.034740981058275576,
          null
         ]
        },
        {
         "hoverinfo": "none",
         "marker": {
          "color": "rgb(255, 0, 0)",
          "line": {
           "color": "rgb(0, 0, 0)",
           "width": 1
          },
          "size": 20
         },
         "mode": "markers+text",
         "text": [
          "0"
         ],
         "textfont": {
          "color": "rgb(255, 255, 255)"
         },
         "textposition": "middle center",
         "type": "scatter",
         "uid": "1f17909d-997e-11e8-88e9-9a5fd3dcadb7",
         "x": [
          0
         ],
         "y": [
          0.5
         ]
        },
        {
         "hoverinfo": "none",
         "marker": {
          "color": "rgb(255, 255, 255)",
          "line": {
           "color": "rgb(0, 0, 0)",
           "width": 1
          },
          "size": 20
         },
         "mode": "markers+text",
         "text": [
          "1",
          "2",
          "3",
          "4",
          "5",
          "6"
         ],
         "textfont": {
          "color": "rgb(0, 0, 0)"
         },
         "textposition": "middle center",
         "type": "scatter",
         "uid": "1f17909e-997e-11e8-9be1-9a5fd3dcadb7",
         "x": [
          0.33,
          0.66,
          1,
          0.33,
          0.66,
          1
         ],
         "y": [
          1,
          1,
          1,
          0,
          0,
          0
         ]
        }
       ],
       "layout": {
        "height": 180,
        "margin": {
         "b": 0,
         "l": 0,
         "r": 0,
         "t": 0
        },
        "showlegend": false,
        "width": 320,
        "xaxis": {
         "showgrid": false,
         "showticklabels": false,
         "zeroline": false
        },
        "yaxis": {
         "showgrid": false,
         "showticklabels": false,
         "zeroline": false
        }
       }
      },
      "text/html": [
       "<div id=\"4b74601a-a43b-4aa1-8bc7-8ecb5f24bd62\" style=\"height: 180px; width: 320px;\" class=\"plotly-graph-div\"></div><script type=\"text/javascript\">require([\"plotly\"], function(Plotly) { window.PLOTLYENV=window.PLOTLYENV || {};window.PLOTLYENV.BASE_URL=\"https://plot.ly\";Plotly.newPlot(\"4b74601a-a43b-4aa1-8bc7-8ecb5f24bd62\", [{\"hoverinfo\": \"none\", \"line\": {\"color\": \"rgb(0, 0, 255)\", \"width\": 1}, \"mode\": \"lines\", \"x\": [0.0, 0.33, null, 0.3003062713421305, 0.2855225877733855, null, 0.3003062713421305, 0.2629725579755741, null], \"y\": [0.5, 1.0, null, 0.9550095020335311, 0.8882926689752846, null, 0.9550095020335311, 0.9427605821595028, null], \"type\": \"scatter\", \"uid\": \"1f22db88-997e-11e8-b04f-9a5fd3dcadb7\"}, {\"hoverinfo\": \"none\", \"line\": {\"color\": \"rgb(0, 0, 0)\", \"width\": 1}, \"mode\": \"lines\", \"x\": [0.0, 0.33, null, 0.3003062713421305, 0.2629725579755741, null, 0.3003062713421305, 0.2855225877733855, null, 0.33, 0.66, null, 0.6221212121212122, 0.5888794484132436, null, 0.6221212121212122, 0.5888794484132436, null, 0.66, 1.0, null, 0.9621212121212122, 0.9288794484132434, null, 0.9621212121212122, 0.9288794484132434, null, 0.66, 0.33, null, 0.35022071942550836, 0.3526100389194443, null, 0.35022071942550836, 0.3833221014449805, null, 1.0, 0.66, null, 0.6806532023433265, 0.6835549327328607, null, 0.6806532023433265, 0.7140012524011855, null, 0.33, 0.66, null, 0.6221212121212122, 0.5888794484132436, null, 0.6221212121212122, 0.5888794484132436, null, 0.66, 1.0, null, 0.9621212121212122, 0.9288794484132434, null, 0.9621212121212122, 0.9288794484132434, null], \"y\": [0.5, 0.0, null, 0.04499049796646893, 0.0572394178404972, null, 0.04499049796646893, 0.11170733102471547, null, 1.0, 1.0, null, 1.0, 0.9652590189417244, null, 1.0, 1.0347409810582755, null, 1.0, 1.0, null, 1.0, 0.9652590189417244, null, 1.0, 1.0347409810582755, null, 1.0, 0.0, null, 0.06127490735002531, 0.13359437096827784, null, 0.06127490735002531, 0.09650302407543368, null, 1.0, 0.0, null, 0.06074471277448944, 0.13299554373343975, null, 0.06074471277448944, 0.09511088313140172, null, 0.0, 0.0, null, 0.0, -0.034740981058275576, null, 0.0, 0.034740981058275576, null, 0.0, 0.0, null, 0.0, -0.034740981058275576, null, 0.0, 0.034740981058275576, null], \"type\": \"scatter\", \"uid\": \"1f22db89-997e-11e8-96e9-9a5fd3dcadb7\"}, {\"hoverinfo\": \"none\", \"marker\": {\"color\": \"rgb(255, 0, 0)\", \"line\": {\"color\": \"rgb(0, 0, 0)\", \"width\": 1}, \"size\": 20}, \"mode\": \"markers+text\", \"text\": [\"0\"], \"textfont\": {\"color\": \"rgb(255, 255, 255)\"}, \"textposition\": \"middle center\", \"x\": [0.0], \"y\": [0.5], \"type\": \"scatter\", \"uid\": \"1f22db8a-997e-11e8-a4de-9a5fd3dcadb7\"}, {\"hoverinfo\": \"none\", \"marker\": {\"color\": \"rgb(255, 255, 255)\", \"line\": {\"color\": \"rgb(0, 0, 0)\", \"width\": 1}, \"size\": 20}, \"mode\": \"markers+text\", \"text\": [\"1\", \"2\", \"3\", \"4\", \"5\", \"6\"], \"textfont\": {\"color\": \"rgb(0, 0, 0)\"}, \"textposition\": \"middle center\", \"x\": [0.33, 0.66, 1.0, 0.33, 0.66, 1.0], \"y\": [1.0, 1.0, 1.0, 0.0, 0.0, 0.0], \"type\": \"scatter\", \"uid\": \"1f22db8b-997e-11e8-b1a9-9a5fd3dcadb7\"}], {\"height\": 180, \"margin\": {\"b\": 0, \"l\": 0, \"r\": 0, \"t\": 0}, \"showlegend\": false, \"width\": 320, \"xaxis\": {\"showgrid\": false, \"showticklabels\": false, \"zeroline\": false}, \"yaxis\": {\"showgrid\": false, \"showticklabels\": false, \"zeroline\": false}}, {\"showLink\": false, \"linkText\": \"Export to plot.ly\", \"displayModeBar\": false})});</script>"
      ],
      "text/vnd.plotly.v1+html": [
       "<div id=\"4b74601a-a43b-4aa1-8bc7-8ecb5f24bd62\" style=\"height: 180px; width: 320px;\" class=\"plotly-graph-div\"></div><script type=\"text/javascript\">require([\"plotly\"], function(Plotly) { window.PLOTLYENV=window.PLOTLYENV || {};window.PLOTLYENV.BASE_URL=\"https://plot.ly\";Plotly.newPlot(\"4b74601a-a43b-4aa1-8bc7-8ecb5f24bd62\", [{\"hoverinfo\": \"none\", \"line\": {\"color\": \"rgb(0, 0, 255)\", \"width\": 1}, \"mode\": \"lines\", \"x\": [0.0, 0.33, null, 0.3003062713421305, 0.2855225877733855, null, 0.3003062713421305, 0.2629725579755741, null], \"y\": [0.5, 1.0, null, 0.9550095020335311, 0.8882926689752846, null, 0.9550095020335311, 0.9427605821595028, null], \"type\": \"scatter\", \"uid\": \"1f22db88-997e-11e8-b04f-9a5fd3dcadb7\"}, {\"hoverinfo\": \"none\", \"line\": {\"color\": \"rgb(0, 0, 0)\", \"width\": 1}, \"mode\": \"lines\", \"x\": [0.0, 0.33, null, 0.3003062713421305, 0.2629725579755741, null, 0.3003062713421305, 0.2855225877733855, null, 0.33, 0.66, null, 0.6221212121212122, 0.5888794484132436, null, 0.6221212121212122, 0.5888794484132436, null, 0.66, 1.0, null, 0.9621212121212122, 0.9288794484132434, null, 0.9621212121212122, 0.9288794484132434, null, 0.66, 0.33, null, 0.35022071942550836, 0.3526100389194443, null, 0.35022071942550836, 0.3833221014449805, null, 1.0, 0.66, null, 0.6806532023433265, 0.6835549327328607, null, 0.6806532023433265, 0.7140012524011855, null, 0.33, 0.66, null, 0.6221212121212122, 0.5888794484132436, null, 0.6221212121212122, 0.5888794484132436, null, 0.66, 1.0, null, 0.9621212121212122, 0.9288794484132434, null, 0.9621212121212122, 0.9288794484132434, null], \"y\": [0.5, 0.0, null, 0.04499049796646893, 0.0572394178404972, null, 0.04499049796646893, 0.11170733102471547, null, 1.0, 1.0, null, 1.0, 0.9652590189417244, null, 1.0, 1.0347409810582755, null, 1.0, 1.0, null, 1.0, 0.9652590189417244, null, 1.0, 1.0347409810582755, null, 1.0, 0.0, null, 0.06127490735002531, 0.13359437096827784, null, 0.06127490735002531, 0.09650302407543368, null, 1.0, 0.0, null, 0.06074471277448944, 0.13299554373343975, null, 0.06074471277448944, 0.09511088313140172, null, 0.0, 0.0, null, 0.0, -0.034740981058275576, null, 0.0, 0.034740981058275576, null, 0.0, 0.0, null, 0.0, -0.034740981058275576, null, 0.0, 0.034740981058275576, null], \"type\": \"scatter\", \"uid\": \"1f22db89-997e-11e8-96e9-9a5fd3dcadb7\"}, {\"hoverinfo\": \"none\", \"marker\": {\"color\": \"rgb(255, 0, 0)\", \"line\": {\"color\": \"rgb(0, 0, 0)\", \"width\": 1}, \"size\": 20}, \"mode\": \"markers+text\", \"text\": [\"0\"], \"textfont\": {\"color\": \"rgb(255, 255, 255)\"}, \"textposition\": \"middle center\", \"x\": [0.0], \"y\": [0.5], \"type\": \"scatter\", \"uid\": \"1f22db8a-997e-11e8-a4de-9a5fd3dcadb7\"}, {\"hoverinfo\": \"none\", \"marker\": {\"color\": \"rgb(255, 255, 255)\", \"line\": {\"color\": \"rgb(0, 0, 0)\", \"width\": 1}, \"size\": 20}, \"mode\": \"markers+text\", \"text\": [\"1\", \"2\", \"3\", \"4\", \"5\", \"6\"], \"textfont\": {\"color\": \"rgb(0, 0, 0)\"}, \"textposition\": \"middle center\", \"x\": [0.33, 0.66, 1.0, 0.33, 0.66, 1.0], \"y\": [1.0, 1.0, 1.0, 0.0, 0.0, 0.0], \"type\": \"scatter\", \"uid\": \"1f22db8b-997e-11e8-b1a9-9a5fd3dcadb7\"}], {\"height\": 180, \"margin\": {\"b\": 0, \"l\": 0, \"r\": 0, \"t\": 0}, \"showlegend\": false, \"width\": 320, \"xaxis\": {\"showgrid\": false, \"showticklabels\": false, \"zeroline\": false}, \"yaxis\": {\"showgrid\": false, \"showticklabels\": false, \"zeroline\": false}}, {\"showLink\": false, \"linkText\": \"Export to plot.ly\", \"displayModeBar\": false})});</script>"
      ]
     },
     "metadata": {},
     "output_type": "display_data"
    }
   ],
   "source": [
    "for n in g.nodes:\n",
    "    g.nodes[n]['label'] = str(n)\n",
    "\n",
    "sn.show_graph(g, nlab=True)"
   ]
  },
  {
   "cell_type": "markdown",
   "metadata": {},
   "source": [
    "Por causa disso, existem também funções de conveniência para reinicializar esse atributo."
   ]
  },
  {
   "cell_type": "code",
   "execution_count": 10,
   "metadata": {},
   "outputs": [
    {
     "data": {
      "application/vnd.plotly.v1+json": {
       "data": [
        {
         "hoverinfo": "none",
         "line": {
          "color": "rgb(0, 0, 0)",
          "width": 1
         },
         "mode": "lines",
         "type": "scatter",
         "uid": "1f2dffc6-997e-11e8-acb0-9a5fd3dcadb7",
         "x": [
          0,
          0.33,
          null,
          0.3003062713421305,
          0.2855225877733855,
          null,
          0.3003062713421305,
          0.2629725579755741,
          null,
          0,
          0.33,
          null,
          0.3003062713421305,
          0.2629725579755741,
          null,
          0.3003062713421305,
          0.2855225877733855,
          null,
          0.33,
          0.66,
          null,
          0.6221212121212122,
          0.5888794484132436,
          null,
          0.6221212121212122,
          0.5888794484132436,
          null,
          0.66,
          1,
          null,
          0.9621212121212122,
          0.9288794484132434,
          null,
          0.9621212121212122,
          0.9288794484132434,
          null,
          0.66,
          0.33,
          null,
          0.35022071942550836,
          0.3526100389194443,
          null,
          0.35022071942550836,
          0.3833221014449805,
          null,
          1,
          0.66,
          null,
          0.6806532023433265,
          0.6835549327328607,
          null,
          0.6806532023433265,
          0.7140012524011855,
          null,
          0.33,
          0.66,
          null,
          0.6221212121212122,
          0.5888794484132436,
          null,
          0.6221212121212122,
          0.5888794484132436,
          null,
          0.66,
          1,
          null,
          0.9621212121212122,
          0.9288794484132434,
          null,
          0.9621212121212122,
          0.9288794484132434,
          null
         ],
         "y": [
          0.5,
          1,
          null,
          0.9550095020335311,
          0.8882926689752846,
          null,
          0.9550095020335311,
          0.9427605821595028,
          null,
          0.5,
          0,
          null,
          0.04499049796646893,
          0.0572394178404972,
          null,
          0.04499049796646893,
          0.11170733102471547,
          null,
          1,
          1,
          null,
          1,
          0.9652590189417244,
          null,
          1,
          1.0347409810582755,
          null,
          1,
          1,
          null,
          1,
          0.9652590189417244,
          null,
          1,
          1.0347409810582755,
          null,
          1,
          0,
          null,
          0.06127490735002531,
          0.13359437096827784,
          null,
          0.06127490735002531,
          0.09650302407543368,
          null,
          1,
          0,
          null,
          0.06074471277448944,
          0.13299554373343975,
          null,
          0.06074471277448944,
          0.09511088313140172,
          null,
          0,
          0,
          null,
          0,
          -0.034740981058275576,
          null,
          0,
          0.034740981058275576,
          null,
          0,
          0,
          null,
          0,
          -0.034740981058275576,
          null,
          0,
          0.034740981058275576,
          null
         ]
        },
        {
         "hoverinfo": "none",
         "marker": {
          "color": "rgb(255, 255, 255)",
          "line": {
           "color": "rgb(0, 0, 0)",
           "width": 1
          },
          "size": 20
         },
         "mode": "markers+text",
         "text": [
          "0",
          "1",
          "2",
          "3",
          "4",
          "5",
          "6"
         ],
         "textfont": {
          "color": "rgb(0, 0, 0)"
         },
         "textposition": "middle center",
         "type": "scatter",
         "uid": "1f2dffc7-997e-11e8-9472-9a5fd3dcadb7",
         "x": [
          0,
          0.33,
          0.66,
          1,
          0.33,
          0.66,
          1
         ],
         "y": [
          0.5,
          1,
          1,
          1,
          0,
          0,
          0
         ]
        }
       ],
       "layout": {
        "height": 180,
        "margin": {
         "b": 0,
         "l": 0,
         "r": 0,
         "t": 0
        },
        "showlegend": false,
        "width": 320,
        "xaxis": {
         "showgrid": false,
         "showticklabels": false,
         "zeroline": false
        },
        "yaxis": {
         "showgrid": false,
         "showticklabels": false,
         "zeroline": false
        }
       }
      },
      "text/html": [
       "<div id=\"c3d4915d-cc3a-4632-831b-59e66e7dcbc5\" style=\"height: 180px; width: 320px;\" class=\"plotly-graph-div\"></div><script type=\"text/javascript\">require([\"plotly\"], function(Plotly) { window.PLOTLYENV=window.PLOTLYENV || {};window.PLOTLYENV.BASE_URL=\"https://plot.ly\";Plotly.newPlot(\"c3d4915d-cc3a-4632-831b-59e66e7dcbc5\", [{\"hoverinfo\": \"none\", \"line\": {\"color\": \"rgb(0, 0, 0)\", \"width\": 1}, \"mode\": \"lines\", \"x\": [0.0, 0.33, null, 0.3003062713421305, 0.2855225877733855, null, 0.3003062713421305, 0.2629725579755741, null, 0.0, 0.33, null, 0.3003062713421305, 0.2629725579755741, null, 0.3003062713421305, 0.2855225877733855, null, 0.33, 0.66, null, 0.6221212121212122, 0.5888794484132436, null, 0.6221212121212122, 0.5888794484132436, null, 0.66, 1.0, null, 0.9621212121212122, 0.9288794484132434, null, 0.9621212121212122, 0.9288794484132434, null, 0.66, 0.33, null, 0.35022071942550836, 0.3526100389194443, null, 0.35022071942550836, 0.3833221014449805, null, 1.0, 0.66, null, 0.6806532023433265, 0.6835549327328607, null, 0.6806532023433265, 0.7140012524011855, null, 0.33, 0.66, null, 0.6221212121212122, 0.5888794484132436, null, 0.6221212121212122, 0.5888794484132436, null, 0.66, 1.0, null, 0.9621212121212122, 0.9288794484132434, null, 0.9621212121212122, 0.9288794484132434, null], \"y\": [0.5, 1.0, null, 0.9550095020335311, 0.8882926689752846, null, 0.9550095020335311, 0.9427605821595028, null, 0.5, 0.0, null, 0.04499049796646893, 0.0572394178404972, null, 0.04499049796646893, 0.11170733102471547, null, 1.0, 1.0, null, 1.0, 0.9652590189417244, null, 1.0, 1.0347409810582755, null, 1.0, 1.0, null, 1.0, 0.9652590189417244, null, 1.0, 1.0347409810582755, null, 1.0, 0.0, null, 0.06127490735002531, 0.13359437096827784, null, 0.06127490735002531, 0.09650302407543368, null, 1.0, 0.0, null, 0.06074471277448944, 0.13299554373343975, null, 0.06074471277448944, 0.09511088313140172, null, 0.0, 0.0, null, 0.0, -0.034740981058275576, null, 0.0, 0.034740981058275576, null, 0.0, 0.0, null, 0.0, -0.034740981058275576, null, 0.0, 0.034740981058275576, null], \"type\": \"scatter\", \"uid\": \"1f3a8510-997e-11e8-93cd-9a5fd3dcadb7\"}, {\"hoverinfo\": \"none\", \"marker\": {\"color\": \"rgb(255, 255, 255)\", \"line\": {\"color\": \"rgb(0, 0, 0)\", \"width\": 1}, \"size\": 20}, \"mode\": \"markers+text\", \"text\": [\"0\", \"1\", \"2\", \"3\", \"4\", \"5\", \"6\"], \"textfont\": {\"color\": \"rgb(0, 0, 0)\"}, \"textposition\": \"middle center\", \"x\": [0.0, 0.33, 0.66, 1.0, 0.33, 0.66, 1.0], \"y\": [0.5, 1.0, 1.0, 1.0, 0.0, 0.0, 0.0], \"type\": \"scatter\", \"uid\": \"1f3a8511-997e-11e8-90cf-9a5fd3dcadb7\"}], {\"height\": 180, \"margin\": {\"b\": 0, \"l\": 0, \"r\": 0, \"t\": 0}, \"showlegend\": false, \"width\": 320, \"xaxis\": {\"showgrid\": false, \"showticklabels\": false, \"zeroline\": false}, \"yaxis\": {\"showgrid\": false, \"showticklabels\": false, \"zeroline\": false}}, {\"showLink\": false, \"linkText\": \"Export to plot.ly\", \"displayModeBar\": false})});</script>"
      ],
      "text/vnd.plotly.v1+html": [
       "<div id=\"c3d4915d-cc3a-4632-831b-59e66e7dcbc5\" style=\"height: 180px; width: 320px;\" class=\"plotly-graph-div\"></div><script type=\"text/javascript\">require([\"plotly\"], function(Plotly) { window.PLOTLYENV=window.PLOTLYENV || {};window.PLOTLYENV.BASE_URL=\"https://plot.ly\";Plotly.newPlot(\"c3d4915d-cc3a-4632-831b-59e66e7dcbc5\", [{\"hoverinfo\": \"none\", \"line\": {\"color\": \"rgb(0, 0, 0)\", \"width\": 1}, \"mode\": \"lines\", \"x\": [0.0, 0.33, null, 0.3003062713421305, 0.2855225877733855, null, 0.3003062713421305, 0.2629725579755741, null, 0.0, 0.33, null, 0.3003062713421305, 0.2629725579755741, null, 0.3003062713421305, 0.2855225877733855, null, 0.33, 0.66, null, 0.6221212121212122, 0.5888794484132436, null, 0.6221212121212122, 0.5888794484132436, null, 0.66, 1.0, null, 0.9621212121212122, 0.9288794484132434, null, 0.9621212121212122, 0.9288794484132434, null, 0.66, 0.33, null, 0.35022071942550836, 0.3526100389194443, null, 0.35022071942550836, 0.3833221014449805, null, 1.0, 0.66, null, 0.6806532023433265, 0.6835549327328607, null, 0.6806532023433265, 0.7140012524011855, null, 0.33, 0.66, null, 0.6221212121212122, 0.5888794484132436, null, 0.6221212121212122, 0.5888794484132436, null, 0.66, 1.0, null, 0.9621212121212122, 0.9288794484132434, null, 0.9621212121212122, 0.9288794484132434, null], \"y\": [0.5, 1.0, null, 0.9550095020335311, 0.8882926689752846, null, 0.9550095020335311, 0.9427605821595028, null, 0.5, 0.0, null, 0.04499049796646893, 0.0572394178404972, null, 0.04499049796646893, 0.11170733102471547, null, 1.0, 1.0, null, 1.0, 0.9652590189417244, null, 1.0, 1.0347409810582755, null, 1.0, 1.0, null, 1.0, 0.9652590189417244, null, 1.0, 1.0347409810582755, null, 1.0, 0.0, null, 0.06127490735002531, 0.13359437096827784, null, 0.06127490735002531, 0.09650302407543368, null, 1.0, 0.0, null, 0.06074471277448944, 0.13299554373343975, null, 0.06074471277448944, 0.09511088313140172, null, 0.0, 0.0, null, 0.0, -0.034740981058275576, null, 0.0, 0.034740981058275576, null, 0.0, 0.0, null, 0.0, -0.034740981058275576, null, 0.0, 0.034740981058275576, null], \"type\": \"scatter\", \"uid\": \"1f3a8510-997e-11e8-93cd-9a5fd3dcadb7\"}, {\"hoverinfo\": \"none\", \"marker\": {\"color\": \"rgb(255, 255, 255)\", \"line\": {\"color\": \"rgb(0, 0, 0)\", \"width\": 1}, \"size\": 20}, \"mode\": \"markers+text\", \"text\": [\"0\", \"1\", \"2\", \"3\", \"4\", \"5\", \"6\"], \"textfont\": {\"color\": \"rgb(0, 0, 0)\"}, \"textposition\": \"middle center\", \"x\": [0.0, 0.33, 0.66, 1.0, 0.33, 0.66, 1.0], \"y\": [0.5, 1.0, 1.0, 1.0, 0.0, 0.0, 0.0], \"type\": \"scatter\", \"uid\": \"1f3a8511-997e-11e8-90cf-9a5fd3dcadb7\"}], {\"height\": 180, \"margin\": {\"b\": 0, \"l\": 0, \"r\": 0, \"t\": 0}, \"showlegend\": false, \"width\": 320, \"xaxis\": {\"showgrid\": false, \"showticklabels\": false, \"zeroline\": false}, \"yaxis\": {\"showgrid\": false, \"showticklabels\": false, \"zeroline\": false}}, {\"showLink\": false, \"linkText\": \"Export to plot.ly\", \"displayModeBar\": false})});</script>"
      ]
     },
     "metadata": {},
     "output_type": "display_data"
    }
   ],
   "source": [
    "sn.reset_node_colors(g)\n",
    "sn.reset_edge_colors(g)\n",
    "\n",
    "sn.show_graph(g, nlab=True)"
   ]
  },
  {
   "cell_type": "markdown",
   "metadata": {},
   "source": [
    "Dado um nó $n$, dizemos que outro nó $m$ é seu **sucessor** se existe uma aresta de $n$ a $m$."
   ]
  },
  {
   "cell_type": "code",
   "execution_count": 11,
   "metadata": {},
   "outputs": [
    {
     "name": "stdout",
     "output_type": "stream",
     "text": [
      "sucessores de 0: 1, 4\n",
      "sucessores de 1: 2\n",
      "sucessores de 2: 3, 4\n",
      "sucessores de 3: 5\n",
      "sucessores de 4: 5\n",
      "sucessores de 5: 6\n",
      "sucessores de 6: \n"
     ]
    }
   ],
   "source": [
    "for n in g.nodes:\n",
    "    print('sucessores de {}:'.format(n), ', '.join([str(m) for m in g.successors(n)]))"
   ]
  },
  {
   "cell_type": "markdown",
   "metadata": {},
   "source": [
    "Dado um nó $n$, dizemos que outro nó $m$ é seu **predecessor** se existe uma aresta de $m$ a $n$."
   ]
  },
  {
   "cell_type": "code",
   "execution_count": 12,
   "metadata": {},
   "outputs": [
    {
     "name": "stdout",
     "output_type": "stream",
     "text": [
      "predecessores de 0: \n",
      "predecessores de 1: 0\n",
      "predecessores de 2: 1\n",
      "predecessores de 3: 2\n",
      "predecessores de 4: 0, 2\n",
      "predecessores de 5: 3, 4\n",
      "predecessores de 6: 5\n"
     ]
    }
   ],
   "source": [
    "for n in g.nodes:\n",
    "    print('predecessores de {}:'.format(n), ', '.join([str(m) for m in g.predecessors(n)]))"
   ]
  },
  {
   "cell_type": "markdown",
   "metadata": {},
   "source": [
    "## Visualizando um algoritmo\n",
    "\n",
    "A função `generate_frame` é parecida com a função `show_graph` mas, em vez de mostrar uma imagem estática, gera um *quadro* que pode ser usado para montar uma *animação*: basta usar a função `show_animation` para animar uma lista de quadros."
   ]
  },
  {
   "cell_type": "code",
   "execution_count": 13,
   "metadata": {},
   "outputs": [
    {
     "data": {
      "application/vnd.plotly.v1+json": {
       "data": [
        {
         "hoverinfo": "none",
         "line": {
          "color": "rgb(0, 0, 0)",
          "width": 1
         },
         "mode": "lines",
         "type": "scatter",
         "uid": "1f5f4488-997e-11e8-a43d-9a5fd3dcadb7",
         "x": [
          0,
          0.33,
          null,
          0.3003062713421305,
          0.2855225877733855,
          null,
          0.3003062713421305,
          0.2629725579755741,
          null
         ],
         "y": [
          0.5,
          1,
          null,
          0.9550095020335311,
          0.8882926689752846,
          null,
          0.9550095020335311,
          0.9427605821595028,
          null
         ]
        },
        {
         "hoverinfo": "none",
         "line": {
          "color": "rgb(0, 0, 0)",
          "width": 1
         },
         "mode": "lines",
         "type": "scatter",
         "uid": "1f5f4489-997e-11e8-95e4-9a5fd3dcadb7",
         "x": [
          0,
          0.33,
          null,
          0.3003062713421305,
          0.2629725579755741,
          null,
          0.3003062713421305,
          0.2855225877733855,
          null
         ],
         "y": [
          0.5,
          0,
          null,
          0.04499049796646893,
          0.0572394178404972,
          null,
          0.04499049796646893,
          0.11170733102471547,
          null
         ]
        },
        {
         "hoverinfo": "none",
         "line": {
          "color": "rgb(0, 0, 0)",
          "width": 1
         },
         "mode": "lines",
         "type": "scatter",
         "uid": "1f5f448a-997e-11e8-a28b-9a5fd3dcadb7",
         "x": [
          0.33,
          0.66,
          null,
          0.6221212121212122,
          0.5888794484132436,
          null,
          0.6221212121212122,
          0.5888794484132436,
          null
         ],
         "y": [
          1,
          1,
          null,
          1,
          0.9652590189417244,
          null,
          1,
          1.0347409810582755,
          null
         ]
        },
        {
         "hoverinfo": "none",
         "line": {
          "color": "rgb(0, 0, 0)",
          "width": 1
         },
         "mode": "lines",
         "type": "scatter",
         "uid": "1f5f448b-997e-11e8-a436-9a5fd3dcadb7",
         "x": [
          0.66,
          1,
          null,
          0.9621212121212122,
          0.9288794484132434,
          null,
          0.9621212121212122,
          0.9288794484132434,
          null
         ],
         "y": [
          1,
          1,
          null,
          1,
          0.9652590189417244,
          null,
          1,
          1.0347409810582755,
          null
         ]
        },
        {
         "hoverinfo": "none",
         "line": {
          "color": "rgb(0, 0, 0)",
          "width": 1
         },
         "mode": "lines",
         "type": "scatter",
         "uid": "1f5f448c-997e-11e8-b338-9a5fd3dcadb7",
         "x": [
          0.66,
          0.33,
          null,
          0.35022071942550836,
          0.3526100389194443,
          null,
          0.35022071942550836,
          0.3833221014449805,
          null
         ],
         "y": [
          1,
          0,
          null,
          0.06127490735002531,
          0.13359437096827784,
          null,
          0.06127490735002531,
          0.09650302407543368,
          null
         ]
        },
        {
         "hoverinfo": "none",
         "line": {
          "color": "rgb(0, 0, 0)",
          "width": 1
         },
         "mode": "lines",
         "type": "scatter",
         "uid": "1f5f448d-997e-11e8-849c-9a5fd3dcadb7",
         "x": [
          1,
          0.66,
          null,
          0.6806532023433265,
          0.6835549327328607,
          null,
          0.6806532023433265,
          0.7140012524011855,
          null
         ],
         "y": [
          1,
          0,
          null,
          0.06074471277448944,
          0.13299554373343975,
          null,
          0.06074471277448944,
          0.09511088313140172,
          null
         ]
        },
        {
         "hoverinfo": "none",
         "line": {
          "color": "rgb(0, 0, 0)",
          "width": 1
         },
         "mode": "lines",
         "type": "scatter",
         "uid": "1f5f448e-997e-11e8-81ee-9a5fd3dcadb7",
         "x": [
          0.33,
          0.66,
          null,
          0.6221212121212122,
          0.5888794484132436,
          null,
          0.6221212121212122,
          0.5888794484132436,
          null
         ],
         "y": [
          0,
          0,
          null,
          0,
          -0.034740981058275576,
          null,
          0,
          0.034740981058275576,
          null
         ]
        },
        {
         "hoverinfo": "none",
         "line": {
          "color": "rgb(0, 0, 0)",
          "width": 1
         },
         "mode": "lines",
         "type": "scatter",
         "uid": "1f5f448f-997e-11e8-9ab1-9a5fd3dcadb7",
         "x": [
          0.66,
          1,
          null,
          0.9621212121212122,
          0.9288794484132434,
          null,
          0.9621212121212122,
          0.9288794484132434,
          null
         ],
         "y": [
          0,
          0,
          null,
          0,
          -0.034740981058275576,
          null,
          0,
          0.034740981058275576,
          null
         ]
        },
        {
         "hoverinfo": "none",
         "marker": {
          "color": "rgb(0, 255, 0)",
          "line": {
           "color": "rgb(0, 0, 0)",
           "width": 1
          },
          "size": 20
         },
         "mode": "markers+text",
         "text": [
          "0"
         ],
         "textfont": {
          "color": "rgb(0, 0, 0)"
         },
         "textposition": "middle center",
         "type": "scatter",
         "uid": "1f5f6ba6-997e-11e8-99e1-9a5fd3dcadb7",
         "x": [
          0
         ],
         "y": [
          0.5
         ]
        },
        {
         "hoverinfo": "none",
         "marker": {
          "color": "rgb(255, 255, 255)",
          "line": {
           "color": "rgb(0, 0, 0)",
           "width": 1
          },
          "size": 20
         },
         "mode": "markers+text",
         "text": [
          "1"
         ],
         "textfont": {
          "color": "rgb(0, 0, 0)"
         },
         "textposition": "middle center",
         "type": "scatter",
         "uid": "1f5f6ba7-997e-11e8-a3ec-9a5fd3dcadb7",
         "x": [
          0.33
         ],
         "y": [
          1
         ]
        },
        {
         "hoverinfo": "none",
         "marker": {
          "color": "rgb(255, 255, 255)",
          "line": {
           "color": "rgb(0, 0, 0)",
           "width": 1
          },
          "size": 20
         },
         "mode": "markers+text",
         "text": [
          "2"
         ],
         "textfont": {
          "color": "rgb(0, 0, 0)"
         },
         "textposition": "middle center",
         "type": "scatter",
         "uid": "1f5f6ba8-997e-11e8-bb9a-9a5fd3dcadb7",
         "x": [
          0.66
         ],
         "y": [
          1
         ]
        },
        {
         "hoverinfo": "none",
         "marker": {
          "color": "rgb(255, 255, 255)",
          "line": {
           "color": "rgb(0, 0, 0)",
           "width": 1
          },
          "size": 20
         },
         "mode": "markers+text",
         "text": [
          "3"
         ],
         "textfont": {
          "color": "rgb(0, 0, 0)"
         },
         "textposition": "middle center",
         "type": "scatter",
         "uid": "1f5f6ba9-997e-11e8-bd94-9a5fd3dcadb7",
         "x": [
          1
         ],
         "y": [
          1
         ]
        },
        {
         "hoverinfo": "none",
         "marker": {
          "color": "rgb(255, 255, 255)",
          "line": {
           "color": "rgb(0, 0, 0)",
           "width": 1
          },
          "size": 20
         },
         "mode": "markers+text",
         "text": [
          "4"
         ],
         "textfont": {
          "color": "rgb(0, 0, 0)"
         },
         "textposition": "middle center",
         "type": "scatter",
         "uid": "1f5f6baa-997e-11e8-8736-9a5fd3dcadb7",
         "x": [
          0.33
         ],
         "y": [
          0
         ]
        },
        {
         "hoverinfo": "none",
         "marker": {
          "color": "rgb(255, 255, 255)",
          "line": {
           "color": "rgb(0, 0, 0)",
           "width": 1
          },
          "size": 20
         },
         "mode": "markers+text",
         "text": [
          "5"
         ],
         "textfont": {
          "color": "rgb(0, 0, 0)"
         },
         "textposition": "middle center",
         "type": "scatter",
         "uid": "1f5f6bab-997e-11e8-868f-9a5fd3dcadb7",
         "x": [
          0.66
         ],
         "y": [
          0
         ]
        },
        {
         "hoverinfo": "none",
         "marker": {
          "color": "rgb(255, 255, 255)",
          "line": {
           "color": "rgb(0, 0, 0)",
           "width": 1
          },
          "size": 20
         },
         "mode": "markers+text",
         "text": [
          "6"
         ],
         "textfont": {
          "color": "rgb(0, 0, 0)"
         },
         "textposition": "middle center",
         "type": "scatter",
         "uid": "1f5f6bac-997e-11e8-be13-9a5fd3dcadb7",
         "x": [
          1
         ],
         "y": [
          0
         ]
        }
       ],
       "frames": [
        {
         "data": [
          {
           "hoverinfo": "none",
           "line": {
            "color": "rgb(0, 0, 0)",
            "width": 1
           },
           "mode": "lines",
           "type": "scatter",
           "x": [
            0,
            0.33,
            null,
            0.3003062713421305,
            0.2855225877733855,
            null,
            0.3003062713421305,
            0.2629725579755741,
            null
           ],
           "y": [
            0.5,
            1,
            null,
            0.9550095020335311,
            0.8882926689752846,
            null,
            0.9550095020335311,
            0.9427605821595028,
            null
           ]
          },
          {
           "hoverinfo": "none",
           "line": {
            "color": "rgb(0, 0, 0)",
            "width": 1
           },
           "mode": "lines",
           "type": "scatter",
           "x": [
            0,
            0.33,
            null,
            0.3003062713421305,
            0.2629725579755741,
            null,
            0.3003062713421305,
            0.2855225877733855,
            null
           ],
           "y": [
            0.5,
            0,
            null,
            0.04499049796646893,
            0.0572394178404972,
            null,
            0.04499049796646893,
            0.11170733102471547,
            null
           ]
          },
          {
           "hoverinfo": "none",
           "line": {
            "color": "rgb(0, 0, 0)",
            "width": 1
           },
           "mode": "lines",
           "type": "scatter",
           "x": [
            0.33,
            0.66,
            null,
            0.6221212121212122,
            0.5888794484132436,
            null,
            0.6221212121212122,
            0.5888794484132436,
            null
           ],
           "y": [
            1,
            1,
            null,
            1,
            0.9652590189417244,
            null,
            1,
            1.0347409810582755,
            null
           ]
          },
          {
           "hoverinfo": "none",
           "line": {
            "color": "rgb(0, 0, 0)",
            "width": 1
           },
           "mode": "lines",
           "type": "scatter",
           "x": [
            0.66,
            1,
            null,
            0.9621212121212122,
            0.9288794484132434,
            null,
            0.9621212121212122,
            0.9288794484132434,
            null
           ],
           "y": [
            1,
            1,
            null,
            1,
            0.9652590189417244,
            null,
            1,
            1.0347409810582755,
            null
           ]
          },
          {
           "hoverinfo": "none",
           "line": {
            "color": "rgb(0, 0, 0)",
            "width": 1
           },
           "mode": "lines",
           "type": "scatter",
           "x": [
            0.66,
            0.33,
            null,
            0.35022071942550836,
            0.3526100389194443,
            null,
            0.35022071942550836,
            0.3833221014449805,
            null
           ],
           "y": [
            1,
            0,
            null,
            0.06127490735002531,
            0.13359437096827784,
            null,
            0.06127490735002531,
            0.09650302407543368,
            null
           ]
          },
          {
           "hoverinfo": "none",
           "line": {
            "color": "rgb(0, 0, 0)",
            "width": 1
           },
           "mode": "lines",
           "type": "scatter",
           "x": [
            1,
            0.66,
            null,
            0.6806532023433265,
            0.6835549327328607,
            null,
            0.6806532023433265,
            0.7140012524011855,
            null
           ],
           "y": [
            1,
            0,
            null,
            0.06074471277448944,
            0.13299554373343975,
            null,
            0.06074471277448944,
            0.09511088313140172,
            null
           ]
          },
          {
           "hoverinfo": "none",
           "line": {
            "color": "rgb(0, 0, 0)",
            "width": 1
           },
           "mode": "lines",
           "type": "scatter",
           "x": [
            0.33,
            0.66,
            null,
            0.6221212121212122,
            0.5888794484132436,
            null,
            0.6221212121212122,
            0.5888794484132436,
            null
           ],
           "y": [
            0,
            0,
            null,
            0,
            -0.034740981058275576,
            null,
            0,
            0.034740981058275576,
            null
           ]
          },
          {
           "hoverinfo": "none",
           "line": {
            "color": "rgb(0, 0, 0)",
            "width": 1
           },
           "mode": "lines",
           "type": "scatter",
           "x": [
            0.66,
            1,
            null,
            0.9621212121212122,
            0.9288794484132434,
            null,
            0.9621212121212122,
            0.9288794484132434,
            null
           ],
           "y": [
            0,
            0,
            null,
            0,
            -0.034740981058275576,
            null,
            0,
            0.034740981058275576,
            null
           ]
          },
          {
           "hoverinfo": "none",
           "marker": {
            "color": "rgb(0, 255, 0)",
            "line": {
             "color": "rgb(0, 0, 0)",
             "width": 1
            },
            "size": 20
           },
           "mode": "markers+text",
           "text": [
            "0"
           ],
           "textfont": {
            "color": "rgb(0, 0, 0)"
           },
           "textposition": "middle center",
           "type": "scatter",
           "x": [
            0
           ],
           "y": [
            0.5
           ]
          },
          {
           "hoverinfo": "none",
           "marker": {
            "color": "rgb(255, 255, 255)",
            "line": {
             "color": "rgb(0, 0, 0)",
             "width": 1
            },
            "size": 20
           },
           "mode": "markers+text",
           "text": [
            "1"
           ],
           "textfont": {
            "color": "rgb(0, 0, 0)"
           },
           "textposition": "middle center",
           "type": "scatter",
           "x": [
            0.33
           ],
           "y": [
            1
           ]
          },
          {
           "hoverinfo": "none",
           "marker": {
            "color": "rgb(255, 255, 255)",
            "line": {
             "color": "rgb(0, 0, 0)",
             "width": 1
            },
            "size": 20
           },
           "mode": "markers+text",
           "text": [
            "2"
           ],
           "textfont": {
            "color": "rgb(0, 0, 0)"
           },
           "textposition": "middle center",
           "type": "scatter",
           "x": [
            0.66
           ],
           "y": [
            1
           ]
          },
          {
           "hoverinfo": "none",
           "marker": {
            "color": "rgb(255, 255, 255)",
            "line": {
             "color": "rgb(0, 0, 0)",
             "width": 1
            },
            "size": 20
           },
           "mode": "markers+text",
           "text": [
            "3"
           ],
           "textfont": {
            "color": "rgb(0, 0, 0)"
           },
           "textposition": "middle center",
           "type": "scatter",
           "x": [
            1
           ],
           "y": [
            1
           ]
          },
          {
           "hoverinfo": "none",
           "marker": {
            "color": "rgb(255, 255, 255)",
            "line": {
             "color": "rgb(0, 0, 0)",
             "width": 1
            },
            "size": 20
           },
           "mode": "markers+text",
           "text": [
            "4"
           ],
           "textfont": {
            "color": "rgb(0, 0, 0)"
           },
           "textposition": "middle center",
           "type": "scatter",
           "x": [
            0.33
           ],
           "y": [
            0
           ]
          },
          {
           "hoverinfo": "none",
           "marker": {
            "color": "rgb(255, 255, 255)",
            "line": {
             "color": "rgb(0, 0, 0)",
             "width": 1
            },
            "size": 20
           },
           "mode": "markers+text",
           "text": [
            "5"
           ],
           "textfont": {
            "color": "rgb(0, 0, 0)"
           },
           "textposition": "middle center",
           "type": "scatter",
           "x": [
            0.66
           ],
           "y": [
            0
           ]
          },
          {
           "hoverinfo": "none",
           "marker": {
            "color": "rgb(255, 255, 255)",
            "line": {
             "color": "rgb(0, 0, 0)",
             "width": 1
            },
            "size": 20
           },
           "mode": "markers+text",
           "text": [
            "6"
           ],
           "textfont": {
            "color": "rgb(0, 0, 0)"
           },
           "textposition": "middle center",
           "type": "scatter",
           "x": [
            1
           ],
           "y": [
            0
           ]
          }
         ],
         "name": "0"
        },
        {
         "data": [
          {
           "hoverinfo": "none",
           "line": {
            "color": "rgb(0, 0, 0)",
            "width": 1
           },
           "mode": "lines",
           "type": "scatter",
           "x": [
            0,
            0.33,
            null,
            0.3003062713421305,
            0.2855225877733855,
            null,
            0.3003062713421305,
            0.2629725579755741,
            null
           ],
           "y": [
            0.5,
            1,
            null,
            0.9550095020335311,
            0.8882926689752846,
            null,
            0.9550095020335311,
            0.9427605821595028,
            null
           ]
          },
          {
           "hoverinfo": "none",
           "line": {
            "color": "rgb(0, 0, 0)",
            "width": 1
           },
           "mode": "lines",
           "type": "scatter",
           "x": [
            0,
            0.33,
            null,
            0.3003062713421305,
            0.2629725579755741,
            null,
            0.3003062713421305,
            0.2855225877733855,
            null
           ],
           "y": [
            0.5,
            0,
            null,
            0.04499049796646893,
            0.0572394178404972,
            null,
            0.04499049796646893,
            0.11170733102471547,
            null
           ]
          },
          {
           "hoverinfo": "none",
           "line": {
            "color": "rgb(0, 0, 0)",
            "width": 1
           },
           "mode": "lines",
           "type": "scatter",
           "x": [
            0.33,
            0.66,
            null,
            0.6221212121212122,
            0.5888794484132436,
            null,
            0.6221212121212122,
            0.5888794484132436,
            null
           ],
           "y": [
            1,
            1,
            null,
            1,
            0.9652590189417244,
            null,
            1,
            1.0347409810582755,
            null
           ]
          },
          {
           "hoverinfo": "none",
           "line": {
            "color": "rgb(0, 0, 0)",
            "width": 1
           },
           "mode": "lines",
           "type": "scatter",
           "x": [
            0.66,
            1,
            null,
            0.9621212121212122,
            0.9288794484132434,
            null,
            0.9621212121212122,
            0.9288794484132434,
            null
           ],
           "y": [
            1,
            1,
            null,
            1,
            0.9652590189417244,
            null,
            1,
            1.0347409810582755,
            null
           ]
          },
          {
           "hoverinfo": "none",
           "line": {
            "color": "rgb(0, 0, 0)",
            "width": 1
           },
           "mode": "lines",
           "type": "scatter",
           "x": [
            0.66,
            0.33,
            null,
            0.35022071942550836,
            0.3526100389194443,
            null,
            0.35022071942550836,
            0.3833221014449805,
            null
           ],
           "y": [
            1,
            0,
            null,
            0.06127490735002531,
            0.13359437096827784,
            null,
            0.06127490735002531,
            0.09650302407543368,
            null
           ]
          },
          {
           "hoverinfo": "none",
           "line": {
            "color": "rgb(0, 0, 0)",
            "width": 1
           },
           "mode": "lines",
           "type": "scatter",
           "x": [
            1,
            0.66,
            null,
            0.6806532023433265,
            0.6835549327328607,
            null,
            0.6806532023433265,
            0.7140012524011855,
            null
           ],
           "y": [
            1,
            0,
            null,
            0.06074471277448944,
            0.13299554373343975,
            null,
            0.06074471277448944,
            0.09511088313140172,
            null
           ]
          },
          {
           "hoverinfo": "none",
           "line": {
            "color": "rgb(0, 0, 0)",
            "width": 1
           },
           "mode": "lines",
           "type": "scatter",
           "x": [
            0.33,
            0.66,
            null,
            0.6221212121212122,
            0.5888794484132436,
            null,
            0.6221212121212122,
            0.5888794484132436,
            null
           ],
           "y": [
            0,
            0,
            null,
            0,
            -0.034740981058275576,
            null,
            0,
            0.034740981058275576,
            null
           ]
          },
          {
           "hoverinfo": "none",
           "line": {
            "color": "rgb(0, 0, 0)",
            "width": 1
           },
           "mode": "lines",
           "type": "scatter",
           "x": [
            0.66,
            1,
            null,
            0.9621212121212122,
            0.9288794484132434,
            null,
            0.9621212121212122,
            0.9288794484132434,
            null
           ],
           "y": [
            0,
            0,
            null,
            0,
            -0.034740981058275576,
            null,
            0,
            0.034740981058275576,
            null
           ]
          },
          {
           "hoverinfo": "none",
           "marker": {
            "color": "rgb(0, 255, 0)",
            "line": {
             "color": "rgb(0, 0, 0)",
             "width": 1
            },
            "size": 20
           },
           "mode": "markers+text",
           "text": [
            "0"
           ],
           "textfont": {
            "color": "rgb(0, 0, 0)"
           },
           "textposition": "middle center",
           "type": "scatter",
           "x": [
            0
           ],
           "y": [
            0.5
           ]
          },
          {
           "hoverinfo": "none",
           "marker": {
            "color": "rgb(0, 255, 0)",
            "line": {
             "color": "rgb(0, 0, 0)",
             "width": 1
            },
            "size": 20
           },
           "mode": "markers+text",
           "text": [
            "1"
           ],
           "textfont": {
            "color": "rgb(0, 0, 0)"
           },
           "textposition": "middle center",
           "type": "scatter",
           "x": [
            0.33
           ],
           "y": [
            1
           ]
          },
          {
           "hoverinfo": "none",
           "marker": {
            "color": "rgb(255, 255, 255)",
            "line": {
             "color": "rgb(0, 0, 0)",
             "width": 1
            },
            "size": 20
           },
           "mode": "markers+text",
           "text": [
            "2"
           ],
           "textfont": {
            "color": "rgb(0, 0, 0)"
           },
           "textposition": "middle center",
           "type": "scatter",
           "x": [
            0.66
           ],
           "y": [
            1
           ]
          },
          {
           "hoverinfo": "none",
           "marker": {
            "color": "rgb(255, 255, 255)",
            "line": {
             "color": "rgb(0, 0, 0)",
             "width": 1
            },
            "size": 20
           },
           "mode": "markers+text",
           "text": [
            "3"
           ],
           "textfont": {
            "color": "rgb(0, 0, 0)"
           },
           "textposition": "middle center",
           "type": "scatter",
           "x": [
            1
           ],
           "y": [
            1
           ]
          },
          {
           "hoverinfo": "none",
           "marker": {
            "color": "rgb(255, 255, 255)",
            "line": {
             "color": "rgb(0, 0, 0)",
             "width": 1
            },
            "size": 20
           },
           "mode": "markers+text",
           "text": [
            "4"
           ],
           "textfont": {
            "color": "rgb(0, 0, 0)"
           },
           "textposition": "middle center",
           "type": "scatter",
           "x": [
            0.33
           ],
           "y": [
            0
           ]
          },
          {
           "hoverinfo": "none",
           "marker": {
            "color": "rgb(255, 255, 255)",
            "line": {
             "color": "rgb(0, 0, 0)",
             "width": 1
            },
            "size": 20
           },
           "mode": "markers+text",
           "text": [
            "5"
           ],
           "textfont": {
            "color": "rgb(0, 0, 0)"
           },
           "textposition": "middle center",
           "type": "scatter",
           "x": [
            0.66
           ],
           "y": [
            0
           ]
          },
          {
           "hoverinfo": "none",
           "marker": {
            "color": "rgb(255, 255, 255)",
            "line": {
             "color": "rgb(0, 0, 0)",
             "width": 1
            },
            "size": 20
           },
           "mode": "markers+text",
           "text": [
            "6"
           ],
           "textfont": {
            "color": "rgb(0, 0, 0)"
           },
           "textposition": "middle center",
           "type": "scatter",
           "x": [
            1
           ],
           "y": [
            0
           ]
          }
         ],
         "name": "1"
        },
        {
         "data": [
          {
           "hoverinfo": "none",
           "line": {
            "color": "rgb(0, 0, 0)",
            "width": 1
           },
           "mode": "lines",
           "type": "scatter",
           "x": [
            0,
            0.33,
            null,
            0.3003062713421305,
            0.2855225877733855,
            null,
            0.3003062713421305,
            0.2629725579755741,
            null
           ],
           "y": [
            0.5,
            1,
            null,
            0.9550095020335311,
            0.8882926689752846,
            null,
            0.9550095020335311,
            0.9427605821595028,
            null
           ]
          },
          {
           "hoverinfo": "none",
           "line": {
            "color": "rgb(0, 0, 0)",
            "width": 1
           },
           "mode": "lines",
           "type": "scatter",
           "x": [
            0,
            0.33,
            null,
            0.3003062713421305,
            0.2629725579755741,
            null,
            0.3003062713421305,
            0.2855225877733855,
            null
           ],
           "y": [
            0.5,
            0,
            null,
            0.04499049796646893,
            0.0572394178404972,
            null,
            0.04499049796646893,
            0.11170733102471547,
            null
           ]
          },
          {
           "hoverinfo": "none",
           "line": {
            "color": "rgb(0, 0, 0)",
            "width": 1
           },
           "mode": "lines",
           "type": "scatter",
           "x": [
            0.33,
            0.66,
            null,
            0.6221212121212122,
            0.5888794484132436,
            null,
            0.6221212121212122,
            0.5888794484132436,
            null
           ],
           "y": [
            1,
            1,
            null,
            1,
            0.9652590189417244,
            null,
            1,
            1.0347409810582755,
            null
           ]
          },
          {
           "hoverinfo": "none",
           "line": {
            "color": "rgb(0, 0, 0)",
            "width": 1
           },
           "mode": "lines",
           "type": "scatter",
           "x": [
            0.66,
            1,
            null,
            0.9621212121212122,
            0.9288794484132434,
            null,
            0.9621212121212122,
            0.9288794484132434,
            null
           ],
           "y": [
            1,
            1,
            null,
            1,
            0.9652590189417244,
            null,
            1,
            1.0347409810582755,
            null
           ]
          },
          {
           "hoverinfo": "none",
           "line": {
            "color": "rgb(0, 0, 0)",
            "width": 1
           },
           "mode": "lines",
           "type": "scatter",
           "x": [
            0.66,
            0.33,
            null,
            0.35022071942550836,
            0.3526100389194443,
            null,
            0.35022071942550836,
            0.3833221014449805,
            null
           ],
           "y": [
            1,
            0,
            null,
            0.06127490735002531,
            0.13359437096827784,
            null,
            0.06127490735002531,
            0.09650302407543368,
            null
           ]
          },
          {
           "hoverinfo": "none",
           "line": {
            "color": "rgb(0, 0, 0)",
            "width": 1
           },
           "mode": "lines",
           "type": "scatter",
           "x": [
            1,
            0.66,
            null,
            0.6806532023433265,
            0.6835549327328607,
            null,
            0.6806532023433265,
            0.7140012524011855,
            null
           ],
           "y": [
            1,
            0,
            null,
            0.06074471277448944,
            0.13299554373343975,
            null,
            0.06074471277448944,
            0.09511088313140172,
            null
           ]
          },
          {
           "hoverinfo": "none",
           "line": {
            "color": "rgb(0, 0, 0)",
            "width": 1
           },
           "mode": "lines",
           "type": "scatter",
           "x": [
            0.33,
            0.66,
            null,
            0.6221212121212122,
            0.5888794484132436,
            null,
            0.6221212121212122,
            0.5888794484132436,
            null
           ],
           "y": [
            0,
            0,
            null,
            0,
            -0.034740981058275576,
            null,
            0,
            0.034740981058275576,
            null
           ]
          },
          {
           "hoverinfo": "none",
           "line": {
            "color": "rgb(0, 0, 0)",
            "width": 1
           },
           "mode": "lines",
           "type": "scatter",
           "x": [
            0.66,
            1,
            null,
            0.9621212121212122,
            0.9288794484132434,
            null,
            0.9621212121212122,
            0.9288794484132434,
            null
           ],
           "y": [
            0,
            0,
            null,
            0,
            -0.034740981058275576,
            null,
            0,
            0.034740981058275576,
            null
           ]
          },
          {
           "hoverinfo": "none",
           "marker": {
            "color": "rgb(0, 255, 0)",
            "line": {
             "color": "rgb(0, 0, 0)",
             "width": 1
            },
            "size": 20
           },
           "mode": "markers+text",
           "text": [
            "0"
           ],
           "textfont": {
            "color": "rgb(0, 0, 0)"
           },
           "textposition": "middle center",
           "type": "scatter",
           "x": [
            0
           ],
           "y": [
            0.5
           ]
          },
          {
           "hoverinfo": "none",
           "marker": {
            "color": "rgb(0, 255, 0)",
            "line": {
             "color": "rgb(0, 0, 0)",
             "width": 1
            },
            "size": 20
           },
           "mode": "markers+text",
           "text": [
            "1"
           ],
           "textfont": {
            "color": "rgb(0, 0, 0)"
           },
           "textposition": "middle center",
           "type": "scatter",
           "x": [
            0.33
           ],
           "y": [
            1
           ]
          },
          {
           "hoverinfo": "none",
           "marker": {
            "color": "rgb(0, 255, 0)",
            "line": {
             "color": "rgb(0, 0, 0)",
             "width": 1
            },
            "size": 20
           },
           "mode": "markers+text",
           "text": [
            "2"
           ],
           "textfont": {
            "color": "rgb(0, 0, 0)"
           },
           "textposition": "middle center",
           "type": "scatter",
           "x": [
            0.66
           ],
           "y": [
            1
           ]
          },
          {
           "hoverinfo": "none",
           "marker": {
            "color": "rgb(255, 255, 255)",
            "line": {
             "color": "rgb(0, 0, 0)",
             "width": 1
            },
            "size": 20
           },
           "mode": "markers+text",
           "text": [
            "3"
           ],
           "textfont": {
            "color": "rgb(0, 0, 0)"
           },
           "textposition": "middle center",
           "type": "scatter",
           "x": [
            1
           ],
           "y": [
            1
           ]
          },
          {
           "hoverinfo": "none",
           "marker": {
            "color": "rgb(255, 255, 255)",
            "line": {
             "color": "rgb(0, 0, 0)",
             "width": 1
            },
            "size": 20
           },
           "mode": "markers+text",
           "text": [
            "4"
           ],
           "textfont": {
            "color": "rgb(0, 0, 0)"
           },
           "textposition": "middle center",
           "type": "scatter",
           "x": [
            0.33
           ],
           "y": [
            0
           ]
          },
          {
           "hoverinfo": "none",
           "marker": {
            "color": "rgb(255, 255, 255)",
            "line": {
             "color": "rgb(0, 0, 0)",
             "width": 1
            },
            "size": 20
           },
           "mode": "markers+text",
           "text": [
            "5"
           ],
           "textfont": {
            "color": "rgb(0, 0, 0)"
           },
           "textposition": "middle center",
           "type": "scatter",
           "x": [
            0.66
           ],
           "y": [
            0
           ]
          },
          {
           "hoverinfo": "none",
           "marker": {
            "color": "rgb(255, 255, 255)",
            "line": {
             "color": "rgb(0, 0, 0)",
             "width": 1
            },
            "size": 20
           },
           "mode": "markers+text",
           "text": [
            "6"
           ],
           "textfont": {
            "color": "rgb(0, 0, 0)"
           },
           "textposition": "middle center",
           "type": "scatter",
           "x": [
            1
           ],
           "y": [
            0
           ]
          }
         ],
         "name": "2"
        },
        {
         "data": [
          {
           "hoverinfo": "none",
           "line": {
            "color": "rgb(0, 0, 0)",
            "width": 1
           },
           "mode": "lines",
           "type": "scatter",
           "x": [
            0,
            0.33,
            null,
            0.3003062713421305,
            0.2855225877733855,
            null,
            0.3003062713421305,
            0.2629725579755741,
            null
           ],
           "y": [
            0.5,
            1,
            null,
            0.9550095020335311,
            0.8882926689752846,
            null,
            0.9550095020335311,
            0.9427605821595028,
            null
           ]
          },
          {
           "hoverinfo": "none",
           "line": {
            "color": "rgb(0, 0, 0)",
            "width": 1
           },
           "mode": "lines",
           "type": "scatter",
           "x": [
            0,
            0.33,
            null,
            0.3003062713421305,
            0.2629725579755741,
            null,
            0.3003062713421305,
            0.2855225877733855,
            null
           ],
           "y": [
            0.5,
            0,
            null,
            0.04499049796646893,
            0.0572394178404972,
            null,
            0.04499049796646893,
            0.11170733102471547,
            null
           ]
          },
          {
           "hoverinfo": "none",
           "line": {
            "color": "rgb(0, 0, 0)",
            "width": 1
           },
           "mode": "lines",
           "type": "scatter",
           "x": [
            0.33,
            0.66,
            null,
            0.6221212121212122,
            0.5888794484132436,
            null,
            0.6221212121212122,
            0.5888794484132436,
            null
           ],
           "y": [
            1,
            1,
            null,
            1,
            0.9652590189417244,
            null,
            1,
            1.0347409810582755,
            null
           ]
          },
          {
           "hoverinfo": "none",
           "line": {
            "color": "rgb(0, 0, 0)",
            "width": 1
           },
           "mode": "lines",
           "type": "scatter",
           "x": [
            0.66,
            1,
            null,
            0.9621212121212122,
            0.9288794484132434,
            null,
            0.9621212121212122,
            0.9288794484132434,
            null
           ],
           "y": [
            1,
            1,
            null,
            1,
            0.9652590189417244,
            null,
            1,
            1.0347409810582755,
            null
           ]
          },
          {
           "hoverinfo": "none",
           "line": {
            "color": "rgb(0, 0, 0)",
            "width": 1
           },
           "mode": "lines",
           "type": "scatter",
           "x": [
            0.66,
            0.33,
            null,
            0.35022071942550836,
            0.3526100389194443,
            null,
            0.35022071942550836,
            0.3833221014449805,
            null
           ],
           "y": [
            1,
            0,
            null,
            0.06127490735002531,
            0.13359437096827784,
            null,
            0.06127490735002531,
            0.09650302407543368,
            null
           ]
          },
          {
           "hoverinfo": "none",
           "line": {
            "color": "rgb(0, 0, 0)",
            "width": 1
           },
           "mode": "lines",
           "type": "scatter",
           "x": [
            1,
            0.66,
            null,
            0.6806532023433265,
            0.6835549327328607,
            null,
            0.6806532023433265,
            0.7140012524011855,
            null
           ],
           "y": [
            1,
            0,
            null,
            0.06074471277448944,
            0.13299554373343975,
            null,
            0.06074471277448944,
            0.09511088313140172,
            null
           ]
          },
          {
           "hoverinfo": "none",
           "line": {
            "color": "rgb(0, 0, 0)",
            "width": 1
           },
           "mode": "lines",
           "type": "scatter",
           "x": [
            0.33,
            0.66,
            null,
            0.6221212121212122,
            0.5888794484132436,
            null,
            0.6221212121212122,
            0.5888794484132436,
            null
           ],
           "y": [
            0,
            0,
            null,
            0,
            -0.034740981058275576,
            null,
            0,
            0.034740981058275576,
            null
           ]
          },
          {
           "hoverinfo": "none",
           "line": {
            "color": "rgb(0, 0, 0)",
            "width": 1
           },
           "mode": "lines",
           "type": "scatter",
           "x": [
            0.66,
            1,
            null,
            0.9621212121212122,
            0.9288794484132434,
            null,
            0.9621212121212122,
            0.9288794484132434,
            null
           ],
           "y": [
            0,
            0,
            null,
            0,
            -0.034740981058275576,
            null,
            0,
            0.034740981058275576,
            null
           ]
          },
          {
           "hoverinfo": "none",
           "marker": {
            "color": "rgb(0, 255, 0)",
            "line": {
             "color": "rgb(0, 0, 0)",
             "width": 1
            },
            "size": 20
           },
           "mode": "markers+text",
           "text": [
            "0"
           ],
           "textfont": {
            "color": "rgb(0, 0, 0)"
           },
           "textposition": "middle center",
           "type": "scatter",
           "x": [
            0
           ],
           "y": [
            0.5
           ]
          },
          {
           "hoverinfo": "none",
           "marker": {
            "color": "rgb(0, 255, 0)",
            "line": {
             "color": "rgb(0, 0, 0)",
             "width": 1
            },
            "size": 20
           },
           "mode": "markers+text",
           "text": [
            "1"
           ],
           "textfont": {
            "color": "rgb(0, 0, 0)"
           },
           "textposition": "middle center",
           "type": "scatter",
           "x": [
            0.33
           ],
           "y": [
            1
           ]
          },
          {
           "hoverinfo": "none",
           "marker": {
            "color": "rgb(0, 255, 0)",
            "line": {
             "color": "rgb(0, 0, 0)",
             "width": 1
            },
            "size": 20
           },
           "mode": "markers+text",
           "text": [
            "2"
           ],
           "textfont": {
            "color": "rgb(0, 0, 0)"
           },
           "textposition": "middle center",
           "type": "scatter",
           "x": [
            0.66
           ],
           "y": [
            1
           ]
          },
          {
           "hoverinfo": "none",
           "marker": {
            "color": "rgb(0, 255, 0)",
            "line": {
             "color": "rgb(0, 0, 0)",
             "width": 1
            },
            "size": 20
           },
           "mode": "markers+text",
           "text": [
            "3"
           ],
           "textfont": {
            "color": "rgb(0, 0, 0)"
           },
           "textposition": "middle center",
           "type": "scatter",
           "x": [
            1
           ],
           "y": [
            1
           ]
          },
          {
           "hoverinfo": "none",
           "marker": {
            "color": "rgb(255, 255, 255)",
            "line": {
             "color": "rgb(0, 0, 0)",
             "width": 1
            },
            "size": 20
           },
           "mode": "markers+text",
           "text": [
            "4"
           ],
           "textfont": {
            "color": "rgb(0, 0, 0)"
           },
           "textposition": "middle center",
           "type": "scatter",
           "x": [
            0.33
           ],
           "y": [
            0
           ]
          },
          {
           "hoverinfo": "none",
           "marker": {
            "color": "rgb(255, 255, 255)",
            "line": {
             "color": "rgb(0, 0, 0)",
             "width": 1
            },
            "size": 20
           },
           "mode": "markers+text",
           "text": [
            "5"
           ],
           "textfont": {
            "color": "rgb(0, 0, 0)"
           },
           "textposition": "middle center",
           "type": "scatter",
           "x": [
            0.66
           ],
           "y": [
            0
           ]
          },
          {
           "hoverinfo": "none",
           "marker": {
            "color": "rgb(255, 255, 255)",
            "line": {
             "color": "rgb(0, 0, 0)",
             "width": 1
            },
            "size": 20
           },
           "mode": "markers+text",
           "text": [
            "6"
           ],
           "textfont": {
            "color": "rgb(0, 0, 0)"
           },
           "textposition": "middle center",
           "type": "scatter",
           "x": [
            1
           ],
           "y": [
            0
           ]
          }
         ],
         "name": "3"
        },
        {
         "data": [
          {
           "hoverinfo": "none",
           "line": {
            "color": "rgb(0, 0, 0)",
            "width": 1
           },
           "mode": "lines",
           "type": "scatter",
           "x": [
            0,
            0.33,
            null,
            0.3003062713421305,
            0.2855225877733855,
            null,
            0.3003062713421305,
            0.2629725579755741,
            null
           ],
           "y": [
            0.5,
            1,
            null,
            0.9550095020335311,
            0.8882926689752846,
            null,
            0.9550095020335311,
            0.9427605821595028,
            null
           ]
          },
          {
           "hoverinfo": "none",
           "line": {
            "color": "rgb(0, 0, 0)",
            "width": 1
           },
           "mode": "lines",
           "type": "scatter",
           "x": [
            0,
            0.33,
            null,
            0.3003062713421305,
            0.2629725579755741,
            null,
            0.3003062713421305,
            0.2855225877733855,
            null
           ],
           "y": [
            0.5,
            0,
            null,
            0.04499049796646893,
            0.0572394178404972,
            null,
            0.04499049796646893,
            0.11170733102471547,
            null
           ]
          },
          {
           "hoverinfo": "none",
           "line": {
            "color": "rgb(0, 0, 0)",
            "width": 1
           },
           "mode": "lines",
           "type": "scatter",
           "x": [
            0.33,
            0.66,
            null,
            0.6221212121212122,
            0.5888794484132436,
            null,
            0.6221212121212122,
            0.5888794484132436,
            null
           ],
           "y": [
            1,
            1,
            null,
            1,
            0.9652590189417244,
            null,
            1,
            1.0347409810582755,
            null
           ]
          },
          {
           "hoverinfo": "none",
           "line": {
            "color": "rgb(0, 0, 0)",
            "width": 1
           },
           "mode": "lines",
           "type": "scatter",
           "x": [
            0.66,
            1,
            null,
            0.9621212121212122,
            0.9288794484132434,
            null,
            0.9621212121212122,
            0.9288794484132434,
            null
           ],
           "y": [
            1,
            1,
            null,
            1,
            0.9652590189417244,
            null,
            1,
            1.0347409810582755,
            null
           ]
          },
          {
           "hoverinfo": "none",
           "line": {
            "color": "rgb(0, 0, 0)",
            "width": 1
           },
           "mode": "lines",
           "type": "scatter",
           "x": [
            0.66,
            0.33,
            null,
            0.35022071942550836,
            0.3526100389194443,
            null,
            0.35022071942550836,
            0.3833221014449805,
            null
           ],
           "y": [
            1,
            0,
            null,
            0.06127490735002531,
            0.13359437096827784,
            null,
            0.06127490735002531,
            0.09650302407543368,
            null
           ]
          },
          {
           "hoverinfo": "none",
           "line": {
            "color": "rgb(0, 0, 0)",
            "width": 1
           },
           "mode": "lines",
           "type": "scatter",
           "x": [
            1,
            0.66,
            null,
            0.6806532023433265,
            0.6835549327328607,
            null,
            0.6806532023433265,
            0.7140012524011855,
            null
           ],
           "y": [
            1,
            0,
            null,
            0.06074471277448944,
            0.13299554373343975,
            null,
            0.06074471277448944,
            0.09511088313140172,
            null
           ]
          },
          {
           "hoverinfo": "none",
           "line": {
            "color": "rgb(0, 0, 0)",
            "width": 1
           },
           "mode": "lines",
           "type": "scatter",
           "x": [
            0.33,
            0.66,
            null,
            0.6221212121212122,
            0.5888794484132436,
            null,
            0.6221212121212122,
            0.5888794484132436,
            null
           ],
           "y": [
            0,
            0,
            null,
            0,
            -0.034740981058275576,
            null,
            0,
            0.034740981058275576,
            null
           ]
          },
          {
           "hoverinfo": "none",
           "line": {
            "color": "rgb(0, 0, 0)",
            "width": 1
           },
           "mode": "lines",
           "type": "scatter",
           "x": [
            0.66,
            1,
            null,
            0.9621212121212122,
            0.9288794484132434,
            null,
            0.9621212121212122,
            0.9288794484132434,
            null
           ],
           "y": [
            0,
            0,
            null,
            0,
            -0.034740981058275576,
            null,
            0,
            0.034740981058275576,
            null
           ]
          },
          {
           "hoverinfo": "none",
           "marker": {
            "color": "rgb(0, 255, 0)",
            "line": {
             "color": "rgb(0, 0, 0)",
             "width": 1
            },
            "size": 20
           },
           "mode": "markers+text",
           "text": [
            "0"
           ],
           "textfont": {
            "color": "rgb(0, 0, 0)"
           },
           "textposition": "middle center",
           "type": "scatter",
           "x": [
            0
           ],
           "y": [
            0.5
           ]
          },
          {
           "hoverinfo": "none",
           "marker": {
            "color": "rgb(0, 255, 0)",
            "line": {
             "color": "rgb(0, 0, 0)",
             "width": 1
            },
            "size": 20
           },
           "mode": "markers+text",
           "text": [
            "1"
           ],
           "textfont": {
            "color": "rgb(0, 0, 0)"
           },
           "textposition": "middle center",
           "type": "scatter",
           "x": [
            0.33
           ],
           "y": [
            1
           ]
          },
          {
           "hoverinfo": "none",
           "marker": {
            "color": "rgb(0, 255, 0)",
            "line": {
             "color": "rgb(0, 0, 0)",
             "width": 1
            },
            "size": 20
           },
           "mode": "markers+text",
           "text": [
            "2"
           ],
           "textfont": {
            "color": "rgb(0, 0, 0)"
           },
           "textposition": "middle center",
           "type": "scatter",
           "x": [
            0.66
           ],
           "y": [
            1
           ]
          },
          {
           "hoverinfo": "none",
           "marker": {
            "color": "rgb(0, 255, 0)",
            "line": {
             "color": "rgb(0, 0, 0)",
             "width": 1
            },
            "size": 20
           },
           "mode": "markers+text",
           "text": [
            "3"
           ],
           "textfont": {
            "color": "rgb(0, 0, 0)"
           },
           "textposition": "middle center",
           "type": "scatter",
           "x": [
            1
           ],
           "y": [
            1
           ]
          },
          {
           "hoverinfo": "none",
           "marker": {
            "color": "rgb(0, 255, 0)",
            "line": {
             "color": "rgb(0, 0, 0)",
             "width": 1
            },
            "size": 20
           },
           "mode": "markers+text",
           "text": [
            "4"
           ],
           "textfont": {
            "color": "rgb(0, 0, 0)"
           },
           "textposition": "middle center",
           "type": "scatter",
           "x": [
            0.33
           ],
           "y": [
            0
           ]
          },
          {
           "hoverinfo": "none",
           "marker": {
            "color": "rgb(255, 255, 255)",
            "line": {
             "color": "rgb(0, 0, 0)",
             "width": 1
            },
            "size": 20
           },
           "mode": "markers+text",
           "text": [
            "5"
           ],
           "textfont": {
            "color": "rgb(0, 0, 0)"
           },
           "textposition": "middle center",
           "type": "scatter",
           "x": [
            0.66
           ],
           "y": [
            0
           ]
          },
          {
           "hoverinfo": "none",
           "marker": {
            "color": "rgb(255, 255, 255)",
            "line": {
             "color": "rgb(0, 0, 0)",
             "width": 1
            },
            "size": 20
           },
           "mode": "markers+text",
           "text": [
            "6"
           ],
           "textfont": {
            "color": "rgb(0, 0, 0)"
           },
           "textposition": "middle center",
           "type": "scatter",
           "x": [
            1
           ],
           "y": [
            0
           ]
          }
         ],
         "name": "4"
        },
        {
         "data": [
          {
           "hoverinfo": "none",
           "line": {
            "color": "rgb(0, 0, 0)",
            "width": 1
           },
           "mode": "lines",
           "type": "scatter",
           "x": [
            0,
            0.33,
            null,
            0.3003062713421305,
            0.2855225877733855,
            null,
            0.3003062713421305,
            0.2629725579755741,
            null
           ],
           "y": [
            0.5,
            1,
            null,
            0.9550095020335311,
            0.8882926689752846,
            null,
            0.9550095020335311,
            0.9427605821595028,
            null
           ]
          },
          {
           "hoverinfo": "none",
           "line": {
            "color": "rgb(0, 0, 0)",
            "width": 1
           },
           "mode": "lines",
           "type": "scatter",
           "x": [
            0,
            0.33,
            null,
            0.3003062713421305,
            0.2629725579755741,
            null,
            0.3003062713421305,
            0.2855225877733855,
            null
           ],
           "y": [
            0.5,
            0,
            null,
            0.04499049796646893,
            0.0572394178404972,
            null,
            0.04499049796646893,
            0.11170733102471547,
            null
           ]
          },
          {
           "hoverinfo": "none",
           "line": {
            "color": "rgb(0, 0, 0)",
            "width": 1
           },
           "mode": "lines",
           "type": "scatter",
           "x": [
            0.33,
            0.66,
            null,
            0.6221212121212122,
            0.5888794484132436,
            null,
            0.6221212121212122,
            0.5888794484132436,
            null
           ],
           "y": [
            1,
            1,
            null,
            1,
            0.9652590189417244,
            null,
            1,
            1.0347409810582755,
            null
           ]
          },
          {
           "hoverinfo": "none",
           "line": {
            "color": "rgb(0, 0, 0)",
            "width": 1
           },
           "mode": "lines",
           "type": "scatter",
           "x": [
            0.66,
            1,
            null,
            0.9621212121212122,
            0.9288794484132434,
            null,
            0.9621212121212122,
            0.9288794484132434,
            null
           ],
           "y": [
            1,
            1,
            null,
            1,
            0.9652590189417244,
            null,
            1,
            1.0347409810582755,
            null
           ]
          },
          {
           "hoverinfo": "none",
           "line": {
            "color": "rgb(0, 0, 0)",
            "width": 1
           },
           "mode": "lines",
           "type": "scatter",
           "x": [
            0.66,
            0.33,
            null,
            0.35022071942550836,
            0.3526100389194443,
            null,
            0.35022071942550836,
            0.3833221014449805,
            null
           ],
           "y": [
            1,
            0,
            null,
            0.06127490735002531,
            0.13359437096827784,
            null,
            0.06127490735002531,
            0.09650302407543368,
            null
           ]
          },
          {
           "hoverinfo": "none",
           "line": {
            "color": "rgb(0, 0, 0)",
            "width": 1
           },
           "mode": "lines",
           "type": "scatter",
           "x": [
            1,
            0.66,
            null,
            0.6806532023433265,
            0.6835549327328607,
            null,
            0.6806532023433265,
            0.7140012524011855,
            null
           ],
           "y": [
            1,
            0,
            null,
            0.06074471277448944,
            0.13299554373343975,
            null,
            0.06074471277448944,
            0.09511088313140172,
            null
           ]
          },
          {
           "hoverinfo": "none",
           "line": {
            "color": "rgb(0, 0, 0)",
            "width": 1
           },
           "mode": "lines",
           "type": "scatter",
           "x": [
            0.33,
            0.66,
            null,
            0.6221212121212122,
            0.5888794484132436,
            null,
            0.6221212121212122,
            0.5888794484132436,
            null
           ],
           "y": [
            0,
            0,
            null,
            0,
            -0.034740981058275576,
            null,
            0,
            0.034740981058275576,
            null
           ]
          },
          {
           "hoverinfo": "none",
           "line": {
            "color": "rgb(0, 0, 0)",
            "width": 1
           },
           "mode": "lines",
           "type": "scatter",
           "x": [
            0.66,
            1,
            null,
            0.9621212121212122,
            0.9288794484132434,
            null,
            0.9621212121212122,
            0.9288794484132434,
            null
           ],
           "y": [
            0,
            0,
            null,
            0,
            -0.034740981058275576,
            null,
            0,
            0.034740981058275576,
            null
           ]
          },
          {
           "hoverinfo": "none",
           "marker": {
            "color": "rgb(0, 255, 0)",
            "line": {
             "color": "rgb(0, 0, 0)",
             "width": 1
            },
            "size": 20
           },
           "mode": "markers+text",
           "text": [
            "0"
           ],
           "textfont": {
            "color": "rgb(0, 0, 0)"
           },
           "textposition": "middle center",
           "type": "scatter",
           "x": [
            0
           ],
           "y": [
            0.5
           ]
          },
          {
           "hoverinfo": "none",
           "marker": {
            "color": "rgb(0, 255, 0)",
            "line": {
             "color": "rgb(0, 0, 0)",
             "width": 1
            },
            "size": 20
           },
           "mode": "markers+text",
           "text": [
            "1"
           ],
           "textfont": {
            "color": "rgb(0, 0, 0)"
           },
           "textposition": "middle center",
           "type": "scatter",
           "x": [
            0.33
           ],
           "y": [
            1
           ]
          },
          {
           "hoverinfo": "none",
           "marker": {
            "color": "rgb(0, 255, 0)",
            "line": {
             "color": "rgb(0, 0, 0)",
             "width": 1
            },
            "size": 20
           },
           "mode": "markers+text",
           "text": [
            "2"
           ],
           "textfont": {
            "color": "rgb(0, 0, 0)"
           },
           "textposition": "middle center",
           "type": "scatter",
           "x": [
            0.66
           ],
           "y": [
            1
           ]
          },
          {
           "hoverinfo": "none",
           "marker": {
            "color": "rgb(0, 255, 0)",
            "line": {
             "color": "rgb(0, 0, 0)",
             "width": 1
            },
            "size": 20
           },
           "mode": "markers+text",
           "text": [
            "3"
           ],
           "textfont": {
            "color": "rgb(0, 0, 0)"
           },
           "textposition": "middle center",
           "type": "scatter",
           "x": [
            1
           ],
           "y": [
            1
           ]
          },
          {
           "hoverinfo": "none",
           "marker": {
            "color": "rgb(0, 255, 0)",
            "line": {
             "color": "rgb(0, 0, 0)",
             "width": 1
            },
            "size": 20
           },
           "mode": "markers+text",
           "text": [
            "4"
           ],
           "textfont": {
            "color": "rgb(0, 0, 0)"
           },
           "textposition": "middle center",
           "type": "scatter",
           "x": [
            0.33
           ],
           "y": [
            0
           ]
          },
          {
           "hoverinfo": "none",
           "marker": {
            "color": "rgb(0, 255, 0)",
            "line": {
             "color": "rgb(0, 0, 0)",
             "width": 1
            },
            "size": 20
           },
           "mode": "markers+text",
           "text": [
            "5"
           ],
           "textfont": {
            "color": "rgb(0, 0, 0)"
           },
           "textposition": "middle center",
           "type": "scatter",
           "x": [
            0.66
           ],
           "y": [
            0
           ]
          },
          {
           "hoverinfo": "none",
           "marker": {
            "color": "rgb(255, 255, 255)",
            "line": {
             "color": "rgb(0, 0, 0)",
             "width": 1
            },
            "size": 20
           },
           "mode": "markers+text",
           "text": [
            "6"
           ],
           "textfont": {
            "color": "rgb(0, 0, 0)"
           },
           "textposition": "middle center",
           "type": "scatter",
           "x": [
            1
           ],
           "y": [
            0
           ]
          }
         ],
         "name": "5"
        },
        {
         "data": [
          {
           "hoverinfo": "none",
           "line": {
            "color": "rgb(0, 0, 0)",
            "width": 1
           },
           "mode": "lines",
           "type": "scatter",
           "x": [
            0,
            0.33,
            null,
            0.3003062713421305,
            0.2855225877733855,
            null,
            0.3003062713421305,
            0.2629725579755741,
            null
           ],
           "y": [
            0.5,
            1,
            null,
            0.9550095020335311,
            0.8882926689752846,
            null,
            0.9550095020335311,
            0.9427605821595028,
            null
           ]
          },
          {
           "hoverinfo": "none",
           "line": {
            "color": "rgb(0, 0, 0)",
            "width": 1
           },
           "mode": "lines",
           "type": "scatter",
           "x": [
            0,
            0.33,
            null,
            0.3003062713421305,
            0.2629725579755741,
            null,
            0.3003062713421305,
            0.2855225877733855,
            null
           ],
           "y": [
            0.5,
            0,
            null,
            0.04499049796646893,
            0.0572394178404972,
            null,
            0.04499049796646893,
            0.11170733102471547,
            null
           ]
          },
          {
           "hoverinfo": "none",
           "line": {
            "color": "rgb(0, 0, 0)",
            "width": 1
           },
           "mode": "lines",
           "type": "scatter",
           "x": [
            0.33,
            0.66,
            null,
            0.6221212121212122,
            0.5888794484132436,
            null,
            0.6221212121212122,
            0.5888794484132436,
            null
           ],
           "y": [
            1,
            1,
            null,
            1,
            0.9652590189417244,
            null,
            1,
            1.0347409810582755,
            null
           ]
          },
          {
           "hoverinfo": "none",
           "line": {
            "color": "rgb(0, 0, 0)",
            "width": 1
           },
           "mode": "lines",
           "type": "scatter",
           "x": [
            0.66,
            1,
            null,
            0.9621212121212122,
            0.9288794484132434,
            null,
            0.9621212121212122,
            0.9288794484132434,
            null
           ],
           "y": [
            1,
            1,
            null,
            1,
            0.9652590189417244,
            null,
            1,
            1.0347409810582755,
            null
           ]
          },
          {
           "hoverinfo": "none",
           "line": {
            "color": "rgb(0, 0, 0)",
            "width": 1
           },
           "mode": "lines",
           "type": "scatter",
           "x": [
            0.66,
            0.33,
            null,
            0.35022071942550836,
            0.3526100389194443,
            null,
            0.35022071942550836,
            0.3833221014449805,
            null
           ],
           "y": [
            1,
            0,
            null,
            0.06127490735002531,
            0.13359437096827784,
            null,
            0.06127490735002531,
            0.09650302407543368,
            null
           ]
          },
          {
           "hoverinfo": "none",
           "line": {
            "color": "rgb(0, 0, 0)",
            "width": 1
           },
           "mode": "lines",
           "type": "scatter",
           "x": [
            1,
            0.66,
            null,
            0.6806532023433265,
            0.6835549327328607,
            null,
            0.6806532023433265,
            0.7140012524011855,
            null
           ],
           "y": [
            1,
            0,
            null,
            0.06074471277448944,
            0.13299554373343975,
            null,
            0.06074471277448944,
            0.09511088313140172,
            null
           ]
          },
          {
           "hoverinfo": "none",
           "line": {
            "color": "rgb(0, 0, 0)",
            "width": 1
           },
           "mode": "lines",
           "type": "scatter",
           "x": [
            0.33,
            0.66,
            null,
            0.6221212121212122,
            0.5888794484132436,
            null,
            0.6221212121212122,
            0.5888794484132436,
            null
           ],
           "y": [
            0,
            0,
            null,
            0,
            -0.034740981058275576,
            null,
            0,
            0.034740981058275576,
            null
           ]
          },
          {
           "hoverinfo": "none",
           "line": {
            "color": "rgb(0, 0, 0)",
            "width": 1
           },
           "mode": "lines",
           "type": "scatter",
           "x": [
            0.66,
            1,
            null,
            0.9621212121212122,
            0.9288794484132434,
            null,
            0.9621212121212122,
            0.9288794484132434,
            null
           ],
           "y": [
            0,
            0,
            null,
            0,
            -0.034740981058275576,
            null,
            0,
            0.034740981058275576,
            null
           ]
          },
          {
           "hoverinfo": "none",
           "marker": {
            "color": "rgb(0, 255, 0)",
            "line": {
             "color": "rgb(0, 0, 0)",
             "width": 1
            },
            "size": 20
           },
           "mode": "markers+text",
           "text": [
            "0"
           ],
           "textfont": {
            "color": "rgb(0, 0, 0)"
           },
           "textposition": "middle center",
           "type": "scatter",
           "x": [
            0
           ],
           "y": [
            0.5
           ]
          },
          {
           "hoverinfo": "none",
           "marker": {
            "color": "rgb(0, 255, 0)",
            "line": {
             "color": "rgb(0, 0, 0)",
             "width": 1
            },
            "size": 20
           },
           "mode": "markers+text",
           "text": [
            "1"
           ],
           "textfont": {
            "color": "rgb(0, 0, 0)"
           },
           "textposition": "middle center",
           "type": "scatter",
           "x": [
            0.33
           ],
           "y": [
            1
           ]
          },
          {
           "hoverinfo": "none",
           "marker": {
            "color": "rgb(0, 255, 0)",
            "line": {
             "color": "rgb(0, 0, 0)",
             "width": 1
            },
            "size": 20
           },
           "mode": "markers+text",
           "text": [
            "2"
           ],
           "textfont": {
            "color": "rgb(0, 0, 0)"
           },
           "textposition": "middle center",
           "type": "scatter",
           "x": [
            0.66
           ],
           "y": [
            1
           ]
          },
          {
           "hoverinfo": "none",
           "marker": {
            "color": "rgb(0, 255, 0)",
            "line": {
             "color": "rgb(0, 0, 0)",
             "width": 1
            },
            "size": 20
           },
           "mode": "markers+text",
           "text": [
            "3"
           ],
           "textfont": {
            "color": "rgb(0, 0, 0)"
           },
           "textposition": "middle center",
           "type": "scatter",
           "x": [
            1
           ],
           "y": [
            1
           ]
          },
          {
           "hoverinfo": "none",
           "marker": {
            "color": "rgb(0, 255, 0)",
            "line": {
             "color": "rgb(0, 0, 0)",
             "width": 1
            },
            "size": 20
           },
           "mode": "markers+text",
           "text": [
            "4"
           ],
           "textfont": {
            "color": "rgb(0, 0, 0)"
           },
           "textposition": "middle center",
           "type": "scatter",
           "x": [
            0.33
           ],
           "y": [
            0
           ]
          },
          {
           "hoverinfo": "none",
           "marker": {
            "color": "rgb(0, 255, 0)",
            "line": {
             "color": "rgb(0, 0, 0)",
             "width": 1
            },
            "size": 20
           },
           "mode": "markers+text",
           "text": [
            "5"
           ],
           "textfont": {
            "color": "rgb(0, 0, 0)"
           },
           "textposition": "middle center",
           "type": "scatter",
           "x": [
            0.66
           ],
           "y": [
            0
           ]
          },
          {
           "hoverinfo": "none",
           "marker": {
            "color": "rgb(0, 255, 0)",
            "line": {
             "color": "rgb(0, 0, 0)",
             "width": 1
            },
            "size": 20
           },
           "mode": "markers+text",
           "text": [
            "6"
           ],
           "textfont": {
            "color": "rgb(0, 0, 0)"
           },
           "textposition": "middle center",
           "type": "scatter",
           "x": [
            1
           ],
           "y": [
            0
           ]
          }
         ],
         "name": "6"
        }
       ],
       "layout": {
        "height": 256,
        "margin": {
         "b": 0,
         "l": 0,
         "r": 0,
         "t": 0
        },
        "showlegend": false,
        "sliders": [
         {
          "currentvalue": {
           "visible": false
          },
          "steps": [
           {
            "args": [
             [
              0
             ],
             {
              "frame": {
               "redraw": false
              },
              "mode": "immediate"
             }
            ],
            "label": "",
            "method": "animate"
           },
           {
            "args": [
             [
              1
             ],
             {
              "frame": {
               "redraw": false
              },
              "mode": "immediate"
             }
            ],
            "label": "",
            "method": "animate"
           },
           {
            "args": [
             [
              2
             ],
             {
              "frame": {
               "redraw": false
              },
              "mode": "immediate"
             }
            ],
            "label": "",
            "method": "animate"
           },
           {
            "args": [
             [
              3
             ],
             {
              "frame": {
               "redraw": false
              },
              "mode": "immediate"
             }
            ],
            "label": "",
            "method": "animate"
           },
           {
            "args": [
             [
              4
             ],
             {
              "frame": {
               "redraw": false
              },
              "mode": "immediate"
             }
            ],
            "label": "",
            "method": "animate"
           },
           {
            "args": [
             [
              5
             ],
             {
              "frame": {
               "redraw": false
              },
              "mode": "immediate"
             }
            ],
            "label": "",
            "method": "animate"
           },
           {
            "args": [
             [
              6
             ],
             {
              "frame": {
               "redraw": false
              },
              "mode": "immediate"
             }
            ],
            "label": "",
            "method": "animate"
           }
          ]
         }
        ],
        "updatemenus": [
         {
          "buttons": [
           {
            "args": [
             null,
             {
              "frame": {
               "redraw": false
              },
              "fromcurrent": true
             }
            ],
            "label": "Play",
            "method": "animate"
           },
           {
            "args": [
             [
              null
             ],
             {
              "frame": {
               "redraw": false
              },
              "mode": "immediate"
             }
            ],
            "label": "Pause",
            "method": "animate"
           }
          ],
          "showactive": true,
          "type": "buttons"
         }
        ],
        "width": 408,
        "xaxis": {
         "showgrid": false,
         "showticklabels": false,
         "zeroline": false
        },
        "yaxis": {
         "showgrid": false,
         "showticklabels": false,
         "zeroline": false
        }
       }
      },
      "text/html": [
       "<div id=\"9dfc022e-68e0-4630-95db-8e15c86ec2d4\" style=\"height: 256.0px; width: 408.0px;\" class=\"plotly-graph-div\"></div><script type=\"text/javascript\">require([\"plotly\"], function(Plotly) { window.PLOTLYENV=window.PLOTLYENV || {};window.PLOTLYENV.BASE_URL=\"https://plot.ly\";\n",
       "        Plotly.plot(\n",
       "            '9dfc022e-68e0-4630-95db-8e15c86ec2d4',\n",
       "            [{\"hoverinfo\": \"none\", \"line\": {\"color\": \"rgb(0, 0, 0)\", \"width\": 1}, \"mode\": \"lines\", \"x\": [0.0, 0.33, null, 0.3003062713421305, 0.2855225877733855, null, 0.3003062713421305, 0.2629725579755741, null], \"y\": [0.5, 1.0, null, 0.9550095020335311, 0.8882926689752846, null, 0.9550095020335311, 0.9427605821595028, null], \"type\": \"scatter\", \"uid\": \"205a369c-997e-11e8-b481-9a5fd3dcadb7\"}, {\"hoverinfo\": \"none\", \"line\": {\"color\": \"rgb(0, 0, 0)\", \"width\": 1}, \"mode\": \"lines\", \"x\": [0.0, 0.33, null, 0.3003062713421305, 0.2629725579755741, null, 0.3003062713421305, 0.2855225877733855, null], \"y\": [0.5, 0.0, null, 0.04499049796646893, 0.0572394178404972, null, 0.04499049796646893, 0.11170733102471547, null], \"type\": \"scatter\", \"uid\": \"205a369d-997e-11e8-8537-9a5fd3dcadb7\"}, {\"hoverinfo\": \"none\", \"line\": {\"color\": \"rgb(0, 0, 0)\", \"width\": 1}, \"mode\": \"lines\", \"x\": [0.33, 0.66, null, 0.6221212121212122, 0.5888794484132436, null, 0.6221212121212122, 0.5888794484132436, null], \"y\": [1.0, 1.0, null, 1.0, 0.9652590189417244, null, 1.0, 1.0347409810582755, null], \"type\": \"scatter\", \"uid\": \"205a369e-997e-11e8-a437-9a5fd3dcadb7\"}, {\"hoverinfo\": \"none\", \"line\": {\"color\": \"rgb(0, 0, 0)\", \"width\": 1}, \"mode\": \"lines\", \"x\": [0.66, 1.0, null, 0.9621212121212122, 0.9288794484132434, null, 0.9621212121212122, 0.9288794484132434, null], \"y\": [1.0, 1.0, null, 1.0, 0.9652590189417244, null, 1.0, 1.0347409810582755, null], \"type\": \"scatter\", \"uid\": \"205a369f-997e-11e8-8dcf-9a5fd3dcadb7\"}, {\"hoverinfo\": \"none\", \"line\": {\"color\": \"rgb(0, 0, 0)\", \"width\": 1}, \"mode\": \"lines\", \"x\": [0.66, 0.33, null, 0.35022071942550836, 0.3526100389194443, null, 0.35022071942550836, 0.3833221014449805, null], \"y\": [1.0, 0.0, null, 0.06127490735002531, 0.13359437096827784, null, 0.06127490735002531, 0.09650302407543368, null], \"type\": \"scatter\", \"uid\": \"205a36a0-997e-11e8-8601-9a5fd3dcadb7\"}, {\"hoverinfo\": \"none\", \"line\": {\"color\": \"rgb(0, 0, 0)\", \"width\": 1}, \"mode\": \"lines\", \"x\": [1.0, 0.66, null, 0.6806532023433265, 0.6835549327328607, null, 0.6806532023433265, 0.7140012524011855, null], \"y\": [1.0, 0.0, null, 0.06074471277448944, 0.13299554373343975, null, 0.06074471277448944, 0.09511088313140172, null], \"type\": \"scatter\", \"uid\": \"205a36a1-997e-11e8-aaef-9a5fd3dcadb7\"}, {\"hoverinfo\": \"none\", \"line\": {\"color\": \"rgb(0, 0, 0)\", \"width\": 1}, \"mode\": \"lines\", \"x\": [0.33, 0.66, null, 0.6221212121212122, 0.5888794484132436, null, 0.6221212121212122, 0.5888794484132436, null], \"y\": [0.0, 0.0, null, 0.0, -0.034740981058275576, null, 0.0, 0.034740981058275576, null], \"type\": \"scatter\", \"uid\": \"205a4a3e-997e-11e8-aed1-9a5fd3dcadb7\"}, {\"hoverinfo\": \"none\", \"line\": {\"color\": \"rgb(0, 0, 0)\", \"width\": 1}, \"mode\": \"lines\", \"x\": [0.66, 1.0, null, 0.9621212121212122, 0.9288794484132434, null, 0.9621212121212122, 0.9288794484132434, null], \"y\": [0.0, 0.0, null, 0.0, -0.034740981058275576, null, 0.0, 0.034740981058275576, null], \"type\": \"scatter\", \"uid\": \"205a4a3f-997e-11e8-b6bb-9a5fd3dcadb7\"}, {\"hoverinfo\": \"none\", \"marker\": {\"color\": \"rgb(0, 255, 0)\", \"line\": {\"color\": \"rgb(0, 0, 0)\", \"width\": 1}, \"size\": 20}, \"mode\": \"markers+text\", \"text\": [\"0\"], \"textfont\": {\"color\": \"rgb(0, 0, 0)\"}, \"textposition\": \"middle center\", \"x\": [0.0], \"y\": [0.5], \"type\": \"scatter\", \"uid\": \"205a4a40-997e-11e8-b367-9a5fd3dcadb7\"}, {\"hoverinfo\": \"none\", \"marker\": {\"color\": \"rgb(255, 255, 255)\", \"line\": {\"color\": \"rgb(0, 0, 0)\", \"width\": 1}, \"size\": 20}, \"mode\": \"markers+text\", \"text\": [\"1\"], \"textfont\": {\"color\": \"rgb(0, 0, 0)\"}, \"textposition\": \"middle center\", \"x\": [0.33], \"y\": [1.0], \"type\": \"scatter\", \"uid\": \"205a4a41-997e-11e8-b830-9a5fd3dcadb7\"}, {\"hoverinfo\": \"none\", \"marker\": {\"color\": \"rgb(255, 255, 255)\", \"line\": {\"color\": \"rgb(0, 0, 0)\", \"width\": 1}, \"size\": 20}, \"mode\": \"markers+text\", \"text\": [\"2\"], \"textfont\": {\"color\": \"rgb(0, 0, 0)\"}, \"textposition\": \"middle center\", \"x\": [0.66], \"y\": [1.0], \"type\": \"scatter\", \"uid\": \"205a4a42-997e-11e8-b0dd-9a5fd3dcadb7\"}, {\"hoverinfo\": \"none\", \"marker\": {\"color\": \"rgb(255, 255, 255)\", \"line\": {\"color\": \"rgb(0, 0, 0)\", \"width\": 1}, \"size\": 20}, \"mode\": \"markers+text\", \"text\": [\"3\"], \"textfont\": {\"color\": \"rgb(0, 0, 0)\"}, \"textposition\": \"middle center\", \"x\": [1.0], \"y\": [1.0], \"type\": \"scatter\", \"uid\": \"205a4a43-997e-11e8-8c63-9a5fd3dcadb7\"}, {\"hoverinfo\": \"none\", \"marker\": {\"color\": \"rgb(255, 255, 255)\", \"line\": {\"color\": \"rgb(0, 0, 0)\", \"width\": 1}, \"size\": 20}, \"mode\": \"markers+text\", \"text\": [\"4\"], \"textfont\": {\"color\": \"rgb(0, 0, 0)\"}, \"textposition\": \"middle center\", \"x\": [0.33], \"y\": [0.0], \"type\": \"scatter\", \"uid\": \"205a4a44-997e-11e8-98c6-9a5fd3dcadb7\"}, {\"hoverinfo\": \"none\", \"marker\": {\"color\": \"rgb(255, 255, 255)\", \"line\": {\"color\": \"rgb(0, 0, 0)\", \"width\": 1}, \"size\": 20}, \"mode\": \"markers+text\", \"text\": [\"5\"], \"textfont\": {\"color\": \"rgb(0, 0, 0)\"}, \"textposition\": \"middle center\", \"x\": [0.66], \"y\": [0.0], \"type\": \"scatter\", \"uid\": \"205a4a45-997e-11e8-bd2d-9a5fd3dcadb7\"}, {\"hoverinfo\": \"none\", \"marker\": {\"color\": \"rgb(255, 255, 255)\", \"line\": {\"color\": \"rgb(0, 0, 0)\", \"width\": 1}, \"size\": 20}, \"mode\": \"markers+text\", \"text\": [\"6\"], \"textfont\": {\"color\": \"rgb(0, 0, 0)\"}, \"textposition\": \"middle center\", \"x\": [1.0], \"y\": [0.0], \"type\": \"scatter\", \"uid\": \"205a4a46-997e-11e8-8123-9a5fd3dcadb7\"}],\n",
       "            {\"height\": 256.0, \"margin\": {\"b\": 0, \"l\": 0, \"r\": 0, \"t\": 0}, \"showlegend\": false, \"sliders\": [{\"currentvalue\": {\"visible\": false}, \"steps\": [{\"args\": [[0], {\"frame\": {\"redraw\": false}, \"mode\": \"immediate\"}], \"label\": \"\", \"method\": \"animate\"}, {\"args\": [[1], {\"frame\": {\"redraw\": false}, \"mode\": \"immediate\"}], \"label\": \"\", \"method\": \"animate\"}, {\"args\": [[2], {\"frame\": {\"redraw\": false}, \"mode\": \"immediate\"}], \"label\": \"\", \"method\": \"animate\"}, {\"args\": [[3], {\"frame\": {\"redraw\": false}, \"mode\": \"immediate\"}], \"label\": \"\", \"method\": \"animate\"}, {\"args\": [[4], {\"frame\": {\"redraw\": false}, \"mode\": \"immediate\"}], \"label\": \"\", \"method\": \"animate\"}, {\"args\": [[5], {\"frame\": {\"redraw\": false}, \"mode\": \"immediate\"}], \"label\": \"\", \"method\": \"animate\"}, {\"args\": [[6], {\"frame\": {\"redraw\": false}, \"mode\": \"immediate\"}], \"label\": \"\", \"method\": \"animate\"}]}], \"updatemenus\": [{\"buttons\": [{\"args\": [null, {\"frame\": {\"redraw\": false}, \"fromcurrent\": true}], \"label\": \"Play\", \"method\": \"animate\"}, {\"args\": [[null], {\"frame\": {\"redraw\": false}, \"mode\": \"immediate\"}], \"label\": \"Pause\", \"method\": \"animate\"}], \"showactive\": true, \"type\": \"buttons\"}], \"width\": 408.0, \"xaxis\": {\"showgrid\": false, \"showticklabels\": false, \"zeroline\": false}, \"yaxis\": {\"showgrid\": false, \"showticklabels\": false, \"zeroline\": false}},\n",
       "            {\"showLink\": false, \"linkText\": \"Export to plot.ly\", \"displayModeBar\": false}\n",
       "        ).then(function () {return Plotly.addFrames('9dfc022e-68e0-4630-95db-8e15c86ec2d4',[{\"data\": [{\"hoverinfo\": \"none\", \"line\": {\"color\": \"rgb(0, 0, 0)\", \"width\": 1}, \"mode\": \"lines\", \"x\": [0.0, 0.33, null, 0.3003062713421305, 0.2855225877733855, null, 0.3003062713421305, 0.2629725579755741, null], \"y\": [0.5, 1.0, null, 0.9550095020335311, 0.8882926689752846, null, 0.9550095020335311, 0.9427605821595028, null], \"type\": \"scatter\"}, {\"hoverinfo\": \"none\", \"line\": {\"color\": \"rgb(0, 0, 0)\", \"width\": 1}, \"mode\": \"lines\", \"x\": [0.0, 0.33, null, 0.3003062713421305, 0.2629725579755741, null, 0.3003062713421305, 0.2855225877733855, null], \"y\": [0.5, 0.0, null, 0.04499049796646893, 0.0572394178404972, null, 0.04499049796646893, 0.11170733102471547, null], \"type\": \"scatter\"}, {\"hoverinfo\": \"none\", \"line\": {\"color\": \"rgb(0, 0, 0)\", \"width\": 1}, \"mode\": \"lines\", \"x\": [0.33, 0.66, null, 0.6221212121212122, 0.5888794484132436, null, 0.6221212121212122, 0.5888794484132436, null], \"y\": [1.0, 1.0, null, 1.0, 0.9652590189417244, null, 1.0, 1.0347409810582755, null], \"type\": \"scatter\"}, {\"hoverinfo\": \"none\", \"line\": {\"color\": \"rgb(0, 0, 0)\", \"width\": 1}, \"mode\": \"lines\", \"x\": [0.66, 1.0, null, 0.9621212121212122, 0.9288794484132434, null, 0.9621212121212122, 0.9288794484132434, null], \"y\": [1.0, 1.0, null, 1.0, 0.9652590189417244, null, 1.0, 1.0347409810582755, null], \"type\": \"scatter\"}, {\"hoverinfo\": \"none\", \"line\": {\"color\": \"rgb(0, 0, 0)\", \"width\": 1}, \"mode\": \"lines\", \"x\": [0.66, 0.33, null, 0.35022071942550836, 0.3526100389194443, null, 0.35022071942550836, 0.3833221014449805, null], \"y\": [1.0, 0.0, null, 0.06127490735002531, 0.13359437096827784, null, 0.06127490735002531, 0.09650302407543368, null], \"type\": \"scatter\"}, {\"hoverinfo\": \"none\", \"line\": {\"color\": \"rgb(0, 0, 0)\", \"width\": 1}, \"mode\": \"lines\", \"x\": [1.0, 0.66, null, 0.6806532023433265, 0.6835549327328607, null, 0.6806532023433265, 0.7140012524011855, null], \"y\": [1.0, 0.0, null, 0.06074471277448944, 0.13299554373343975, null, 0.06074471277448944, 0.09511088313140172, null], \"type\": \"scatter\"}, {\"hoverinfo\": \"none\", \"line\": {\"color\": \"rgb(0, 0, 0)\", \"width\": 1}, \"mode\": \"lines\", \"x\": [0.33, 0.66, null, 0.6221212121212122, 0.5888794484132436, null, 0.6221212121212122, 0.5888794484132436, null], \"y\": [0.0, 0.0, null, 0.0, -0.034740981058275576, null, 0.0, 0.034740981058275576, null], \"type\": \"scatter\"}, {\"hoverinfo\": \"none\", \"line\": {\"color\": \"rgb(0, 0, 0)\", \"width\": 1}, \"mode\": \"lines\", \"x\": [0.66, 1.0, null, 0.9621212121212122, 0.9288794484132434, null, 0.9621212121212122, 0.9288794484132434, null], \"y\": [0.0, 0.0, null, 0.0, -0.034740981058275576, null, 0.0, 0.034740981058275576, null], \"type\": \"scatter\"}, {\"hoverinfo\": \"none\", \"marker\": {\"color\": \"rgb(0, 255, 0)\", \"line\": {\"color\": \"rgb(0, 0, 0)\", \"width\": 1}, \"size\": 20}, \"mode\": \"markers+text\", \"text\": [\"0\"], \"textfont\": {\"color\": \"rgb(0, 0, 0)\"}, \"textposition\": \"middle center\", \"x\": [0.0], \"y\": [0.5], \"type\": \"scatter\"}, {\"hoverinfo\": \"none\", \"marker\": {\"color\": \"rgb(255, 255, 255)\", \"line\": {\"color\": \"rgb(0, 0, 0)\", \"width\": 1}, \"size\": 20}, \"mode\": \"markers+text\", \"text\": [\"1\"], \"textfont\": {\"color\": \"rgb(0, 0, 0)\"}, \"textposition\": \"middle center\", \"x\": [0.33], \"y\": [1.0], \"type\": \"scatter\"}, {\"hoverinfo\": \"none\", \"marker\": {\"color\": \"rgb(255, 255, 255)\", \"line\": {\"color\": \"rgb(0, 0, 0)\", \"width\": 1}, \"size\": 20}, \"mode\": \"markers+text\", \"text\": [\"2\"], \"textfont\": {\"color\": \"rgb(0, 0, 0)\"}, \"textposition\": \"middle center\", \"x\": [0.66], \"y\": [1.0], \"type\": \"scatter\"}, {\"hoverinfo\": \"none\", \"marker\": {\"color\": \"rgb(255, 255, 255)\", \"line\": {\"color\": \"rgb(0, 0, 0)\", \"width\": 1}, \"size\": 20}, \"mode\": \"markers+text\", \"text\": [\"3\"], \"textfont\": {\"color\": \"rgb(0, 0, 0)\"}, \"textposition\": \"middle center\", \"x\": [1.0], \"y\": [1.0], \"type\": \"scatter\"}, {\"hoverinfo\": \"none\", \"marker\": {\"color\": \"rgb(255, 255, 255)\", \"line\": {\"color\": \"rgb(0, 0, 0)\", \"width\": 1}, \"size\": 20}, \"mode\": \"markers+text\", \"text\": [\"4\"], \"textfont\": {\"color\": \"rgb(0, 0, 0)\"}, \"textposition\": \"middle center\", \"x\": [0.33], \"y\": [0.0], \"type\": \"scatter\"}, {\"hoverinfo\": \"none\", \"marker\": {\"color\": \"rgb(255, 255, 255)\", \"line\": {\"color\": \"rgb(0, 0, 0)\", \"width\": 1}, \"size\": 20}, \"mode\": \"markers+text\", \"text\": [\"5\"], \"textfont\": {\"color\": \"rgb(0, 0, 0)\"}, \"textposition\": \"middle center\", \"x\": [0.66], \"y\": [0.0], \"type\": \"scatter\"}, {\"hoverinfo\": \"none\", \"marker\": {\"color\": \"rgb(255, 255, 255)\", \"line\": {\"color\": \"rgb(0, 0, 0)\", \"width\": 1}, \"size\": 20}, \"mode\": \"markers+text\", \"text\": [\"6\"], \"textfont\": {\"color\": \"rgb(0, 0, 0)\"}, \"textposition\": \"middle center\", \"x\": [1.0], \"y\": [0.0], \"type\": \"scatter\"}], \"name\": \"0\"}, {\"data\": [{\"hoverinfo\": \"none\", \"line\": {\"color\": \"rgb(0, 0, 0)\", \"width\": 1}, \"mode\": \"lines\", \"x\": [0.0, 0.33, null, 0.3003062713421305, 0.2855225877733855, null, 0.3003062713421305, 0.2629725579755741, null], \"y\": [0.5, 1.0, null, 0.9550095020335311, 0.8882926689752846, null, 0.9550095020335311, 0.9427605821595028, null], \"type\": \"scatter\"}, {\"hoverinfo\": \"none\", \"line\": {\"color\": \"rgb(0, 0, 0)\", \"width\": 1}, \"mode\": \"lines\", \"x\": [0.0, 0.33, null, 0.3003062713421305, 0.2629725579755741, null, 0.3003062713421305, 0.2855225877733855, null], \"y\": [0.5, 0.0, null, 0.04499049796646893, 0.0572394178404972, null, 0.04499049796646893, 0.11170733102471547, null], \"type\": \"scatter\"}, {\"hoverinfo\": \"none\", \"line\": {\"color\": \"rgb(0, 0, 0)\", \"width\": 1}, \"mode\": \"lines\", \"x\": [0.33, 0.66, null, 0.6221212121212122, 0.5888794484132436, null, 0.6221212121212122, 0.5888794484132436, null], \"y\": [1.0, 1.0, null, 1.0, 0.9652590189417244, null, 1.0, 1.0347409810582755, null], \"type\": \"scatter\"}, {\"hoverinfo\": \"none\", \"line\": {\"color\": \"rgb(0, 0, 0)\", \"width\": 1}, \"mode\": \"lines\", \"x\": [0.66, 1.0, null, 0.9621212121212122, 0.9288794484132434, null, 0.9621212121212122, 0.9288794484132434, null], \"y\": [1.0, 1.0, null, 1.0, 0.9652590189417244, null, 1.0, 1.0347409810582755, null], \"type\": \"scatter\"}, {\"hoverinfo\": \"none\", \"line\": {\"color\": \"rgb(0, 0, 0)\", \"width\": 1}, \"mode\": \"lines\", \"x\": [0.66, 0.33, null, 0.35022071942550836, 0.3526100389194443, null, 0.35022071942550836, 0.3833221014449805, null], \"y\": [1.0, 0.0, null, 0.06127490735002531, 0.13359437096827784, null, 0.06127490735002531, 0.09650302407543368, null], \"type\": \"scatter\"}, {\"hoverinfo\": \"none\", \"line\": {\"color\": \"rgb(0, 0, 0)\", \"width\": 1}, \"mode\": \"lines\", \"x\": [1.0, 0.66, null, 0.6806532023433265, 0.6835549327328607, null, 0.6806532023433265, 0.7140012524011855, null], \"y\": [1.0, 0.0, null, 0.06074471277448944, 0.13299554373343975, null, 0.06074471277448944, 0.09511088313140172, null], \"type\": \"scatter\"}, {\"hoverinfo\": \"none\", \"line\": {\"color\": \"rgb(0, 0, 0)\", \"width\": 1}, \"mode\": \"lines\", \"x\": [0.33, 0.66, null, 0.6221212121212122, 0.5888794484132436, null, 0.6221212121212122, 0.5888794484132436, null], \"y\": [0.0, 0.0, null, 0.0, -0.034740981058275576, null, 0.0, 0.034740981058275576, null], \"type\": \"scatter\"}, {\"hoverinfo\": \"none\", \"line\": {\"color\": \"rgb(0, 0, 0)\", \"width\": 1}, \"mode\": \"lines\", \"x\": [0.66, 1.0, null, 0.9621212121212122, 0.9288794484132434, null, 0.9621212121212122, 0.9288794484132434, null], \"y\": [0.0, 0.0, null, 0.0, -0.034740981058275576, null, 0.0, 0.034740981058275576, null], \"type\": \"scatter\"}, {\"hoverinfo\": \"none\", \"marker\": {\"color\": \"rgb(0, 255, 0)\", \"line\": {\"color\": \"rgb(0, 0, 0)\", \"width\": 1}, \"size\": 20}, \"mode\": \"markers+text\", \"text\": [\"0\"], \"textfont\": {\"color\": \"rgb(0, 0, 0)\"}, \"textposition\": \"middle center\", \"x\": [0.0], \"y\": [0.5], \"type\": \"scatter\"}, {\"hoverinfo\": \"none\", \"marker\": {\"color\": \"rgb(0, 255, 0)\", \"line\": {\"color\": \"rgb(0, 0, 0)\", \"width\": 1}, \"size\": 20}, \"mode\": \"markers+text\", \"text\": [\"1\"], \"textfont\": {\"color\": \"rgb(0, 0, 0)\"}, \"textposition\": \"middle center\", \"x\": [0.33], \"y\": [1.0], \"type\": \"scatter\"}, {\"hoverinfo\": \"none\", \"marker\": {\"color\": \"rgb(255, 255, 255)\", \"line\": {\"color\": \"rgb(0, 0, 0)\", \"width\": 1}, \"size\": 20}, \"mode\": \"markers+text\", \"text\": [\"2\"], \"textfont\": {\"color\": \"rgb(0, 0, 0)\"}, \"textposition\": \"middle center\", \"x\": [0.66], \"y\": [1.0], \"type\": \"scatter\"}, {\"hoverinfo\": \"none\", \"marker\": {\"color\": \"rgb(255, 255, 255)\", \"line\": {\"color\": \"rgb(0, 0, 0)\", \"width\": 1}, \"size\": 20}, \"mode\": \"markers+text\", \"text\": [\"3\"], \"textfont\": {\"color\": \"rgb(0, 0, 0)\"}, \"textposition\": \"middle center\", \"x\": [1.0], \"y\": [1.0], \"type\": \"scatter\"}, {\"hoverinfo\": \"none\", \"marker\": {\"color\": \"rgb(255, 255, 255)\", \"line\": {\"color\": \"rgb(0, 0, 0)\", \"width\": 1}, \"size\": 20}, \"mode\": \"markers+text\", \"text\": [\"4\"], \"textfont\": {\"color\": \"rgb(0, 0, 0)\"}, \"textposition\": \"middle center\", \"x\": [0.33], \"y\": [0.0], \"type\": \"scatter\"}, {\"hoverinfo\": \"none\", \"marker\": {\"color\": \"rgb(255, 255, 255)\", \"line\": {\"color\": \"rgb(0, 0, 0)\", \"width\": 1}, \"size\": 20}, \"mode\": \"markers+text\", \"text\": [\"5\"], \"textfont\": {\"color\": \"rgb(0, 0, 0)\"}, \"textposition\": \"middle center\", \"x\": [0.66], \"y\": [0.0], \"type\": \"scatter\"}, {\"hoverinfo\": \"none\", \"marker\": {\"color\": \"rgb(255, 255, 255)\", \"line\": {\"color\": \"rgb(0, 0, 0)\", \"width\": 1}, \"size\": 20}, \"mode\": \"markers+text\", \"text\": [\"6\"], \"textfont\": {\"color\": \"rgb(0, 0, 0)\"}, \"textposition\": \"middle center\", \"x\": [1.0], \"y\": [0.0], \"type\": \"scatter\"}], \"name\": \"1\"}, {\"data\": [{\"hoverinfo\": \"none\", \"line\": {\"color\": \"rgb(0, 0, 0)\", \"width\": 1}, \"mode\": \"lines\", \"x\": [0.0, 0.33, null, 0.3003062713421305, 0.2855225877733855, null, 0.3003062713421305, 0.2629725579755741, null], \"y\": [0.5, 1.0, null, 0.9550095020335311, 0.8882926689752846, null, 0.9550095020335311, 0.9427605821595028, null], \"type\": \"scatter\"}, {\"hoverinfo\": \"none\", \"line\": {\"color\": \"rgb(0, 0, 0)\", \"width\": 1}, \"mode\": \"lines\", \"x\": [0.0, 0.33, null, 0.3003062713421305, 0.2629725579755741, null, 0.3003062713421305, 0.2855225877733855, null], \"y\": [0.5, 0.0, null, 0.04499049796646893, 0.0572394178404972, null, 0.04499049796646893, 0.11170733102471547, null], \"type\": \"scatter\"}, {\"hoverinfo\": \"none\", \"line\": {\"color\": \"rgb(0, 0, 0)\", \"width\": 1}, \"mode\": \"lines\", \"x\": [0.33, 0.66, null, 0.6221212121212122, 0.5888794484132436, null, 0.6221212121212122, 0.5888794484132436, null], \"y\": [1.0, 1.0, null, 1.0, 0.9652590189417244, null, 1.0, 1.0347409810582755, null], \"type\": \"scatter\"}, {\"hoverinfo\": \"none\", \"line\": {\"color\": \"rgb(0, 0, 0)\", \"width\": 1}, \"mode\": \"lines\", \"x\": [0.66, 1.0, null, 0.9621212121212122, 0.9288794484132434, null, 0.9621212121212122, 0.9288794484132434, null], \"y\": [1.0, 1.0, null, 1.0, 0.9652590189417244, null, 1.0, 1.0347409810582755, null], \"type\": \"scatter\"}, {\"hoverinfo\": \"none\", \"line\": {\"color\": \"rgb(0, 0, 0)\", \"width\": 1}, \"mode\": \"lines\", \"x\": [0.66, 0.33, null, 0.35022071942550836, 0.3526100389194443, null, 0.35022071942550836, 0.3833221014449805, null], \"y\": [1.0, 0.0, null, 0.06127490735002531, 0.13359437096827784, null, 0.06127490735002531, 0.09650302407543368, null], \"type\": \"scatter\"}, {\"hoverinfo\": \"none\", \"line\": {\"color\": \"rgb(0, 0, 0)\", \"width\": 1}, \"mode\": \"lines\", \"x\": [1.0, 0.66, null, 0.6806532023433265, 0.6835549327328607, null, 0.6806532023433265, 0.7140012524011855, null], \"y\": [1.0, 0.0, null, 0.06074471277448944, 0.13299554373343975, null, 0.06074471277448944, 0.09511088313140172, null], \"type\": \"scatter\"}, {\"hoverinfo\": \"none\", \"line\": {\"color\": \"rgb(0, 0, 0)\", \"width\": 1}, \"mode\": \"lines\", \"x\": [0.33, 0.66, null, 0.6221212121212122, 0.5888794484132436, null, 0.6221212121212122, 0.5888794484132436, null], \"y\": [0.0, 0.0, null, 0.0, -0.034740981058275576, null, 0.0, 0.034740981058275576, null], \"type\": \"scatter\"}, {\"hoverinfo\": \"none\", \"line\": {\"color\": \"rgb(0, 0, 0)\", \"width\": 1}, \"mode\": \"lines\", \"x\": [0.66, 1.0, null, 0.9621212121212122, 0.9288794484132434, null, 0.9621212121212122, 0.9288794484132434, null], \"y\": [0.0, 0.0, null, 0.0, -0.034740981058275576, null, 0.0, 0.034740981058275576, null], \"type\": \"scatter\"}, {\"hoverinfo\": \"none\", \"marker\": {\"color\": \"rgb(0, 255, 0)\", \"line\": {\"color\": \"rgb(0, 0, 0)\", \"width\": 1}, \"size\": 20}, \"mode\": \"markers+text\", \"text\": [\"0\"], \"textfont\": {\"color\": \"rgb(0, 0, 0)\"}, \"textposition\": \"middle center\", \"x\": [0.0], \"y\": [0.5], \"type\": \"scatter\"}, {\"hoverinfo\": \"none\", \"marker\": {\"color\": \"rgb(0, 255, 0)\", \"line\": {\"color\": \"rgb(0, 0, 0)\", \"width\": 1}, \"size\": 20}, \"mode\": \"markers+text\", \"text\": [\"1\"], \"textfont\": {\"color\": \"rgb(0, 0, 0)\"}, \"textposition\": \"middle center\", \"x\": [0.33], \"y\": [1.0], \"type\": \"scatter\"}, {\"hoverinfo\": \"none\", \"marker\": {\"color\": \"rgb(0, 255, 0)\", \"line\": {\"color\": \"rgb(0, 0, 0)\", \"width\": 1}, \"size\": 20}, \"mode\": \"markers+text\", \"text\": [\"2\"], \"textfont\": {\"color\": \"rgb(0, 0, 0)\"}, \"textposition\": \"middle center\", \"x\": [0.66], \"y\": [1.0], \"type\": \"scatter\"}, {\"hoverinfo\": \"none\", \"marker\": {\"color\": \"rgb(255, 255, 255)\", \"line\": {\"color\": \"rgb(0, 0, 0)\", \"width\": 1}, \"size\": 20}, \"mode\": \"markers+text\", \"text\": [\"3\"], \"textfont\": {\"color\": \"rgb(0, 0, 0)\"}, \"textposition\": \"middle center\", \"x\": [1.0], \"y\": [1.0], \"type\": \"scatter\"}, {\"hoverinfo\": \"none\", \"marker\": {\"color\": \"rgb(255, 255, 255)\", \"line\": {\"color\": \"rgb(0, 0, 0)\", \"width\": 1}, \"size\": 20}, \"mode\": \"markers+text\", \"text\": [\"4\"], \"textfont\": {\"color\": \"rgb(0, 0, 0)\"}, \"textposition\": \"middle center\", \"x\": [0.33], \"y\": [0.0], \"type\": \"scatter\"}, {\"hoverinfo\": \"none\", \"marker\": {\"color\": \"rgb(255, 255, 255)\", \"line\": {\"color\": \"rgb(0, 0, 0)\", \"width\": 1}, \"size\": 20}, \"mode\": \"markers+text\", \"text\": [\"5\"], \"textfont\": {\"color\": \"rgb(0, 0, 0)\"}, \"textposition\": \"middle center\", \"x\": [0.66], \"y\": [0.0], \"type\": \"scatter\"}, {\"hoverinfo\": \"none\", \"marker\": {\"color\": \"rgb(255, 255, 255)\", \"line\": {\"color\": \"rgb(0, 0, 0)\", \"width\": 1}, \"size\": 20}, \"mode\": \"markers+text\", \"text\": [\"6\"], \"textfont\": {\"color\": \"rgb(0, 0, 0)\"}, \"textposition\": \"middle center\", \"x\": [1.0], \"y\": [0.0], \"type\": \"scatter\"}], \"name\": \"2\"}, {\"data\": [{\"hoverinfo\": \"none\", \"line\": {\"color\": \"rgb(0, 0, 0)\", \"width\": 1}, \"mode\": \"lines\", \"x\": [0.0, 0.33, null, 0.3003062713421305, 0.2855225877733855, null, 0.3003062713421305, 0.2629725579755741, null], \"y\": [0.5, 1.0, null, 0.9550095020335311, 0.8882926689752846, null, 0.9550095020335311, 0.9427605821595028, null], \"type\": \"scatter\"}, {\"hoverinfo\": \"none\", \"line\": {\"color\": \"rgb(0, 0, 0)\", \"width\": 1}, \"mode\": \"lines\", \"x\": [0.0, 0.33, null, 0.3003062713421305, 0.2629725579755741, null, 0.3003062713421305, 0.2855225877733855, null], \"y\": [0.5, 0.0, null, 0.04499049796646893, 0.0572394178404972, null, 0.04499049796646893, 0.11170733102471547, null], \"type\": \"scatter\"}, {\"hoverinfo\": \"none\", \"line\": {\"color\": \"rgb(0, 0, 0)\", \"width\": 1}, \"mode\": \"lines\", \"x\": [0.33, 0.66, null, 0.6221212121212122, 0.5888794484132436, null, 0.6221212121212122, 0.5888794484132436, null], \"y\": [1.0, 1.0, null, 1.0, 0.9652590189417244, null, 1.0, 1.0347409810582755, null], \"type\": \"scatter\"}, {\"hoverinfo\": \"none\", \"line\": {\"color\": \"rgb(0, 0, 0)\", \"width\": 1}, \"mode\": \"lines\", \"x\": [0.66, 1.0, null, 0.9621212121212122, 0.9288794484132434, null, 0.9621212121212122, 0.9288794484132434, null], \"y\": [1.0, 1.0, null, 1.0, 0.9652590189417244, null, 1.0, 1.0347409810582755, null], \"type\": \"scatter\"}, {\"hoverinfo\": \"none\", \"line\": {\"color\": \"rgb(0, 0, 0)\", \"width\": 1}, \"mode\": \"lines\", \"x\": [0.66, 0.33, null, 0.35022071942550836, 0.3526100389194443, null, 0.35022071942550836, 0.3833221014449805, null], \"y\": [1.0, 0.0, null, 0.06127490735002531, 0.13359437096827784, null, 0.06127490735002531, 0.09650302407543368, null], \"type\": \"scatter\"}, {\"hoverinfo\": \"none\", \"line\": {\"color\": \"rgb(0, 0, 0)\", \"width\": 1}, \"mode\": \"lines\", \"x\": [1.0, 0.66, null, 0.6806532023433265, 0.6835549327328607, null, 0.6806532023433265, 0.7140012524011855, null], \"y\": [1.0, 0.0, null, 0.06074471277448944, 0.13299554373343975, null, 0.06074471277448944, 0.09511088313140172, null], \"type\": \"scatter\"}, {\"hoverinfo\": \"none\", \"line\": {\"color\": \"rgb(0, 0, 0)\", \"width\": 1}, \"mode\": \"lines\", \"x\": [0.33, 0.66, null, 0.6221212121212122, 0.5888794484132436, null, 0.6221212121212122, 0.5888794484132436, null], \"y\": [0.0, 0.0, null, 0.0, -0.034740981058275576, null, 0.0, 0.034740981058275576, null], \"type\": \"scatter\"}, {\"hoverinfo\": \"none\", \"line\": {\"color\": \"rgb(0, 0, 0)\", \"width\": 1}, \"mode\": \"lines\", \"x\": [0.66, 1.0, null, 0.9621212121212122, 0.9288794484132434, null, 0.9621212121212122, 0.9288794484132434, null], \"y\": [0.0, 0.0, null, 0.0, -0.034740981058275576, null, 0.0, 0.034740981058275576, null], \"type\": \"scatter\"}, {\"hoverinfo\": \"none\", \"marker\": {\"color\": \"rgb(0, 255, 0)\", \"line\": {\"color\": \"rgb(0, 0, 0)\", \"width\": 1}, \"size\": 20}, \"mode\": \"markers+text\", \"text\": [\"0\"], \"textfont\": {\"color\": \"rgb(0, 0, 0)\"}, \"textposition\": \"middle center\", \"x\": [0.0], \"y\": [0.5], \"type\": \"scatter\"}, {\"hoverinfo\": \"none\", \"marker\": {\"color\": \"rgb(0, 255, 0)\", \"line\": {\"color\": \"rgb(0, 0, 0)\", \"width\": 1}, \"size\": 20}, \"mode\": \"markers+text\", \"text\": [\"1\"], \"textfont\": {\"color\": \"rgb(0, 0, 0)\"}, \"textposition\": \"middle center\", \"x\": [0.33], \"y\": [1.0], \"type\": \"scatter\"}, {\"hoverinfo\": \"none\", \"marker\": {\"color\": \"rgb(0, 255, 0)\", \"line\": {\"color\": \"rgb(0, 0, 0)\", \"width\": 1}, \"size\": 20}, \"mode\": \"markers+text\", \"text\": [\"2\"], \"textfont\": {\"color\": \"rgb(0, 0, 0)\"}, \"textposition\": \"middle center\", \"x\": [0.66], \"y\": [1.0], \"type\": \"scatter\"}, {\"hoverinfo\": \"none\", \"marker\": {\"color\": \"rgb(0, 255, 0)\", \"line\": {\"color\": \"rgb(0, 0, 0)\", \"width\": 1}, \"size\": 20}, \"mode\": \"markers+text\", \"text\": [\"3\"], \"textfont\": {\"color\": \"rgb(0, 0, 0)\"}, \"textposition\": \"middle center\", \"x\": [1.0], \"y\": [1.0], \"type\": \"scatter\"}, {\"hoverinfo\": \"none\", \"marker\": {\"color\": \"rgb(255, 255, 255)\", \"line\": {\"color\": \"rgb(0, 0, 0)\", \"width\": 1}, \"size\": 20}, \"mode\": \"markers+text\", \"text\": [\"4\"], \"textfont\": {\"color\": \"rgb(0, 0, 0)\"}, \"textposition\": \"middle center\", \"x\": [0.33], \"y\": [0.0], \"type\": \"scatter\"}, {\"hoverinfo\": \"none\", \"marker\": {\"color\": \"rgb(255, 255, 255)\", \"line\": {\"color\": \"rgb(0, 0, 0)\", \"width\": 1}, \"size\": 20}, \"mode\": \"markers+text\", \"text\": [\"5\"], \"textfont\": {\"color\": \"rgb(0, 0, 0)\"}, \"textposition\": \"middle center\", \"x\": [0.66], \"y\": [0.0], \"type\": \"scatter\"}, {\"hoverinfo\": \"none\", \"marker\": {\"color\": \"rgb(255, 255, 255)\", \"line\": {\"color\": \"rgb(0, 0, 0)\", \"width\": 1}, \"size\": 20}, \"mode\": \"markers+text\", \"text\": [\"6\"], \"textfont\": {\"color\": \"rgb(0, 0, 0)\"}, \"textposition\": \"middle center\", \"x\": [1.0], \"y\": [0.0], \"type\": \"scatter\"}], \"name\": \"3\"}, {\"data\": [{\"hoverinfo\": \"none\", \"line\": {\"color\": \"rgb(0, 0, 0)\", \"width\": 1}, \"mode\": \"lines\", \"x\": [0.0, 0.33, null, 0.3003062713421305, 0.2855225877733855, null, 0.3003062713421305, 0.2629725579755741, null], \"y\": [0.5, 1.0, null, 0.9550095020335311, 0.8882926689752846, null, 0.9550095020335311, 0.9427605821595028, null], \"type\": \"scatter\"}, {\"hoverinfo\": \"none\", \"line\": {\"color\": \"rgb(0, 0, 0)\", \"width\": 1}, \"mode\": \"lines\", \"x\": [0.0, 0.33, null, 0.3003062713421305, 0.2629725579755741, null, 0.3003062713421305, 0.2855225877733855, null], \"y\": [0.5, 0.0, null, 0.04499049796646893, 0.0572394178404972, null, 0.04499049796646893, 0.11170733102471547, null], \"type\": \"scatter\"}, {\"hoverinfo\": \"none\", \"line\": {\"color\": \"rgb(0, 0, 0)\", \"width\": 1}, \"mode\": \"lines\", \"x\": [0.33, 0.66, null, 0.6221212121212122, 0.5888794484132436, null, 0.6221212121212122, 0.5888794484132436, null], \"y\": [1.0, 1.0, null, 1.0, 0.9652590189417244, null, 1.0, 1.0347409810582755, null], \"type\": \"scatter\"}, {\"hoverinfo\": \"none\", \"line\": {\"color\": \"rgb(0, 0, 0)\", \"width\": 1}, \"mode\": \"lines\", \"x\": [0.66, 1.0, null, 0.9621212121212122, 0.9288794484132434, null, 0.9621212121212122, 0.9288794484132434, null], \"y\": [1.0, 1.0, null, 1.0, 0.9652590189417244, null, 1.0, 1.0347409810582755, null], \"type\": \"scatter\"}, {\"hoverinfo\": \"none\", \"line\": {\"color\": \"rgb(0, 0, 0)\", \"width\": 1}, \"mode\": \"lines\", \"x\": [0.66, 0.33, null, 0.35022071942550836, 0.3526100389194443, null, 0.35022071942550836, 0.3833221014449805, null], \"y\": [1.0, 0.0, null, 0.06127490735002531, 0.13359437096827784, null, 0.06127490735002531, 0.09650302407543368, null], \"type\": \"scatter\"}, {\"hoverinfo\": \"none\", \"line\": {\"color\": \"rgb(0, 0, 0)\", \"width\": 1}, \"mode\": \"lines\", \"x\": [1.0, 0.66, null, 0.6806532023433265, 0.6835549327328607, null, 0.6806532023433265, 0.7140012524011855, null], \"y\": [1.0, 0.0, null, 0.06074471277448944, 0.13299554373343975, null, 0.06074471277448944, 0.09511088313140172, null], \"type\": \"scatter\"}, {\"hoverinfo\": \"none\", \"line\": {\"color\": \"rgb(0, 0, 0)\", \"width\": 1}, \"mode\": \"lines\", \"x\": [0.33, 0.66, null, 0.6221212121212122, 0.5888794484132436, null, 0.6221212121212122, 0.5888794484132436, null], \"y\": [0.0, 0.0, null, 0.0, -0.034740981058275576, null, 0.0, 0.034740981058275576, null], \"type\": \"scatter\"}, {\"hoverinfo\": \"none\", \"line\": {\"color\": \"rgb(0, 0, 0)\", \"width\": 1}, \"mode\": \"lines\", \"x\": [0.66, 1.0, null, 0.9621212121212122, 0.9288794484132434, null, 0.9621212121212122, 0.9288794484132434, null], \"y\": [0.0, 0.0, null, 0.0, -0.034740981058275576, null, 0.0, 0.034740981058275576, null], \"type\": \"scatter\"}, {\"hoverinfo\": \"none\", \"marker\": {\"color\": \"rgb(0, 255, 0)\", \"line\": {\"color\": \"rgb(0, 0, 0)\", \"width\": 1}, \"size\": 20}, \"mode\": \"markers+text\", \"text\": [\"0\"], \"textfont\": {\"color\": \"rgb(0, 0, 0)\"}, \"textposition\": \"middle center\", \"x\": [0.0], \"y\": [0.5], \"type\": \"scatter\"}, {\"hoverinfo\": \"none\", \"marker\": {\"color\": \"rgb(0, 255, 0)\", \"line\": {\"color\": \"rgb(0, 0, 0)\", \"width\": 1}, \"size\": 20}, \"mode\": \"markers+text\", \"text\": [\"1\"], \"textfont\": {\"color\": \"rgb(0, 0, 0)\"}, \"textposition\": \"middle center\", \"x\": [0.33], \"y\": [1.0], \"type\": \"scatter\"}, {\"hoverinfo\": \"none\", \"marker\": {\"color\": \"rgb(0, 255, 0)\", \"line\": {\"color\": \"rgb(0, 0, 0)\", \"width\": 1}, \"size\": 20}, \"mode\": \"markers+text\", \"text\": [\"2\"], \"textfont\": {\"color\": \"rgb(0, 0, 0)\"}, \"textposition\": \"middle center\", \"x\": [0.66], \"y\": [1.0], \"type\": \"scatter\"}, {\"hoverinfo\": \"none\", \"marker\": {\"color\": \"rgb(0, 255, 0)\", \"line\": {\"color\": \"rgb(0, 0, 0)\", \"width\": 1}, \"size\": 20}, \"mode\": \"markers+text\", \"text\": [\"3\"], \"textfont\": {\"color\": \"rgb(0, 0, 0)\"}, \"textposition\": \"middle center\", \"x\": [1.0], \"y\": [1.0], \"type\": \"scatter\"}, {\"hoverinfo\": \"none\", \"marker\": {\"color\": \"rgb(0, 255, 0)\", \"line\": {\"color\": \"rgb(0, 0, 0)\", \"width\": 1}, \"size\": 20}, \"mode\": \"markers+text\", \"text\": [\"4\"], \"textfont\": {\"color\": \"rgb(0, 0, 0)\"}, \"textposition\": \"middle center\", \"x\": [0.33], \"y\": [0.0], \"type\": \"scatter\"}, {\"hoverinfo\": \"none\", \"marker\": {\"color\": \"rgb(255, 255, 255)\", \"line\": {\"color\": \"rgb(0, 0, 0)\", \"width\": 1}, \"size\": 20}, \"mode\": \"markers+text\", \"text\": [\"5\"], \"textfont\": {\"color\": \"rgb(0, 0, 0)\"}, \"textposition\": \"middle center\", \"x\": [0.66], \"y\": [0.0], \"type\": \"scatter\"}, {\"hoverinfo\": \"none\", \"marker\": {\"color\": \"rgb(255, 255, 255)\", \"line\": {\"color\": \"rgb(0, 0, 0)\", \"width\": 1}, \"size\": 20}, \"mode\": \"markers+text\", \"text\": [\"6\"], \"textfont\": {\"color\": \"rgb(0, 0, 0)\"}, \"textposition\": \"middle center\", \"x\": [1.0], \"y\": [0.0], \"type\": \"scatter\"}], \"name\": \"4\"}, {\"data\": [{\"hoverinfo\": \"none\", \"line\": {\"color\": \"rgb(0, 0, 0)\", \"width\": 1}, \"mode\": \"lines\", \"x\": [0.0, 0.33, null, 0.3003062713421305, 0.2855225877733855, null, 0.3003062713421305, 0.2629725579755741, null], \"y\": [0.5, 1.0, null, 0.9550095020335311, 0.8882926689752846, null, 0.9550095020335311, 0.9427605821595028, null], \"type\": \"scatter\"}, {\"hoverinfo\": \"none\", \"line\": {\"color\": \"rgb(0, 0, 0)\", \"width\": 1}, \"mode\": \"lines\", \"x\": [0.0, 0.33, null, 0.3003062713421305, 0.2629725579755741, null, 0.3003062713421305, 0.2855225877733855, null], \"y\": [0.5, 0.0, null, 0.04499049796646893, 0.0572394178404972, null, 0.04499049796646893, 0.11170733102471547, null], \"type\": \"scatter\"}, {\"hoverinfo\": \"none\", \"line\": {\"color\": \"rgb(0, 0, 0)\", \"width\": 1}, \"mode\": \"lines\", \"x\": [0.33, 0.66, null, 0.6221212121212122, 0.5888794484132436, null, 0.6221212121212122, 0.5888794484132436, null], \"y\": [1.0, 1.0, null, 1.0, 0.9652590189417244, null, 1.0, 1.0347409810582755, null], \"type\": \"scatter\"}, {\"hoverinfo\": \"none\", \"line\": {\"color\": \"rgb(0, 0, 0)\", \"width\": 1}, \"mode\": \"lines\", \"x\": [0.66, 1.0, null, 0.9621212121212122, 0.9288794484132434, null, 0.9621212121212122, 0.9288794484132434, null], \"y\": [1.0, 1.0, null, 1.0, 0.9652590189417244, null, 1.0, 1.0347409810582755, null], \"type\": \"scatter\"}, {\"hoverinfo\": \"none\", \"line\": {\"color\": \"rgb(0, 0, 0)\", \"width\": 1}, \"mode\": \"lines\", \"x\": [0.66, 0.33, null, 0.35022071942550836, 0.3526100389194443, null, 0.35022071942550836, 0.3833221014449805, null], \"y\": [1.0, 0.0, null, 0.06127490735002531, 0.13359437096827784, null, 0.06127490735002531, 0.09650302407543368, null], \"type\": \"scatter\"}, {\"hoverinfo\": \"none\", \"line\": {\"color\": \"rgb(0, 0, 0)\", \"width\": 1}, \"mode\": \"lines\", \"x\": [1.0, 0.66, null, 0.6806532023433265, 0.6835549327328607, null, 0.6806532023433265, 0.7140012524011855, null], \"y\": [1.0, 0.0, null, 0.06074471277448944, 0.13299554373343975, null, 0.06074471277448944, 0.09511088313140172, null], \"type\": \"scatter\"}, {\"hoverinfo\": \"none\", \"line\": {\"color\": \"rgb(0, 0, 0)\", \"width\": 1}, \"mode\": \"lines\", \"x\": [0.33, 0.66, null, 0.6221212121212122, 0.5888794484132436, null, 0.6221212121212122, 0.5888794484132436, null], \"y\": [0.0, 0.0, null, 0.0, -0.034740981058275576, null, 0.0, 0.034740981058275576, null], \"type\": \"scatter\"}, {\"hoverinfo\": \"none\", \"line\": {\"color\": \"rgb(0, 0, 0)\", \"width\": 1}, \"mode\": \"lines\", \"x\": [0.66, 1.0, null, 0.9621212121212122, 0.9288794484132434, null, 0.9621212121212122, 0.9288794484132434, null], \"y\": [0.0, 0.0, null, 0.0, -0.034740981058275576, null, 0.0, 0.034740981058275576, null], \"type\": \"scatter\"}, {\"hoverinfo\": \"none\", \"marker\": {\"color\": \"rgb(0, 255, 0)\", \"line\": {\"color\": \"rgb(0, 0, 0)\", \"width\": 1}, \"size\": 20}, \"mode\": \"markers+text\", \"text\": [\"0\"], \"textfont\": {\"color\": \"rgb(0, 0, 0)\"}, \"textposition\": \"middle center\", \"x\": [0.0], \"y\": [0.5], \"type\": \"scatter\"}, {\"hoverinfo\": \"none\", \"marker\": {\"color\": \"rgb(0, 255, 0)\", \"line\": {\"color\": \"rgb(0, 0, 0)\", \"width\": 1}, \"size\": 20}, \"mode\": \"markers+text\", \"text\": [\"1\"], \"textfont\": {\"color\": \"rgb(0, 0, 0)\"}, \"textposition\": \"middle center\", \"x\": [0.33], \"y\": [1.0], \"type\": \"scatter\"}, {\"hoverinfo\": \"none\", \"marker\": {\"color\": \"rgb(0, 255, 0)\", \"line\": {\"color\": \"rgb(0, 0, 0)\", \"width\": 1}, \"size\": 20}, \"mode\": \"markers+text\", \"text\": [\"2\"], \"textfont\": {\"color\": \"rgb(0, 0, 0)\"}, \"textposition\": \"middle center\", \"x\": [0.66], \"y\": [1.0], \"type\": \"scatter\"}, {\"hoverinfo\": \"none\", \"marker\": {\"color\": \"rgb(0, 255, 0)\", \"line\": {\"color\": \"rgb(0, 0, 0)\", \"width\": 1}, \"size\": 20}, \"mode\": \"markers+text\", \"text\": [\"3\"], \"textfont\": {\"color\": \"rgb(0, 0, 0)\"}, \"textposition\": \"middle center\", \"x\": [1.0], \"y\": [1.0], \"type\": \"scatter\"}, {\"hoverinfo\": \"none\", \"marker\": {\"color\": \"rgb(0, 255, 0)\", \"line\": {\"color\": \"rgb(0, 0, 0)\", \"width\": 1}, \"size\": 20}, \"mode\": \"markers+text\", \"text\": [\"4\"], \"textfont\": {\"color\": \"rgb(0, 0, 0)\"}, \"textposition\": \"middle center\", \"x\": [0.33], \"y\": [0.0], \"type\": \"scatter\"}, {\"hoverinfo\": \"none\", \"marker\": {\"color\": \"rgb(0, 255, 0)\", \"line\": {\"color\": \"rgb(0, 0, 0)\", \"width\": 1}, \"size\": 20}, \"mode\": \"markers+text\", \"text\": [\"5\"], \"textfont\": {\"color\": \"rgb(0, 0, 0)\"}, \"textposition\": \"middle center\", \"x\": [0.66], \"y\": [0.0], \"type\": \"scatter\"}, {\"hoverinfo\": \"none\", \"marker\": {\"color\": \"rgb(255, 255, 255)\", \"line\": {\"color\": \"rgb(0, 0, 0)\", \"width\": 1}, \"size\": 20}, \"mode\": \"markers+text\", \"text\": [\"6\"], \"textfont\": {\"color\": \"rgb(0, 0, 0)\"}, \"textposition\": \"middle center\", \"x\": [1.0], \"y\": [0.0], \"type\": \"scatter\"}], \"name\": \"5\"}, {\"data\": [{\"hoverinfo\": \"none\", \"line\": {\"color\": \"rgb(0, 0, 0)\", \"width\": 1}, \"mode\": \"lines\", \"x\": [0.0, 0.33, null, 0.3003062713421305, 0.2855225877733855, null, 0.3003062713421305, 0.2629725579755741, null], \"y\": [0.5, 1.0, null, 0.9550095020335311, 0.8882926689752846, null, 0.9550095020335311, 0.9427605821595028, null], \"type\": \"scatter\"}, {\"hoverinfo\": \"none\", \"line\": {\"color\": \"rgb(0, 0, 0)\", \"width\": 1}, \"mode\": \"lines\", \"x\": [0.0, 0.33, null, 0.3003062713421305, 0.2629725579755741, null, 0.3003062713421305, 0.2855225877733855, null], \"y\": [0.5, 0.0, null, 0.04499049796646893, 0.0572394178404972, null, 0.04499049796646893, 0.11170733102471547, null], \"type\": \"scatter\"}, {\"hoverinfo\": \"none\", \"line\": {\"color\": \"rgb(0, 0, 0)\", \"width\": 1}, \"mode\": \"lines\", \"x\": [0.33, 0.66, null, 0.6221212121212122, 0.5888794484132436, null, 0.6221212121212122, 0.5888794484132436, null], \"y\": [1.0, 1.0, null, 1.0, 0.9652590189417244, null, 1.0, 1.0347409810582755, null], \"type\": \"scatter\"}, {\"hoverinfo\": \"none\", \"line\": {\"color\": \"rgb(0, 0, 0)\", \"width\": 1}, \"mode\": \"lines\", \"x\": [0.66, 1.0, null, 0.9621212121212122, 0.9288794484132434, null, 0.9621212121212122, 0.9288794484132434, null], \"y\": [1.0, 1.0, null, 1.0, 0.9652590189417244, null, 1.0, 1.0347409810582755, null], \"type\": \"scatter\"}, {\"hoverinfo\": \"none\", \"line\": {\"color\": \"rgb(0, 0, 0)\", \"width\": 1}, \"mode\": \"lines\", \"x\": [0.66, 0.33, null, 0.35022071942550836, 0.3526100389194443, null, 0.35022071942550836, 0.3833221014449805, null], \"y\": [1.0, 0.0, null, 0.06127490735002531, 0.13359437096827784, null, 0.06127490735002531, 0.09650302407543368, null], \"type\": \"scatter\"}, {\"hoverinfo\": \"none\", \"line\": {\"color\": \"rgb(0, 0, 0)\", \"width\": 1}, \"mode\": \"lines\", \"x\": [1.0, 0.66, null, 0.6806532023433265, 0.6835549327328607, null, 0.6806532023433265, 0.7140012524011855, null], \"y\": [1.0, 0.0, null, 0.06074471277448944, 0.13299554373343975, null, 0.06074471277448944, 0.09511088313140172, null], \"type\": \"scatter\"}, {\"hoverinfo\": \"none\", \"line\": {\"color\": \"rgb(0, 0, 0)\", \"width\": 1}, \"mode\": \"lines\", \"x\": [0.33, 0.66, null, 0.6221212121212122, 0.5888794484132436, null, 0.6221212121212122, 0.5888794484132436, null], \"y\": [0.0, 0.0, null, 0.0, -0.034740981058275576, null, 0.0, 0.034740981058275576, null], \"type\": \"scatter\"}, {\"hoverinfo\": \"none\", \"line\": {\"color\": \"rgb(0, 0, 0)\", \"width\": 1}, \"mode\": \"lines\", \"x\": [0.66, 1.0, null, 0.9621212121212122, 0.9288794484132434, null, 0.9621212121212122, 0.9288794484132434, null], \"y\": [0.0, 0.0, null, 0.0, -0.034740981058275576, null, 0.0, 0.034740981058275576, null], \"type\": \"scatter\"}, {\"hoverinfo\": \"none\", \"marker\": {\"color\": \"rgb(0, 255, 0)\", \"line\": {\"color\": \"rgb(0, 0, 0)\", \"width\": 1}, \"size\": 20}, \"mode\": \"markers+text\", \"text\": [\"0\"], \"textfont\": {\"color\": \"rgb(0, 0, 0)\"}, \"textposition\": \"middle center\", \"x\": [0.0], \"y\": [0.5], \"type\": \"scatter\"}, {\"hoverinfo\": \"none\", \"marker\": {\"color\": \"rgb(0, 255, 0)\", \"line\": {\"color\": \"rgb(0, 0, 0)\", \"width\": 1}, \"size\": 20}, \"mode\": \"markers+text\", \"text\": [\"1\"], \"textfont\": {\"color\": \"rgb(0, 0, 0)\"}, \"textposition\": \"middle center\", \"x\": [0.33], \"y\": [1.0], \"type\": \"scatter\"}, {\"hoverinfo\": \"none\", \"marker\": {\"color\": \"rgb(0, 255, 0)\", \"line\": {\"color\": \"rgb(0, 0, 0)\", \"width\": 1}, \"size\": 20}, \"mode\": \"markers+text\", \"text\": [\"2\"], \"textfont\": {\"color\": \"rgb(0, 0, 0)\"}, \"textposition\": \"middle center\", \"x\": [0.66], \"y\": [1.0], \"type\": \"scatter\"}, {\"hoverinfo\": \"none\", \"marker\": {\"color\": \"rgb(0, 255, 0)\", \"line\": {\"color\": \"rgb(0, 0, 0)\", \"width\": 1}, \"size\": 20}, \"mode\": \"markers+text\", \"text\": [\"3\"], \"textfont\": {\"color\": \"rgb(0, 0, 0)\"}, \"textposition\": \"middle center\", \"x\": [1.0], \"y\": [1.0], \"type\": \"scatter\"}, {\"hoverinfo\": \"none\", \"marker\": {\"color\": \"rgb(0, 255, 0)\", \"line\": {\"color\": \"rgb(0, 0, 0)\", \"width\": 1}, \"size\": 20}, \"mode\": \"markers+text\", \"text\": [\"4\"], \"textfont\": {\"color\": \"rgb(0, 0, 0)\"}, \"textposition\": \"middle center\", \"x\": [0.33], \"y\": [0.0], \"type\": \"scatter\"}, {\"hoverinfo\": \"none\", \"marker\": {\"color\": \"rgb(0, 255, 0)\", \"line\": {\"color\": \"rgb(0, 0, 0)\", \"width\": 1}, \"size\": 20}, \"mode\": \"markers+text\", \"text\": [\"5\"], \"textfont\": {\"color\": \"rgb(0, 0, 0)\"}, \"textposition\": \"middle center\", \"x\": [0.66], \"y\": [0.0], \"type\": \"scatter\"}, {\"hoverinfo\": \"none\", \"marker\": {\"color\": \"rgb(0, 255, 0)\", \"line\": {\"color\": \"rgb(0, 0, 0)\", \"width\": 1}, \"size\": 20}, \"mode\": \"markers+text\", \"text\": [\"6\"], \"textfont\": {\"color\": \"rgb(0, 0, 0)\"}, \"textposition\": \"middle center\", \"x\": [1.0], \"y\": [0.0], \"type\": \"scatter\"}], \"name\": \"6\"}]);}).then(function(){Plotly.animate('9dfc022e-68e0-4630-95db-8e15c86ec2d4');})\n",
       "        });</script>"
      ],
      "text/vnd.plotly.v1+html": [
       "<div id=\"9dfc022e-68e0-4630-95db-8e15c86ec2d4\" style=\"height: 256.0px; width: 408.0px;\" class=\"plotly-graph-div\"></div><script type=\"text/javascript\">require([\"plotly\"], function(Plotly) { window.PLOTLYENV=window.PLOTLYENV || {};window.PLOTLYENV.BASE_URL=\"https://plot.ly\";\n",
       "        Plotly.plot(\n",
       "            '9dfc022e-68e0-4630-95db-8e15c86ec2d4',\n",
       "            [{\"hoverinfo\": \"none\", \"line\": {\"color\": \"rgb(0, 0, 0)\", \"width\": 1}, \"mode\": \"lines\", \"x\": [0.0, 0.33, null, 0.3003062713421305, 0.2855225877733855, null, 0.3003062713421305, 0.2629725579755741, null], \"y\": [0.5, 1.0, null, 0.9550095020335311, 0.8882926689752846, null, 0.9550095020335311, 0.9427605821595028, null], \"type\": \"scatter\", \"uid\": \"205a369c-997e-11e8-b481-9a5fd3dcadb7\"}, {\"hoverinfo\": \"none\", \"line\": {\"color\": \"rgb(0, 0, 0)\", \"width\": 1}, \"mode\": \"lines\", \"x\": [0.0, 0.33, null, 0.3003062713421305, 0.2629725579755741, null, 0.3003062713421305, 0.2855225877733855, null], \"y\": [0.5, 0.0, null, 0.04499049796646893, 0.0572394178404972, null, 0.04499049796646893, 0.11170733102471547, null], \"type\": \"scatter\", \"uid\": \"205a369d-997e-11e8-8537-9a5fd3dcadb7\"}, {\"hoverinfo\": \"none\", \"line\": {\"color\": \"rgb(0, 0, 0)\", \"width\": 1}, \"mode\": \"lines\", \"x\": [0.33, 0.66, null, 0.6221212121212122, 0.5888794484132436, null, 0.6221212121212122, 0.5888794484132436, null], \"y\": [1.0, 1.0, null, 1.0, 0.9652590189417244, null, 1.0, 1.0347409810582755, null], \"type\": \"scatter\", \"uid\": \"205a369e-997e-11e8-a437-9a5fd3dcadb7\"}, {\"hoverinfo\": \"none\", \"line\": {\"color\": \"rgb(0, 0, 0)\", \"width\": 1}, \"mode\": \"lines\", \"x\": [0.66, 1.0, null, 0.9621212121212122, 0.9288794484132434, null, 0.9621212121212122, 0.9288794484132434, null], \"y\": [1.0, 1.0, null, 1.0, 0.9652590189417244, null, 1.0, 1.0347409810582755, null], \"type\": \"scatter\", \"uid\": \"205a369f-997e-11e8-8dcf-9a5fd3dcadb7\"}, {\"hoverinfo\": \"none\", \"line\": {\"color\": \"rgb(0, 0, 0)\", \"width\": 1}, \"mode\": \"lines\", \"x\": [0.66, 0.33, null, 0.35022071942550836, 0.3526100389194443, null, 0.35022071942550836, 0.3833221014449805, null], \"y\": [1.0, 0.0, null, 0.06127490735002531, 0.13359437096827784, null, 0.06127490735002531, 0.09650302407543368, null], \"type\": \"scatter\", \"uid\": \"205a36a0-997e-11e8-8601-9a5fd3dcadb7\"}, {\"hoverinfo\": \"none\", \"line\": {\"color\": \"rgb(0, 0, 0)\", \"width\": 1}, \"mode\": \"lines\", \"x\": [1.0, 0.66, null, 0.6806532023433265, 0.6835549327328607, null, 0.6806532023433265, 0.7140012524011855, null], \"y\": [1.0, 0.0, null, 0.06074471277448944, 0.13299554373343975, null, 0.06074471277448944, 0.09511088313140172, null], \"type\": \"scatter\", \"uid\": \"205a36a1-997e-11e8-aaef-9a5fd3dcadb7\"}, {\"hoverinfo\": \"none\", \"line\": {\"color\": \"rgb(0, 0, 0)\", \"width\": 1}, \"mode\": \"lines\", \"x\": [0.33, 0.66, null, 0.6221212121212122, 0.5888794484132436, null, 0.6221212121212122, 0.5888794484132436, null], \"y\": [0.0, 0.0, null, 0.0, -0.034740981058275576, null, 0.0, 0.034740981058275576, null], \"type\": \"scatter\", \"uid\": \"205a4a3e-997e-11e8-aed1-9a5fd3dcadb7\"}, {\"hoverinfo\": \"none\", \"line\": {\"color\": \"rgb(0, 0, 0)\", \"width\": 1}, \"mode\": \"lines\", \"x\": [0.66, 1.0, null, 0.9621212121212122, 0.9288794484132434, null, 0.9621212121212122, 0.9288794484132434, null], \"y\": [0.0, 0.0, null, 0.0, -0.034740981058275576, null, 0.0, 0.034740981058275576, null], \"type\": \"scatter\", \"uid\": \"205a4a3f-997e-11e8-b6bb-9a5fd3dcadb7\"}, {\"hoverinfo\": \"none\", \"marker\": {\"color\": \"rgb(0, 255, 0)\", \"line\": {\"color\": \"rgb(0, 0, 0)\", \"width\": 1}, \"size\": 20}, \"mode\": \"markers+text\", \"text\": [\"0\"], \"textfont\": {\"color\": \"rgb(0, 0, 0)\"}, \"textposition\": \"middle center\", \"x\": [0.0], \"y\": [0.5], \"type\": \"scatter\", \"uid\": \"205a4a40-997e-11e8-b367-9a5fd3dcadb7\"}, {\"hoverinfo\": \"none\", \"marker\": {\"color\": \"rgb(255, 255, 255)\", \"line\": {\"color\": \"rgb(0, 0, 0)\", \"width\": 1}, \"size\": 20}, \"mode\": \"markers+text\", \"text\": [\"1\"], \"textfont\": {\"color\": \"rgb(0, 0, 0)\"}, \"textposition\": \"middle center\", \"x\": [0.33], \"y\": [1.0], \"type\": \"scatter\", \"uid\": \"205a4a41-997e-11e8-b830-9a5fd3dcadb7\"}, {\"hoverinfo\": \"none\", \"marker\": {\"color\": \"rgb(255, 255, 255)\", \"line\": {\"color\": \"rgb(0, 0, 0)\", \"width\": 1}, \"size\": 20}, \"mode\": \"markers+text\", \"text\": [\"2\"], \"textfont\": {\"color\": \"rgb(0, 0, 0)\"}, \"textposition\": \"middle center\", \"x\": [0.66], \"y\": [1.0], \"type\": \"scatter\", \"uid\": \"205a4a42-997e-11e8-b0dd-9a5fd3dcadb7\"}, {\"hoverinfo\": \"none\", \"marker\": {\"color\": \"rgb(255, 255, 255)\", \"line\": {\"color\": \"rgb(0, 0, 0)\", \"width\": 1}, \"size\": 20}, \"mode\": \"markers+text\", \"text\": [\"3\"], \"textfont\": {\"color\": \"rgb(0, 0, 0)\"}, \"textposition\": \"middle center\", \"x\": [1.0], \"y\": [1.0], \"type\": \"scatter\", \"uid\": \"205a4a43-997e-11e8-8c63-9a5fd3dcadb7\"}, {\"hoverinfo\": \"none\", \"marker\": {\"color\": \"rgb(255, 255, 255)\", \"line\": {\"color\": \"rgb(0, 0, 0)\", \"width\": 1}, \"size\": 20}, \"mode\": \"markers+text\", \"text\": [\"4\"], \"textfont\": {\"color\": \"rgb(0, 0, 0)\"}, \"textposition\": \"middle center\", \"x\": [0.33], \"y\": [0.0], \"type\": \"scatter\", \"uid\": \"205a4a44-997e-11e8-98c6-9a5fd3dcadb7\"}, {\"hoverinfo\": \"none\", \"marker\": {\"color\": \"rgb(255, 255, 255)\", \"line\": {\"color\": \"rgb(0, 0, 0)\", \"width\": 1}, \"size\": 20}, \"mode\": \"markers+text\", \"text\": [\"5\"], \"textfont\": {\"color\": \"rgb(0, 0, 0)\"}, \"textposition\": \"middle center\", \"x\": [0.66], \"y\": [0.0], \"type\": \"scatter\", \"uid\": \"205a4a45-997e-11e8-bd2d-9a5fd3dcadb7\"}, {\"hoverinfo\": \"none\", \"marker\": {\"color\": \"rgb(255, 255, 255)\", \"line\": {\"color\": \"rgb(0, 0, 0)\", \"width\": 1}, \"size\": 20}, \"mode\": \"markers+text\", \"text\": [\"6\"], \"textfont\": {\"color\": \"rgb(0, 0, 0)\"}, \"textposition\": \"middle center\", \"x\": [1.0], \"y\": [0.0], \"type\": \"scatter\", \"uid\": \"205a4a46-997e-11e8-8123-9a5fd3dcadb7\"}],\n",
       "            {\"height\": 256.0, \"margin\": {\"b\": 0, \"l\": 0, \"r\": 0, \"t\": 0}, \"showlegend\": false, \"sliders\": [{\"currentvalue\": {\"visible\": false}, \"steps\": [{\"args\": [[0], {\"frame\": {\"redraw\": false}, \"mode\": \"immediate\"}], \"label\": \"\", \"method\": \"animate\"}, {\"args\": [[1], {\"frame\": {\"redraw\": false}, \"mode\": \"immediate\"}], \"label\": \"\", \"method\": \"animate\"}, {\"args\": [[2], {\"frame\": {\"redraw\": false}, \"mode\": \"immediate\"}], \"label\": \"\", \"method\": \"animate\"}, {\"args\": [[3], {\"frame\": {\"redraw\": false}, \"mode\": \"immediate\"}], \"label\": \"\", \"method\": \"animate\"}, {\"args\": [[4], {\"frame\": {\"redraw\": false}, \"mode\": \"immediate\"}], \"label\": \"\", \"method\": \"animate\"}, {\"args\": [[5], {\"frame\": {\"redraw\": false}, \"mode\": \"immediate\"}], \"label\": \"\", \"method\": \"animate\"}, {\"args\": [[6], {\"frame\": {\"redraw\": false}, \"mode\": \"immediate\"}], \"label\": \"\", \"method\": \"animate\"}]}], \"updatemenus\": [{\"buttons\": [{\"args\": [null, {\"frame\": {\"redraw\": false}, \"fromcurrent\": true}], \"label\": \"Play\", \"method\": \"animate\"}, {\"args\": [[null], {\"frame\": {\"redraw\": false}, \"mode\": \"immediate\"}], \"label\": \"Pause\", \"method\": \"animate\"}], \"showactive\": true, \"type\": \"buttons\"}], \"width\": 408.0, \"xaxis\": {\"showgrid\": false, \"showticklabels\": false, \"zeroline\": false}, \"yaxis\": {\"showgrid\": false, \"showticklabels\": false, \"zeroline\": false}},\n",
       "            {\"showLink\": false, \"linkText\": \"Export to plot.ly\", \"displayModeBar\": false}\n",
       "        ).then(function () {return Plotly.addFrames('9dfc022e-68e0-4630-95db-8e15c86ec2d4',[{\"data\": [{\"hoverinfo\": \"none\", \"line\": {\"color\": \"rgb(0, 0, 0)\", \"width\": 1}, \"mode\": \"lines\", \"x\": [0.0, 0.33, null, 0.3003062713421305, 0.2855225877733855, null, 0.3003062713421305, 0.2629725579755741, null], \"y\": [0.5, 1.0, null, 0.9550095020335311, 0.8882926689752846, null, 0.9550095020335311, 0.9427605821595028, null], \"type\": \"scatter\"}, {\"hoverinfo\": \"none\", \"line\": {\"color\": \"rgb(0, 0, 0)\", \"width\": 1}, \"mode\": \"lines\", \"x\": [0.0, 0.33, null, 0.3003062713421305, 0.2629725579755741, null, 0.3003062713421305, 0.2855225877733855, null], \"y\": [0.5, 0.0, null, 0.04499049796646893, 0.0572394178404972, null, 0.04499049796646893, 0.11170733102471547, null], \"type\": \"scatter\"}, {\"hoverinfo\": \"none\", \"line\": {\"color\": \"rgb(0, 0, 0)\", \"width\": 1}, \"mode\": \"lines\", \"x\": [0.33, 0.66, null, 0.6221212121212122, 0.5888794484132436, null, 0.6221212121212122, 0.5888794484132436, null], \"y\": [1.0, 1.0, null, 1.0, 0.9652590189417244, null, 1.0, 1.0347409810582755, null], \"type\": \"scatter\"}, {\"hoverinfo\": \"none\", \"line\": {\"color\": \"rgb(0, 0, 0)\", \"width\": 1}, \"mode\": \"lines\", \"x\": [0.66, 1.0, null, 0.9621212121212122, 0.9288794484132434, null, 0.9621212121212122, 0.9288794484132434, null], \"y\": [1.0, 1.0, null, 1.0, 0.9652590189417244, null, 1.0, 1.0347409810582755, null], \"type\": \"scatter\"}, {\"hoverinfo\": \"none\", \"line\": {\"color\": \"rgb(0, 0, 0)\", \"width\": 1}, \"mode\": \"lines\", \"x\": [0.66, 0.33, null, 0.35022071942550836, 0.3526100389194443, null, 0.35022071942550836, 0.3833221014449805, null], \"y\": [1.0, 0.0, null, 0.06127490735002531, 0.13359437096827784, null, 0.06127490735002531, 0.09650302407543368, null], \"type\": \"scatter\"}, {\"hoverinfo\": \"none\", \"line\": {\"color\": \"rgb(0, 0, 0)\", \"width\": 1}, \"mode\": \"lines\", \"x\": [1.0, 0.66, null, 0.6806532023433265, 0.6835549327328607, null, 0.6806532023433265, 0.7140012524011855, null], \"y\": [1.0, 0.0, null, 0.06074471277448944, 0.13299554373343975, null, 0.06074471277448944, 0.09511088313140172, null], \"type\": \"scatter\"}, {\"hoverinfo\": \"none\", \"line\": {\"color\": \"rgb(0, 0, 0)\", \"width\": 1}, \"mode\": \"lines\", \"x\": [0.33, 0.66, null, 0.6221212121212122, 0.5888794484132436, null, 0.6221212121212122, 0.5888794484132436, null], \"y\": [0.0, 0.0, null, 0.0, -0.034740981058275576, null, 0.0, 0.034740981058275576, null], \"type\": \"scatter\"}, {\"hoverinfo\": \"none\", \"line\": {\"color\": \"rgb(0, 0, 0)\", \"width\": 1}, \"mode\": \"lines\", \"x\": [0.66, 1.0, null, 0.9621212121212122, 0.9288794484132434, null, 0.9621212121212122, 0.9288794484132434, null], \"y\": [0.0, 0.0, null, 0.0, -0.034740981058275576, null, 0.0, 0.034740981058275576, null], \"type\": \"scatter\"}, {\"hoverinfo\": \"none\", \"marker\": {\"color\": \"rgb(0, 255, 0)\", \"line\": {\"color\": \"rgb(0, 0, 0)\", \"width\": 1}, \"size\": 20}, \"mode\": \"markers+text\", \"text\": [\"0\"], \"textfont\": {\"color\": \"rgb(0, 0, 0)\"}, \"textposition\": \"middle center\", \"x\": [0.0], \"y\": [0.5], \"type\": \"scatter\"}, {\"hoverinfo\": \"none\", \"marker\": {\"color\": \"rgb(255, 255, 255)\", \"line\": {\"color\": \"rgb(0, 0, 0)\", \"width\": 1}, \"size\": 20}, \"mode\": \"markers+text\", \"text\": [\"1\"], \"textfont\": {\"color\": \"rgb(0, 0, 0)\"}, \"textposition\": \"middle center\", \"x\": [0.33], \"y\": [1.0], \"type\": \"scatter\"}, {\"hoverinfo\": \"none\", \"marker\": {\"color\": \"rgb(255, 255, 255)\", \"line\": {\"color\": \"rgb(0, 0, 0)\", \"width\": 1}, \"size\": 20}, \"mode\": \"markers+text\", \"text\": [\"2\"], \"textfont\": {\"color\": \"rgb(0, 0, 0)\"}, \"textposition\": \"middle center\", \"x\": [0.66], \"y\": [1.0], \"type\": \"scatter\"}, {\"hoverinfo\": \"none\", \"marker\": {\"color\": \"rgb(255, 255, 255)\", \"line\": {\"color\": \"rgb(0, 0, 0)\", \"width\": 1}, \"size\": 20}, \"mode\": \"markers+text\", \"text\": [\"3\"], \"textfont\": {\"color\": \"rgb(0, 0, 0)\"}, \"textposition\": \"middle center\", \"x\": [1.0], \"y\": [1.0], \"type\": \"scatter\"}, {\"hoverinfo\": \"none\", \"marker\": {\"color\": \"rgb(255, 255, 255)\", \"line\": {\"color\": \"rgb(0, 0, 0)\", \"width\": 1}, \"size\": 20}, \"mode\": \"markers+text\", \"text\": [\"4\"], \"textfont\": {\"color\": \"rgb(0, 0, 0)\"}, \"textposition\": \"middle center\", \"x\": [0.33], \"y\": [0.0], \"type\": \"scatter\"}, {\"hoverinfo\": \"none\", \"marker\": {\"color\": \"rgb(255, 255, 255)\", \"line\": {\"color\": \"rgb(0, 0, 0)\", \"width\": 1}, \"size\": 20}, \"mode\": \"markers+text\", \"text\": [\"5\"], \"textfont\": {\"color\": \"rgb(0, 0, 0)\"}, \"textposition\": \"middle center\", \"x\": [0.66], \"y\": [0.0], \"type\": \"scatter\"}, {\"hoverinfo\": \"none\", \"marker\": {\"color\": \"rgb(255, 255, 255)\", \"line\": {\"color\": \"rgb(0, 0, 0)\", \"width\": 1}, \"size\": 20}, \"mode\": \"markers+text\", \"text\": [\"6\"], \"textfont\": {\"color\": \"rgb(0, 0, 0)\"}, \"textposition\": \"middle center\", \"x\": [1.0], \"y\": [0.0], \"type\": \"scatter\"}], \"name\": \"0\"}, {\"data\": [{\"hoverinfo\": \"none\", \"line\": {\"color\": \"rgb(0, 0, 0)\", \"width\": 1}, \"mode\": \"lines\", \"x\": [0.0, 0.33, null, 0.3003062713421305, 0.2855225877733855, null, 0.3003062713421305, 0.2629725579755741, null], \"y\": [0.5, 1.0, null, 0.9550095020335311, 0.8882926689752846, null, 0.9550095020335311, 0.9427605821595028, null], \"type\": \"scatter\"}, {\"hoverinfo\": \"none\", \"line\": {\"color\": \"rgb(0, 0, 0)\", \"width\": 1}, \"mode\": \"lines\", \"x\": [0.0, 0.33, null, 0.3003062713421305, 0.2629725579755741, null, 0.3003062713421305, 0.2855225877733855, null], \"y\": [0.5, 0.0, null, 0.04499049796646893, 0.0572394178404972, null, 0.04499049796646893, 0.11170733102471547, null], \"type\": \"scatter\"}, {\"hoverinfo\": \"none\", \"line\": {\"color\": \"rgb(0, 0, 0)\", \"width\": 1}, \"mode\": \"lines\", \"x\": [0.33, 0.66, null, 0.6221212121212122, 0.5888794484132436, null, 0.6221212121212122, 0.5888794484132436, null], \"y\": [1.0, 1.0, null, 1.0, 0.9652590189417244, null, 1.0, 1.0347409810582755, null], \"type\": \"scatter\"}, {\"hoverinfo\": \"none\", \"line\": {\"color\": \"rgb(0, 0, 0)\", \"width\": 1}, \"mode\": \"lines\", \"x\": [0.66, 1.0, null, 0.9621212121212122, 0.9288794484132434, null, 0.9621212121212122, 0.9288794484132434, null], \"y\": [1.0, 1.0, null, 1.0, 0.9652590189417244, null, 1.0, 1.0347409810582755, null], \"type\": \"scatter\"}, {\"hoverinfo\": \"none\", \"line\": {\"color\": \"rgb(0, 0, 0)\", \"width\": 1}, \"mode\": \"lines\", \"x\": [0.66, 0.33, null, 0.35022071942550836, 0.3526100389194443, null, 0.35022071942550836, 0.3833221014449805, null], \"y\": [1.0, 0.0, null, 0.06127490735002531, 0.13359437096827784, null, 0.06127490735002531, 0.09650302407543368, null], \"type\": \"scatter\"}, {\"hoverinfo\": \"none\", \"line\": {\"color\": \"rgb(0, 0, 0)\", \"width\": 1}, \"mode\": \"lines\", \"x\": [1.0, 0.66, null, 0.6806532023433265, 0.6835549327328607, null, 0.6806532023433265, 0.7140012524011855, null], \"y\": [1.0, 0.0, null, 0.06074471277448944, 0.13299554373343975, null, 0.06074471277448944, 0.09511088313140172, null], \"type\": \"scatter\"}, {\"hoverinfo\": \"none\", \"line\": {\"color\": \"rgb(0, 0, 0)\", \"width\": 1}, \"mode\": \"lines\", \"x\": [0.33, 0.66, null, 0.6221212121212122, 0.5888794484132436, null, 0.6221212121212122, 0.5888794484132436, null], \"y\": [0.0, 0.0, null, 0.0, -0.034740981058275576, null, 0.0, 0.034740981058275576, null], \"type\": \"scatter\"}, {\"hoverinfo\": \"none\", \"line\": {\"color\": \"rgb(0, 0, 0)\", \"width\": 1}, \"mode\": \"lines\", \"x\": [0.66, 1.0, null, 0.9621212121212122, 0.9288794484132434, null, 0.9621212121212122, 0.9288794484132434, null], \"y\": [0.0, 0.0, null, 0.0, -0.034740981058275576, null, 0.0, 0.034740981058275576, null], \"type\": \"scatter\"}, {\"hoverinfo\": \"none\", \"marker\": {\"color\": \"rgb(0, 255, 0)\", \"line\": {\"color\": \"rgb(0, 0, 0)\", \"width\": 1}, \"size\": 20}, \"mode\": \"markers+text\", \"text\": [\"0\"], \"textfont\": {\"color\": \"rgb(0, 0, 0)\"}, \"textposition\": \"middle center\", \"x\": [0.0], \"y\": [0.5], \"type\": \"scatter\"}, {\"hoverinfo\": \"none\", \"marker\": {\"color\": \"rgb(0, 255, 0)\", \"line\": {\"color\": \"rgb(0, 0, 0)\", \"width\": 1}, \"size\": 20}, \"mode\": \"markers+text\", \"text\": [\"1\"], \"textfont\": {\"color\": \"rgb(0, 0, 0)\"}, \"textposition\": \"middle center\", \"x\": [0.33], \"y\": [1.0], \"type\": \"scatter\"}, {\"hoverinfo\": \"none\", \"marker\": {\"color\": \"rgb(255, 255, 255)\", \"line\": {\"color\": \"rgb(0, 0, 0)\", \"width\": 1}, \"size\": 20}, \"mode\": \"markers+text\", \"text\": [\"2\"], \"textfont\": {\"color\": \"rgb(0, 0, 0)\"}, \"textposition\": \"middle center\", \"x\": [0.66], \"y\": [1.0], \"type\": \"scatter\"}, {\"hoverinfo\": \"none\", \"marker\": {\"color\": \"rgb(255, 255, 255)\", \"line\": {\"color\": \"rgb(0, 0, 0)\", \"width\": 1}, \"size\": 20}, \"mode\": \"markers+text\", \"text\": [\"3\"], \"textfont\": {\"color\": \"rgb(0, 0, 0)\"}, \"textposition\": \"middle center\", \"x\": [1.0], \"y\": [1.0], \"type\": \"scatter\"}, {\"hoverinfo\": \"none\", \"marker\": {\"color\": \"rgb(255, 255, 255)\", \"line\": {\"color\": \"rgb(0, 0, 0)\", \"width\": 1}, \"size\": 20}, \"mode\": \"markers+text\", \"text\": [\"4\"], \"textfont\": {\"color\": \"rgb(0, 0, 0)\"}, \"textposition\": \"middle center\", \"x\": [0.33], \"y\": [0.0], \"type\": \"scatter\"}, {\"hoverinfo\": \"none\", \"marker\": {\"color\": \"rgb(255, 255, 255)\", \"line\": {\"color\": \"rgb(0, 0, 0)\", \"width\": 1}, \"size\": 20}, \"mode\": \"markers+text\", \"text\": [\"5\"], \"textfont\": {\"color\": \"rgb(0, 0, 0)\"}, \"textposition\": \"middle center\", \"x\": [0.66], \"y\": [0.0], \"type\": \"scatter\"}, {\"hoverinfo\": \"none\", \"marker\": {\"color\": \"rgb(255, 255, 255)\", \"line\": {\"color\": \"rgb(0, 0, 0)\", \"width\": 1}, \"size\": 20}, \"mode\": \"markers+text\", \"text\": [\"6\"], \"textfont\": {\"color\": \"rgb(0, 0, 0)\"}, \"textposition\": \"middle center\", \"x\": [1.0], \"y\": [0.0], \"type\": \"scatter\"}], \"name\": \"1\"}, {\"data\": [{\"hoverinfo\": \"none\", \"line\": {\"color\": \"rgb(0, 0, 0)\", \"width\": 1}, \"mode\": \"lines\", \"x\": [0.0, 0.33, null, 0.3003062713421305, 0.2855225877733855, null, 0.3003062713421305, 0.2629725579755741, null], \"y\": [0.5, 1.0, null, 0.9550095020335311, 0.8882926689752846, null, 0.9550095020335311, 0.9427605821595028, null], \"type\": \"scatter\"}, {\"hoverinfo\": \"none\", \"line\": {\"color\": \"rgb(0, 0, 0)\", \"width\": 1}, \"mode\": \"lines\", \"x\": [0.0, 0.33, null, 0.3003062713421305, 0.2629725579755741, null, 0.3003062713421305, 0.2855225877733855, null], \"y\": [0.5, 0.0, null, 0.04499049796646893, 0.0572394178404972, null, 0.04499049796646893, 0.11170733102471547, null], \"type\": \"scatter\"}, {\"hoverinfo\": \"none\", \"line\": {\"color\": \"rgb(0, 0, 0)\", \"width\": 1}, \"mode\": \"lines\", \"x\": [0.33, 0.66, null, 0.6221212121212122, 0.5888794484132436, null, 0.6221212121212122, 0.5888794484132436, null], \"y\": [1.0, 1.0, null, 1.0, 0.9652590189417244, null, 1.0, 1.0347409810582755, null], \"type\": \"scatter\"}, {\"hoverinfo\": \"none\", \"line\": {\"color\": \"rgb(0, 0, 0)\", \"width\": 1}, \"mode\": \"lines\", \"x\": [0.66, 1.0, null, 0.9621212121212122, 0.9288794484132434, null, 0.9621212121212122, 0.9288794484132434, null], \"y\": [1.0, 1.0, null, 1.0, 0.9652590189417244, null, 1.0, 1.0347409810582755, null], \"type\": \"scatter\"}, {\"hoverinfo\": \"none\", \"line\": {\"color\": \"rgb(0, 0, 0)\", \"width\": 1}, \"mode\": \"lines\", \"x\": [0.66, 0.33, null, 0.35022071942550836, 0.3526100389194443, null, 0.35022071942550836, 0.3833221014449805, null], \"y\": [1.0, 0.0, null, 0.06127490735002531, 0.13359437096827784, null, 0.06127490735002531, 0.09650302407543368, null], \"type\": \"scatter\"}, {\"hoverinfo\": \"none\", \"line\": {\"color\": \"rgb(0, 0, 0)\", \"width\": 1}, \"mode\": \"lines\", \"x\": [1.0, 0.66, null, 0.6806532023433265, 0.6835549327328607, null, 0.6806532023433265, 0.7140012524011855, null], \"y\": [1.0, 0.0, null, 0.06074471277448944, 0.13299554373343975, null, 0.06074471277448944, 0.09511088313140172, null], \"type\": \"scatter\"}, {\"hoverinfo\": \"none\", \"line\": {\"color\": \"rgb(0, 0, 0)\", \"width\": 1}, \"mode\": \"lines\", \"x\": [0.33, 0.66, null, 0.6221212121212122, 0.5888794484132436, null, 0.6221212121212122, 0.5888794484132436, null], \"y\": [0.0, 0.0, null, 0.0, -0.034740981058275576, null, 0.0, 0.034740981058275576, null], \"type\": \"scatter\"}, {\"hoverinfo\": \"none\", \"line\": {\"color\": \"rgb(0, 0, 0)\", \"width\": 1}, \"mode\": \"lines\", \"x\": [0.66, 1.0, null, 0.9621212121212122, 0.9288794484132434, null, 0.9621212121212122, 0.9288794484132434, null], \"y\": [0.0, 0.0, null, 0.0, -0.034740981058275576, null, 0.0, 0.034740981058275576, null], \"type\": \"scatter\"}, {\"hoverinfo\": \"none\", \"marker\": {\"color\": \"rgb(0, 255, 0)\", \"line\": {\"color\": \"rgb(0, 0, 0)\", \"width\": 1}, \"size\": 20}, \"mode\": \"markers+text\", \"text\": [\"0\"], \"textfont\": {\"color\": \"rgb(0, 0, 0)\"}, \"textposition\": \"middle center\", \"x\": [0.0], \"y\": [0.5], \"type\": \"scatter\"}, {\"hoverinfo\": \"none\", \"marker\": {\"color\": \"rgb(0, 255, 0)\", \"line\": {\"color\": \"rgb(0, 0, 0)\", \"width\": 1}, \"size\": 20}, \"mode\": \"markers+text\", \"text\": [\"1\"], \"textfont\": {\"color\": \"rgb(0, 0, 0)\"}, \"textposition\": \"middle center\", \"x\": [0.33], \"y\": [1.0], \"type\": \"scatter\"}, {\"hoverinfo\": \"none\", \"marker\": {\"color\": \"rgb(0, 255, 0)\", \"line\": {\"color\": \"rgb(0, 0, 0)\", \"width\": 1}, \"size\": 20}, \"mode\": \"markers+text\", \"text\": [\"2\"], \"textfont\": {\"color\": \"rgb(0, 0, 0)\"}, \"textposition\": \"middle center\", \"x\": [0.66], \"y\": [1.0], \"type\": \"scatter\"}, {\"hoverinfo\": \"none\", \"marker\": {\"color\": \"rgb(255, 255, 255)\", \"line\": {\"color\": \"rgb(0, 0, 0)\", \"width\": 1}, \"size\": 20}, \"mode\": \"markers+text\", \"text\": [\"3\"], \"textfont\": {\"color\": \"rgb(0, 0, 0)\"}, \"textposition\": \"middle center\", \"x\": [1.0], \"y\": [1.0], \"type\": \"scatter\"}, {\"hoverinfo\": \"none\", \"marker\": {\"color\": \"rgb(255, 255, 255)\", \"line\": {\"color\": \"rgb(0, 0, 0)\", \"width\": 1}, \"size\": 20}, \"mode\": \"markers+text\", \"text\": [\"4\"], \"textfont\": {\"color\": \"rgb(0, 0, 0)\"}, \"textposition\": \"middle center\", \"x\": [0.33], \"y\": [0.0], \"type\": \"scatter\"}, {\"hoverinfo\": \"none\", \"marker\": {\"color\": \"rgb(255, 255, 255)\", \"line\": {\"color\": \"rgb(0, 0, 0)\", \"width\": 1}, \"size\": 20}, \"mode\": \"markers+text\", \"text\": [\"5\"], \"textfont\": {\"color\": \"rgb(0, 0, 0)\"}, \"textposition\": \"middle center\", \"x\": [0.66], \"y\": [0.0], \"type\": \"scatter\"}, {\"hoverinfo\": \"none\", \"marker\": {\"color\": \"rgb(255, 255, 255)\", \"line\": {\"color\": \"rgb(0, 0, 0)\", \"width\": 1}, \"size\": 20}, \"mode\": \"markers+text\", \"text\": [\"6\"], \"textfont\": {\"color\": \"rgb(0, 0, 0)\"}, \"textposition\": \"middle center\", \"x\": [1.0], \"y\": [0.0], \"type\": \"scatter\"}], \"name\": \"2\"}, {\"data\": [{\"hoverinfo\": \"none\", \"line\": {\"color\": \"rgb(0, 0, 0)\", \"width\": 1}, \"mode\": \"lines\", \"x\": [0.0, 0.33, null, 0.3003062713421305, 0.2855225877733855, null, 0.3003062713421305, 0.2629725579755741, null], \"y\": [0.5, 1.0, null, 0.9550095020335311, 0.8882926689752846, null, 0.9550095020335311, 0.9427605821595028, null], \"type\": \"scatter\"}, {\"hoverinfo\": \"none\", \"line\": {\"color\": \"rgb(0, 0, 0)\", \"width\": 1}, \"mode\": \"lines\", \"x\": [0.0, 0.33, null, 0.3003062713421305, 0.2629725579755741, null, 0.3003062713421305, 0.2855225877733855, null], \"y\": [0.5, 0.0, null, 0.04499049796646893, 0.0572394178404972, null, 0.04499049796646893, 0.11170733102471547, null], \"type\": \"scatter\"}, {\"hoverinfo\": \"none\", \"line\": {\"color\": \"rgb(0, 0, 0)\", \"width\": 1}, \"mode\": \"lines\", \"x\": [0.33, 0.66, null, 0.6221212121212122, 0.5888794484132436, null, 0.6221212121212122, 0.5888794484132436, null], \"y\": [1.0, 1.0, null, 1.0, 0.9652590189417244, null, 1.0, 1.0347409810582755, null], \"type\": \"scatter\"}, {\"hoverinfo\": \"none\", \"line\": {\"color\": \"rgb(0, 0, 0)\", \"width\": 1}, \"mode\": \"lines\", \"x\": [0.66, 1.0, null, 0.9621212121212122, 0.9288794484132434, null, 0.9621212121212122, 0.9288794484132434, null], \"y\": [1.0, 1.0, null, 1.0, 0.9652590189417244, null, 1.0, 1.0347409810582755, null], \"type\": \"scatter\"}, {\"hoverinfo\": \"none\", \"line\": {\"color\": \"rgb(0, 0, 0)\", \"width\": 1}, \"mode\": \"lines\", \"x\": [0.66, 0.33, null, 0.35022071942550836, 0.3526100389194443, null, 0.35022071942550836, 0.3833221014449805, null], \"y\": [1.0, 0.0, null, 0.06127490735002531, 0.13359437096827784, null, 0.06127490735002531, 0.09650302407543368, null], \"type\": \"scatter\"}, {\"hoverinfo\": \"none\", \"line\": {\"color\": \"rgb(0, 0, 0)\", \"width\": 1}, \"mode\": \"lines\", \"x\": [1.0, 0.66, null, 0.6806532023433265, 0.6835549327328607, null, 0.6806532023433265, 0.7140012524011855, null], \"y\": [1.0, 0.0, null, 0.06074471277448944, 0.13299554373343975, null, 0.06074471277448944, 0.09511088313140172, null], \"type\": \"scatter\"}, {\"hoverinfo\": \"none\", \"line\": {\"color\": \"rgb(0, 0, 0)\", \"width\": 1}, \"mode\": \"lines\", \"x\": [0.33, 0.66, null, 0.6221212121212122, 0.5888794484132436, null, 0.6221212121212122, 0.5888794484132436, null], \"y\": [0.0, 0.0, null, 0.0, -0.034740981058275576, null, 0.0, 0.034740981058275576, null], \"type\": \"scatter\"}, {\"hoverinfo\": \"none\", \"line\": {\"color\": \"rgb(0, 0, 0)\", \"width\": 1}, \"mode\": \"lines\", \"x\": [0.66, 1.0, null, 0.9621212121212122, 0.9288794484132434, null, 0.9621212121212122, 0.9288794484132434, null], \"y\": [0.0, 0.0, null, 0.0, -0.034740981058275576, null, 0.0, 0.034740981058275576, null], \"type\": \"scatter\"}, {\"hoverinfo\": \"none\", \"marker\": {\"color\": \"rgb(0, 255, 0)\", \"line\": {\"color\": \"rgb(0, 0, 0)\", \"width\": 1}, \"size\": 20}, \"mode\": \"markers+text\", \"text\": [\"0\"], \"textfont\": {\"color\": \"rgb(0, 0, 0)\"}, \"textposition\": \"middle center\", \"x\": [0.0], \"y\": [0.5], \"type\": \"scatter\"}, {\"hoverinfo\": \"none\", \"marker\": {\"color\": \"rgb(0, 255, 0)\", \"line\": {\"color\": \"rgb(0, 0, 0)\", \"width\": 1}, \"size\": 20}, \"mode\": \"markers+text\", \"text\": [\"1\"], \"textfont\": {\"color\": \"rgb(0, 0, 0)\"}, \"textposition\": \"middle center\", \"x\": [0.33], \"y\": [1.0], \"type\": \"scatter\"}, {\"hoverinfo\": \"none\", \"marker\": {\"color\": \"rgb(0, 255, 0)\", \"line\": {\"color\": \"rgb(0, 0, 0)\", \"width\": 1}, \"size\": 20}, \"mode\": \"markers+text\", \"text\": [\"2\"], \"textfont\": {\"color\": \"rgb(0, 0, 0)\"}, \"textposition\": \"middle center\", \"x\": [0.66], \"y\": [1.0], \"type\": \"scatter\"}, {\"hoverinfo\": \"none\", \"marker\": {\"color\": \"rgb(0, 255, 0)\", \"line\": {\"color\": \"rgb(0, 0, 0)\", \"width\": 1}, \"size\": 20}, \"mode\": \"markers+text\", \"text\": [\"3\"], \"textfont\": {\"color\": \"rgb(0, 0, 0)\"}, \"textposition\": \"middle center\", \"x\": [1.0], \"y\": [1.0], \"type\": \"scatter\"}, {\"hoverinfo\": \"none\", \"marker\": {\"color\": \"rgb(255, 255, 255)\", \"line\": {\"color\": \"rgb(0, 0, 0)\", \"width\": 1}, \"size\": 20}, \"mode\": \"markers+text\", \"text\": [\"4\"], \"textfont\": {\"color\": \"rgb(0, 0, 0)\"}, \"textposition\": \"middle center\", \"x\": [0.33], \"y\": [0.0], \"type\": \"scatter\"}, {\"hoverinfo\": \"none\", \"marker\": {\"color\": \"rgb(255, 255, 255)\", \"line\": {\"color\": \"rgb(0, 0, 0)\", \"width\": 1}, \"size\": 20}, \"mode\": \"markers+text\", \"text\": [\"5\"], \"textfont\": {\"color\": \"rgb(0, 0, 0)\"}, \"textposition\": \"middle center\", \"x\": [0.66], \"y\": [0.0], \"type\": \"scatter\"}, {\"hoverinfo\": \"none\", \"marker\": {\"color\": \"rgb(255, 255, 255)\", \"line\": {\"color\": \"rgb(0, 0, 0)\", \"width\": 1}, \"size\": 20}, \"mode\": \"markers+text\", \"text\": [\"6\"], \"textfont\": {\"color\": \"rgb(0, 0, 0)\"}, \"textposition\": \"middle center\", \"x\": [1.0], \"y\": [0.0], \"type\": \"scatter\"}], \"name\": \"3\"}, {\"data\": [{\"hoverinfo\": \"none\", \"line\": {\"color\": \"rgb(0, 0, 0)\", \"width\": 1}, \"mode\": \"lines\", \"x\": [0.0, 0.33, null, 0.3003062713421305, 0.2855225877733855, null, 0.3003062713421305, 0.2629725579755741, null], \"y\": [0.5, 1.0, null, 0.9550095020335311, 0.8882926689752846, null, 0.9550095020335311, 0.9427605821595028, null], \"type\": \"scatter\"}, {\"hoverinfo\": \"none\", \"line\": {\"color\": \"rgb(0, 0, 0)\", \"width\": 1}, \"mode\": \"lines\", \"x\": [0.0, 0.33, null, 0.3003062713421305, 0.2629725579755741, null, 0.3003062713421305, 0.2855225877733855, null], \"y\": [0.5, 0.0, null, 0.04499049796646893, 0.0572394178404972, null, 0.04499049796646893, 0.11170733102471547, null], \"type\": \"scatter\"}, {\"hoverinfo\": \"none\", \"line\": {\"color\": \"rgb(0, 0, 0)\", \"width\": 1}, \"mode\": \"lines\", \"x\": [0.33, 0.66, null, 0.6221212121212122, 0.5888794484132436, null, 0.6221212121212122, 0.5888794484132436, null], \"y\": [1.0, 1.0, null, 1.0, 0.9652590189417244, null, 1.0, 1.0347409810582755, null], \"type\": \"scatter\"}, {\"hoverinfo\": \"none\", \"line\": {\"color\": \"rgb(0, 0, 0)\", \"width\": 1}, \"mode\": \"lines\", \"x\": [0.66, 1.0, null, 0.9621212121212122, 0.9288794484132434, null, 0.9621212121212122, 0.9288794484132434, null], \"y\": [1.0, 1.0, null, 1.0, 0.9652590189417244, null, 1.0, 1.0347409810582755, null], \"type\": \"scatter\"}, {\"hoverinfo\": \"none\", \"line\": {\"color\": \"rgb(0, 0, 0)\", \"width\": 1}, \"mode\": \"lines\", \"x\": [0.66, 0.33, null, 0.35022071942550836, 0.3526100389194443, null, 0.35022071942550836, 0.3833221014449805, null], \"y\": [1.0, 0.0, null, 0.06127490735002531, 0.13359437096827784, null, 0.06127490735002531, 0.09650302407543368, null], \"type\": \"scatter\"}, {\"hoverinfo\": \"none\", \"line\": {\"color\": \"rgb(0, 0, 0)\", \"width\": 1}, \"mode\": \"lines\", \"x\": [1.0, 0.66, null, 0.6806532023433265, 0.6835549327328607, null, 0.6806532023433265, 0.7140012524011855, null], \"y\": [1.0, 0.0, null, 0.06074471277448944, 0.13299554373343975, null, 0.06074471277448944, 0.09511088313140172, null], \"type\": \"scatter\"}, {\"hoverinfo\": \"none\", \"line\": {\"color\": \"rgb(0, 0, 0)\", \"width\": 1}, \"mode\": \"lines\", \"x\": [0.33, 0.66, null, 0.6221212121212122, 0.5888794484132436, null, 0.6221212121212122, 0.5888794484132436, null], \"y\": [0.0, 0.0, null, 0.0, -0.034740981058275576, null, 0.0, 0.034740981058275576, null], \"type\": \"scatter\"}, {\"hoverinfo\": \"none\", \"line\": {\"color\": \"rgb(0, 0, 0)\", \"width\": 1}, \"mode\": \"lines\", \"x\": [0.66, 1.0, null, 0.9621212121212122, 0.9288794484132434, null, 0.9621212121212122, 0.9288794484132434, null], \"y\": [0.0, 0.0, null, 0.0, -0.034740981058275576, null, 0.0, 0.034740981058275576, null], \"type\": \"scatter\"}, {\"hoverinfo\": \"none\", \"marker\": {\"color\": \"rgb(0, 255, 0)\", \"line\": {\"color\": \"rgb(0, 0, 0)\", \"width\": 1}, \"size\": 20}, \"mode\": \"markers+text\", \"text\": [\"0\"], \"textfont\": {\"color\": \"rgb(0, 0, 0)\"}, \"textposition\": \"middle center\", \"x\": [0.0], \"y\": [0.5], \"type\": \"scatter\"}, {\"hoverinfo\": \"none\", \"marker\": {\"color\": \"rgb(0, 255, 0)\", \"line\": {\"color\": \"rgb(0, 0, 0)\", \"width\": 1}, \"size\": 20}, \"mode\": \"markers+text\", \"text\": [\"1\"], \"textfont\": {\"color\": \"rgb(0, 0, 0)\"}, \"textposition\": \"middle center\", \"x\": [0.33], \"y\": [1.0], \"type\": \"scatter\"}, {\"hoverinfo\": \"none\", \"marker\": {\"color\": \"rgb(0, 255, 0)\", \"line\": {\"color\": \"rgb(0, 0, 0)\", \"width\": 1}, \"size\": 20}, \"mode\": \"markers+text\", \"text\": [\"2\"], \"textfont\": {\"color\": \"rgb(0, 0, 0)\"}, \"textposition\": \"middle center\", \"x\": [0.66], \"y\": [1.0], \"type\": \"scatter\"}, {\"hoverinfo\": \"none\", \"marker\": {\"color\": \"rgb(0, 255, 0)\", \"line\": {\"color\": \"rgb(0, 0, 0)\", \"width\": 1}, \"size\": 20}, \"mode\": \"markers+text\", \"text\": [\"3\"], \"textfont\": {\"color\": \"rgb(0, 0, 0)\"}, \"textposition\": \"middle center\", \"x\": [1.0], \"y\": [1.0], \"type\": \"scatter\"}, {\"hoverinfo\": \"none\", \"marker\": {\"color\": \"rgb(0, 255, 0)\", \"line\": {\"color\": \"rgb(0, 0, 0)\", \"width\": 1}, \"size\": 20}, \"mode\": \"markers+text\", \"text\": [\"4\"], \"textfont\": {\"color\": \"rgb(0, 0, 0)\"}, \"textposition\": \"middle center\", \"x\": [0.33], \"y\": [0.0], \"type\": \"scatter\"}, {\"hoverinfo\": \"none\", \"marker\": {\"color\": \"rgb(255, 255, 255)\", \"line\": {\"color\": \"rgb(0, 0, 0)\", \"width\": 1}, \"size\": 20}, \"mode\": \"markers+text\", \"text\": [\"5\"], \"textfont\": {\"color\": \"rgb(0, 0, 0)\"}, \"textposition\": \"middle center\", \"x\": [0.66], \"y\": [0.0], \"type\": \"scatter\"}, {\"hoverinfo\": \"none\", \"marker\": {\"color\": \"rgb(255, 255, 255)\", \"line\": {\"color\": \"rgb(0, 0, 0)\", \"width\": 1}, \"size\": 20}, \"mode\": \"markers+text\", \"text\": [\"6\"], \"textfont\": {\"color\": \"rgb(0, 0, 0)\"}, \"textposition\": \"middle center\", \"x\": [1.0], \"y\": [0.0], \"type\": \"scatter\"}], \"name\": \"4\"}, {\"data\": [{\"hoverinfo\": \"none\", \"line\": {\"color\": \"rgb(0, 0, 0)\", \"width\": 1}, \"mode\": \"lines\", \"x\": [0.0, 0.33, null, 0.3003062713421305, 0.2855225877733855, null, 0.3003062713421305, 0.2629725579755741, null], \"y\": [0.5, 1.0, null, 0.9550095020335311, 0.8882926689752846, null, 0.9550095020335311, 0.9427605821595028, null], \"type\": \"scatter\"}, {\"hoverinfo\": \"none\", \"line\": {\"color\": \"rgb(0, 0, 0)\", \"width\": 1}, \"mode\": \"lines\", \"x\": [0.0, 0.33, null, 0.3003062713421305, 0.2629725579755741, null, 0.3003062713421305, 0.2855225877733855, null], \"y\": [0.5, 0.0, null, 0.04499049796646893, 0.0572394178404972, null, 0.04499049796646893, 0.11170733102471547, null], \"type\": \"scatter\"}, {\"hoverinfo\": \"none\", \"line\": {\"color\": \"rgb(0, 0, 0)\", \"width\": 1}, \"mode\": \"lines\", \"x\": [0.33, 0.66, null, 0.6221212121212122, 0.5888794484132436, null, 0.6221212121212122, 0.5888794484132436, null], \"y\": [1.0, 1.0, null, 1.0, 0.9652590189417244, null, 1.0, 1.0347409810582755, null], \"type\": \"scatter\"}, {\"hoverinfo\": \"none\", \"line\": {\"color\": \"rgb(0, 0, 0)\", \"width\": 1}, \"mode\": \"lines\", \"x\": [0.66, 1.0, null, 0.9621212121212122, 0.9288794484132434, null, 0.9621212121212122, 0.9288794484132434, null], \"y\": [1.0, 1.0, null, 1.0, 0.9652590189417244, null, 1.0, 1.0347409810582755, null], \"type\": \"scatter\"}, {\"hoverinfo\": \"none\", \"line\": {\"color\": \"rgb(0, 0, 0)\", \"width\": 1}, \"mode\": \"lines\", \"x\": [0.66, 0.33, null, 0.35022071942550836, 0.3526100389194443, null, 0.35022071942550836, 0.3833221014449805, null], \"y\": [1.0, 0.0, null, 0.06127490735002531, 0.13359437096827784, null, 0.06127490735002531, 0.09650302407543368, null], \"type\": \"scatter\"}, {\"hoverinfo\": \"none\", \"line\": {\"color\": \"rgb(0, 0, 0)\", \"width\": 1}, \"mode\": \"lines\", \"x\": [1.0, 0.66, null, 0.6806532023433265, 0.6835549327328607, null, 0.6806532023433265, 0.7140012524011855, null], \"y\": [1.0, 0.0, null, 0.06074471277448944, 0.13299554373343975, null, 0.06074471277448944, 0.09511088313140172, null], \"type\": \"scatter\"}, {\"hoverinfo\": \"none\", \"line\": {\"color\": \"rgb(0, 0, 0)\", \"width\": 1}, \"mode\": \"lines\", \"x\": [0.33, 0.66, null, 0.6221212121212122, 0.5888794484132436, null, 0.6221212121212122, 0.5888794484132436, null], \"y\": [0.0, 0.0, null, 0.0, -0.034740981058275576, null, 0.0, 0.034740981058275576, null], \"type\": \"scatter\"}, {\"hoverinfo\": \"none\", \"line\": {\"color\": \"rgb(0, 0, 0)\", \"width\": 1}, \"mode\": \"lines\", \"x\": [0.66, 1.0, null, 0.9621212121212122, 0.9288794484132434, null, 0.9621212121212122, 0.9288794484132434, null], \"y\": [0.0, 0.0, null, 0.0, -0.034740981058275576, null, 0.0, 0.034740981058275576, null], \"type\": \"scatter\"}, {\"hoverinfo\": \"none\", \"marker\": {\"color\": \"rgb(0, 255, 0)\", \"line\": {\"color\": \"rgb(0, 0, 0)\", \"width\": 1}, \"size\": 20}, \"mode\": \"markers+text\", \"text\": [\"0\"], \"textfont\": {\"color\": \"rgb(0, 0, 0)\"}, \"textposition\": \"middle center\", \"x\": [0.0], \"y\": [0.5], \"type\": \"scatter\"}, {\"hoverinfo\": \"none\", \"marker\": {\"color\": \"rgb(0, 255, 0)\", \"line\": {\"color\": \"rgb(0, 0, 0)\", \"width\": 1}, \"size\": 20}, \"mode\": \"markers+text\", \"text\": [\"1\"], \"textfont\": {\"color\": \"rgb(0, 0, 0)\"}, \"textposition\": \"middle center\", \"x\": [0.33], \"y\": [1.0], \"type\": \"scatter\"}, {\"hoverinfo\": \"none\", \"marker\": {\"color\": \"rgb(0, 255, 0)\", \"line\": {\"color\": \"rgb(0, 0, 0)\", \"width\": 1}, \"size\": 20}, \"mode\": \"markers+text\", \"text\": [\"2\"], \"textfont\": {\"color\": \"rgb(0, 0, 0)\"}, \"textposition\": \"middle center\", \"x\": [0.66], \"y\": [1.0], \"type\": \"scatter\"}, {\"hoverinfo\": \"none\", \"marker\": {\"color\": \"rgb(0, 255, 0)\", \"line\": {\"color\": \"rgb(0, 0, 0)\", \"width\": 1}, \"size\": 20}, \"mode\": \"markers+text\", \"text\": [\"3\"], \"textfont\": {\"color\": \"rgb(0, 0, 0)\"}, \"textposition\": \"middle center\", \"x\": [1.0], \"y\": [1.0], \"type\": \"scatter\"}, {\"hoverinfo\": \"none\", \"marker\": {\"color\": \"rgb(0, 255, 0)\", \"line\": {\"color\": \"rgb(0, 0, 0)\", \"width\": 1}, \"size\": 20}, \"mode\": \"markers+text\", \"text\": [\"4\"], \"textfont\": {\"color\": \"rgb(0, 0, 0)\"}, \"textposition\": \"middle center\", \"x\": [0.33], \"y\": [0.0], \"type\": \"scatter\"}, {\"hoverinfo\": \"none\", \"marker\": {\"color\": \"rgb(0, 255, 0)\", \"line\": {\"color\": \"rgb(0, 0, 0)\", \"width\": 1}, \"size\": 20}, \"mode\": \"markers+text\", \"text\": [\"5\"], \"textfont\": {\"color\": \"rgb(0, 0, 0)\"}, \"textposition\": \"middle center\", \"x\": [0.66], \"y\": [0.0], \"type\": \"scatter\"}, {\"hoverinfo\": \"none\", \"marker\": {\"color\": \"rgb(255, 255, 255)\", \"line\": {\"color\": \"rgb(0, 0, 0)\", \"width\": 1}, \"size\": 20}, \"mode\": \"markers+text\", \"text\": [\"6\"], \"textfont\": {\"color\": \"rgb(0, 0, 0)\"}, \"textposition\": \"middle center\", \"x\": [1.0], \"y\": [0.0], \"type\": \"scatter\"}], \"name\": \"5\"}, {\"data\": [{\"hoverinfo\": \"none\", \"line\": {\"color\": \"rgb(0, 0, 0)\", \"width\": 1}, \"mode\": \"lines\", \"x\": [0.0, 0.33, null, 0.3003062713421305, 0.2855225877733855, null, 0.3003062713421305, 0.2629725579755741, null], \"y\": [0.5, 1.0, null, 0.9550095020335311, 0.8882926689752846, null, 0.9550095020335311, 0.9427605821595028, null], \"type\": \"scatter\"}, {\"hoverinfo\": \"none\", \"line\": {\"color\": \"rgb(0, 0, 0)\", \"width\": 1}, \"mode\": \"lines\", \"x\": [0.0, 0.33, null, 0.3003062713421305, 0.2629725579755741, null, 0.3003062713421305, 0.2855225877733855, null], \"y\": [0.5, 0.0, null, 0.04499049796646893, 0.0572394178404972, null, 0.04499049796646893, 0.11170733102471547, null], \"type\": \"scatter\"}, {\"hoverinfo\": \"none\", \"line\": {\"color\": \"rgb(0, 0, 0)\", \"width\": 1}, \"mode\": \"lines\", \"x\": [0.33, 0.66, null, 0.6221212121212122, 0.5888794484132436, null, 0.6221212121212122, 0.5888794484132436, null], \"y\": [1.0, 1.0, null, 1.0, 0.9652590189417244, null, 1.0, 1.0347409810582755, null], \"type\": \"scatter\"}, {\"hoverinfo\": \"none\", \"line\": {\"color\": \"rgb(0, 0, 0)\", \"width\": 1}, \"mode\": \"lines\", \"x\": [0.66, 1.0, null, 0.9621212121212122, 0.9288794484132434, null, 0.9621212121212122, 0.9288794484132434, null], \"y\": [1.0, 1.0, null, 1.0, 0.9652590189417244, null, 1.0, 1.0347409810582755, null], \"type\": \"scatter\"}, {\"hoverinfo\": \"none\", \"line\": {\"color\": \"rgb(0, 0, 0)\", \"width\": 1}, \"mode\": \"lines\", \"x\": [0.66, 0.33, null, 0.35022071942550836, 0.3526100389194443, null, 0.35022071942550836, 0.3833221014449805, null], \"y\": [1.0, 0.0, null, 0.06127490735002531, 0.13359437096827784, null, 0.06127490735002531, 0.09650302407543368, null], \"type\": \"scatter\"}, {\"hoverinfo\": \"none\", \"line\": {\"color\": \"rgb(0, 0, 0)\", \"width\": 1}, \"mode\": \"lines\", \"x\": [1.0, 0.66, null, 0.6806532023433265, 0.6835549327328607, null, 0.6806532023433265, 0.7140012524011855, null], \"y\": [1.0, 0.0, null, 0.06074471277448944, 0.13299554373343975, null, 0.06074471277448944, 0.09511088313140172, null], \"type\": \"scatter\"}, {\"hoverinfo\": \"none\", \"line\": {\"color\": \"rgb(0, 0, 0)\", \"width\": 1}, \"mode\": \"lines\", \"x\": [0.33, 0.66, null, 0.6221212121212122, 0.5888794484132436, null, 0.6221212121212122, 0.5888794484132436, null], \"y\": [0.0, 0.0, null, 0.0, -0.034740981058275576, null, 0.0, 0.034740981058275576, null], \"type\": \"scatter\"}, {\"hoverinfo\": \"none\", \"line\": {\"color\": \"rgb(0, 0, 0)\", \"width\": 1}, \"mode\": \"lines\", \"x\": [0.66, 1.0, null, 0.9621212121212122, 0.9288794484132434, null, 0.9621212121212122, 0.9288794484132434, null], \"y\": [0.0, 0.0, null, 0.0, -0.034740981058275576, null, 0.0, 0.034740981058275576, null], \"type\": \"scatter\"}, {\"hoverinfo\": \"none\", \"marker\": {\"color\": \"rgb(0, 255, 0)\", \"line\": {\"color\": \"rgb(0, 0, 0)\", \"width\": 1}, \"size\": 20}, \"mode\": \"markers+text\", \"text\": [\"0\"], \"textfont\": {\"color\": \"rgb(0, 0, 0)\"}, \"textposition\": \"middle center\", \"x\": [0.0], \"y\": [0.5], \"type\": \"scatter\"}, {\"hoverinfo\": \"none\", \"marker\": {\"color\": \"rgb(0, 255, 0)\", \"line\": {\"color\": \"rgb(0, 0, 0)\", \"width\": 1}, \"size\": 20}, \"mode\": \"markers+text\", \"text\": [\"1\"], \"textfont\": {\"color\": \"rgb(0, 0, 0)\"}, \"textposition\": \"middle center\", \"x\": [0.33], \"y\": [1.0], \"type\": \"scatter\"}, {\"hoverinfo\": \"none\", \"marker\": {\"color\": \"rgb(0, 255, 0)\", \"line\": {\"color\": \"rgb(0, 0, 0)\", \"width\": 1}, \"size\": 20}, \"mode\": \"markers+text\", \"text\": [\"2\"], \"textfont\": {\"color\": \"rgb(0, 0, 0)\"}, \"textposition\": \"middle center\", \"x\": [0.66], \"y\": [1.0], \"type\": \"scatter\"}, {\"hoverinfo\": \"none\", \"marker\": {\"color\": \"rgb(0, 255, 0)\", \"line\": {\"color\": \"rgb(0, 0, 0)\", \"width\": 1}, \"size\": 20}, \"mode\": \"markers+text\", \"text\": [\"3\"], \"textfont\": {\"color\": \"rgb(0, 0, 0)\"}, \"textposition\": \"middle center\", \"x\": [1.0], \"y\": [1.0], \"type\": \"scatter\"}, {\"hoverinfo\": \"none\", \"marker\": {\"color\": \"rgb(0, 255, 0)\", \"line\": {\"color\": \"rgb(0, 0, 0)\", \"width\": 1}, \"size\": 20}, \"mode\": \"markers+text\", \"text\": [\"4\"], \"textfont\": {\"color\": \"rgb(0, 0, 0)\"}, \"textposition\": \"middle center\", \"x\": [0.33], \"y\": [0.0], \"type\": \"scatter\"}, {\"hoverinfo\": \"none\", \"marker\": {\"color\": \"rgb(0, 255, 0)\", \"line\": {\"color\": \"rgb(0, 0, 0)\", \"width\": 1}, \"size\": 20}, \"mode\": \"markers+text\", \"text\": [\"5\"], \"textfont\": {\"color\": \"rgb(0, 0, 0)\"}, \"textposition\": \"middle center\", \"x\": [0.66], \"y\": [0.0], \"type\": \"scatter\"}, {\"hoverinfo\": \"none\", \"marker\": {\"color\": \"rgb(0, 255, 0)\", \"line\": {\"color\": \"rgb(0, 0, 0)\", \"width\": 1}, \"size\": 20}, \"mode\": \"markers+text\", \"text\": [\"6\"], \"textfont\": {\"color\": \"rgb(0, 0, 0)\"}, \"textposition\": \"middle center\", \"x\": [1.0], \"y\": [0.0], \"type\": \"scatter\"}], \"name\": \"6\"}]);}).then(function(){Plotly.animate('9dfc022e-68e0-4630-95db-8e15c86ec2d4');})\n",
       "        });</script>"
      ]
     },
     "metadata": {},
     "output_type": "display_data"
    }
   ],
   "source": [
    "frames = []\n",
    "\n",
    "sn.reset_node_colors(g)\n",
    "\n",
    "for n in g.nodes:\n",
    "    g.nodes[n]['color'] = (0, 255, 0)\n",
    "\n",
    "    frame = sn.generate_frame(g, nlab=True)\n",
    "    frames.append(frame)\n",
    "\n",
    "sn.show_animation(frames)"
   ]
  },
  {
   "cell_type": "markdown",
   "metadata": {},
   "source": [
    "## Busca em profundidade (com recursão)"
   ]
  },
  {
   "cell_type": "code",
   "execution_count": 14,
   "metadata": {},
   "outputs": [
    {
     "data": {
      "application/vnd.plotly.v1+json": {
       "data": [
        {
         "hoverinfo": "none",
         "line": {
          "color": "rgb(0, 0, 0)",
          "width": 1
         },
         "mode": "lines",
         "type": "scatter",
         "uid": "2118f562-997e-11e8-9c2f-9a5fd3dcadb7",
         "x": [
          0,
          0.33,
          null,
          0.3003062713421305,
          0.2855225877733855,
          null,
          0.3003062713421305,
          0.2629725579755741,
          null
         ],
         "y": [
          0.5,
          1,
          null,
          0.9550095020335311,
          0.8882926689752846,
          null,
          0.9550095020335311,
          0.9427605821595028,
          null
         ]
        },
        {
         "hoverinfo": "none",
         "line": {
          "color": "rgb(0, 0, 0)",
          "width": 1
         },
         "mode": "lines",
         "type": "scatter",
         "uid": "2118f563-997e-11e8-8e04-9a5fd3dcadb7",
         "x": [
          0,
          0.33,
          null,
          0.3003062713421305,
          0.2629725579755741,
          null,
          0.3003062713421305,
          0.2855225877733855,
          null
         ],
         "y": [
          0.5,
          0,
          null,
          0.04499049796646893,
          0.0572394178404972,
          null,
          0.04499049796646893,
          0.11170733102471547,
          null
         ]
        },
        {
         "hoverinfo": "none",
         "line": {
          "color": "rgb(0, 0, 0)",
          "width": 1
         },
         "mode": "lines",
         "type": "scatter",
         "uid": "2118f564-997e-11e8-9ae2-9a5fd3dcadb7",
         "x": [
          0.33,
          0.66,
          null,
          0.6221212121212122,
          0.5888794484132436,
          null,
          0.6221212121212122,
          0.5888794484132436,
          null
         ],
         "y": [
          1,
          1,
          null,
          1,
          0.9652590189417244,
          null,
          1,
          1.0347409810582755,
          null
         ]
        },
        {
         "hoverinfo": "none",
         "line": {
          "color": "rgb(0, 0, 0)",
          "width": 1
         },
         "mode": "lines",
         "type": "scatter",
         "uid": "2118f565-997e-11e8-b82d-9a5fd3dcadb7",
         "x": [
          0.66,
          1,
          null,
          0.9621212121212122,
          0.9288794484132434,
          null,
          0.9621212121212122,
          0.9288794484132434,
          null
         ],
         "y": [
          1,
          1,
          null,
          1,
          0.9652590189417244,
          null,
          1,
          1.0347409810582755,
          null
         ]
        },
        {
         "hoverinfo": "none",
         "line": {
          "color": "rgb(0, 0, 0)",
          "width": 1
         },
         "mode": "lines",
         "type": "scatter",
         "uid": "2118f566-997e-11e8-8c1a-9a5fd3dcadb7",
         "x": [
          0.66,
          0.33,
          null,
          0.35022071942550836,
          0.3526100389194443,
          null,
          0.35022071942550836,
          0.3833221014449805,
          null
         ],
         "y": [
          1,
          0,
          null,
          0.06127490735002531,
          0.13359437096827784,
          null,
          0.06127490735002531,
          0.09650302407543368,
          null
         ]
        },
        {
         "hoverinfo": "none",
         "line": {
          "color": "rgb(0, 0, 0)",
          "width": 1
         },
         "mode": "lines",
         "type": "scatter",
         "uid": "2118f567-997e-11e8-a1db-9a5fd3dcadb7",
         "x": [
          1,
          0.66,
          null,
          0.6806532023433265,
          0.6835549327328607,
          null,
          0.6806532023433265,
          0.7140012524011855,
          null
         ],
         "y": [
          1,
          0,
          null,
          0.06074471277448944,
          0.13299554373343975,
          null,
          0.06074471277448944,
          0.09511088313140172,
          null
         ]
        },
        {
         "hoverinfo": "none",
         "line": {
          "color": "rgb(0, 0, 0)",
          "width": 1
         },
         "mode": "lines",
         "type": "scatter",
         "uid": "2118f568-997e-11e8-a189-9a5fd3dcadb7",
         "x": [
          0.33,
          0.66,
          null,
          0.6221212121212122,
          0.5888794484132436,
          null,
          0.6221212121212122,
          0.5888794484132436,
          null
         ],
         "y": [
          0,
          0,
          null,
          0,
          -0.034740981058275576,
          null,
          0,
          0.034740981058275576,
          null
         ]
        },
        {
         "hoverinfo": "none",
         "line": {
          "color": "rgb(0, 0, 0)",
          "width": 1
         },
         "mode": "lines",
         "type": "scatter",
         "uid": "2118f569-997e-11e8-91c1-9a5fd3dcadb7",
         "x": [
          0.66,
          1,
          null,
          0.9621212121212122,
          0.9288794484132434,
          null,
          0.9621212121212122,
          0.9288794484132434,
          null
         ],
         "y": [
          0,
          0,
          null,
          0,
          -0.034740981058275576,
          null,
          0,
          0.034740981058275576,
          null
         ]
        },
        {
         "hoverinfo": "none",
         "marker": {
          "color": "rgb(0, 255, 0)",
          "line": {
           "color": "rgb(0, 0, 0)",
           "width": 1
          },
          "size": 20
         },
         "mode": "markers+text",
         "text": [
          "0"
         ],
         "textfont": {
          "color": "rgb(0, 0, 0)"
         },
         "textposition": "middle center",
         "type": "scatter",
         "uid": "2118f56a-997e-11e8-a5bc-9a5fd3dcadb7",
         "x": [
          0
         ],
         "y": [
          0.5
         ]
        },
        {
         "hoverinfo": "none",
         "marker": {
          "color": "rgb(255, 255, 255)",
          "line": {
           "color": "rgb(0, 0, 0)",
           "width": 1
          },
          "size": 20
         },
         "mode": "markers+text",
         "text": [
          "1"
         ],
         "textfont": {
          "color": "rgb(0, 0, 0)"
         },
         "textposition": "middle center",
         "type": "scatter",
         "uid": "2118f56b-997e-11e8-a3c5-9a5fd3dcadb7",
         "x": [
          0.33
         ],
         "y": [
          1
         ]
        },
        {
         "hoverinfo": "none",
         "marker": {
          "color": "rgb(255, 255, 255)",
          "line": {
           "color": "rgb(0, 0, 0)",
           "width": 1
          },
          "size": 20
         },
         "mode": "markers+text",
         "text": [
          "2"
         ],
         "textfont": {
          "color": "rgb(0, 0, 0)"
         },
         "textposition": "middle center",
         "type": "scatter",
         "uid": "2118f56c-997e-11e8-96d1-9a5fd3dcadb7",
         "x": [
          0.66
         ],
         "y": [
          1
         ]
        },
        {
         "hoverinfo": "none",
         "marker": {
          "color": "rgb(255, 255, 255)",
          "line": {
           "color": "rgb(0, 0, 0)",
           "width": 1
          },
          "size": 20
         },
         "mode": "markers+text",
         "text": [
          "3"
         ],
         "textfont": {
          "color": "rgb(0, 0, 0)"
         },
         "textposition": "middle center",
         "type": "scatter",
         "uid": "2118f56d-997e-11e8-9349-9a5fd3dcadb7",
         "x": [
          1
         ],
         "y": [
          1
         ]
        },
        {
         "hoverinfo": "none",
         "marker": {
          "color": "rgb(255, 255, 255)",
          "line": {
           "color": "rgb(0, 0, 0)",
           "width": 1
          },
          "size": 20
         },
         "mode": "markers+text",
         "text": [
          "4"
         ],
         "textfont": {
          "color": "rgb(0, 0, 0)"
         },
         "textposition": "middle center",
         "type": "scatter",
         "uid": "2118f56e-997e-11e8-948f-9a5fd3dcadb7",
         "x": [
          0.33
         ],
         "y": [
          0
         ]
        },
        {
         "hoverinfo": "none",
         "marker": {
          "color": "rgb(255, 255, 255)",
          "line": {
           "color": "rgb(0, 0, 0)",
           "width": 1
          },
          "size": 20
         },
         "mode": "markers+text",
         "text": [
          "5"
         ],
         "textfont": {
          "color": "rgb(0, 0, 0)"
         },
         "textposition": "middle center",
         "type": "scatter",
         "uid": "2118f56f-997e-11e8-b0d9-9a5fd3dcadb7",
         "x": [
          0.66
         ],
         "y": [
          0
         ]
        },
        {
         "hoverinfo": "none",
         "marker": {
          "color": "rgb(255, 255, 255)",
          "line": {
           "color": "rgb(0, 0, 0)",
           "width": 1
          },
          "size": 20
         },
         "mode": "markers+text",
         "text": [
          "6"
         ],
         "textfont": {
          "color": "rgb(0, 0, 0)"
         },
         "textposition": "middle center",
         "type": "scatter",
         "uid": "2118f570-997e-11e8-8519-9a5fd3dcadb7",
         "x": [
          1
         ],
         "y": [
          0
         ]
        }
       ],
       "frames": [
        {
         "data": [
          {
           "hoverinfo": "none",
           "line": {
            "color": "rgb(0, 0, 0)",
            "width": 1
           },
           "mode": "lines",
           "type": "scatter",
           "x": [
            0,
            0.33,
            null,
            0.3003062713421305,
            0.2855225877733855,
            null,
            0.3003062713421305,
            0.2629725579755741,
            null
           ],
           "y": [
            0.5,
            1,
            null,
            0.9550095020335311,
            0.8882926689752846,
            null,
            0.9550095020335311,
            0.9427605821595028,
            null
           ]
          },
          {
           "hoverinfo": "none",
           "line": {
            "color": "rgb(0, 0, 0)",
            "width": 1
           },
           "mode": "lines",
           "type": "scatter",
           "x": [
            0,
            0.33,
            null,
            0.3003062713421305,
            0.2629725579755741,
            null,
            0.3003062713421305,
            0.2855225877733855,
            null
           ],
           "y": [
            0.5,
            0,
            null,
            0.04499049796646893,
            0.0572394178404972,
            null,
            0.04499049796646893,
            0.11170733102471547,
            null
           ]
          },
          {
           "hoverinfo": "none",
           "line": {
            "color": "rgb(0, 0, 0)",
            "width": 1
           },
           "mode": "lines",
           "type": "scatter",
           "x": [
            0.33,
            0.66,
            null,
            0.6221212121212122,
            0.5888794484132436,
            null,
            0.6221212121212122,
            0.5888794484132436,
            null
           ],
           "y": [
            1,
            1,
            null,
            1,
            0.9652590189417244,
            null,
            1,
            1.0347409810582755,
            null
           ]
          },
          {
           "hoverinfo": "none",
           "line": {
            "color": "rgb(0, 0, 0)",
            "width": 1
           },
           "mode": "lines",
           "type": "scatter",
           "x": [
            0.66,
            1,
            null,
            0.9621212121212122,
            0.9288794484132434,
            null,
            0.9621212121212122,
            0.9288794484132434,
            null
           ],
           "y": [
            1,
            1,
            null,
            1,
            0.9652590189417244,
            null,
            1,
            1.0347409810582755,
            null
           ]
          },
          {
           "hoverinfo": "none",
           "line": {
            "color": "rgb(0, 0, 0)",
            "width": 1
           },
           "mode": "lines",
           "type": "scatter",
           "x": [
            0.66,
            0.33,
            null,
            0.35022071942550836,
            0.3526100389194443,
            null,
            0.35022071942550836,
            0.3833221014449805,
            null
           ],
           "y": [
            1,
            0,
            null,
            0.06127490735002531,
            0.13359437096827784,
            null,
            0.06127490735002531,
            0.09650302407543368,
            null
           ]
          },
          {
           "hoverinfo": "none",
           "line": {
            "color": "rgb(0, 0, 0)",
            "width": 1
           },
           "mode": "lines",
           "type": "scatter",
           "x": [
            1,
            0.66,
            null,
            0.6806532023433265,
            0.6835549327328607,
            null,
            0.6806532023433265,
            0.7140012524011855,
            null
           ],
           "y": [
            1,
            0,
            null,
            0.06074471277448944,
            0.13299554373343975,
            null,
            0.06074471277448944,
            0.09511088313140172,
            null
           ]
          },
          {
           "hoverinfo": "none",
           "line": {
            "color": "rgb(0, 0, 0)",
            "width": 1
           },
           "mode": "lines",
           "type": "scatter",
           "x": [
            0.33,
            0.66,
            null,
            0.6221212121212122,
            0.5888794484132436,
            null,
            0.6221212121212122,
            0.5888794484132436,
            null
           ],
           "y": [
            0,
            0,
            null,
            0,
            -0.034740981058275576,
            null,
            0,
            0.034740981058275576,
            null
           ]
          },
          {
           "hoverinfo": "none",
           "line": {
            "color": "rgb(0, 0, 0)",
            "width": 1
           },
           "mode": "lines",
           "type": "scatter",
           "x": [
            0.66,
            1,
            null,
            0.9621212121212122,
            0.9288794484132434,
            null,
            0.9621212121212122,
            0.9288794484132434,
            null
           ],
           "y": [
            0,
            0,
            null,
            0,
            -0.034740981058275576,
            null,
            0,
            0.034740981058275576,
            null
           ]
          },
          {
           "hoverinfo": "none",
           "marker": {
            "color": "rgb(0, 255, 0)",
            "line": {
             "color": "rgb(0, 0, 0)",
             "width": 1
            },
            "size": 20
           },
           "mode": "markers+text",
           "text": [
            "0"
           ],
           "textfont": {
            "color": "rgb(0, 0, 0)"
           },
           "textposition": "middle center",
           "type": "scatter",
           "x": [
            0
           ],
           "y": [
            0.5
           ]
          },
          {
           "hoverinfo": "none",
           "marker": {
            "color": "rgb(255, 255, 255)",
            "line": {
             "color": "rgb(0, 0, 0)",
             "width": 1
            },
            "size": 20
           },
           "mode": "markers+text",
           "text": [
            "1"
           ],
           "textfont": {
            "color": "rgb(0, 0, 0)"
           },
           "textposition": "middle center",
           "type": "scatter",
           "x": [
            0.33
           ],
           "y": [
            1
           ]
          },
          {
           "hoverinfo": "none",
           "marker": {
            "color": "rgb(255, 255, 255)",
            "line": {
             "color": "rgb(0, 0, 0)",
             "width": 1
            },
            "size": 20
           },
           "mode": "markers+text",
           "text": [
            "2"
           ],
           "textfont": {
            "color": "rgb(0, 0, 0)"
           },
           "textposition": "middle center",
           "type": "scatter",
           "x": [
            0.66
           ],
           "y": [
            1
           ]
          },
          {
           "hoverinfo": "none",
           "marker": {
            "color": "rgb(255, 255, 255)",
            "line": {
             "color": "rgb(0, 0, 0)",
             "width": 1
            },
            "size": 20
           },
           "mode": "markers+text",
           "text": [
            "3"
           ],
           "textfont": {
            "color": "rgb(0, 0, 0)"
           },
           "textposition": "middle center",
           "type": "scatter",
           "x": [
            1
           ],
           "y": [
            1
           ]
          },
          {
           "hoverinfo": "none",
           "marker": {
            "color": "rgb(255, 255, 255)",
            "line": {
             "color": "rgb(0, 0, 0)",
             "width": 1
            },
            "size": 20
           },
           "mode": "markers+text",
           "text": [
            "4"
           ],
           "textfont": {
            "color": "rgb(0, 0, 0)"
           },
           "textposition": "middle center",
           "type": "scatter",
           "x": [
            0.33
           ],
           "y": [
            0
           ]
          },
          {
           "hoverinfo": "none",
           "marker": {
            "color": "rgb(255, 255, 255)",
            "line": {
             "color": "rgb(0, 0, 0)",
             "width": 1
            },
            "size": 20
           },
           "mode": "markers+text",
           "text": [
            "5"
           ],
           "textfont": {
            "color": "rgb(0, 0, 0)"
           },
           "textposition": "middle center",
           "type": "scatter",
           "x": [
            0.66
           ],
           "y": [
            0
           ]
          },
          {
           "hoverinfo": "none",
           "marker": {
            "color": "rgb(255, 255, 255)",
            "line": {
             "color": "rgb(0, 0, 0)",
             "width": 1
            },
            "size": 20
           },
           "mode": "markers+text",
           "text": [
            "6"
           ],
           "textfont": {
            "color": "rgb(0, 0, 0)"
           },
           "textposition": "middle center",
           "type": "scatter",
           "x": [
            1
           ],
           "y": [
            0
           ]
          }
         ],
         "name": "0"
        },
        {
         "data": [
          {
           "hoverinfo": "none",
           "line": {
            "color": "rgb(0, 0, 0)",
            "width": 1
           },
           "mode": "lines",
           "type": "scatter",
           "x": [
            0,
            0.33,
            null,
            0.3003062713421305,
            0.2855225877733855,
            null,
            0.3003062713421305,
            0.2629725579755741,
            null
           ],
           "y": [
            0.5,
            1,
            null,
            0.9550095020335311,
            0.8882926689752846,
            null,
            0.9550095020335311,
            0.9427605821595028,
            null
           ]
          },
          {
           "hoverinfo": "none",
           "line": {
            "color": "rgb(0, 0, 0)",
            "width": 1
           },
           "mode": "lines",
           "type": "scatter",
           "x": [
            0,
            0.33,
            null,
            0.3003062713421305,
            0.2629725579755741,
            null,
            0.3003062713421305,
            0.2855225877733855,
            null
           ],
           "y": [
            0.5,
            0,
            null,
            0.04499049796646893,
            0.0572394178404972,
            null,
            0.04499049796646893,
            0.11170733102471547,
            null
           ]
          },
          {
           "hoverinfo": "none",
           "line": {
            "color": "rgb(0, 0, 0)",
            "width": 1
           },
           "mode": "lines",
           "type": "scatter",
           "x": [
            0.33,
            0.66,
            null,
            0.6221212121212122,
            0.5888794484132436,
            null,
            0.6221212121212122,
            0.5888794484132436,
            null
           ],
           "y": [
            1,
            1,
            null,
            1,
            0.9652590189417244,
            null,
            1,
            1.0347409810582755,
            null
           ]
          },
          {
           "hoverinfo": "none",
           "line": {
            "color": "rgb(0, 0, 0)",
            "width": 1
           },
           "mode": "lines",
           "type": "scatter",
           "x": [
            0.66,
            1,
            null,
            0.9621212121212122,
            0.9288794484132434,
            null,
            0.9621212121212122,
            0.9288794484132434,
            null
           ],
           "y": [
            1,
            1,
            null,
            1,
            0.9652590189417244,
            null,
            1,
            1.0347409810582755,
            null
           ]
          },
          {
           "hoverinfo": "none",
           "line": {
            "color": "rgb(0, 0, 0)",
            "width": 1
           },
           "mode": "lines",
           "type": "scatter",
           "x": [
            0.66,
            0.33,
            null,
            0.35022071942550836,
            0.3526100389194443,
            null,
            0.35022071942550836,
            0.3833221014449805,
            null
           ],
           "y": [
            1,
            0,
            null,
            0.06127490735002531,
            0.13359437096827784,
            null,
            0.06127490735002531,
            0.09650302407543368,
            null
           ]
          },
          {
           "hoverinfo": "none",
           "line": {
            "color": "rgb(0, 0, 0)",
            "width": 1
           },
           "mode": "lines",
           "type": "scatter",
           "x": [
            1,
            0.66,
            null,
            0.6806532023433265,
            0.6835549327328607,
            null,
            0.6806532023433265,
            0.7140012524011855,
            null
           ],
           "y": [
            1,
            0,
            null,
            0.06074471277448944,
            0.13299554373343975,
            null,
            0.06074471277448944,
            0.09511088313140172,
            null
           ]
          },
          {
           "hoverinfo": "none",
           "line": {
            "color": "rgb(0, 0, 0)",
            "width": 1
           },
           "mode": "lines",
           "type": "scatter",
           "x": [
            0.33,
            0.66,
            null,
            0.6221212121212122,
            0.5888794484132436,
            null,
            0.6221212121212122,
            0.5888794484132436,
            null
           ],
           "y": [
            0,
            0,
            null,
            0,
            -0.034740981058275576,
            null,
            0,
            0.034740981058275576,
            null
           ]
          },
          {
           "hoverinfo": "none",
           "line": {
            "color": "rgb(0, 0, 0)",
            "width": 1
           },
           "mode": "lines",
           "type": "scatter",
           "x": [
            0.66,
            1,
            null,
            0.9621212121212122,
            0.9288794484132434,
            null,
            0.9621212121212122,
            0.9288794484132434,
            null
           ],
           "y": [
            0,
            0,
            null,
            0,
            -0.034740981058275576,
            null,
            0,
            0.034740981058275576,
            null
           ]
          },
          {
           "hoverinfo": "none",
           "marker": {
            "color": "rgb(0, 255, 0)",
            "line": {
             "color": "rgb(0, 0, 0)",
             "width": 1
            },
            "size": 20
           },
           "mode": "markers+text",
           "text": [
            "0"
           ],
           "textfont": {
            "color": "rgb(0, 0, 0)"
           },
           "textposition": "middle center",
           "type": "scatter",
           "x": [
            0
           ],
           "y": [
            0.5
           ]
          },
          {
           "hoverinfo": "none",
           "marker": {
            "color": "rgb(0, 255, 0)",
            "line": {
             "color": "rgb(0, 0, 0)",
             "width": 1
            },
            "size": 20
           },
           "mode": "markers+text",
           "text": [
            "1"
           ],
           "textfont": {
            "color": "rgb(0, 0, 0)"
           },
           "textposition": "middle center",
           "type": "scatter",
           "x": [
            0.33
           ],
           "y": [
            1
           ]
          },
          {
           "hoverinfo": "none",
           "marker": {
            "color": "rgb(255, 255, 255)",
            "line": {
             "color": "rgb(0, 0, 0)",
             "width": 1
            },
            "size": 20
           },
           "mode": "markers+text",
           "text": [
            "2"
           ],
           "textfont": {
            "color": "rgb(0, 0, 0)"
           },
           "textposition": "middle center",
           "type": "scatter",
           "x": [
            0.66
           ],
           "y": [
            1
           ]
          },
          {
           "hoverinfo": "none",
           "marker": {
            "color": "rgb(255, 255, 255)",
            "line": {
             "color": "rgb(0, 0, 0)",
             "width": 1
            },
            "size": 20
           },
           "mode": "markers+text",
           "text": [
            "3"
           ],
           "textfont": {
            "color": "rgb(0, 0, 0)"
           },
           "textposition": "middle center",
           "type": "scatter",
           "x": [
            1
           ],
           "y": [
            1
           ]
          },
          {
           "hoverinfo": "none",
           "marker": {
            "color": "rgb(255, 255, 255)",
            "line": {
             "color": "rgb(0, 0, 0)",
             "width": 1
            },
            "size": 20
           },
           "mode": "markers+text",
           "text": [
            "4"
           ],
           "textfont": {
            "color": "rgb(0, 0, 0)"
           },
           "textposition": "middle center",
           "type": "scatter",
           "x": [
            0.33
           ],
           "y": [
            0
           ]
          },
          {
           "hoverinfo": "none",
           "marker": {
            "color": "rgb(255, 255, 255)",
            "line": {
             "color": "rgb(0, 0, 0)",
             "width": 1
            },
            "size": 20
           },
           "mode": "markers+text",
           "text": [
            "5"
           ],
           "textfont": {
            "color": "rgb(0, 0, 0)"
           },
           "textposition": "middle center",
           "type": "scatter",
           "x": [
            0.66
           ],
           "y": [
            0
           ]
          },
          {
           "hoverinfo": "none",
           "marker": {
            "color": "rgb(255, 255, 255)",
            "line": {
             "color": "rgb(0, 0, 0)",
             "width": 1
            },
            "size": 20
           },
           "mode": "markers+text",
           "text": [
            "6"
           ],
           "textfont": {
            "color": "rgb(0, 0, 0)"
           },
           "textposition": "middle center",
           "type": "scatter",
           "x": [
            1
           ],
           "y": [
            0
           ]
          }
         ],
         "name": "1"
        },
        {
         "data": [
          {
           "hoverinfo": "none",
           "line": {
            "color": "rgb(0, 0, 0)",
            "width": 1
           },
           "mode": "lines",
           "type": "scatter",
           "x": [
            0,
            0.33,
            null,
            0.3003062713421305,
            0.2855225877733855,
            null,
            0.3003062713421305,
            0.2629725579755741,
            null
           ],
           "y": [
            0.5,
            1,
            null,
            0.9550095020335311,
            0.8882926689752846,
            null,
            0.9550095020335311,
            0.9427605821595028,
            null
           ]
          },
          {
           "hoverinfo": "none",
           "line": {
            "color": "rgb(0, 0, 0)",
            "width": 1
           },
           "mode": "lines",
           "type": "scatter",
           "x": [
            0,
            0.33,
            null,
            0.3003062713421305,
            0.2629725579755741,
            null,
            0.3003062713421305,
            0.2855225877733855,
            null
           ],
           "y": [
            0.5,
            0,
            null,
            0.04499049796646893,
            0.0572394178404972,
            null,
            0.04499049796646893,
            0.11170733102471547,
            null
           ]
          },
          {
           "hoverinfo": "none",
           "line": {
            "color": "rgb(0, 0, 0)",
            "width": 1
           },
           "mode": "lines",
           "type": "scatter",
           "x": [
            0.33,
            0.66,
            null,
            0.6221212121212122,
            0.5888794484132436,
            null,
            0.6221212121212122,
            0.5888794484132436,
            null
           ],
           "y": [
            1,
            1,
            null,
            1,
            0.9652590189417244,
            null,
            1,
            1.0347409810582755,
            null
           ]
          },
          {
           "hoverinfo": "none",
           "line": {
            "color": "rgb(0, 0, 0)",
            "width": 1
           },
           "mode": "lines",
           "type": "scatter",
           "x": [
            0.66,
            1,
            null,
            0.9621212121212122,
            0.9288794484132434,
            null,
            0.9621212121212122,
            0.9288794484132434,
            null
           ],
           "y": [
            1,
            1,
            null,
            1,
            0.9652590189417244,
            null,
            1,
            1.0347409810582755,
            null
           ]
          },
          {
           "hoverinfo": "none",
           "line": {
            "color": "rgb(0, 0, 0)",
            "width": 1
           },
           "mode": "lines",
           "type": "scatter",
           "x": [
            0.66,
            0.33,
            null,
            0.35022071942550836,
            0.3526100389194443,
            null,
            0.35022071942550836,
            0.3833221014449805,
            null
           ],
           "y": [
            1,
            0,
            null,
            0.06127490735002531,
            0.13359437096827784,
            null,
            0.06127490735002531,
            0.09650302407543368,
            null
           ]
          },
          {
           "hoverinfo": "none",
           "line": {
            "color": "rgb(0, 0, 0)",
            "width": 1
           },
           "mode": "lines",
           "type": "scatter",
           "x": [
            1,
            0.66,
            null,
            0.6806532023433265,
            0.6835549327328607,
            null,
            0.6806532023433265,
            0.7140012524011855,
            null
           ],
           "y": [
            1,
            0,
            null,
            0.06074471277448944,
            0.13299554373343975,
            null,
            0.06074471277448944,
            0.09511088313140172,
            null
           ]
          },
          {
           "hoverinfo": "none",
           "line": {
            "color": "rgb(0, 0, 0)",
            "width": 1
           },
           "mode": "lines",
           "type": "scatter",
           "x": [
            0.33,
            0.66,
            null,
            0.6221212121212122,
            0.5888794484132436,
            null,
            0.6221212121212122,
            0.5888794484132436,
            null
           ],
           "y": [
            0,
            0,
            null,
            0,
            -0.034740981058275576,
            null,
            0,
            0.034740981058275576,
            null
           ]
          },
          {
           "hoverinfo": "none",
           "line": {
            "color": "rgb(0, 0, 0)",
            "width": 1
           },
           "mode": "lines",
           "type": "scatter",
           "x": [
            0.66,
            1,
            null,
            0.9621212121212122,
            0.9288794484132434,
            null,
            0.9621212121212122,
            0.9288794484132434,
            null
           ],
           "y": [
            0,
            0,
            null,
            0,
            -0.034740981058275576,
            null,
            0,
            0.034740981058275576,
            null
           ]
          },
          {
           "hoverinfo": "none",
           "marker": {
            "color": "rgb(0, 255, 0)",
            "line": {
             "color": "rgb(0, 0, 0)",
             "width": 1
            },
            "size": 20
           },
           "mode": "markers+text",
           "text": [
            "0"
           ],
           "textfont": {
            "color": "rgb(0, 0, 0)"
           },
           "textposition": "middle center",
           "type": "scatter",
           "x": [
            0
           ],
           "y": [
            0.5
           ]
          },
          {
           "hoverinfo": "none",
           "marker": {
            "color": "rgb(0, 255, 0)",
            "line": {
             "color": "rgb(0, 0, 0)",
             "width": 1
            },
            "size": 20
           },
           "mode": "markers+text",
           "text": [
            "1"
           ],
           "textfont": {
            "color": "rgb(0, 0, 0)"
           },
           "textposition": "middle center",
           "type": "scatter",
           "x": [
            0.33
           ],
           "y": [
            1
           ]
          },
          {
           "hoverinfo": "none",
           "marker": {
            "color": "rgb(0, 255, 0)",
            "line": {
             "color": "rgb(0, 0, 0)",
             "width": 1
            },
            "size": 20
           },
           "mode": "markers+text",
           "text": [
            "2"
           ],
           "textfont": {
            "color": "rgb(0, 0, 0)"
           },
           "textposition": "middle center",
           "type": "scatter",
           "x": [
            0.66
           ],
           "y": [
            1
           ]
          },
          {
           "hoverinfo": "none",
           "marker": {
            "color": "rgb(255, 255, 255)",
            "line": {
             "color": "rgb(0, 0, 0)",
             "width": 1
            },
            "size": 20
           },
           "mode": "markers+text",
           "text": [
            "3"
           ],
           "textfont": {
            "color": "rgb(0, 0, 0)"
           },
           "textposition": "middle center",
           "type": "scatter",
           "x": [
            1
           ],
           "y": [
            1
           ]
          },
          {
           "hoverinfo": "none",
           "marker": {
            "color": "rgb(255, 255, 255)",
            "line": {
             "color": "rgb(0, 0, 0)",
             "width": 1
            },
            "size": 20
           },
           "mode": "markers+text",
           "text": [
            "4"
           ],
           "textfont": {
            "color": "rgb(0, 0, 0)"
           },
           "textposition": "middle center",
           "type": "scatter",
           "x": [
            0.33
           ],
           "y": [
            0
           ]
          },
          {
           "hoverinfo": "none",
           "marker": {
            "color": "rgb(255, 255, 255)",
            "line": {
             "color": "rgb(0, 0, 0)",
             "width": 1
            },
            "size": 20
           },
           "mode": "markers+text",
           "text": [
            "5"
           ],
           "textfont": {
            "color": "rgb(0, 0, 0)"
           },
           "textposition": "middle center",
           "type": "scatter",
           "x": [
            0.66
           ],
           "y": [
            0
           ]
          },
          {
           "hoverinfo": "none",
           "marker": {
            "color": "rgb(255, 255, 255)",
            "line": {
             "color": "rgb(0, 0, 0)",
             "width": 1
            },
            "size": 20
           },
           "mode": "markers+text",
           "text": [
            "6"
           ],
           "textfont": {
            "color": "rgb(0, 0, 0)"
           },
           "textposition": "middle center",
           "type": "scatter",
           "x": [
            1
           ],
           "y": [
            0
           ]
          }
         ],
         "name": "2"
        },
        {
         "data": [
          {
           "hoverinfo": "none",
           "line": {
            "color": "rgb(0, 0, 0)",
            "width": 1
           },
           "mode": "lines",
           "type": "scatter",
           "x": [
            0,
            0.33,
            null,
            0.3003062713421305,
            0.2855225877733855,
            null,
            0.3003062713421305,
            0.2629725579755741,
            null
           ],
           "y": [
            0.5,
            1,
            null,
            0.9550095020335311,
            0.8882926689752846,
            null,
            0.9550095020335311,
            0.9427605821595028,
            null
           ]
          },
          {
           "hoverinfo": "none",
           "line": {
            "color": "rgb(0, 0, 0)",
            "width": 1
           },
           "mode": "lines",
           "type": "scatter",
           "x": [
            0,
            0.33,
            null,
            0.3003062713421305,
            0.2629725579755741,
            null,
            0.3003062713421305,
            0.2855225877733855,
            null
           ],
           "y": [
            0.5,
            0,
            null,
            0.04499049796646893,
            0.0572394178404972,
            null,
            0.04499049796646893,
            0.11170733102471547,
            null
           ]
          },
          {
           "hoverinfo": "none",
           "line": {
            "color": "rgb(0, 0, 0)",
            "width": 1
           },
           "mode": "lines",
           "type": "scatter",
           "x": [
            0.33,
            0.66,
            null,
            0.6221212121212122,
            0.5888794484132436,
            null,
            0.6221212121212122,
            0.5888794484132436,
            null
           ],
           "y": [
            1,
            1,
            null,
            1,
            0.9652590189417244,
            null,
            1,
            1.0347409810582755,
            null
           ]
          },
          {
           "hoverinfo": "none",
           "line": {
            "color": "rgb(0, 0, 0)",
            "width": 1
           },
           "mode": "lines",
           "type": "scatter",
           "x": [
            0.66,
            1,
            null,
            0.9621212121212122,
            0.9288794484132434,
            null,
            0.9621212121212122,
            0.9288794484132434,
            null
           ],
           "y": [
            1,
            1,
            null,
            1,
            0.9652590189417244,
            null,
            1,
            1.0347409810582755,
            null
           ]
          },
          {
           "hoverinfo": "none",
           "line": {
            "color": "rgb(0, 0, 0)",
            "width": 1
           },
           "mode": "lines",
           "type": "scatter",
           "x": [
            0.66,
            0.33,
            null,
            0.35022071942550836,
            0.3526100389194443,
            null,
            0.35022071942550836,
            0.3833221014449805,
            null
           ],
           "y": [
            1,
            0,
            null,
            0.06127490735002531,
            0.13359437096827784,
            null,
            0.06127490735002531,
            0.09650302407543368,
            null
           ]
          },
          {
           "hoverinfo": "none",
           "line": {
            "color": "rgb(0, 0, 0)",
            "width": 1
           },
           "mode": "lines",
           "type": "scatter",
           "x": [
            1,
            0.66,
            null,
            0.6806532023433265,
            0.6835549327328607,
            null,
            0.6806532023433265,
            0.7140012524011855,
            null
           ],
           "y": [
            1,
            0,
            null,
            0.06074471277448944,
            0.13299554373343975,
            null,
            0.06074471277448944,
            0.09511088313140172,
            null
           ]
          },
          {
           "hoverinfo": "none",
           "line": {
            "color": "rgb(0, 0, 0)",
            "width": 1
           },
           "mode": "lines",
           "type": "scatter",
           "x": [
            0.33,
            0.66,
            null,
            0.6221212121212122,
            0.5888794484132436,
            null,
            0.6221212121212122,
            0.5888794484132436,
            null
           ],
           "y": [
            0,
            0,
            null,
            0,
            -0.034740981058275576,
            null,
            0,
            0.034740981058275576,
            null
           ]
          },
          {
           "hoverinfo": "none",
           "line": {
            "color": "rgb(0, 0, 0)",
            "width": 1
           },
           "mode": "lines",
           "type": "scatter",
           "x": [
            0.66,
            1,
            null,
            0.9621212121212122,
            0.9288794484132434,
            null,
            0.9621212121212122,
            0.9288794484132434,
            null
           ],
           "y": [
            0,
            0,
            null,
            0,
            -0.034740981058275576,
            null,
            0,
            0.034740981058275576,
            null
           ]
          },
          {
           "hoverinfo": "none",
           "marker": {
            "color": "rgb(0, 255, 0)",
            "line": {
             "color": "rgb(0, 0, 0)",
             "width": 1
            },
            "size": 20
           },
           "mode": "markers+text",
           "text": [
            "0"
           ],
           "textfont": {
            "color": "rgb(0, 0, 0)"
           },
           "textposition": "middle center",
           "type": "scatter",
           "x": [
            0
           ],
           "y": [
            0.5
           ]
          },
          {
           "hoverinfo": "none",
           "marker": {
            "color": "rgb(0, 255, 0)",
            "line": {
             "color": "rgb(0, 0, 0)",
             "width": 1
            },
            "size": 20
           },
           "mode": "markers+text",
           "text": [
            "1"
           ],
           "textfont": {
            "color": "rgb(0, 0, 0)"
           },
           "textposition": "middle center",
           "type": "scatter",
           "x": [
            0.33
           ],
           "y": [
            1
           ]
          },
          {
           "hoverinfo": "none",
           "marker": {
            "color": "rgb(0, 255, 0)",
            "line": {
             "color": "rgb(0, 0, 0)",
             "width": 1
            },
            "size": 20
           },
           "mode": "markers+text",
           "text": [
            "2"
           ],
           "textfont": {
            "color": "rgb(0, 0, 0)"
           },
           "textposition": "middle center",
           "type": "scatter",
           "x": [
            0.66
           ],
           "y": [
            1
           ]
          },
          {
           "hoverinfo": "none",
           "marker": {
            "color": "rgb(0, 255, 0)",
            "line": {
             "color": "rgb(0, 0, 0)",
             "width": 1
            },
            "size": 20
           },
           "mode": "markers+text",
           "text": [
            "3"
           ],
           "textfont": {
            "color": "rgb(0, 0, 0)"
           },
           "textposition": "middle center",
           "type": "scatter",
           "x": [
            1
           ],
           "y": [
            1
           ]
          },
          {
           "hoverinfo": "none",
           "marker": {
            "color": "rgb(255, 255, 255)",
            "line": {
             "color": "rgb(0, 0, 0)",
             "width": 1
            },
            "size": 20
           },
           "mode": "markers+text",
           "text": [
            "4"
           ],
           "textfont": {
            "color": "rgb(0, 0, 0)"
           },
           "textposition": "middle center",
           "type": "scatter",
           "x": [
            0.33
           ],
           "y": [
            0
           ]
          },
          {
           "hoverinfo": "none",
           "marker": {
            "color": "rgb(255, 255, 255)",
            "line": {
             "color": "rgb(0, 0, 0)",
             "width": 1
            },
            "size": 20
           },
           "mode": "markers+text",
           "text": [
            "5"
           ],
           "textfont": {
            "color": "rgb(0, 0, 0)"
           },
           "textposition": "middle center",
           "type": "scatter",
           "x": [
            0.66
           ],
           "y": [
            0
           ]
          },
          {
           "hoverinfo": "none",
           "marker": {
            "color": "rgb(255, 255, 255)",
            "line": {
             "color": "rgb(0, 0, 0)",
             "width": 1
            },
            "size": 20
           },
           "mode": "markers+text",
           "text": [
            "6"
           ],
           "textfont": {
            "color": "rgb(0, 0, 0)"
           },
           "textposition": "middle center",
           "type": "scatter",
           "x": [
            1
           ],
           "y": [
            0
           ]
          }
         ],
         "name": "3"
        },
        {
         "data": [
          {
           "hoverinfo": "none",
           "line": {
            "color": "rgb(0, 0, 0)",
            "width": 1
           },
           "mode": "lines",
           "type": "scatter",
           "x": [
            0,
            0.33,
            null,
            0.3003062713421305,
            0.2855225877733855,
            null,
            0.3003062713421305,
            0.2629725579755741,
            null
           ],
           "y": [
            0.5,
            1,
            null,
            0.9550095020335311,
            0.8882926689752846,
            null,
            0.9550095020335311,
            0.9427605821595028,
            null
           ]
          },
          {
           "hoverinfo": "none",
           "line": {
            "color": "rgb(0, 0, 0)",
            "width": 1
           },
           "mode": "lines",
           "type": "scatter",
           "x": [
            0,
            0.33,
            null,
            0.3003062713421305,
            0.2629725579755741,
            null,
            0.3003062713421305,
            0.2855225877733855,
            null
           ],
           "y": [
            0.5,
            0,
            null,
            0.04499049796646893,
            0.0572394178404972,
            null,
            0.04499049796646893,
            0.11170733102471547,
            null
           ]
          },
          {
           "hoverinfo": "none",
           "line": {
            "color": "rgb(0, 0, 0)",
            "width": 1
           },
           "mode": "lines",
           "type": "scatter",
           "x": [
            0.33,
            0.66,
            null,
            0.6221212121212122,
            0.5888794484132436,
            null,
            0.6221212121212122,
            0.5888794484132436,
            null
           ],
           "y": [
            1,
            1,
            null,
            1,
            0.9652590189417244,
            null,
            1,
            1.0347409810582755,
            null
           ]
          },
          {
           "hoverinfo": "none",
           "line": {
            "color": "rgb(0, 0, 0)",
            "width": 1
           },
           "mode": "lines",
           "type": "scatter",
           "x": [
            0.66,
            1,
            null,
            0.9621212121212122,
            0.9288794484132434,
            null,
            0.9621212121212122,
            0.9288794484132434,
            null
           ],
           "y": [
            1,
            1,
            null,
            1,
            0.9652590189417244,
            null,
            1,
            1.0347409810582755,
            null
           ]
          },
          {
           "hoverinfo": "none",
           "line": {
            "color": "rgb(0, 0, 0)",
            "width": 1
           },
           "mode": "lines",
           "type": "scatter",
           "x": [
            0.66,
            0.33,
            null,
            0.35022071942550836,
            0.3526100389194443,
            null,
            0.35022071942550836,
            0.3833221014449805,
            null
           ],
           "y": [
            1,
            0,
            null,
            0.06127490735002531,
            0.13359437096827784,
            null,
            0.06127490735002531,
            0.09650302407543368,
            null
           ]
          },
          {
           "hoverinfo": "none",
           "line": {
            "color": "rgb(0, 0, 0)",
            "width": 1
           },
           "mode": "lines",
           "type": "scatter",
           "x": [
            1,
            0.66,
            null,
            0.6806532023433265,
            0.6835549327328607,
            null,
            0.6806532023433265,
            0.7140012524011855,
            null
           ],
           "y": [
            1,
            0,
            null,
            0.06074471277448944,
            0.13299554373343975,
            null,
            0.06074471277448944,
            0.09511088313140172,
            null
           ]
          },
          {
           "hoverinfo": "none",
           "line": {
            "color": "rgb(0, 0, 0)",
            "width": 1
           },
           "mode": "lines",
           "type": "scatter",
           "x": [
            0.33,
            0.66,
            null,
            0.6221212121212122,
            0.5888794484132436,
            null,
            0.6221212121212122,
            0.5888794484132436,
            null
           ],
           "y": [
            0,
            0,
            null,
            0,
            -0.034740981058275576,
            null,
            0,
            0.034740981058275576,
            null
           ]
          },
          {
           "hoverinfo": "none",
           "line": {
            "color": "rgb(0, 0, 0)",
            "width": 1
           },
           "mode": "lines",
           "type": "scatter",
           "x": [
            0.66,
            1,
            null,
            0.9621212121212122,
            0.9288794484132434,
            null,
            0.9621212121212122,
            0.9288794484132434,
            null
           ],
           "y": [
            0,
            0,
            null,
            0,
            -0.034740981058275576,
            null,
            0,
            0.034740981058275576,
            null
           ]
          },
          {
           "hoverinfo": "none",
           "marker": {
            "color": "rgb(0, 255, 0)",
            "line": {
             "color": "rgb(0, 0, 0)",
             "width": 1
            },
            "size": 20
           },
           "mode": "markers+text",
           "text": [
            "0"
           ],
           "textfont": {
            "color": "rgb(0, 0, 0)"
           },
           "textposition": "middle center",
           "type": "scatter",
           "x": [
            0
           ],
           "y": [
            0.5
           ]
          },
          {
           "hoverinfo": "none",
           "marker": {
            "color": "rgb(0, 255, 0)",
            "line": {
             "color": "rgb(0, 0, 0)",
             "width": 1
            },
            "size": 20
           },
           "mode": "markers+text",
           "text": [
            "1"
           ],
           "textfont": {
            "color": "rgb(0, 0, 0)"
           },
           "textposition": "middle center",
           "type": "scatter",
           "x": [
            0.33
           ],
           "y": [
            1
           ]
          },
          {
           "hoverinfo": "none",
           "marker": {
            "color": "rgb(0, 255, 0)",
            "line": {
             "color": "rgb(0, 0, 0)",
             "width": 1
            },
            "size": 20
           },
           "mode": "markers+text",
           "text": [
            "2"
           ],
           "textfont": {
            "color": "rgb(0, 0, 0)"
           },
           "textposition": "middle center",
           "type": "scatter",
           "x": [
            0.66
           ],
           "y": [
            1
           ]
          },
          {
           "hoverinfo": "none",
           "marker": {
            "color": "rgb(0, 255, 0)",
            "line": {
             "color": "rgb(0, 0, 0)",
             "width": 1
            },
            "size": 20
           },
           "mode": "markers+text",
           "text": [
            "3"
           ],
           "textfont": {
            "color": "rgb(0, 0, 0)"
           },
           "textposition": "middle center",
           "type": "scatter",
           "x": [
            1
           ],
           "y": [
            1
           ]
          },
          {
           "hoverinfo": "none",
           "marker": {
            "color": "rgb(255, 255, 255)",
            "line": {
             "color": "rgb(0, 0, 0)",
             "width": 1
            },
            "size": 20
           },
           "mode": "markers+text",
           "text": [
            "4"
           ],
           "textfont": {
            "color": "rgb(0, 0, 0)"
           },
           "textposition": "middle center",
           "type": "scatter",
           "x": [
            0.33
           ],
           "y": [
            0
           ]
          },
          {
           "hoverinfo": "none",
           "marker": {
            "color": "rgb(0, 255, 0)",
            "line": {
             "color": "rgb(0, 0, 0)",
             "width": 1
            },
            "size": 20
           },
           "mode": "markers+text",
           "text": [
            "5"
           ],
           "textfont": {
            "color": "rgb(0, 0, 0)"
           },
           "textposition": "middle center",
           "type": "scatter",
           "x": [
            0.66
           ],
           "y": [
            0
           ]
          },
          {
           "hoverinfo": "none",
           "marker": {
            "color": "rgb(255, 255, 255)",
            "line": {
             "color": "rgb(0, 0, 0)",
             "width": 1
            },
            "size": 20
           },
           "mode": "markers+text",
           "text": [
            "6"
           ],
           "textfont": {
            "color": "rgb(0, 0, 0)"
           },
           "textposition": "middle center",
           "type": "scatter",
           "x": [
            1
           ],
           "y": [
            0
           ]
          }
         ],
         "name": "4"
        },
        {
         "data": [
          {
           "hoverinfo": "none",
           "line": {
            "color": "rgb(0, 0, 0)",
            "width": 1
           },
           "mode": "lines",
           "type": "scatter",
           "x": [
            0,
            0.33,
            null,
            0.3003062713421305,
            0.2855225877733855,
            null,
            0.3003062713421305,
            0.2629725579755741,
            null
           ],
           "y": [
            0.5,
            1,
            null,
            0.9550095020335311,
            0.8882926689752846,
            null,
            0.9550095020335311,
            0.9427605821595028,
            null
           ]
          },
          {
           "hoverinfo": "none",
           "line": {
            "color": "rgb(0, 0, 0)",
            "width": 1
           },
           "mode": "lines",
           "type": "scatter",
           "x": [
            0,
            0.33,
            null,
            0.3003062713421305,
            0.2629725579755741,
            null,
            0.3003062713421305,
            0.2855225877733855,
            null
           ],
           "y": [
            0.5,
            0,
            null,
            0.04499049796646893,
            0.0572394178404972,
            null,
            0.04499049796646893,
            0.11170733102471547,
            null
           ]
          },
          {
           "hoverinfo": "none",
           "line": {
            "color": "rgb(0, 0, 0)",
            "width": 1
           },
           "mode": "lines",
           "type": "scatter",
           "x": [
            0.33,
            0.66,
            null,
            0.6221212121212122,
            0.5888794484132436,
            null,
            0.6221212121212122,
            0.5888794484132436,
            null
           ],
           "y": [
            1,
            1,
            null,
            1,
            0.9652590189417244,
            null,
            1,
            1.0347409810582755,
            null
           ]
          },
          {
           "hoverinfo": "none",
           "line": {
            "color": "rgb(0, 0, 0)",
            "width": 1
           },
           "mode": "lines",
           "type": "scatter",
           "x": [
            0.66,
            1,
            null,
            0.9621212121212122,
            0.9288794484132434,
            null,
            0.9621212121212122,
            0.9288794484132434,
            null
           ],
           "y": [
            1,
            1,
            null,
            1,
            0.9652590189417244,
            null,
            1,
            1.0347409810582755,
            null
           ]
          },
          {
           "hoverinfo": "none",
           "line": {
            "color": "rgb(0, 0, 0)",
            "width": 1
           },
           "mode": "lines",
           "type": "scatter",
           "x": [
            0.66,
            0.33,
            null,
            0.35022071942550836,
            0.3526100389194443,
            null,
            0.35022071942550836,
            0.3833221014449805,
            null
           ],
           "y": [
            1,
            0,
            null,
            0.06127490735002531,
            0.13359437096827784,
            null,
            0.06127490735002531,
            0.09650302407543368,
            null
           ]
          },
          {
           "hoverinfo": "none",
           "line": {
            "color": "rgb(0, 0, 0)",
            "width": 1
           },
           "mode": "lines",
           "type": "scatter",
           "x": [
            1,
            0.66,
            null,
            0.6806532023433265,
            0.6835549327328607,
            null,
            0.6806532023433265,
            0.7140012524011855,
            null
           ],
           "y": [
            1,
            0,
            null,
            0.06074471277448944,
            0.13299554373343975,
            null,
            0.06074471277448944,
            0.09511088313140172,
            null
           ]
          },
          {
           "hoverinfo": "none",
           "line": {
            "color": "rgb(0, 0, 0)",
            "width": 1
           },
           "mode": "lines",
           "type": "scatter",
           "x": [
            0.33,
            0.66,
            null,
            0.6221212121212122,
            0.5888794484132436,
            null,
            0.6221212121212122,
            0.5888794484132436,
            null
           ],
           "y": [
            0,
            0,
            null,
            0,
            -0.034740981058275576,
            null,
            0,
            0.034740981058275576,
            null
           ]
          },
          {
           "hoverinfo": "none",
           "line": {
            "color": "rgb(0, 0, 0)",
            "width": 1
           },
           "mode": "lines",
           "type": "scatter",
           "x": [
            0.66,
            1,
            null,
            0.9621212121212122,
            0.9288794484132434,
            null,
            0.9621212121212122,
            0.9288794484132434,
            null
           ],
           "y": [
            0,
            0,
            null,
            0,
            -0.034740981058275576,
            null,
            0,
            0.034740981058275576,
            null
           ]
          },
          {
           "hoverinfo": "none",
           "marker": {
            "color": "rgb(0, 255, 0)",
            "line": {
             "color": "rgb(0, 0, 0)",
             "width": 1
            },
            "size": 20
           },
           "mode": "markers+text",
           "text": [
            "0"
           ],
           "textfont": {
            "color": "rgb(0, 0, 0)"
           },
           "textposition": "middle center",
           "type": "scatter",
           "x": [
            0
           ],
           "y": [
            0.5
           ]
          },
          {
           "hoverinfo": "none",
           "marker": {
            "color": "rgb(0, 255, 0)",
            "line": {
             "color": "rgb(0, 0, 0)",
             "width": 1
            },
            "size": 20
           },
           "mode": "markers+text",
           "text": [
            "1"
           ],
           "textfont": {
            "color": "rgb(0, 0, 0)"
           },
           "textposition": "middle center",
           "type": "scatter",
           "x": [
            0.33
           ],
           "y": [
            1
           ]
          },
          {
           "hoverinfo": "none",
           "marker": {
            "color": "rgb(0, 255, 0)",
            "line": {
             "color": "rgb(0, 0, 0)",
             "width": 1
            },
            "size": 20
           },
           "mode": "markers+text",
           "text": [
            "2"
           ],
           "textfont": {
            "color": "rgb(0, 0, 0)"
           },
           "textposition": "middle center",
           "type": "scatter",
           "x": [
            0.66
           ],
           "y": [
            1
           ]
          },
          {
           "hoverinfo": "none",
           "marker": {
            "color": "rgb(0, 255, 0)",
            "line": {
             "color": "rgb(0, 0, 0)",
             "width": 1
            },
            "size": 20
           },
           "mode": "markers+text",
           "text": [
            "3"
           ],
           "textfont": {
            "color": "rgb(0, 0, 0)"
           },
           "textposition": "middle center",
           "type": "scatter",
           "x": [
            1
           ],
           "y": [
            1
           ]
          },
          {
           "hoverinfo": "none",
           "marker": {
            "color": "rgb(255, 255, 255)",
            "line": {
             "color": "rgb(0, 0, 0)",
             "width": 1
            },
            "size": 20
           },
           "mode": "markers+text",
           "text": [
            "4"
           ],
           "textfont": {
            "color": "rgb(0, 0, 0)"
           },
           "textposition": "middle center",
           "type": "scatter",
           "x": [
            0.33
           ],
           "y": [
            0
           ]
          },
          {
           "hoverinfo": "none",
           "marker": {
            "color": "rgb(0, 255, 0)",
            "line": {
             "color": "rgb(0, 0, 0)",
             "width": 1
            },
            "size": 20
           },
           "mode": "markers+text",
           "text": [
            "5"
           ],
           "textfont": {
            "color": "rgb(0, 0, 0)"
           },
           "textposition": "middle center",
           "type": "scatter",
           "x": [
            0.66
           ],
           "y": [
            0
           ]
          },
          {
           "hoverinfo": "none",
           "marker": {
            "color": "rgb(0, 255, 0)",
            "line": {
             "color": "rgb(0, 0, 0)",
             "width": 1
            },
            "size": 20
           },
           "mode": "markers+text",
           "text": [
            "6"
           ],
           "textfont": {
            "color": "rgb(0, 0, 0)"
           },
           "textposition": "middle center",
           "type": "scatter",
           "x": [
            1
           ],
           "y": [
            0
           ]
          }
         ],
         "name": "5"
        },
        {
         "data": [
          {
           "hoverinfo": "none",
           "line": {
            "color": "rgb(0, 0, 0)",
            "width": 1
           },
           "mode": "lines",
           "type": "scatter",
           "x": [
            0,
            0.33,
            null,
            0.3003062713421305,
            0.2855225877733855,
            null,
            0.3003062713421305,
            0.2629725579755741,
            null
           ],
           "y": [
            0.5,
            1,
            null,
            0.9550095020335311,
            0.8882926689752846,
            null,
            0.9550095020335311,
            0.9427605821595028,
            null
           ]
          },
          {
           "hoverinfo": "none",
           "line": {
            "color": "rgb(0, 0, 0)",
            "width": 1
           },
           "mode": "lines",
           "type": "scatter",
           "x": [
            0,
            0.33,
            null,
            0.3003062713421305,
            0.2629725579755741,
            null,
            0.3003062713421305,
            0.2855225877733855,
            null
           ],
           "y": [
            0.5,
            0,
            null,
            0.04499049796646893,
            0.0572394178404972,
            null,
            0.04499049796646893,
            0.11170733102471547,
            null
           ]
          },
          {
           "hoverinfo": "none",
           "line": {
            "color": "rgb(0, 0, 0)",
            "width": 1
           },
           "mode": "lines",
           "type": "scatter",
           "x": [
            0.33,
            0.66,
            null,
            0.6221212121212122,
            0.5888794484132436,
            null,
            0.6221212121212122,
            0.5888794484132436,
            null
           ],
           "y": [
            1,
            1,
            null,
            1,
            0.9652590189417244,
            null,
            1,
            1.0347409810582755,
            null
           ]
          },
          {
           "hoverinfo": "none",
           "line": {
            "color": "rgb(0, 0, 0)",
            "width": 1
           },
           "mode": "lines",
           "type": "scatter",
           "x": [
            0.66,
            1,
            null,
            0.9621212121212122,
            0.9288794484132434,
            null,
            0.9621212121212122,
            0.9288794484132434,
            null
           ],
           "y": [
            1,
            1,
            null,
            1,
            0.9652590189417244,
            null,
            1,
            1.0347409810582755,
            null
           ]
          },
          {
           "hoverinfo": "none",
           "line": {
            "color": "rgb(0, 0, 0)",
            "width": 1
           },
           "mode": "lines",
           "type": "scatter",
           "x": [
            0.66,
            0.33,
            null,
            0.35022071942550836,
            0.3526100389194443,
            null,
            0.35022071942550836,
            0.3833221014449805,
            null
           ],
           "y": [
            1,
            0,
            null,
            0.06127490735002531,
            0.13359437096827784,
            null,
            0.06127490735002531,
            0.09650302407543368,
            null
           ]
          },
          {
           "hoverinfo": "none",
           "line": {
            "color": "rgb(0, 0, 0)",
            "width": 1
           },
           "mode": "lines",
           "type": "scatter",
           "x": [
            1,
            0.66,
            null,
            0.6806532023433265,
            0.6835549327328607,
            null,
            0.6806532023433265,
            0.7140012524011855,
            null
           ],
           "y": [
            1,
            0,
            null,
            0.06074471277448944,
            0.13299554373343975,
            null,
            0.06074471277448944,
            0.09511088313140172,
            null
           ]
          },
          {
           "hoverinfo": "none",
           "line": {
            "color": "rgb(0, 0, 0)",
            "width": 1
           },
           "mode": "lines",
           "type": "scatter",
           "x": [
            0.33,
            0.66,
            null,
            0.6221212121212122,
            0.5888794484132436,
            null,
            0.6221212121212122,
            0.5888794484132436,
            null
           ],
           "y": [
            0,
            0,
            null,
            0,
            -0.034740981058275576,
            null,
            0,
            0.034740981058275576,
            null
           ]
          },
          {
           "hoverinfo": "none",
           "line": {
            "color": "rgb(0, 0, 0)",
            "width": 1
           },
           "mode": "lines",
           "type": "scatter",
           "x": [
            0.66,
            1,
            null,
            0.9621212121212122,
            0.9288794484132434,
            null,
            0.9621212121212122,
            0.9288794484132434,
            null
           ],
           "y": [
            0,
            0,
            null,
            0,
            -0.034740981058275576,
            null,
            0,
            0.034740981058275576,
            null
           ]
          },
          {
           "hoverinfo": "none",
           "marker": {
            "color": "rgb(0, 255, 0)",
            "line": {
             "color": "rgb(0, 0, 0)",
             "width": 1
            },
            "size": 20
           },
           "mode": "markers+text",
           "text": [
            "0"
           ],
           "textfont": {
            "color": "rgb(0, 0, 0)"
           },
           "textposition": "middle center",
           "type": "scatter",
           "x": [
            0
           ],
           "y": [
            0.5
           ]
          },
          {
           "hoverinfo": "none",
           "marker": {
            "color": "rgb(0, 255, 0)",
            "line": {
             "color": "rgb(0, 0, 0)",
             "width": 1
            },
            "size": 20
           },
           "mode": "markers+text",
           "text": [
            "1"
           ],
           "textfont": {
            "color": "rgb(0, 0, 0)"
           },
           "textposition": "middle center",
           "type": "scatter",
           "x": [
            0.33
           ],
           "y": [
            1
           ]
          },
          {
           "hoverinfo": "none",
           "marker": {
            "color": "rgb(0, 255, 0)",
            "line": {
             "color": "rgb(0, 0, 0)",
             "width": 1
            },
            "size": 20
           },
           "mode": "markers+text",
           "text": [
            "2"
           ],
           "textfont": {
            "color": "rgb(0, 0, 0)"
           },
           "textposition": "middle center",
           "type": "scatter",
           "x": [
            0.66
           ],
           "y": [
            1
           ]
          },
          {
           "hoverinfo": "none",
           "marker": {
            "color": "rgb(0, 255, 0)",
            "line": {
             "color": "rgb(0, 0, 0)",
             "width": 1
            },
            "size": 20
           },
           "mode": "markers+text",
           "text": [
            "3"
           ],
           "textfont": {
            "color": "rgb(0, 0, 0)"
           },
           "textposition": "middle center",
           "type": "scatter",
           "x": [
            1
           ],
           "y": [
            1
           ]
          },
          {
           "hoverinfo": "none",
           "marker": {
            "color": "rgb(0, 255, 0)",
            "line": {
             "color": "rgb(0, 0, 0)",
             "width": 1
            },
            "size": 20
           },
           "mode": "markers+text",
           "text": [
            "4"
           ],
           "textfont": {
            "color": "rgb(0, 0, 0)"
           },
           "textposition": "middle center",
           "type": "scatter",
           "x": [
            0.33
           ],
           "y": [
            0
           ]
          },
          {
           "hoverinfo": "none",
           "marker": {
            "color": "rgb(0, 255, 0)",
            "line": {
             "color": "rgb(0, 0, 0)",
             "width": 1
            },
            "size": 20
           },
           "mode": "markers+text",
           "text": [
            "5"
           ],
           "textfont": {
            "color": "rgb(0, 0, 0)"
           },
           "textposition": "middle center",
           "type": "scatter",
           "x": [
            0.66
           ],
           "y": [
            0
           ]
          },
          {
           "hoverinfo": "none",
           "marker": {
            "color": "rgb(0, 255, 0)",
            "line": {
             "color": "rgb(0, 0, 0)",
             "width": 1
            },
            "size": 20
           },
           "mode": "markers+text",
           "text": [
            "6"
           ],
           "textfont": {
            "color": "rgb(0, 0, 0)"
           },
           "textposition": "middle center",
           "type": "scatter",
           "x": [
            1
           ],
           "y": [
            0
           ]
          }
         ],
         "name": "6"
        }
       ],
       "layout": {
        "height": 256,
        "margin": {
         "b": 0,
         "l": 0,
         "r": 0,
         "t": 0
        },
        "showlegend": false,
        "sliders": [
         {
          "currentvalue": {
           "visible": false
          },
          "steps": [
           {
            "args": [
             [
              0
             ],
             {
              "frame": {
               "redraw": false
              },
              "mode": "immediate"
             }
            ],
            "label": "",
            "method": "animate"
           },
           {
            "args": [
             [
              1
             ],
             {
              "frame": {
               "redraw": false
              },
              "mode": "immediate"
             }
            ],
            "label": "",
            "method": "animate"
           },
           {
            "args": [
             [
              2
             ],
             {
              "frame": {
               "redraw": false
              },
              "mode": "immediate"
             }
            ],
            "label": "",
            "method": "animate"
           },
           {
            "args": [
             [
              3
             ],
             {
              "frame": {
               "redraw": false
              },
              "mode": "immediate"
             }
            ],
            "label": "",
            "method": "animate"
           },
           {
            "args": [
             [
              4
             ],
             {
              "frame": {
               "redraw": false
              },
              "mode": "immediate"
             }
            ],
            "label": "",
            "method": "animate"
           },
           {
            "args": [
             [
              5
             ],
             {
              "frame": {
               "redraw": false
              },
              "mode": "immediate"
             }
            ],
            "label": "",
            "method": "animate"
           },
           {
            "args": [
             [
              6
             ],
             {
              "frame": {
               "redraw": false
              },
              "mode": "immediate"
             }
            ],
            "label": "",
            "method": "animate"
           }
          ]
         }
        ],
        "updatemenus": [
         {
          "buttons": [
           {
            "args": [
             null,
             {
              "frame": {
               "redraw": false
              },
              "fromcurrent": true
             }
            ],
            "label": "Play",
            "method": "animate"
           },
           {
            "args": [
             [
              null
             ],
             {
              "frame": {
               "redraw": false
              },
              "mode": "immediate"
             }
            ],
            "label": "Pause",
            "method": "animate"
           }
          ],
          "showactive": true,
          "type": "buttons"
         }
        ],
        "width": 408,
        "xaxis": {
         "showgrid": false,
         "showticklabels": false,
         "zeroline": false
        },
        "yaxis": {
         "showgrid": false,
         "showticklabels": false,
         "zeroline": false
        }
       }
      },
      "text/html": [
       "<div id=\"df0baa25-3afb-45d9-a679-1117826131d1\" style=\"height: 256.0px; width: 408.0px;\" class=\"plotly-graph-div\"></div><script type=\"text/javascript\">require([\"plotly\"], function(Plotly) { window.PLOTLYENV=window.PLOTLYENV || {};window.PLOTLYENV.BASE_URL=\"https://plot.ly\";\n",
       "        Plotly.plot(\n",
       "            'df0baa25-3afb-45d9-a679-1117826131d1',\n",
       "            [{\"hoverinfo\": \"none\", \"line\": {\"color\": \"rgb(0, 0, 0)\", \"width\": 1}, \"mode\": \"lines\", \"x\": [0.0, 0.33, null, 0.3003062713421305, 0.2855225877733855, null, 0.3003062713421305, 0.2629725579755741, null], \"y\": [0.5, 1.0, null, 0.9550095020335311, 0.8882926689752846, null, 0.9550095020335311, 0.9427605821595028, null], \"type\": \"scatter\", \"uid\": \"2225ccb6-997e-11e8-a0b4-9a5fd3dcadb7\"}, {\"hoverinfo\": \"none\", \"line\": {\"color\": \"rgb(0, 0, 0)\", \"width\": 1}, \"mode\": \"lines\", \"x\": [0.0, 0.33, null, 0.3003062713421305, 0.2629725579755741, null, 0.3003062713421305, 0.2855225877733855, null], \"y\": [0.5, 0.0, null, 0.04499049796646893, 0.0572394178404972, null, 0.04499049796646893, 0.11170733102471547, null], \"type\": \"scatter\", \"uid\": \"2225ccb7-997e-11e8-9e1d-9a5fd3dcadb7\"}, {\"hoverinfo\": \"none\", \"line\": {\"color\": \"rgb(0, 0, 0)\", \"width\": 1}, \"mode\": \"lines\", \"x\": [0.33, 0.66, null, 0.6221212121212122, 0.5888794484132436, null, 0.6221212121212122, 0.5888794484132436, null], \"y\": [1.0, 1.0, null, 1.0, 0.9652590189417244, null, 1.0, 1.0347409810582755, null], \"type\": \"scatter\", \"uid\": \"2225ccb8-997e-11e8-9ec5-9a5fd3dcadb7\"}, {\"hoverinfo\": \"none\", \"line\": {\"color\": \"rgb(0, 0, 0)\", \"width\": 1}, \"mode\": \"lines\", \"x\": [0.66, 1.0, null, 0.9621212121212122, 0.9288794484132434, null, 0.9621212121212122, 0.9288794484132434, null], \"y\": [1.0, 1.0, null, 1.0, 0.9652590189417244, null, 1.0, 1.0347409810582755, null], \"type\": \"scatter\", \"uid\": \"2225ccb9-997e-11e8-bbc3-9a5fd3dcadb7\"}, {\"hoverinfo\": \"none\", \"line\": {\"color\": \"rgb(0, 0, 0)\", \"width\": 1}, \"mode\": \"lines\", \"x\": [0.66, 0.33, null, 0.35022071942550836, 0.3526100389194443, null, 0.35022071942550836, 0.3833221014449805, null], \"y\": [1.0, 0.0, null, 0.06127490735002531, 0.13359437096827784, null, 0.06127490735002531, 0.09650302407543368, null], \"type\": \"scatter\", \"uid\": \"2225ccba-997e-11e8-b2c4-9a5fd3dcadb7\"}, {\"hoverinfo\": \"none\", \"line\": {\"color\": \"rgb(0, 0, 0)\", \"width\": 1}, \"mode\": \"lines\", \"x\": [1.0, 0.66, null, 0.6806532023433265, 0.6835549327328607, null, 0.6806532023433265, 0.7140012524011855, null], \"y\": [1.0, 0.0, null, 0.06074471277448944, 0.13299554373343975, null, 0.06074471277448944, 0.09511088313140172, null], \"type\": \"scatter\", \"uid\": \"2225ccbb-997e-11e8-825d-9a5fd3dcadb7\"}, {\"hoverinfo\": \"none\", \"line\": {\"color\": \"rgb(0, 0, 0)\", \"width\": 1}, \"mode\": \"lines\", \"x\": [0.33, 0.66, null, 0.6221212121212122, 0.5888794484132436, null, 0.6221212121212122, 0.5888794484132436, null], \"y\": [0.0, 0.0, null, 0.0, -0.034740981058275576, null, 0.0, 0.034740981058275576, null], \"type\": \"scatter\", \"uid\": \"2225ccbc-997e-11e8-a115-9a5fd3dcadb7\"}, {\"hoverinfo\": \"none\", \"line\": {\"color\": \"rgb(0, 0, 0)\", \"width\": 1}, \"mode\": \"lines\", \"x\": [0.66, 1.0, null, 0.9621212121212122, 0.9288794484132434, null, 0.9621212121212122, 0.9288794484132434, null], \"y\": [0.0, 0.0, null, 0.0, -0.034740981058275576, null, 0.0, 0.034740981058275576, null], \"type\": \"scatter\", \"uid\": \"2225e048-997e-11e8-b800-9a5fd3dcadb7\"}, {\"hoverinfo\": \"none\", \"marker\": {\"color\": \"rgb(0, 255, 0)\", \"line\": {\"color\": \"rgb(0, 0, 0)\", \"width\": 1}, \"size\": 20}, \"mode\": \"markers+text\", \"text\": [\"0\"], \"textfont\": {\"color\": \"rgb(0, 0, 0)\"}, \"textposition\": \"middle center\", \"x\": [0.0], \"y\": [0.5], \"type\": \"scatter\", \"uid\": \"2225e049-997e-11e8-96fc-9a5fd3dcadb7\"}, {\"hoverinfo\": \"none\", \"marker\": {\"color\": \"rgb(255, 255, 255)\", \"line\": {\"color\": \"rgb(0, 0, 0)\", \"width\": 1}, \"size\": 20}, \"mode\": \"markers+text\", \"text\": [\"1\"], \"textfont\": {\"color\": \"rgb(0, 0, 0)\"}, \"textposition\": \"middle center\", \"x\": [0.33], \"y\": [1.0], \"type\": \"scatter\", \"uid\": \"2225e04a-997e-11e8-9291-9a5fd3dcadb7\"}, {\"hoverinfo\": \"none\", \"marker\": {\"color\": \"rgb(255, 255, 255)\", \"line\": {\"color\": \"rgb(0, 0, 0)\", \"width\": 1}, \"size\": 20}, \"mode\": \"markers+text\", \"text\": [\"2\"], \"textfont\": {\"color\": \"rgb(0, 0, 0)\"}, \"textposition\": \"middle center\", \"x\": [0.66], \"y\": [1.0], \"type\": \"scatter\", \"uid\": \"2225e04b-997e-11e8-bfa1-9a5fd3dcadb7\"}, {\"hoverinfo\": \"none\", \"marker\": {\"color\": \"rgb(255, 255, 255)\", \"line\": {\"color\": \"rgb(0, 0, 0)\", \"width\": 1}, \"size\": 20}, \"mode\": \"markers+text\", \"text\": [\"3\"], \"textfont\": {\"color\": \"rgb(0, 0, 0)\"}, \"textposition\": \"middle center\", \"x\": [1.0], \"y\": [1.0], \"type\": \"scatter\", \"uid\": \"2225e04c-997e-11e8-a84a-9a5fd3dcadb7\"}, {\"hoverinfo\": \"none\", \"marker\": {\"color\": \"rgb(255, 255, 255)\", \"line\": {\"color\": \"rgb(0, 0, 0)\", \"width\": 1}, \"size\": 20}, \"mode\": \"markers+text\", \"text\": [\"4\"], \"textfont\": {\"color\": \"rgb(0, 0, 0)\"}, \"textposition\": \"middle center\", \"x\": [0.33], \"y\": [0.0], \"type\": \"scatter\", \"uid\": \"2225e04d-997e-11e8-bcaa-9a5fd3dcadb7\"}, {\"hoverinfo\": \"none\", \"marker\": {\"color\": \"rgb(255, 255, 255)\", \"line\": {\"color\": \"rgb(0, 0, 0)\", \"width\": 1}, \"size\": 20}, \"mode\": \"markers+text\", \"text\": [\"5\"], \"textfont\": {\"color\": \"rgb(0, 0, 0)\"}, \"textposition\": \"middle center\", \"x\": [0.66], \"y\": [0.0], \"type\": \"scatter\", \"uid\": \"2225e04e-997e-11e8-8f4c-9a5fd3dcadb7\"}, {\"hoverinfo\": \"none\", \"marker\": {\"color\": \"rgb(255, 255, 255)\", \"line\": {\"color\": \"rgb(0, 0, 0)\", \"width\": 1}, \"size\": 20}, \"mode\": \"markers+text\", \"text\": [\"6\"], \"textfont\": {\"color\": \"rgb(0, 0, 0)\"}, \"textposition\": \"middle center\", \"x\": [1.0], \"y\": [0.0], \"type\": \"scatter\", \"uid\": \"2225e04f-997e-11e8-ba92-9a5fd3dcadb7\"}],\n",
       "            {\"height\": 256.0, \"margin\": {\"b\": 0, \"l\": 0, \"r\": 0, \"t\": 0}, \"showlegend\": false, \"sliders\": [{\"currentvalue\": {\"visible\": false}, \"steps\": [{\"args\": [[0], {\"frame\": {\"redraw\": false}, \"mode\": \"immediate\"}], \"label\": \"\", \"method\": \"animate\"}, {\"args\": [[1], {\"frame\": {\"redraw\": false}, \"mode\": \"immediate\"}], \"label\": \"\", \"method\": \"animate\"}, {\"args\": [[2], {\"frame\": {\"redraw\": false}, \"mode\": \"immediate\"}], \"label\": \"\", \"method\": \"animate\"}, {\"args\": [[3], {\"frame\": {\"redraw\": false}, \"mode\": \"immediate\"}], \"label\": \"\", \"method\": \"animate\"}, {\"args\": [[4], {\"frame\": {\"redraw\": false}, \"mode\": \"immediate\"}], \"label\": \"\", \"method\": \"animate\"}, {\"args\": [[5], {\"frame\": {\"redraw\": false}, \"mode\": \"immediate\"}], \"label\": \"\", \"method\": \"animate\"}, {\"args\": [[6], {\"frame\": {\"redraw\": false}, \"mode\": \"immediate\"}], \"label\": \"\", \"method\": \"animate\"}]}], \"updatemenus\": [{\"buttons\": [{\"args\": [null, {\"frame\": {\"redraw\": false}, \"fromcurrent\": true}], \"label\": \"Play\", \"method\": \"animate\"}, {\"args\": [[null], {\"frame\": {\"redraw\": false}, \"mode\": \"immediate\"}], \"label\": \"Pause\", \"method\": \"animate\"}], \"showactive\": true, \"type\": \"buttons\"}], \"width\": 408.0, \"xaxis\": {\"showgrid\": false, \"showticklabels\": false, \"zeroline\": false}, \"yaxis\": {\"showgrid\": false, \"showticklabels\": false, \"zeroline\": false}},\n",
       "            {\"showLink\": false, \"linkText\": \"Export to plot.ly\", \"displayModeBar\": false}\n",
       "        ).then(function () {return Plotly.addFrames('df0baa25-3afb-45d9-a679-1117826131d1',[{\"data\": [{\"hoverinfo\": \"none\", \"line\": {\"color\": \"rgb(0, 0, 0)\", \"width\": 1}, \"mode\": \"lines\", \"x\": [0.0, 0.33, null, 0.3003062713421305, 0.2855225877733855, null, 0.3003062713421305, 0.2629725579755741, null], \"y\": [0.5, 1.0, null, 0.9550095020335311, 0.8882926689752846, null, 0.9550095020335311, 0.9427605821595028, null], \"type\": \"scatter\"}, {\"hoverinfo\": \"none\", \"line\": {\"color\": \"rgb(0, 0, 0)\", \"width\": 1}, \"mode\": \"lines\", \"x\": [0.0, 0.33, null, 0.3003062713421305, 0.2629725579755741, null, 0.3003062713421305, 0.2855225877733855, null], \"y\": [0.5, 0.0, null, 0.04499049796646893, 0.0572394178404972, null, 0.04499049796646893, 0.11170733102471547, null], \"type\": \"scatter\"}, {\"hoverinfo\": \"none\", \"line\": {\"color\": \"rgb(0, 0, 0)\", \"width\": 1}, \"mode\": \"lines\", \"x\": [0.33, 0.66, null, 0.6221212121212122, 0.5888794484132436, null, 0.6221212121212122, 0.5888794484132436, null], \"y\": [1.0, 1.0, null, 1.0, 0.9652590189417244, null, 1.0, 1.0347409810582755, null], \"type\": \"scatter\"}, {\"hoverinfo\": \"none\", \"line\": {\"color\": \"rgb(0, 0, 0)\", \"width\": 1}, \"mode\": \"lines\", \"x\": [0.66, 1.0, null, 0.9621212121212122, 0.9288794484132434, null, 0.9621212121212122, 0.9288794484132434, null], \"y\": [1.0, 1.0, null, 1.0, 0.9652590189417244, null, 1.0, 1.0347409810582755, null], \"type\": \"scatter\"}, {\"hoverinfo\": \"none\", \"line\": {\"color\": \"rgb(0, 0, 0)\", \"width\": 1}, \"mode\": \"lines\", \"x\": [0.66, 0.33, null, 0.35022071942550836, 0.3526100389194443, null, 0.35022071942550836, 0.3833221014449805, null], \"y\": [1.0, 0.0, null, 0.06127490735002531, 0.13359437096827784, null, 0.06127490735002531, 0.09650302407543368, null], \"type\": \"scatter\"}, {\"hoverinfo\": \"none\", \"line\": {\"color\": \"rgb(0, 0, 0)\", \"width\": 1}, \"mode\": \"lines\", \"x\": [1.0, 0.66, null, 0.6806532023433265, 0.6835549327328607, null, 0.6806532023433265, 0.7140012524011855, null], \"y\": [1.0, 0.0, null, 0.06074471277448944, 0.13299554373343975, null, 0.06074471277448944, 0.09511088313140172, null], \"type\": \"scatter\"}, {\"hoverinfo\": \"none\", \"line\": {\"color\": \"rgb(0, 0, 0)\", \"width\": 1}, \"mode\": \"lines\", \"x\": [0.33, 0.66, null, 0.6221212121212122, 0.5888794484132436, null, 0.6221212121212122, 0.5888794484132436, null], \"y\": [0.0, 0.0, null, 0.0, -0.034740981058275576, null, 0.0, 0.034740981058275576, null], \"type\": \"scatter\"}, {\"hoverinfo\": \"none\", \"line\": {\"color\": \"rgb(0, 0, 0)\", \"width\": 1}, \"mode\": \"lines\", \"x\": [0.66, 1.0, null, 0.9621212121212122, 0.9288794484132434, null, 0.9621212121212122, 0.9288794484132434, null], \"y\": [0.0, 0.0, null, 0.0, -0.034740981058275576, null, 0.0, 0.034740981058275576, null], \"type\": \"scatter\"}, {\"hoverinfo\": \"none\", \"marker\": {\"color\": \"rgb(0, 255, 0)\", \"line\": {\"color\": \"rgb(0, 0, 0)\", \"width\": 1}, \"size\": 20}, \"mode\": \"markers+text\", \"text\": [\"0\"], \"textfont\": {\"color\": \"rgb(0, 0, 0)\"}, \"textposition\": \"middle center\", \"x\": [0.0], \"y\": [0.5], \"type\": \"scatter\"}, {\"hoverinfo\": \"none\", \"marker\": {\"color\": \"rgb(255, 255, 255)\", \"line\": {\"color\": \"rgb(0, 0, 0)\", \"width\": 1}, \"size\": 20}, \"mode\": \"markers+text\", \"text\": [\"1\"], \"textfont\": {\"color\": \"rgb(0, 0, 0)\"}, \"textposition\": \"middle center\", \"x\": [0.33], \"y\": [1.0], \"type\": \"scatter\"}, {\"hoverinfo\": \"none\", \"marker\": {\"color\": \"rgb(255, 255, 255)\", \"line\": {\"color\": \"rgb(0, 0, 0)\", \"width\": 1}, \"size\": 20}, \"mode\": \"markers+text\", \"text\": [\"2\"], \"textfont\": {\"color\": \"rgb(0, 0, 0)\"}, \"textposition\": \"middle center\", \"x\": [0.66], \"y\": [1.0], \"type\": \"scatter\"}, {\"hoverinfo\": \"none\", \"marker\": {\"color\": \"rgb(255, 255, 255)\", \"line\": {\"color\": \"rgb(0, 0, 0)\", \"width\": 1}, \"size\": 20}, \"mode\": \"markers+text\", \"text\": [\"3\"], \"textfont\": {\"color\": \"rgb(0, 0, 0)\"}, \"textposition\": \"middle center\", \"x\": [1.0], \"y\": [1.0], \"type\": \"scatter\"}, {\"hoverinfo\": \"none\", \"marker\": {\"color\": \"rgb(255, 255, 255)\", \"line\": {\"color\": \"rgb(0, 0, 0)\", \"width\": 1}, \"size\": 20}, \"mode\": \"markers+text\", \"text\": [\"4\"], \"textfont\": {\"color\": \"rgb(0, 0, 0)\"}, \"textposition\": \"middle center\", \"x\": [0.33], \"y\": [0.0], \"type\": \"scatter\"}, {\"hoverinfo\": \"none\", \"marker\": {\"color\": \"rgb(255, 255, 255)\", \"line\": {\"color\": \"rgb(0, 0, 0)\", \"width\": 1}, \"size\": 20}, \"mode\": \"markers+text\", \"text\": [\"5\"], \"textfont\": {\"color\": \"rgb(0, 0, 0)\"}, \"textposition\": \"middle center\", \"x\": [0.66], \"y\": [0.0], \"type\": \"scatter\"}, {\"hoverinfo\": \"none\", \"marker\": {\"color\": \"rgb(255, 255, 255)\", \"line\": {\"color\": \"rgb(0, 0, 0)\", \"width\": 1}, \"size\": 20}, \"mode\": \"markers+text\", \"text\": [\"6\"], \"textfont\": {\"color\": \"rgb(0, 0, 0)\"}, \"textposition\": \"middle center\", \"x\": [1.0], \"y\": [0.0], \"type\": \"scatter\"}], \"name\": \"0\"}, {\"data\": [{\"hoverinfo\": \"none\", \"line\": {\"color\": \"rgb(0, 0, 0)\", \"width\": 1}, \"mode\": \"lines\", \"x\": [0.0, 0.33, null, 0.3003062713421305, 0.2855225877733855, null, 0.3003062713421305, 0.2629725579755741, null], \"y\": [0.5, 1.0, null, 0.9550095020335311, 0.8882926689752846, null, 0.9550095020335311, 0.9427605821595028, null], \"type\": \"scatter\"}, {\"hoverinfo\": \"none\", \"line\": {\"color\": \"rgb(0, 0, 0)\", \"width\": 1}, \"mode\": \"lines\", \"x\": [0.0, 0.33, null, 0.3003062713421305, 0.2629725579755741, null, 0.3003062713421305, 0.2855225877733855, null], \"y\": [0.5, 0.0, null, 0.04499049796646893, 0.0572394178404972, null, 0.04499049796646893, 0.11170733102471547, null], \"type\": \"scatter\"}, {\"hoverinfo\": \"none\", \"line\": {\"color\": \"rgb(0, 0, 0)\", \"width\": 1}, \"mode\": \"lines\", \"x\": [0.33, 0.66, null, 0.6221212121212122, 0.5888794484132436, null, 0.6221212121212122, 0.5888794484132436, null], \"y\": [1.0, 1.0, null, 1.0, 0.9652590189417244, null, 1.0, 1.0347409810582755, null], \"type\": \"scatter\"}, {\"hoverinfo\": \"none\", \"line\": {\"color\": \"rgb(0, 0, 0)\", \"width\": 1}, \"mode\": \"lines\", \"x\": [0.66, 1.0, null, 0.9621212121212122, 0.9288794484132434, null, 0.9621212121212122, 0.9288794484132434, null], \"y\": [1.0, 1.0, null, 1.0, 0.9652590189417244, null, 1.0, 1.0347409810582755, null], \"type\": \"scatter\"}, {\"hoverinfo\": \"none\", \"line\": {\"color\": \"rgb(0, 0, 0)\", \"width\": 1}, \"mode\": \"lines\", \"x\": [0.66, 0.33, null, 0.35022071942550836, 0.3526100389194443, null, 0.35022071942550836, 0.3833221014449805, null], \"y\": [1.0, 0.0, null, 0.06127490735002531, 0.13359437096827784, null, 0.06127490735002531, 0.09650302407543368, null], \"type\": \"scatter\"}, {\"hoverinfo\": \"none\", \"line\": {\"color\": \"rgb(0, 0, 0)\", \"width\": 1}, \"mode\": \"lines\", \"x\": [1.0, 0.66, null, 0.6806532023433265, 0.6835549327328607, null, 0.6806532023433265, 0.7140012524011855, null], \"y\": [1.0, 0.0, null, 0.06074471277448944, 0.13299554373343975, null, 0.06074471277448944, 0.09511088313140172, null], \"type\": \"scatter\"}, {\"hoverinfo\": \"none\", \"line\": {\"color\": \"rgb(0, 0, 0)\", \"width\": 1}, \"mode\": \"lines\", \"x\": [0.33, 0.66, null, 0.6221212121212122, 0.5888794484132436, null, 0.6221212121212122, 0.5888794484132436, null], \"y\": [0.0, 0.0, null, 0.0, -0.034740981058275576, null, 0.0, 0.034740981058275576, null], \"type\": \"scatter\"}, {\"hoverinfo\": \"none\", \"line\": {\"color\": \"rgb(0, 0, 0)\", \"width\": 1}, \"mode\": \"lines\", \"x\": [0.66, 1.0, null, 0.9621212121212122, 0.9288794484132434, null, 0.9621212121212122, 0.9288794484132434, null], \"y\": [0.0, 0.0, null, 0.0, -0.034740981058275576, null, 0.0, 0.034740981058275576, null], \"type\": \"scatter\"}, {\"hoverinfo\": \"none\", \"marker\": {\"color\": \"rgb(0, 255, 0)\", \"line\": {\"color\": \"rgb(0, 0, 0)\", \"width\": 1}, \"size\": 20}, \"mode\": \"markers+text\", \"text\": [\"0\"], \"textfont\": {\"color\": \"rgb(0, 0, 0)\"}, \"textposition\": \"middle center\", \"x\": [0.0], \"y\": [0.5], \"type\": \"scatter\"}, {\"hoverinfo\": \"none\", \"marker\": {\"color\": \"rgb(0, 255, 0)\", \"line\": {\"color\": \"rgb(0, 0, 0)\", \"width\": 1}, \"size\": 20}, \"mode\": \"markers+text\", \"text\": [\"1\"], \"textfont\": {\"color\": \"rgb(0, 0, 0)\"}, \"textposition\": \"middle center\", \"x\": [0.33], \"y\": [1.0], \"type\": \"scatter\"}, {\"hoverinfo\": \"none\", \"marker\": {\"color\": \"rgb(255, 255, 255)\", \"line\": {\"color\": \"rgb(0, 0, 0)\", \"width\": 1}, \"size\": 20}, \"mode\": \"markers+text\", \"text\": [\"2\"], \"textfont\": {\"color\": \"rgb(0, 0, 0)\"}, \"textposition\": \"middle center\", \"x\": [0.66], \"y\": [1.0], \"type\": \"scatter\"}, {\"hoverinfo\": \"none\", \"marker\": {\"color\": \"rgb(255, 255, 255)\", \"line\": {\"color\": \"rgb(0, 0, 0)\", \"width\": 1}, \"size\": 20}, \"mode\": \"markers+text\", \"text\": [\"3\"], \"textfont\": {\"color\": \"rgb(0, 0, 0)\"}, \"textposition\": \"middle center\", \"x\": [1.0], \"y\": [1.0], \"type\": \"scatter\"}, {\"hoverinfo\": \"none\", \"marker\": {\"color\": \"rgb(255, 255, 255)\", \"line\": {\"color\": \"rgb(0, 0, 0)\", \"width\": 1}, \"size\": 20}, \"mode\": \"markers+text\", \"text\": [\"4\"], \"textfont\": {\"color\": \"rgb(0, 0, 0)\"}, \"textposition\": \"middle center\", \"x\": [0.33], \"y\": [0.0], \"type\": \"scatter\"}, {\"hoverinfo\": \"none\", \"marker\": {\"color\": \"rgb(255, 255, 255)\", \"line\": {\"color\": \"rgb(0, 0, 0)\", \"width\": 1}, \"size\": 20}, \"mode\": \"markers+text\", \"text\": [\"5\"], \"textfont\": {\"color\": \"rgb(0, 0, 0)\"}, \"textposition\": \"middle center\", \"x\": [0.66], \"y\": [0.0], \"type\": \"scatter\"}, {\"hoverinfo\": \"none\", \"marker\": {\"color\": \"rgb(255, 255, 255)\", \"line\": {\"color\": \"rgb(0, 0, 0)\", \"width\": 1}, \"size\": 20}, \"mode\": \"markers+text\", \"text\": [\"6\"], \"textfont\": {\"color\": \"rgb(0, 0, 0)\"}, \"textposition\": \"middle center\", \"x\": [1.0], \"y\": [0.0], \"type\": \"scatter\"}], \"name\": \"1\"}, {\"data\": [{\"hoverinfo\": \"none\", \"line\": {\"color\": \"rgb(0, 0, 0)\", \"width\": 1}, \"mode\": \"lines\", \"x\": [0.0, 0.33, null, 0.3003062713421305, 0.2855225877733855, null, 0.3003062713421305, 0.2629725579755741, null], \"y\": [0.5, 1.0, null, 0.9550095020335311, 0.8882926689752846, null, 0.9550095020335311, 0.9427605821595028, null], \"type\": \"scatter\"}, {\"hoverinfo\": \"none\", \"line\": {\"color\": \"rgb(0, 0, 0)\", \"width\": 1}, \"mode\": \"lines\", \"x\": [0.0, 0.33, null, 0.3003062713421305, 0.2629725579755741, null, 0.3003062713421305, 0.2855225877733855, null], \"y\": [0.5, 0.0, null, 0.04499049796646893, 0.0572394178404972, null, 0.04499049796646893, 0.11170733102471547, null], \"type\": \"scatter\"}, {\"hoverinfo\": \"none\", \"line\": {\"color\": \"rgb(0, 0, 0)\", \"width\": 1}, \"mode\": \"lines\", \"x\": [0.33, 0.66, null, 0.6221212121212122, 0.5888794484132436, null, 0.6221212121212122, 0.5888794484132436, null], \"y\": [1.0, 1.0, null, 1.0, 0.9652590189417244, null, 1.0, 1.0347409810582755, null], \"type\": \"scatter\"}, {\"hoverinfo\": \"none\", \"line\": {\"color\": \"rgb(0, 0, 0)\", \"width\": 1}, \"mode\": \"lines\", \"x\": [0.66, 1.0, null, 0.9621212121212122, 0.9288794484132434, null, 0.9621212121212122, 0.9288794484132434, null], \"y\": [1.0, 1.0, null, 1.0, 0.9652590189417244, null, 1.0, 1.0347409810582755, null], \"type\": \"scatter\"}, {\"hoverinfo\": \"none\", \"line\": {\"color\": \"rgb(0, 0, 0)\", \"width\": 1}, \"mode\": \"lines\", \"x\": [0.66, 0.33, null, 0.35022071942550836, 0.3526100389194443, null, 0.35022071942550836, 0.3833221014449805, null], \"y\": [1.0, 0.0, null, 0.06127490735002531, 0.13359437096827784, null, 0.06127490735002531, 0.09650302407543368, null], \"type\": \"scatter\"}, {\"hoverinfo\": \"none\", \"line\": {\"color\": \"rgb(0, 0, 0)\", \"width\": 1}, \"mode\": \"lines\", \"x\": [1.0, 0.66, null, 0.6806532023433265, 0.6835549327328607, null, 0.6806532023433265, 0.7140012524011855, null], \"y\": [1.0, 0.0, null, 0.06074471277448944, 0.13299554373343975, null, 0.06074471277448944, 0.09511088313140172, null], \"type\": \"scatter\"}, {\"hoverinfo\": \"none\", \"line\": {\"color\": \"rgb(0, 0, 0)\", \"width\": 1}, \"mode\": \"lines\", \"x\": [0.33, 0.66, null, 0.6221212121212122, 0.5888794484132436, null, 0.6221212121212122, 0.5888794484132436, null], \"y\": [0.0, 0.0, null, 0.0, -0.034740981058275576, null, 0.0, 0.034740981058275576, null], \"type\": \"scatter\"}, {\"hoverinfo\": \"none\", \"line\": {\"color\": \"rgb(0, 0, 0)\", \"width\": 1}, \"mode\": \"lines\", \"x\": [0.66, 1.0, null, 0.9621212121212122, 0.9288794484132434, null, 0.9621212121212122, 0.9288794484132434, null], \"y\": [0.0, 0.0, null, 0.0, -0.034740981058275576, null, 0.0, 0.034740981058275576, null], \"type\": \"scatter\"}, {\"hoverinfo\": \"none\", \"marker\": {\"color\": \"rgb(0, 255, 0)\", \"line\": {\"color\": \"rgb(0, 0, 0)\", \"width\": 1}, \"size\": 20}, \"mode\": \"markers+text\", \"text\": [\"0\"], \"textfont\": {\"color\": \"rgb(0, 0, 0)\"}, \"textposition\": \"middle center\", \"x\": [0.0], \"y\": [0.5], \"type\": \"scatter\"}, {\"hoverinfo\": \"none\", \"marker\": {\"color\": \"rgb(0, 255, 0)\", \"line\": {\"color\": \"rgb(0, 0, 0)\", \"width\": 1}, \"size\": 20}, \"mode\": \"markers+text\", \"text\": [\"1\"], \"textfont\": {\"color\": \"rgb(0, 0, 0)\"}, \"textposition\": \"middle center\", \"x\": [0.33], \"y\": [1.0], \"type\": \"scatter\"}, {\"hoverinfo\": \"none\", \"marker\": {\"color\": \"rgb(0, 255, 0)\", \"line\": {\"color\": \"rgb(0, 0, 0)\", \"width\": 1}, \"size\": 20}, \"mode\": \"markers+text\", \"text\": [\"2\"], \"textfont\": {\"color\": \"rgb(0, 0, 0)\"}, \"textposition\": \"middle center\", \"x\": [0.66], \"y\": [1.0], \"type\": \"scatter\"}, {\"hoverinfo\": \"none\", \"marker\": {\"color\": \"rgb(255, 255, 255)\", \"line\": {\"color\": \"rgb(0, 0, 0)\", \"width\": 1}, \"size\": 20}, \"mode\": \"markers+text\", \"text\": [\"3\"], \"textfont\": {\"color\": \"rgb(0, 0, 0)\"}, \"textposition\": \"middle center\", \"x\": [1.0], \"y\": [1.0], \"type\": \"scatter\"}, {\"hoverinfo\": \"none\", \"marker\": {\"color\": \"rgb(255, 255, 255)\", \"line\": {\"color\": \"rgb(0, 0, 0)\", \"width\": 1}, \"size\": 20}, \"mode\": \"markers+text\", \"text\": [\"4\"], \"textfont\": {\"color\": \"rgb(0, 0, 0)\"}, \"textposition\": \"middle center\", \"x\": [0.33], \"y\": [0.0], \"type\": \"scatter\"}, {\"hoverinfo\": \"none\", \"marker\": {\"color\": \"rgb(255, 255, 255)\", \"line\": {\"color\": \"rgb(0, 0, 0)\", \"width\": 1}, \"size\": 20}, \"mode\": \"markers+text\", \"text\": [\"5\"], \"textfont\": {\"color\": \"rgb(0, 0, 0)\"}, \"textposition\": \"middle center\", \"x\": [0.66], \"y\": [0.0], \"type\": \"scatter\"}, {\"hoverinfo\": \"none\", \"marker\": {\"color\": \"rgb(255, 255, 255)\", \"line\": {\"color\": \"rgb(0, 0, 0)\", \"width\": 1}, \"size\": 20}, \"mode\": \"markers+text\", \"text\": [\"6\"], \"textfont\": {\"color\": \"rgb(0, 0, 0)\"}, \"textposition\": \"middle center\", \"x\": [1.0], \"y\": [0.0], \"type\": \"scatter\"}], \"name\": \"2\"}, {\"data\": [{\"hoverinfo\": \"none\", \"line\": {\"color\": \"rgb(0, 0, 0)\", \"width\": 1}, \"mode\": \"lines\", \"x\": [0.0, 0.33, null, 0.3003062713421305, 0.2855225877733855, null, 0.3003062713421305, 0.2629725579755741, null], \"y\": [0.5, 1.0, null, 0.9550095020335311, 0.8882926689752846, null, 0.9550095020335311, 0.9427605821595028, null], \"type\": \"scatter\"}, {\"hoverinfo\": \"none\", \"line\": {\"color\": \"rgb(0, 0, 0)\", \"width\": 1}, \"mode\": \"lines\", \"x\": [0.0, 0.33, null, 0.3003062713421305, 0.2629725579755741, null, 0.3003062713421305, 0.2855225877733855, null], \"y\": [0.5, 0.0, null, 0.04499049796646893, 0.0572394178404972, null, 0.04499049796646893, 0.11170733102471547, null], \"type\": \"scatter\"}, {\"hoverinfo\": \"none\", \"line\": {\"color\": \"rgb(0, 0, 0)\", \"width\": 1}, \"mode\": \"lines\", \"x\": [0.33, 0.66, null, 0.6221212121212122, 0.5888794484132436, null, 0.6221212121212122, 0.5888794484132436, null], \"y\": [1.0, 1.0, null, 1.0, 0.9652590189417244, null, 1.0, 1.0347409810582755, null], \"type\": \"scatter\"}, {\"hoverinfo\": \"none\", \"line\": {\"color\": \"rgb(0, 0, 0)\", \"width\": 1}, \"mode\": \"lines\", \"x\": [0.66, 1.0, null, 0.9621212121212122, 0.9288794484132434, null, 0.9621212121212122, 0.9288794484132434, null], \"y\": [1.0, 1.0, null, 1.0, 0.9652590189417244, null, 1.0, 1.0347409810582755, null], \"type\": \"scatter\"}, {\"hoverinfo\": \"none\", \"line\": {\"color\": \"rgb(0, 0, 0)\", \"width\": 1}, \"mode\": \"lines\", \"x\": [0.66, 0.33, null, 0.35022071942550836, 0.3526100389194443, null, 0.35022071942550836, 0.3833221014449805, null], \"y\": [1.0, 0.0, null, 0.06127490735002531, 0.13359437096827784, null, 0.06127490735002531, 0.09650302407543368, null], \"type\": \"scatter\"}, {\"hoverinfo\": \"none\", \"line\": {\"color\": \"rgb(0, 0, 0)\", \"width\": 1}, \"mode\": \"lines\", \"x\": [1.0, 0.66, null, 0.6806532023433265, 0.6835549327328607, null, 0.6806532023433265, 0.7140012524011855, null], \"y\": [1.0, 0.0, null, 0.06074471277448944, 0.13299554373343975, null, 0.06074471277448944, 0.09511088313140172, null], \"type\": \"scatter\"}, {\"hoverinfo\": \"none\", \"line\": {\"color\": \"rgb(0, 0, 0)\", \"width\": 1}, \"mode\": \"lines\", \"x\": [0.33, 0.66, null, 0.6221212121212122, 0.5888794484132436, null, 0.6221212121212122, 0.5888794484132436, null], \"y\": [0.0, 0.0, null, 0.0, -0.034740981058275576, null, 0.0, 0.034740981058275576, null], \"type\": \"scatter\"}, {\"hoverinfo\": \"none\", \"line\": {\"color\": \"rgb(0, 0, 0)\", \"width\": 1}, \"mode\": \"lines\", \"x\": [0.66, 1.0, null, 0.9621212121212122, 0.9288794484132434, null, 0.9621212121212122, 0.9288794484132434, null], \"y\": [0.0, 0.0, null, 0.0, -0.034740981058275576, null, 0.0, 0.034740981058275576, null], \"type\": \"scatter\"}, {\"hoverinfo\": \"none\", \"marker\": {\"color\": \"rgb(0, 255, 0)\", \"line\": {\"color\": \"rgb(0, 0, 0)\", \"width\": 1}, \"size\": 20}, \"mode\": \"markers+text\", \"text\": [\"0\"], \"textfont\": {\"color\": \"rgb(0, 0, 0)\"}, \"textposition\": \"middle center\", \"x\": [0.0], \"y\": [0.5], \"type\": \"scatter\"}, {\"hoverinfo\": \"none\", \"marker\": {\"color\": \"rgb(0, 255, 0)\", \"line\": {\"color\": \"rgb(0, 0, 0)\", \"width\": 1}, \"size\": 20}, \"mode\": \"markers+text\", \"text\": [\"1\"], \"textfont\": {\"color\": \"rgb(0, 0, 0)\"}, \"textposition\": \"middle center\", \"x\": [0.33], \"y\": [1.0], \"type\": \"scatter\"}, {\"hoverinfo\": \"none\", \"marker\": {\"color\": \"rgb(0, 255, 0)\", \"line\": {\"color\": \"rgb(0, 0, 0)\", \"width\": 1}, \"size\": 20}, \"mode\": \"markers+text\", \"text\": [\"2\"], \"textfont\": {\"color\": \"rgb(0, 0, 0)\"}, \"textposition\": \"middle center\", \"x\": [0.66], \"y\": [1.0], \"type\": \"scatter\"}, {\"hoverinfo\": \"none\", \"marker\": {\"color\": \"rgb(0, 255, 0)\", \"line\": {\"color\": \"rgb(0, 0, 0)\", \"width\": 1}, \"size\": 20}, \"mode\": \"markers+text\", \"text\": [\"3\"], \"textfont\": {\"color\": \"rgb(0, 0, 0)\"}, \"textposition\": \"middle center\", \"x\": [1.0], \"y\": [1.0], \"type\": \"scatter\"}, {\"hoverinfo\": \"none\", \"marker\": {\"color\": \"rgb(255, 255, 255)\", \"line\": {\"color\": \"rgb(0, 0, 0)\", \"width\": 1}, \"size\": 20}, \"mode\": \"markers+text\", \"text\": [\"4\"], \"textfont\": {\"color\": \"rgb(0, 0, 0)\"}, \"textposition\": \"middle center\", \"x\": [0.33], \"y\": [0.0], \"type\": \"scatter\"}, {\"hoverinfo\": \"none\", \"marker\": {\"color\": \"rgb(255, 255, 255)\", \"line\": {\"color\": \"rgb(0, 0, 0)\", \"width\": 1}, \"size\": 20}, \"mode\": \"markers+text\", \"text\": [\"5\"], \"textfont\": {\"color\": \"rgb(0, 0, 0)\"}, \"textposition\": \"middle center\", \"x\": [0.66], \"y\": [0.0], \"type\": \"scatter\"}, {\"hoverinfo\": \"none\", \"marker\": {\"color\": \"rgb(255, 255, 255)\", \"line\": {\"color\": \"rgb(0, 0, 0)\", \"width\": 1}, \"size\": 20}, \"mode\": \"markers+text\", \"text\": [\"6\"], \"textfont\": {\"color\": \"rgb(0, 0, 0)\"}, \"textposition\": \"middle center\", \"x\": [1.0], \"y\": [0.0], \"type\": \"scatter\"}], \"name\": \"3\"}, {\"data\": [{\"hoverinfo\": \"none\", \"line\": {\"color\": \"rgb(0, 0, 0)\", \"width\": 1}, \"mode\": \"lines\", \"x\": [0.0, 0.33, null, 0.3003062713421305, 0.2855225877733855, null, 0.3003062713421305, 0.2629725579755741, null], \"y\": [0.5, 1.0, null, 0.9550095020335311, 0.8882926689752846, null, 0.9550095020335311, 0.9427605821595028, null], \"type\": \"scatter\"}, {\"hoverinfo\": \"none\", \"line\": {\"color\": \"rgb(0, 0, 0)\", \"width\": 1}, \"mode\": \"lines\", \"x\": [0.0, 0.33, null, 0.3003062713421305, 0.2629725579755741, null, 0.3003062713421305, 0.2855225877733855, null], \"y\": [0.5, 0.0, null, 0.04499049796646893, 0.0572394178404972, null, 0.04499049796646893, 0.11170733102471547, null], \"type\": \"scatter\"}, {\"hoverinfo\": \"none\", \"line\": {\"color\": \"rgb(0, 0, 0)\", \"width\": 1}, \"mode\": \"lines\", \"x\": [0.33, 0.66, null, 0.6221212121212122, 0.5888794484132436, null, 0.6221212121212122, 0.5888794484132436, null], \"y\": [1.0, 1.0, null, 1.0, 0.9652590189417244, null, 1.0, 1.0347409810582755, null], \"type\": \"scatter\"}, {\"hoverinfo\": \"none\", \"line\": {\"color\": \"rgb(0, 0, 0)\", \"width\": 1}, \"mode\": \"lines\", \"x\": [0.66, 1.0, null, 0.9621212121212122, 0.9288794484132434, null, 0.9621212121212122, 0.9288794484132434, null], \"y\": [1.0, 1.0, null, 1.0, 0.9652590189417244, null, 1.0, 1.0347409810582755, null], \"type\": \"scatter\"}, {\"hoverinfo\": \"none\", \"line\": {\"color\": \"rgb(0, 0, 0)\", \"width\": 1}, \"mode\": \"lines\", \"x\": [0.66, 0.33, null, 0.35022071942550836, 0.3526100389194443, null, 0.35022071942550836, 0.3833221014449805, null], \"y\": [1.0, 0.0, null, 0.06127490735002531, 0.13359437096827784, null, 0.06127490735002531, 0.09650302407543368, null], \"type\": \"scatter\"}, {\"hoverinfo\": \"none\", \"line\": {\"color\": \"rgb(0, 0, 0)\", \"width\": 1}, \"mode\": \"lines\", \"x\": [1.0, 0.66, null, 0.6806532023433265, 0.6835549327328607, null, 0.6806532023433265, 0.7140012524011855, null], \"y\": [1.0, 0.0, null, 0.06074471277448944, 0.13299554373343975, null, 0.06074471277448944, 0.09511088313140172, null], \"type\": \"scatter\"}, {\"hoverinfo\": \"none\", \"line\": {\"color\": \"rgb(0, 0, 0)\", \"width\": 1}, \"mode\": \"lines\", \"x\": [0.33, 0.66, null, 0.6221212121212122, 0.5888794484132436, null, 0.6221212121212122, 0.5888794484132436, null], \"y\": [0.0, 0.0, null, 0.0, -0.034740981058275576, null, 0.0, 0.034740981058275576, null], \"type\": \"scatter\"}, {\"hoverinfo\": \"none\", \"line\": {\"color\": \"rgb(0, 0, 0)\", \"width\": 1}, \"mode\": \"lines\", \"x\": [0.66, 1.0, null, 0.9621212121212122, 0.9288794484132434, null, 0.9621212121212122, 0.9288794484132434, null], \"y\": [0.0, 0.0, null, 0.0, -0.034740981058275576, null, 0.0, 0.034740981058275576, null], \"type\": \"scatter\"}, {\"hoverinfo\": \"none\", \"marker\": {\"color\": \"rgb(0, 255, 0)\", \"line\": {\"color\": \"rgb(0, 0, 0)\", \"width\": 1}, \"size\": 20}, \"mode\": \"markers+text\", \"text\": [\"0\"], \"textfont\": {\"color\": \"rgb(0, 0, 0)\"}, \"textposition\": \"middle center\", \"x\": [0.0], \"y\": [0.5], \"type\": \"scatter\"}, {\"hoverinfo\": \"none\", \"marker\": {\"color\": \"rgb(0, 255, 0)\", \"line\": {\"color\": \"rgb(0, 0, 0)\", \"width\": 1}, \"size\": 20}, \"mode\": \"markers+text\", \"text\": [\"1\"], \"textfont\": {\"color\": \"rgb(0, 0, 0)\"}, \"textposition\": \"middle center\", \"x\": [0.33], \"y\": [1.0], \"type\": \"scatter\"}, {\"hoverinfo\": \"none\", \"marker\": {\"color\": \"rgb(0, 255, 0)\", \"line\": {\"color\": \"rgb(0, 0, 0)\", \"width\": 1}, \"size\": 20}, \"mode\": \"markers+text\", \"text\": [\"2\"], \"textfont\": {\"color\": \"rgb(0, 0, 0)\"}, \"textposition\": \"middle center\", \"x\": [0.66], \"y\": [1.0], \"type\": \"scatter\"}, {\"hoverinfo\": \"none\", \"marker\": {\"color\": \"rgb(0, 255, 0)\", \"line\": {\"color\": \"rgb(0, 0, 0)\", \"width\": 1}, \"size\": 20}, \"mode\": \"markers+text\", \"text\": [\"3\"], \"textfont\": {\"color\": \"rgb(0, 0, 0)\"}, \"textposition\": \"middle center\", \"x\": [1.0], \"y\": [1.0], \"type\": \"scatter\"}, {\"hoverinfo\": \"none\", \"marker\": {\"color\": \"rgb(255, 255, 255)\", \"line\": {\"color\": \"rgb(0, 0, 0)\", \"width\": 1}, \"size\": 20}, \"mode\": \"markers+text\", \"text\": [\"4\"], \"textfont\": {\"color\": \"rgb(0, 0, 0)\"}, \"textposition\": \"middle center\", \"x\": [0.33], \"y\": [0.0], \"type\": \"scatter\"}, {\"hoverinfo\": \"none\", \"marker\": {\"color\": \"rgb(0, 255, 0)\", \"line\": {\"color\": \"rgb(0, 0, 0)\", \"width\": 1}, \"size\": 20}, \"mode\": \"markers+text\", \"text\": [\"5\"], \"textfont\": {\"color\": \"rgb(0, 0, 0)\"}, \"textposition\": \"middle center\", \"x\": [0.66], \"y\": [0.0], \"type\": \"scatter\"}, {\"hoverinfo\": \"none\", \"marker\": {\"color\": \"rgb(255, 255, 255)\", \"line\": {\"color\": \"rgb(0, 0, 0)\", \"width\": 1}, \"size\": 20}, \"mode\": \"markers+text\", \"text\": [\"6\"], \"textfont\": {\"color\": \"rgb(0, 0, 0)\"}, \"textposition\": \"middle center\", \"x\": [1.0], \"y\": [0.0], \"type\": \"scatter\"}], \"name\": \"4\"}, {\"data\": [{\"hoverinfo\": \"none\", \"line\": {\"color\": \"rgb(0, 0, 0)\", \"width\": 1}, \"mode\": \"lines\", \"x\": [0.0, 0.33, null, 0.3003062713421305, 0.2855225877733855, null, 0.3003062713421305, 0.2629725579755741, null], \"y\": [0.5, 1.0, null, 0.9550095020335311, 0.8882926689752846, null, 0.9550095020335311, 0.9427605821595028, null], \"type\": \"scatter\"}, {\"hoverinfo\": \"none\", \"line\": {\"color\": \"rgb(0, 0, 0)\", \"width\": 1}, \"mode\": \"lines\", \"x\": [0.0, 0.33, null, 0.3003062713421305, 0.2629725579755741, null, 0.3003062713421305, 0.2855225877733855, null], \"y\": [0.5, 0.0, null, 0.04499049796646893, 0.0572394178404972, null, 0.04499049796646893, 0.11170733102471547, null], \"type\": \"scatter\"}, {\"hoverinfo\": \"none\", \"line\": {\"color\": \"rgb(0, 0, 0)\", \"width\": 1}, \"mode\": \"lines\", \"x\": [0.33, 0.66, null, 0.6221212121212122, 0.5888794484132436, null, 0.6221212121212122, 0.5888794484132436, null], \"y\": [1.0, 1.0, null, 1.0, 0.9652590189417244, null, 1.0, 1.0347409810582755, null], \"type\": \"scatter\"}, {\"hoverinfo\": \"none\", \"line\": {\"color\": \"rgb(0, 0, 0)\", \"width\": 1}, \"mode\": \"lines\", \"x\": [0.66, 1.0, null, 0.9621212121212122, 0.9288794484132434, null, 0.9621212121212122, 0.9288794484132434, null], \"y\": [1.0, 1.0, null, 1.0, 0.9652590189417244, null, 1.0, 1.0347409810582755, null], \"type\": \"scatter\"}, {\"hoverinfo\": \"none\", \"line\": {\"color\": \"rgb(0, 0, 0)\", \"width\": 1}, \"mode\": \"lines\", \"x\": [0.66, 0.33, null, 0.35022071942550836, 0.3526100389194443, null, 0.35022071942550836, 0.3833221014449805, null], \"y\": [1.0, 0.0, null, 0.06127490735002531, 0.13359437096827784, null, 0.06127490735002531, 0.09650302407543368, null], \"type\": \"scatter\"}, {\"hoverinfo\": \"none\", \"line\": {\"color\": \"rgb(0, 0, 0)\", \"width\": 1}, \"mode\": \"lines\", \"x\": [1.0, 0.66, null, 0.6806532023433265, 0.6835549327328607, null, 0.6806532023433265, 0.7140012524011855, null], \"y\": [1.0, 0.0, null, 0.06074471277448944, 0.13299554373343975, null, 0.06074471277448944, 0.09511088313140172, null], \"type\": \"scatter\"}, {\"hoverinfo\": \"none\", \"line\": {\"color\": \"rgb(0, 0, 0)\", \"width\": 1}, \"mode\": \"lines\", \"x\": [0.33, 0.66, null, 0.6221212121212122, 0.5888794484132436, null, 0.6221212121212122, 0.5888794484132436, null], \"y\": [0.0, 0.0, null, 0.0, -0.034740981058275576, null, 0.0, 0.034740981058275576, null], \"type\": \"scatter\"}, {\"hoverinfo\": \"none\", \"line\": {\"color\": \"rgb(0, 0, 0)\", \"width\": 1}, \"mode\": \"lines\", \"x\": [0.66, 1.0, null, 0.9621212121212122, 0.9288794484132434, null, 0.9621212121212122, 0.9288794484132434, null], \"y\": [0.0, 0.0, null, 0.0, -0.034740981058275576, null, 0.0, 0.034740981058275576, null], \"type\": \"scatter\"}, {\"hoverinfo\": \"none\", \"marker\": {\"color\": \"rgb(0, 255, 0)\", \"line\": {\"color\": \"rgb(0, 0, 0)\", \"width\": 1}, \"size\": 20}, \"mode\": \"markers+text\", \"text\": [\"0\"], \"textfont\": {\"color\": \"rgb(0, 0, 0)\"}, \"textposition\": \"middle center\", \"x\": [0.0], \"y\": [0.5], \"type\": \"scatter\"}, {\"hoverinfo\": \"none\", \"marker\": {\"color\": \"rgb(0, 255, 0)\", \"line\": {\"color\": \"rgb(0, 0, 0)\", \"width\": 1}, \"size\": 20}, \"mode\": \"markers+text\", \"text\": [\"1\"], \"textfont\": {\"color\": \"rgb(0, 0, 0)\"}, \"textposition\": \"middle center\", \"x\": [0.33], \"y\": [1.0], \"type\": \"scatter\"}, {\"hoverinfo\": \"none\", \"marker\": {\"color\": \"rgb(0, 255, 0)\", \"line\": {\"color\": \"rgb(0, 0, 0)\", \"width\": 1}, \"size\": 20}, \"mode\": \"markers+text\", \"text\": [\"2\"], \"textfont\": {\"color\": \"rgb(0, 0, 0)\"}, \"textposition\": \"middle center\", \"x\": [0.66], \"y\": [1.0], \"type\": \"scatter\"}, {\"hoverinfo\": \"none\", \"marker\": {\"color\": \"rgb(0, 255, 0)\", \"line\": {\"color\": \"rgb(0, 0, 0)\", \"width\": 1}, \"size\": 20}, \"mode\": \"markers+text\", \"text\": [\"3\"], \"textfont\": {\"color\": \"rgb(0, 0, 0)\"}, \"textposition\": \"middle center\", \"x\": [1.0], \"y\": [1.0], \"type\": \"scatter\"}, {\"hoverinfo\": \"none\", \"marker\": {\"color\": \"rgb(255, 255, 255)\", \"line\": {\"color\": \"rgb(0, 0, 0)\", \"width\": 1}, \"size\": 20}, \"mode\": \"markers+text\", \"text\": [\"4\"], \"textfont\": {\"color\": \"rgb(0, 0, 0)\"}, \"textposition\": \"middle center\", \"x\": [0.33], \"y\": [0.0], \"type\": \"scatter\"}, {\"hoverinfo\": \"none\", \"marker\": {\"color\": \"rgb(0, 255, 0)\", \"line\": {\"color\": \"rgb(0, 0, 0)\", \"width\": 1}, \"size\": 20}, \"mode\": \"markers+text\", \"text\": [\"5\"], \"textfont\": {\"color\": \"rgb(0, 0, 0)\"}, \"textposition\": \"middle center\", \"x\": [0.66], \"y\": [0.0], \"type\": \"scatter\"}, {\"hoverinfo\": \"none\", \"marker\": {\"color\": \"rgb(0, 255, 0)\", \"line\": {\"color\": \"rgb(0, 0, 0)\", \"width\": 1}, \"size\": 20}, \"mode\": \"markers+text\", \"text\": [\"6\"], \"textfont\": {\"color\": \"rgb(0, 0, 0)\"}, \"textposition\": \"middle center\", \"x\": [1.0], \"y\": [0.0], \"type\": \"scatter\"}], \"name\": \"5\"}, {\"data\": [{\"hoverinfo\": \"none\", \"line\": {\"color\": \"rgb(0, 0, 0)\", \"width\": 1}, \"mode\": \"lines\", \"x\": [0.0, 0.33, null, 0.3003062713421305, 0.2855225877733855, null, 0.3003062713421305, 0.2629725579755741, null], \"y\": [0.5, 1.0, null, 0.9550095020335311, 0.8882926689752846, null, 0.9550095020335311, 0.9427605821595028, null], \"type\": \"scatter\"}, {\"hoverinfo\": \"none\", \"line\": {\"color\": \"rgb(0, 0, 0)\", \"width\": 1}, \"mode\": \"lines\", \"x\": [0.0, 0.33, null, 0.3003062713421305, 0.2629725579755741, null, 0.3003062713421305, 0.2855225877733855, null], \"y\": [0.5, 0.0, null, 0.04499049796646893, 0.0572394178404972, null, 0.04499049796646893, 0.11170733102471547, null], \"type\": \"scatter\"}, {\"hoverinfo\": \"none\", \"line\": {\"color\": \"rgb(0, 0, 0)\", \"width\": 1}, \"mode\": \"lines\", \"x\": [0.33, 0.66, null, 0.6221212121212122, 0.5888794484132436, null, 0.6221212121212122, 0.5888794484132436, null], \"y\": [1.0, 1.0, null, 1.0, 0.9652590189417244, null, 1.0, 1.0347409810582755, null], \"type\": \"scatter\"}, {\"hoverinfo\": \"none\", \"line\": {\"color\": \"rgb(0, 0, 0)\", \"width\": 1}, \"mode\": \"lines\", \"x\": [0.66, 1.0, null, 0.9621212121212122, 0.9288794484132434, null, 0.9621212121212122, 0.9288794484132434, null], \"y\": [1.0, 1.0, null, 1.0, 0.9652590189417244, null, 1.0, 1.0347409810582755, null], \"type\": \"scatter\"}, {\"hoverinfo\": \"none\", \"line\": {\"color\": \"rgb(0, 0, 0)\", \"width\": 1}, \"mode\": \"lines\", \"x\": [0.66, 0.33, null, 0.35022071942550836, 0.3526100389194443, null, 0.35022071942550836, 0.3833221014449805, null], \"y\": [1.0, 0.0, null, 0.06127490735002531, 0.13359437096827784, null, 0.06127490735002531, 0.09650302407543368, null], \"type\": \"scatter\"}, {\"hoverinfo\": \"none\", \"line\": {\"color\": \"rgb(0, 0, 0)\", \"width\": 1}, \"mode\": \"lines\", \"x\": [1.0, 0.66, null, 0.6806532023433265, 0.6835549327328607, null, 0.6806532023433265, 0.7140012524011855, null], \"y\": [1.0, 0.0, null, 0.06074471277448944, 0.13299554373343975, null, 0.06074471277448944, 0.09511088313140172, null], \"type\": \"scatter\"}, {\"hoverinfo\": \"none\", \"line\": {\"color\": \"rgb(0, 0, 0)\", \"width\": 1}, \"mode\": \"lines\", \"x\": [0.33, 0.66, null, 0.6221212121212122, 0.5888794484132436, null, 0.6221212121212122, 0.5888794484132436, null], \"y\": [0.0, 0.0, null, 0.0, -0.034740981058275576, null, 0.0, 0.034740981058275576, null], \"type\": \"scatter\"}, {\"hoverinfo\": \"none\", \"line\": {\"color\": \"rgb(0, 0, 0)\", \"width\": 1}, \"mode\": \"lines\", \"x\": [0.66, 1.0, null, 0.9621212121212122, 0.9288794484132434, null, 0.9621212121212122, 0.9288794484132434, null], \"y\": [0.0, 0.0, null, 0.0, -0.034740981058275576, null, 0.0, 0.034740981058275576, null], \"type\": \"scatter\"}, {\"hoverinfo\": \"none\", \"marker\": {\"color\": \"rgb(0, 255, 0)\", \"line\": {\"color\": \"rgb(0, 0, 0)\", \"width\": 1}, \"size\": 20}, \"mode\": \"markers+text\", \"text\": [\"0\"], \"textfont\": {\"color\": \"rgb(0, 0, 0)\"}, \"textposition\": \"middle center\", \"x\": [0.0], \"y\": [0.5], \"type\": \"scatter\"}, {\"hoverinfo\": \"none\", \"marker\": {\"color\": \"rgb(0, 255, 0)\", \"line\": {\"color\": \"rgb(0, 0, 0)\", \"width\": 1}, \"size\": 20}, \"mode\": \"markers+text\", \"text\": [\"1\"], \"textfont\": {\"color\": \"rgb(0, 0, 0)\"}, \"textposition\": \"middle center\", \"x\": [0.33], \"y\": [1.0], \"type\": \"scatter\"}, {\"hoverinfo\": \"none\", \"marker\": {\"color\": \"rgb(0, 255, 0)\", \"line\": {\"color\": \"rgb(0, 0, 0)\", \"width\": 1}, \"size\": 20}, \"mode\": \"markers+text\", \"text\": [\"2\"], \"textfont\": {\"color\": \"rgb(0, 0, 0)\"}, \"textposition\": \"middle center\", \"x\": [0.66], \"y\": [1.0], \"type\": \"scatter\"}, {\"hoverinfo\": \"none\", \"marker\": {\"color\": \"rgb(0, 255, 0)\", \"line\": {\"color\": \"rgb(0, 0, 0)\", \"width\": 1}, \"size\": 20}, \"mode\": \"markers+text\", \"text\": [\"3\"], \"textfont\": {\"color\": \"rgb(0, 0, 0)\"}, \"textposition\": \"middle center\", \"x\": [1.0], \"y\": [1.0], \"type\": \"scatter\"}, {\"hoverinfo\": \"none\", \"marker\": {\"color\": \"rgb(0, 255, 0)\", \"line\": {\"color\": \"rgb(0, 0, 0)\", \"width\": 1}, \"size\": 20}, \"mode\": \"markers+text\", \"text\": [\"4\"], \"textfont\": {\"color\": \"rgb(0, 0, 0)\"}, \"textposition\": \"middle center\", \"x\": [0.33], \"y\": [0.0], \"type\": \"scatter\"}, {\"hoverinfo\": \"none\", \"marker\": {\"color\": \"rgb(0, 255, 0)\", \"line\": {\"color\": \"rgb(0, 0, 0)\", \"width\": 1}, \"size\": 20}, \"mode\": \"markers+text\", \"text\": [\"5\"], \"textfont\": {\"color\": \"rgb(0, 0, 0)\"}, \"textposition\": \"middle center\", \"x\": [0.66], \"y\": [0.0], \"type\": \"scatter\"}, {\"hoverinfo\": \"none\", \"marker\": {\"color\": \"rgb(0, 255, 0)\", \"line\": {\"color\": \"rgb(0, 0, 0)\", \"width\": 1}, \"size\": 20}, \"mode\": \"markers+text\", \"text\": [\"6\"], \"textfont\": {\"color\": \"rgb(0, 0, 0)\"}, \"textposition\": \"middle center\", \"x\": [1.0], \"y\": [0.0], \"type\": \"scatter\"}], \"name\": \"6\"}]);}).then(function(){Plotly.animate('df0baa25-3afb-45d9-a679-1117826131d1');})\n",
       "        });</script>"
      ],
      "text/vnd.plotly.v1+html": [
       "<div id=\"df0baa25-3afb-45d9-a679-1117826131d1\" style=\"height: 256.0px; width: 408.0px;\" class=\"plotly-graph-div\"></div><script type=\"text/javascript\">require([\"plotly\"], function(Plotly) { window.PLOTLYENV=window.PLOTLYENV || {};window.PLOTLYENV.BASE_URL=\"https://plot.ly\";\n",
       "        Plotly.plot(\n",
       "            'df0baa25-3afb-45d9-a679-1117826131d1',\n",
       "            [{\"hoverinfo\": \"none\", \"line\": {\"color\": \"rgb(0, 0, 0)\", \"width\": 1}, \"mode\": \"lines\", \"x\": [0.0, 0.33, null, 0.3003062713421305, 0.2855225877733855, null, 0.3003062713421305, 0.2629725579755741, null], \"y\": [0.5, 1.0, null, 0.9550095020335311, 0.8882926689752846, null, 0.9550095020335311, 0.9427605821595028, null], \"type\": \"scatter\", \"uid\": \"2225ccb6-997e-11e8-a0b4-9a5fd3dcadb7\"}, {\"hoverinfo\": \"none\", \"line\": {\"color\": \"rgb(0, 0, 0)\", \"width\": 1}, \"mode\": \"lines\", \"x\": [0.0, 0.33, null, 0.3003062713421305, 0.2629725579755741, null, 0.3003062713421305, 0.2855225877733855, null], \"y\": [0.5, 0.0, null, 0.04499049796646893, 0.0572394178404972, null, 0.04499049796646893, 0.11170733102471547, null], \"type\": \"scatter\", \"uid\": \"2225ccb7-997e-11e8-9e1d-9a5fd3dcadb7\"}, {\"hoverinfo\": \"none\", \"line\": {\"color\": \"rgb(0, 0, 0)\", \"width\": 1}, \"mode\": \"lines\", \"x\": [0.33, 0.66, null, 0.6221212121212122, 0.5888794484132436, null, 0.6221212121212122, 0.5888794484132436, null], \"y\": [1.0, 1.0, null, 1.0, 0.9652590189417244, null, 1.0, 1.0347409810582755, null], \"type\": \"scatter\", \"uid\": \"2225ccb8-997e-11e8-9ec5-9a5fd3dcadb7\"}, {\"hoverinfo\": \"none\", \"line\": {\"color\": \"rgb(0, 0, 0)\", \"width\": 1}, \"mode\": \"lines\", \"x\": [0.66, 1.0, null, 0.9621212121212122, 0.9288794484132434, null, 0.9621212121212122, 0.9288794484132434, null], \"y\": [1.0, 1.0, null, 1.0, 0.9652590189417244, null, 1.0, 1.0347409810582755, null], \"type\": \"scatter\", \"uid\": \"2225ccb9-997e-11e8-bbc3-9a5fd3dcadb7\"}, {\"hoverinfo\": \"none\", \"line\": {\"color\": \"rgb(0, 0, 0)\", \"width\": 1}, \"mode\": \"lines\", \"x\": [0.66, 0.33, null, 0.35022071942550836, 0.3526100389194443, null, 0.35022071942550836, 0.3833221014449805, null], \"y\": [1.0, 0.0, null, 0.06127490735002531, 0.13359437096827784, null, 0.06127490735002531, 0.09650302407543368, null], \"type\": \"scatter\", \"uid\": \"2225ccba-997e-11e8-b2c4-9a5fd3dcadb7\"}, {\"hoverinfo\": \"none\", \"line\": {\"color\": \"rgb(0, 0, 0)\", \"width\": 1}, \"mode\": \"lines\", \"x\": [1.0, 0.66, null, 0.6806532023433265, 0.6835549327328607, null, 0.6806532023433265, 0.7140012524011855, null], \"y\": [1.0, 0.0, null, 0.06074471277448944, 0.13299554373343975, null, 0.06074471277448944, 0.09511088313140172, null], \"type\": \"scatter\", \"uid\": \"2225ccbb-997e-11e8-825d-9a5fd3dcadb7\"}, {\"hoverinfo\": \"none\", \"line\": {\"color\": \"rgb(0, 0, 0)\", \"width\": 1}, \"mode\": \"lines\", \"x\": [0.33, 0.66, null, 0.6221212121212122, 0.5888794484132436, null, 0.6221212121212122, 0.5888794484132436, null], \"y\": [0.0, 0.0, null, 0.0, -0.034740981058275576, null, 0.0, 0.034740981058275576, null], \"type\": \"scatter\", \"uid\": \"2225ccbc-997e-11e8-a115-9a5fd3dcadb7\"}, {\"hoverinfo\": \"none\", \"line\": {\"color\": \"rgb(0, 0, 0)\", \"width\": 1}, \"mode\": \"lines\", \"x\": [0.66, 1.0, null, 0.9621212121212122, 0.9288794484132434, null, 0.9621212121212122, 0.9288794484132434, null], \"y\": [0.0, 0.0, null, 0.0, -0.034740981058275576, null, 0.0, 0.034740981058275576, null], \"type\": \"scatter\", \"uid\": \"2225e048-997e-11e8-b800-9a5fd3dcadb7\"}, {\"hoverinfo\": \"none\", \"marker\": {\"color\": \"rgb(0, 255, 0)\", \"line\": {\"color\": \"rgb(0, 0, 0)\", \"width\": 1}, \"size\": 20}, \"mode\": \"markers+text\", \"text\": [\"0\"], \"textfont\": {\"color\": \"rgb(0, 0, 0)\"}, \"textposition\": \"middle center\", \"x\": [0.0], \"y\": [0.5], \"type\": \"scatter\", \"uid\": \"2225e049-997e-11e8-96fc-9a5fd3dcadb7\"}, {\"hoverinfo\": \"none\", \"marker\": {\"color\": \"rgb(255, 255, 255)\", \"line\": {\"color\": \"rgb(0, 0, 0)\", \"width\": 1}, \"size\": 20}, \"mode\": \"markers+text\", \"text\": [\"1\"], \"textfont\": {\"color\": \"rgb(0, 0, 0)\"}, \"textposition\": \"middle center\", \"x\": [0.33], \"y\": [1.0], \"type\": \"scatter\", \"uid\": \"2225e04a-997e-11e8-9291-9a5fd3dcadb7\"}, {\"hoverinfo\": \"none\", \"marker\": {\"color\": \"rgb(255, 255, 255)\", \"line\": {\"color\": \"rgb(0, 0, 0)\", \"width\": 1}, \"size\": 20}, \"mode\": \"markers+text\", \"text\": [\"2\"], \"textfont\": {\"color\": \"rgb(0, 0, 0)\"}, \"textposition\": \"middle center\", \"x\": [0.66], \"y\": [1.0], \"type\": \"scatter\", \"uid\": \"2225e04b-997e-11e8-bfa1-9a5fd3dcadb7\"}, {\"hoverinfo\": \"none\", \"marker\": {\"color\": \"rgb(255, 255, 255)\", \"line\": {\"color\": \"rgb(0, 0, 0)\", \"width\": 1}, \"size\": 20}, \"mode\": \"markers+text\", \"text\": [\"3\"], \"textfont\": {\"color\": \"rgb(0, 0, 0)\"}, \"textposition\": \"middle center\", \"x\": [1.0], \"y\": [1.0], \"type\": \"scatter\", \"uid\": \"2225e04c-997e-11e8-a84a-9a5fd3dcadb7\"}, {\"hoverinfo\": \"none\", \"marker\": {\"color\": \"rgb(255, 255, 255)\", \"line\": {\"color\": \"rgb(0, 0, 0)\", \"width\": 1}, \"size\": 20}, \"mode\": \"markers+text\", \"text\": [\"4\"], \"textfont\": {\"color\": \"rgb(0, 0, 0)\"}, \"textposition\": \"middle center\", \"x\": [0.33], \"y\": [0.0], \"type\": \"scatter\", \"uid\": \"2225e04d-997e-11e8-bcaa-9a5fd3dcadb7\"}, {\"hoverinfo\": \"none\", \"marker\": {\"color\": \"rgb(255, 255, 255)\", \"line\": {\"color\": \"rgb(0, 0, 0)\", \"width\": 1}, \"size\": 20}, \"mode\": \"markers+text\", \"text\": [\"5\"], \"textfont\": {\"color\": \"rgb(0, 0, 0)\"}, \"textposition\": \"middle center\", \"x\": [0.66], \"y\": [0.0], \"type\": \"scatter\", \"uid\": \"2225e04e-997e-11e8-8f4c-9a5fd3dcadb7\"}, {\"hoverinfo\": \"none\", \"marker\": {\"color\": \"rgb(255, 255, 255)\", \"line\": {\"color\": \"rgb(0, 0, 0)\", \"width\": 1}, \"size\": 20}, \"mode\": \"markers+text\", \"text\": [\"6\"], \"textfont\": {\"color\": \"rgb(0, 0, 0)\"}, \"textposition\": \"middle center\", \"x\": [1.0], \"y\": [0.0], \"type\": \"scatter\", \"uid\": \"2225e04f-997e-11e8-ba92-9a5fd3dcadb7\"}],\n",
       "            {\"height\": 256.0, \"margin\": {\"b\": 0, \"l\": 0, \"r\": 0, \"t\": 0}, \"showlegend\": false, \"sliders\": [{\"currentvalue\": {\"visible\": false}, \"steps\": [{\"args\": [[0], {\"frame\": {\"redraw\": false}, \"mode\": \"immediate\"}], \"label\": \"\", \"method\": \"animate\"}, {\"args\": [[1], {\"frame\": {\"redraw\": false}, \"mode\": \"immediate\"}], \"label\": \"\", \"method\": \"animate\"}, {\"args\": [[2], {\"frame\": {\"redraw\": false}, \"mode\": \"immediate\"}], \"label\": \"\", \"method\": \"animate\"}, {\"args\": [[3], {\"frame\": {\"redraw\": false}, \"mode\": \"immediate\"}], \"label\": \"\", \"method\": \"animate\"}, {\"args\": [[4], {\"frame\": {\"redraw\": false}, \"mode\": \"immediate\"}], \"label\": \"\", \"method\": \"animate\"}, {\"args\": [[5], {\"frame\": {\"redraw\": false}, \"mode\": \"immediate\"}], \"label\": \"\", \"method\": \"animate\"}, {\"args\": [[6], {\"frame\": {\"redraw\": false}, \"mode\": \"immediate\"}], \"label\": \"\", \"method\": \"animate\"}]}], \"updatemenus\": [{\"buttons\": [{\"args\": [null, {\"frame\": {\"redraw\": false}, \"fromcurrent\": true}], \"label\": \"Play\", \"method\": \"animate\"}, {\"args\": [[null], {\"frame\": {\"redraw\": false}, \"mode\": \"immediate\"}], \"label\": \"Pause\", \"method\": \"animate\"}], \"showactive\": true, \"type\": \"buttons\"}], \"width\": 408.0, \"xaxis\": {\"showgrid\": false, \"showticklabels\": false, \"zeroline\": false}, \"yaxis\": {\"showgrid\": false, \"showticklabels\": false, \"zeroline\": false}},\n",
       "            {\"showLink\": false, \"linkText\": \"Export to plot.ly\", \"displayModeBar\": false}\n",
       "        ).then(function () {return Plotly.addFrames('df0baa25-3afb-45d9-a679-1117826131d1',[{\"data\": [{\"hoverinfo\": \"none\", \"line\": {\"color\": \"rgb(0, 0, 0)\", \"width\": 1}, \"mode\": \"lines\", \"x\": [0.0, 0.33, null, 0.3003062713421305, 0.2855225877733855, null, 0.3003062713421305, 0.2629725579755741, null], \"y\": [0.5, 1.0, null, 0.9550095020335311, 0.8882926689752846, null, 0.9550095020335311, 0.9427605821595028, null], \"type\": \"scatter\"}, {\"hoverinfo\": \"none\", \"line\": {\"color\": \"rgb(0, 0, 0)\", \"width\": 1}, \"mode\": \"lines\", \"x\": [0.0, 0.33, null, 0.3003062713421305, 0.2629725579755741, null, 0.3003062713421305, 0.2855225877733855, null], \"y\": [0.5, 0.0, null, 0.04499049796646893, 0.0572394178404972, null, 0.04499049796646893, 0.11170733102471547, null], \"type\": \"scatter\"}, {\"hoverinfo\": \"none\", \"line\": {\"color\": \"rgb(0, 0, 0)\", \"width\": 1}, \"mode\": \"lines\", \"x\": [0.33, 0.66, null, 0.6221212121212122, 0.5888794484132436, null, 0.6221212121212122, 0.5888794484132436, null], \"y\": [1.0, 1.0, null, 1.0, 0.9652590189417244, null, 1.0, 1.0347409810582755, null], \"type\": \"scatter\"}, {\"hoverinfo\": \"none\", \"line\": {\"color\": \"rgb(0, 0, 0)\", \"width\": 1}, \"mode\": \"lines\", \"x\": [0.66, 1.0, null, 0.9621212121212122, 0.9288794484132434, null, 0.9621212121212122, 0.9288794484132434, null], \"y\": [1.0, 1.0, null, 1.0, 0.9652590189417244, null, 1.0, 1.0347409810582755, null], \"type\": \"scatter\"}, {\"hoverinfo\": \"none\", \"line\": {\"color\": \"rgb(0, 0, 0)\", \"width\": 1}, \"mode\": \"lines\", \"x\": [0.66, 0.33, null, 0.35022071942550836, 0.3526100389194443, null, 0.35022071942550836, 0.3833221014449805, null], \"y\": [1.0, 0.0, null, 0.06127490735002531, 0.13359437096827784, null, 0.06127490735002531, 0.09650302407543368, null], \"type\": \"scatter\"}, {\"hoverinfo\": \"none\", \"line\": {\"color\": \"rgb(0, 0, 0)\", \"width\": 1}, \"mode\": \"lines\", \"x\": [1.0, 0.66, null, 0.6806532023433265, 0.6835549327328607, null, 0.6806532023433265, 0.7140012524011855, null], \"y\": [1.0, 0.0, null, 0.06074471277448944, 0.13299554373343975, null, 0.06074471277448944, 0.09511088313140172, null], \"type\": \"scatter\"}, {\"hoverinfo\": \"none\", \"line\": {\"color\": \"rgb(0, 0, 0)\", \"width\": 1}, \"mode\": \"lines\", \"x\": [0.33, 0.66, null, 0.6221212121212122, 0.5888794484132436, null, 0.6221212121212122, 0.5888794484132436, null], \"y\": [0.0, 0.0, null, 0.0, -0.034740981058275576, null, 0.0, 0.034740981058275576, null], \"type\": \"scatter\"}, {\"hoverinfo\": \"none\", \"line\": {\"color\": \"rgb(0, 0, 0)\", \"width\": 1}, \"mode\": \"lines\", \"x\": [0.66, 1.0, null, 0.9621212121212122, 0.9288794484132434, null, 0.9621212121212122, 0.9288794484132434, null], \"y\": [0.0, 0.0, null, 0.0, -0.034740981058275576, null, 0.0, 0.034740981058275576, null], \"type\": \"scatter\"}, {\"hoverinfo\": \"none\", \"marker\": {\"color\": \"rgb(0, 255, 0)\", \"line\": {\"color\": \"rgb(0, 0, 0)\", \"width\": 1}, \"size\": 20}, \"mode\": \"markers+text\", \"text\": [\"0\"], \"textfont\": {\"color\": \"rgb(0, 0, 0)\"}, \"textposition\": \"middle center\", \"x\": [0.0], \"y\": [0.5], \"type\": \"scatter\"}, {\"hoverinfo\": \"none\", \"marker\": {\"color\": \"rgb(255, 255, 255)\", \"line\": {\"color\": \"rgb(0, 0, 0)\", \"width\": 1}, \"size\": 20}, \"mode\": \"markers+text\", \"text\": [\"1\"], \"textfont\": {\"color\": \"rgb(0, 0, 0)\"}, \"textposition\": \"middle center\", \"x\": [0.33], \"y\": [1.0], \"type\": \"scatter\"}, {\"hoverinfo\": \"none\", \"marker\": {\"color\": \"rgb(255, 255, 255)\", \"line\": {\"color\": \"rgb(0, 0, 0)\", \"width\": 1}, \"size\": 20}, \"mode\": \"markers+text\", \"text\": [\"2\"], \"textfont\": {\"color\": \"rgb(0, 0, 0)\"}, \"textposition\": \"middle center\", \"x\": [0.66], \"y\": [1.0], \"type\": \"scatter\"}, {\"hoverinfo\": \"none\", \"marker\": {\"color\": \"rgb(255, 255, 255)\", \"line\": {\"color\": \"rgb(0, 0, 0)\", \"width\": 1}, \"size\": 20}, \"mode\": \"markers+text\", \"text\": [\"3\"], \"textfont\": {\"color\": \"rgb(0, 0, 0)\"}, \"textposition\": \"middle center\", \"x\": [1.0], \"y\": [1.0], \"type\": \"scatter\"}, {\"hoverinfo\": \"none\", \"marker\": {\"color\": \"rgb(255, 255, 255)\", \"line\": {\"color\": \"rgb(0, 0, 0)\", \"width\": 1}, \"size\": 20}, \"mode\": \"markers+text\", \"text\": [\"4\"], \"textfont\": {\"color\": \"rgb(0, 0, 0)\"}, \"textposition\": \"middle center\", \"x\": [0.33], \"y\": [0.0], \"type\": \"scatter\"}, {\"hoverinfo\": \"none\", \"marker\": {\"color\": \"rgb(255, 255, 255)\", \"line\": {\"color\": \"rgb(0, 0, 0)\", \"width\": 1}, \"size\": 20}, \"mode\": \"markers+text\", \"text\": [\"5\"], \"textfont\": {\"color\": \"rgb(0, 0, 0)\"}, \"textposition\": \"middle center\", \"x\": [0.66], \"y\": [0.0], \"type\": \"scatter\"}, {\"hoverinfo\": \"none\", \"marker\": {\"color\": \"rgb(255, 255, 255)\", \"line\": {\"color\": \"rgb(0, 0, 0)\", \"width\": 1}, \"size\": 20}, \"mode\": \"markers+text\", \"text\": [\"6\"], \"textfont\": {\"color\": \"rgb(0, 0, 0)\"}, \"textposition\": \"middle center\", \"x\": [1.0], \"y\": [0.0], \"type\": \"scatter\"}], \"name\": \"0\"}, {\"data\": [{\"hoverinfo\": \"none\", \"line\": {\"color\": \"rgb(0, 0, 0)\", \"width\": 1}, \"mode\": \"lines\", \"x\": [0.0, 0.33, null, 0.3003062713421305, 0.2855225877733855, null, 0.3003062713421305, 0.2629725579755741, null], \"y\": [0.5, 1.0, null, 0.9550095020335311, 0.8882926689752846, null, 0.9550095020335311, 0.9427605821595028, null], \"type\": \"scatter\"}, {\"hoverinfo\": \"none\", \"line\": {\"color\": \"rgb(0, 0, 0)\", \"width\": 1}, \"mode\": \"lines\", \"x\": [0.0, 0.33, null, 0.3003062713421305, 0.2629725579755741, null, 0.3003062713421305, 0.2855225877733855, null], \"y\": [0.5, 0.0, null, 0.04499049796646893, 0.0572394178404972, null, 0.04499049796646893, 0.11170733102471547, null], \"type\": \"scatter\"}, {\"hoverinfo\": \"none\", \"line\": {\"color\": \"rgb(0, 0, 0)\", \"width\": 1}, \"mode\": \"lines\", \"x\": [0.33, 0.66, null, 0.6221212121212122, 0.5888794484132436, null, 0.6221212121212122, 0.5888794484132436, null], \"y\": [1.0, 1.0, null, 1.0, 0.9652590189417244, null, 1.0, 1.0347409810582755, null], \"type\": \"scatter\"}, {\"hoverinfo\": \"none\", \"line\": {\"color\": \"rgb(0, 0, 0)\", \"width\": 1}, \"mode\": \"lines\", \"x\": [0.66, 1.0, null, 0.9621212121212122, 0.9288794484132434, null, 0.9621212121212122, 0.9288794484132434, null], \"y\": [1.0, 1.0, null, 1.0, 0.9652590189417244, null, 1.0, 1.0347409810582755, null], \"type\": \"scatter\"}, {\"hoverinfo\": \"none\", \"line\": {\"color\": \"rgb(0, 0, 0)\", \"width\": 1}, \"mode\": \"lines\", \"x\": [0.66, 0.33, null, 0.35022071942550836, 0.3526100389194443, null, 0.35022071942550836, 0.3833221014449805, null], \"y\": [1.0, 0.0, null, 0.06127490735002531, 0.13359437096827784, null, 0.06127490735002531, 0.09650302407543368, null], \"type\": \"scatter\"}, {\"hoverinfo\": \"none\", \"line\": {\"color\": \"rgb(0, 0, 0)\", \"width\": 1}, \"mode\": \"lines\", \"x\": [1.0, 0.66, null, 0.6806532023433265, 0.6835549327328607, null, 0.6806532023433265, 0.7140012524011855, null], \"y\": [1.0, 0.0, null, 0.06074471277448944, 0.13299554373343975, null, 0.06074471277448944, 0.09511088313140172, null], \"type\": \"scatter\"}, {\"hoverinfo\": \"none\", \"line\": {\"color\": \"rgb(0, 0, 0)\", \"width\": 1}, \"mode\": \"lines\", \"x\": [0.33, 0.66, null, 0.6221212121212122, 0.5888794484132436, null, 0.6221212121212122, 0.5888794484132436, null], \"y\": [0.0, 0.0, null, 0.0, -0.034740981058275576, null, 0.0, 0.034740981058275576, null], \"type\": \"scatter\"}, {\"hoverinfo\": \"none\", \"line\": {\"color\": \"rgb(0, 0, 0)\", \"width\": 1}, \"mode\": \"lines\", \"x\": [0.66, 1.0, null, 0.9621212121212122, 0.9288794484132434, null, 0.9621212121212122, 0.9288794484132434, null], \"y\": [0.0, 0.0, null, 0.0, -0.034740981058275576, null, 0.0, 0.034740981058275576, null], \"type\": \"scatter\"}, {\"hoverinfo\": \"none\", \"marker\": {\"color\": \"rgb(0, 255, 0)\", \"line\": {\"color\": \"rgb(0, 0, 0)\", \"width\": 1}, \"size\": 20}, \"mode\": \"markers+text\", \"text\": [\"0\"], \"textfont\": {\"color\": \"rgb(0, 0, 0)\"}, \"textposition\": \"middle center\", \"x\": [0.0], \"y\": [0.5], \"type\": \"scatter\"}, {\"hoverinfo\": \"none\", \"marker\": {\"color\": \"rgb(0, 255, 0)\", \"line\": {\"color\": \"rgb(0, 0, 0)\", \"width\": 1}, \"size\": 20}, \"mode\": \"markers+text\", \"text\": [\"1\"], \"textfont\": {\"color\": \"rgb(0, 0, 0)\"}, \"textposition\": \"middle center\", \"x\": [0.33], \"y\": [1.0], \"type\": \"scatter\"}, {\"hoverinfo\": \"none\", \"marker\": {\"color\": \"rgb(255, 255, 255)\", \"line\": {\"color\": \"rgb(0, 0, 0)\", \"width\": 1}, \"size\": 20}, \"mode\": \"markers+text\", \"text\": [\"2\"], \"textfont\": {\"color\": \"rgb(0, 0, 0)\"}, \"textposition\": \"middle center\", \"x\": [0.66], \"y\": [1.0], \"type\": \"scatter\"}, {\"hoverinfo\": \"none\", \"marker\": {\"color\": \"rgb(255, 255, 255)\", \"line\": {\"color\": \"rgb(0, 0, 0)\", \"width\": 1}, \"size\": 20}, \"mode\": \"markers+text\", \"text\": [\"3\"], \"textfont\": {\"color\": \"rgb(0, 0, 0)\"}, \"textposition\": \"middle center\", \"x\": [1.0], \"y\": [1.0], \"type\": \"scatter\"}, {\"hoverinfo\": \"none\", \"marker\": {\"color\": \"rgb(255, 255, 255)\", \"line\": {\"color\": \"rgb(0, 0, 0)\", \"width\": 1}, \"size\": 20}, \"mode\": \"markers+text\", \"text\": [\"4\"], \"textfont\": {\"color\": \"rgb(0, 0, 0)\"}, \"textposition\": \"middle center\", \"x\": [0.33], \"y\": [0.0], \"type\": \"scatter\"}, {\"hoverinfo\": \"none\", \"marker\": {\"color\": \"rgb(255, 255, 255)\", \"line\": {\"color\": \"rgb(0, 0, 0)\", \"width\": 1}, \"size\": 20}, \"mode\": \"markers+text\", \"text\": [\"5\"], \"textfont\": {\"color\": \"rgb(0, 0, 0)\"}, \"textposition\": \"middle center\", \"x\": [0.66], \"y\": [0.0], \"type\": \"scatter\"}, {\"hoverinfo\": \"none\", \"marker\": {\"color\": \"rgb(255, 255, 255)\", \"line\": {\"color\": \"rgb(0, 0, 0)\", \"width\": 1}, \"size\": 20}, \"mode\": \"markers+text\", \"text\": [\"6\"], \"textfont\": {\"color\": \"rgb(0, 0, 0)\"}, \"textposition\": \"middle center\", \"x\": [1.0], \"y\": [0.0], \"type\": \"scatter\"}], \"name\": \"1\"}, {\"data\": [{\"hoverinfo\": \"none\", \"line\": {\"color\": \"rgb(0, 0, 0)\", \"width\": 1}, \"mode\": \"lines\", \"x\": [0.0, 0.33, null, 0.3003062713421305, 0.2855225877733855, null, 0.3003062713421305, 0.2629725579755741, null], \"y\": [0.5, 1.0, null, 0.9550095020335311, 0.8882926689752846, null, 0.9550095020335311, 0.9427605821595028, null], \"type\": \"scatter\"}, {\"hoverinfo\": \"none\", \"line\": {\"color\": \"rgb(0, 0, 0)\", \"width\": 1}, \"mode\": \"lines\", \"x\": [0.0, 0.33, null, 0.3003062713421305, 0.2629725579755741, null, 0.3003062713421305, 0.2855225877733855, null], \"y\": [0.5, 0.0, null, 0.04499049796646893, 0.0572394178404972, null, 0.04499049796646893, 0.11170733102471547, null], \"type\": \"scatter\"}, {\"hoverinfo\": \"none\", \"line\": {\"color\": \"rgb(0, 0, 0)\", \"width\": 1}, \"mode\": \"lines\", \"x\": [0.33, 0.66, null, 0.6221212121212122, 0.5888794484132436, null, 0.6221212121212122, 0.5888794484132436, null], \"y\": [1.0, 1.0, null, 1.0, 0.9652590189417244, null, 1.0, 1.0347409810582755, null], \"type\": \"scatter\"}, {\"hoverinfo\": \"none\", \"line\": {\"color\": \"rgb(0, 0, 0)\", \"width\": 1}, \"mode\": \"lines\", \"x\": [0.66, 1.0, null, 0.9621212121212122, 0.9288794484132434, null, 0.9621212121212122, 0.9288794484132434, null], \"y\": [1.0, 1.0, null, 1.0, 0.9652590189417244, null, 1.0, 1.0347409810582755, null], \"type\": \"scatter\"}, {\"hoverinfo\": \"none\", \"line\": {\"color\": \"rgb(0, 0, 0)\", \"width\": 1}, \"mode\": \"lines\", \"x\": [0.66, 0.33, null, 0.35022071942550836, 0.3526100389194443, null, 0.35022071942550836, 0.3833221014449805, null], \"y\": [1.0, 0.0, null, 0.06127490735002531, 0.13359437096827784, null, 0.06127490735002531, 0.09650302407543368, null], \"type\": \"scatter\"}, {\"hoverinfo\": \"none\", \"line\": {\"color\": \"rgb(0, 0, 0)\", \"width\": 1}, \"mode\": \"lines\", \"x\": [1.0, 0.66, null, 0.6806532023433265, 0.6835549327328607, null, 0.6806532023433265, 0.7140012524011855, null], \"y\": [1.0, 0.0, null, 0.06074471277448944, 0.13299554373343975, null, 0.06074471277448944, 0.09511088313140172, null], \"type\": \"scatter\"}, {\"hoverinfo\": \"none\", \"line\": {\"color\": \"rgb(0, 0, 0)\", \"width\": 1}, \"mode\": \"lines\", \"x\": [0.33, 0.66, null, 0.6221212121212122, 0.5888794484132436, null, 0.6221212121212122, 0.5888794484132436, null], \"y\": [0.0, 0.0, null, 0.0, -0.034740981058275576, null, 0.0, 0.034740981058275576, null], \"type\": \"scatter\"}, {\"hoverinfo\": \"none\", \"line\": {\"color\": \"rgb(0, 0, 0)\", \"width\": 1}, \"mode\": \"lines\", \"x\": [0.66, 1.0, null, 0.9621212121212122, 0.9288794484132434, null, 0.9621212121212122, 0.9288794484132434, null], \"y\": [0.0, 0.0, null, 0.0, -0.034740981058275576, null, 0.0, 0.034740981058275576, null], \"type\": \"scatter\"}, {\"hoverinfo\": \"none\", \"marker\": {\"color\": \"rgb(0, 255, 0)\", \"line\": {\"color\": \"rgb(0, 0, 0)\", \"width\": 1}, \"size\": 20}, \"mode\": \"markers+text\", \"text\": [\"0\"], \"textfont\": {\"color\": \"rgb(0, 0, 0)\"}, \"textposition\": \"middle center\", \"x\": [0.0], \"y\": [0.5], \"type\": \"scatter\"}, {\"hoverinfo\": \"none\", \"marker\": {\"color\": \"rgb(0, 255, 0)\", \"line\": {\"color\": \"rgb(0, 0, 0)\", \"width\": 1}, \"size\": 20}, \"mode\": \"markers+text\", \"text\": [\"1\"], \"textfont\": {\"color\": \"rgb(0, 0, 0)\"}, \"textposition\": \"middle center\", \"x\": [0.33], \"y\": [1.0], \"type\": \"scatter\"}, {\"hoverinfo\": \"none\", \"marker\": {\"color\": \"rgb(0, 255, 0)\", \"line\": {\"color\": \"rgb(0, 0, 0)\", \"width\": 1}, \"size\": 20}, \"mode\": \"markers+text\", \"text\": [\"2\"], \"textfont\": {\"color\": \"rgb(0, 0, 0)\"}, \"textposition\": \"middle center\", \"x\": [0.66], \"y\": [1.0], \"type\": \"scatter\"}, {\"hoverinfo\": \"none\", \"marker\": {\"color\": \"rgb(255, 255, 255)\", \"line\": {\"color\": \"rgb(0, 0, 0)\", \"width\": 1}, \"size\": 20}, \"mode\": \"markers+text\", \"text\": [\"3\"], \"textfont\": {\"color\": \"rgb(0, 0, 0)\"}, \"textposition\": \"middle center\", \"x\": [1.0], \"y\": [1.0], \"type\": \"scatter\"}, {\"hoverinfo\": \"none\", \"marker\": {\"color\": \"rgb(255, 255, 255)\", \"line\": {\"color\": \"rgb(0, 0, 0)\", \"width\": 1}, \"size\": 20}, \"mode\": \"markers+text\", \"text\": [\"4\"], \"textfont\": {\"color\": \"rgb(0, 0, 0)\"}, \"textposition\": \"middle center\", \"x\": [0.33], \"y\": [0.0], \"type\": \"scatter\"}, {\"hoverinfo\": \"none\", \"marker\": {\"color\": \"rgb(255, 255, 255)\", \"line\": {\"color\": \"rgb(0, 0, 0)\", \"width\": 1}, \"size\": 20}, \"mode\": \"markers+text\", \"text\": [\"5\"], \"textfont\": {\"color\": \"rgb(0, 0, 0)\"}, \"textposition\": \"middle center\", \"x\": [0.66], \"y\": [0.0], \"type\": \"scatter\"}, {\"hoverinfo\": \"none\", \"marker\": {\"color\": \"rgb(255, 255, 255)\", \"line\": {\"color\": \"rgb(0, 0, 0)\", \"width\": 1}, \"size\": 20}, \"mode\": \"markers+text\", \"text\": [\"6\"], \"textfont\": {\"color\": \"rgb(0, 0, 0)\"}, \"textposition\": \"middle center\", \"x\": [1.0], \"y\": [0.0], \"type\": \"scatter\"}], \"name\": \"2\"}, {\"data\": [{\"hoverinfo\": \"none\", \"line\": {\"color\": \"rgb(0, 0, 0)\", \"width\": 1}, \"mode\": \"lines\", \"x\": [0.0, 0.33, null, 0.3003062713421305, 0.2855225877733855, null, 0.3003062713421305, 0.2629725579755741, null], \"y\": [0.5, 1.0, null, 0.9550095020335311, 0.8882926689752846, null, 0.9550095020335311, 0.9427605821595028, null], \"type\": \"scatter\"}, {\"hoverinfo\": \"none\", \"line\": {\"color\": \"rgb(0, 0, 0)\", \"width\": 1}, \"mode\": \"lines\", \"x\": [0.0, 0.33, null, 0.3003062713421305, 0.2629725579755741, null, 0.3003062713421305, 0.2855225877733855, null], \"y\": [0.5, 0.0, null, 0.04499049796646893, 0.0572394178404972, null, 0.04499049796646893, 0.11170733102471547, null], \"type\": \"scatter\"}, {\"hoverinfo\": \"none\", \"line\": {\"color\": \"rgb(0, 0, 0)\", \"width\": 1}, \"mode\": \"lines\", \"x\": [0.33, 0.66, null, 0.6221212121212122, 0.5888794484132436, null, 0.6221212121212122, 0.5888794484132436, null], \"y\": [1.0, 1.0, null, 1.0, 0.9652590189417244, null, 1.0, 1.0347409810582755, null], \"type\": \"scatter\"}, {\"hoverinfo\": \"none\", \"line\": {\"color\": \"rgb(0, 0, 0)\", \"width\": 1}, \"mode\": \"lines\", \"x\": [0.66, 1.0, null, 0.9621212121212122, 0.9288794484132434, null, 0.9621212121212122, 0.9288794484132434, null], \"y\": [1.0, 1.0, null, 1.0, 0.9652590189417244, null, 1.0, 1.0347409810582755, null], \"type\": \"scatter\"}, {\"hoverinfo\": \"none\", \"line\": {\"color\": \"rgb(0, 0, 0)\", \"width\": 1}, \"mode\": \"lines\", \"x\": [0.66, 0.33, null, 0.35022071942550836, 0.3526100389194443, null, 0.35022071942550836, 0.3833221014449805, null], \"y\": [1.0, 0.0, null, 0.06127490735002531, 0.13359437096827784, null, 0.06127490735002531, 0.09650302407543368, null], \"type\": \"scatter\"}, {\"hoverinfo\": \"none\", \"line\": {\"color\": \"rgb(0, 0, 0)\", \"width\": 1}, \"mode\": \"lines\", \"x\": [1.0, 0.66, null, 0.6806532023433265, 0.6835549327328607, null, 0.6806532023433265, 0.7140012524011855, null], \"y\": [1.0, 0.0, null, 0.06074471277448944, 0.13299554373343975, null, 0.06074471277448944, 0.09511088313140172, null], \"type\": \"scatter\"}, {\"hoverinfo\": \"none\", \"line\": {\"color\": \"rgb(0, 0, 0)\", \"width\": 1}, \"mode\": \"lines\", \"x\": [0.33, 0.66, null, 0.6221212121212122, 0.5888794484132436, null, 0.6221212121212122, 0.5888794484132436, null], \"y\": [0.0, 0.0, null, 0.0, -0.034740981058275576, null, 0.0, 0.034740981058275576, null], \"type\": \"scatter\"}, {\"hoverinfo\": \"none\", \"line\": {\"color\": \"rgb(0, 0, 0)\", \"width\": 1}, \"mode\": \"lines\", \"x\": [0.66, 1.0, null, 0.9621212121212122, 0.9288794484132434, null, 0.9621212121212122, 0.9288794484132434, null], \"y\": [0.0, 0.0, null, 0.0, -0.034740981058275576, null, 0.0, 0.034740981058275576, null], \"type\": \"scatter\"}, {\"hoverinfo\": \"none\", \"marker\": {\"color\": \"rgb(0, 255, 0)\", \"line\": {\"color\": \"rgb(0, 0, 0)\", \"width\": 1}, \"size\": 20}, \"mode\": \"markers+text\", \"text\": [\"0\"], \"textfont\": {\"color\": \"rgb(0, 0, 0)\"}, \"textposition\": \"middle center\", \"x\": [0.0], \"y\": [0.5], \"type\": \"scatter\"}, {\"hoverinfo\": \"none\", \"marker\": {\"color\": \"rgb(0, 255, 0)\", \"line\": {\"color\": \"rgb(0, 0, 0)\", \"width\": 1}, \"size\": 20}, \"mode\": \"markers+text\", \"text\": [\"1\"], \"textfont\": {\"color\": \"rgb(0, 0, 0)\"}, \"textposition\": \"middle center\", \"x\": [0.33], \"y\": [1.0], \"type\": \"scatter\"}, {\"hoverinfo\": \"none\", \"marker\": {\"color\": \"rgb(0, 255, 0)\", \"line\": {\"color\": \"rgb(0, 0, 0)\", \"width\": 1}, \"size\": 20}, \"mode\": \"markers+text\", \"text\": [\"2\"], \"textfont\": {\"color\": \"rgb(0, 0, 0)\"}, \"textposition\": \"middle center\", \"x\": [0.66], \"y\": [1.0], \"type\": \"scatter\"}, {\"hoverinfo\": \"none\", \"marker\": {\"color\": \"rgb(0, 255, 0)\", \"line\": {\"color\": \"rgb(0, 0, 0)\", \"width\": 1}, \"size\": 20}, \"mode\": \"markers+text\", \"text\": [\"3\"], \"textfont\": {\"color\": \"rgb(0, 0, 0)\"}, \"textposition\": \"middle center\", \"x\": [1.0], \"y\": [1.0], \"type\": \"scatter\"}, {\"hoverinfo\": \"none\", \"marker\": {\"color\": \"rgb(255, 255, 255)\", \"line\": {\"color\": \"rgb(0, 0, 0)\", \"width\": 1}, \"size\": 20}, \"mode\": \"markers+text\", \"text\": [\"4\"], \"textfont\": {\"color\": \"rgb(0, 0, 0)\"}, \"textposition\": \"middle center\", \"x\": [0.33], \"y\": [0.0], \"type\": \"scatter\"}, {\"hoverinfo\": \"none\", \"marker\": {\"color\": \"rgb(255, 255, 255)\", \"line\": {\"color\": \"rgb(0, 0, 0)\", \"width\": 1}, \"size\": 20}, \"mode\": \"markers+text\", \"text\": [\"5\"], \"textfont\": {\"color\": \"rgb(0, 0, 0)\"}, \"textposition\": \"middle center\", \"x\": [0.66], \"y\": [0.0], \"type\": \"scatter\"}, {\"hoverinfo\": \"none\", \"marker\": {\"color\": \"rgb(255, 255, 255)\", \"line\": {\"color\": \"rgb(0, 0, 0)\", \"width\": 1}, \"size\": 20}, \"mode\": \"markers+text\", \"text\": [\"6\"], \"textfont\": {\"color\": \"rgb(0, 0, 0)\"}, \"textposition\": \"middle center\", \"x\": [1.0], \"y\": [0.0], \"type\": \"scatter\"}], \"name\": \"3\"}, {\"data\": [{\"hoverinfo\": \"none\", \"line\": {\"color\": \"rgb(0, 0, 0)\", \"width\": 1}, \"mode\": \"lines\", \"x\": [0.0, 0.33, null, 0.3003062713421305, 0.2855225877733855, null, 0.3003062713421305, 0.2629725579755741, null], \"y\": [0.5, 1.0, null, 0.9550095020335311, 0.8882926689752846, null, 0.9550095020335311, 0.9427605821595028, null], \"type\": \"scatter\"}, {\"hoverinfo\": \"none\", \"line\": {\"color\": \"rgb(0, 0, 0)\", \"width\": 1}, \"mode\": \"lines\", \"x\": [0.0, 0.33, null, 0.3003062713421305, 0.2629725579755741, null, 0.3003062713421305, 0.2855225877733855, null], \"y\": [0.5, 0.0, null, 0.04499049796646893, 0.0572394178404972, null, 0.04499049796646893, 0.11170733102471547, null], \"type\": \"scatter\"}, {\"hoverinfo\": \"none\", \"line\": {\"color\": \"rgb(0, 0, 0)\", \"width\": 1}, \"mode\": \"lines\", \"x\": [0.33, 0.66, null, 0.6221212121212122, 0.5888794484132436, null, 0.6221212121212122, 0.5888794484132436, null], \"y\": [1.0, 1.0, null, 1.0, 0.9652590189417244, null, 1.0, 1.0347409810582755, null], \"type\": \"scatter\"}, {\"hoverinfo\": \"none\", \"line\": {\"color\": \"rgb(0, 0, 0)\", \"width\": 1}, \"mode\": \"lines\", \"x\": [0.66, 1.0, null, 0.9621212121212122, 0.9288794484132434, null, 0.9621212121212122, 0.9288794484132434, null], \"y\": [1.0, 1.0, null, 1.0, 0.9652590189417244, null, 1.0, 1.0347409810582755, null], \"type\": \"scatter\"}, {\"hoverinfo\": \"none\", \"line\": {\"color\": \"rgb(0, 0, 0)\", \"width\": 1}, \"mode\": \"lines\", \"x\": [0.66, 0.33, null, 0.35022071942550836, 0.3526100389194443, null, 0.35022071942550836, 0.3833221014449805, null], \"y\": [1.0, 0.0, null, 0.06127490735002531, 0.13359437096827784, null, 0.06127490735002531, 0.09650302407543368, null], \"type\": \"scatter\"}, {\"hoverinfo\": \"none\", \"line\": {\"color\": \"rgb(0, 0, 0)\", \"width\": 1}, \"mode\": \"lines\", \"x\": [1.0, 0.66, null, 0.6806532023433265, 0.6835549327328607, null, 0.6806532023433265, 0.7140012524011855, null], \"y\": [1.0, 0.0, null, 0.06074471277448944, 0.13299554373343975, null, 0.06074471277448944, 0.09511088313140172, null], \"type\": \"scatter\"}, {\"hoverinfo\": \"none\", \"line\": {\"color\": \"rgb(0, 0, 0)\", \"width\": 1}, \"mode\": \"lines\", \"x\": [0.33, 0.66, null, 0.6221212121212122, 0.5888794484132436, null, 0.6221212121212122, 0.5888794484132436, null], \"y\": [0.0, 0.0, null, 0.0, -0.034740981058275576, null, 0.0, 0.034740981058275576, null], \"type\": \"scatter\"}, {\"hoverinfo\": \"none\", \"line\": {\"color\": \"rgb(0, 0, 0)\", \"width\": 1}, \"mode\": \"lines\", \"x\": [0.66, 1.0, null, 0.9621212121212122, 0.9288794484132434, null, 0.9621212121212122, 0.9288794484132434, null], \"y\": [0.0, 0.0, null, 0.0, -0.034740981058275576, null, 0.0, 0.034740981058275576, null], \"type\": \"scatter\"}, {\"hoverinfo\": \"none\", \"marker\": {\"color\": \"rgb(0, 255, 0)\", \"line\": {\"color\": \"rgb(0, 0, 0)\", \"width\": 1}, \"size\": 20}, \"mode\": \"markers+text\", \"text\": [\"0\"], \"textfont\": {\"color\": \"rgb(0, 0, 0)\"}, \"textposition\": \"middle center\", \"x\": [0.0], \"y\": [0.5], \"type\": \"scatter\"}, {\"hoverinfo\": \"none\", \"marker\": {\"color\": \"rgb(0, 255, 0)\", \"line\": {\"color\": \"rgb(0, 0, 0)\", \"width\": 1}, \"size\": 20}, \"mode\": \"markers+text\", \"text\": [\"1\"], \"textfont\": {\"color\": \"rgb(0, 0, 0)\"}, \"textposition\": \"middle center\", \"x\": [0.33], \"y\": [1.0], \"type\": \"scatter\"}, {\"hoverinfo\": \"none\", \"marker\": {\"color\": \"rgb(0, 255, 0)\", \"line\": {\"color\": \"rgb(0, 0, 0)\", \"width\": 1}, \"size\": 20}, \"mode\": \"markers+text\", \"text\": [\"2\"], \"textfont\": {\"color\": \"rgb(0, 0, 0)\"}, \"textposition\": \"middle center\", \"x\": [0.66], \"y\": [1.0], \"type\": \"scatter\"}, {\"hoverinfo\": \"none\", \"marker\": {\"color\": \"rgb(0, 255, 0)\", \"line\": {\"color\": \"rgb(0, 0, 0)\", \"width\": 1}, \"size\": 20}, \"mode\": \"markers+text\", \"text\": [\"3\"], \"textfont\": {\"color\": \"rgb(0, 0, 0)\"}, \"textposition\": \"middle center\", \"x\": [1.0], \"y\": [1.0], \"type\": \"scatter\"}, {\"hoverinfo\": \"none\", \"marker\": {\"color\": \"rgb(255, 255, 255)\", \"line\": {\"color\": \"rgb(0, 0, 0)\", \"width\": 1}, \"size\": 20}, \"mode\": \"markers+text\", \"text\": [\"4\"], \"textfont\": {\"color\": \"rgb(0, 0, 0)\"}, \"textposition\": \"middle center\", \"x\": [0.33], \"y\": [0.0], \"type\": \"scatter\"}, {\"hoverinfo\": \"none\", \"marker\": {\"color\": \"rgb(0, 255, 0)\", \"line\": {\"color\": \"rgb(0, 0, 0)\", \"width\": 1}, \"size\": 20}, \"mode\": \"markers+text\", \"text\": [\"5\"], \"textfont\": {\"color\": \"rgb(0, 0, 0)\"}, \"textposition\": \"middle center\", \"x\": [0.66], \"y\": [0.0], \"type\": \"scatter\"}, {\"hoverinfo\": \"none\", \"marker\": {\"color\": \"rgb(255, 255, 255)\", \"line\": {\"color\": \"rgb(0, 0, 0)\", \"width\": 1}, \"size\": 20}, \"mode\": \"markers+text\", \"text\": [\"6\"], \"textfont\": {\"color\": \"rgb(0, 0, 0)\"}, \"textposition\": \"middle center\", \"x\": [1.0], \"y\": [0.0], \"type\": \"scatter\"}], \"name\": \"4\"}, {\"data\": [{\"hoverinfo\": \"none\", \"line\": {\"color\": \"rgb(0, 0, 0)\", \"width\": 1}, \"mode\": \"lines\", \"x\": [0.0, 0.33, null, 0.3003062713421305, 0.2855225877733855, null, 0.3003062713421305, 0.2629725579755741, null], \"y\": [0.5, 1.0, null, 0.9550095020335311, 0.8882926689752846, null, 0.9550095020335311, 0.9427605821595028, null], \"type\": \"scatter\"}, {\"hoverinfo\": \"none\", \"line\": {\"color\": \"rgb(0, 0, 0)\", \"width\": 1}, \"mode\": \"lines\", \"x\": [0.0, 0.33, null, 0.3003062713421305, 0.2629725579755741, null, 0.3003062713421305, 0.2855225877733855, null], \"y\": [0.5, 0.0, null, 0.04499049796646893, 0.0572394178404972, null, 0.04499049796646893, 0.11170733102471547, null], \"type\": \"scatter\"}, {\"hoverinfo\": \"none\", \"line\": {\"color\": \"rgb(0, 0, 0)\", \"width\": 1}, \"mode\": \"lines\", \"x\": [0.33, 0.66, null, 0.6221212121212122, 0.5888794484132436, null, 0.6221212121212122, 0.5888794484132436, null], \"y\": [1.0, 1.0, null, 1.0, 0.9652590189417244, null, 1.0, 1.0347409810582755, null], \"type\": \"scatter\"}, {\"hoverinfo\": \"none\", \"line\": {\"color\": \"rgb(0, 0, 0)\", \"width\": 1}, \"mode\": \"lines\", \"x\": [0.66, 1.0, null, 0.9621212121212122, 0.9288794484132434, null, 0.9621212121212122, 0.9288794484132434, null], \"y\": [1.0, 1.0, null, 1.0, 0.9652590189417244, null, 1.0, 1.0347409810582755, null], \"type\": \"scatter\"}, {\"hoverinfo\": \"none\", \"line\": {\"color\": \"rgb(0, 0, 0)\", \"width\": 1}, \"mode\": \"lines\", \"x\": [0.66, 0.33, null, 0.35022071942550836, 0.3526100389194443, null, 0.35022071942550836, 0.3833221014449805, null], \"y\": [1.0, 0.0, null, 0.06127490735002531, 0.13359437096827784, null, 0.06127490735002531, 0.09650302407543368, null], \"type\": \"scatter\"}, {\"hoverinfo\": \"none\", \"line\": {\"color\": \"rgb(0, 0, 0)\", \"width\": 1}, \"mode\": \"lines\", \"x\": [1.0, 0.66, null, 0.6806532023433265, 0.6835549327328607, null, 0.6806532023433265, 0.7140012524011855, null], \"y\": [1.0, 0.0, null, 0.06074471277448944, 0.13299554373343975, null, 0.06074471277448944, 0.09511088313140172, null], \"type\": \"scatter\"}, {\"hoverinfo\": \"none\", \"line\": {\"color\": \"rgb(0, 0, 0)\", \"width\": 1}, \"mode\": \"lines\", \"x\": [0.33, 0.66, null, 0.6221212121212122, 0.5888794484132436, null, 0.6221212121212122, 0.5888794484132436, null], \"y\": [0.0, 0.0, null, 0.0, -0.034740981058275576, null, 0.0, 0.034740981058275576, null], \"type\": \"scatter\"}, {\"hoverinfo\": \"none\", \"line\": {\"color\": \"rgb(0, 0, 0)\", \"width\": 1}, \"mode\": \"lines\", \"x\": [0.66, 1.0, null, 0.9621212121212122, 0.9288794484132434, null, 0.9621212121212122, 0.9288794484132434, null], \"y\": [0.0, 0.0, null, 0.0, -0.034740981058275576, null, 0.0, 0.034740981058275576, null], \"type\": \"scatter\"}, {\"hoverinfo\": \"none\", \"marker\": {\"color\": \"rgb(0, 255, 0)\", \"line\": {\"color\": \"rgb(0, 0, 0)\", \"width\": 1}, \"size\": 20}, \"mode\": \"markers+text\", \"text\": [\"0\"], \"textfont\": {\"color\": \"rgb(0, 0, 0)\"}, \"textposition\": \"middle center\", \"x\": [0.0], \"y\": [0.5], \"type\": \"scatter\"}, {\"hoverinfo\": \"none\", \"marker\": {\"color\": \"rgb(0, 255, 0)\", \"line\": {\"color\": \"rgb(0, 0, 0)\", \"width\": 1}, \"size\": 20}, \"mode\": \"markers+text\", \"text\": [\"1\"], \"textfont\": {\"color\": \"rgb(0, 0, 0)\"}, \"textposition\": \"middle center\", \"x\": [0.33], \"y\": [1.0], \"type\": \"scatter\"}, {\"hoverinfo\": \"none\", \"marker\": {\"color\": \"rgb(0, 255, 0)\", \"line\": {\"color\": \"rgb(0, 0, 0)\", \"width\": 1}, \"size\": 20}, \"mode\": \"markers+text\", \"text\": [\"2\"], \"textfont\": {\"color\": \"rgb(0, 0, 0)\"}, \"textposition\": \"middle center\", \"x\": [0.66], \"y\": [1.0], \"type\": \"scatter\"}, {\"hoverinfo\": \"none\", \"marker\": {\"color\": \"rgb(0, 255, 0)\", \"line\": {\"color\": \"rgb(0, 0, 0)\", \"width\": 1}, \"size\": 20}, \"mode\": \"markers+text\", \"text\": [\"3\"], \"textfont\": {\"color\": \"rgb(0, 0, 0)\"}, \"textposition\": \"middle center\", \"x\": [1.0], \"y\": [1.0], \"type\": \"scatter\"}, {\"hoverinfo\": \"none\", \"marker\": {\"color\": \"rgb(255, 255, 255)\", \"line\": {\"color\": \"rgb(0, 0, 0)\", \"width\": 1}, \"size\": 20}, \"mode\": \"markers+text\", \"text\": [\"4\"], \"textfont\": {\"color\": \"rgb(0, 0, 0)\"}, \"textposition\": \"middle center\", \"x\": [0.33], \"y\": [0.0], \"type\": \"scatter\"}, {\"hoverinfo\": \"none\", \"marker\": {\"color\": \"rgb(0, 255, 0)\", \"line\": {\"color\": \"rgb(0, 0, 0)\", \"width\": 1}, \"size\": 20}, \"mode\": \"markers+text\", \"text\": [\"5\"], \"textfont\": {\"color\": \"rgb(0, 0, 0)\"}, \"textposition\": \"middle center\", \"x\": [0.66], \"y\": [0.0], \"type\": \"scatter\"}, {\"hoverinfo\": \"none\", \"marker\": {\"color\": \"rgb(0, 255, 0)\", \"line\": {\"color\": \"rgb(0, 0, 0)\", \"width\": 1}, \"size\": 20}, \"mode\": \"markers+text\", \"text\": [\"6\"], \"textfont\": {\"color\": \"rgb(0, 0, 0)\"}, \"textposition\": \"middle center\", \"x\": [1.0], \"y\": [0.0], \"type\": \"scatter\"}], \"name\": \"5\"}, {\"data\": [{\"hoverinfo\": \"none\", \"line\": {\"color\": \"rgb(0, 0, 0)\", \"width\": 1}, \"mode\": \"lines\", \"x\": [0.0, 0.33, null, 0.3003062713421305, 0.2855225877733855, null, 0.3003062713421305, 0.2629725579755741, null], \"y\": [0.5, 1.0, null, 0.9550095020335311, 0.8882926689752846, null, 0.9550095020335311, 0.9427605821595028, null], \"type\": \"scatter\"}, {\"hoverinfo\": \"none\", \"line\": {\"color\": \"rgb(0, 0, 0)\", \"width\": 1}, \"mode\": \"lines\", \"x\": [0.0, 0.33, null, 0.3003062713421305, 0.2629725579755741, null, 0.3003062713421305, 0.2855225877733855, null], \"y\": [0.5, 0.0, null, 0.04499049796646893, 0.0572394178404972, null, 0.04499049796646893, 0.11170733102471547, null], \"type\": \"scatter\"}, {\"hoverinfo\": \"none\", \"line\": {\"color\": \"rgb(0, 0, 0)\", \"width\": 1}, \"mode\": \"lines\", \"x\": [0.33, 0.66, null, 0.6221212121212122, 0.5888794484132436, null, 0.6221212121212122, 0.5888794484132436, null], \"y\": [1.0, 1.0, null, 1.0, 0.9652590189417244, null, 1.0, 1.0347409810582755, null], \"type\": \"scatter\"}, {\"hoverinfo\": \"none\", \"line\": {\"color\": \"rgb(0, 0, 0)\", \"width\": 1}, \"mode\": \"lines\", \"x\": [0.66, 1.0, null, 0.9621212121212122, 0.9288794484132434, null, 0.9621212121212122, 0.9288794484132434, null], \"y\": [1.0, 1.0, null, 1.0, 0.9652590189417244, null, 1.0, 1.0347409810582755, null], \"type\": \"scatter\"}, {\"hoverinfo\": \"none\", \"line\": {\"color\": \"rgb(0, 0, 0)\", \"width\": 1}, \"mode\": \"lines\", \"x\": [0.66, 0.33, null, 0.35022071942550836, 0.3526100389194443, null, 0.35022071942550836, 0.3833221014449805, null], \"y\": [1.0, 0.0, null, 0.06127490735002531, 0.13359437096827784, null, 0.06127490735002531, 0.09650302407543368, null], \"type\": \"scatter\"}, {\"hoverinfo\": \"none\", \"line\": {\"color\": \"rgb(0, 0, 0)\", \"width\": 1}, \"mode\": \"lines\", \"x\": [1.0, 0.66, null, 0.6806532023433265, 0.6835549327328607, null, 0.6806532023433265, 0.7140012524011855, null], \"y\": [1.0, 0.0, null, 0.06074471277448944, 0.13299554373343975, null, 0.06074471277448944, 0.09511088313140172, null], \"type\": \"scatter\"}, {\"hoverinfo\": \"none\", \"line\": {\"color\": \"rgb(0, 0, 0)\", \"width\": 1}, \"mode\": \"lines\", \"x\": [0.33, 0.66, null, 0.6221212121212122, 0.5888794484132436, null, 0.6221212121212122, 0.5888794484132436, null], \"y\": [0.0, 0.0, null, 0.0, -0.034740981058275576, null, 0.0, 0.034740981058275576, null], \"type\": \"scatter\"}, {\"hoverinfo\": \"none\", \"line\": {\"color\": \"rgb(0, 0, 0)\", \"width\": 1}, \"mode\": \"lines\", \"x\": [0.66, 1.0, null, 0.9621212121212122, 0.9288794484132434, null, 0.9621212121212122, 0.9288794484132434, null], \"y\": [0.0, 0.0, null, 0.0, -0.034740981058275576, null, 0.0, 0.034740981058275576, null], \"type\": \"scatter\"}, {\"hoverinfo\": \"none\", \"marker\": {\"color\": \"rgb(0, 255, 0)\", \"line\": {\"color\": \"rgb(0, 0, 0)\", \"width\": 1}, \"size\": 20}, \"mode\": \"markers+text\", \"text\": [\"0\"], \"textfont\": {\"color\": \"rgb(0, 0, 0)\"}, \"textposition\": \"middle center\", \"x\": [0.0], \"y\": [0.5], \"type\": \"scatter\"}, {\"hoverinfo\": \"none\", \"marker\": {\"color\": \"rgb(0, 255, 0)\", \"line\": {\"color\": \"rgb(0, 0, 0)\", \"width\": 1}, \"size\": 20}, \"mode\": \"markers+text\", \"text\": [\"1\"], \"textfont\": {\"color\": \"rgb(0, 0, 0)\"}, \"textposition\": \"middle center\", \"x\": [0.33], \"y\": [1.0], \"type\": \"scatter\"}, {\"hoverinfo\": \"none\", \"marker\": {\"color\": \"rgb(0, 255, 0)\", \"line\": {\"color\": \"rgb(0, 0, 0)\", \"width\": 1}, \"size\": 20}, \"mode\": \"markers+text\", \"text\": [\"2\"], \"textfont\": {\"color\": \"rgb(0, 0, 0)\"}, \"textposition\": \"middle center\", \"x\": [0.66], \"y\": [1.0], \"type\": \"scatter\"}, {\"hoverinfo\": \"none\", \"marker\": {\"color\": \"rgb(0, 255, 0)\", \"line\": {\"color\": \"rgb(0, 0, 0)\", \"width\": 1}, \"size\": 20}, \"mode\": \"markers+text\", \"text\": [\"3\"], \"textfont\": {\"color\": \"rgb(0, 0, 0)\"}, \"textposition\": \"middle center\", \"x\": [1.0], \"y\": [1.0], \"type\": \"scatter\"}, {\"hoverinfo\": \"none\", \"marker\": {\"color\": \"rgb(0, 255, 0)\", \"line\": {\"color\": \"rgb(0, 0, 0)\", \"width\": 1}, \"size\": 20}, \"mode\": \"markers+text\", \"text\": [\"4\"], \"textfont\": {\"color\": \"rgb(0, 0, 0)\"}, \"textposition\": \"middle center\", \"x\": [0.33], \"y\": [0.0], \"type\": \"scatter\"}, {\"hoverinfo\": \"none\", \"marker\": {\"color\": \"rgb(0, 255, 0)\", \"line\": {\"color\": \"rgb(0, 0, 0)\", \"width\": 1}, \"size\": 20}, \"mode\": \"markers+text\", \"text\": [\"5\"], \"textfont\": {\"color\": \"rgb(0, 0, 0)\"}, \"textposition\": \"middle center\", \"x\": [0.66], \"y\": [0.0], \"type\": \"scatter\"}, {\"hoverinfo\": \"none\", \"marker\": {\"color\": \"rgb(0, 255, 0)\", \"line\": {\"color\": \"rgb(0, 0, 0)\", \"width\": 1}, \"size\": 20}, \"mode\": \"markers+text\", \"text\": [\"6\"], \"textfont\": {\"color\": \"rgb(0, 0, 0)\"}, \"textposition\": \"middle center\", \"x\": [1.0], \"y\": [0.0], \"type\": \"scatter\"}], \"name\": \"6\"}]);}).then(function(){Plotly.animate('df0baa25-3afb-45d9-a679-1117826131d1');})\n",
       "        });</script>"
      ]
     },
     "metadata": {},
     "output_type": "display_data"
    }
   ],
   "source": [
    "def dfs_r(g, n, frames):\n",
    "    g.nodes[n]['color'] = (0, 255, 0)\n",
    "    g.nodes[n]['visited'] = True\n",
    "\n",
    "    frame = sn.generate_frame(g, nlab=True)\n",
    "    frames.append(frame)\n",
    "\n",
    "    for m in g.successors(n):\n",
    "        if not g.nodes[m]['visited']:\n",
    "            dfs_r(g, m, frames)\n",
    "\n",
    "\n",
    "frames = []\n",
    "\n",
    "sn.reset_node_colors(g)\n",
    "for n in g.nodes:\n",
    "    g.nodes[n]['visited'] = False\n",
    "\n",
    "dfs_r(g, 0, frames)\n",
    "\n",
    "sn.show_animation(frames)"
   ]
  },
  {
   "cell_type": "markdown",
   "metadata": {},
   "source": [
    "## Busca em profundidade (sem recursão)\n",
    "\n",
    "Dica: https://docs.python.org/3/tutorial/datastructures.html#using-lists-as-stacks"
   ]
  },
  {
   "cell_type": "code",
   "execution_count": 15,
   "metadata": {},
   "outputs": [
    {
     "data": {
      "application/vnd.plotly.v1+json": {
       "data": [
        {
         "hoverinfo": "none",
         "line": {
          "color": "rgb(0, 0, 0)",
          "width": 1
         },
         "mode": "lines",
         "type": "scatter",
         "uid": "233340cc-997e-11e8-ab38-9a5fd3dcadb7",
         "x": [
          0,
          0.33,
          null,
          0.3003062713421305,
          0.2855225877733855,
          null,
          0.3003062713421305,
          0.2629725579755741,
          null
         ],
         "y": [
          0.5,
          1,
          null,
          0.9550095020335311,
          0.8882926689752846,
          null,
          0.9550095020335311,
          0.9427605821595028,
          null
         ]
        },
        {
         "hoverinfo": "none",
         "line": {
          "color": "rgb(0, 0, 0)",
          "width": 1
         },
         "mode": "lines",
         "type": "scatter",
         "uid": "233340cd-997e-11e8-9a56-9a5fd3dcadb7",
         "x": [
          0,
          0.33,
          null,
          0.3003062713421305,
          0.2629725579755741,
          null,
          0.3003062713421305,
          0.2855225877733855,
          null
         ],
         "y": [
          0.5,
          0,
          null,
          0.04499049796646893,
          0.0572394178404972,
          null,
          0.04499049796646893,
          0.11170733102471547,
          null
         ]
        },
        {
         "hoverinfo": "none",
         "line": {
          "color": "rgb(0, 0, 0)",
          "width": 1
         },
         "mode": "lines",
         "type": "scatter",
         "uid": "233340ce-997e-11e8-9b56-9a5fd3dcadb7",
         "x": [
          0.33,
          0.66,
          null,
          0.6221212121212122,
          0.5888794484132436,
          null,
          0.6221212121212122,
          0.5888794484132436,
          null
         ],
         "y": [
          1,
          1,
          null,
          1,
          0.9652590189417244,
          null,
          1,
          1.0347409810582755,
          null
         ]
        },
        {
         "hoverinfo": "none",
         "line": {
          "color": "rgb(0, 0, 0)",
          "width": 1
         },
         "mode": "lines",
         "type": "scatter",
         "uid": "233340cf-997e-11e8-a85b-9a5fd3dcadb7",
         "x": [
          0.66,
          1,
          null,
          0.9621212121212122,
          0.9288794484132434,
          null,
          0.9621212121212122,
          0.9288794484132434,
          null
         ],
         "y": [
          1,
          1,
          null,
          1,
          0.9652590189417244,
          null,
          1,
          1.0347409810582755,
          null
         ]
        },
        {
         "hoverinfo": "none",
         "line": {
          "color": "rgb(0, 0, 0)",
          "width": 1
         },
         "mode": "lines",
         "type": "scatter",
         "uid": "23335450-997e-11e8-8312-9a5fd3dcadb7",
         "x": [
          0.66,
          0.33,
          null,
          0.35022071942550836,
          0.3526100389194443,
          null,
          0.35022071942550836,
          0.3833221014449805,
          null
         ],
         "y": [
          1,
          0,
          null,
          0.06127490735002531,
          0.13359437096827784,
          null,
          0.06127490735002531,
          0.09650302407543368,
          null
         ]
        },
        {
         "hoverinfo": "none",
         "line": {
          "color": "rgb(0, 0, 0)",
          "width": 1
         },
         "mode": "lines",
         "type": "scatter",
         "uid": "23335451-997e-11e8-8702-9a5fd3dcadb7",
         "x": [
          1,
          0.66,
          null,
          0.6806532023433265,
          0.6835549327328607,
          null,
          0.6806532023433265,
          0.7140012524011855,
          null
         ],
         "y": [
          1,
          0,
          null,
          0.06074471277448944,
          0.13299554373343975,
          null,
          0.06074471277448944,
          0.09511088313140172,
          null
         ]
        },
        {
         "hoverinfo": "none",
         "line": {
          "color": "rgb(0, 0, 0)",
          "width": 1
         },
         "mode": "lines",
         "type": "scatter",
         "uid": "23335452-997e-11e8-a052-9a5fd3dcadb7",
         "x": [
          0.33,
          0.66,
          null,
          0.6221212121212122,
          0.5888794484132436,
          null,
          0.6221212121212122,
          0.5888794484132436,
          null
         ],
         "y": [
          0,
          0,
          null,
          0,
          -0.034740981058275576,
          null,
          0,
          0.034740981058275576,
          null
         ]
        },
        {
         "hoverinfo": "none",
         "line": {
          "color": "rgb(0, 0, 0)",
          "width": 1
         },
         "mode": "lines",
         "type": "scatter",
         "uid": "23335453-997e-11e8-9bbe-9a5fd3dcadb7",
         "x": [
          0.66,
          1,
          null,
          0.9621212121212122,
          0.9288794484132434,
          null,
          0.9621212121212122,
          0.9288794484132434,
          null
         ],
         "y": [
          0,
          0,
          null,
          0,
          -0.034740981058275576,
          null,
          0,
          0.034740981058275576,
          null
         ]
        },
        {
         "hoverinfo": "none",
         "marker": {
          "color": "rgb(0, 255, 0)",
          "line": {
           "color": "rgb(0, 0, 0)",
           "width": 1
          },
          "size": 20
         },
         "mode": "markers+text",
         "text": [
          "0"
         ],
         "textfont": {
          "color": "rgb(0, 0, 0)"
         },
         "textposition": "middle center",
         "type": "scatter",
         "uid": "23335454-997e-11e8-8df3-9a5fd3dcadb7",
         "x": [
          0
         ],
         "y": [
          0.5
         ]
        },
        {
         "hoverinfo": "none",
         "marker": {
          "color": "rgb(255, 255, 255)",
          "line": {
           "color": "rgb(0, 0, 0)",
           "width": 1
          },
          "size": 20
         },
         "mode": "markers+text",
         "text": [
          "1"
         ],
         "textfont": {
          "color": "rgb(0, 0, 0)"
         },
         "textposition": "middle center",
         "type": "scatter",
         "uid": "23335455-997e-11e8-a609-9a5fd3dcadb7",
         "x": [
          0.33
         ],
         "y": [
          1
         ]
        },
        {
         "hoverinfo": "none",
         "marker": {
          "color": "rgb(255, 255, 255)",
          "line": {
           "color": "rgb(0, 0, 0)",
           "width": 1
          },
          "size": 20
         },
         "mode": "markers+text",
         "text": [
          "2"
         ],
         "textfont": {
          "color": "rgb(0, 0, 0)"
         },
         "textposition": "middle center",
         "type": "scatter",
         "uid": "23335456-997e-11e8-bf2d-9a5fd3dcadb7",
         "x": [
          0.66
         ],
         "y": [
          1
         ]
        },
        {
         "hoverinfo": "none",
         "marker": {
          "color": "rgb(255, 255, 255)",
          "line": {
           "color": "rgb(0, 0, 0)",
           "width": 1
          },
          "size": 20
         },
         "mode": "markers+text",
         "text": [
          "3"
         ],
         "textfont": {
          "color": "rgb(0, 0, 0)"
         },
         "textposition": "middle center",
         "type": "scatter",
         "uid": "23335457-997e-11e8-ab14-9a5fd3dcadb7",
         "x": [
          1
         ],
         "y": [
          1
         ]
        },
        {
         "hoverinfo": "none",
         "marker": {
          "color": "rgb(255, 255, 255)",
          "line": {
           "color": "rgb(0, 0, 0)",
           "width": 1
          },
          "size": 20
         },
         "mode": "markers+text",
         "text": [
          "4"
         ],
         "textfont": {
          "color": "rgb(0, 0, 0)"
         },
         "textposition": "middle center",
         "type": "scatter",
         "uid": "23335458-997e-11e8-a159-9a5fd3dcadb7",
         "x": [
          0.33
         ],
         "y": [
          0
         ]
        },
        {
         "hoverinfo": "none",
         "marker": {
          "color": "rgb(255, 255, 255)",
          "line": {
           "color": "rgb(0, 0, 0)",
           "width": 1
          },
          "size": 20
         },
         "mode": "markers+text",
         "text": [
          "5"
         ],
         "textfont": {
          "color": "rgb(0, 0, 0)"
         },
         "textposition": "middle center",
         "type": "scatter",
         "uid": "23335459-997e-11e8-abde-9a5fd3dcadb7",
         "x": [
          0.66
         ],
         "y": [
          0
         ]
        },
        {
         "hoverinfo": "none",
         "marker": {
          "color": "rgb(255, 255, 255)",
          "line": {
           "color": "rgb(0, 0, 0)",
           "width": 1
          },
          "size": 20
         },
         "mode": "markers+text",
         "text": [
          "6"
         ],
         "textfont": {
          "color": "rgb(0, 0, 0)"
         },
         "textposition": "middle center",
         "type": "scatter",
         "uid": "2333545a-997e-11e8-8e68-9a5fd3dcadb7",
         "x": [
          1
         ],
         "y": [
          0
         ]
        }
       ],
       "frames": [
        {
         "data": [
          {
           "hoverinfo": "none",
           "line": {
            "color": "rgb(0, 0, 0)",
            "width": 1
           },
           "mode": "lines",
           "type": "scatter",
           "x": [
            0,
            0.33,
            null,
            0.3003062713421305,
            0.2855225877733855,
            null,
            0.3003062713421305,
            0.2629725579755741,
            null
           ],
           "y": [
            0.5,
            1,
            null,
            0.9550095020335311,
            0.8882926689752846,
            null,
            0.9550095020335311,
            0.9427605821595028,
            null
           ]
          },
          {
           "hoverinfo": "none",
           "line": {
            "color": "rgb(0, 0, 0)",
            "width": 1
           },
           "mode": "lines",
           "type": "scatter",
           "x": [
            0,
            0.33,
            null,
            0.3003062713421305,
            0.2629725579755741,
            null,
            0.3003062713421305,
            0.2855225877733855,
            null
           ],
           "y": [
            0.5,
            0,
            null,
            0.04499049796646893,
            0.0572394178404972,
            null,
            0.04499049796646893,
            0.11170733102471547,
            null
           ]
          },
          {
           "hoverinfo": "none",
           "line": {
            "color": "rgb(0, 0, 0)",
            "width": 1
           },
           "mode": "lines",
           "type": "scatter",
           "x": [
            0.33,
            0.66,
            null,
            0.6221212121212122,
            0.5888794484132436,
            null,
            0.6221212121212122,
            0.5888794484132436,
            null
           ],
           "y": [
            1,
            1,
            null,
            1,
            0.9652590189417244,
            null,
            1,
            1.0347409810582755,
            null
           ]
          },
          {
           "hoverinfo": "none",
           "line": {
            "color": "rgb(0, 0, 0)",
            "width": 1
           },
           "mode": "lines",
           "type": "scatter",
           "x": [
            0.66,
            1,
            null,
            0.9621212121212122,
            0.9288794484132434,
            null,
            0.9621212121212122,
            0.9288794484132434,
            null
           ],
           "y": [
            1,
            1,
            null,
            1,
            0.9652590189417244,
            null,
            1,
            1.0347409810582755,
            null
           ]
          },
          {
           "hoverinfo": "none",
           "line": {
            "color": "rgb(0, 0, 0)",
            "width": 1
           },
           "mode": "lines",
           "type": "scatter",
           "x": [
            0.66,
            0.33,
            null,
            0.35022071942550836,
            0.3526100389194443,
            null,
            0.35022071942550836,
            0.3833221014449805,
            null
           ],
           "y": [
            1,
            0,
            null,
            0.06127490735002531,
            0.13359437096827784,
            null,
            0.06127490735002531,
            0.09650302407543368,
            null
           ]
          },
          {
           "hoverinfo": "none",
           "line": {
            "color": "rgb(0, 0, 0)",
            "width": 1
           },
           "mode": "lines",
           "type": "scatter",
           "x": [
            1,
            0.66,
            null,
            0.6806532023433265,
            0.6835549327328607,
            null,
            0.6806532023433265,
            0.7140012524011855,
            null
           ],
           "y": [
            1,
            0,
            null,
            0.06074471277448944,
            0.13299554373343975,
            null,
            0.06074471277448944,
            0.09511088313140172,
            null
           ]
          },
          {
           "hoverinfo": "none",
           "line": {
            "color": "rgb(0, 0, 0)",
            "width": 1
           },
           "mode": "lines",
           "type": "scatter",
           "x": [
            0.33,
            0.66,
            null,
            0.6221212121212122,
            0.5888794484132436,
            null,
            0.6221212121212122,
            0.5888794484132436,
            null
           ],
           "y": [
            0,
            0,
            null,
            0,
            -0.034740981058275576,
            null,
            0,
            0.034740981058275576,
            null
           ]
          },
          {
           "hoverinfo": "none",
           "line": {
            "color": "rgb(0, 0, 0)",
            "width": 1
           },
           "mode": "lines",
           "type": "scatter",
           "x": [
            0.66,
            1,
            null,
            0.9621212121212122,
            0.9288794484132434,
            null,
            0.9621212121212122,
            0.9288794484132434,
            null
           ],
           "y": [
            0,
            0,
            null,
            0,
            -0.034740981058275576,
            null,
            0,
            0.034740981058275576,
            null
           ]
          },
          {
           "hoverinfo": "none",
           "marker": {
            "color": "rgb(0, 255, 0)",
            "line": {
             "color": "rgb(0, 0, 0)",
             "width": 1
            },
            "size": 20
           },
           "mode": "markers+text",
           "text": [
            "0"
           ],
           "textfont": {
            "color": "rgb(0, 0, 0)"
           },
           "textposition": "middle center",
           "type": "scatter",
           "x": [
            0
           ],
           "y": [
            0.5
           ]
          },
          {
           "hoverinfo": "none",
           "marker": {
            "color": "rgb(255, 255, 255)",
            "line": {
             "color": "rgb(0, 0, 0)",
             "width": 1
            },
            "size": 20
           },
           "mode": "markers+text",
           "text": [
            "1"
           ],
           "textfont": {
            "color": "rgb(0, 0, 0)"
           },
           "textposition": "middle center",
           "type": "scatter",
           "x": [
            0.33
           ],
           "y": [
            1
           ]
          },
          {
           "hoverinfo": "none",
           "marker": {
            "color": "rgb(255, 255, 255)",
            "line": {
             "color": "rgb(0, 0, 0)",
             "width": 1
            },
            "size": 20
           },
           "mode": "markers+text",
           "text": [
            "2"
           ],
           "textfont": {
            "color": "rgb(0, 0, 0)"
           },
           "textposition": "middle center",
           "type": "scatter",
           "x": [
            0.66
           ],
           "y": [
            1
           ]
          },
          {
           "hoverinfo": "none",
           "marker": {
            "color": "rgb(255, 255, 255)",
            "line": {
             "color": "rgb(0, 0, 0)",
             "width": 1
            },
            "size": 20
           },
           "mode": "markers+text",
           "text": [
            "3"
           ],
           "textfont": {
            "color": "rgb(0, 0, 0)"
           },
           "textposition": "middle center",
           "type": "scatter",
           "x": [
            1
           ],
           "y": [
            1
           ]
          },
          {
           "hoverinfo": "none",
           "marker": {
            "color": "rgb(255, 255, 255)",
            "line": {
             "color": "rgb(0, 0, 0)",
             "width": 1
            },
            "size": 20
           },
           "mode": "markers+text",
           "text": [
            "4"
           ],
           "textfont": {
            "color": "rgb(0, 0, 0)"
           },
           "textposition": "middle center",
           "type": "scatter",
           "x": [
            0.33
           ],
           "y": [
            0
           ]
          },
          {
           "hoverinfo": "none",
           "marker": {
            "color": "rgb(255, 255, 255)",
            "line": {
             "color": "rgb(0, 0, 0)",
             "width": 1
            },
            "size": 20
           },
           "mode": "markers+text",
           "text": [
            "5"
           ],
           "textfont": {
            "color": "rgb(0, 0, 0)"
           },
           "textposition": "middle center",
           "type": "scatter",
           "x": [
            0.66
           ],
           "y": [
            0
           ]
          },
          {
           "hoverinfo": "none",
           "marker": {
            "color": "rgb(255, 255, 255)",
            "line": {
             "color": "rgb(0, 0, 0)",
             "width": 1
            },
            "size": 20
           },
           "mode": "markers+text",
           "text": [
            "6"
           ],
           "textfont": {
            "color": "rgb(0, 0, 0)"
           },
           "textposition": "middle center",
           "type": "scatter",
           "x": [
            1
           ],
           "y": [
            0
           ]
          }
         ],
         "name": "0"
        },
        {
         "data": [
          {
           "hoverinfo": "none",
           "line": {
            "color": "rgb(0, 0, 0)",
            "width": 1
           },
           "mode": "lines",
           "type": "scatter",
           "x": [
            0,
            0.33,
            null,
            0.3003062713421305,
            0.2855225877733855,
            null,
            0.3003062713421305,
            0.2629725579755741,
            null
           ],
           "y": [
            0.5,
            1,
            null,
            0.9550095020335311,
            0.8882926689752846,
            null,
            0.9550095020335311,
            0.9427605821595028,
            null
           ]
          },
          {
           "hoverinfo": "none",
           "line": {
            "color": "rgb(0, 0, 0)",
            "width": 1
           },
           "mode": "lines",
           "type": "scatter",
           "x": [
            0,
            0.33,
            null,
            0.3003062713421305,
            0.2629725579755741,
            null,
            0.3003062713421305,
            0.2855225877733855,
            null
           ],
           "y": [
            0.5,
            0,
            null,
            0.04499049796646893,
            0.0572394178404972,
            null,
            0.04499049796646893,
            0.11170733102471547,
            null
           ]
          },
          {
           "hoverinfo": "none",
           "line": {
            "color": "rgb(0, 0, 0)",
            "width": 1
           },
           "mode": "lines",
           "type": "scatter",
           "x": [
            0.33,
            0.66,
            null,
            0.6221212121212122,
            0.5888794484132436,
            null,
            0.6221212121212122,
            0.5888794484132436,
            null
           ],
           "y": [
            1,
            1,
            null,
            1,
            0.9652590189417244,
            null,
            1,
            1.0347409810582755,
            null
           ]
          },
          {
           "hoverinfo": "none",
           "line": {
            "color": "rgb(0, 0, 0)",
            "width": 1
           },
           "mode": "lines",
           "type": "scatter",
           "x": [
            0.66,
            1,
            null,
            0.9621212121212122,
            0.9288794484132434,
            null,
            0.9621212121212122,
            0.9288794484132434,
            null
           ],
           "y": [
            1,
            1,
            null,
            1,
            0.9652590189417244,
            null,
            1,
            1.0347409810582755,
            null
           ]
          },
          {
           "hoverinfo": "none",
           "line": {
            "color": "rgb(0, 0, 0)",
            "width": 1
           },
           "mode": "lines",
           "type": "scatter",
           "x": [
            0.66,
            0.33,
            null,
            0.35022071942550836,
            0.3526100389194443,
            null,
            0.35022071942550836,
            0.3833221014449805,
            null
           ],
           "y": [
            1,
            0,
            null,
            0.06127490735002531,
            0.13359437096827784,
            null,
            0.06127490735002531,
            0.09650302407543368,
            null
           ]
          },
          {
           "hoverinfo": "none",
           "line": {
            "color": "rgb(0, 0, 0)",
            "width": 1
           },
           "mode": "lines",
           "type": "scatter",
           "x": [
            1,
            0.66,
            null,
            0.6806532023433265,
            0.6835549327328607,
            null,
            0.6806532023433265,
            0.7140012524011855,
            null
           ],
           "y": [
            1,
            0,
            null,
            0.06074471277448944,
            0.13299554373343975,
            null,
            0.06074471277448944,
            0.09511088313140172,
            null
           ]
          },
          {
           "hoverinfo": "none",
           "line": {
            "color": "rgb(0, 0, 0)",
            "width": 1
           },
           "mode": "lines",
           "type": "scatter",
           "x": [
            0.33,
            0.66,
            null,
            0.6221212121212122,
            0.5888794484132436,
            null,
            0.6221212121212122,
            0.5888794484132436,
            null
           ],
           "y": [
            0,
            0,
            null,
            0,
            -0.034740981058275576,
            null,
            0,
            0.034740981058275576,
            null
           ]
          },
          {
           "hoverinfo": "none",
           "line": {
            "color": "rgb(0, 0, 0)",
            "width": 1
           },
           "mode": "lines",
           "type": "scatter",
           "x": [
            0.66,
            1,
            null,
            0.9621212121212122,
            0.9288794484132434,
            null,
            0.9621212121212122,
            0.9288794484132434,
            null
           ],
           "y": [
            0,
            0,
            null,
            0,
            -0.034740981058275576,
            null,
            0,
            0.034740981058275576,
            null
           ]
          },
          {
           "hoverinfo": "none",
           "marker": {
            "color": "rgb(0, 255, 0)",
            "line": {
             "color": "rgb(0, 0, 0)",
             "width": 1
            },
            "size": 20
           },
           "mode": "markers+text",
           "text": [
            "0"
           ],
           "textfont": {
            "color": "rgb(0, 0, 0)"
           },
           "textposition": "middle center",
           "type": "scatter",
           "x": [
            0
           ],
           "y": [
            0.5
           ]
          },
          {
           "hoverinfo": "none",
           "marker": {
            "color": "rgb(0, 255, 0)",
            "line": {
             "color": "rgb(0, 0, 0)",
             "width": 1
            },
            "size": 20
           },
           "mode": "markers+text",
           "text": [
            "1"
           ],
           "textfont": {
            "color": "rgb(0, 0, 0)"
           },
           "textposition": "middle center",
           "type": "scatter",
           "x": [
            0.33
           ],
           "y": [
            1
           ]
          },
          {
           "hoverinfo": "none",
           "marker": {
            "color": "rgb(255, 255, 255)",
            "line": {
             "color": "rgb(0, 0, 0)",
             "width": 1
            },
            "size": 20
           },
           "mode": "markers+text",
           "text": [
            "2"
           ],
           "textfont": {
            "color": "rgb(0, 0, 0)"
           },
           "textposition": "middle center",
           "type": "scatter",
           "x": [
            0.66
           ],
           "y": [
            1
           ]
          },
          {
           "hoverinfo": "none",
           "marker": {
            "color": "rgb(255, 255, 255)",
            "line": {
             "color": "rgb(0, 0, 0)",
             "width": 1
            },
            "size": 20
           },
           "mode": "markers+text",
           "text": [
            "3"
           ],
           "textfont": {
            "color": "rgb(0, 0, 0)"
           },
           "textposition": "middle center",
           "type": "scatter",
           "x": [
            1
           ],
           "y": [
            1
           ]
          },
          {
           "hoverinfo": "none",
           "marker": {
            "color": "rgb(255, 255, 255)",
            "line": {
             "color": "rgb(0, 0, 0)",
             "width": 1
            },
            "size": 20
           },
           "mode": "markers+text",
           "text": [
            "4"
           ],
           "textfont": {
            "color": "rgb(0, 0, 0)"
           },
           "textposition": "middle center",
           "type": "scatter",
           "x": [
            0.33
           ],
           "y": [
            0
           ]
          },
          {
           "hoverinfo": "none",
           "marker": {
            "color": "rgb(255, 255, 255)",
            "line": {
             "color": "rgb(0, 0, 0)",
             "width": 1
            },
            "size": 20
           },
           "mode": "markers+text",
           "text": [
            "5"
           ],
           "textfont": {
            "color": "rgb(0, 0, 0)"
           },
           "textposition": "middle center",
           "type": "scatter",
           "x": [
            0.66
           ],
           "y": [
            0
           ]
          },
          {
           "hoverinfo": "none",
           "marker": {
            "color": "rgb(255, 255, 255)",
            "line": {
             "color": "rgb(0, 0, 0)",
             "width": 1
            },
            "size": 20
           },
           "mode": "markers+text",
           "text": [
            "6"
           ],
           "textfont": {
            "color": "rgb(0, 0, 0)"
           },
           "textposition": "middle center",
           "type": "scatter",
           "x": [
            1
           ],
           "y": [
            0
           ]
          }
         ],
         "name": "1"
        },
        {
         "data": [
          {
           "hoverinfo": "none",
           "line": {
            "color": "rgb(0, 0, 0)",
            "width": 1
           },
           "mode": "lines",
           "type": "scatter",
           "x": [
            0,
            0.33,
            null,
            0.3003062713421305,
            0.2855225877733855,
            null,
            0.3003062713421305,
            0.2629725579755741,
            null
           ],
           "y": [
            0.5,
            1,
            null,
            0.9550095020335311,
            0.8882926689752846,
            null,
            0.9550095020335311,
            0.9427605821595028,
            null
           ]
          },
          {
           "hoverinfo": "none",
           "line": {
            "color": "rgb(0, 0, 0)",
            "width": 1
           },
           "mode": "lines",
           "type": "scatter",
           "x": [
            0,
            0.33,
            null,
            0.3003062713421305,
            0.2629725579755741,
            null,
            0.3003062713421305,
            0.2855225877733855,
            null
           ],
           "y": [
            0.5,
            0,
            null,
            0.04499049796646893,
            0.0572394178404972,
            null,
            0.04499049796646893,
            0.11170733102471547,
            null
           ]
          },
          {
           "hoverinfo": "none",
           "line": {
            "color": "rgb(0, 0, 0)",
            "width": 1
           },
           "mode": "lines",
           "type": "scatter",
           "x": [
            0.33,
            0.66,
            null,
            0.6221212121212122,
            0.5888794484132436,
            null,
            0.6221212121212122,
            0.5888794484132436,
            null
           ],
           "y": [
            1,
            1,
            null,
            1,
            0.9652590189417244,
            null,
            1,
            1.0347409810582755,
            null
           ]
          },
          {
           "hoverinfo": "none",
           "line": {
            "color": "rgb(0, 0, 0)",
            "width": 1
           },
           "mode": "lines",
           "type": "scatter",
           "x": [
            0.66,
            1,
            null,
            0.9621212121212122,
            0.9288794484132434,
            null,
            0.9621212121212122,
            0.9288794484132434,
            null
           ],
           "y": [
            1,
            1,
            null,
            1,
            0.9652590189417244,
            null,
            1,
            1.0347409810582755,
            null
           ]
          },
          {
           "hoverinfo": "none",
           "line": {
            "color": "rgb(0, 0, 0)",
            "width": 1
           },
           "mode": "lines",
           "type": "scatter",
           "x": [
            0.66,
            0.33,
            null,
            0.35022071942550836,
            0.3526100389194443,
            null,
            0.35022071942550836,
            0.3833221014449805,
            null
           ],
           "y": [
            1,
            0,
            null,
            0.06127490735002531,
            0.13359437096827784,
            null,
            0.06127490735002531,
            0.09650302407543368,
            null
           ]
          },
          {
           "hoverinfo": "none",
           "line": {
            "color": "rgb(0, 0, 0)",
            "width": 1
           },
           "mode": "lines",
           "type": "scatter",
           "x": [
            1,
            0.66,
            null,
            0.6806532023433265,
            0.6835549327328607,
            null,
            0.6806532023433265,
            0.7140012524011855,
            null
           ],
           "y": [
            1,
            0,
            null,
            0.06074471277448944,
            0.13299554373343975,
            null,
            0.06074471277448944,
            0.09511088313140172,
            null
           ]
          },
          {
           "hoverinfo": "none",
           "line": {
            "color": "rgb(0, 0, 0)",
            "width": 1
           },
           "mode": "lines",
           "type": "scatter",
           "x": [
            0.33,
            0.66,
            null,
            0.6221212121212122,
            0.5888794484132436,
            null,
            0.6221212121212122,
            0.5888794484132436,
            null
           ],
           "y": [
            0,
            0,
            null,
            0,
            -0.034740981058275576,
            null,
            0,
            0.034740981058275576,
            null
           ]
          },
          {
           "hoverinfo": "none",
           "line": {
            "color": "rgb(0, 0, 0)",
            "width": 1
           },
           "mode": "lines",
           "type": "scatter",
           "x": [
            0.66,
            1,
            null,
            0.9621212121212122,
            0.9288794484132434,
            null,
            0.9621212121212122,
            0.9288794484132434,
            null
           ],
           "y": [
            0,
            0,
            null,
            0,
            -0.034740981058275576,
            null,
            0,
            0.034740981058275576,
            null
           ]
          },
          {
           "hoverinfo": "none",
           "marker": {
            "color": "rgb(0, 255, 0)",
            "line": {
             "color": "rgb(0, 0, 0)",
             "width": 1
            },
            "size": 20
           },
           "mode": "markers+text",
           "text": [
            "0"
           ],
           "textfont": {
            "color": "rgb(0, 0, 0)"
           },
           "textposition": "middle center",
           "type": "scatter",
           "x": [
            0
           ],
           "y": [
            0.5
           ]
          },
          {
           "hoverinfo": "none",
           "marker": {
            "color": "rgb(0, 255, 0)",
            "line": {
             "color": "rgb(0, 0, 0)",
             "width": 1
            },
            "size": 20
           },
           "mode": "markers+text",
           "text": [
            "1"
           ],
           "textfont": {
            "color": "rgb(0, 0, 0)"
           },
           "textposition": "middle center",
           "type": "scatter",
           "x": [
            0.33
           ],
           "y": [
            1
           ]
          },
          {
           "hoverinfo": "none",
           "marker": {
            "color": "rgb(255, 255, 255)",
            "line": {
             "color": "rgb(0, 0, 0)",
             "width": 1
            },
            "size": 20
           },
           "mode": "markers+text",
           "text": [
            "2"
           ],
           "textfont": {
            "color": "rgb(0, 0, 0)"
           },
           "textposition": "middle center",
           "type": "scatter",
           "x": [
            0.66
           ],
           "y": [
            1
           ]
          },
          {
           "hoverinfo": "none",
           "marker": {
            "color": "rgb(255, 255, 255)",
            "line": {
             "color": "rgb(0, 0, 0)",
             "width": 1
            },
            "size": 20
           },
           "mode": "markers+text",
           "text": [
            "3"
           ],
           "textfont": {
            "color": "rgb(0, 0, 0)"
           },
           "textposition": "middle center",
           "type": "scatter",
           "x": [
            1
           ],
           "y": [
            1
           ]
          },
          {
           "hoverinfo": "none",
           "marker": {
            "color": "rgb(0, 255, 0)",
            "line": {
             "color": "rgb(0, 0, 0)",
             "width": 1
            },
            "size": 20
           },
           "mode": "markers+text",
           "text": [
            "4"
           ],
           "textfont": {
            "color": "rgb(0, 0, 0)"
           },
           "textposition": "middle center",
           "type": "scatter",
           "x": [
            0.33
           ],
           "y": [
            0
           ]
          },
          {
           "hoverinfo": "none",
           "marker": {
            "color": "rgb(255, 255, 255)",
            "line": {
             "color": "rgb(0, 0, 0)",
             "width": 1
            },
            "size": 20
           },
           "mode": "markers+text",
           "text": [
            "5"
           ],
           "textfont": {
            "color": "rgb(0, 0, 0)"
           },
           "textposition": "middle center",
           "type": "scatter",
           "x": [
            0.66
           ],
           "y": [
            0
           ]
          },
          {
           "hoverinfo": "none",
           "marker": {
            "color": "rgb(255, 255, 255)",
            "line": {
             "color": "rgb(0, 0, 0)",
             "width": 1
            },
            "size": 20
           },
           "mode": "markers+text",
           "text": [
            "6"
           ],
           "textfont": {
            "color": "rgb(0, 0, 0)"
           },
           "textposition": "middle center",
           "type": "scatter",
           "x": [
            1
           ],
           "y": [
            0
           ]
          }
         ],
         "name": "2"
        },
        {
         "data": [
          {
           "hoverinfo": "none",
           "line": {
            "color": "rgb(0, 0, 0)",
            "width": 1
           },
           "mode": "lines",
           "type": "scatter",
           "x": [
            0,
            0.33,
            null,
            0.3003062713421305,
            0.2855225877733855,
            null,
            0.3003062713421305,
            0.2629725579755741,
            null
           ],
           "y": [
            0.5,
            1,
            null,
            0.9550095020335311,
            0.8882926689752846,
            null,
            0.9550095020335311,
            0.9427605821595028,
            null
           ]
          },
          {
           "hoverinfo": "none",
           "line": {
            "color": "rgb(0, 0, 0)",
            "width": 1
           },
           "mode": "lines",
           "type": "scatter",
           "x": [
            0,
            0.33,
            null,
            0.3003062713421305,
            0.2629725579755741,
            null,
            0.3003062713421305,
            0.2855225877733855,
            null
           ],
           "y": [
            0.5,
            0,
            null,
            0.04499049796646893,
            0.0572394178404972,
            null,
            0.04499049796646893,
            0.11170733102471547,
            null
           ]
          },
          {
           "hoverinfo": "none",
           "line": {
            "color": "rgb(0, 0, 0)",
            "width": 1
           },
           "mode": "lines",
           "type": "scatter",
           "x": [
            0.33,
            0.66,
            null,
            0.6221212121212122,
            0.5888794484132436,
            null,
            0.6221212121212122,
            0.5888794484132436,
            null
           ],
           "y": [
            1,
            1,
            null,
            1,
            0.9652590189417244,
            null,
            1,
            1.0347409810582755,
            null
           ]
          },
          {
           "hoverinfo": "none",
           "line": {
            "color": "rgb(0, 0, 0)",
            "width": 1
           },
           "mode": "lines",
           "type": "scatter",
           "x": [
            0.66,
            1,
            null,
            0.9621212121212122,
            0.9288794484132434,
            null,
            0.9621212121212122,
            0.9288794484132434,
            null
           ],
           "y": [
            1,
            1,
            null,
            1,
            0.9652590189417244,
            null,
            1,
            1.0347409810582755,
            null
           ]
          },
          {
           "hoverinfo": "none",
           "line": {
            "color": "rgb(0, 0, 0)",
            "width": 1
           },
           "mode": "lines",
           "type": "scatter",
           "x": [
            0.66,
            0.33,
            null,
            0.35022071942550836,
            0.3526100389194443,
            null,
            0.35022071942550836,
            0.3833221014449805,
            null
           ],
           "y": [
            1,
            0,
            null,
            0.06127490735002531,
            0.13359437096827784,
            null,
            0.06127490735002531,
            0.09650302407543368,
            null
           ]
          },
          {
           "hoverinfo": "none",
           "line": {
            "color": "rgb(0, 0, 0)",
            "width": 1
           },
           "mode": "lines",
           "type": "scatter",
           "x": [
            1,
            0.66,
            null,
            0.6806532023433265,
            0.6835549327328607,
            null,
            0.6806532023433265,
            0.7140012524011855,
            null
           ],
           "y": [
            1,
            0,
            null,
            0.06074471277448944,
            0.13299554373343975,
            null,
            0.06074471277448944,
            0.09511088313140172,
            null
           ]
          },
          {
           "hoverinfo": "none",
           "line": {
            "color": "rgb(0, 0, 0)",
            "width": 1
           },
           "mode": "lines",
           "type": "scatter",
           "x": [
            0.33,
            0.66,
            null,
            0.6221212121212122,
            0.5888794484132436,
            null,
            0.6221212121212122,
            0.5888794484132436,
            null
           ],
           "y": [
            0,
            0,
            null,
            0,
            -0.034740981058275576,
            null,
            0,
            0.034740981058275576,
            null
           ]
          },
          {
           "hoverinfo": "none",
           "line": {
            "color": "rgb(0, 0, 0)",
            "width": 1
           },
           "mode": "lines",
           "type": "scatter",
           "x": [
            0.66,
            1,
            null,
            0.9621212121212122,
            0.9288794484132434,
            null,
            0.9621212121212122,
            0.9288794484132434,
            null
           ],
           "y": [
            0,
            0,
            null,
            0,
            -0.034740981058275576,
            null,
            0,
            0.034740981058275576,
            null
           ]
          },
          {
           "hoverinfo": "none",
           "marker": {
            "color": "rgb(0, 255, 0)",
            "line": {
             "color": "rgb(0, 0, 0)",
             "width": 1
            },
            "size": 20
           },
           "mode": "markers+text",
           "text": [
            "0"
           ],
           "textfont": {
            "color": "rgb(0, 0, 0)"
           },
           "textposition": "middle center",
           "type": "scatter",
           "x": [
            0
           ],
           "y": [
            0.5
           ]
          },
          {
           "hoverinfo": "none",
           "marker": {
            "color": "rgb(0, 255, 0)",
            "line": {
             "color": "rgb(0, 0, 0)",
             "width": 1
            },
            "size": 20
           },
           "mode": "markers+text",
           "text": [
            "1"
           ],
           "textfont": {
            "color": "rgb(0, 0, 0)"
           },
           "textposition": "middle center",
           "type": "scatter",
           "x": [
            0.33
           ],
           "y": [
            1
           ]
          },
          {
           "hoverinfo": "none",
           "marker": {
            "color": "rgb(255, 255, 255)",
            "line": {
             "color": "rgb(0, 0, 0)",
             "width": 1
            },
            "size": 20
           },
           "mode": "markers+text",
           "text": [
            "2"
           ],
           "textfont": {
            "color": "rgb(0, 0, 0)"
           },
           "textposition": "middle center",
           "type": "scatter",
           "x": [
            0.66
           ],
           "y": [
            1
           ]
          },
          {
           "hoverinfo": "none",
           "marker": {
            "color": "rgb(255, 255, 255)",
            "line": {
             "color": "rgb(0, 0, 0)",
             "width": 1
            },
            "size": 20
           },
           "mode": "markers+text",
           "text": [
            "3"
           ],
           "textfont": {
            "color": "rgb(0, 0, 0)"
           },
           "textposition": "middle center",
           "type": "scatter",
           "x": [
            1
           ],
           "y": [
            1
           ]
          },
          {
           "hoverinfo": "none",
           "marker": {
            "color": "rgb(0, 255, 0)",
            "line": {
             "color": "rgb(0, 0, 0)",
             "width": 1
            },
            "size": 20
           },
           "mode": "markers+text",
           "text": [
            "4"
           ],
           "textfont": {
            "color": "rgb(0, 0, 0)"
           },
           "textposition": "middle center",
           "type": "scatter",
           "x": [
            0.33
           ],
           "y": [
            0
           ]
          },
          {
           "hoverinfo": "none",
           "marker": {
            "color": "rgb(0, 255, 0)",
            "line": {
             "color": "rgb(0, 0, 0)",
             "width": 1
            },
            "size": 20
           },
           "mode": "markers+text",
           "text": [
            "5"
           ],
           "textfont": {
            "color": "rgb(0, 0, 0)"
           },
           "textposition": "middle center",
           "type": "scatter",
           "x": [
            0.66
           ],
           "y": [
            0
           ]
          },
          {
           "hoverinfo": "none",
           "marker": {
            "color": "rgb(255, 255, 255)",
            "line": {
             "color": "rgb(0, 0, 0)",
             "width": 1
            },
            "size": 20
           },
           "mode": "markers+text",
           "text": [
            "6"
           ],
           "textfont": {
            "color": "rgb(0, 0, 0)"
           },
           "textposition": "middle center",
           "type": "scatter",
           "x": [
            1
           ],
           "y": [
            0
           ]
          }
         ],
         "name": "3"
        },
        {
         "data": [
          {
           "hoverinfo": "none",
           "line": {
            "color": "rgb(0, 0, 0)",
            "width": 1
           },
           "mode": "lines",
           "type": "scatter",
           "x": [
            0,
            0.33,
            null,
            0.3003062713421305,
            0.2855225877733855,
            null,
            0.3003062713421305,
            0.2629725579755741,
            null
           ],
           "y": [
            0.5,
            1,
            null,
            0.9550095020335311,
            0.8882926689752846,
            null,
            0.9550095020335311,
            0.9427605821595028,
            null
           ]
          },
          {
           "hoverinfo": "none",
           "line": {
            "color": "rgb(0, 0, 0)",
            "width": 1
           },
           "mode": "lines",
           "type": "scatter",
           "x": [
            0,
            0.33,
            null,
            0.3003062713421305,
            0.2629725579755741,
            null,
            0.3003062713421305,
            0.2855225877733855,
            null
           ],
           "y": [
            0.5,
            0,
            null,
            0.04499049796646893,
            0.0572394178404972,
            null,
            0.04499049796646893,
            0.11170733102471547,
            null
           ]
          },
          {
           "hoverinfo": "none",
           "line": {
            "color": "rgb(0, 0, 0)",
            "width": 1
           },
           "mode": "lines",
           "type": "scatter",
           "x": [
            0.33,
            0.66,
            null,
            0.6221212121212122,
            0.5888794484132436,
            null,
            0.6221212121212122,
            0.5888794484132436,
            null
           ],
           "y": [
            1,
            1,
            null,
            1,
            0.9652590189417244,
            null,
            1,
            1.0347409810582755,
            null
           ]
          },
          {
           "hoverinfo": "none",
           "line": {
            "color": "rgb(0, 0, 0)",
            "width": 1
           },
           "mode": "lines",
           "type": "scatter",
           "x": [
            0.66,
            1,
            null,
            0.9621212121212122,
            0.9288794484132434,
            null,
            0.9621212121212122,
            0.9288794484132434,
            null
           ],
           "y": [
            1,
            1,
            null,
            1,
            0.9652590189417244,
            null,
            1,
            1.0347409810582755,
            null
           ]
          },
          {
           "hoverinfo": "none",
           "line": {
            "color": "rgb(0, 0, 0)",
            "width": 1
           },
           "mode": "lines",
           "type": "scatter",
           "x": [
            0.66,
            0.33,
            null,
            0.35022071942550836,
            0.3526100389194443,
            null,
            0.35022071942550836,
            0.3833221014449805,
            null
           ],
           "y": [
            1,
            0,
            null,
            0.06127490735002531,
            0.13359437096827784,
            null,
            0.06127490735002531,
            0.09650302407543368,
            null
           ]
          },
          {
           "hoverinfo": "none",
           "line": {
            "color": "rgb(0, 0, 0)",
            "width": 1
           },
           "mode": "lines",
           "type": "scatter",
           "x": [
            1,
            0.66,
            null,
            0.6806532023433265,
            0.6835549327328607,
            null,
            0.6806532023433265,
            0.7140012524011855,
            null
           ],
           "y": [
            1,
            0,
            null,
            0.06074471277448944,
            0.13299554373343975,
            null,
            0.06074471277448944,
            0.09511088313140172,
            null
           ]
          },
          {
           "hoverinfo": "none",
           "line": {
            "color": "rgb(0, 0, 0)",
            "width": 1
           },
           "mode": "lines",
           "type": "scatter",
           "x": [
            0.33,
            0.66,
            null,
            0.6221212121212122,
            0.5888794484132436,
            null,
            0.6221212121212122,
            0.5888794484132436,
            null
           ],
           "y": [
            0,
            0,
            null,
            0,
            -0.034740981058275576,
            null,
            0,
            0.034740981058275576,
            null
           ]
          },
          {
           "hoverinfo": "none",
           "line": {
            "color": "rgb(0, 0, 0)",
            "width": 1
           },
           "mode": "lines",
           "type": "scatter",
           "x": [
            0.66,
            1,
            null,
            0.9621212121212122,
            0.9288794484132434,
            null,
            0.9621212121212122,
            0.9288794484132434,
            null
           ],
           "y": [
            0,
            0,
            null,
            0,
            -0.034740981058275576,
            null,
            0,
            0.034740981058275576,
            null
           ]
          },
          {
           "hoverinfo": "none",
           "marker": {
            "color": "rgb(0, 255, 0)",
            "line": {
             "color": "rgb(0, 0, 0)",
             "width": 1
            },
            "size": 20
           },
           "mode": "markers+text",
           "text": [
            "0"
           ],
           "textfont": {
            "color": "rgb(0, 0, 0)"
           },
           "textposition": "middle center",
           "type": "scatter",
           "x": [
            0
           ],
           "y": [
            0.5
           ]
          },
          {
           "hoverinfo": "none",
           "marker": {
            "color": "rgb(0, 255, 0)",
            "line": {
             "color": "rgb(0, 0, 0)",
             "width": 1
            },
            "size": 20
           },
           "mode": "markers+text",
           "text": [
            "1"
           ],
           "textfont": {
            "color": "rgb(0, 0, 0)"
           },
           "textposition": "middle center",
           "type": "scatter",
           "x": [
            0.33
           ],
           "y": [
            1
           ]
          },
          {
           "hoverinfo": "none",
           "marker": {
            "color": "rgb(255, 255, 255)",
            "line": {
             "color": "rgb(0, 0, 0)",
             "width": 1
            },
            "size": 20
           },
           "mode": "markers+text",
           "text": [
            "2"
           ],
           "textfont": {
            "color": "rgb(0, 0, 0)"
           },
           "textposition": "middle center",
           "type": "scatter",
           "x": [
            0.66
           ],
           "y": [
            1
           ]
          },
          {
           "hoverinfo": "none",
           "marker": {
            "color": "rgb(255, 255, 255)",
            "line": {
             "color": "rgb(0, 0, 0)",
             "width": 1
            },
            "size": 20
           },
           "mode": "markers+text",
           "text": [
            "3"
           ],
           "textfont": {
            "color": "rgb(0, 0, 0)"
           },
           "textposition": "middle center",
           "type": "scatter",
           "x": [
            1
           ],
           "y": [
            1
           ]
          },
          {
           "hoverinfo": "none",
           "marker": {
            "color": "rgb(0, 255, 0)",
            "line": {
             "color": "rgb(0, 0, 0)",
             "width": 1
            },
            "size": 20
           },
           "mode": "markers+text",
           "text": [
            "4"
           ],
           "textfont": {
            "color": "rgb(0, 0, 0)"
           },
           "textposition": "middle center",
           "type": "scatter",
           "x": [
            0.33
           ],
           "y": [
            0
           ]
          },
          {
           "hoverinfo": "none",
           "marker": {
            "color": "rgb(0, 255, 0)",
            "line": {
             "color": "rgb(0, 0, 0)",
             "width": 1
            },
            "size": 20
           },
           "mode": "markers+text",
           "text": [
            "5"
           ],
           "textfont": {
            "color": "rgb(0, 0, 0)"
           },
           "textposition": "middle center",
           "type": "scatter",
           "x": [
            0.66
           ],
           "y": [
            0
           ]
          },
          {
           "hoverinfo": "none",
           "marker": {
            "color": "rgb(0, 255, 0)",
            "line": {
             "color": "rgb(0, 0, 0)",
             "width": 1
            },
            "size": 20
           },
           "mode": "markers+text",
           "text": [
            "6"
           ],
           "textfont": {
            "color": "rgb(0, 0, 0)"
           },
           "textposition": "middle center",
           "type": "scatter",
           "x": [
            1
           ],
           "y": [
            0
           ]
          }
         ],
         "name": "4"
        },
        {
         "data": [
          {
           "hoverinfo": "none",
           "line": {
            "color": "rgb(0, 0, 0)",
            "width": 1
           },
           "mode": "lines",
           "type": "scatter",
           "x": [
            0,
            0.33,
            null,
            0.3003062713421305,
            0.2855225877733855,
            null,
            0.3003062713421305,
            0.2629725579755741,
            null
           ],
           "y": [
            0.5,
            1,
            null,
            0.9550095020335311,
            0.8882926689752846,
            null,
            0.9550095020335311,
            0.9427605821595028,
            null
           ]
          },
          {
           "hoverinfo": "none",
           "line": {
            "color": "rgb(0, 0, 0)",
            "width": 1
           },
           "mode": "lines",
           "type": "scatter",
           "x": [
            0,
            0.33,
            null,
            0.3003062713421305,
            0.2629725579755741,
            null,
            0.3003062713421305,
            0.2855225877733855,
            null
           ],
           "y": [
            0.5,
            0,
            null,
            0.04499049796646893,
            0.0572394178404972,
            null,
            0.04499049796646893,
            0.11170733102471547,
            null
           ]
          },
          {
           "hoverinfo": "none",
           "line": {
            "color": "rgb(0, 0, 0)",
            "width": 1
           },
           "mode": "lines",
           "type": "scatter",
           "x": [
            0.33,
            0.66,
            null,
            0.6221212121212122,
            0.5888794484132436,
            null,
            0.6221212121212122,
            0.5888794484132436,
            null
           ],
           "y": [
            1,
            1,
            null,
            1,
            0.9652590189417244,
            null,
            1,
            1.0347409810582755,
            null
           ]
          },
          {
           "hoverinfo": "none",
           "line": {
            "color": "rgb(0, 0, 0)",
            "width": 1
           },
           "mode": "lines",
           "type": "scatter",
           "x": [
            0.66,
            1,
            null,
            0.9621212121212122,
            0.9288794484132434,
            null,
            0.9621212121212122,
            0.9288794484132434,
            null
           ],
           "y": [
            1,
            1,
            null,
            1,
            0.9652590189417244,
            null,
            1,
            1.0347409810582755,
            null
           ]
          },
          {
           "hoverinfo": "none",
           "line": {
            "color": "rgb(0, 0, 0)",
            "width": 1
           },
           "mode": "lines",
           "type": "scatter",
           "x": [
            0.66,
            0.33,
            null,
            0.35022071942550836,
            0.3526100389194443,
            null,
            0.35022071942550836,
            0.3833221014449805,
            null
           ],
           "y": [
            1,
            0,
            null,
            0.06127490735002531,
            0.13359437096827784,
            null,
            0.06127490735002531,
            0.09650302407543368,
            null
           ]
          },
          {
           "hoverinfo": "none",
           "line": {
            "color": "rgb(0, 0, 0)",
            "width": 1
           },
           "mode": "lines",
           "type": "scatter",
           "x": [
            1,
            0.66,
            null,
            0.6806532023433265,
            0.6835549327328607,
            null,
            0.6806532023433265,
            0.7140012524011855,
            null
           ],
           "y": [
            1,
            0,
            null,
            0.06074471277448944,
            0.13299554373343975,
            null,
            0.06074471277448944,
            0.09511088313140172,
            null
           ]
          },
          {
           "hoverinfo": "none",
           "line": {
            "color": "rgb(0, 0, 0)",
            "width": 1
           },
           "mode": "lines",
           "type": "scatter",
           "x": [
            0.33,
            0.66,
            null,
            0.6221212121212122,
            0.5888794484132436,
            null,
            0.6221212121212122,
            0.5888794484132436,
            null
           ],
           "y": [
            0,
            0,
            null,
            0,
            -0.034740981058275576,
            null,
            0,
            0.034740981058275576,
            null
           ]
          },
          {
           "hoverinfo": "none",
           "line": {
            "color": "rgb(0, 0, 0)",
            "width": 1
           },
           "mode": "lines",
           "type": "scatter",
           "x": [
            0.66,
            1,
            null,
            0.9621212121212122,
            0.9288794484132434,
            null,
            0.9621212121212122,
            0.9288794484132434,
            null
           ],
           "y": [
            0,
            0,
            null,
            0,
            -0.034740981058275576,
            null,
            0,
            0.034740981058275576,
            null
           ]
          },
          {
           "hoverinfo": "none",
           "marker": {
            "color": "rgb(0, 255, 0)",
            "line": {
             "color": "rgb(0, 0, 0)",
             "width": 1
            },
            "size": 20
           },
           "mode": "markers+text",
           "text": [
            "0"
           ],
           "textfont": {
            "color": "rgb(0, 0, 0)"
           },
           "textposition": "middle center",
           "type": "scatter",
           "x": [
            0
           ],
           "y": [
            0.5
           ]
          },
          {
           "hoverinfo": "none",
           "marker": {
            "color": "rgb(0, 255, 0)",
            "line": {
             "color": "rgb(0, 0, 0)",
             "width": 1
            },
            "size": 20
           },
           "mode": "markers+text",
           "text": [
            "1"
           ],
           "textfont": {
            "color": "rgb(0, 0, 0)"
           },
           "textposition": "middle center",
           "type": "scatter",
           "x": [
            0.33
           ],
           "y": [
            1
           ]
          },
          {
           "hoverinfo": "none",
           "marker": {
            "color": "rgb(0, 255, 0)",
            "line": {
             "color": "rgb(0, 0, 0)",
             "width": 1
            },
            "size": 20
           },
           "mode": "markers+text",
           "text": [
            "2"
           ],
           "textfont": {
            "color": "rgb(0, 0, 0)"
           },
           "textposition": "middle center",
           "type": "scatter",
           "x": [
            0.66
           ],
           "y": [
            1
           ]
          },
          {
           "hoverinfo": "none",
           "marker": {
            "color": "rgb(255, 255, 255)",
            "line": {
             "color": "rgb(0, 0, 0)",
             "width": 1
            },
            "size": 20
           },
           "mode": "markers+text",
           "text": [
            "3"
           ],
           "textfont": {
            "color": "rgb(0, 0, 0)"
           },
           "textposition": "middle center",
           "type": "scatter",
           "x": [
            1
           ],
           "y": [
            1
           ]
          },
          {
           "hoverinfo": "none",
           "marker": {
            "color": "rgb(0, 255, 0)",
            "line": {
             "color": "rgb(0, 0, 0)",
             "width": 1
            },
            "size": 20
           },
           "mode": "markers+text",
           "text": [
            "4"
           ],
           "textfont": {
            "color": "rgb(0, 0, 0)"
           },
           "textposition": "middle center",
           "type": "scatter",
           "x": [
            0.33
           ],
           "y": [
            0
           ]
          },
          {
           "hoverinfo": "none",
           "marker": {
            "color": "rgb(0, 255, 0)",
            "line": {
             "color": "rgb(0, 0, 0)",
             "width": 1
            },
            "size": 20
           },
           "mode": "markers+text",
           "text": [
            "5"
           ],
           "textfont": {
            "color": "rgb(0, 0, 0)"
           },
           "textposition": "middle center",
           "type": "scatter",
           "x": [
            0.66
           ],
           "y": [
            0
           ]
          },
          {
           "hoverinfo": "none",
           "marker": {
            "color": "rgb(0, 255, 0)",
            "line": {
             "color": "rgb(0, 0, 0)",
             "width": 1
            },
            "size": 20
           },
           "mode": "markers+text",
           "text": [
            "6"
           ],
           "textfont": {
            "color": "rgb(0, 0, 0)"
           },
           "textposition": "middle center",
           "type": "scatter",
           "x": [
            1
           ],
           "y": [
            0
           ]
          }
         ],
         "name": "5"
        },
        {
         "data": [
          {
           "hoverinfo": "none",
           "line": {
            "color": "rgb(0, 0, 0)",
            "width": 1
           },
           "mode": "lines",
           "type": "scatter",
           "x": [
            0,
            0.33,
            null,
            0.3003062713421305,
            0.2855225877733855,
            null,
            0.3003062713421305,
            0.2629725579755741,
            null
           ],
           "y": [
            0.5,
            1,
            null,
            0.9550095020335311,
            0.8882926689752846,
            null,
            0.9550095020335311,
            0.9427605821595028,
            null
           ]
          },
          {
           "hoverinfo": "none",
           "line": {
            "color": "rgb(0, 0, 0)",
            "width": 1
           },
           "mode": "lines",
           "type": "scatter",
           "x": [
            0,
            0.33,
            null,
            0.3003062713421305,
            0.2629725579755741,
            null,
            0.3003062713421305,
            0.2855225877733855,
            null
           ],
           "y": [
            0.5,
            0,
            null,
            0.04499049796646893,
            0.0572394178404972,
            null,
            0.04499049796646893,
            0.11170733102471547,
            null
           ]
          },
          {
           "hoverinfo": "none",
           "line": {
            "color": "rgb(0, 0, 0)",
            "width": 1
           },
           "mode": "lines",
           "type": "scatter",
           "x": [
            0.33,
            0.66,
            null,
            0.6221212121212122,
            0.5888794484132436,
            null,
            0.6221212121212122,
            0.5888794484132436,
            null
           ],
           "y": [
            1,
            1,
            null,
            1,
            0.9652590189417244,
            null,
            1,
            1.0347409810582755,
            null
           ]
          },
          {
           "hoverinfo": "none",
           "line": {
            "color": "rgb(0, 0, 0)",
            "width": 1
           },
           "mode": "lines",
           "type": "scatter",
           "x": [
            0.66,
            1,
            null,
            0.9621212121212122,
            0.9288794484132434,
            null,
            0.9621212121212122,
            0.9288794484132434,
            null
           ],
           "y": [
            1,
            1,
            null,
            1,
            0.9652590189417244,
            null,
            1,
            1.0347409810582755,
            null
           ]
          },
          {
           "hoverinfo": "none",
           "line": {
            "color": "rgb(0, 0, 0)",
            "width": 1
           },
           "mode": "lines",
           "type": "scatter",
           "x": [
            0.66,
            0.33,
            null,
            0.35022071942550836,
            0.3526100389194443,
            null,
            0.35022071942550836,
            0.3833221014449805,
            null
           ],
           "y": [
            1,
            0,
            null,
            0.06127490735002531,
            0.13359437096827784,
            null,
            0.06127490735002531,
            0.09650302407543368,
            null
           ]
          },
          {
           "hoverinfo": "none",
           "line": {
            "color": "rgb(0, 0, 0)",
            "width": 1
           },
           "mode": "lines",
           "type": "scatter",
           "x": [
            1,
            0.66,
            null,
            0.6806532023433265,
            0.6835549327328607,
            null,
            0.6806532023433265,
            0.7140012524011855,
            null
           ],
           "y": [
            1,
            0,
            null,
            0.06074471277448944,
            0.13299554373343975,
            null,
            0.06074471277448944,
            0.09511088313140172,
            null
           ]
          },
          {
           "hoverinfo": "none",
           "line": {
            "color": "rgb(0, 0, 0)",
            "width": 1
           },
           "mode": "lines",
           "type": "scatter",
           "x": [
            0.33,
            0.66,
            null,
            0.6221212121212122,
            0.5888794484132436,
            null,
            0.6221212121212122,
            0.5888794484132436,
            null
           ],
           "y": [
            0,
            0,
            null,
            0,
            -0.034740981058275576,
            null,
            0,
            0.034740981058275576,
            null
           ]
          },
          {
           "hoverinfo": "none",
           "line": {
            "color": "rgb(0, 0, 0)",
            "width": 1
           },
           "mode": "lines",
           "type": "scatter",
           "x": [
            0.66,
            1,
            null,
            0.9621212121212122,
            0.9288794484132434,
            null,
            0.9621212121212122,
            0.9288794484132434,
            null
           ],
           "y": [
            0,
            0,
            null,
            0,
            -0.034740981058275576,
            null,
            0,
            0.034740981058275576,
            null
           ]
          },
          {
           "hoverinfo": "none",
           "marker": {
            "color": "rgb(0, 255, 0)",
            "line": {
             "color": "rgb(0, 0, 0)",
             "width": 1
            },
            "size": 20
           },
           "mode": "markers+text",
           "text": [
            "0"
           ],
           "textfont": {
            "color": "rgb(0, 0, 0)"
           },
           "textposition": "middle center",
           "type": "scatter",
           "x": [
            0
           ],
           "y": [
            0.5
           ]
          },
          {
           "hoverinfo": "none",
           "marker": {
            "color": "rgb(0, 255, 0)",
            "line": {
             "color": "rgb(0, 0, 0)",
             "width": 1
            },
            "size": 20
           },
           "mode": "markers+text",
           "text": [
            "1"
           ],
           "textfont": {
            "color": "rgb(0, 0, 0)"
           },
           "textposition": "middle center",
           "type": "scatter",
           "x": [
            0.33
           ],
           "y": [
            1
           ]
          },
          {
           "hoverinfo": "none",
           "marker": {
            "color": "rgb(0, 255, 0)",
            "line": {
             "color": "rgb(0, 0, 0)",
             "width": 1
            },
            "size": 20
           },
           "mode": "markers+text",
           "text": [
            "2"
           ],
           "textfont": {
            "color": "rgb(0, 0, 0)"
           },
           "textposition": "middle center",
           "type": "scatter",
           "x": [
            0.66
           ],
           "y": [
            1
           ]
          },
          {
           "hoverinfo": "none",
           "marker": {
            "color": "rgb(0, 255, 0)",
            "line": {
             "color": "rgb(0, 0, 0)",
             "width": 1
            },
            "size": 20
           },
           "mode": "markers+text",
           "text": [
            "3"
           ],
           "textfont": {
            "color": "rgb(0, 0, 0)"
           },
           "textposition": "middle center",
           "type": "scatter",
           "x": [
            1
           ],
           "y": [
            1
           ]
          },
          {
           "hoverinfo": "none",
           "marker": {
            "color": "rgb(0, 255, 0)",
            "line": {
             "color": "rgb(0, 0, 0)",
             "width": 1
            },
            "size": 20
           },
           "mode": "markers+text",
           "text": [
            "4"
           ],
           "textfont": {
            "color": "rgb(0, 0, 0)"
           },
           "textposition": "middle center",
           "type": "scatter",
           "x": [
            0.33
           ],
           "y": [
            0
           ]
          },
          {
           "hoverinfo": "none",
           "marker": {
            "color": "rgb(0, 255, 0)",
            "line": {
             "color": "rgb(0, 0, 0)",
             "width": 1
            },
            "size": 20
           },
           "mode": "markers+text",
           "text": [
            "5"
           ],
           "textfont": {
            "color": "rgb(0, 0, 0)"
           },
           "textposition": "middle center",
           "type": "scatter",
           "x": [
            0.66
           ],
           "y": [
            0
           ]
          },
          {
           "hoverinfo": "none",
           "marker": {
            "color": "rgb(0, 255, 0)",
            "line": {
             "color": "rgb(0, 0, 0)",
             "width": 1
            },
            "size": 20
           },
           "mode": "markers+text",
           "text": [
            "6"
           ],
           "textfont": {
            "color": "rgb(0, 0, 0)"
           },
           "textposition": "middle center",
           "type": "scatter",
           "x": [
            1
           ],
           "y": [
            0
           ]
          }
         ],
         "name": "6"
        }
       ],
       "layout": {
        "height": 256,
        "margin": {
         "b": 0,
         "l": 0,
         "r": 0,
         "t": 0
        },
        "showlegend": false,
        "sliders": [
         {
          "currentvalue": {
           "visible": false
          },
          "steps": [
           {
            "args": [
             [
              0
             ],
             {
              "frame": {
               "redraw": false
              },
              "mode": "immediate"
             }
            ],
            "label": "",
            "method": "animate"
           },
           {
            "args": [
             [
              1
             ],
             {
              "frame": {
               "redraw": false
              },
              "mode": "immediate"
             }
            ],
            "label": "",
            "method": "animate"
           },
           {
            "args": [
             [
              2
             ],
             {
              "frame": {
               "redraw": false
              },
              "mode": "immediate"
             }
            ],
            "label": "",
            "method": "animate"
           },
           {
            "args": [
             [
              3
             ],
             {
              "frame": {
               "redraw": false
              },
              "mode": "immediate"
             }
            ],
            "label": "",
            "method": "animate"
           },
           {
            "args": [
             [
              4
             ],
             {
              "frame": {
               "redraw": false
              },
              "mode": "immediate"
             }
            ],
            "label": "",
            "method": "animate"
           },
           {
            "args": [
             [
              5
             ],
             {
              "frame": {
               "redraw": false
              },
              "mode": "immediate"
             }
            ],
            "label": "",
            "method": "animate"
           },
           {
            "args": [
             [
              6
             ],
             {
              "frame": {
               "redraw": false
              },
              "mode": "immediate"
             }
            ],
            "label": "",
            "method": "animate"
           }
          ]
         }
        ],
        "updatemenus": [
         {
          "buttons": [
           {
            "args": [
             null,
             {
              "frame": {
               "redraw": false
              },
              "fromcurrent": true
             }
            ],
            "label": "Play",
            "method": "animate"
           },
           {
            "args": [
             [
              null
             ],
             {
              "frame": {
               "redraw": false
              },
              "mode": "immediate"
             }
            ],
            "label": "Pause",
            "method": "animate"
           }
          ],
          "showactive": true,
          "type": "buttons"
         }
        ],
        "width": 408,
        "xaxis": {
         "showgrid": false,
         "showticklabels": false,
         "zeroline": false
        },
        "yaxis": {
         "showgrid": false,
         "showticklabels": false,
         "zeroline": false
        }
       }
      },
      "text/html": [
       "<div id=\"b9009ba5-7b04-4932-9bcf-9808262b685c\" style=\"height: 256.0px; width: 408.0px;\" class=\"plotly-graph-div\"></div><script type=\"text/javascript\">require([\"plotly\"], function(Plotly) { window.PLOTLYENV=window.PLOTLYENV || {};window.PLOTLYENV.BASE_URL=\"https://plot.ly\";\n",
       "        Plotly.plot(\n",
       "            'b9009ba5-7b04-4932-9bcf-9808262b685c',\n",
       "            [{\"hoverinfo\": \"none\", \"line\": {\"color\": \"rgb(0, 0, 0)\", \"width\": 1}, \"mode\": \"lines\", \"x\": [0.0, 0.33, null, 0.3003062713421305, 0.2855225877733855, null, 0.3003062713421305, 0.2629725579755741, null], \"y\": [0.5, 1.0, null, 0.9550095020335311, 0.8882926689752846, null, 0.9550095020335311, 0.9427605821595028, null], \"type\": \"scatter\", \"uid\": \"242e96de-997e-11e8-85a3-9a5fd3dcadb7\"}, {\"hoverinfo\": \"none\", \"line\": {\"color\": \"rgb(0, 0, 0)\", \"width\": 1}, \"mode\": \"lines\", \"x\": [0.0, 0.33, null, 0.3003062713421305, 0.2629725579755741, null, 0.3003062713421305, 0.2855225877733855, null], \"y\": [0.5, 0.0, null, 0.04499049796646893, 0.0572394178404972, null, 0.04499049796646893, 0.11170733102471547, null], \"type\": \"scatter\", \"uid\": \"242e96df-997e-11e8-94f5-9a5fd3dcadb7\"}, {\"hoverinfo\": \"none\", \"line\": {\"color\": \"rgb(0, 0, 0)\", \"width\": 1}, \"mode\": \"lines\", \"x\": [0.33, 0.66, null, 0.6221212121212122, 0.5888794484132436, null, 0.6221212121212122, 0.5888794484132436, null], \"y\": [1.0, 1.0, null, 1.0, 0.9652590189417244, null, 1.0, 1.0347409810582755, null], \"type\": \"scatter\", \"uid\": \"242eaa6e-997e-11e8-90c6-9a5fd3dcadb7\"}, {\"hoverinfo\": \"none\", \"line\": {\"color\": \"rgb(0, 0, 0)\", \"width\": 1}, \"mode\": \"lines\", \"x\": [0.66, 1.0, null, 0.9621212121212122, 0.9288794484132434, null, 0.9621212121212122, 0.9288794484132434, null], \"y\": [1.0, 1.0, null, 1.0, 0.9652590189417244, null, 1.0, 1.0347409810582755, null], \"type\": \"scatter\", \"uid\": \"242eaa6f-997e-11e8-880b-9a5fd3dcadb7\"}, {\"hoverinfo\": \"none\", \"line\": {\"color\": \"rgb(0, 0, 0)\", \"width\": 1}, \"mode\": \"lines\", \"x\": [0.66, 0.33, null, 0.35022071942550836, 0.3526100389194443, null, 0.35022071942550836, 0.3833221014449805, null], \"y\": [1.0, 0.0, null, 0.06127490735002531, 0.13359437096827784, null, 0.06127490735002531, 0.09650302407543368, null], \"type\": \"scatter\", \"uid\": \"242eaa70-997e-11e8-b1d2-9a5fd3dcadb7\"}, {\"hoverinfo\": \"none\", \"line\": {\"color\": \"rgb(0, 0, 0)\", \"width\": 1}, \"mode\": \"lines\", \"x\": [1.0, 0.66, null, 0.6806532023433265, 0.6835549327328607, null, 0.6806532023433265, 0.7140012524011855, null], \"y\": [1.0, 0.0, null, 0.06074471277448944, 0.13299554373343975, null, 0.06074471277448944, 0.09511088313140172, null], \"type\": \"scatter\", \"uid\": \"242eaa71-997e-11e8-b2b4-9a5fd3dcadb7\"}, {\"hoverinfo\": \"none\", \"line\": {\"color\": \"rgb(0, 0, 0)\", \"width\": 1}, \"mode\": \"lines\", \"x\": [0.33, 0.66, null, 0.6221212121212122, 0.5888794484132436, null, 0.6221212121212122, 0.5888794484132436, null], \"y\": [0.0, 0.0, null, 0.0, -0.034740981058275576, null, 0.0, 0.034740981058275576, null], \"type\": \"scatter\", \"uid\": \"242eaa72-997e-11e8-b148-9a5fd3dcadb7\"}, {\"hoverinfo\": \"none\", \"line\": {\"color\": \"rgb(0, 0, 0)\", \"width\": 1}, \"mode\": \"lines\", \"x\": [0.66, 1.0, null, 0.9621212121212122, 0.9288794484132434, null, 0.9621212121212122, 0.9288794484132434, null], \"y\": [0.0, 0.0, null, 0.0, -0.034740981058275576, null, 0.0, 0.034740981058275576, null], \"type\": \"scatter\", \"uid\": \"242eaa73-997e-11e8-a009-9a5fd3dcadb7\"}, {\"hoverinfo\": \"none\", \"marker\": {\"color\": \"rgb(0, 255, 0)\", \"line\": {\"color\": \"rgb(0, 0, 0)\", \"width\": 1}, \"size\": 20}, \"mode\": \"markers+text\", \"text\": [\"0\"], \"textfont\": {\"color\": \"rgb(0, 0, 0)\"}, \"textposition\": \"middle center\", \"x\": [0.0], \"y\": [0.5], \"type\": \"scatter\", \"uid\": \"242eaa74-997e-11e8-b62b-9a5fd3dcadb7\"}, {\"hoverinfo\": \"none\", \"marker\": {\"color\": \"rgb(255, 255, 255)\", \"line\": {\"color\": \"rgb(0, 0, 0)\", \"width\": 1}, \"size\": 20}, \"mode\": \"markers+text\", \"text\": [\"1\"], \"textfont\": {\"color\": \"rgb(0, 0, 0)\"}, \"textposition\": \"middle center\", \"x\": [0.33], \"y\": [1.0], \"type\": \"scatter\", \"uid\": \"242eaa75-997e-11e8-9d67-9a5fd3dcadb7\"}, {\"hoverinfo\": \"none\", \"marker\": {\"color\": \"rgb(255, 255, 255)\", \"line\": {\"color\": \"rgb(0, 0, 0)\", \"width\": 1}, \"size\": 20}, \"mode\": \"markers+text\", \"text\": [\"2\"], \"textfont\": {\"color\": \"rgb(0, 0, 0)\"}, \"textposition\": \"middle center\", \"x\": [0.66], \"y\": [1.0], \"type\": \"scatter\", \"uid\": \"242eaa76-997e-11e8-a99a-9a5fd3dcadb7\"}, {\"hoverinfo\": \"none\", \"marker\": {\"color\": \"rgb(255, 255, 255)\", \"line\": {\"color\": \"rgb(0, 0, 0)\", \"width\": 1}, \"size\": 20}, \"mode\": \"markers+text\", \"text\": [\"3\"], \"textfont\": {\"color\": \"rgb(0, 0, 0)\"}, \"textposition\": \"middle center\", \"x\": [1.0], \"y\": [1.0], \"type\": \"scatter\", \"uid\": \"242eaa77-997e-11e8-b4f2-9a5fd3dcadb7\"}, {\"hoverinfo\": \"none\", \"marker\": {\"color\": \"rgb(255, 255, 255)\", \"line\": {\"color\": \"rgb(0, 0, 0)\", \"width\": 1}, \"size\": 20}, \"mode\": \"markers+text\", \"text\": [\"4\"], \"textfont\": {\"color\": \"rgb(0, 0, 0)\"}, \"textposition\": \"middle center\", \"x\": [0.33], \"y\": [0.0], \"type\": \"scatter\", \"uid\": \"242eaa78-997e-11e8-870f-9a5fd3dcadb7\"}, {\"hoverinfo\": \"none\", \"marker\": {\"color\": \"rgb(255, 255, 255)\", \"line\": {\"color\": \"rgb(0, 0, 0)\", \"width\": 1}, \"size\": 20}, \"mode\": \"markers+text\", \"text\": [\"5\"], \"textfont\": {\"color\": \"rgb(0, 0, 0)\"}, \"textposition\": \"middle center\", \"x\": [0.66], \"y\": [0.0], \"type\": \"scatter\", \"uid\": \"242eaa79-997e-11e8-8342-9a5fd3dcadb7\"}, {\"hoverinfo\": \"none\", \"marker\": {\"color\": \"rgb(255, 255, 255)\", \"line\": {\"color\": \"rgb(0, 0, 0)\", \"width\": 1}, \"size\": 20}, \"mode\": \"markers+text\", \"text\": [\"6\"], \"textfont\": {\"color\": \"rgb(0, 0, 0)\"}, \"textposition\": \"middle center\", \"x\": [1.0], \"y\": [0.0], \"type\": \"scatter\", \"uid\": \"242eaa7a-997e-11e8-beea-9a5fd3dcadb7\"}],\n",
       "            {\"height\": 256.0, \"margin\": {\"b\": 0, \"l\": 0, \"r\": 0, \"t\": 0}, \"showlegend\": false, \"sliders\": [{\"currentvalue\": {\"visible\": false}, \"steps\": [{\"args\": [[0], {\"frame\": {\"redraw\": false}, \"mode\": \"immediate\"}], \"label\": \"\", \"method\": \"animate\"}, {\"args\": [[1], {\"frame\": {\"redraw\": false}, \"mode\": \"immediate\"}], \"label\": \"\", \"method\": \"animate\"}, {\"args\": [[2], {\"frame\": {\"redraw\": false}, \"mode\": \"immediate\"}], \"label\": \"\", \"method\": \"animate\"}, {\"args\": [[3], {\"frame\": {\"redraw\": false}, \"mode\": \"immediate\"}], \"label\": \"\", \"method\": \"animate\"}, {\"args\": [[4], {\"frame\": {\"redraw\": false}, \"mode\": \"immediate\"}], \"label\": \"\", \"method\": \"animate\"}, {\"args\": [[5], {\"frame\": {\"redraw\": false}, \"mode\": \"immediate\"}], \"label\": \"\", \"method\": \"animate\"}, {\"args\": [[6], {\"frame\": {\"redraw\": false}, \"mode\": \"immediate\"}], \"label\": \"\", \"method\": \"animate\"}]}], \"updatemenus\": [{\"buttons\": [{\"args\": [null, {\"frame\": {\"redraw\": false}, \"fromcurrent\": true}], \"label\": \"Play\", \"method\": \"animate\"}, {\"args\": [[null], {\"frame\": {\"redraw\": false}, \"mode\": \"immediate\"}], \"label\": \"Pause\", \"method\": \"animate\"}], \"showactive\": true, \"type\": \"buttons\"}], \"width\": 408.0, \"xaxis\": {\"showgrid\": false, \"showticklabels\": false, \"zeroline\": false}, \"yaxis\": {\"showgrid\": false, \"showticklabels\": false, \"zeroline\": false}},\n",
       "            {\"showLink\": false, \"linkText\": \"Export to plot.ly\", \"displayModeBar\": false}\n",
       "        ).then(function () {return Plotly.addFrames('b9009ba5-7b04-4932-9bcf-9808262b685c',[{\"data\": [{\"hoverinfo\": \"none\", \"line\": {\"color\": \"rgb(0, 0, 0)\", \"width\": 1}, \"mode\": \"lines\", \"x\": [0.0, 0.33, null, 0.3003062713421305, 0.2855225877733855, null, 0.3003062713421305, 0.2629725579755741, null], \"y\": [0.5, 1.0, null, 0.9550095020335311, 0.8882926689752846, null, 0.9550095020335311, 0.9427605821595028, null], \"type\": \"scatter\"}, {\"hoverinfo\": \"none\", \"line\": {\"color\": \"rgb(0, 0, 0)\", \"width\": 1}, \"mode\": \"lines\", \"x\": [0.0, 0.33, null, 0.3003062713421305, 0.2629725579755741, null, 0.3003062713421305, 0.2855225877733855, null], \"y\": [0.5, 0.0, null, 0.04499049796646893, 0.0572394178404972, null, 0.04499049796646893, 0.11170733102471547, null], \"type\": \"scatter\"}, {\"hoverinfo\": \"none\", \"line\": {\"color\": \"rgb(0, 0, 0)\", \"width\": 1}, \"mode\": \"lines\", \"x\": [0.33, 0.66, null, 0.6221212121212122, 0.5888794484132436, null, 0.6221212121212122, 0.5888794484132436, null], \"y\": [1.0, 1.0, null, 1.0, 0.9652590189417244, null, 1.0, 1.0347409810582755, null], \"type\": \"scatter\"}, {\"hoverinfo\": \"none\", \"line\": {\"color\": \"rgb(0, 0, 0)\", \"width\": 1}, \"mode\": \"lines\", \"x\": [0.66, 1.0, null, 0.9621212121212122, 0.9288794484132434, null, 0.9621212121212122, 0.9288794484132434, null], \"y\": [1.0, 1.0, null, 1.0, 0.9652590189417244, null, 1.0, 1.0347409810582755, null], \"type\": \"scatter\"}, {\"hoverinfo\": \"none\", \"line\": {\"color\": \"rgb(0, 0, 0)\", \"width\": 1}, \"mode\": \"lines\", \"x\": [0.66, 0.33, null, 0.35022071942550836, 0.3526100389194443, null, 0.35022071942550836, 0.3833221014449805, null], \"y\": [1.0, 0.0, null, 0.06127490735002531, 0.13359437096827784, null, 0.06127490735002531, 0.09650302407543368, null], \"type\": \"scatter\"}, {\"hoverinfo\": \"none\", \"line\": {\"color\": \"rgb(0, 0, 0)\", \"width\": 1}, \"mode\": \"lines\", \"x\": [1.0, 0.66, null, 0.6806532023433265, 0.6835549327328607, null, 0.6806532023433265, 0.7140012524011855, null], \"y\": [1.0, 0.0, null, 0.06074471277448944, 0.13299554373343975, null, 0.06074471277448944, 0.09511088313140172, null], \"type\": \"scatter\"}, {\"hoverinfo\": \"none\", \"line\": {\"color\": \"rgb(0, 0, 0)\", \"width\": 1}, \"mode\": \"lines\", \"x\": [0.33, 0.66, null, 0.6221212121212122, 0.5888794484132436, null, 0.6221212121212122, 0.5888794484132436, null], \"y\": [0.0, 0.0, null, 0.0, -0.034740981058275576, null, 0.0, 0.034740981058275576, null], \"type\": \"scatter\"}, {\"hoverinfo\": \"none\", \"line\": {\"color\": \"rgb(0, 0, 0)\", \"width\": 1}, \"mode\": \"lines\", \"x\": [0.66, 1.0, null, 0.9621212121212122, 0.9288794484132434, null, 0.9621212121212122, 0.9288794484132434, null], \"y\": [0.0, 0.0, null, 0.0, -0.034740981058275576, null, 0.0, 0.034740981058275576, null], \"type\": \"scatter\"}, {\"hoverinfo\": \"none\", \"marker\": {\"color\": \"rgb(0, 255, 0)\", \"line\": {\"color\": \"rgb(0, 0, 0)\", \"width\": 1}, \"size\": 20}, \"mode\": \"markers+text\", \"text\": [\"0\"], \"textfont\": {\"color\": \"rgb(0, 0, 0)\"}, \"textposition\": \"middle center\", \"x\": [0.0], \"y\": [0.5], \"type\": \"scatter\"}, {\"hoverinfo\": \"none\", \"marker\": {\"color\": \"rgb(255, 255, 255)\", \"line\": {\"color\": \"rgb(0, 0, 0)\", \"width\": 1}, \"size\": 20}, \"mode\": \"markers+text\", \"text\": [\"1\"], \"textfont\": {\"color\": \"rgb(0, 0, 0)\"}, \"textposition\": \"middle center\", \"x\": [0.33], \"y\": [1.0], \"type\": \"scatter\"}, {\"hoverinfo\": \"none\", \"marker\": {\"color\": \"rgb(255, 255, 255)\", \"line\": {\"color\": \"rgb(0, 0, 0)\", \"width\": 1}, \"size\": 20}, \"mode\": \"markers+text\", \"text\": [\"2\"], \"textfont\": {\"color\": \"rgb(0, 0, 0)\"}, \"textposition\": \"middle center\", \"x\": [0.66], \"y\": [1.0], \"type\": \"scatter\"}, {\"hoverinfo\": \"none\", \"marker\": {\"color\": \"rgb(255, 255, 255)\", \"line\": {\"color\": \"rgb(0, 0, 0)\", \"width\": 1}, \"size\": 20}, \"mode\": \"markers+text\", \"text\": [\"3\"], \"textfont\": {\"color\": \"rgb(0, 0, 0)\"}, \"textposition\": \"middle center\", \"x\": [1.0], \"y\": [1.0], \"type\": \"scatter\"}, {\"hoverinfo\": \"none\", \"marker\": {\"color\": \"rgb(255, 255, 255)\", \"line\": {\"color\": \"rgb(0, 0, 0)\", \"width\": 1}, \"size\": 20}, \"mode\": \"markers+text\", \"text\": [\"4\"], \"textfont\": {\"color\": \"rgb(0, 0, 0)\"}, \"textposition\": \"middle center\", \"x\": [0.33], \"y\": [0.0], \"type\": \"scatter\"}, {\"hoverinfo\": \"none\", \"marker\": {\"color\": \"rgb(255, 255, 255)\", \"line\": {\"color\": \"rgb(0, 0, 0)\", \"width\": 1}, \"size\": 20}, \"mode\": \"markers+text\", \"text\": [\"5\"], \"textfont\": {\"color\": \"rgb(0, 0, 0)\"}, \"textposition\": \"middle center\", \"x\": [0.66], \"y\": [0.0], \"type\": \"scatter\"}, {\"hoverinfo\": \"none\", \"marker\": {\"color\": \"rgb(255, 255, 255)\", \"line\": {\"color\": \"rgb(0, 0, 0)\", \"width\": 1}, \"size\": 20}, \"mode\": \"markers+text\", \"text\": [\"6\"], \"textfont\": {\"color\": \"rgb(0, 0, 0)\"}, \"textposition\": \"middle center\", \"x\": [1.0], \"y\": [0.0], \"type\": \"scatter\"}], \"name\": \"0\"}, {\"data\": [{\"hoverinfo\": \"none\", \"line\": {\"color\": \"rgb(0, 0, 0)\", \"width\": 1}, \"mode\": \"lines\", \"x\": [0.0, 0.33, null, 0.3003062713421305, 0.2855225877733855, null, 0.3003062713421305, 0.2629725579755741, null], \"y\": [0.5, 1.0, null, 0.9550095020335311, 0.8882926689752846, null, 0.9550095020335311, 0.9427605821595028, null], \"type\": \"scatter\"}, {\"hoverinfo\": \"none\", \"line\": {\"color\": \"rgb(0, 0, 0)\", \"width\": 1}, \"mode\": \"lines\", \"x\": [0.0, 0.33, null, 0.3003062713421305, 0.2629725579755741, null, 0.3003062713421305, 0.2855225877733855, null], \"y\": [0.5, 0.0, null, 0.04499049796646893, 0.0572394178404972, null, 0.04499049796646893, 0.11170733102471547, null], \"type\": \"scatter\"}, {\"hoverinfo\": \"none\", \"line\": {\"color\": \"rgb(0, 0, 0)\", \"width\": 1}, \"mode\": \"lines\", \"x\": [0.33, 0.66, null, 0.6221212121212122, 0.5888794484132436, null, 0.6221212121212122, 0.5888794484132436, null], \"y\": [1.0, 1.0, null, 1.0, 0.9652590189417244, null, 1.0, 1.0347409810582755, null], \"type\": \"scatter\"}, {\"hoverinfo\": \"none\", \"line\": {\"color\": \"rgb(0, 0, 0)\", \"width\": 1}, \"mode\": \"lines\", \"x\": [0.66, 1.0, null, 0.9621212121212122, 0.9288794484132434, null, 0.9621212121212122, 0.9288794484132434, null], \"y\": [1.0, 1.0, null, 1.0, 0.9652590189417244, null, 1.0, 1.0347409810582755, null], \"type\": \"scatter\"}, {\"hoverinfo\": \"none\", \"line\": {\"color\": \"rgb(0, 0, 0)\", \"width\": 1}, \"mode\": \"lines\", \"x\": [0.66, 0.33, null, 0.35022071942550836, 0.3526100389194443, null, 0.35022071942550836, 0.3833221014449805, null], \"y\": [1.0, 0.0, null, 0.06127490735002531, 0.13359437096827784, null, 0.06127490735002531, 0.09650302407543368, null], \"type\": \"scatter\"}, {\"hoverinfo\": \"none\", \"line\": {\"color\": \"rgb(0, 0, 0)\", \"width\": 1}, \"mode\": \"lines\", \"x\": [1.0, 0.66, null, 0.6806532023433265, 0.6835549327328607, null, 0.6806532023433265, 0.7140012524011855, null], \"y\": [1.0, 0.0, null, 0.06074471277448944, 0.13299554373343975, null, 0.06074471277448944, 0.09511088313140172, null], \"type\": \"scatter\"}, {\"hoverinfo\": \"none\", \"line\": {\"color\": \"rgb(0, 0, 0)\", \"width\": 1}, \"mode\": \"lines\", \"x\": [0.33, 0.66, null, 0.6221212121212122, 0.5888794484132436, null, 0.6221212121212122, 0.5888794484132436, null], \"y\": [0.0, 0.0, null, 0.0, -0.034740981058275576, null, 0.0, 0.034740981058275576, null], \"type\": \"scatter\"}, {\"hoverinfo\": \"none\", \"line\": {\"color\": \"rgb(0, 0, 0)\", \"width\": 1}, \"mode\": \"lines\", \"x\": [0.66, 1.0, null, 0.9621212121212122, 0.9288794484132434, null, 0.9621212121212122, 0.9288794484132434, null], \"y\": [0.0, 0.0, null, 0.0, -0.034740981058275576, null, 0.0, 0.034740981058275576, null], \"type\": \"scatter\"}, {\"hoverinfo\": \"none\", \"marker\": {\"color\": \"rgb(0, 255, 0)\", \"line\": {\"color\": \"rgb(0, 0, 0)\", \"width\": 1}, \"size\": 20}, \"mode\": \"markers+text\", \"text\": [\"0\"], \"textfont\": {\"color\": \"rgb(0, 0, 0)\"}, \"textposition\": \"middle center\", \"x\": [0.0], \"y\": [0.5], \"type\": \"scatter\"}, {\"hoverinfo\": \"none\", \"marker\": {\"color\": \"rgb(0, 255, 0)\", \"line\": {\"color\": \"rgb(0, 0, 0)\", \"width\": 1}, \"size\": 20}, \"mode\": \"markers+text\", \"text\": [\"1\"], \"textfont\": {\"color\": \"rgb(0, 0, 0)\"}, \"textposition\": \"middle center\", \"x\": [0.33], \"y\": [1.0], \"type\": \"scatter\"}, {\"hoverinfo\": \"none\", \"marker\": {\"color\": \"rgb(255, 255, 255)\", \"line\": {\"color\": \"rgb(0, 0, 0)\", \"width\": 1}, \"size\": 20}, \"mode\": \"markers+text\", \"text\": [\"2\"], \"textfont\": {\"color\": \"rgb(0, 0, 0)\"}, \"textposition\": \"middle center\", \"x\": [0.66], \"y\": [1.0], \"type\": \"scatter\"}, {\"hoverinfo\": \"none\", \"marker\": {\"color\": \"rgb(255, 255, 255)\", \"line\": {\"color\": \"rgb(0, 0, 0)\", \"width\": 1}, \"size\": 20}, \"mode\": \"markers+text\", \"text\": [\"3\"], \"textfont\": {\"color\": \"rgb(0, 0, 0)\"}, \"textposition\": \"middle center\", \"x\": [1.0], \"y\": [1.0], \"type\": \"scatter\"}, {\"hoverinfo\": \"none\", \"marker\": {\"color\": \"rgb(255, 255, 255)\", \"line\": {\"color\": \"rgb(0, 0, 0)\", \"width\": 1}, \"size\": 20}, \"mode\": \"markers+text\", \"text\": [\"4\"], \"textfont\": {\"color\": \"rgb(0, 0, 0)\"}, \"textposition\": \"middle center\", \"x\": [0.33], \"y\": [0.0], \"type\": \"scatter\"}, {\"hoverinfo\": \"none\", \"marker\": {\"color\": \"rgb(255, 255, 255)\", \"line\": {\"color\": \"rgb(0, 0, 0)\", \"width\": 1}, \"size\": 20}, \"mode\": \"markers+text\", \"text\": [\"5\"], \"textfont\": {\"color\": \"rgb(0, 0, 0)\"}, \"textposition\": \"middle center\", \"x\": [0.66], \"y\": [0.0], \"type\": \"scatter\"}, {\"hoverinfo\": \"none\", \"marker\": {\"color\": \"rgb(255, 255, 255)\", \"line\": {\"color\": \"rgb(0, 0, 0)\", \"width\": 1}, \"size\": 20}, \"mode\": \"markers+text\", \"text\": [\"6\"], \"textfont\": {\"color\": \"rgb(0, 0, 0)\"}, \"textposition\": \"middle center\", \"x\": [1.0], \"y\": [0.0], \"type\": \"scatter\"}], \"name\": \"1\"}, {\"data\": [{\"hoverinfo\": \"none\", \"line\": {\"color\": \"rgb(0, 0, 0)\", \"width\": 1}, \"mode\": \"lines\", \"x\": [0.0, 0.33, null, 0.3003062713421305, 0.2855225877733855, null, 0.3003062713421305, 0.2629725579755741, null], \"y\": [0.5, 1.0, null, 0.9550095020335311, 0.8882926689752846, null, 0.9550095020335311, 0.9427605821595028, null], \"type\": \"scatter\"}, {\"hoverinfo\": \"none\", \"line\": {\"color\": \"rgb(0, 0, 0)\", \"width\": 1}, \"mode\": \"lines\", \"x\": [0.0, 0.33, null, 0.3003062713421305, 0.2629725579755741, null, 0.3003062713421305, 0.2855225877733855, null], \"y\": [0.5, 0.0, null, 0.04499049796646893, 0.0572394178404972, null, 0.04499049796646893, 0.11170733102471547, null], \"type\": \"scatter\"}, {\"hoverinfo\": \"none\", \"line\": {\"color\": \"rgb(0, 0, 0)\", \"width\": 1}, \"mode\": \"lines\", \"x\": [0.33, 0.66, null, 0.6221212121212122, 0.5888794484132436, null, 0.6221212121212122, 0.5888794484132436, null], \"y\": [1.0, 1.0, null, 1.0, 0.9652590189417244, null, 1.0, 1.0347409810582755, null], \"type\": \"scatter\"}, {\"hoverinfo\": \"none\", \"line\": {\"color\": \"rgb(0, 0, 0)\", \"width\": 1}, \"mode\": \"lines\", \"x\": [0.66, 1.0, null, 0.9621212121212122, 0.9288794484132434, null, 0.9621212121212122, 0.9288794484132434, null], \"y\": [1.0, 1.0, null, 1.0, 0.9652590189417244, null, 1.0, 1.0347409810582755, null], \"type\": \"scatter\"}, {\"hoverinfo\": \"none\", \"line\": {\"color\": \"rgb(0, 0, 0)\", \"width\": 1}, \"mode\": \"lines\", \"x\": [0.66, 0.33, null, 0.35022071942550836, 0.3526100389194443, null, 0.35022071942550836, 0.3833221014449805, null], \"y\": [1.0, 0.0, null, 0.06127490735002531, 0.13359437096827784, null, 0.06127490735002531, 0.09650302407543368, null], \"type\": \"scatter\"}, {\"hoverinfo\": \"none\", \"line\": {\"color\": \"rgb(0, 0, 0)\", \"width\": 1}, \"mode\": \"lines\", \"x\": [1.0, 0.66, null, 0.6806532023433265, 0.6835549327328607, null, 0.6806532023433265, 0.7140012524011855, null], \"y\": [1.0, 0.0, null, 0.06074471277448944, 0.13299554373343975, null, 0.06074471277448944, 0.09511088313140172, null], \"type\": \"scatter\"}, {\"hoverinfo\": \"none\", \"line\": {\"color\": \"rgb(0, 0, 0)\", \"width\": 1}, \"mode\": \"lines\", \"x\": [0.33, 0.66, null, 0.6221212121212122, 0.5888794484132436, null, 0.6221212121212122, 0.5888794484132436, null], \"y\": [0.0, 0.0, null, 0.0, -0.034740981058275576, null, 0.0, 0.034740981058275576, null], \"type\": \"scatter\"}, {\"hoverinfo\": \"none\", \"line\": {\"color\": \"rgb(0, 0, 0)\", \"width\": 1}, \"mode\": \"lines\", \"x\": [0.66, 1.0, null, 0.9621212121212122, 0.9288794484132434, null, 0.9621212121212122, 0.9288794484132434, null], \"y\": [0.0, 0.0, null, 0.0, -0.034740981058275576, null, 0.0, 0.034740981058275576, null], \"type\": \"scatter\"}, {\"hoverinfo\": \"none\", \"marker\": {\"color\": \"rgb(0, 255, 0)\", \"line\": {\"color\": \"rgb(0, 0, 0)\", \"width\": 1}, \"size\": 20}, \"mode\": \"markers+text\", \"text\": [\"0\"], \"textfont\": {\"color\": \"rgb(0, 0, 0)\"}, \"textposition\": \"middle center\", \"x\": [0.0], \"y\": [0.5], \"type\": \"scatter\"}, {\"hoverinfo\": \"none\", \"marker\": {\"color\": \"rgb(0, 255, 0)\", \"line\": {\"color\": \"rgb(0, 0, 0)\", \"width\": 1}, \"size\": 20}, \"mode\": \"markers+text\", \"text\": [\"1\"], \"textfont\": {\"color\": \"rgb(0, 0, 0)\"}, \"textposition\": \"middle center\", \"x\": [0.33], \"y\": [1.0], \"type\": \"scatter\"}, {\"hoverinfo\": \"none\", \"marker\": {\"color\": \"rgb(255, 255, 255)\", \"line\": {\"color\": \"rgb(0, 0, 0)\", \"width\": 1}, \"size\": 20}, \"mode\": \"markers+text\", \"text\": [\"2\"], \"textfont\": {\"color\": \"rgb(0, 0, 0)\"}, \"textposition\": \"middle center\", \"x\": [0.66], \"y\": [1.0], \"type\": \"scatter\"}, {\"hoverinfo\": \"none\", \"marker\": {\"color\": \"rgb(255, 255, 255)\", \"line\": {\"color\": \"rgb(0, 0, 0)\", \"width\": 1}, \"size\": 20}, \"mode\": \"markers+text\", \"text\": [\"3\"], \"textfont\": {\"color\": \"rgb(0, 0, 0)\"}, \"textposition\": \"middle center\", \"x\": [1.0], \"y\": [1.0], \"type\": \"scatter\"}, {\"hoverinfo\": \"none\", \"marker\": {\"color\": \"rgb(0, 255, 0)\", \"line\": {\"color\": \"rgb(0, 0, 0)\", \"width\": 1}, \"size\": 20}, \"mode\": \"markers+text\", \"text\": [\"4\"], \"textfont\": {\"color\": \"rgb(0, 0, 0)\"}, \"textposition\": \"middle center\", \"x\": [0.33], \"y\": [0.0], \"type\": \"scatter\"}, {\"hoverinfo\": \"none\", \"marker\": {\"color\": \"rgb(255, 255, 255)\", \"line\": {\"color\": \"rgb(0, 0, 0)\", \"width\": 1}, \"size\": 20}, \"mode\": \"markers+text\", \"text\": [\"5\"], \"textfont\": {\"color\": \"rgb(0, 0, 0)\"}, \"textposition\": \"middle center\", \"x\": [0.66], \"y\": [0.0], \"type\": \"scatter\"}, {\"hoverinfo\": \"none\", \"marker\": {\"color\": \"rgb(255, 255, 255)\", \"line\": {\"color\": \"rgb(0, 0, 0)\", \"width\": 1}, \"size\": 20}, \"mode\": \"markers+text\", \"text\": [\"6\"], \"textfont\": {\"color\": \"rgb(0, 0, 0)\"}, \"textposition\": \"middle center\", \"x\": [1.0], \"y\": [0.0], \"type\": \"scatter\"}], \"name\": \"2\"}, {\"data\": [{\"hoverinfo\": \"none\", \"line\": {\"color\": \"rgb(0, 0, 0)\", \"width\": 1}, \"mode\": \"lines\", \"x\": [0.0, 0.33, null, 0.3003062713421305, 0.2855225877733855, null, 0.3003062713421305, 0.2629725579755741, null], \"y\": [0.5, 1.0, null, 0.9550095020335311, 0.8882926689752846, null, 0.9550095020335311, 0.9427605821595028, null], \"type\": \"scatter\"}, {\"hoverinfo\": \"none\", \"line\": {\"color\": \"rgb(0, 0, 0)\", \"width\": 1}, \"mode\": \"lines\", \"x\": [0.0, 0.33, null, 0.3003062713421305, 0.2629725579755741, null, 0.3003062713421305, 0.2855225877733855, null], \"y\": [0.5, 0.0, null, 0.04499049796646893, 0.0572394178404972, null, 0.04499049796646893, 0.11170733102471547, null], \"type\": \"scatter\"}, {\"hoverinfo\": \"none\", \"line\": {\"color\": \"rgb(0, 0, 0)\", \"width\": 1}, \"mode\": \"lines\", \"x\": [0.33, 0.66, null, 0.6221212121212122, 0.5888794484132436, null, 0.6221212121212122, 0.5888794484132436, null], \"y\": [1.0, 1.0, null, 1.0, 0.9652590189417244, null, 1.0, 1.0347409810582755, null], \"type\": \"scatter\"}, {\"hoverinfo\": \"none\", \"line\": {\"color\": \"rgb(0, 0, 0)\", \"width\": 1}, \"mode\": \"lines\", \"x\": [0.66, 1.0, null, 0.9621212121212122, 0.9288794484132434, null, 0.9621212121212122, 0.9288794484132434, null], \"y\": [1.0, 1.0, null, 1.0, 0.9652590189417244, null, 1.0, 1.0347409810582755, null], \"type\": \"scatter\"}, {\"hoverinfo\": \"none\", \"line\": {\"color\": \"rgb(0, 0, 0)\", \"width\": 1}, \"mode\": \"lines\", \"x\": [0.66, 0.33, null, 0.35022071942550836, 0.3526100389194443, null, 0.35022071942550836, 0.3833221014449805, null], \"y\": [1.0, 0.0, null, 0.06127490735002531, 0.13359437096827784, null, 0.06127490735002531, 0.09650302407543368, null], \"type\": \"scatter\"}, {\"hoverinfo\": \"none\", \"line\": {\"color\": \"rgb(0, 0, 0)\", \"width\": 1}, \"mode\": \"lines\", \"x\": [1.0, 0.66, null, 0.6806532023433265, 0.6835549327328607, null, 0.6806532023433265, 0.7140012524011855, null], \"y\": [1.0, 0.0, null, 0.06074471277448944, 0.13299554373343975, null, 0.06074471277448944, 0.09511088313140172, null], \"type\": \"scatter\"}, {\"hoverinfo\": \"none\", \"line\": {\"color\": \"rgb(0, 0, 0)\", \"width\": 1}, \"mode\": \"lines\", \"x\": [0.33, 0.66, null, 0.6221212121212122, 0.5888794484132436, null, 0.6221212121212122, 0.5888794484132436, null], \"y\": [0.0, 0.0, null, 0.0, -0.034740981058275576, null, 0.0, 0.034740981058275576, null], \"type\": \"scatter\"}, {\"hoverinfo\": \"none\", \"line\": {\"color\": \"rgb(0, 0, 0)\", \"width\": 1}, \"mode\": \"lines\", \"x\": [0.66, 1.0, null, 0.9621212121212122, 0.9288794484132434, null, 0.9621212121212122, 0.9288794484132434, null], \"y\": [0.0, 0.0, null, 0.0, -0.034740981058275576, null, 0.0, 0.034740981058275576, null], \"type\": \"scatter\"}, {\"hoverinfo\": \"none\", \"marker\": {\"color\": \"rgb(0, 255, 0)\", \"line\": {\"color\": \"rgb(0, 0, 0)\", \"width\": 1}, \"size\": 20}, \"mode\": \"markers+text\", \"text\": [\"0\"], \"textfont\": {\"color\": \"rgb(0, 0, 0)\"}, \"textposition\": \"middle center\", \"x\": [0.0], \"y\": [0.5], \"type\": \"scatter\"}, {\"hoverinfo\": \"none\", \"marker\": {\"color\": \"rgb(0, 255, 0)\", \"line\": {\"color\": \"rgb(0, 0, 0)\", \"width\": 1}, \"size\": 20}, \"mode\": \"markers+text\", \"text\": [\"1\"], \"textfont\": {\"color\": \"rgb(0, 0, 0)\"}, \"textposition\": \"middle center\", \"x\": [0.33], \"y\": [1.0], \"type\": \"scatter\"}, {\"hoverinfo\": \"none\", \"marker\": {\"color\": \"rgb(255, 255, 255)\", \"line\": {\"color\": \"rgb(0, 0, 0)\", \"width\": 1}, \"size\": 20}, \"mode\": \"markers+text\", \"text\": [\"2\"], \"textfont\": {\"color\": \"rgb(0, 0, 0)\"}, \"textposition\": \"middle center\", \"x\": [0.66], \"y\": [1.0], \"type\": \"scatter\"}, {\"hoverinfo\": \"none\", \"marker\": {\"color\": \"rgb(255, 255, 255)\", \"line\": {\"color\": \"rgb(0, 0, 0)\", \"width\": 1}, \"size\": 20}, \"mode\": \"markers+text\", \"text\": [\"3\"], \"textfont\": {\"color\": \"rgb(0, 0, 0)\"}, \"textposition\": \"middle center\", \"x\": [1.0], \"y\": [1.0], \"type\": \"scatter\"}, {\"hoverinfo\": \"none\", \"marker\": {\"color\": \"rgb(0, 255, 0)\", \"line\": {\"color\": \"rgb(0, 0, 0)\", \"width\": 1}, \"size\": 20}, \"mode\": \"markers+text\", \"text\": [\"4\"], \"textfont\": {\"color\": \"rgb(0, 0, 0)\"}, \"textposition\": \"middle center\", \"x\": [0.33], \"y\": [0.0], \"type\": \"scatter\"}, {\"hoverinfo\": \"none\", \"marker\": {\"color\": \"rgb(0, 255, 0)\", \"line\": {\"color\": \"rgb(0, 0, 0)\", \"width\": 1}, \"size\": 20}, \"mode\": \"markers+text\", \"text\": [\"5\"], \"textfont\": {\"color\": \"rgb(0, 0, 0)\"}, \"textposition\": \"middle center\", \"x\": [0.66], \"y\": [0.0], \"type\": \"scatter\"}, {\"hoverinfo\": \"none\", \"marker\": {\"color\": \"rgb(255, 255, 255)\", \"line\": {\"color\": \"rgb(0, 0, 0)\", \"width\": 1}, \"size\": 20}, \"mode\": \"markers+text\", \"text\": [\"6\"], \"textfont\": {\"color\": \"rgb(0, 0, 0)\"}, \"textposition\": \"middle center\", \"x\": [1.0], \"y\": [0.0], \"type\": \"scatter\"}], \"name\": \"3\"}, {\"data\": [{\"hoverinfo\": \"none\", \"line\": {\"color\": \"rgb(0, 0, 0)\", \"width\": 1}, \"mode\": \"lines\", \"x\": [0.0, 0.33, null, 0.3003062713421305, 0.2855225877733855, null, 0.3003062713421305, 0.2629725579755741, null], \"y\": [0.5, 1.0, null, 0.9550095020335311, 0.8882926689752846, null, 0.9550095020335311, 0.9427605821595028, null], \"type\": \"scatter\"}, {\"hoverinfo\": \"none\", \"line\": {\"color\": \"rgb(0, 0, 0)\", \"width\": 1}, \"mode\": \"lines\", \"x\": [0.0, 0.33, null, 0.3003062713421305, 0.2629725579755741, null, 0.3003062713421305, 0.2855225877733855, null], \"y\": [0.5, 0.0, null, 0.04499049796646893, 0.0572394178404972, null, 0.04499049796646893, 0.11170733102471547, null], \"type\": \"scatter\"}, {\"hoverinfo\": \"none\", \"line\": {\"color\": \"rgb(0, 0, 0)\", \"width\": 1}, \"mode\": \"lines\", \"x\": [0.33, 0.66, null, 0.6221212121212122, 0.5888794484132436, null, 0.6221212121212122, 0.5888794484132436, null], \"y\": [1.0, 1.0, null, 1.0, 0.9652590189417244, null, 1.0, 1.0347409810582755, null], \"type\": \"scatter\"}, {\"hoverinfo\": \"none\", \"line\": {\"color\": \"rgb(0, 0, 0)\", \"width\": 1}, \"mode\": \"lines\", \"x\": [0.66, 1.0, null, 0.9621212121212122, 0.9288794484132434, null, 0.9621212121212122, 0.9288794484132434, null], \"y\": [1.0, 1.0, null, 1.0, 0.9652590189417244, null, 1.0, 1.0347409810582755, null], \"type\": \"scatter\"}, {\"hoverinfo\": \"none\", \"line\": {\"color\": \"rgb(0, 0, 0)\", \"width\": 1}, \"mode\": \"lines\", \"x\": [0.66, 0.33, null, 0.35022071942550836, 0.3526100389194443, null, 0.35022071942550836, 0.3833221014449805, null], \"y\": [1.0, 0.0, null, 0.06127490735002531, 0.13359437096827784, null, 0.06127490735002531, 0.09650302407543368, null], \"type\": \"scatter\"}, {\"hoverinfo\": \"none\", \"line\": {\"color\": \"rgb(0, 0, 0)\", \"width\": 1}, \"mode\": \"lines\", \"x\": [1.0, 0.66, null, 0.6806532023433265, 0.6835549327328607, null, 0.6806532023433265, 0.7140012524011855, null], \"y\": [1.0, 0.0, null, 0.06074471277448944, 0.13299554373343975, null, 0.06074471277448944, 0.09511088313140172, null], \"type\": \"scatter\"}, {\"hoverinfo\": \"none\", \"line\": {\"color\": \"rgb(0, 0, 0)\", \"width\": 1}, \"mode\": \"lines\", \"x\": [0.33, 0.66, null, 0.6221212121212122, 0.5888794484132436, null, 0.6221212121212122, 0.5888794484132436, null], \"y\": [0.0, 0.0, null, 0.0, -0.034740981058275576, null, 0.0, 0.034740981058275576, null], \"type\": \"scatter\"}, {\"hoverinfo\": \"none\", \"line\": {\"color\": \"rgb(0, 0, 0)\", \"width\": 1}, \"mode\": \"lines\", \"x\": [0.66, 1.0, null, 0.9621212121212122, 0.9288794484132434, null, 0.9621212121212122, 0.9288794484132434, null], \"y\": [0.0, 0.0, null, 0.0, -0.034740981058275576, null, 0.0, 0.034740981058275576, null], \"type\": \"scatter\"}, {\"hoverinfo\": \"none\", \"marker\": {\"color\": \"rgb(0, 255, 0)\", \"line\": {\"color\": \"rgb(0, 0, 0)\", \"width\": 1}, \"size\": 20}, \"mode\": \"markers+text\", \"text\": [\"0\"], \"textfont\": {\"color\": \"rgb(0, 0, 0)\"}, \"textposition\": \"middle center\", \"x\": [0.0], \"y\": [0.5], \"type\": \"scatter\"}, {\"hoverinfo\": \"none\", \"marker\": {\"color\": \"rgb(0, 255, 0)\", \"line\": {\"color\": \"rgb(0, 0, 0)\", \"width\": 1}, \"size\": 20}, \"mode\": \"markers+text\", \"text\": [\"1\"], \"textfont\": {\"color\": \"rgb(0, 0, 0)\"}, \"textposition\": \"middle center\", \"x\": [0.33], \"y\": [1.0], \"type\": \"scatter\"}, {\"hoverinfo\": \"none\", \"marker\": {\"color\": \"rgb(255, 255, 255)\", \"line\": {\"color\": \"rgb(0, 0, 0)\", \"width\": 1}, \"size\": 20}, \"mode\": \"markers+text\", \"text\": [\"2\"], \"textfont\": {\"color\": \"rgb(0, 0, 0)\"}, \"textposition\": \"middle center\", \"x\": [0.66], \"y\": [1.0], \"type\": \"scatter\"}, {\"hoverinfo\": \"none\", \"marker\": {\"color\": \"rgb(255, 255, 255)\", \"line\": {\"color\": \"rgb(0, 0, 0)\", \"width\": 1}, \"size\": 20}, \"mode\": \"markers+text\", \"text\": [\"3\"], \"textfont\": {\"color\": \"rgb(0, 0, 0)\"}, \"textposition\": \"middle center\", \"x\": [1.0], \"y\": [1.0], \"type\": \"scatter\"}, {\"hoverinfo\": \"none\", \"marker\": {\"color\": \"rgb(0, 255, 0)\", \"line\": {\"color\": \"rgb(0, 0, 0)\", \"width\": 1}, \"size\": 20}, \"mode\": \"markers+text\", \"text\": [\"4\"], \"textfont\": {\"color\": \"rgb(0, 0, 0)\"}, \"textposition\": \"middle center\", \"x\": [0.33], \"y\": [0.0], \"type\": \"scatter\"}, {\"hoverinfo\": \"none\", \"marker\": {\"color\": \"rgb(0, 255, 0)\", \"line\": {\"color\": \"rgb(0, 0, 0)\", \"width\": 1}, \"size\": 20}, \"mode\": \"markers+text\", \"text\": [\"5\"], \"textfont\": {\"color\": \"rgb(0, 0, 0)\"}, \"textposition\": \"middle center\", \"x\": [0.66], \"y\": [0.0], \"type\": \"scatter\"}, {\"hoverinfo\": \"none\", \"marker\": {\"color\": \"rgb(0, 255, 0)\", \"line\": {\"color\": \"rgb(0, 0, 0)\", \"width\": 1}, \"size\": 20}, \"mode\": \"markers+text\", \"text\": [\"6\"], \"textfont\": {\"color\": \"rgb(0, 0, 0)\"}, \"textposition\": \"middle center\", \"x\": [1.0], \"y\": [0.0], \"type\": \"scatter\"}], \"name\": \"4\"}, {\"data\": [{\"hoverinfo\": \"none\", \"line\": {\"color\": \"rgb(0, 0, 0)\", \"width\": 1}, \"mode\": \"lines\", \"x\": [0.0, 0.33, null, 0.3003062713421305, 0.2855225877733855, null, 0.3003062713421305, 0.2629725579755741, null], \"y\": [0.5, 1.0, null, 0.9550095020335311, 0.8882926689752846, null, 0.9550095020335311, 0.9427605821595028, null], \"type\": \"scatter\"}, {\"hoverinfo\": \"none\", \"line\": {\"color\": \"rgb(0, 0, 0)\", \"width\": 1}, \"mode\": \"lines\", \"x\": [0.0, 0.33, null, 0.3003062713421305, 0.2629725579755741, null, 0.3003062713421305, 0.2855225877733855, null], \"y\": [0.5, 0.0, null, 0.04499049796646893, 0.0572394178404972, null, 0.04499049796646893, 0.11170733102471547, null], \"type\": \"scatter\"}, {\"hoverinfo\": \"none\", \"line\": {\"color\": \"rgb(0, 0, 0)\", \"width\": 1}, \"mode\": \"lines\", \"x\": [0.33, 0.66, null, 0.6221212121212122, 0.5888794484132436, null, 0.6221212121212122, 0.5888794484132436, null], \"y\": [1.0, 1.0, null, 1.0, 0.9652590189417244, null, 1.0, 1.0347409810582755, null], \"type\": \"scatter\"}, {\"hoverinfo\": \"none\", \"line\": {\"color\": \"rgb(0, 0, 0)\", \"width\": 1}, \"mode\": \"lines\", \"x\": [0.66, 1.0, null, 0.9621212121212122, 0.9288794484132434, null, 0.9621212121212122, 0.9288794484132434, null], \"y\": [1.0, 1.0, null, 1.0, 0.9652590189417244, null, 1.0, 1.0347409810582755, null], \"type\": \"scatter\"}, {\"hoverinfo\": \"none\", \"line\": {\"color\": \"rgb(0, 0, 0)\", \"width\": 1}, \"mode\": \"lines\", \"x\": [0.66, 0.33, null, 0.35022071942550836, 0.3526100389194443, null, 0.35022071942550836, 0.3833221014449805, null], \"y\": [1.0, 0.0, null, 0.06127490735002531, 0.13359437096827784, null, 0.06127490735002531, 0.09650302407543368, null], \"type\": \"scatter\"}, {\"hoverinfo\": \"none\", \"line\": {\"color\": \"rgb(0, 0, 0)\", \"width\": 1}, \"mode\": \"lines\", \"x\": [1.0, 0.66, null, 0.6806532023433265, 0.6835549327328607, null, 0.6806532023433265, 0.7140012524011855, null], \"y\": [1.0, 0.0, null, 0.06074471277448944, 0.13299554373343975, null, 0.06074471277448944, 0.09511088313140172, null], \"type\": \"scatter\"}, {\"hoverinfo\": \"none\", \"line\": {\"color\": \"rgb(0, 0, 0)\", \"width\": 1}, \"mode\": \"lines\", \"x\": [0.33, 0.66, null, 0.6221212121212122, 0.5888794484132436, null, 0.6221212121212122, 0.5888794484132436, null], \"y\": [0.0, 0.0, null, 0.0, -0.034740981058275576, null, 0.0, 0.034740981058275576, null], \"type\": \"scatter\"}, {\"hoverinfo\": \"none\", \"line\": {\"color\": \"rgb(0, 0, 0)\", \"width\": 1}, \"mode\": \"lines\", \"x\": [0.66, 1.0, null, 0.9621212121212122, 0.9288794484132434, null, 0.9621212121212122, 0.9288794484132434, null], \"y\": [0.0, 0.0, null, 0.0, -0.034740981058275576, null, 0.0, 0.034740981058275576, null], \"type\": \"scatter\"}, {\"hoverinfo\": \"none\", \"marker\": {\"color\": \"rgb(0, 255, 0)\", \"line\": {\"color\": \"rgb(0, 0, 0)\", \"width\": 1}, \"size\": 20}, \"mode\": \"markers+text\", \"text\": [\"0\"], \"textfont\": {\"color\": \"rgb(0, 0, 0)\"}, \"textposition\": \"middle center\", \"x\": [0.0], \"y\": [0.5], \"type\": \"scatter\"}, {\"hoverinfo\": \"none\", \"marker\": {\"color\": \"rgb(0, 255, 0)\", \"line\": {\"color\": \"rgb(0, 0, 0)\", \"width\": 1}, \"size\": 20}, \"mode\": \"markers+text\", \"text\": [\"1\"], \"textfont\": {\"color\": \"rgb(0, 0, 0)\"}, \"textposition\": \"middle center\", \"x\": [0.33], \"y\": [1.0], \"type\": \"scatter\"}, {\"hoverinfo\": \"none\", \"marker\": {\"color\": \"rgb(0, 255, 0)\", \"line\": {\"color\": \"rgb(0, 0, 0)\", \"width\": 1}, \"size\": 20}, \"mode\": \"markers+text\", \"text\": [\"2\"], \"textfont\": {\"color\": \"rgb(0, 0, 0)\"}, \"textposition\": \"middle center\", \"x\": [0.66], \"y\": [1.0], \"type\": \"scatter\"}, {\"hoverinfo\": \"none\", \"marker\": {\"color\": \"rgb(255, 255, 255)\", \"line\": {\"color\": \"rgb(0, 0, 0)\", \"width\": 1}, \"size\": 20}, \"mode\": \"markers+text\", \"text\": [\"3\"], \"textfont\": {\"color\": \"rgb(0, 0, 0)\"}, \"textposition\": \"middle center\", \"x\": [1.0], \"y\": [1.0], \"type\": \"scatter\"}, {\"hoverinfo\": \"none\", \"marker\": {\"color\": \"rgb(0, 255, 0)\", \"line\": {\"color\": \"rgb(0, 0, 0)\", \"width\": 1}, \"size\": 20}, \"mode\": \"markers+text\", \"text\": [\"4\"], \"textfont\": {\"color\": \"rgb(0, 0, 0)\"}, \"textposition\": \"middle center\", \"x\": [0.33], \"y\": [0.0], \"type\": \"scatter\"}, {\"hoverinfo\": \"none\", \"marker\": {\"color\": \"rgb(0, 255, 0)\", \"line\": {\"color\": \"rgb(0, 0, 0)\", \"width\": 1}, \"size\": 20}, \"mode\": \"markers+text\", \"text\": [\"5\"], \"textfont\": {\"color\": \"rgb(0, 0, 0)\"}, \"textposition\": \"middle center\", \"x\": [0.66], \"y\": [0.0], \"type\": \"scatter\"}, {\"hoverinfo\": \"none\", \"marker\": {\"color\": \"rgb(0, 255, 0)\", \"line\": {\"color\": \"rgb(0, 0, 0)\", \"width\": 1}, \"size\": 20}, \"mode\": \"markers+text\", \"text\": [\"6\"], \"textfont\": {\"color\": \"rgb(0, 0, 0)\"}, \"textposition\": \"middle center\", \"x\": [1.0], \"y\": [0.0], \"type\": \"scatter\"}], \"name\": \"5\"}, {\"data\": [{\"hoverinfo\": \"none\", \"line\": {\"color\": \"rgb(0, 0, 0)\", \"width\": 1}, \"mode\": \"lines\", \"x\": [0.0, 0.33, null, 0.3003062713421305, 0.2855225877733855, null, 0.3003062713421305, 0.2629725579755741, null], \"y\": [0.5, 1.0, null, 0.9550095020335311, 0.8882926689752846, null, 0.9550095020335311, 0.9427605821595028, null], \"type\": \"scatter\"}, {\"hoverinfo\": \"none\", \"line\": {\"color\": \"rgb(0, 0, 0)\", \"width\": 1}, \"mode\": \"lines\", \"x\": [0.0, 0.33, null, 0.3003062713421305, 0.2629725579755741, null, 0.3003062713421305, 0.2855225877733855, null], \"y\": [0.5, 0.0, null, 0.04499049796646893, 0.0572394178404972, null, 0.04499049796646893, 0.11170733102471547, null], \"type\": \"scatter\"}, {\"hoverinfo\": \"none\", \"line\": {\"color\": \"rgb(0, 0, 0)\", \"width\": 1}, \"mode\": \"lines\", \"x\": [0.33, 0.66, null, 0.6221212121212122, 0.5888794484132436, null, 0.6221212121212122, 0.5888794484132436, null], \"y\": [1.0, 1.0, null, 1.0, 0.9652590189417244, null, 1.0, 1.0347409810582755, null], \"type\": \"scatter\"}, {\"hoverinfo\": \"none\", \"line\": {\"color\": \"rgb(0, 0, 0)\", \"width\": 1}, \"mode\": \"lines\", \"x\": [0.66, 1.0, null, 0.9621212121212122, 0.9288794484132434, null, 0.9621212121212122, 0.9288794484132434, null], \"y\": [1.0, 1.0, null, 1.0, 0.9652590189417244, null, 1.0, 1.0347409810582755, null], \"type\": \"scatter\"}, {\"hoverinfo\": \"none\", \"line\": {\"color\": \"rgb(0, 0, 0)\", \"width\": 1}, \"mode\": \"lines\", \"x\": [0.66, 0.33, null, 0.35022071942550836, 0.3526100389194443, null, 0.35022071942550836, 0.3833221014449805, null], \"y\": [1.0, 0.0, null, 0.06127490735002531, 0.13359437096827784, null, 0.06127490735002531, 0.09650302407543368, null], \"type\": \"scatter\"}, {\"hoverinfo\": \"none\", \"line\": {\"color\": \"rgb(0, 0, 0)\", \"width\": 1}, \"mode\": \"lines\", \"x\": [1.0, 0.66, null, 0.6806532023433265, 0.6835549327328607, null, 0.6806532023433265, 0.7140012524011855, null], \"y\": [1.0, 0.0, null, 0.06074471277448944, 0.13299554373343975, null, 0.06074471277448944, 0.09511088313140172, null], \"type\": \"scatter\"}, {\"hoverinfo\": \"none\", \"line\": {\"color\": \"rgb(0, 0, 0)\", \"width\": 1}, \"mode\": \"lines\", \"x\": [0.33, 0.66, null, 0.6221212121212122, 0.5888794484132436, null, 0.6221212121212122, 0.5888794484132436, null], \"y\": [0.0, 0.0, null, 0.0, -0.034740981058275576, null, 0.0, 0.034740981058275576, null], \"type\": \"scatter\"}, {\"hoverinfo\": \"none\", \"line\": {\"color\": \"rgb(0, 0, 0)\", \"width\": 1}, \"mode\": \"lines\", \"x\": [0.66, 1.0, null, 0.9621212121212122, 0.9288794484132434, null, 0.9621212121212122, 0.9288794484132434, null], \"y\": [0.0, 0.0, null, 0.0, -0.034740981058275576, null, 0.0, 0.034740981058275576, null], \"type\": \"scatter\"}, {\"hoverinfo\": \"none\", \"marker\": {\"color\": \"rgb(0, 255, 0)\", \"line\": {\"color\": \"rgb(0, 0, 0)\", \"width\": 1}, \"size\": 20}, \"mode\": \"markers+text\", \"text\": [\"0\"], \"textfont\": {\"color\": \"rgb(0, 0, 0)\"}, \"textposition\": \"middle center\", \"x\": [0.0], \"y\": [0.5], \"type\": \"scatter\"}, {\"hoverinfo\": \"none\", \"marker\": {\"color\": \"rgb(0, 255, 0)\", \"line\": {\"color\": \"rgb(0, 0, 0)\", \"width\": 1}, \"size\": 20}, \"mode\": \"markers+text\", \"text\": [\"1\"], \"textfont\": {\"color\": \"rgb(0, 0, 0)\"}, \"textposition\": \"middle center\", \"x\": [0.33], \"y\": [1.0], \"type\": \"scatter\"}, {\"hoverinfo\": \"none\", \"marker\": {\"color\": \"rgb(0, 255, 0)\", \"line\": {\"color\": \"rgb(0, 0, 0)\", \"width\": 1}, \"size\": 20}, \"mode\": \"markers+text\", \"text\": [\"2\"], \"textfont\": {\"color\": \"rgb(0, 0, 0)\"}, \"textposition\": \"middle center\", \"x\": [0.66], \"y\": [1.0], \"type\": \"scatter\"}, {\"hoverinfo\": \"none\", \"marker\": {\"color\": \"rgb(0, 255, 0)\", \"line\": {\"color\": \"rgb(0, 0, 0)\", \"width\": 1}, \"size\": 20}, \"mode\": \"markers+text\", \"text\": [\"3\"], \"textfont\": {\"color\": \"rgb(0, 0, 0)\"}, \"textposition\": \"middle center\", \"x\": [1.0], \"y\": [1.0], \"type\": \"scatter\"}, {\"hoverinfo\": \"none\", \"marker\": {\"color\": \"rgb(0, 255, 0)\", \"line\": {\"color\": \"rgb(0, 0, 0)\", \"width\": 1}, \"size\": 20}, \"mode\": \"markers+text\", \"text\": [\"4\"], \"textfont\": {\"color\": \"rgb(0, 0, 0)\"}, \"textposition\": \"middle center\", \"x\": [0.33], \"y\": [0.0], \"type\": \"scatter\"}, {\"hoverinfo\": \"none\", \"marker\": {\"color\": \"rgb(0, 255, 0)\", \"line\": {\"color\": \"rgb(0, 0, 0)\", \"width\": 1}, \"size\": 20}, \"mode\": \"markers+text\", \"text\": [\"5\"], \"textfont\": {\"color\": \"rgb(0, 0, 0)\"}, \"textposition\": \"middle center\", \"x\": [0.66], \"y\": [0.0], \"type\": \"scatter\"}, {\"hoverinfo\": \"none\", \"marker\": {\"color\": \"rgb(0, 255, 0)\", \"line\": {\"color\": \"rgb(0, 0, 0)\", \"width\": 1}, \"size\": 20}, \"mode\": \"markers+text\", \"text\": [\"6\"], \"textfont\": {\"color\": \"rgb(0, 0, 0)\"}, \"textposition\": \"middle center\", \"x\": [1.0], \"y\": [0.0], \"type\": \"scatter\"}], \"name\": \"6\"}]);}).then(function(){Plotly.animate('b9009ba5-7b04-4932-9bcf-9808262b685c');})\n",
       "        });</script>"
      ],
      "text/vnd.plotly.v1+html": [
       "<div id=\"b9009ba5-7b04-4932-9bcf-9808262b685c\" style=\"height: 256.0px; width: 408.0px;\" class=\"plotly-graph-div\"></div><script type=\"text/javascript\">require([\"plotly\"], function(Plotly) { window.PLOTLYENV=window.PLOTLYENV || {};window.PLOTLYENV.BASE_URL=\"https://plot.ly\";\n",
       "        Plotly.plot(\n",
       "            'b9009ba5-7b04-4932-9bcf-9808262b685c',\n",
       "            [{\"hoverinfo\": \"none\", \"line\": {\"color\": \"rgb(0, 0, 0)\", \"width\": 1}, \"mode\": \"lines\", \"x\": [0.0, 0.33, null, 0.3003062713421305, 0.2855225877733855, null, 0.3003062713421305, 0.2629725579755741, null], \"y\": [0.5, 1.0, null, 0.9550095020335311, 0.8882926689752846, null, 0.9550095020335311, 0.9427605821595028, null], \"type\": \"scatter\", \"uid\": \"242e96de-997e-11e8-85a3-9a5fd3dcadb7\"}, {\"hoverinfo\": \"none\", \"line\": {\"color\": \"rgb(0, 0, 0)\", \"width\": 1}, \"mode\": \"lines\", \"x\": [0.0, 0.33, null, 0.3003062713421305, 0.2629725579755741, null, 0.3003062713421305, 0.2855225877733855, null], \"y\": [0.5, 0.0, null, 0.04499049796646893, 0.0572394178404972, null, 0.04499049796646893, 0.11170733102471547, null], \"type\": \"scatter\", \"uid\": \"242e96df-997e-11e8-94f5-9a5fd3dcadb7\"}, {\"hoverinfo\": \"none\", \"line\": {\"color\": \"rgb(0, 0, 0)\", \"width\": 1}, \"mode\": \"lines\", \"x\": [0.33, 0.66, null, 0.6221212121212122, 0.5888794484132436, null, 0.6221212121212122, 0.5888794484132436, null], \"y\": [1.0, 1.0, null, 1.0, 0.9652590189417244, null, 1.0, 1.0347409810582755, null], \"type\": \"scatter\", \"uid\": \"242eaa6e-997e-11e8-90c6-9a5fd3dcadb7\"}, {\"hoverinfo\": \"none\", \"line\": {\"color\": \"rgb(0, 0, 0)\", \"width\": 1}, \"mode\": \"lines\", \"x\": [0.66, 1.0, null, 0.9621212121212122, 0.9288794484132434, null, 0.9621212121212122, 0.9288794484132434, null], \"y\": [1.0, 1.0, null, 1.0, 0.9652590189417244, null, 1.0, 1.0347409810582755, null], \"type\": \"scatter\", \"uid\": \"242eaa6f-997e-11e8-880b-9a5fd3dcadb7\"}, {\"hoverinfo\": \"none\", \"line\": {\"color\": \"rgb(0, 0, 0)\", \"width\": 1}, \"mode\": \"lines\", \"x\": [0.66, 0.33, null, 0.35022071942550836, 0.3526100389194443, null, 0.35022071942550836, 0.3833221014449805, null], \"y\": [1.0, 0.0, null, 0.06127490735002531, 0.13359437096827784, null, 0.06127490735002531, 0.09650302407543368, null], \"type\": \"scatter\", \"uid\": \"242eaa70-997e-11e8-b1d2-9a5fd3dcadb7\"}, {\"hoverinfo\": \"none\", \"line\": {\"color\": \"rgb(0, 0, 0)\", \"width\": 1}, \"mode\": \"lines\", \"x\": [1.0, 0.66, null, 0.6806532023433265, 0.6835549327328607, null, 0.6806532023433265, 0.7140012524011855, null], \"y\": [1.0, 0.0, null, 0.06074471277448944, 0.13299554373343975, null, 0.06074471277448944, 0.09511088313140172, null], \"type\": \"scatter\", \"uid\": \"242eaa71-997e-11e8-b2b4-9a5fd3dcadb7\"}, {\"hoverinfo\": \"none\", \"line\": {\"color\": \"rgb(0, 0, 0)\", \"width\": 1}, \"mode\": \"lines\", \"x\": [0.33, 0.66, null, 0.6221212121212122, 0.5888794484132436, null, 0.6221212121212122, 0.5888794484132436, null], \"y\": [0.0, 0.0, null, 0.0, -0.034740981058275576, null, 0.0, 0.034740981058275576, null], \"type\": \"scatter\", \"uid\": \"242eaa72-997e-11e8-b148-9a5fd3dcadb7\"}, {\"hoverinfo\": \"none\", \"line\": {\"color\": \"rgb(0, 0, 0)\", \"width\": 1}, \"mode\": \"lines\", \"x\": [0.66, 1.0, null, 0.9621212121212122, 0.9288794484132434, null, 0.9621212121212122, 0.9288794484132434, null], \"y\": [0.0, 0.0, null, 0.0, -0.034740981058275576, null, 0.0, 0.034740981058275576, null], \"type\": \"scatter\", \"uid\": \"242eaa73-997e-11e8-a009-9a5fd3dcadb7\"}, {\"hoverinfo\": \"none\", \"marker\": {\"color\": \"rgb(0, 255, 0)\", \"line\": {\"color\": \"rgb(0, 0, 0)\", \"width\": 1}, \"size\": 20}, \"mode\": \"markers+text\", \"text\": [\"0\"], \"textfont\": {\"color\": \"rgb(0, 0, 0)\"}, \"textposition\": \"middle center\", \"x\": [0.0], \"y\": [0.5], \"type\": \"scatter\", \"uid\": \"242eaa74-997e-11e8-b62b-9a5fd3dcadb7\"}, {\"hoverinfo\": \"none\", \"marker\": {\"color\": \"rgb(255, 255, 255)\", \"line\": {\"color\": \"rgb(0, 0, 0)\", \"width\": 1}, \"size\": 20}, \"mode\": \"markers+text\", \"text\": [\"1\"], \"textfont\": {\"color\": \"rgb(0, 0, 0)\"}, \"textposition\": \"middle center\", \"x\": [0.33], \"y\": [1.0], \"type\": \"scatter\", \"uid\": \"242eaa75-997e-11e8-9d67-9a5fd3dcadb7\"}, {\"hoverinfo\": \"none\", \"marker\": {\"color\": \"rgb(255, 255, 255)\", \"line\": {\"color\": \"rgb(0, 0, 0)\", \"width\": 1}, \"size\": 20}, \"mode\": \"markers+text\", \"text\": [\"2\"], \"textfont\": {\"color\": \"rgb(0, 0, 0)\"}, \"textposition\": \"middle center\", \"x\": [0.66], \"y\": [1.0], \"type\": \"scatter\", \"uid\": \"242eaa76-997e-11e8-a99a-9a5fd3dcadb7\"}, {\"hoverinfo\": \"none\", \"marker\": {\"color\": \"rgb(255, 255, 255)\", \"line\": {\"color\": \"rgb(0, 0, 0)\", \"width\": 1}, \"size\": 20}, \"mode\": \"markers+text\", \"text\": [\"3\"], \"textfont\": {\"color\": \"rgb(0, 0, 0)\"}, \"textposition\": \"middle center\", \"x\": [1.0], \"y\": [1.0], \"type\": \"scatter\", \"uid\": \"242eaa77-997e-11e8-b4f2-9a5fd3dcadb7\"}, {\"hoverinfo\": \"none\", \"marker\": {\"color\": \"rgb(255, 255, 255)\", \"line\": {\"color\": \"rgb(0, 0, 0)\", \"width\": 1}, \"size\": 20}, \"mode\": \"markers+text\", \"text\": [\"4\"], \"textfont\": {\"color\": \"rgb(0, 0, 0)\"}, \"textposition\": \"middle center\", \"x\": [0.33], \"y\": [0.0], \"type\": \"scatter\", \"uid\": \"242eaa78-997e-11e8-870f-9a5fd3dcadb7\"}, {\"hoverinfo\": \"none\", \"marker\": {\"color\": \"rgb(255, 255, 255)\", \"line\": {\"color\": \"rgb(0, 0, 0)\", \"width\": 1}, \"size\": 20}, \"mode\": \"markers+text\", \"text\": [\"5\"], \"textfont\": {\"color\": \"rgb(0, 0, 0)\"}, \"textposition\": \"middle center\", \"x\": [0.66], \"y\": [0.0], \"type\": \"scatter\", \"uid\": \"242eaa79-997e-11e8-8342-9a5fd3dcadb7\"}, {\"hoverinfo\": \"none\", \"marker\": {\"color\": \"rgb(255, 255, 255)\", \"line\": {\"color\": \"rgb(0, 0, 0)\", \"width\": 1}, \"size\": 20}, \"mode\": \"markers+text\", \"text\": [\"6\"], \"textfont\": {\"color\": \"rgb(0, 0, 0)\"}, \"textposition\": \"middle center\", \"x\": [1.0], \"y\": [0.0], \"type\": \"scatter\", \"uid\": \"242eaa7a-997e-11e8-beea-9a5fd3dcadb7\"}],\n",
       "            {\"height\": 256.0, \"margin\": {\"b\": 0, \"l\": 0, \"r\": 0, \"t\": 0}, \"showlegend\": false, \"sliders\": [{\"currentvalue\": {\"visible\": false}, \"steps\": [{\"args\": [[0], {\"frame\": {\"redraw\": false}, \"mode\": \"immediate\"}], \"label\": \"\", \"method\": \"animate\"}, {\"args\": [[1], {\"frame\": {\"redraw\": false}, \"mode\": \"immediate\"}], \"label\": \"\", \"method\": \"animate\"}, {\"args\": [[2], {\"frame\": {\"redraw\": false}, \"mode\": \"immediate\"}], \"label\": \"\", \"method\": \"animate\"}, {\"args\": [[3], {\"frame\": {\"redraw\": false}, \"mode\": \"immediate\"}], \"label\": \"\", \"method\": \"animate\"}, {\"args\": [[4], {\"frame\": {\"redraw\": false}, \"mode\": \"immediate\"}], \"label\": \"\", \"method\": \"animate\"}, {\"args\": [[5], {\"frame\": {\"redraw\": false}, \"mode\": \"immediate\"}], \"label\": \"\", \"method\": \"animate\"}, {\"args\": [[6], {\"frame\": {\"redraw\": false}, \"mode\": \"immediate\"}], \"label\": \"\", \"method\": \"animate\"}]}], \"updatemenus\": [{\"buttons\": [{\"args\": [null, {\"frame\": {\"redraw\": false}, \"fromcurrent\": true}], \"label\": \"Play\", \"method\": \"animate\"}, {\"args\": [[null], {\"frame\": {\"redraw\": false}, \"mode\": \"immediate\"}], \"label\": \"Pause\", \"method\": \"animate\"}], \"showactive\": true, \"type\": \"buttons\"}], \"width\": 408.0, \"xaxis\": {\"showgrid\": false, \"showticklabels\": false, \"zeroline\": false}, \"yaxis\": {\"showgrid\": false, \"showticklabels\": false, \"zeroline\": false}},\n",
       "            {\"showLink\": false, \"linkText\": \"Export to plot.ly\", \"displayModeBar\": false}\n",
       "        ).then(function () {return Plotly.addFrames('b9009ba5-7b04-4932-9bcf-9808262b685c',[{\"data\": [{\"hoverinfo\": \"none\", \"line\": {\"color\": \"rgb(0, 0, 0)\", \"width\": 1}, \"mode\": \"lines\", \"x\": [0.0, 0.33, null, 0.3003062713421305, 0.2855225877733855, null, 0.3003062713421305, 0.2629725579755741, null], \"y\": [0.5, 1.0, null, 0.9550095020335311, 0.8882926689752846, null, 0.9550095020335311, 0.9427605821595028, null], \"type\": \"scatter\"}, {\"hoverinfo\": \"none\", \"line\": {\"color\": \"rgb(0, 0, 0)\", \"width\": 1}, \"mode\": \"lines\", \"x\": [0.0, 0.33, null, 0.3003062713421305, 0.2629725579755741, null, 0.3003062713421305, 0.2855225877733855, null], \"y\": [0.5, 0.0, null, 0.04499049796646893, 0.0572394178404972, null, 0.04499049796646893, 0.11170733102471547, null], \"type\": \"scatter\"}, {\"hoverinfo\": \"none\", \"line\": {\"color\": \"rgb(0, 0, 0)\", \"width\": 1}, \"mode\": \"lines\", \"x\": [0.33, 0.66, null, 0.6221212121212122, 0.5888794484132436, null, 0.6221212121212122, 0.5888794484132436, null], \"y\": [1.0, 1.0, null, 1.0, 0.9652590189417244, null, 1.0, 1.0347409810582755, null], \"type\": \"scatter\"}, {\"hoverinfo\": \"none\", \"line\": {\"color\": \"rgb(0, 0, 0)\", \"width\": 1}, \"mode\": \"lines\", \"x\": [0.66, 1.0, null, 0.9621212121212122, 0.9288794484132434, null, 0.9621212121212122, 0.9288794484132434, null], \"y\": [1.0, 1.0, null, 1.0, 0.9652590189417244, null, 1.0, 1.0347409810582755, null], \"type\": \"scatter\"}, {\"hoverinfo\": \"none\", \"line\": {\"color\": \"rgb(0, 0, 0)\", \"width\": 1}, \"mode\": \"lines\", \"x\": [0.66, 0.33, null, 0.35022071942550836, 0.3526100389194443, null, 0.35022071942550836, 0.3833221014449805, null], \"y\": [1.0, 0.0, null, 0.06127490735002531, 0.13359437096827784, null, 0.06127490735002531, 0.09650302407543368, null], \"type\": \"scatter\"}, {\"hoverinfo\": \"none\", \"line\": {\"color\": \"rgb(0, 0, 0)\", \"width\": 1}, \"mode\": \"lines\", \"x\": [1.0, 0.66, null, 0.6806532023433265, 0.6835549327328607, null, 0.6806532023433265, 0.7140012524011855, null], \"y\": [1.0, 0.0, null, 0.06074471277448944, 0.13299554373343975, null, 0.06074471277448944, 0.09511088313140172, null], \"type\": \"scatter\"}, {\"hoverinfo\": \"none\", \"line\": {\"color\": \"rgb(0, 0, 0)\", \"width\": 1}, \"mode\": \"lines\", \"x\": [0.33, 0.66, null, 0.6221212121212122, 0.5888794484132436, null, 0.6221212121212122, 0.5888794484132436, null], \"y\": [0.0, 0.0, null, 0.0, -0.034740981058275576, null, 0.0, 0.034740981058275576, null], \"type\": \"scatter\"}, {\"hoverinfo\": \"none\", \"line\": {\"color\": \"rgb(0, 0, 0)\", \"width\": 1}, \"mode\": \"lines\", \"x\": [0.66, 1.0, null, 0.9621212121212122, 0.9288794484132434, null, 0.9621212121212122, 0.9288794484132434, null], \"y\": [0.0, 0.0, null, 0.0, -0.034740981058275576, null, 0.0, 0.034740981058275576, null], \"type\": \"scatter\"}, {\"hoverinfo\": \"none\", \"marker\": {\"color\": \"rgb(0, 255, 0)\", \"line\": {\"color\": \"rgb(0, 0, 0)\", \"width\": 1}, \"size\": 20}, \"mode\": \"markers+text\", \"text\": [\"0\"], \"textfont\": {\"color\": \"rgb(0, 0, 0)\"}, \"textposition\": \"middle center\", \"x\": [0.0], \"y\": [0.5], \"type\": \"scatter\"}, {\"hoverinfo\": \"none\", \"marker\": {\"color\": \"rgb(255, 255, 255)\", \"line\": {\"color\": \"rgb(0, 0, 0)\", \"width\": 1}, \"size\": 20}, \"mode\": \"markers+text\", \"text\": [\"1\"], \"textfont\": {\"color\": \"rgb(0, 0, 0)\"}, \"textposition\": \"middle center\", \"x\": [0.33], \"y\": [1.0], \"type\": \"scatter\"}, {\"hoverinfo\": \"none\", \"marker\": {\"color\": \"rgb(255, 255, 255)\", \"line\": {\"color\": \"rgb(0, 0, 0)\", \"width\": 1}, \"size\": 20}, \"mode\": \"markers+text\", \"text\": [\"2\"], \"textfont\": {\"color\": \"rgb(0, 0, 0)\"}, \"textposition\": \"middle center\", \"x\": [0.66], \"y\": [1.0], \"type\": \"scatter\"}, {\"hoverinfo\": \"none\", \"marker\": {\"color\": \"rgb(255, 255, 255)\", \"line\": {\"color\": \"rgb(0, 0, 0)\", \"width\": 1}, \"size\": 20}, \"mode\": \"markers+text\", \"text\": [\"3\"], \"textfont\": {\"color\": \"rgb(0, 0, 0)\"}, \"textposition\": \"middle center\", \"x\": [1.0], \"y\": [1.0], \"type\": \"scatter\"}, {\"hoverinfo\": \"none\", \"marker\": {\"color\": \"rgb(255, 255, 255)\", \"line\": {\"color\": \"rgb(0, 0, 0)\", \"width\": 1}, \"size\": 20}, \"mode\": \"markers+text\", \"text\": [\"4\"], \"textfont\": {\"color\": \"rgb(0, 0, 0)\"}, \"textposition\": \"middle center\", \"x\": [0.33], \"y\": [0.0], \"type\": \"scatter\"}, {\"hoverinfo\": \"none\", \"marker\": {\"color\": \"rgb(255, 255, 255)\", \"line\": {\"color\": \"rgb(0, 0, 0)\", \"width\": 1}, \"size\": 20}, \"mode\": \"markers+text\", \"text\": [\"5\"], \"textfont\": {\"color\": \"rgb(0, 0, 0)\"}, \"textposition\": \"middle center\", \"x\": [0.66], \"y\": [0.0], \"type\": \"scatter\"}, {\"hoverinfo\": \"none\", \"marker\": {\"color\": \"rgb(255, 255, 255)\", \"line\": {\"color\": \"rgb(0, 0, 0)\", \"width\": 1}, \"size\": 20}, \"mode\": \"markers+text\", \"text\": [\"6\"], \"textfont\": {\"color\": \"rgb(0, 0, 0)\"}, \"textposition\": \"middle center\", \"x\": [1.0], \"y\": [0.0], \"type\": \"scatter\"}], \"name\": \"0\"}, {\"data\": [{\"hoverinfo\": \"none\", \"line\": {\"color\": \"rgb(0, 0, 0)\", \"width\": 1}, \"mode\": \"lines\", \"x\": [0.0, 0.33, null, 0.3003062713421305, 0.2855225877733855, null, 0.3003062713421305, 0.2629725579755741, null], \"y\": [0.5, 1.0, null, 0.9550095020335311, 0.8882926689752846, null, 0.9550095020335311, 0.9427605821595028, null], \"type\": \"scatter\"}, {\"hoverinfo\": \"none\", \"line\": {\"color\": \"rgb(0, 0, 0)\", \"width\": 1}, \"mode\": \"lines\", \"x\": [0.0, 0.33, null, 0.3003062713421305, 0.2629725579755741, null, 0.3003062713421305, 0.2855225877733855, null], \"y\": [0.5, 0.0, null, 0.04499049796646893, 0.0572394178404972, null, 0.04499049796646893, 0.11170733102471547, null], \"type\": \"scatter\"}, {\"hoverinfo\": \"none\", \"line\": {\"color\": \"rgb(0, 0, 0)\", \"width\": 1}, \"mode\": \"lines\", \"x\": [0.33, 0.66, null, 0.6221212121212122, 0.5888794484132436, null, 0.6221212121212122, 0.5888794484132436, null], \"y\": [1.0, 1.0, null, 1.0, 0.9652590189417244, null, 1.0, 1.0347409810582755, null], \"type\": \"scatter\"}, {\"hoverinfo\": \"none\", \"line\": {\"color\": \"rgb(0, 0, 0)\", \"width\": 1}, \"mode\": \"lines\", \"x\": [0.66, 1.0, null, 0.9621212121212122, 0.9288794484132434, null, 0.9621212121212122, 0.9288794484132434, null], \"y\": [1.0, 1.0, null, 1.0, 0.9652590189417244, null, 1.0, 1.0347409810582755, null], \"type\": \"scatter\"}, {\"hoverinfo\": \"none\", \"line\": {\"color\": \"rgb(0, 0, 0)\", \"width\": 1}, \"mode\": \"lines\", \"x\": [0.66, 0.33, null, 0.35022071942550836, 0.3526100389194443, null, 0.35022071942550836, 0.3833221014449805, null], \"y\": [1.0, 0.0, null, 0.06127490735002531, 0.13359437096827784, null, 0.06127490735002531, 0.09650302407543368, null], \"type\": \"scatter\"}, {\"hoverinfo\": \"none\", \"line\": {\"color\": \"rgb(0, 0, 0)\", \"width\": 1}, \"mode\": \"lines\", \"x\": [1.0, 0.66, null, 0.6806532023433265, 0.6835549327328607, null, 0.6806532023433265, 0.7140012524011855, null], \"y\": [1.0, 0.0, null, 0.06074471277448944, 0.13299554373343975, null, 0.06074471277448944, 0.09511088313140172, null], \"type\": \"scatter\"}, {\"hoverinfo\": \"none\", \"line\": {\"color\": \"rgb(0, 0, 0)\", \"width\": 1}, \"mode\": \"lines\", \"x\": [0.33, 0.66, null, 0.6221212121212122, 0.5888794484132436, null, 0.6221212121212122, 0.5888794484132436, null], \"y\": [0.0, 0.0, null, 0.0, -0.034740981058275576, null, 0.0, 0.034740981058275576, null], \"type\": \"scatter\"}, {\"hoverinfo\": \"none\", \"line\": {\"color\": \"rgb(0, 0, 0)\", \"width\": 1}, \"mode\": \"lines\", \"x\": [0.66, 1.0, null, 0.9621212121212122, 0.9288794484132434, null, 0.9621212121212122, 0.9288794484132434, null], \"y\": [0.0, 0.0, null, 0.0, -0.034740981058275576, null, 0.0, 0.034740981058275576, null], \"type\": \"scatter\"}, {\"hoverinfo\": \"none\", \"marker\": {\"color\": \"rgb(0, 255, 0)\", \"line\": {\"color\": \"rgb(0, 0, 0)\", \"width\": 1}, \"size\": 20}, \"mode\": \"markers+text\", \"text\": [\"0\"], \"textfont\": {\"color\": \"rgb(0, 0, 0)\"}, \"textposition\": \"middle center\", \"x\": [0.0], \"y\": [0.5], \"type\": \"scatter\"}, {\"hoverinfo\": \"none\", \"marker\": {\"color\": \"rgb(0, 255, 0)\", \"line\": {\"color\": \"rgb(0, 0, 0)\", \"width\": 1}, \"size\": 20}, \"mode\": \"markers+text\", \"text\": [\"1\"], \"textfont\": {\"color\": \"rgb(0, 0, 0)\"}, \"textposition\": \"middle center\", \"x\": [0.33], \"y\": [1.0], \"type\": \"scatter\"}, {\"hoverinfo\": \"none\", \"marker\": {\"color\": \"rgb(255, 255, 255)\", \"line\": {\"color\": \"rgb(0, 0, 0)\", \"width\": 1}, \"size\": 20}, \"mode\": \"markers+text\", \"text\": [\"2\"], \"textfont\": {\"color\": \"rgb(0, 0, 0)\"}, \"textposition\": \"middle center\", \"x\": [0.66], \"y\": [1.0], \"type\": \"scatter\"}, {\"hoverinfo\": \"none\", \"marker\": {\"color\": \"rgb(255, 255, 255)\", \"line\": {\"color\": \"rgb(0, 0, 0)\", \"width\": 1}, \"size\": 20}, \"mode\": \"markers+text\", \"text\": [\"3\"], \"textfont\": {\"color\": \"rgb(0, 0, 0)\"}, \"textposition\": \"middle center\", \"x\": [1.0], \"y\": [1.0], \"type\": \"scatter\"}, {\"hoverinfo\": \"none\", \"marker\": {\"color\": \"rgb(255, 255, 255)\", \"line\": {\"color\": \"rgb(0, 0, 0)\", \"width\": 1}, \"size\": 20}, \"mode\": \"markers+text\", \"text\": [\"4\"], \"textfont\": {\"color\": \"rgb(0, 0, 0)\"}, \"textposition\": \"middle center\", \"x\": [0.33], \"y\": [0.0], \"type\": \"scatter\"}, {\"hoverinfo\": \"none\", \"marker\": {\"color\": \"rgb(255, 255, 255)\", \"line\": {\"color\": \"rgb(0, 0, 0)\", \"width\": 1}, \"size\": 20}, \"mode\": \"markers+text\", \"text\": [\"5\"], \"textfont\": {\"color\": \"rgb(0, 0, 0)\"}, \"textposition\": \"middle center\", \"x\": [0.66], \"y\": [0.0], \"type\": \"scatter\"}, {\"hoverinfo\": \"none\", \"marker\": {\"color\": \"rgb(255, 255, 255)\", \"line\": {\"color\": \"rgb(0, 0, 0)\", \"width\": 1}, \"size\": 20}, \"mode\": \"markers+text\", \"text\": [\"6\"], \"textfont\": {\"color\": \"rgb(0, 0, 0)\"}, \"textposition\": \"middle center\", \"x\": [1.0], \"y\": [0.0], \"type\": \"scatter\"}], \"name\": \"1\"}, {\"data\": [{\"hoverinfo\": \"none\", \"line\": {\"color\": \"rgb(0, 0, 0)\", \"width\": 1}, \"mode\": \"lines\", \"x\": [0.0, 0.33, null, 0.3003062713421305, 0.2855225877733855, null, 0.3003062713421305, 0.2629725579755741, null], \"y\": [0.5, 1.0, null, 0.9550095020335311, 0.8882926689752846, null, 0.9550095020335311, 0.9427605821595028, null], \"type\": \"scatter\"}, {\"hoverinfo\": \"none\", \"line\": {\"color\": \"rgb(0, 0, 0)\", \"width\": 1}, \"mode\": \"lines\", \"x\": [0.0, 0.33, null, 0.3003062713421305, 0.2629725579755741, null, 0.3003062713421305, 0.2855225877733855, null], \"y\": [0.5, 0.0, null, 0.04499049796646893, 0.0572394178404972, null, 0.04499049796646893, 0.11170733102471547, null], \"type\": \"scatter\"}, {\"hoverinfo\": \"none\", \"line\": {\"color\": \"rgb(0, 0, 0)\", \"width\": 1}, \"mode\": \"lines\", \"x\": [0.33, 0.66, null, 0.6221212121212122, 0.5888794484132436, null, 0.6221212121212122, 0.5888794484132436, null], \"y\": [1.0, 1.0, null, 1.0, 0.9652590189417244, null, 1.0, 1.0347409810582755, null], \"type\": \"scatter\"}, {\"hoverinfo\": \"none\", \"line\": {\"color\": \"rgb(0, 0, 0)\", \"width\": 1}, \"mode\": \"lines\", \"x\": [0.66, 1.0, null, 0.9621212121212122, 0.9288794484132434, null, 0.9621212121212122, 0.9288794484132434, null], \"y\": [1.0, 1.0, null, 1.0, 0.9652590189417244, null, 1.0, 1.0347409810582755, null], \"type\": \"scatter\"}, {\"hoverinfo\": \"none\", \"line\": {\"color\": \"rgb(0, 0, 0)\", \"width\": 1}, \"mode\": \"lines\", \"x\": [0.66, 0.33, null, 0.35022071942550836, 0.3526100389194443, null, 0.35022071942550836, 0.3833221014449805, null], \"y\": [1.0, 0.0, null, 0.06127490735002531, 0.13359437096827784, null, 0.06127490735002531, 0.09650302407543368, null], \"type\": \"scatter\"}, {\"hoverinfo\": \"none\", \"line\": {\"color\": \"rgb(0, 0, 0)\", \"width\": 1}, \"mode\": \"lines\", \"x\": [1.0, 0.66, null, 0.6806532023433265, 0.6835549327328607, null, 0.6806532023433265, 0.7140012524011855, null], \"y\": [1.0, 0.0, null, 0.06074471277448944, 0.13299554373343975, null, 0.06074471277448944, 0.09511088313140172, null], \"type\": \"scatter\"}, {\"hoverinfo\": \"none\", \"line\": {\"color\": \"rgb(0, 0, 0)\", \"width\": 1}, \"mode\": \"lines\", \"x\": [0.33, 0.66, null, 0.6221212121212122, 0.5888794484132436, null, 0.6221212121212122, 0.5888794484132436, null], \"y\": [0.0, 0.0, null, 0.0, -0.034740981058275576, null, 0.0, 0.034740981058275576, null], \"type\": \"scatter\"}, {\"hoverinfo\": \"none\", \"line\": {\"color\": \"rgb(0, 0, 0)\", \"width\": 1}, \"mode\": \"lines\", \"x\": [0.66, 1.0, null, 0.9621212121212122, 0.9288794484132434, null, 0.9621212121212122, 0.9288794484132434, null], \"y\": [0.0, 0.0, null, 0.0, -0.034740981058275576, null, 0.0, 0.034740981058275576, null], \"type\": \"scatter\"}, {\"hoverinfo\": \"none\", \"marker\": {\"color\": \"rgb(0, 255, 0)\", \"line\": {\"color\": \"rgb(0, 0, 0)\", \"width\": 1}, \"size\": 20}, \"mode\": \"markers+text\", \"text\": [\"0\"], \"textfont\": {\"color\": \"rgb(0, 0, 0)\"}, \"textposition\": \"middle center\", \"x\": [0.0], \"y\": [0.5], \"type\": \"scatter\"}, {\"hoverinfo\": \"none\", \"marker\": {\"color\": \"rgb(0, 255, 0)\", \"line\": {\"color\": \"rgb(0, 0, 0)\", \"width\": 1}, \"size\": 20}, \"mode\": \"markers+text\", \"text\": [\"1\"], \"textfont\": {\"color\": \"rgb(0, 0, 0)\"}, \"textposition\": \"middle center\", \"x\": [0.33], \"y\": [1.0], \"type\": \"scatter\"}, {\"hoverinfo\": \"none\", \"marker\": {\"color\": \"rgb(255, 255, 255)\", \"line\": {\"color\": \"rgb(0, 0, 0)\", \"width\": 1}, \"size\": 20}, \"mode\": \"markers+text\", \"text\": [\"2\"], \"textfont\": {\"color\": \"rgb(0, 0, 0)\"}, \"textposition\": \"middle center\", \"x\": [0.66], \"y\": [1.0], \"type\": \"scatter\"}, {\"hoverinfo\": \"none\", \"marker\": {\"color\": \"rgb(255, 255, 255)\", \"line\": {\"color\": \"rgb(0, 0, 0)\", \"width\": 1}, \"size\": 20}, \"mode\": \"markers+text\", \"text\": [\"3\"], \"textfont\": {\"color\": \"rgb(0, 0, 0)\"}, \"textposition\": \"middle center\", \"x\": [1.0], \"y\": [1.0], \"type\": \"scatter\"}, {\"hoverinfo\": \"none\", \"marker\": {\"color\": \"rgb(0, 255, 0)\", \"line\": {\"color\": \"rgb(0, 0, 0)\", \"width\": 1}, \"size\": 20}, \"mode\": \"markers+text\", \"text\": [\"4\"], \"textfont\": {\"color\": \"rgb(0, 0, 0)\"}, \"textposition\": \"middle center\", \"x\": [0.33], \"y\": [0.0], \"type\": \"scatter\"}, {\"hoverinfo\": \"none\", \"marker\": {\"color\": \"rgb(255, 255, 255)\", \"line\": {\"color\": \"rgb(0, 0, 0)\", \"width\": 1}, \"size\": 20}, \"mode\": \"markers+text\", \"text\": [\"5\"], \"textfont\": {\"color\": \"rgb(0, 0, 0)\"}, \"textposition\": \"middle center\", \"x\": [0.66], \"y\": [0.0], \"type\": \"scatter\"}, {\"hoverinfo\": \"none\", \"marker\": {\"color\": \"rgb(255, 255, 255)\", \"line\": {\"color\": \"rgb(0, 0, 0)\", \"width\": 1}, \"size\": 20}, \"mode\": \"markers+text\", \"text\": [\"6\"], \"textfont\": {\"color\": \"rgb(0, 0, 0)\"}, \"textposition\": \"middle center\", \"x\": [1.0], \"y\": [0.0], \"type\": \"scatter\"}], \"name\": \"2\"}, {\"data\": [{\"hoverinfo\": \"none\", \"line\": {\"color\": \"rgb(0, 0, 0)\", \"width\": 1}, \"mode\": \"lines\", \"x\": [0.0, 0.33, null, 0.3003062713421305, 0.2855225877733855, null, 0.3003062713421305, 0.2629725579755741, null], \"y\": [0.5, 1.0, null, 0.9550095020335311, 0.8882926689752846, null, 0.9550095020335311, 0.9427605821595028, null], \"type\": \"scatter\"}, {\"hoverinfo\": \"none\", \"line\": {\"color\": \"rgb(0, 0, 0)\", \"width\": 1}, \"mode\": \"lines\", \"x\": [0.0, 0.33, null, 0.3003062713421305, 0.2629725579755741, null, 0.3003062713421305, 0.2855225877733855, null], \"y\": [0.5, 0.0, null, 0.04499049796646893, 0.0572394178404972, null, 0.04499049796646893, 0.11170733102471547, null], \"type\": \"scatter\"}, {\"hoverinfo\": \"none\", \"line\": {\"color\": \"rgb(0, 0, 0)\", \"width\": 1}, \"mode\": \"lines\", \"x\": [0.33, 0.66, null, 0.6221212121212122, 0.5888794484132436, null, 0.6221212121212122, 0.5888794484132436, null], \"y\": [1.0, 1.0, null, 1.0, 0.9652590189417244, null, 1.0, 1.0347409810582755, null], \"type\": \"scatter\"}, {\"hoverinfo\": \"none\", \"line\": {\"color\": \"rgb(0, 0, 0)\", \"width\": 1}, \"mode\": \"lines\", \"x\": [0.66, 1.0, null, 0.9621212121212122, 0.9288794484132434, null, 0.9621212121212122, 0.9288794484132434, null], \"y\": [1.0, 1.0, null, 1.0, 0.9652590189417244, null, 1.0, 1.0347409810582755, null], \"type\": \"scatter\"}, {\"hoverinfo\": \"none\", \"line\": {\"color\": \"rgb(0, 0, 0)\", \"width\": 1}, \"mode\": \"lines\", \"x\": [0.66, 0.33, null, 0.35022071942550836, 0.3526100389194443, null, 0.35022071942550836, 0.3833221014449805, null], \"y\": [1.0, 0.0, null, 0.06127490735002531, 0.13359437096827784, null, 0.06127490735002531, 0.09650302407543368, null], \"type\": \"scatter\"}, {\"hoverinfo\": \"none\", \"line\": {\"color\": \"rgb(0, 0, 0)\", \"width\": 1}, \"mode\": \"lines\", \"x\": [1.0, 0.66, null, 0.6806532023433265, 0.6835549327328607, null, 0.6806532023433265, 0.7140012524011855, null], \"y\": [1.0, 0.0, null, 0.06074471277448944, 0.13299554373343975, null, 0.06074471277448944, 0.09511088313140172, null], \"type\": \"scatter\"}, {\"hoverinfo\": \"none\", \"line\": {\"color\": \"rgb(0, 0, 0)\", \"width\": 1}, \"mode\": \"lines\", \"x\": [0.33, 0.66, null, 0.6221212121212122, 0.5888794484132436, null, 0.6221212121212122, 0.5888794484132436, null], \"y\": [0.0, 0.0, null, 0.0, -0.034740981058275576, null, 0.0, 0.034740981058275576, null], \"type\": \"scatter\"}, {\"hoverinfo\": \"none\", \"line\": {\"color\": \"rgb(0, 0, 0)\", \"width\": 1}, \"mode\": \"lines\", \"x\": [0.66, 1.0, null, 0.9621212121212122, 0.9288794484132434, null, 0.9621212121212122, 0.9288794484132434, null], \"y\": [0.0, 0.0, null, 0.0, -0.034740981058275576, null, 0.0, 0.034740981058275576, null], \"type\": \"scatter\"}, {\"hoverinfo\": \"none\", \"marker\": {\"color\": \"rgb(0, 255, 0)\", \"line\": {\"color\": \"rgb(0, 0, 0)\", \"width\": 1}, \"size\": 20}, \"mode\": \"markers+text\", \"text\": [\"0\"], \"textfont\": {\"color\": \"rgb(0, 0, 0)\"}, \"textposition\": \"middle center\", \"x\": [0.0], \"y\": [0.5], \"type\": \"scatter\"}, {\"hoverinfo\": \"none\", \"marker\": {\"color\": \"rgb(0, 255, 0)\", \"line\": {\"color\": \"rgb(0, 0, 0)\", \"width\": 1}, \"size\": 20}, \"mode\": \"markers+text\", \"text\": [\"1\"], \"textfont\": {\"color\": \"rgb(0, 0, 0)\"}, \"textposition\": \"middle center\", \"x\": [0.33], \"y\": [1.0], \"type\": \"scatter\"}, {\"hoverinfo\": \"none\", \"marker\": {\"color\": \"rgb(255, 255, 255)\", \"line\": {\"color\": \"rgb(0, 0, 0)\", \"width\": 1}, \"size\": 20}, \"mode\": \"markers+text\", \"text\": [\"2\"], \"textfont\": {\"color\": \"rgb(0, 0, 0)\"}, \"textposition\": \"middle center\", \"x\": [0.66], \"y\": [1.0], \"type\": \"scatter\"}, {\"hoverinfo\": \"none\", \"marker\": {\"color\": \"rgb(255, 255, 255)\", \"line\": {\"color\": \"rgb(0, 0, 0)\", \"width\": 1}, \"size\": 20}, \"mode\": \"markers+text\", \"text\": [\"3\"], \"textfont\": {\"color\": \"rgb(0, 0, 0)\"}, \"textposition\": \"middle center\", \"x\": [1.0], \"y\": [1.0], \"type\": \"scatter\"}, {\"hoverinfo\": \"none\", \"marker\": {\"color\": \"rgb(0, 255, 0)\", \"line\": {\"color\": \"rgb(0, 0, 0)\", \"width\": 1}, \"size\": 20}, \"mode\": \"markers+text\", \"text\": [\"4\"], \"textfont\": {\"color\": \"rgb(0, 0, 0)\"}, \"textposition\": \"middle center\", \"x\": [0.33], \"y\": [0.0], \"type\": \"scatter\"}, {\"hoverinfo\": \"none\", \"marker\": {\"color\": \"rgb(0, 255, 0)\", \"line\": {\"color\": \"rgb(0, 0, 0)\", \"width\": 1}, \"size\": 20}, \"mode\": \"markers+text\", \"text\": [\"5\"], \"textfont\": {\"color\": \"rgb(0, 0, 0)\"}, \"textposition\": \"middle center\", \"x\": [0.66], \"y\": [0.0], \"type\": \"scatter\"}, {\"hoverinfo\": \"none\", \"marker\": {\"color\": \"rgb(255, 255, 255)\", \"line\": {\"color\": \"rgb(0, 0, 0)\", \"width\": 1}, \"size\": 20}, \"mode\": \"markers+text\", \"text\": [\"6\"], \"textfont\": {\"color\": \"rgb(0, 0, 0)\"}, \"textposition\": \"middle center\", \"x\": [1.0], \"y\": [0.0], \"type\": \"scatter\"}], \"name\": \"3\"}, {\"data\": [{\"hoverinfo\": \"none\", \"line\": {\"color\": \"rgb(0, 0, 0)\", \"width\": 1}, \"mode\": \"lines\", \"x\": [0.0, 0.33, null, 0.3003062713421305, 0.2855225877733855, null, 0.3003062713421305, 0.2629725579755741, null], \"y\": [0.5, 1.0, null, 0.9550095020335311, 0.8882926689752846, null, 0.9550095020335311, 0.9427605821595028, null], \"type\": \"scatter\"}, {\"hoverinfo\": \"none\", \"line\": {\"color\": \"rgb(0, 0, 0)\", \"width\": 1}, \"mode\": \"lines\", \"x\": [0.0, 0.33, null, 0.3003062713421305, 0.2629725579755741, null, 0.3003062713421305, 0.2855225877733855, null], \"y\": [0.5, 0.0, null, 0.04499049796646893, 0.0572394178404972, null, 0.04499049796646893, 0.11170733102471547, null], \"type\": \"scatter\"}, {\"hoverinfo\": \"none\", \"line\": {\"color\": \"rgb(0, 0, 0)\", \"width\": 1}, \"mode\": \"lines\", \"x\": [0.33, 0.66, null, 0.6221212121212122, 0.5888794484132436, null, 0.6221212121212122, 0.5888794484132436, null], \"y\": [1.0, 1.0, null, 1.0, 0.9652590189417244, null, 1.0, 1.0347409810582755, null], \"type\": \"scatter\"}, {\"hoverinfo\": \"none\", \"line\": {\"color\": \"rgb(0, 0, 0)\", \"width\": 1}, \"mode\": \"lines\", \"x\": [0.66, 1.0, null, 0.9621212121212122, 0.9288794484132434, null, 0.9621212121212122, 0.9288794484132434, null], \"y\": [1.0, 1.0, null, 1.0, 0.9652590189417244, null, 1.0, 1.0347409810582755, null], \"type\": \"scatter\"}, {\"hoverinfo\": \"none\", \"line\": {\"color\": \"rgb(0, 0, 0)\", \"width\": 1}, \"mode\": \"lines\", \"x\": [0.66, 0.33, null, 0.35022071942550836, 0.3526100389194443, null, 0.35022071942550836, 0.3833221014449805, null], \"y\": [1.0, 0.0, null, 0.06127490735002531, 0.13359437096827784, null, 0.06127490735002531, 0.09650302407543368, null], \"type\": \"scatter\"}, {\"hoverinfo\": \"none\", \"line\": {\"color\": \"rgb(0, 0, 0)\", \"width\": 1}, \"mode\": \"lines\", \"x\": [1.0, 0.66, null, 0.6806532023433265, 0.6835549327328607, null, 0.6806532023433265, 0.7140012524011855, null], \"y\": [1.0, 0.0, null, 0.06074471277448944, 0.13299554373343975, null, 0.06074471277448944, 0.09511088313140172, null], \"type\": \"scatter\"}, {\"hoverinfo\": \"none\", \"line\": {\"color\": \"rgb(0, 0, 0)\", \"width\": 1}, \"mode\": \"lines\", \"x\": [0.33, 0.66, null, 0.6221212121212122, 0.5888794484132436, null, 0.6221212121212122, 0.5888794484132436, null], \"y\": [0.0, 0.0, null, 0.0, -0.034740981058275576, null, 0.0, 0.034740981058275576, null], \"type\": \"scatter\"}, {\"hoverinfo\": \"none\", \"line\": {\"color\": \"rgb(0, 0, 0)\", \"width\": 1}, \"mode\": \"lines\", \"x\": [0.66, 1.0, null, 0.9621212121212122, 0.9288794484132434, null, 0.9621212121212122, 0.9288794484132434, null], \"y\": [0.0, 0.0, null, 0.0, -0.034740981058275576, null, 0.0, 0.034740981058275576, null], \"type\": \"scatter\"}, {\"hoverinfo\": \"none\", \"marker\": {\"color\": \"rgb(0, 255, 0)\", \"line\": {\"color\": \"rgb(0, 0, 0)\", \"width\": 1}, \"size\": 20}, \"mode\": \"markers+text\", \"text\": [\"0\"], \"textfont\": {\"color\": \"rgb(0, 0, 0)\"}, \"textposition\": \"middle center\", \"x\": [0.0], \"y\": [0.5], \"type\": \"scatter\"}, {\"hoverinfo\": \"none\", \"marker\": {\"color\": \"rgb(0, 255, 0)\", \"line\": {\"color\": \"rgb(0, 0, 0)\", \"width\": 1}, \"size\": 20}, \"mode\": \"markers+text\", \"text\": [\"1\"], \"textfont\": {\"color\": \"rgb(0, 0, 0)\"}, \"textposition\": \"middle center\", \"x\": [0.33], \"y\": [1.0], \"type\": \"scatter\"}, {\"hoverinfo\": \"none\", \"marker\": {\"color\": \"rgb(255, 255, 255)\", \"line\": {\"color\": \"rgb(0, 0, 0)\", \"width\": 1}, \"size\": 20}, \"mode\": \"markers+text\", \"text\": [\"2\"], \"textfont\": {\"color\": \"rgb(0, 0, 0)\"}, \"textposition\": \"middle center\", \"x\": [0.66], \"y\": [1.0], \"type\": \"scatter\"}, {\"hoverinfo\": \"none\", \"marker\": {\"color\": \"rgb(255, 255, 255)\", \"line\": {\"color\": \"rgb(0, 0, 0)\", \"width\": 1}, \"size\": 20}, \"mode\": \"markers+text\", \"text\": [\"3\"], \"textfont\": {\"color\": \"rgb(0, 0, 0)\"}, \"textposition\": \"middle center\", \"x\": [1.0], \"y\": [1.0], \"type\": \"scatter\"}, {\"hoverinfo\": \"none\", \"marker\": {\"color\": \"rgb(0, 255, 0)\", \"line\": {\"color\": \"rgb(0, 0, 0)\", \"width\": 1}, \"size\": 20}, \"mode\": \"markers+text\", \"text\": [\"4\"], \"textfont\": {\"color\": \"rgb(0, 0, 0)\"}, \"textposition\": \"middle center\", \"x\": [0.33], \"y\": [0.0], \"type\": \"scatter\"}, {\"hoverinfo\": \"none\", \"marker\": {\"color\": \"rgb(0, 255, 0)\", \"line\": {\"color\": \"rgb(0, 0, 0)\", \"width\": 1}, \"size\": 20}, \"mode\": \"markers+text\", \"text\": [\"5\"], \"textfont\": {\"color\": \"rgb(0, 0, 0)\"}, \"textposition\": \"middle center\", \"x\": [0.66], \"y\": [0.0], \"type\": \"scatter\"}, {\"hoverinfo\": \"none\", \"marker\": {\"color\": \"rgb(0, 255, 0)\", \"line\": {\"color\": \"rgb(0, 0, 0)\", \"width\": 1}, \"size\": 20}, \"mode\": \"markers+text\", \"text\": [\"6\"], \"textfont\": {\"color\": \"rgb(0, 0, 0)\"}, \"textposition\": \"middle center\", \"x\": [1.0], \"y\": [0.0], \"type\": \"scatter\"}], \"name\": \"4\"}, {\"data\": [{\"hoverinfo\": \"none\", \"line\": {\"color\": \"rgb(0, 0, 0)\", \"width\": 1}, \"mode\": \"lines\", \"x\": [0.0, 0.33, null, 0.3003062713421305, 0.2855225877733855, null, 0.3003062713421305, 0.2629725579755741, null], \"y\": [0.5, 1.0, null, 0.9550095020335311, 0.8882926689752846, null, 0.9550095020335311, 0.9427605821595028, null], \"type\": \"scatter\"}, {\"hoverinfo\": \"none\", \"line\": {\"color\": \"rgb(0, 0, 0)\", \"width\": 1}, \"mode\": \"lines\", \"x\": [0.0, 0.33, null, 0.3003062713421305, 0.2629725579755741, null, 0.3003062713421305, 0.2855225877733855, null], \"y\": [0.5, 0.0, null, 0.04499049796646893, 0.0572394178404972, null, 0.04499049796646893, 0.11170733102471547, null], \"type\": \"scatter\"}, {\"hoverinfo\": \"none\", \"line\": {\"color\": \"rgb(0, 0, 0)\", \"width\": 1}, \"mode\": \"lines\", \"x\": [0.33, 0.66, null, 0.6221212121212122, 0.5888794484132436, null, 0.6221212121212122, 0.5888794484132436, null], \"y\": [1.0, 1.0, null, 1.0, 0.9652590189417244, null, 1.0, 1.0347409810582755, null], \"type\": \"scatter\"}, {\"hoverinfo\": \"none\", \"line\": {\"color\": \"rgb(0, 0, 0)\", \"width\": 1}, \"mode\": \"lines\", \"x\": [0.66, 1.0, null, 0.9621212121212122, 0.9288794484132434, null, 0.9621212121212122, 0.9288794484132434, null], \"y\": [1.0, 1.0, null, 1.0, 0.9652590189417244, null, 1.0, 1.0347409810582755, null], \"type\": \"scatter\"}, {\"hoverinfo\": \"none\", \"line\": {\"color\": \"rgb(0, 0, 0)\", \"width\": 1}, \"mode\": \"lines\", \"x\": [0.66, 0.33, null, 0.35022071942550836, 0.3526100389194443, null, 0.35022071942550836, 0.3833221014449805, null], \"y\": [1.0, 0.0, null, 0.06127490735002531, 0.13359437096827784, null, 0.06127490735002531, 0.09650302407543368, null], \"type\": \"scatter\"}, {\"hoverinfo\": \"none\", \"line\": {\"color\": \"rgb(0, 0, 0)\", \"width\": 1}, \"mode\": \"lines\", \"x\": [1.0, 0.66, null, 0.6806532023433265, 0.6835549327328607, null, 0.6806532023433265, 0.7140012524011855, null], \"y\": [1.0, 0.0, null, 0.06074471277448944, 0.13299554373343975, null, 0.06074471277448944, 0.09511088313140172, null], \"type\": \"scatter\"}, {\"hoverinfo\": \"none\", \"line\": {\"color\": \"rgb(0, 0, 0)\", \"width\": 1}, \"mode\": \"lines\", \"x\": [0.33, 0.66, null, 0.6221212121212122, 0.5888794484132436, null, 0.6221212121212122, 0.5888794484132436, null], \"y\": [0.0, 0.0, null, 0.0, -0.034740981058275576, null, 0.0, 0.034740981058275576, null], \"type\": \"scatter\"}, {\"hoverinfo\": \"none\", \"line\": {\"color\": \"rgb(0, 0, 0)\", \"width\": 1}, \"mode\": \"lines\", \"x\": [0.66, 1.0, null, 0.9621212121212122, 0.9288794484132434, null, 0.9621212121212122, 0.9288794484132434, null], \"y\": [0.0, 0.0, null, 0.0, -0.034740981058275576, null, 0.0, 0.034740981058275576, null], \"type\": \"scatter\"}, {\"hoverinfo\": \"none\", \"marker\": {\"color\": \"rgb(0, 255, 0)\", \"line\": {\"color\": \"rgb(0, 0, 0)\", \"width\": 1}, \"size\": 20}, \"mode\": \"markers+text\", \"text\": [\"0\"], \"textfont\": {\"color\": \"rgb(0, 0, 0)\"}, \"textposition\": \"middle center\", \"x\": [0.0], \"y\": [0.5], \"type\": \"scatter\"}, {\"hoverinfo\": \"none\", \"marker\": {\"color\": \"rgb(0, 255, 0)\", \"line\": {\"color\": \"rgb(0, 0, 0)\", \"width\": 1}, \"size\": 20}, \"mode\": \"markers+text\", \"text\": [\"1\"], \"textfont\": {\"color\": \"rgb(0, 0, 0)\"}, \"textposition\": \"middle center\", \"x\": [0.33], \"y\": [1.0], \"type\": \"scatter\"}, {\"hoverinfo\": \"none\", \"marker\": {\"color\": \"rgb(0, 255, 0)\", \"line\": {\"color\": \"rgb(0, 0, 0)\", \"width\": 1}, \"size\": 20}, \"mode\": \"markers+text\", \"text\": [\"2\"], \"textfont\": {\"color\": \"rgb(0, 0, 0)\"}, \"textposition\": \"middle center\", \"x\": [0.66], \"y\": [1.0], \"type\": \"scatter\"}, {\"hoverinfo\": \"none\", \"marker\": {\"color\": \"rgb(255, 255, 255)\", \"line\": {\"color\": \"rgb(0, 0, 0)\", \"width\": 1}, \"size\": 20}, \"mode\": \"markers+text\", \"text\": [\"3\"], \"textfont\": {\"color\": \"rgb(0, 0, 0)\"}, \"textposition\": \"middle center\", \"x\": [1.0], \"y\": [1.0], \"type\": \"scatter\"}, {\"hoverinfo\": \"none\", \"marker\": {\"color\": \"rgb(0, 255, 0)\", \"line\": {\"color\": \"rgb(0, 0, 0)\", \"width\": 1}, \"size\": 20}, \"mode\": \"markers+text\", \"text\": [\"4\"], \"textfont\": {\"color\": \"rgb(0, 0, 0)\"}, \"textposition\": \"middle center\", \"x\": [0.33], \"y\": [0.0], \"type\": \"scatter\"}, {\"hoverinfo\": \"none\", \"marker\": {\"color\": \"rgb(0, 255, 0)\", \"line\": {\"color\": \"rgb(0, 0, 0)\", \"width\": 1}, \"size\": 20}, \"mode\": \"markers+text\", \"text\": [\"5\"], \"textfont\": {\"color\": \"rgb(0, 0, 0)\"}, \"textposition\": \"middle center\", \"x\": [0.66], \"y\": [0.0], \"type\": \"scatter\"}, {\"hoverinfo\": \"none\", \"marker\": {\"color\": \"rgb(0, 255, 0)\", \"line\": {\"color\": \"rgb(0, 0, 0)\", \"width\": 1}, \"size\": 20}, \"mode\": \"markers+text\", \"text\": [\"6\"], \"textfont\": {\"color\": \"rgb(0, 0, 0)\"}, \"textposition\": \"middle center\", \"x\": [1.0], \"y\": [0.0], \"type\": \"scatter\"}], \"name\": \"5\"}, {\"data\": [{\"hoverinfo\": \"none\", \"line\": {\"color\": \"rgb(0, 0, 0)\", \"width\": 1}, \"mode\": \"lines\", \"x\": [0.0, 0.33, null, 0.3003062713421305, 0.2855225877733855, null, 0.3003062713421305, 0.2629725579755741, null], \"y\": [0.5, 1.0, null, 0.9550095020335311, 0.8882926689752846, null, 0.9550095020335311, 0.9427605821595028, null], \"type\": \"scatter\"}, {\"hoverinfo\": \"none\", \"line\": {\"color\": \"rgb(0, 0, 0)\", \"width\": 1}, \"mode\": \"lines\", \"x\": [0.0, 0.33, null, 0.3003062713421305, 0.2629725579755741, null, 0.3003062713421305, 0.2855225877733855, null], \"y\": [0.5, 0.0, null, 0.04499049796646893, 0.0572394178404972, null, 0.04499049796646893, 0.11170733102471547, null], \"type\": \"scatter\"}, {\"hoverinfo\": \"none\", \"line\": {\"color\": \"rgb(0, 0, 0)\", \"width\": 1}, \"mode\": \"lines\", \"x\": [0.33, 0.66, null, 0.6221212121212122, 0.5888794484132436, null, 0.6221212121212122, 0.5888794484132436, null], \"y\": [1.0, 1.0, null, 1.0, 0.9652590189417244, null, 1.0, 1.0347409810582755, null], \"type\": \"scatter\"}, {\"hoverinfo\": \"none\", \"line\": {\"color\": \"rgb(0, 0, 0)\", \"width\": 1}, \"mode\": \"lines\", \"x\": [0.66, 1.0, null, 0.9621212121212122, 0.9288794484132434, null, 0.9621212121212122, 0.9288794484132434, null], \"y\": [1.0, 1.0, null, 1.0, 0.9652590189417244, null, 1.0, 1.0347409810582755, null], \"type\": \"scatter\"}, {\"hoverinfo\": \"none\", \"line\": {\"color\": \"rgb(0, 0, 0)\", \"width\": 1}, \"mode\": \"lines\", \"x\": [0.66, 0.33, null, 0.35022071942550836, 0.3526100389194443, null, 0.35022071942550836, 0.3833221014449805, null], \"y\": [1.0, 0.0, null, 0.06127490735002531, 0.13359437096827784, null, 0.06127490735002531, 0.09650302407543368, null], \"type\": \"scatter\"}, {\"hoverinfo\": \"none\", \"line\": {\"color\": \"rgb(0, 0, 0)\", \"width\": 1}, \"mode\": \"lines\", \"x\": [1.0, 0.66, null, 0.6806532023433265, 0.6835549327328607, null, 0.6806532023433265, 0.7140012524011855, null], \"y\": [1.0, 0.0, null, 0.06074471277448944, 0.13299554373343975, null, 0.06074471277448944, 0.09511088313140172, null], \"type\": \"scatter\"}, {\"hoverinfo\": \"none\", \"line\": {\"color\": \"rgb(0, 0, 0)\", \"width\": 1}, \"mode\": \"lines\", \"x\": [0.33, 0.66, null, 0.6221212121212122, 0.5888794484132436, null, 0.6221212121212122, 0.5888794484132436, null], \"y\": [0.0, 0.0, null, 0.0, -0.034740981058275576, null, 0.0, 0.034740981058275576, null], \"type\": \"scatter\"}, {\"hoverinfo\": \"none\", \"line\": {\"color\": \"rgb(0, 0, 0)\", \"width\": 1}, \"mode\": \"lines\", \"x\": [0.66, 1.0, null, 0.9621212121212122, 0.9288794484132434, null, 0.9621212121212122, 0.9288794484132434, null], \"y\": [0.0, 0.0, null, 0.0, -0.034740981058275576, null, 0.0, 0.034740981058275576, null], \"type\": \"scatter\"}, {\"hoverinfo\": \"none\", \"marker\": {\"color\": \"rgb(0, 255, 0)\", \"line\": {\"color\": \"rgb(0, 0, 0)\", \"width\": 1}, \"size\": 20}, \"mode\": \"markers+text\", \"text\": [\"0\"], \"textfont\": {\"color\": \"rgb(0, 0, 0)\"}, \"textposition\": \"middle center\", \"x\": [0.0], \"y\": [0.5], \"type\": \"scatter\"}, {\"hoverinfo\": \"none\", \"marker\": {\"color\": \"rgb(0, 255, 0)\", \"line\": {\"color\": \"rgb(0, 0, 0)\", \"width\": 1}, \"size\": 20}, \"mode\": \"markers+text\", \"text\": [\"1\"], \"textfont\": {\"color\": \"rgb(0, 0, 0)\"}, \"textposition\": \"middle center\", \"x\": [0.33], \"y\": [1.0], \"type\": \"scatter\"}, {\"hoverinfo\": \"none\", \"marker\": {\"color\": \"rgb(0, 255, 0)\", \"line\": {\"color\": \"rgb(0, 0, 0)\", \"width\": 1}, \"size\": 20}, \"mode\": \"markers+text\", \"text\": [\"2\"], \"textfont\": {\"color\": \"rgb(0, 0, 0)\"}, \"textposition\": \"middle center\", \"x\": [0.66], \"y\": [1.0], \"type\": \"scatter\"}, {\"hoverinfo\": \"none\", \"marker\": {\"color\": \"rgb(0, 255, 0)\", \"line\": {\"color\": \"rgb(0, 0, 0)\", \"width\": 1}, \"size\": 20}, \"mode\": \"markers+text\", \"text\": [\"3\"], \"textfont\": {\"color\": \"rgb(0, 0, 0)\"}, \"textposition\": \"middle center\", \"x\": [1.0], \"y\": [1.0], \"type\": \"scatter\"}, {\"hoverinfo\": \"none\", \"marker\": {\"color\": \"rgb(0, 255, 0)\", \"line\": {\"color\": \"rgb(0, 0, 0)\", \"width\": 1}, \"size\": 20}, \"mode\": \"markers+text\", \"text\": [\"4\"], \"textfont\": {\"color\": \"rgb(0, 0, 0)\"}, \"textposition\": \"middle center\", \"x\": [0.33], \"y\": [0.0], \"type\": \"scatter\"}, {\"hoverinfo\": \"none\", \"marker\": {\"color\": \"rgb(0, 255, 0)\", \"line\": {\"color\": \"rgb(0, 0, 0)\", \"width\": 1}, \"size\": 20}, \"mode\": \"markers+text\", \"text\": [\"5\"], \"textfont\": {\"color\": \"rgb(0, 0, 0)\"}, \"textposition\": \"middle center\", \"x\": [0.66], \"y\": [0.0], \"type\": \"scatter\"}, {\"hoverinfo\": \"none\", \"marker\": {\"color\": \"rgb(0, 255, 0)\", \"line\": {\"color\": \"rgb(0, 0, 0)\", \"width\": 1}, \"size\": 20}, \"mode\": \"markers+text\", \"text\": [\"6\"], \"textfont\": {\"color\": \"rgb(0, 0, 0)\"}, \"textposition\": \"middle center\", \"x\": [1.0], \"y\": [0.0], \"type\": \"scatter\"}], \"name\": \"6\"}]);}).then(function(){Plotly.animate('b9009ba5-7b04-4932-9bcf-9808262b685c');})\n",
       "        });</script>"
      ]
     },
     "metadata": {},
     "output_type": "display_data"
    }
   ],
   "source": [
    "def dfs(g, s, frames):\n",
    "    sn.reset_node_colors(g)\n",
    "    for n in g.nodes:\n",
    "        g.nodes[n]['visited'] = False\n",
    "\n",
    "    g.nodes[s]['color'] = (0, 255, 0)\n",
    "    g.nodes[s]['visited'] = True\n",
    "\n",
    "    frame = sn.generate_frame(g, nlab=True)\n",
    "    frames.append(frame)\n",
    "\n",
    "    stack = []\n",
    "    stack.append(s)\n",
    "\n",
    "    while stack:\n",
    "        n = stack.pop()\n",
    "\n",
    "        for m in g.successors(n):\n",
    "            if not g.nodes[m]['visited']:\n",
    "                g.nodes[m]['color'] = (0, 255, 0)\n",
    "                g.nodes[m]['visited'] = True\n",
    "\n",
    "                frame = sn.generate_frame(g, nlab=True)\n",
    "                frames.append(frame)\n",
    "\n",
    "                stack.append(m)\n",
    "\n",
    "\n",
    "frames = []\n",
    "\n",
    "dfs(g, 0, frames)\n",
    "\n",
    "sn.show_animation(frames)"
   ]
  },
  {
   "cell_type": "markdown",
   "metadata": {},
   "source": [
    "## Busca em largura\n",
    "\n",
    "Dica: https://docs.python.org/3/library/queue.html"
   ]
  },
  {
   "cell_type": "code",
   "execution_count": 16,
   "metadata": {},
   "outputs": [
    {
     "data": {
      "application/vnd.plotly.v1+json": {
       "data": [
        {
         "hoverinfo": "none",
         "line": {
          "color": "rgb(0, 0, 0)",
          "width": 1
         },
         "mode": "lines",
         "type": "scatter",
         "uid": "24d6db62-997e-11e8-a95b-9a5fd3dcadb7",
         "x": [
          0,
          0.33,
          null,
          0.3003062713421305,
          0.2855225877733855,
          null,
          0.3003062713421305,
          0.2629725579755741,
          null
         ],
         "y": [
          0.5,
          1,
          null,
          0.9550095020335311,
          0.8882926689752846,
          null,
          0.9550095020335311,
          0.9427605821595028,
          null
         ]
        },
        {
         "hoverinfo": "none",
         "line": {
          "color": "rgb(0, 0, 0)",
          "width": 1
         },
         "mode": "lines",
         "type": "scatter",
         "uid": "24d6db63-997e-11e8-8fb2-9a5fd3dcadb7",
         "x": [
          0,
          0.33,
          null,
          0.3003062713421305,
          0.2629725579755741,
          null,
          0.3003062713421305,
          0.2855225877733855,
          null
         ],
         "y": [
          0.5,
          0,
          null,
          0.04499049796646893,
          0.0572394178404972,
          null,
          0.04499049796646893,
          0.11170733102471547,
          null
         ]
        },
        {
         "hoverinfo": "none",
         "line": {
          "color": "rgb(0, 0, 0)",
          "width": 1
         },
         "mode": "lines",
         "type": "scatter",
         "uid": "24d6db64-997e-11e8-8d0c-9a5fd3dcadb7",
         "x": [
          0.33,
          0.66,
          null,
          0.6221212121212122,
          0.5888794484132436,
          null,
          0.6221212121212122,
          0.5888794484132436,
          null
         ],
         "y": [
          1,
          1,
          null,
          1,
          0.9652590189417244,
          null,
          1,
          1.0347409810582755,
          null
         ]
        },
        {
         "hoverinfo": "none",
         "line": {
          "color": "rgb(0, 0, 0)",
          "width": 1
         },
         "mode": "lines",
         "type": "scatter",
         "uid": "24d6db65-997e-11e8-ac66-9a5fd3dcadb7",
         "x": [
          0.66,
          1,
          null,
          0.9621212121212122,
          0.9288794484132434,
          null,
          0.9621212121212122,
          0.9288794484132434,
          null
         ],
         "y": [
          1,
          1,
          null,
          1,
          0.9652590189417244,
          null,
          1,
          1.0347409810582755,
          null
         ]
        },
        {
         "hoverinfo": "none",
         "line": {
          "color": "rgb(0, 0, 0)",
          "width": 1
         },
         "mode": "lines",
         "type": "scatter",
         "uid": "24d6db66-997e-11e8-a0d1-9a5fd3dcadb7",
         "x": [
          0.66,
          0.33,
          null,
          0.35022071942550836,
          0.3526100389194443,
          null,
          0.35022071942550836,
          0.3833221014449805,
          null
         ],
         "y": [
          1,
          0,
          null,
          0.06127490735002531,
          0.13359437096827784,
          null,
          0.06127490735002531,
          0.09650302407543368,
          null
         ]
        },
        {
         "hoverinfo": "none",
         "line": {
          "color": "rgb(0, 0, 0)",
          "width": 1
         },
         "mode": "lines",
         "type": "scatter",
         "uid": "24d6db67-997e-11e8-a49e-9a5fd3dcadb7",
         "x": [
          1,
          0.66,
          null,
          0.6806532023433265,
          0.6835549327328607,
          null,
          0.6806532023433265,
          0.7140012524011855,
          null
         ],
         "y": [
          1,
          0,
          null,
          0.06074471277448944,
          0.13299554373343975,
          null,
          0.06074471277448944,
          0.09511088313140172,
          null
         ]
        },
        {
         "hoverinfo": "none",
         "line": {
          "color": "rgb(0, 0, 0)",
          "width": 1
         },
         "mode": "lines",
         "type": "scatter",
         "uid": "24d6db68-997e-11e8-b514-9a5fd3dcadb7",
         "x": [
          0.33,
          0.66,
          null,
          0.6221212121212122,
          0.5888794484132436,
          null,
          0.6221212121212122,
          0.5888794484132436,
          null
         ],
         "y": [
          0,
          0,
          null,
          0,
          -0.034740981058275576,
          null,
          0,
          0.034740981058275576,
          null
         ]
        },
        {
         "hoverinfo": "none",
         "line": {
          "color": "rgb(0, 0, 0)",
          "width": 1
         },
         "mode": "lines",
         "type": "scatter",
         "uid": "24d6db69-997e-11e8-9ff6-9a5fd3dcadb7",
         "x": [
          0.66,
          1,
          null,
          0.9621212121212122,
          0.9288794484132434,
          null,
          0.9621212121212122,
          0.9288794484132434,
          null
         ],
         "y": [
          0,
          0,
          null,
          0,
          -0.034740981058275576,
          null,
          0,
          0.034740981058275576,
          null
         ]
        },
        {
         "hoverinfo": "none",
         "marker": {
          "color": "rgb(0, 255, 0)",
          "line": {
           "color": "rgb(0, 0, 0)",
           "width": 1
          },
          "size": 20
         },
         "mode": "markers+text",
         "text": [
          "0"
         ],
         "textfont": {
          "color": "rgb(0, 0, 0)"
         },
         "textposition": "middle center",
         "type": "scatter",
         "uid": "24d6db6a-997e-11e8-a613-9a5fd3dcadb7",
         "x": [
          0
         ],
         "y": [
          0.5
         ]
        },
        {
         "hoverinfo": "none",
         "marker": {
          "color": "rgb(255, 255, 255)",
          "line": {
           "color": "rgb(0, 0, 0)",
           "width": 1
          },
          "size": 20
         },
         "mode": "markers+text",
         "text": [
          "1"
         ],
         "textfont": {
          "color": "rgb(0, 0, 0)"
         },
         "textposition": "middle center",
         "type": "scatter",
         "uid": "24d6db6b-997e-11e8-9d27-9a5fd3dcadb7",
         "x": [
          0.33
         ],
         "y": [
          1
         ]
        },
        {
         "hoverinfo": "none",
         "marker": {
          "color": "rgb(255, 255, 255)",
          "line": {
           "color": "rgb(0, 0, 0)",
           "width": 1
          },
          "size": 20
         },
         "mode": "markers+text",
         "text": [
          "2"
         ],
         "textfont": {
          "color": "rgb(0, 0, 0)"
         },
         "textposition": "middle center",
         "type": "scatter",
         "uid": "24d6db6c-997e-11e8-8c03-9a5fd3dcadb7",
         "x": [
          0.66
         ],
         "y": [
          1
         ]
        },
        {
         "hoverinfo": "none",
         "marker": {
          "color": "rgb(255, 255, 255)",
          "line": {
           "color": "rgb(0, 0, 0)",
           "width": 1
          },
          "size": 20
         },
         "mode": "markers+text",
         "text": [
          "3"
         ],
         "textfont": {
          "color": "rgb(0, 0, 0)"
         },
         "textposition": "middle center",
         "type": "scatter",
         "uid": "24d6db6d-997e-11e8-8d33-9a5fd3dcadb7",
         "x": [
          1
         ],
         "y": [
          1
         ]
        },
        {
         "hoverinfo": "none",
         "marker": {
          "color": "rgb(255, 255, 255)",
          "line": {
           "color": "rgb(0, 0, 0)",
           "width": 1
          },
          "size": 20
         },
         "mode": "markers+text",
         "text": [
          "4"
         ],
         "textfont": {
          "color": "rgb(0, 0, 0)"
         },
         "textposition": "middle center",
         "type": "scatter",
         "uid": "24d6db6e-997e-11e8-9bb5-9a5fd3dcadb7",
         "x": [
          0.33
         ],
         "y": [
          0
         ]
        },
        {
         "hoverinfo": "none",
         "marker": {
          "color": "rgb(255, 255, 255)",
          "line": {
           "color": "rgb(0, 0, 0)",
           "width": 1
          },
          "size": 20
         },
         "mode": "markers+text",
         "text": [
          "5"
         ],
         "textfont": {
          "color": "rgb(0, 0, 0)"
         },
         "textposition": "middle center",
         "type": "scatter",
         "uid": "24d6db6f-997e-11e8-9e40-9a5fd3dcadb7",
         "x": [
          0.66
         ],
         "y": [
          0
         ]
        },
        {
         "hoverinfo": "none",
         "marker": {
          "color": "rgb(255, 255, 255)",
          "line": {
           "color": "rgb(0, 0, 0)",
           "width": 1
          },
          "size": 20
         },
         "mode": "markers+text",
         "text": [
          "6"
         ],
         "textfont": {
          "color": "rgb(0, 0, 0)"
         },
         "textposition": "middle center",
         "type": "scatter",
         "uid": "24d6db70-997e-11e8-ac2a-9a5fd3dcadb7",
         "x": [
          1
         ],
         "y": [
          0
         ]
        }
       ],
       "frames": [
        {
         "data": [
          {
           "hoverinfo": "none",
           "line": {
            "color": "rgb(0, 0, 0)",
            "width": 1
           },
           "mode": "lines",
           "type": "scatter",
           "x": [
            0,
            0.33,
            null,
            0.3003062713421305,
            0.2855225877733855,
            null,
            0.3003062713421305,
            0.2629725579755741,
            null
           ],
           "y": [
            0.5,
            1,
            null,
            0.9550095020335311,
            0.8882926689752846,
            null,
            0.9550095020335311,
            0.9427605821595028,
            null
           ]
          },
          {
           "hoverinfo": "none",
           "line": {
            "color": "rgb(0, 0, 0)",
            "width": 1
           },
           "mode": "lines",
           "type": "scatter",
           "x": [
            0,
            0.33,
            null,
            0.3003062713421305,
            0.2629725579755741,
            null,
            0.3003062713421305,
            0.2855225877733855,
            null
           ],
           "y": [
            0.5,
            0,
            null,
            0.04499049796646893,
            0.0572394178404972,
            null,
            0.04499049796646893,
            0.11170733102471547,
            null
           ]
          },
          {
           "hoverinfo": "none",
           "line": {
            "color": "rgb(0, 0, 0)",
            "width": 1
           },
           "mode": "lines",
           "type": "scatter",
           "x": [
            0.33,
            0.66,
            null,
            0.6221212121212122,
            0.5888794484132436,
            null,
            0.6221212121212122,
            0.5888794484132436,
            null
           ],
           "y": [
            1,
            1,
            null,
            1,
            0.9652590189417244,
            null,
            1,
            1.0347409810582755,
            null
           ]
          },
          {
           "hoverinfo": "none",
           "line": {
            "color": "rgb(0, 0, 0)",
            "width": 1
           },
           "mode": "lines",
           "type": "scatter",
           "x": [
            0.66,
            1,
            null,
            0.9621212121212122,
            0.9288794484132434,
            null,
            0.9621212121212122,
            0.9288794484132434,
            null
           ],
           "y": [
            1,
            1,
            null,
            1,
            0.9652590189417244,
            null,
            1,
            1.0347409810582755,
            null
           ]
          },
          {
           "hoverinfo": "none",
           "line": {
            "color": "rgb(0, 0, 0)",
            "width": 1
           },
           "mode": "lines",
           "type": "scatter",
           "x": [
            0.66,
            0.33,
            null,
            0.35022071942550836,
            0.3526100389194443,
            null,
            0.35022071942550836,
            0.3833221014449805,
            null
           ],
           "y": [
            1,
            0,
            null,
            0.06127490735002531,
            0.13359437096827784,
            null,
            0.06127490735002531,
            0.09650302407543368,
            null
           ]
          },
          {
           "hoverinfo": "none",
           "line": {
            "color": "rgb(0, 0, 0)",
            "width": 1
           },
           "mode": "lines",
           "type": "scatter",
           "x": [
            1,
            0.66,
            null,
            0.6806532023433265,
            0.6835549327328607,
            null,
            0.6806532023433265,
            0.7140012524011855,
            null
           ],
           "y": [
            1,
            0,
            null,
            0.06074471277448944,
            0.13299554373343975,
            null,
            0.06074471277448944,
            0.09511088313140172,
            null
           ]
          },
          {
           "hoverinfo": "none",
           "line": {
            "color": "rgb(0, 0, 0)",
            "width": 1
           },
           "mode": "lines",
           "type": "scatter",
           "x": [
            0.33,
            0.66,
            null,
            0.6221212121212122,
            0.5888794484132436,
            null,
            0.6221212121212122,
            0.5888794484132436,
            null
           ],
           "y": [
            0,
            0,
            null,
            0,
            -0.034740981058275576,
            null,
            0,
            0.034740981058275576,
            null
           ]
          },
          {
           "hoverinfo": "none",
           "line": {
            "color": "rgb(0, 0, 0)",
            "width": 1
           },
           "mode": "lines",
           "type": "scatter",
           "x": [
            0.66,
            1,
            null,
            0.9621212121212122,
            0.9288794484132434,
            null,
            0.9621212121212122,
            0.9288794484132434,
            null
           ],
           "y": [
            0,
            0,
            null,
            0,
            -0.034740981058275576,
            null,
            0,
            0.034740981058275576,
            null
           ]
          },
          {
           "hoverinfo": "none",
           "marker": {
            "color": "rgb(0, 255, 0)",
            "line": {
             "color": "rgb(0, 0, 0)",
             "width": 1
            },
            "size": 20
           },
           "mode": "markers+text",
           "text": [
            "0"
           ],
           "textfont": {
            "color": "rgb(0, 0, 0)"
           },
           "textposition": "middle center",
           "type": "scatter",
           "x": [
            0
           ],
           "y": [
            0.5
           ]
          },
          {
           "hoverinfo": "none",
           "marker": {
            "color": "rgb(255, 255, 255)",
            "line": {
             "color": "rgb(0, 0, 0)",
             "width": 1
            },
            "size": 20
           },
           "mode": "markers+text",
           "text": [
            "1"
           ],
           "textfont": {
            "color": "rgb(0, 0, 0)"
           },
           "textposition": "middle center",
           "type": "scatter",
           "x": [
            0.33
           ],
           "y": [
            1
           ]
          },
          {
           "hoverinfo": "none",
           "marker": {
            "color": "rgb(255, 255, 255)",
            "line": {
             "color": "rgb(0, 0, 0)",
             "width": 1
            },
            "size": 20
           },
           "mode": "markers+text",
           "text": [
            "2"
           ],
           "textfont": {
            "color": "rgb(0, 0, 0)"
           },
           "textposition": "middle center",
           "type": "scatter",
           "x": [
            0.66
           ],
           "y": [
            1
           ]
          },
          {
           "hoverinfo": "none",
           "marker": {
            "color": "rgb(255, 255, 255)",
            "line": {
             "color": "rgb(0, 0, 0)",
             "width": 1
            },
            "size": 20
           },
           "mode": "markers+text",
           "text": [
            "3"
           ],
           "textfont": {
            "color": "rgb(0, 0, 0)"
           },
           "textposition": "middle center",
           "type": "scatter",
           "x": [
            1
           ],
           "y": [
            1
           ]
          },
          {
           "hoverinfo": "none",
           "marker": {
            "color": "rgb(255, 255, 255)",
            "line": {
             "color": "rgb(0, 0, 0)",
             "width": 1
            },
            "size": 20
           },
           "mode": "markers+text",
           "text": [
            "4"
           ],
           "textfont": {
            "color": "rgb(0, 0, 0)"
           },
           "textposition": "middle center",
           "type": "scatter",
           "x": [
            0.33
           ],
           "y": [
            0
           ]
          },
          {
           "hoverinfo": "none",
           "marker": {
            "color": "rgb(255, 255, 255)",
            "line": {
             "color": "rgb(0, 0, 0)",
             "width": 1
            },
            "size": 20
           },
           "mode": "markers+text",
           "text": [
            "5"
           ],
           "textfont": {
            "color": "rgb(0, 0, 0)"
           },
           "textposition": "middle center",
           "type": "scatter",
           "x": [
            0.66
           ],
           "y": [
            0
           ]
          },
          {
           "hoverinfo": "none",
           "marker": {
            "color": "rgb(255, 255, 255)",
            "line": {
             "color": "rgb(0, 0, 0)",
             "width": 1
            },
            "size": 20
           },
           "mode": "markers+text",
           "text": [
            "6"
           ],
           "textfont": {
            "color": "rgb(0, 0, 0)"
           },
           "textposition": "middle center",
           "type": "scatter",
           "x": [
            1
           ],
           "y": [
            0
           ]
          }
         ],
         "name": "0"
        },
        {
         "data": [
          {
           "hoverinfo": "none",
           "line": {
            "color": "rgb(0, 0, 0)",
            "width": 1
           },
           "mode": "lines",
           "type": "scatter",
           "x": [
            0,
            0.33,
            null,
            0.3003062713421305,
            0.2855225877733855,
            null,
            0.3003062713421305,
            0.2629725579755741,
            null
           ],
           "y": [
            0.5,
            1,
            null,
            0.9550095020335311,
            0.8882926689752846,
            null,
            0.9550095020335311,
            0.9427605821595028,
            null
           ]
          },
          {
           "hoverinfo": "none",
           "line": {
            "color": "rgb(0, 0, 0)",
            "width": 1
           },
           "mode": "lines",
           "type": "scatter",
           "x": [
            0,
            0.33,
            null,
            0.3003062713421305,
            0.2629725579755741,
            null,
            0.3003062713421305,
            0.2855225877733855,
            null
           ],
           "y": [
            0.5,
            0,
            null,
            0.04499049796646893,
            0.0572394178404972,
            null,
            0.04499049796646893,
            0.11170733102471547,
            null
           ]
          },
          {
           "hoverinfo": "none",
           "line": {
            "color": "rgb(0, 0, 0)",
            "width": 1
           },
           "mode": "lines",
           "type": "scatter",
           "x": [
            0.33,
            0.66,
            null,
            0.6221212121212122,
            0.5888794484132436,
            null,
            0.6221212121212122,
            0.5888794484132436,
            null
           ],
           "y": [
            1,
            1,
            null,
            1,
            0.9652590189417244,
            null,
            1,
            1.0347409810582755,
            null
           ]
          },
          {
           "hoverinfo": "none",
           "line": {
            "color": "rgb(0, 0, 0)",
            "width": 1
           },
           "mode": "lines",
           "type": "scatter",
           "x": [
            0.66,
            1,
            null,
            0.9621212121212122,
            0.9288794484132434,
            null,
            0.9621212121212122,
            0.9288794484132434,
            null
           ],
           "y": [
            1,
            1,
            null,
            1,
            0.9652590189417244,
            null,
            1,
            1.0347409810582755,
            null
           ]
          },
          {
           "hoverinfo": "none",
           "line": {
            "color": "rgb(0, 0, 0)",
            "width": 1
           },
           "mode": "lines",
           "type": "scatter",
           "x": [
            0.66,
            0.33,
            null,
            0.35022071942550836,
            0.3526100389194443,
            null,
            0.35022071942550836,
            0.3833221014449805,
            null
           ],
           "y": [
            1,
            0,
            null,
            0.06127490735002531,
            0.13359437096827784,
            null,
            0.06127490735002531,
            0.09650302407543368,
            null
           ]
          },
          {
           "hoverinfo": "none",
           "line": {
            "color": "rgb(0, 0, 0)",
            "width": 1
           },
           "mode": "lines",
           "type": "scatter",
           "x": [
            1,
            0.66,
            null,
            0.6806532023433265,
            0.6835549327328607,
            null,
            0.6806532023433265,
            0.7140012524011855,
            null
           ],
           "y": [
            1,
            0,
            null,
            0.06074471277448944,
            0.13299554373343975,
            null,
            0.06074471277448944,
            0.09511088313140172,
            null
           ]
          },
          {
           "hoverinfo": "none",
           "line": {
            "color": "rgb(0, 0, 0)",
            "width": 1
           },
           "mode": "lines",
           "type": "scatter",
           "x": [
            0.33,
            0.66,
            null,
            0.6221212121212122,
            0.5888794484132436,
            null,
            0.6221212121212122,
            0.5888794484132436,
            null
           ],
           "y": [
            0,
            0,
            null,
            0,
            -0.034740981058275576,
            null,
            0,
            0.034740981058275576,
            null
           ]
          },
          {
           "hoverinfo": "none",
           "line": {
            "color": "rgb(0, 0, 0)",
            "width": 1
           },
           "mode": "lines",
           "type": "scatter",
           "x": [
            0.66,
            1,
            null,
            0.9621212121212122,
            0.9288794484132434,
            null,
            0.9621212121212122,
            0.9288794484132434,
            null
           ],
           "y": [
            0,
            0,
            null,
            0,
            -0.034740981058275576,
            null,
            0,
            0.034740981058275576,
            null
           ]
          },
          {
           "hoverinfo": "none",
           "marker": {
            "color": "rgb(0, 255, 0)",
            "line": {
             "color": "rgb(0, 0, 0)",
             "width": 1
            },
            "size": 20
           },
           "mode": "markers+text",
           "text": [
            "0"
           ],
           "textfont": {
            "color": "rgb(0, 0, 0)"
           },
           "textposition": "middle center",
           "type": "scatter",
           "x": [
            0
           ],
           "y": [
            0.5
           ]
          },
          {
           "hoverinfo": "none",
           "marker": {
            "color": "rgb(0, 255, 0)",
            "line": {
             "color": "rgb(0, 0, 0)",
             "width": 1
            },
            "size": 20
           },
           "mode": "markers+text",
           "text": [
            "1"
           ],
           "textfont": {
            "color": "rgb(0, 0, 0)"
           },
           "textposition": "middle center",
           "type": "scatter",
           "x": [
            0.33
           ],
           "y": [
            1
           ]
          },
          {
           "hoverinfo": "none",
           "marker": {
            "color": "rgb(255, 255, 255)",
            "line": {
             "color": "rgb(0, 0, 0)",
             "width": 1
            },
            "size": 20
           },
           "mode": "markers+text",
           "text": [
            "2"
           ],
           "textfont": {
            "color": "rgb(0, 0, 0)"
           },
           "textposition": "middle center",
           "type": "scatter",
           "x": [
            0.66
           ],
           "y": [
            1
           ]
          },
          {
           "hoverinfo": "none",
           "marker": {
            "color": "rgb(255, 255, 255)",
            "line": {
             "color": "rgb(0, 0, 0)",
             "width": 1
            },
            "size": 20
           },
           "mode": "markers+text",
           "text": [
            "3"
           ],
           "textfont": {
            "color": "rgb(0, 0, 0)"
           },
           "textposition": "middle center",
           "type": "scatter",
           "x": [
            1
           ],
           "y": [
            1
           ]
          },
          {
           "hoverinfo": "none",
           "marker": {
            "color": "rgb(255, 255, 255)",
            "line": {
             "color": "rgb(0, 0, 0)",
             "width": 1
            },
            "size": 20
           },
           "mode": "markers+text",
           "text": [
            "4"
           ],
           "textfont": {
            "color": "rgb(0, 0, 0)"
           },
           "textposition": "middle center",
           "type": "scatter",
           "x": [
            0.33
           ],
           "y": [
            0
           ]
          },
          {
           "hoverinfo": "none",
           "marker": {
            "color": "rgb(255, 255, 255)",
            "line": {
             "color": "rgb(0, 0, 0)",
             "width": 1
            },
            "size": 20
           },
           "mode": "markers+text",
           "text": [
            "5"
           ],
           "textfont": {
            "color": "rgb(0, 0, 0)"
           },
           "textposition": "middle center",
           "type": "scatter",
           "x": [
            0.66
           ],
           "y": [
            0
           ]
          },
          {
           "hoverinfo": "none",
           "marker": {
            "color": "rgb(255, 255, 255)",
            "line": {
             "color": "rgb(0, 0, 0)",
             "width": 1
            },
            "size": 20
           },
           "mode": "markers+text",
           "text": [
            "6"
           ],
           "textfont": {
            "color": "rgb(0, 0, 0)"
           },
           "textposition": "middle center",
           "type": "scatter",
           "x": [
            1
           ],
           "y": [
            0
           ]
          }
         ],
         "name": "1"
        },
        {
         "data": [
          {
           "hoverinfo": "none",
           "line": {
            "color": "rgb(0, 0, 0)",
            "width": 1
           },
           "mode": "lines",
           "type": "scatter",
           "x": [
            0,
            0.33,
            null,
            0.3003062713421305,
            0.2855225877733855,
            null,
            0.3003062713421305,
            0.2629725579755741,
            null
           ],
           "y": [
            0.5,
            1,
            null,
            0.9550095020335311,
            0.8882926689752846,
            null,
            0.9550095020335311,
            0.9427605821595028,
            null
           ]
          },
          {
           "hoverinfo": "none",
           "line": {
            "color": "rgb(0, 0, 0)",
            "width": 1
           },
           "mode": "lines",
           "type": "scatter",
           "x": [
            0,
            0.33,
            null,
            0.3003062713421305,
            0.2629725579755741,
            null,
            0.3003062713421305,
            0.2855225877733855,
            null
           ],
           "y": [
            0.5,
            0,
            null,
            0.04499049796646893,
            0.0572394178404972,
            null,
            0.04499049796646893,
            0.11170733102471547,
            null
           ]
          },
          {
           "hoverinfo": "none",
           "line": {
            "color": "rgb(0, 0, 0)",
            "width": 1
           },
           "mode": "lines",
           "type": "scatter",
           "x": [
            0.33,
            0.66,
            null,
            0.6221212121212122,
            0.5888794484132436,
            null,
            0.6221212121212122,
            0.5888794484132436,
            null
           ],
           "y": [
            1,
            1,
            null,
            1,
            0.9652590189417244,
            null,
            1,
            1.0347409810582755,
            null
           ]
          },
          {
           "hoverinfo": "none",
           "line": {
            "color": "rgb(0, 0, 0)",
            "width": 1
           },
           "mode": "lines",
           "type": "scatter",
           "x": [
            0.66,
            1,
            null,
            0.9621212121212122,
            0.9288794484132434,
            null,
            0.9621212121212122,
            0.9288794484132434,
            null
           ],
           "y": [
            1,
            1,
            null,
            1,
            0.9652590189417244,
            null,
            1,
            1.0347409810582755,
            null
           ]
          },
          {
           "hoverinfo": "none",
           "line": {
            "color": "rgb(0, 0, 0)",
            "width": 1
           },
           "mode": "lines",
           "type": "scatter",
           "x": [
            0.66,
            0.33,
            null,
            0.35022071942550836,
            0.3526100389194443,
            null,
            0.35022071942550836,
            0.3833221014449805,
            null
           ],
           "y": [
            1,
            0,
            null,
            0.06127490735002531,
            0.13359437096827784,
            null,
            0.06127490735002531,
            0.09650302407543368,
            null
           ]
          },
          {
           "hoverinfo": "none",
           "line": {
            "color": "rgb(0, 0, 0)",
            "width": 1
           },
           "mode": "lines",
           "type": "scatter",
           "x": [
            1,
            0.66,
            null,
            0.6806532023433265,
            0.6835549327328607,
            null,
            0.6806532023433265,
            0.7140012524011855,
            null
           ],
           "y": [
            1,
            0,
            null,
            0.06074471277448944,
            0.13299554373343975,
            null,
            0.06074471277448944,
            0.09511088313140172,
            null
           ]
          },
          {
           "hoverinfo": "none",
           "line": {
            "color": "rgb(0, 0, 0)",
            "width": 1
           },
           "mode": "lines",
           "type": "scatter",
           "x": [
            0.33,
            0.66,
            null,
            0.6221212121212122,
            0.5888794484132436,
            null,
            0.6221212121212122,
            0.5888794484132436,
            null
           ],
           "y": [
            0,
            0,
            null,
            0,
            -0.034740981058275576,
            null,
            0,
            0.034740981058275576,
            null
           ]
          },
          {
           "hoverinfo": "none",
           "line": {
            "color": "rgb(0, 0, 0)",
            "width": 1
           },
           "mode": "lines",
           "type": "scatter",
           "x": [
            0.66,
            1,
            null,
            0.9621212121212122,
            0.9288794484132434,
            null,
            0.9621212121212122,
            0.9288794484132434,
            null
           ],
           "y": [
            0,
            0,
            null,
            0,
            -0.034740981058275576,
            null,
            0,
            0.034740981058275576,
            null
           ]
          },
          {
           "hoverinfo": "none",
           "marker": {
            "color": "rgb(0, 255, 0)",
            "line": {
             "color": "rgb(0, 0, 0)",
             "width": 1
            },
            "size": 20
           },
           "mode": "markers+text",
           "text": [
            "0"
           ],
           "textfont": {
            "color": "rgb(0, 0, 0)"
           },
           "textposition": "middle center",
           "type": "scatter",
           "x": [
            0
           ],
           "y": [
            0.5
           ]
          },
          {
           "hoverinfo": "none",
           "marker": {
            "color": "rgb(0, 255, 0)",
            "line": {
             "color": "rgb(0, 0, 0)",
             "width": 1
            },
            "size": 20
           },
           "mode": "markers+text",
           "text": [
            "1"
           ],
           "textfont": {
            "color": "rgb(0, 0, 0)"
           },
           "textposition": "middle center",
           "type": "scatter",
           "x": [
            0.33
           ],
           "y": [
            1
           ]
          },
          {
           "hoverinfo": "none",
           "marker": {
            "color": "rgb(255, 255, 255)",
            "line": {
             "color": "rgb(0, 0, 0)",
             "width": 1
            },
            "size": 20
           },
           "mode": "markers+text",
           "text": [
            "2"
           ],
           "textfont": {
            "color": "rgb(0, 0, 0)"
           },
           "textposition": "middle center",
           "type": "scatter",
           "x": [
            0.66
           ],
           "y": [
            1
           ]
          },
          {
           "hoverinfo": "none",
           "marker": {
            "color": "rgb(255, 255, 255)",
            "line": {
             "color": "rgb(0, 0, 0)",
             "width": 1
            },
            "size": 20
           },
           "mode": "markers+text",
           "text": [
            "3"
           ],
           "textfont": {
            "color": "rgb(0, 0, 0)"
           },
           "textposition": "middle center",
           "type": "scatter",
           "x": [
            1
           ],
           "y": [
            1
           ]
          },
          {
           "hoverinfo": "none",
           "marker": {
            "color": "rgb(0, 255, 0)",
            "line": {
             "color": "rgb(0, 0, 0)",
             "width": 1
            },
            "size": 20
           },
           "mode": "markers+text",
           "text": [
            "4"
           ],
           "textfont": {
            "color": "rgb(0, 0, 0)"
           },
           "textposition": "middle center",
           "type": "scatter",
           "x": [
            0.33
           ],
           "y": [
            0
           ]
          },
          {
           "hoverinfo": "none",
           "marker": {
            "color": "rgb(255, 255, 255)",
            "line": {
             "color": "rgb(0, 0, 0)",
             "width": 1
            },
            "size": 20
           },
           "mode": "markers+text",
           "text": [
            "5"
           ],
           "textfont": {
            "color": "rgb(0, 0, 0)"
           },
           "textposition": "middle center",
           "type": "scatter",
           "x": [
            0.66
           ],
           "y": [
            0
           ]
          },
          {
           "hoverinfo": "none",
           "marker": {
            "color": "rgb(255, 255, 255)",
            "line": {
             "color": "rgb(0, 0, 0)",
             "width": 1
            },
            "size": 20
           },
           "mode": "markers+text",
           "text": [
            "6"
           ],
           "textfont": {
            "color": "rgb(0, 0, 0)"
           },
           "textposition": "middle center",
           "type": "scatter",
           "x": [
            1
           ],
           "y": [
            0
           ]
          }
         ],
         "name": "2"
        },
        {
         "data": [
          {
           "hoverinfo": "none",
           "line": {
            "color": "rgb(0, 0, 0)",
            "width": 1
           },
           "mode": "lines",
           "type": "scatter",
           "x": [
            0,
            0.33,
            null,
            0.3003062713421305,
            0.2855225877733855,
            null,
            0.3003062713421305,
            0.2629725579755741,
            null
           ],
           "y": [
            0.5,
            1,
            null,
            0.9550095020335311,
            0.8882926689752846,
            null,
            0.9550095020335311,
            0.9427605821595028,
            null
           ]
          },
          {
           "hoverinfo": "none",
           "line": {
            "color": "rgb(0, 0, 0)",
            "width": 1
           },
           "mode": "lines",
           "type": "scatter",
           "x": [
            0,
            0.33,
            null,
            0.3003062713421305,
            0.2629725579755741,
            null,
            0.3003062713421305,
            0.2855225877733855,
            null
           ],
           "y": [
            0.5,
            0,
            null,
            0.04499049796646893,
            0.0572394178404972,
            null,
            0.04499049796646893,
            0.11170733102471547,
            null
           ]
          },
          {
           "hoverinfo": "none",
           "line": {
            "color": "rgb(0, 0, 0)",
            "width": 1
           },
           "mode": "lines",
           "type": "scatter",
           "x": [
            0.33,
            0.66,
            null,
            0.6221212121212122,
            0.5888794484132436,
            null,
            0.6221212121212122,
            0.5888794484132436,
            null
           ],
           "y": [
            1,
            1,
            null,
            1,
            0.9652590189417244,
            null,
            1,
            1.0347409810582755,
            null
           ]
          },
          {
           "hoverinfo": "none",
           "line": {
            "color": "rgb(0, 0, 0)",
            "width": 1
           },
           "mode": "lines",
           "type": "scatter",
           "x": [
            0.66,
            1,
            null,
            0.9621212121212122,
            0.9288794484132434,
            null,
            0.9621212121212122,
            0.9288794484132434,
            null
           ],
           "y": [
            1,
            1,
            null,
            1,
            0.9652590189417244,
            null,
            1,
            1.0347409810582755,
            null
           ]
          },
          {
           "hoverinfo": "none",
           "line": {
            "color": "rgb(0, 0, 0)",
            "width": 1
           },
           "mode": "lines",
           "type": "scatter",
           "x": [
            0.66,
            0.33,
            null,
            0.35022071942550836,
            0.3526100389194443,
            null,
            0.35022071942550836,
            0.3833221014449805,
            null
           ],
           "y": [
            1,
            0,
            null,
            0.06127490735002531,
            0.13359437096827784,
            null,
            0.06127490735002531,
            0.09650302407543368,
            null
           ]
          },
          {
           "hoverinfo": "none",
           "line": {
            "color": "rgb(0, 0, 0)",
            "width": 1
           },
           "mode": "lines",
           "type": "scatter",
           "x": [
            1,
            0.66,
            null,
            0.6806532023433265,
            0.6835549327328607,
            null,
            0.6806532023433265,
            0.7140012524011855,
            null
           ],
           "y": [
            1,
            0,
            null,
            0.06074471277448944,
            0.13299554373343975,
            null,
            0.06074471277448944,
            0.09511088313140172,
            null
           ]
          },
          {
           "hoverinfo": "none",
           "line": {
            "color": "rgb(0, 0, 0)",
            "width": 1
           },
           "mode": "lines",
           "type": "scatter",
           "x": [
            0.33,
            0.66,
            null,
            0.6221212121212122,
            0.5888794484132436,
            null,
            0.6221212121212122,
            0.5888794484132436,
            null
           ],
           "y": [
            0,
            0,
            null,
            0,
            -0.034740981058275576,
            null,
            0,
            0.034740981058275576,
            null
           ]
          },
          {
           "hoverinfo": "none",
           "line": {
            "color": "rgb(0, 0, 0)",
            "width": 1
           },
           "mode": "lines",
           "type": "scatter",
           "x": [
            0.66,
            1,
            null,
            0.9621212121212122,
            0.9288794484132434,
            null,
            0.9621212121212122,
            0.9288794484132434,
            null
           ],
           "y": [
            0,
            0,
            null,
            0,
            -0.034740981058275576,
            null,
            0,
            0.034740981058275576,
            null
           ]
          },
          {
           "hoverinfo": "none",
           "marker": {
            "color": "rgb(0, 255, 0)",
            "line": {
             "color": "rgb(0, 0, 0)",
             "width": 1
            },
            "size": 20
           },
           "mode": "markers+text",
           "text": [
            "0"
           ],
           "textfont": {
            "color": "rgb(0, 0, 0)"
           },
           "textposition": "middle center",
           "type": "scatter",
           "x": [
            0
           ],
           "y": [
            0.5
           ]
          },
          {
           "hoverinfo": "none",
           "marker": {
            "color": "rgb(0, 255, 0)",
            "line": {
             "color": "rgb(0, 0, 0)",
             "width": 1
            },
            "size": 20
           },
           "mode": "markers+text",
           "text": [
            "1"
           ],
           "textfont": {
            "color": "rgb(0, 0, 0)"
           },
           "textposition": "middle center",
           "type": "scatter",
           "x": [
            0.33
           ],
           "y": [
            1
           ]
          },
          {
           "hoverinfo": "none",
           "marker": {
            "color": "rgb(0, 255, 0)",
            "line": {
             "color": "rgb(0, 0, 0)",
             "width": 1
            },
            "size": 20
           },
           "mode": "markers+text",
           "text": [
            "2"
           ],
           "textfont": {
            "color": "rgb(0, 0, 0)"
           },
           "textposition": "middle center",
           "type": "scatter",
           "x": [
            0.66
           ],
           "y": [
            1
           ]
          },
          {
           "hoverinfo": "none",
           "marker": {
            "color": "rgb(255, 255, 255)",
            "line": {
             "color": "rgb(0, 0, 0)",
             "width": 1
            },
            "size": 20
           },
           "mode": "markers+text",
           "text": [
            "3"
           ],
           "textfont": {
            "color": "rgb(0, 0, 0)"
           },
           "textposition": "middle center",
           "type": "scatter",
           "x": [
            1
           ],
           "y": [
            1
           ]
          },
          {
           "hoverinfo": "none",
           "marker": {
            "color": "rgb(0, 255, 0)",
            "line": {
             "color": "rgb(0, 0, 0)",
             "width": 1
            },
            "size": 20
           },
           "mode": "markers+text",
           "text": [
            "4"
           ],
           "textfont": {
            "color": "rgb(0, 0, 0)"
           },
           "textposition": "middle center",
           "type": "scatter",
           "x": [
            0.33
           ],
           "y": [
            0
           ]
          },
          {
           "hoverinfo": "none",
           "marker": {
            "color": "rgb(255, 255, 255)",
            "line": {
             "color": "rgb(0, 0, 0)",
             "width": 1
            },
            "size": 20
           },
           "mode": "markers+text",
           "text": [
            "5"
           ],
           "textfont": {
            "color": "rgb(0, 0, 0)"
           },
           "textposition": "middle center",
           "type": "scatter",
           "x": [
            0.66
           ],
           "y": [
            0
           ]
          },
          {
           "hoverinfo": "none",
           "marker": {
            "color": "rgb(255, 255, 255)",
            "line": {
             "color": "rgb(0, 0, 0)",
             "width": 1
            },
            "size": 20
           },
           "mode": "markers+text",
           "text": [
            "6"
           ],
           "textfont": {
            "color": "rgb(0, 0, 0)"
           },
           "textposition": "middle center",
           "type": "scatter",
           "x": [
            1
           ],
           "y": [
            0
           ]
          }
         ],
         "name": "3"
        },
        {
         "data": [
          {
           "hoverinfo": "none",
           "line": {
            "color": "rgb(0, 0, 0)",
            "width": 1
           },
           "mode": "lines",
           "type": "scatter",
           "x": [
            0,
            0.33,
            null,
            0.3003062713421305,
            0.2855225877733855,
            null,
            0.3003062713421305,
            0.2629725579755741,
            null
           ],
           "y": [
            0.5,
            1,
            null,
            0.9550095020335311,
            0.8882926689752846,
            null,
            0.9550095020335311,
            0.9427605821595028,
            null
           ]
          },
          {
           "hoverinfo": "none",
           "line": {
            "color": "rgb(0, 0, 0)",
            "width": 1
           },
           "mode": "lines",
           "type": "scatter",
           "x": [
            0,
            0.33,
            null,
            0.3003062713421305,
            0.2629725579755741,
            null,
            0.3003062713421305,
            0.2855225877733855,
            null
           ],
           "y": [
            0.5,
            0,
            null,
            0.04499049796646893,
            0.0572394178404972,
            null,
            0.04499049796646893,
            0.11170733102471547,
            null
           ]
          },
          {
           "hoverinfo": "none",
           "line": {
            "color": "rgb(0, 0, 0)",
            "width": 1
           },
           "mode": "lines",
           "type": "scatter",
           "x": [
            0.33,
            0.66,
            null,
            0.6221212121212122,
            0.5888794484132436,
            null,
            0.6221212121212122,
            0.5888794484132436,
            null
           ],
           "y": [
            1,
            1,
            null,
            1,
            0.9652590189417244,
            null,
            1,
            1.0347409810582755,
            null
           ]
          },
          {
           "hoverinfo": "none",
           "line": {
            "color": "rgb(0, 0, 0)",
            "width": 1
           },
           "mode": "lines",
           "type": "scatter",
           "x": [
            0.66,
            1,
            null,
            0.9621212121212122,
            0.9288794484132434,
            null,
            0.9621212121212122,
            0.9288794484132434,
            null
           ],
           "y": [
            1,
            1,
            null,
            1,
            0.9652590189417244,
            null,
            1,
            1.0347409810582755,
            null
           ]
          },
          {
           "hoverinfo": "none",
           "line": {
            "color": "rgb(0, 0, 0)",
            "width": 1
           },
           "mode": "lines",
           "type": "scatter",
           "x": [
            0.66,
            0.33,
            null,
            0.35022071942550836,
            0.3526100389194443,
            null,
            0.35022071942550836,
            0.3833221014449805,
            null
           ],
           "y": [
            1,
            0,
            null,
            0.06127490735002531,
            0.13359437096827784,
            null,
            0.06127490735002531,
            0.09650302407543368,
            null
           ]
          },
          {
           "hoverinfo": "none",
           "line": {
            "color": "rgb(0, 0, 0)",
            "width": 1
           },
           "mode": "lines",
           "type": "scatter",
           "x": [
            1,
            0.66,
            null,
            0.6806532023433265,
            0.6835549327328607,
            null,
            0.6806532023433265,
            0.7140012524011855,
            null
           ],
           "y": [
            1,
            0,
            null,
            0.06074471277448944,
            0.13299554373343975,
            null,
            0.06074471277448944,
            0.09511088313140172,
            null
           ]
          },
          {
           "hoverinfo": "none",
           "line": {
            "color": "rgb(0, 0, 0)",
            "width": 1
           },
           "mode": "lines",
           "type": "scatter",
           "x": [
            0.33,
            0.66,
            null,
            0.6221212121212122,
            0.5888794484132436,
            null,
            0.6221212121212122,
            0.5888794484132436,
            null
           ],
           "y": [
            0,
            0,
            null,
            0,
            -0.034740981058275576,
            null,
            0,
            0.034740981058275576,
            null
           ]
          },
          {
           "hoverinfo": "none",
           "line": {
            "color": "rgb(0, 0, 0)",
            "width": 1
           },
           "mode": "lines",
           "type": "scatter",
           "x": [
            0.66,
            1,
            null,
            0.9621212121212122,
            0.9288794484132434,
            null,
            0.9621212121212122,
            0.9288794484132434,
            null
           ],
           "y": [
            0,
            0,
            null,
            0,
            -0.034740981058275576,
            null,
            0,
            0.034740981058275576,
            null
           ]
          },
          {
           "hoverinfo": "none",
           "marker": {
            "color": "rgb(0, 255, 0)",
            "line": {
             "color": "rgb(0, 0, 0)",
             "width": 1
            },
            "size": 20
           },
           "mode": "markers+text",
           "text": [
            "0"
           ],
           "textfont": {
            "color": "rgb(0, 0, 0)"
           },
           "textposition": "middle center",
           "type": "scatter",
           "x": [
            0
           ],
           "y": [
            0.5
           ]
          },
          {
           "hoverinfo": "none",
           "marker": {
            "color": "rgb(0, 255, 0)",
            "line": {
             "color": "rgb(0, 0, 0)",
             "width": 1
            },
            "size": 20
           },
           "mode": "markers+text",
           "text": [
            "1"
           ],
           "textfont": {
            "color": "rgb(0, 0, 0)"
           },
           "textposition": "middle center",
           "type": "scatter",
           "x": [
            0.33
           ],
           "y": [
            1
           ]
          },
          {
           "hoverinfo": "none",
           "marker": {
            "color": "rgb(0, 255, 0)",
            "line": {
             "color": "rgb(0, 0, 0)",
             "width": 1
            },
            "size": 20
           },
           "mode": "markers+text",
           "text": [
            "2"
           ],
           "textfont": {
            "color": "rgb(0, 0, 0)"
           },
           "textposition": "middle center",
           "type": "scatter",
           "x": [
            0.66
           ],
           "y": [
            1
           ]
          },
          {
           "hoverinfo": "none",
           "marker": {
            "color": "rgb(255, 255, 255)",
            "line": {
             "color": "rgb(0, 0, 0)",
             "width": 1
            },
            "size": 20
           },
           "mode": "markers+text",
           "text": [
            "3"
           ],
           "textfont": {
            "color": "rgb(0, 0, 0)"
           },
           "textposition": "middle center",
           "type": "scatter",
           "x": [
            1
           ],
           "y": [
            1
           ]
          },
          {
           "hoverinfo": "none",
           "marker": {
            "color": "rgb(0, 255, 0)",
            "line": {
             "color": "rgb(0, 0, 0)",
             "width": 1
            },
            "size": 20
           },
           "mode": "markers+text",
           "text": [
            "4"
           ],
           "textfont": {
            "color": "rgb(0, 0, 0)"
           },
           "textposition": "middle center",
           "type": "scatter",
           "x": [
            0.33
           ],
           "y": [
            0
           ]
          },
          {
           "hoverinfo": "none",
           "marker": {
            "color": "rgb(0, 255, 0)",
            "line": {
             "color": "rgb(0, 0, 0)",
             "width": 1
            },
            "size": 20
           },
           "mode": "markers+text",
           "text": [
            "5"
           ],
           "textfont": {
            "color": "rgb(0, 0, 0)"
           },
           "textposition": "middle center",
           "type": "scatter",
           "x": [
            0.66
           ],
           "y": [
            0
           ]
          },
          {
           "hoverinfo": "none",
           "marker": {
            "color": "rgb(255, 255, 255)",
            "line": {
             "color": "rgb(0, 0, 0)",
             "width": 1
            },
            "size": 20
           },
           "mode": "markers+text",
           "text": [
            "6"
           ],
           "textfont": {
            "color": "rgb(0, 0, 0)"
           },
           "textposition": "middle center",
           "type": "scatter",
           "x": [
            1
           ],
           "y": [
            0
           ]
          }
         ],
         "name": "4"
        },
        {
         "data": [
          {
           "hoverinfo": "none",
           "line": {
            "color": "rgb(0, 0, 0)",
            "width": 1
           },
           "mode": "lines",
           "type": "scatter",
           "x": [
            0,
            0.33,
            null,
            0.3003062713421305,
            0.2855225877733855,
            null,
            0.3003062713421305,
            0.2629725579755741,
            null
           ],
           "y": [
            0.5,
            1,
            null,
            0.9550095020335311,
            0.8882926689752846,
            null,
            0.9550095020335311,
            0.9427605821595028,
            null
           ]
          },
          {
           "hoverinfo": "none",
           "line": {
            "color": "rgb(0, 0, 0)",
            "width": 1
           },
           "mode": "lines",
           "type": "scatter",
           "x": [
            0,
            0.33,
            null,
            0.3003062713421305,
            0.2629725579755741,
            null,
            0.3003062713421305,
            0.2855225877733855,
            null
           ],
           "y": [
            0.5,
            0,
            null,
            0.04499049796646893,
            0.0572394178404972,
            null,
            0.04499049796646893,
            0.11170733102471547,
            null
           ]
          },
          {
           "hoverinfo": "none",
           "line": {
            "color": "rgb(0, 0, 0)",
            "width": 1
           },
           "mode": "lines",
           "type": "scatter",
           "x": [
            0.33,
            0.66,
            null,
            0.6221212121212122,
            0.5888794484132436,
            null,
            0.6221212121212122,
            0.5888794484132436,
            null
           ],
           "y": [
            1,
            1,
            null,
            1,
            0.9652590189417244,
            null,
            1,
            1.0347409810582755,
            null
           ]
          },
          {
           "hoverinfo": "none",
           "line": {
            "color": "rgb(0, 0, 0)",
            "width": 1
           },
           "mode": "lines",
           "type": "scatter",
           "x": [
            0.66,
            1,
            null,
            0.9621212121212122,
            0.9288794484132434,
            null,
            0.9621212121212122,
            0.9288794484132434,
            null
           ],
           "y": [
            1,
            1,
            null,
            1,
            0.9652590189417244,
            null,
            1,
            1.0347409810582755,
            null
           ]
          },
          {
           "hoverinfo": "none",
           "line": {
            "color": "rgb(0, 0, 0)",
            "width": 1
           },
           "mode": "lines",
           "type": "scatter",
           "x": [
            0.66,
            0.33,
            null,
            0.35022071942550836,
            0.3526100389194443,
            null,
            0.35022071942550836,
            0.3833221014449805,
            null
           ],
           "y": [
            1,
            0,
            null,
            0.06127490735002531,
            0.13359437096827784,
            null,
            0.06127490735002531,
            0.09650302407543368,
            null
           ]
          },
          {
           "hoverinfo": "none",
           "line": {
            "color": "rgb(0, 0, 0)",
            "width": 1
           },
           "mode": "lines",
           "type": "scatter",
           "x": [
            1,
            0.66,
            null,
            0.6806532023433265,
            0.6835549327328607,
            null,
            0.6806532023433265,
            0.7140012524011855,
            null
           ],
           "y": [
            1,
            0,
            null,
            0.06074471277448944,
            0.13299554373343975,
            null,
            0.06074471277448944,
            0.09511088313140172,
            null
           ]
          },
          {
           "hoverinfo": "none",
           "line": {
            "color": "rgb(0, 0, 0)",
            "width": 1
           },
           "mode": "lines",
           "type": "scatter",
           "x": [
            0.33,
            0.66,
            null,
            0.6221212121212122,
            0.5888794484132436,
            null,
            0.6221212121212122,
            0.5888794484132436,
            null
           ],
           "y": [
            0,
            0,
            null,
            0,
            -0.034740981058275576,
            null,
            0,
            0.034740981058275576,
            null
           ]
          },
          {
           "hoverinfo": "none",
           "line": {
            "color": "rgb(0, 0, 0)",
            "width": 1
           },
           "mode": "lines",
           "type": "scatter",
           "x": [
            0.66,
            1,
            null,
            0.9621212121212122,
            0.9288794484132434,
            null,
            0.9621212121212122,
            0.9288794484132434,
            null
           ],
           "y": [
            0,
            0,
            null,
            0,
            -0.034740981058275576,
            null,
            0,
            0.034740981058275576,
            null
           ]
          },
          {
           "hoverinfo": "none",
           "marker": {
            "color": "rgb(0, 255, 0)",
            "line": {
             "color": "rgb(0, 0, 0)",
             "width": 1
            },
            "size": 20
           },
           "mode": "markers+text",
           "text": [
            "0"
           ],
           "textfont": {
            "color": "rgb(0, 0, 0)"
           },
           "textposition": "middle center",
           "type": "scatter",
           "x": [
            0
           ],
           "y": [
            0.5
           ]
          },
          {
           "hoverinfo": "none",
           "marker": {
            "color": "rgb(0, 255, 0)",
            "line": {
             "color": "rgb(0, 0, 0)",
             "width": 1
            },
            "size": 20
           },
           "mode": "markers+text",
           "text": [
            "1"
           ],
           "textfont": {
            "color": "rgb(0, 0, 0)"
           },
           "textposition": "middle center",
           "type": "scatter",
           "x": [
            0.33
           ],
           "y": [
            1
           ]
          },
          {
           "hoverinfo": "none",
           "marker": {
            "color": "rgb(0, 255, 0)",
            "line": {
             "color": "rgb(0, 0, 0)",
             "width": 1
            },
            "size": 20
           },
           "mode": "markers+text",
           "text": [
            "2"
           ],
           "textfont": {
            "color": "rgb(0, 0, 0)"
           },
           "textposition": "middle center",
           "type": "scatter",
           "x": [
            0.66
           ],
           "y": [
            1
           ]
          },
          {
           "hoverinfo": "none",
           "marker": {
            "color": "rgb(0, 255, 0)",
            "line": {
             "color": "rgb(0, 0, 0)",
             "width": 1
            },
            "size": 20
           },
           "mode": "markers+text",
           "text": [
            "3"
           ],
           "textfont": {
            "color": "rgb(0, 0, 0)"
           },
           "textposition": "middle center",
           "type": "scatter",
           "x": [
            1
           ],
           "y": [
            1
           ]
          },
          {
           "hoverinfo": "none",
           "marker": {
            "color": "rgb(0, 255, 0)",
            "line": {
             "color": "rgb(0, 0, 0)",
             "width": 1
            },
            "size": 20
           },
           "mode": "markers+text",
           "text": [
            "4"
           ],
           "textfont": {
            "color": "rgb(0, 0, 0)"
           },
           "textposition": "middle center",
           "type": "scatter",
           "x": [
            0.33
           ],
           "y": [
            0
           ]
          },
          {
           "hoverinfo": "none",
           "marker": {
            "color": "rgb(0, 255, 0)",
            "line": {
             "color": "rgb(0, 0, 0)",
             "width": 1
            },
            "size": 20
           },
           "mode": "markers+text",
           "text": [
            "5"
           ],
           "textfont": {
            "color": "rgb(0, 0, 0)"
           },
           "textposition": "middle center",
           "type": "scatter",
           "x": [
            0.66
           ],
           "y": [
            0
           ]
          },
          {
           "hoverinfo": "none",
           "marker": {
            "color": "rgb(255, 255, 255)",
            "line": {
             "color": "rgb(0, 0, 0)",
             "width": 1
            },
            "size": 20
           },
           "mode": "markers+text",
           "text": [
            "6"
           ],
           "textfont": {
            "color": "rgb(0, 0, 0)"
           },
           "textposition": "middle center",
           "type": "scatter",
           "x": [
            1
           ],
           "y": [
            0
           ]
          }
         ],
         "name": "5"
        },
        {
         "data": [
          {
           "hoverinfo": "none",
           "line": {
            "color": "rgb(0, 0, 0)",
            "width": 1
           },
           "mode": "lines",
           "type": "scatter",
           "x": [
            0,
            0.33,
            null,
            0.3003062713421305,
            0.2855225877733855,
            null,
            0.3003062713421305,
            0.2629725579755741,
            null
           ],
           "y": [
            0.5,
            1,
            null,
            0.9550095020335311,
            0.8882926689752846,
            null,
            0.9550095020335311,
            0.9427605821595028,
            null
           ]
          },
          {
           "hoverinfo": "none",
           "line": {
            "color": "rgb(0, 0, 0)",
            "width": 1
           },
           "mode": "lines",
           "type": "scatter",
           "x": [
            0,
            0.33,
            null,
            0.3003062713421305,
            0.2629725579755741,
            null,
            0.3003062713421305,
            0.2855225877733855,
            null
           ],
           "y": [
            0.5,
            0,
            null,
            0.04499049796646893,
            0.0572394178404972,
            null,
            0.04499049796646893,
            0.11170733102471547,
            null
           ]
          },
          {
           "hoverinfo": "none",
           "line": {
            "color": "rgb(0, 0, 0)",
            "width": 1
           },
           "mode": "lines",
           "type": "scatter",
           "x": [
            0.33,
            0.66,
            null,
            0.6221212121212122,
            0.5888794484132436,
            null,
            0.6221212121212122,
            0.5888794484132436,
            null
           ],
           "y": [
            1,
            1,
            null,
            1,
            0.9652590189417244,
            null,
            1,
            1.0347409810582755,
            null
           ]
          },
          {
           "hoverinfo": "none",
           "line": {
            "color": "rgb(0, 0, 0)",
            "width": 1
           },
           "mode": "lines",
           "type": "scatter",
           "x": [
            0.66,
            1,
            null,
            0.9621212121212122,
            0.9288794484132434,
            null,
            0.9621212121212122,
            0.9288794484132434,
            null
           ],
           "y": [
            1,
            1,
            null,
            1,
            0.9652590189417244,
            null,
            1,
            1.0347409810582755,
            null
           ]
          },
          {
           "hoverinfo": "none",
           "line": {
            "color": "rgb(0, 0, 0)",
            "width": 1
           },
           "mode": "lines",
           "type": "scatter",
           "x": [
            0.66,
            0.33,
            null,
            0.35022071942550836,
            0.3526100389194443,
            null,
            0.35022071942550836,
            0.3833221014449805,
            null
           ],
           "y": [
            1,
            0,
            null,
            0.06127490735002531,
            0.13359437096827784,
            null,
            0.06127490735002531,
            0.09650302407543368,
            null
           ]
          },
          {
           "hoverinfo": "none",
           "line": {
            "color": "rgb(0, 0, 0)",
            "width": 1
           },
           "mode": "lines",
           "type": "scatter",
           "x": [
            1,
            0.66,
            null,
            0.6806532023433265,
            0.6835549327328607,
            null,
            0.6806532023433265,
            0.7140012524011855,
            null
           ],
           "y": [
            1,
            0,
            null,
            0.06074471277448944,
            0.13299554373343975,
            null,
            0.06074471277448944,
            0.09511088313140172,
            null
           ]
          },
          {
           "hoverinfo": "none",
           "line": {
            "color": "rgb(0, 0, 0)",
            "width": 1
           },
           "mode": "lines",
           "type": "scatter",
           "x": [
            0.33,
            0.66,
            null,
            0.6221212121212122,
            0.5888794484132436,
            null,
            0.6221212121212122,
            0.5888794484132436,
            null
           ],
           "y": [
            0,
            0,
            null,
            0,
            -0.034740981058275576,
            null,
            0,
            0.034740981058275576,
            null
           ]
          },
          {
           "hoverinfo": "none",
           "line": {
            "color": "rgb(0, 0, 0)",
            "width": 1
           },
           "mode": "lines",
           "type": "scatter",
           "x": [
            0.66,
            1,
            null,
            0.9621212121212122,
            0.9288794484132434,
            null,
            0.9621212121212122,
            0.9288794484132434,
            null
           ],
           "y": [
            0,
            0,
            null,
            0,
            -0.034740981058275576,
            null,
            0,
            0.034740981058275576,
            null
           ]
          },
          {
           "hoverinfo": "none",
           "marker": {
            "color": "rgb(0, 255, 0)",
            "line": {
             "color": "rgb(0, 0, 0)",
             "width": 1
            },
            "size": 20
           },
           "mode": "markers+text",
           "text": [
            "0"
           ],
           "textfont": {
            "color": "rgb(0, 0, 0)"
           },
           "textposition": "middle center",
           "type": "scatter",
           "x": [
            0
           ],
           "y": [
            0.5
           ]
          },
          {
           "hoverinfo": "none",
           "marker": {
            "color": "rgb(0, 255, 0)",
            "line": {
             "color": "rgb(0, 0, 0)",
             "width": 1
            },
            "size": 20
           },
           "mode": "markers+text",
           "text": [
            "1"
           ],
           "textfont": {
            "color": "rgb(0, 0, 0)"
           },
           "textposition": "middle center",
           "type": "scatter",
           "x": [
            0.33
           ],
           "y": [
            1
           ]
          },
          {
           "hoverinfo": "none",
           "marker": {
            "color": "rgb(0, 255, 0)",
            "line": {
             "color": "rgb(0, 0, 0)",
             "width": 1
            },
            "size": 20
           },
           "mode": "markers+text",
           "text": [
            "2"
           ],
           "textfont": {
            "color": "rgb(0, 0, 0)"
           },
           "textposition": "middle center",
           "type": "scatter",
           "x": [
            0.66
           ],
           "y": [
            1
           ]
          },
          {
           "hoverinfo": "none",
           "marker": {
            "color": "rgb(0, 255, 0)",
            "line": {
             "color": "rgb(0, 0, 0)",
             "width": 1
            },
            "size": 20
           },
           "mode": "markers+text",
           "text": [
            "3"
           ],
           "textfont": {
            "color": "rgb(0, 0, 0)"
           },
           "textposition": "middle center",
           "type": "scatter",
           "x": [
            1
           ],
           "y": [
            1
           ]
          },
          {
           "hoverinfo": "none",
           "marker": {
            "color": "rgb(0, 255, 0)",
            "line": {
             "color": "rgb(0, 0, 0)",
             "width": 1
            },
            "size": 20
           },
           "mode": "markers+text",
           "text": [
            "4"
           ],
           "textfont": {
            "color": "rgb(0, 0, 0)"
           },
           "textposition": "middle center",
           "type": "scatter",
           "x": [
            0.33
           ],
           "y": [
            0
           ]
          },
          {
           "hoverinfo": "none",
           "marker": {
            "color": "rgb(0, 255, 0)",
            "line": {
             "color": "rgb(0, 0, 0)",
             "width": 1
            },
            "size": 20
           },
           "mode": "markers+text",
           "text": [
            "5"
           ],
           "textfont": {
            "color": "rgb(0, 0, 0)"
           },
           "textposition": "middle center",
           "type": "scatter",
           "x": [
            0.66
           ],
           "y": [
            0
           ]
          },
          {
           "hoverinfo": "none",
           "marker": {
            "color": "rgb(0, 255, 0)",
            "line": {
             "color": "rgb(0, 0, 0)",
             "width": 1
            },
            "size": 20
           },
           "mode": "markers+text",
           "text": [
            "6"
           ],
           "textfont": {
            "color": "rgb(0, 0, 0)"
           },
           "textposition": "middle center",
           "type": "scatter",
           "x": [
            1
           ],
           "y": [
            0
           ]
          }
         ],
         "name": "6"
        }
       ],
       "layout": {
        "height": 256,
        "margin": {
         "b": 0,
         "l": 0,
         "r": 0,
         "t": 0
        },
        "showlegend": false,
        "sliders": [
         {
          "currentvalue": {
           "visible": false
          },
          "steps": [
           {
            "args": [
             [
              0
             ],
             {
              "frame": {
               "redraw": false
              },
              "mode": "immediate"
             }
            ],
            "label": "",
            "method": "animate"
           },
           {
            "args": [
             [
              1
             ],
             {
              "frame": {
               "redraw": false
              },
              "mode": "immediate"
             }
            ],
            "label": "",
            "method": "animate"
           },
           {
            "args": [
             [
              2
             ],
             {
              "frame": {
               "redraw": false
              },
              "mode": "immediate"
             }
            ],
            "label": "",
            "method": "animate"
           },
           {
            "args": [
             [
              3
             ],
             {
              "frame": {
               "redraw": false
              },
              "mode": "immediate"
             }
            ],
            "label": "",
            "method": "animate"
           },
           {
            "args": [
             [
              4
             ],
             {
              "frame": {
               "redraw": false
              },
              "mode": "immediate"
             }
            ],
            "label": "",
            "method": "animate"
           },
           {
            "args": [
             [
              5
             ],
             {
              "frame": {
               "redraw": false
              },
              "mode": "immediate"
             }
            ],
            "label": "",
            "method": "animate"
           },
           {
            "args": [
             [
              6
             ],
             {
              "frame": {
               "redraw": false
              },
              "mode": "immediate"
             }
            ],
            "label": "",
            "method": "animate"
           }
          ]
         }
        ],
        "updatemenus": [
         {
          "buttons": [
           {
            "args": [
             null,
             {
              "frame": {
               "redraw": false
              },
              "fromcurrent": true
             }
            ],
            "label": "Play",
            "method": "animate"
           },
           {
            "args": [
             [
              null
             ],
             {
              "frame": {
               "redraw": false
              },
              "mode": "immediate"
             }
            ],
            "label": "Pause",
            "method": "animate"
           }
          ],
          "showactive": true,
          "type": "buttons"
         }
        ],
        "width": 408,
        "xaxis": {
         "showgrid": false,
         "showticklabels": false,
         "zeroline": false
        },
        "yaxis": {
         "showgrid": false,
         "showticklabels": false,
         "zeroline": false
        }
       }
      },
      "text/html": [
       "<div id=\"932b5954-35be-4e29-baf3-4b342dfcde35\" style=\"height: 256.0px; width: 408.0px;\" class=\"plotly-graph-div\"></div><script type=\"text/javascript\">require([\"plotly\"], function(Plotly) { window.PLOTLYENV=window.PLOTLYENV || {};window.PLOTLYENV.BASE_URL=\"https://plot.ly\";\n",
       "        Plotly.plot(\n",
       "            '932b5954-35be-4e29-baf3-4b342dfcde35',\n",
       "            [{\"hoverinfo\": \"none\", \"line\": {\"color\": \"rgb(0, 0, 0)\", \"width\": 1}, \"mode\": \"lines\", \"x\": [0.0, 0.33, null, 0.3003062713421305, 0.2855225877733855, null, 0.3003062713421305, 0.2629725579755741, null], \"y\": [0.5, 1.0, null, 0.9550095020335311, 0.8882926689752846, null, 0.9550095020335311, 0.9427605821595028, null], \"type\": \"scatter\", \"uid\": \"25d74192-997e-11e8-b2d4-9a5fd3dcadb7\"}, {\"hoverinfo\": \"none\", \"line\": {\"color\": \"rgb(0, 0, 0)\", \"width\": 1}, \"mode\": \"lines\", \"x\": [0.0, 0.33, null, 0.3003062713421305, 0.2629725579755741, null, 0.3003062713421305, 0.2855225877733855, null], \"y\": [0.5, 0.0, null, 0.04499049796646893, 0.0572394178404972, null, 0.04499049796646893, 0.11170733102471547, null], \"type\": \"scatter\", \"uid\": \"25d74193-997e-11e8-8d2a-9a5fd3dcadb7\"}, {\"hoverinfo\": \"none\", \"line\": {\"color\": \"rgb(0, 0, 0)\", \"width\": 1}, \"mode\": \"lines\", \"x\": [0.33, 0.66, null, 0.6221212121212122, 0.5888794484132436, null, 0.6221212121212122, 0.5888794484132436, null], \"y\": [1.0, 1.0, null, 1.0, 0.9652590189417244, null, 1.0, 1.0347409810582755, null], \"type\": \"scatter\", \"uid\": \"25d74194-997e-11e8-b403-9a5fd3dcadb7\"}, {\"hoverinfo\": \"none\", \"line\": {\"color\": \"rgb(0, 0, 0)\", \"width\": 1}, \"mode\": \"lines\", \"x\": [0.66, 1.0, null, 0.9621212121212122, 0.9288794484132434, null, 0.9621212121212122, 0.9288794484132434, null], \"y\": [1.0, 1.0, null, 1.0, 0.9652590189417244, null, 1.0, 1.0347409810582755, null], \"type\": \"scatter\", \"uid\": \"25d74195-997e-11e8-8fe5-9a5fd3dcadb7\"}, {\"hoverinfo\": \"none\", \"line\": {\"color\": \"rgb(0, 0, 0)\", \"width\": 1}, \"mode\": \"lines\", \"x\": [0.66, 0.33, null, 0.35022071942550836, 0.3526100389194443, null, 0.35022071942550836, 0.3833221014449805, null], \"y\": [1.0, 0.0, null, 0.06127490735002531, 0.13359437096827784, null, 0.06127490735002531, 0.09650302407543368, null], \"type\": \"scatter\", \"uid\": \"25d74196-997e-11e8-8f1e-9a5fd3dcadb7\"}, {\"hoverinfo\": \"none\", \"line\": {\"color\": \"rgb(0, 0, 0)\", \"width\": 1}, \"mode\": \"lines\", \"x\": [1.0, 0.66, null, 0.6806532023433265, 0.6835549327328607, null, 0.6806532023433265, 0.7140012524011855, null], \"y\": [1.0, 0.0, null, 0.06074471277448944, 0.13299554373343975, null, 0.06074471277448944, 0.09511088313140172, null], \"type\": \"scatter\", \"uid\": \"25d74197-997e-11e8-8cfb-9a5fd3dcadb7\"}, {\"hoverinfo\": \"none\", \"line\": {\"color\": \"rgb(0, 0, 0)\", \"width\": 1}, \"mode\": \"lines\", \"x\": [0.33, 0.66, null, 0.6221212121212122, 0.5888794484132436, null, 0.6221212121212122, 0.5888794484132436, null], \"y\": [0.0, 0.0, null, 0.0, -0.034740981058275576, null, 0.0, 0.034740981058275576, null], \"type\": \"scatter\", \"uid\": \"25d74198-997e-11e8-bbc4-9a5fd3dcadb7\"}, {\"hoverinfo\": \"none\", \"line\": {\"color\": \"rgb(0, 0, 0)\", \"width\": 1}, \"mode\": \"lines\", \"x\": [0.66, 1.0, null, 0.9621212121212122, 0.9288794484132434, null, 0.9621212121212122, 0.9288794484132434, null], \"y\": [0.0, 0.0, null, 0.0, -0.034740981058275576, null, 0.0, 0.034740981058275576, null], \"type\": \"scatter\", \"uid\": \"25d74199-997e-11e8-9b5a-9a5fd3dcadb7\"}, {\"hoverinfo\": \"none\", \"marker\": {\"color\": \"rgb(0, 255, 0)\", \"line\": {\"color\": \"rgb(0, 0, 0)\", \"width\": 1}, \"size\": 20}, \"mode\": \"markers+text\", \"text\": [\"0\"], \"textfont\": {\"color\": \"rgb(0, 0, 0)\"}, \"textposition\": \"middle center\", \"x\": [0.0], \"y\": [0.5], \"type\": \"scatter\", \"uid\": \"25d7419a-997e-11e8-89e5-9a5fd3dcadb7\"}, {\"hoverinfo\": \"none\", \"marker\": {\"color\": \"rgb(255, 255, 255)\", \"line\": {\"color\": \"rgb(0, 0, 0)\", \"width\": 1}, \"size\": 20}, \"mode\": \"markers+text\", \"text\": [\"1\"], \"textfont\": {\"color\": \"rgb(0, 0, 0)\"}, \"textposition\": \"middle center\", \"x\": [0.33], \"y\": [1.0], \"type\": \"scatter\", \"uid\": \"25d7419b-997e-11e8-a5dc-9a5fd3dcadb7\"}, {\"hoverinfo\": \"none\", \"marker\": {\"color\": \"rgb(255, 255, 255)\", \"line\": {\"color\": \"rgb(0, 0, 0)\", \"width\": 1}, \"size\": 20}, \"mode\": \"markers+text\", \"text\": [\"2\"], \"textfont\": {\"color\": \"rgb(0, 0, 0)\"}, \"textposition\": \"middle center\", \"x\": [0.66], \"y\": [1.0], \"type\": \"scatter\", \"uid\": \"25d7419c-997e-11e8-9c78-9a5fd3dcadb7\"}, {\"hoverinfo\": \"none\", \"marker\": {\"color\": \"rgb(255, 255, 255)\", \"line\": {\"color\": \"rgb(0, 0, 0)\", \"width\": 1}, \"size\": 20}, \"mode\": \"markers+text\", \"text\": [\"3\"], \"textfont\": {\"color\": \"rgb(0, 0, 0)\"}, \"textposition\": \"middle center\", \"x\": [1.0], \"y\": [1.0], \"type\": \"scatter\", \"uid\": \"25d7419d-997e-11e8-b039-9a5fd3dcadb7\"}, {\"hoverinfo\": \"none\", \"marker\": {\"color\": \"rgb(255, 255, 255)\", \"line\": {\"color\": \"rgb(0, 0, 0)\", \"width\": 1}, \"size\": 20}, \"mode\": \"markers+text\", \"text\": [\"4\"], \"textfont\": {\"color\": \"rgb(0, 0, 0)\"}, \"textposition\": \"middle center\", \"x\": [0.33], \"y\": [0.0], \"type\": \"scatter\", \"uid\": \"25d7419e-997e-11e8-9041-9a5fd3dcadb7\"}, {\"hoverinfo\": \"none\", \"marker\": {\"color\": \"rgb(255, 255, 255)\", \"line\": {\"color\": \"rgb(0, 0, 0)\", \"width\": 1}, \"size\": 20}, \"mode\": \"markers+text\", \"text\": [\"5\"], \"textfont\": {\"color\": \"rgb(0, 0, 0)\"}, \"textposition\": \"middle center\", \"x\": [0.66], \"y\": [0.0], \"type\": \"scatter\", \"uid\": \"25d7419f-997e-11e8-9925-9a5fd3dcadb7\"}, {\"hoverinfo\": \"none\", \"marker\": {\"color\": \"rgb(255, 255, 255)\", \"line\": {\"color\": \"rgb(0, 0, 0)\", \"width\": 1}, \"size\": 20}, \"mode\": \"markers+text\", \"text\": [\"6\"], \"textfont\": {\"color\": \"rgb(0, 0, 0)\"}, \"textposition\": \"middle center\", \"x\": [1.0], \"y\": [0.0], \"type\": \"scatter\", \"uid\": \"25d741a0-997e-11e8-9833-9a5fd3dcadb7\"}],\n",
       "            {\"height\": 256.0, \"margin\": {\"b\": 0, \"l\": 0, \"r\": 0, \"t\": 0}, \"showlegend\": false, \"sliders\": [{\"currentvalue\": {\"visible\": false}, \"steps\": [{\"args\": [[0], {\"frame\": {\"redraw\": false}, \"mode\": \"immediate\"}], \"label\": \"\", \"method\": \"animate\"}, {\"args\": [[1], {\"frame\": {\"redraw\": false}, \"mode\": \"immediate\"}], \"label\": \"\", \"method\": \"animate\"}, {\"args\": [[2], {\"frame\": {\"redraw\": false}, \"mode\": \"immediate\"}], \"label\": \"\", \"method\": \"animate\"}, {\"args\": [[3], {\"frame\": {\"redraw\": false}, \"mode\": \"immediate\"}], \"label\": \"\", \"method\": \"animate\"}, {\"args\": [[4], {\"frame\": {\"redraw\": false}, \"mode\": \"immediate\"}], \"label\": \"\", \"method\": \"animate\"}, {\"args\": [[5], {\"frame\": {\"redraw\": false}, \"mode\": \"immediate\"}], \"label\": \"\", \"method\": \"animate\"}, {\"args\": [[6], {\"frame\": {\"redraw\": false}, \"mode\": \"immediate\"}], \"label\": \"\", \"method\": \"animate\"}]}], \"updatemenus\": [{\"buttons\": [{\"args\": [null, {\"frame\": {\"redraw\": false}, \"fromcurrent\": true}], \"label\": \"Play\", \"method\": \"animate\"}, {\"args\": [[null], {\"frame\": {\"redraw\": false}, \"mode\": \"immediate\"}], \"label\": \"Pause\", \"method\": \"animate\"}], \"showactive\": true, \"type\": \"buttons\"}], \"width\": 408.0, \"xaxis\": {\"showgrid\": false, \"showticklabels\": false, \"zeroline\": false}, \"yaxis\": {\"showgrid\": false, \"showticklabels\": false, \"zeroline\": false}},\n",
       "            {\"showLink\": false, \"linkText\": \"Export to plot.ly\", \"displayModeBar\": false}\n",
       "        ).then(function () {return Plotly.addFrames('932b5954-35be-4e29-baf3-4b342dfcde35',[{\"data\": [{\"hoverinfo\": \"none\", \"line\": {\"color\": \"rgb(0, 0, 0)\", \"width\": 1}, \"mode\": \"lines\", \"x\": [0.0, 0.33, null, 0.3003062713421305, 0.2855225877733855, null, 0.3003062713421305, 0.2629725579755741, null], \"y\": [0.5, 1.0, null, 0.9550095020335311, 0.8882926689752846, null, 0.9550095020335311, 0.9427605821595028, null], \"type\": \"scatter\"}, {\"hoverinfo\": \"none\", \"line\": {\"color\": \"rgb(0, 0, 0)\", \"width\": 1}, \"mode\": \"lines\", \"x\": [0.0, 0.33, null, 0.3003062713421305, 0.2629725579755741, null, 0.3003062713421305, 0.2855225877733855, null], \"y\": [0.5, 0.0, null, 0.04499049796646893, 0.0572394178404972, null, 0.04499049796646893, 0.11170733102471547, null], \"type\": \"scatter\"}, {\"hoverinfo\": \"none\", \"line\": {\"color\": \"rgb(0, 0, 0)\", \"width\": 1}, \"mode\": \"lines\", \"x\": [0.33, 0.66, null, 0.6221212121212122, 0.5888794484132436, null, 0.6221212121212122, 0.5888794484132436, null], \"y\": [1.0, 1.0, null, 1.0, 0.9652590189417244, null, 1.0, 1.0347409810582755, null], \"type\": \"scatter\"}, {\"hoverinfo\": \"none\", \"line\": {\"color\": \"rgb(0, 0, 0)\", \"width\": 1}, \"mode\": \"lines\", \"x\": [0.66, 1.0, null, 0.9621212121212122, 0.9288794484132434, null, 0.9621212121212122, 0.9288794484132434, null], \"y\": [1.0, 1.0, null, 1.0, 0.9652590189417244, null, 1.0, 1.0347409810582755, null], \"type\": \"scatter\"}, {\"hoverinfo\": \"none\", \"line\": {\"color\": \"rgb(0, 0, 0)\", \"width\": 1}, \"mode\": \"lines\", \"x\": [0.66, 0.33, null, 0.35022071942550836, 0.3526100389194443, null, 0.35022071942550836, 0.3833221014449805, null], \"y\": [1.0, 0.0, null, 0.06127490735002531, 0.13359437096827784, null, 0.06127490735002531, 0.09650302407543368, null], \"type\": \"scatter\"}, {\"hoverinfo\": \"none\", \"line\": {\"color\": \"rgb(0, 0, 0)\", \"width\": 1}, \"mode\": \"lines\", \"x\": [1.0, 0.66, null, 0.6806532023433265, 0.6835549327328607, null, 0.6806532023433265, 0.7140012524011855, null], \"y\": [1.0, 0.0, null, 0.06074471277448944, 0.13299554373343975, null, 0.06074471277448944, 0.09511088313140172, null], \"type\": \"scatter\"}, {\"hoverinfo\": \"none\", \"line\": {\"color\": \"rgb(0, 0, 0)\", \"width\": 1}, \"mode\": \"lines\", \"x\": [0.33, 0.66, null, 0.6221212121212122, 0.5888794484132436, null, 0.6221212121212122, 0.5888794484132436, null], \"y\": [0.0, 0.0, null, 0.0, -0.034740981058275576, null, 0.0, 0.034740981058275576, null], \"type\": \"scatter\"}, {\"hoverinfo\": \"none\", \"line\": {\"color\": \"rgb(0, 0, 0)\", \"width\": 1}, \"mode\": \"lines\", \"x\": [0.66, 1.0, null, 0.9621212121212122, 0.9288794484132434, null, 0.9621212121212122, 0.9288794484132434, null], \"y\": [0.0, 0.0, null, 0.0, -0.034740981058275576, null, 0.0, 0.034740981058275576, null], \"type\": \"scatter\"}, {\"hoverinfo\": \"none\", \"marker\": {\"color\": \"rgb(0, 255, 0)\", \"line\": {\"color\": \"rgb(0, 0, 0)\", \"width\": 1}, \"size\": 20}, \"mode\": \"markers+text\", \"text\": [\"0\"], \"textfont\": {\"color\": \"rgb(0, 0, 0)\"}, \"textposition\": \"middle center\", \"x\": [0.0], \"y\": [0.5], \"type\": \"scatter\"}, {\"hoverinfo\": \"none\", \"marker\": {\"color\": \"rgb(255, 255, 255)\", \"line\": {\"color\": \"rgb(0, 0, 0)\", \"width\": 1}, \"size\": 20}, \"mode\": \"markers+text\", \"text\": [\"1\"], \"textfont\": {\"color\": \"rgb(0, 0, 0)\"}, \"textposition\": \"middle center\", \"x\": [0.33], \"y\": [1.0], \"type\": \"scatter\"}, {\"hoverinfo\": \"none\", \"marker\": {\"color\": \"rgb(255, 255, 255)\", \"line\": {\"color\": \"rgb(0, 0, 0)\", \"width\": 1}, \"size\": 20}, \"mode\": \"markers+text\", \"text\": [\"2\"], \"textfont\": {\"color\": \"rgb(0, 0, 0)\"}, \"textposition\": \"middle center\", \"x\": [0.66], \"y\": [1.0], \"type\": \"scatter\"}, {\"hoverinfo\": \"none\", \"marker\": {\"color\": \"rgb(255, 255, 255)\", \"line\": {\"color\": \"rgb(0, 0, 0)\", \"width\": 1}, \"size\": 20}, \"mode\": \"markers+text\", \"text\": [\"3\"], \"textfont\": {\"color\": \"rgb(0, 0, 0)\"}, \"textposition\": \"middle center\", \"x\": [1.0], \"y\": [1.0], \"type\": \"scatter\"}, {\"hoverinfo\": \"none\", \"marker\": {\"color\": \"rgb(255, 255, 255)\", \"line\": {\"color\": \"rgb(0, 0, 0)\", \"width\": 1}, \"size\": 20}, \"mode\": \"markers+text\", \"text\": [\"4\"], \"textfont\": {\"color\": \"rgb(0, 0, 0)\"}, \"textposition\": \"middle center\", \"x\": [0.33], \"y\": [0.0], \"type\": \"scatter\"}, {\"hoverinfo\": \"none\", \"marker\": {\"color\": \"rgb(255, 255, 255)\", \"line\": {\"color\": \"rgb(0, 0, 0)\", \"width\": 1}, \"size\": 20}, \"mode\": \"markers+text\", \"text\": [\"5\"], \"textfont\": {\"color\": \"rgb(0, 0, 0)\"}, \"textposition\": \"middle center\", \"x\": [0.66], \"y\": [0.0], \"type\": \"scatter\"}, {\"hoverinfo\": \"none\", \"marker\": {\"color\": \"rgb(255, 255, 255)\", \"line\": {\"color\": \"rgb(0, 0, 0)\", \"width\": 1}, \"size\": 20}, \"mode\": \"markers+text\", \"text\": [\"6\"], \"textfont\": {\"color\": \"rgb(0, 0, 0)\"}, \"textposition\": \"middle center\", \"x\": [1.0], \"y\": [0.0], \"type\": \"scatter\"}], \"name\": \"0\"}, {\"data\": [{\"hoverinfo\": \"none\", \"line\": {\"color\": \"rgb(0, 0, 0)\", \"width\": 1}, \"mode\": \"lines\", \"x\": [0.0, 0.33, null, 0.3003062713421305, 0.2855225877733855, null, 0.3003062713421305, 0.2629725579755741, null], \"y\": [0.5, 1.0, null, 0.9550095020335311, 0.8882926689752846, null, 0.9550095020335311, 0.9427605821595028, null], \"type\": \"scatter\"}, {\"hoverinfo\": \"none\", \"line\": {\"color\": \"rgb(0, 0, 0)\", \"width\": 1}, \"mode\": \"lines\", \"x\": [0.0, 0.33, null, 0.3003062713421305, 0.2629725579755741, null, 0.3003062713421305, 0.2855225877733855, null], \"y\": [0.5, 0.0, null, 0.04499049796646893, 0.0572394178404972, null, 0.04499049796646893, 0.11170733102471547, null], \"type\": \"scatter\"}, {\"hoverinfo\": \"none\", \"line\": {\"color\": \"rgb(0, 0, 0)\", \"width\": 1}, \"mode\": \"lines\", \"x\": [0.33, 0.66, null, 0.6221212121212122, 0.5888794484132436, null, 0.6221212121212122, 0.5888794484132436, null], \"y\": [1.0, 1.0, null, 1.0, 0.9652590189417244, null, 1.0, 1.0347409810582755, null], \"type\": \"scatter\"}, {\"hoverinfo\": \"none\", \"line\": {\"color\": \"rgb(0, 0, 0)\", \"width\": 1}, \"mode\": \"lines\", \"x\": [0.66, 1.0, null, 0.9621212121212122, 0.9288794484132434, null, 0.9621212121212122, 0.9288794484132434, null], \"y\": [1.0, 1.0, null, 1.0, 0.9652590189417244, null, 1.0, 1.0347409810582755, null], \"type\": \"scatter\"}, {\"hoverinfo\": \"none\", \"line\": {\"color\": \"rgb(0, 0, 0)\", \"width\": 1}, \"mode\": \"lines\", \"x\": [0.66, 0.33, null, 0.35022071942550836, 0.3526100389194443, null, 0.35022071942550836, 0.3833221014449805, null], \"y\": [1.0, 0.0, null, 0.06127490735002531, 0.13359437096827784, null, 0.06127490735002531, 0.09650302407543368, null], \"type\": \"scatter\"}, {\"hoverinfo\": \"none\", \"line\": {\"color\": \"rgb(0, 0, 0)\", \"width\": 1}, \"mode\": \"lines\", \"x\": [1.0, 0.66, null, 0.6806532023433265, 0.6835549327328607, null, 0.6806532023433265, 0.7140012524011855, null], \"y\": [1.0, 0.0, null, 0.06074471277448944, 0.13299554373343975, null, 0.06074471277448944, 0.09511088313140172, null], \"type\": \"scatter\"}, {\"hoverinfo\": \"none\", \"line\": {\"color\": \"rgb(0, 0, 0)\", \"width\": 1}, \"mode\": \"lines\", \"x\": [0.33, 0.66, null, 0.6221212121212122, 0.5888794484132436, null, 0.6221212121212122, 0.5888794484132436, null], \"y\": [0.0, 0.0, null, 0.0, -0.034740981058275576, null, 0.0, 0.034740981058275576, null], \"type\": \"scatter\"}, {\"hoverinfo\": \"none\", \"line\": {\"color\": \"rgb(0, 0, 0)\", \"width\": 1}, \"mode\": \"lines\", \"x\": [0.66, 1.0, null, 0.9621212121212122, 0.9288794484132434, null, 0.9621212121212122, 0.9288794484132434, null], \"y\": [0.0, 0.0, null, 0.0, -0.034740981058275576, null, 0.0, 0.034740981058275576, null], \"type\": \"scatter\"}, {\"hoverinfo\": \"none\", \"marker\": {\"color\": \"rgb(0, 255, 0)\", \"line\": {\"color\": \"rgb(0, 0, 0)\", \"width\": 1}, \"size\": 20}, \"mode\": \"markers+text\", \"text\": [\"0\"], \"textfont\": {\"color\": \"rgb(0, 0, 0)\"}, \"textposition\": \"middle center\", \"x\": [0.0], \"y\": [0.5], \"type\": \"scatter\"}, {\"hoverinfo\": \"none\", \"marker\": {\"color\": \"rgb(0, 255, 0)\", \"line\": {\"color\": \"rgb(0, 0, 0)\", \"width\": 1}, \"size\": 20}, \"mode\": \"markers+text\", \"text\": [\"1\"], \"textfont\": {\"color\": \"rgb(0, 0, 0)\"}, \"textposition\": \"middle center\", \"x\": [0.33], \"y\": [1.0], \"type\": \"scatter\"}, {\"hoverinfo\": \"none\", \"marker\": {\"color\": \"rgb(255, 255, 255)\", \"line\": {\"color\": \"rgb(0, 0, 0)\", \"width\": 1}, \"size\": 20}, \"mode\": \"markers+text\", \"text\": [\"2\"], \"textfont\": {\"color\": \"rgb(0, 0, 0)\"}, \"textposition\": \"middle center\", \"x\": [0.66], \"y\": [1.0], \"type\": \"scatter\"}, {\"hoverinfo\": \"none\", \"marker\": {\"color\": \"rgb(255, 255, 255)\", \"line\": {\"color\": \"rgb(0, 0, 0)\", \"width\": 1}, \"size\": 20}, \"mode\": \"markers+text\", \"text\": [\"3\"], \"textfont\": {\"color\": \"rgb(0, 0, 0)\"}, \"textposition\": \"middle center\", \"x\": [1.0], \"y\": [1.0], \"type\": \"scatter\"}, {\"hoverinfo\": \"none\", \"marker\": {\"color\": \"rgb(255, 255, 255)\", \"line\": {\"color\": \"rgb(0, 0, 0)\", \"width\": 1}, \"size\": 20}, \"mode\": \"markers+text\", \"text\": [\"4\"], \"textfont\": {\"color\": \"rgb(0, 0, 0)\"}, \"textposition\": \"middle center\", \"x\": [0.33], \"y\": [0.0], \"type\": \"scatter\"}, {\"hoverinfo\": \"none\", \"marker\": {\"color\": \"rgb(255, 255, 255)\", \"line\": {\"color\": \"rgb(0, 0, 0)\", \"width\": 1}, \"size\": 20}, \"mode\": \"markers+text\", \"text\": [\"5\"], \"textfont\": {\"color\": \"rgb(0, 0, 0)\"}, \"textposition\": \"middle center\", \"x\": [0.66], \"y\": [0.0], \"type\": \"scatter\"}, {\"hoverinfo\": \"none\", \"marker\": {\"color\": \"rgb(255, 255, 255)\", \"line\": {\"color\": \"rgb(0, 0, 0)\", \"width\": 1}, \"size\": 20}, \"mode\": \"markers+text\", \"text\": [\"6\"], \"textfont\": {\"color\": \"rgb(0, 0, 0)\"}, \"textposition\": \"middle center\", \"x\": [1.0], \"y\": [0.0], \"type\": \"scatter\"}], \"name\": \"1\"}, {\"data\": [{\"hoverinfo\": \"none\", \"line\": {\"color\": \"rgb(0, 0, 0)\", \"width\": 1}, \"mode\": \"lines\", \"x\": [0.0, 0.33, null, 0.3003062713421305, 0.2855225877733855, null, 0.3003062713421305, 0.2629725579755741, null], \"y\": [0.5, 1.0, null, 0.9550095020335311, 0.8882926689752846, null, 0.9550095020335311, 0.9427605821595028, null], \"type\": \"scatter\"}, {\"hoverinfo\": \"none\", \"line\": {\"color\": \"rgb(0, 0, 0)\", \"width\": 1}, \"mode\": \"lines\", \"x\": [0.0, 0.33, null, 0.3003062713421305, 0.2629725579755741, null, 0.3003062713421305, 0.2855225877733855, null], \"y\": [0.5, 0.0, null, 0.04499049796646893, 0.0572394178404972, null, 0.04499049796646893, 0.11170733102471547, null], \"type\": \"scatter\"}, {\"hoverinfo\": \"none\", \"line\": {\"color\": \"rgb(0, 0, 0)\", \"width\": 1}, \"mode\": \"lines\", \"x\": [0.33, 0.66, null, 0.6221212121212122, 0.5888794484132436, null, 0.6221212121212122, 0.5888794484132436, null], \"y\": [1.0, 1.0, null, 1.0, 0.9652590189417244, null, 1.0, 1.0347409810582755, null], \"type\": \"scatter\"}, {\"hoverinfo\": \"none\", \"line\": {\"color\": \"rgb(0, 0, 0)\", \"width\": 1}, \"mode\": \"lines\", \"x\": [0.66, 1.0, null, 0.9621212121212122, 0.9288794484132434, null, 0.9621212121212122, 0.9288794484132434, null], \"y\": [1.0, 1.0, null, 1.0, 0.9652590189417244, null, 1.0, 1.0347409810582755, null], \"type\": \"scatter\"}, {\"hoverinfo\": \"none\", \"line\": {\"color\": \"rgb(0, 0, 0)\", \"width\": 1}, \"mode\": \"lines\", \"x\": [0.66, 0.33, null, 0.35022071942550836, 0.3526100389194443, null, 0.35022071942550836, 0.3833221014449805, null], \"y\": [1.0, 0.0, null, 0.06127490735002531, 0.13359437096827784, null, 0.06127490735002531, 0.09650302407543368, null], \"type\": \"scatter\"}, {\"hoverinfo\": \"none\", \"line\": {\"color\": \"rgb(0, 0, 0)\", \"width\": 1}, \"mode\": \"lines\", \"x\": [1.0, 0.66, null, 0.6806532023433265, 0.6835549327328607, null, 0.6806532023433265, 0.7140012524011855, null], \"y\": [1.0, 0.0, null, 0.06074471277448944, 0.13299554373343975, null, 0.06074471277448944, 0.09511088313140172, null], \"type\": \"scatter\"}, {\"hoverinfo\": \"none\", \"line\": {\"color\": \"rgb(0, 0, 0)\", \"width\": 1}, \"mode\": \"lines\", \"x\": [0.33, 0.66, null, 0.6221212121212122, 0.5888794484132436, null, 0.6221212121212122, 0.5888794484132436, null], \"y\": [0.0, 0.0, null, 0.0, -0.034740981058275576, null, 0.0, 0.034740981058275576, null], \"type\": \"scatter\"}, {\"hoverinfo\": \"none\", \"line\": {\"color\": \"rgb(0, 0, 0)\", \"width\": 1}, \"mode\": \"lines\", \"x\": [0.66, 1.0, null, 0.9621212121212122, 0.9288794484132434, null, 0.9621212121212122, 0.9288794484132434, null], \"y\": [0.0, 0.0, null, 0.0, -0.034740981058275576, null, 0.0, 0.034740981058275576, null], \"type\": \"scatter\"}, {\"hoverinfo\": \"none\", \"marker\": {\"color\": \"rgb(0, 255, 0)\", \"line\": {\"color\": \"rgb(0, 0, 0)\", \"width\": 1}, \"size\": 20}, \"mode\": \"markers+text\", \"text\": [\"0\"], \"textfont\": {\"color\": \"rgb(0, 0, 0)\"}, \"textposition\": \"middle center\", \"x\": [0.0], \"y\": [0.5], \"type\": \"scatter\"}, {\"hoverinfo\": \"none\", \"marker\": {\"color\": \"rgb(0, 255, 0)\", \"line\": {\"color\": \"rgb(0, 0, 0)\", \"width\": 1}, \"size\": 20}, \"mode\": \"markers+text\", \"text\": [\"1\"], \"textfont\": {\"color\": \"rgb(0, 0, 0)\"}, \"textposition\": \"middle center\", \"x\": [0.33], \"y\": [1.0], \"type\": \"scatter\"}, {\"hoverinfo\": \"none\", \"marker\": {\"color\": \"rgb(255, 255, 255)\", \"line\": {\"color\": \"rgb(0, 0, 0)\", \"width\": 1}, \"size\": 20}, \"mode\": \"markers+text\", \"text\": [\"2\"], \"textfont\": {\"color\": \"rgb(0, 0, 0)\"}, \"textposition\": \"middle center\", \"x\": [0.66], \"y\": [1.0], \"type\": \"scatter\"}, {\"hoverinfo\": \"none\", \"marker\": {\"color\": \"rgb(255, 255, 255)\", \"line\": {\"color\": \"rgb(0, 0, 0)\", \"width\": 1}, \"size\": 20}, \"mode\": \"markers+text\", \"text\": [\"3\"], \"textfont\": {\"color\": \"rgb(0, 0, 0)\"}, \"textposition\": \"middle center\", \"x\": [1.0], \"y\": [1.0], \"type\": \"scatter\"}, {\"hoverinfo\": \"none\", \"marker\": {\"color\": \"rgb(0, 255, 0)\", \"line\": {\"color\": \"rgb(0, 0, 0)\", \"width\": 1}, \"size\": 20}, \"mode\": \"markers+text\", \"text\": [\"4\"], \"textfont\": {\"color\": \"rgb(0, 0, 0)\"}, \"textposition\": \"middle center\", \"x\": [0.33], \"y\": [0.0], \"type\": \"scatter\"}, {\"hoverinfo\": \"none\", \"marker\": {\"color\": \"rgb(255, 255, 255)\", \"line\": {\"color\": \"rgb(0, 0, 0)\", \"width\": 1}, \"size\": 20}, \"mode\": \"markers+text\", \"text\": [\"5\"], \"textfont\": {\"color\": \"rgb(0, 0, 0)\"}, \"textposition\": \"middle center\", \"x\": [0.66], \"y\": [0.0], \"type\": \"scatter\"}, {\"hoverinfo\": \"none\", \"marker\": {\"color\": \"rgb(255, 255, 255)\", \"line\": {\"color\": \"rgb(0, 0, 0)\", \"width\": 1}, \"size\": 20}, \"mode\": \"markers+text\", \"text\": [\"6\"], \"textfont\": {\"color\": \"rgb(0, 0, 0)\"}, \"textposition\": \"middle center\", \"x\": [1.0], \"y\": [0.0], \"type\": \"scatter\"}], \"name\": \"2\"}, {\"data\": [{\"hoverinfo\": \"none\", \"line\": {\"color\": \"rgb(0, 0, 0)\", \"width\": 1}, \"mode\": \"lines\", \"x\": [0.0, 0.33, null, 0.3003062713421305, 0.2855225877733855, null, 0.3003062713421305, 0.2629725579755741, null], \"y\": [0.5, 1.0, null, 0.9550095020335311, 0.8882926689752846, null, 0.9550095020335311, 0.9427605821595028, null], \"type\": \"scatter\"}, {\"hoverinfo\": \"none\", \"line\": {\"color\": \"rgb(0, 0, 0)\", \"width\": 1}, \"mode\": \"lines\", \"x\": [0.0, 0.33, null, 0.3003062713421305, 0.2629725579755741, null, 0.3003062713421305, 0.2855225877733855, null], \"y\": [0.5, 0.0, null, 0.04499049796646893, 0.0572394178404972, null, 0.04499049796646893, 0.11170733102471547, null], \"type\": \"scatter\"}, {\"hoverinfo\": \"none\", \"line\": {\"color\": \"rgb(0, 0, 0)\", \"width\": 1}, \"mode\": \"lines\", \"x\": [0.33, 0.66, null, 0.6221212121212122, 0.5888794484132436, null, 0.6221212121212122, 0.5888794484132436, null], \"y\": [1.0, 1.0, null, 1.0, 0.9652590189417244, null, 1.0, 1.0347409810582755, null], \"type\": \"scatter\"}, {\"hoverinfo\": \"none\", \"line\": {\"color\": \"rgb(0, 0, 0)\", \"width\": 1}, \"mode\": \"lines\", \"x\": [0.66, 1.0, null, 0.9621212121212122, 0.9288794484132434, null, 0.9621212121212122, 0.9288794484132434, null], \"y\": [1.0, 1.0, null, 1.0, 0.9652590189417244, null, 1.0, 1.0347409810582755, null], \"type\": \"scatter\"}, {\"hoverinfo\": \"none\", \"line\": {\"color\": \"rgb(0, 0, 0)\", \"width\": 1}, \"mode\": \"lines\", \"x\": [0.66, 0.33, null, 0.35022071942550836, 0.3526100389194443, null, 0.35022071942550836, 0.3833221014449805, null], \"y\": [1.0, 0.0, null, 0.06127490735002531, 0.13359437096827784, null, 0.06127490735002531, 0.09650302407543368, null], \"type\": \"scatter\"}, {\"hoverinfo\": \"none\", \"line\": {\"color\": \"rgb(0, 0, 0)\", \"width\": 1}, \"mode\": \"lines\", \"x\": [1.0, 0.66, null, 0.6806532023433265, 0.6835549327328607, null, 0.6806532023433265, 0.7140012524011855, null], \"y\": [1.0, 0.0, null, 0.06074471277448944, 0.13299554373343975, null, 0.06074471277448944, 0.09511088313140172, null], \"type\": \"scatter\"}, {\"hoverinfo\": \"none\", \"line\": {\"color\": \"rgb(0, 0, 0)\", \"width\": 1}, \"mode\": \"lines\", \"x\": [0.33, 0.66, null, 0.6221212121212122, 0.5888794484132436, null, 0.6221212121212122, 0.5888794484132436, null], \"y\": [0.0, 0.0, null, 0.0, -0.034740981058275576, null, 0.0, 0.034740981058275576, null], \"type\": \"scatter\"}, {\"hoverinfo\": \"none\", \"line\": {\"color\": \"rgb(0, 0, 0)\", \"width\": 1}, \"mode\": \"lines\", \"x\": [0.66, 1.0, null, 0.9621212121212122, 0.9288794484132434, null, 0.9621212121212122, 0.9288794484132434, null], \"y\": [0.0, 0.0, null, 0.0, -0.034740981058275576, null, 0.0, 0.034740981058275576, null], \"type\": \"scatter\"}, {\"hoverinfo\": \"none\", \"marker\": {\"color\": \"rgb(0, 255, 0)\", \"line\": {\"color\": \"rgb(0, 0, 0)\", \"width\": 1}, \"size\": 20}, \"mode\": \"markers+text\", \"text\": [\"0\"], \"textfont\": {\"color\": \"rgb(0, 0, 0)\"}, \"textposition\": \"middle center\", \"x\": [0.0], \"y\": [0.5], \"type\": \"scatter\"}, {\"hoverinfo\": \"none\", \"marker\": {\"color\": \"rgb(0, 255, 0)\", \"line\": {\"color\": \"rgb(0, 0, 0)\", \"width\": 1}, \"size\": 20}, \"mode\": \"markers+text\", \"text\": [\"1\"], \"textfont\": {\"color\": \"rgb(0, 0, 0)\"}, \"textposition\": \"middle center\", \"x\": [0.33], \"y\": [1.0], \"type\": \"scatter\"}, {\"hoverinfo\": \"none\", \"marker\": {\"color\": \"rgb(0, 255, 0)\", \"line\": {\"color\": \"rgb(0, 0, 0)\", \"width\": 1}, \"size\": 20}, \"mode\": \"markers+text\", \"text\": [\"2\"], \"textfont\": {\"color\": \"rgb(0, 0, 0)\"}, \"textposition\": \"middle center\", \"x\": [0.66], \"y\": [1.0], \"type\": \"scatter\"}, {\"hoverinfo\": \"none\", \"marker\": {\"color\": \"rgb(255, 255, 255)\", \"line\": {\"color\": \"rgb(0, 0, 0)\", \"width\": 1}, \"size\": 20}, \"mode\": \"markers+text\", \"text\": [\"3\"], \"textfont\": {\"color\": \"rgb(0, 0, 0)\"}, \"textposition\": \"middle center\", \"x\": [1.0], \"y\": [1.0], \"type\": \"scatter\"}, {\"hoverinfo\": \"none\", \"marker\": {\"color\": \"rgb(0, 255, 0)\", \"line\": {\"color\": \"rgb(0, 0, 0)\", \"width\": 1}, \"size\": 20}, \"mode\": \"markers+text\", \"text\": [\"4\"], \"textfont\": {\"color\": \"rgb(0, 0, 0)\"}, \"textposition\": \"middle center\", \"x\": [0.33], \"y\": [0.0], \"type\": \"scatter\"}, {\"hoverinfo\": \"none\", \"marker\": {\"color\": \"rgb(255, 255, 255)\", \"line\": {\"color\": \"rgb(0, 0, 0)\", \"width\": 1}, \"size\": 20}, \"mode\": \"markers+text\", \"text\": [\"5\"], \"textfont\": {\"color\": \"rgb(0, 0, 0)\"}, \"textposition\": \"middle center\", \"x\": [0.66], \"y\": [0.0], \"type\": \"scatter\"}, {\"hoverinfo\": \"none\", \"marker\": {\"color\": \"rgb(255, 255, 255)\", \"line\": {\"color\": \"rgb(0, 0, 0)\", \"width\": 1}, \"size\": 20}, \"mode\": \"markers+text\", \"text\": [\"6\"], \"textfont\": {\"color\": \"rgb(0, 0, 0)\"}, \"textposition\": \"middle center\", \"x\": [1.0], \"y\": [0.0], \"type\": \"scatter\"}], \"name\": \"3\"}, {\"data\": [{\"hoverinfo\": \"none\", \"line\": {\"color\": \"rgb(0, 0, 0)\", \"width\": 1}, \"mode\": \"lines\", \"x\": [0.0, 0.33, null, 0.3003062713421305, 0.2855225877733855, null, 0.3003062713421305, 0.2629725579755741, null], \"y\": [0.5, 1.0, null, 0.9550095020335311, 0.8882926689752846, null, 0.9550095020335311, 0.9427605821595028, null], \"type\": \"scatter\"}, {\"hoverinfo\": \"none\", \"line\": {\"color\": \"rgb(0, 0, 0)\", \"width\": 1}, \"mode\": \"lines\", \"x\": [0.0, 0.33, null, 0.3003062713421305, 0.2629725579755741, null, 0.3003062713421305, 0.2855225877733855, null], \"y\": [0.5, 0.0, null, 0.04499049796646893, 0.0572394178404972, null, 0.04499049796646893, 0.11170733102471547, null], \"type\": \"scatter\"}, {\"hoverinfo\": \"none\", \"line\": {\"color\": \"rgb(0, 0, 0)\", \"width\": 1}, \"mode\": \"lines\", \"x\": [0.33, 0.66, null, 0.6221212121212122, 0.5888794484132436, null, 0.6221212121212122, 0.5888794484132436, null], \"y\": [1.0, 1.0, null, 1.0, 0.9652590189417244, null, 1.0, 1.0347409810582755, null], \"type\": \"scatter\"}, {\"hoverinfo\": \"none\", \"line\": {\"color\": \"rgb(0, 0, 0)\", \"width\": 1}, \"mode\": \"lines\", \"x\": [0.66, 1.0, null, 0.9621212121212122, 0.9288794484132434, null, 0.9621212121212122, 0.9288794484132434, null], \"y\": [1.0, 1.0, null, 1.0, 0.9652590189417244, null, 1.0, 1.0347409810582755, null], \"type\": \"scatter\"}, {\"hoverinfo\": \"none\", \"line\": {\"color\": \"rgb(0, 0, 0)\", \"width\": 1}, \"mode\": \"lines\", \"x\": [0.66, 0.33, null, 0.35022071942550836, 0.3526100389194443, null, 0.35022071942550836, 0.3833221014449805, null], \"y\": [1.0, 0.0, null, 0.06127490735002531, 0.13359437096827784, null, 0.06127490735002531, 0.09650302407543368, null], \"type\": \"scatter\"}, {\"hoverinfo\": \"none\", \"line\": {\"color\": \"rgb(0, 0, 0)\", \"width\": 1}, \"mode\": \"lines\", \"x\": [1.0, 0.66, null, 0.6806532023433265, 0.6835549327328607, null, 0.6806532023433265, 0.7140012524011855, null], \"y\": [1.0, 0.0, null, 0.06074471277448944, 0.13299554373343975, null, 0.06074471277448944, 0.09511088313140172, null], \"type\": \"scatter\"}, {\"hoverinfo\": \"none\", \"line\": {\"color\": \"rgb(0, 0, 0)\", \"width\": 1}, \"mode\": \"lines\", \"x\": [0.33, 0.66, null, 0.6221212121212122, 0.5888794484132436, null, 0.6221212121212122, 0.5888794484132436, null], \"y\": [0.0, 0.0, null, 0.0, -0.034740981058275576, null, 0.0, 0.034740981058275576, null], \"type\": \"scatter\"}, {\"hoverinfo\": \"none\", \"line\": {\"color\": \"rgb(0, 0, 0)\", \"width\": 1}, \"mode\": \"lines\", \"x\": [0.66, 1.0, null, 0.9621212121212122, 0.9288794484132434, null, 0.9621212121212122, 0.9288794484132434, null], \"y\": [0.0, 0.0, null, 0.0, -0.034740981058275576, null, 0.0, 0.034740981058275576, null], \"type\": \"scatter\"}, {\"hoverinfo\": \"none\", \"marker\": {\"color\": \"rgb(0, 255, 0)\", \"line\": {\"color\": \"rgb(0, 0, 0)\", \"width\": 1}, \"size\": 20}, \"mode\": \"markers+text\", \"text\": [\"0\"], \"textfont\": {\"color\": \"rgb(0, 0, 0)\"}, \"textposition\": \"middle center\", \"x\": [0.0], \"y\": [0.5], \"type\": \"scatter\"}, {\"hoverinfo\": \"none\", \"marker\": {\"color\": \"rgb(0, 255, 0)\", \"line\": {\"color\": \"rgb(0, 0, 0)\", \"width\": 1}, \"size\": 20}, \"mode\": \"markers+text\", \"text\": [\"1\"], \"textfont\": {\"color\": \"rgb(0, 0, 0)\"}, \"textposition\": \"middle center\", \"x\": [0.33], \"y\": [1.0], \"type\": \"scatter\"}, {\"hoverinfo\": \"none\", \"marker\": {\"color\": \"rgb(0, 255, 0)\", \"line\": {\"color\": \"rgb(0, 0, 0)\", \"width\": 1}, \"size\": 20}, \"mode\": \"markers+text\", \"text\": [\"2\"], \"textfont\": {\"color\": \"rgb(0, 0, 0)\"}, \"textposition\": \"middle center\", \"x\": [0.66], \"y\": [1.0], \"type\": \"scatter\"}, {\"hoverinfo\": \"none\", \"marker\": {\"color\": \"rgb(255, 255, 255)\", \"line\": {\"color\": \"rgb(0, 0, 0)\", \"width\": 1}, \"size\": 20}, \"mode\": \"markers+text\", \"text\": [\"3\"], \"textfont\": {\"color\": \"rgb(0, 0, 0)\"}, \"textposition\": \"middle center\", \"x\": [1.0], \"y\": [1.0], \"type\": \"scatter\"}, {\"hoverinfo\": \"none\", \"marker\": {\"color\": \"rgb(0, 255, 0)\", \"line\": {\"color\": \"rgb(0, 0, 0)\", \"width\": 1}, \"size\": 20}, \"mode\": \"markers+text\", \"text\": [\"4\"], \"textfont\": {\"color\": \"rgb(0, 0, 0)\"}, \"textposition\": \"middle center\", \"x\": [0.33], \"y\": [0.0], \"type\": \"scatter\"}, {\"hoverinfo\": \"none\", \"marker\": {\"color\": \"rgb(0, 255, 0)\", \"line\": {\"color\": \"rgb(0, 0, 0)\", \"width\": 1}, \"size\": 20}, \"mode\": \"markers+text\", \"text\": [\"5\"], \"textfont\": {\"color\": \"rgb(0, 0, 0)\"}, \"textposition\": \"middle center\", \"x\": [0.66], \"y\": [0.0], \"type\": \"scatter\"}, {\"hoverinfo\": \"none\", \"marker\": {\"color\": \"rgb(255, 255, 255)\", \"line\": {\"color\": \"rgb(0, 0, 0)\", \"width\": 1}, \"size\": 20}, \"mode\": \"markers+text\", \"text\": [\"6\"], \"textfont\": {\"color\": \"rgb(0, 0, 0)\"}, \"textposition\": \"middle center\", \"x\": [1.0], \"y\": [0.0], \"type\": \"scatter\"}], \"name\": \"4\"}, {\"data\": [{\"hoverinfo\": \"none\", \"line\": {\"color\": \"rgb(0, 0, 0)\", \"width\": 1}, \"mode\": \"lines\", \"x\": [0.0, 0.33, null, 0.3003062713421305, 0.2855225877733855, null, 0.3003062713421305, 0.2629725579755741, null], \"y\": [0.5, 1.0, null, 0.9550095020335311, 0.8882926689752846, null, 0.9550095020335311, 0.9427605821595028, null], \"type\": \"scatter\"}, {\"hoverinfo\": \"none\", \"line\": {\"color\": \"rgb(0, 0, 0)\", \"width\": 1}, \"mode\": \"lines\", \"x\": [0.0, 0.33, null, 0.3003062713421305, 0.2629725579755741, null, 0.3003062713421305, 0.2855225877733855, null], \"y\": [0.5, 0.0, null, 0.04499049796646893, 0.0572394178404972, null, 0.04499049796646893, 0.11170733102471547, null], \"type\": \"scatter\"}, {\"hoverinfo\": \"none\", \"line\": {\"color\": \"rgb(0, 0, 0)\", \"width\": 1}, \"mode\": \"lines\", \"x\": [0.33, 0.66, null, 0.6221212121212122, 0.5888794484132436, null, 0.6221212121212122, 0.5888794484132436, null], \"y\": [1.0, 1.0, null, 1.0, 0.9652590189417244, null, 1.0, 1.0347409810582755, null], \"type\": \"scatter\"}, {\"hoverinfo\": \"none\", \"line\": {\"color\": \"rgb(0, 0, 0)\", \"width\": 1}, \"mode\": \"lines\", \"x\": [0.66, 1.0, null, 0.9621212121212122, 0.9288794484132434, null, 0.9621212121212122, 0.9288794484132434, null], \"y\": [1.0, 1.0, null, 1.0, 0.9652590189417244, null, 1.0, 1.0347409810582755, null], \"type\": \"scatter\"}, {\"hoverinfo\": \"none\", \"line\": {\"color\": \"rgb(0, 0, 0)\", \"width\": 1}, \"mode\": \"lines\", \"x\": [0.66, 0.33, null, 0.35022071942550836, 0.3526100389194443, null, 0.35022071942550836, 0.3833221014449805, null], \"y\": [1.0, 0.0, null, 0.06127490735002531, 0.13359437096827784, null, 0.06127490735002531, 0.09650302407543368, null], \"type\": \"scatter\"}, {\"hoverinfo\": \"none\", \"line\": {\"color\": \"rgb(0, 0, 0)\", \"width\": 1}, \"mode\": \"lines\", \"x\": [1.0, 0.66, null, 0.6806532023433265, 0.6835549327328607, null, 0.6806532023433265, 0.7140012524011855, null], \"y\": [1.0, 0.0, null, 0.06074471277448944, 0.13299554373343975, null, 0.06074471277448944, 0.09511088313140172, null], \"type\": \"scatter\"}, {\"hoverinfo\": \"none\", \"line\": {\"color\": \"rgb(0, 0, 0)\", \"width\": 1}, \"mode\": \"lines\", \"x\": [0.33, 0.66, null, 0.6221212121212122, 0.5888794484132436, null, 0.6221212121212122, 0.5888794484132436, null], \"y\": [0.0, 0.0, null, 0.0, -0.034740981058275576, null, 0.0, 0.034740981058275576, null], \"type\": \"scatter\"}, {\"hoverinfo\": \"none\", \"line\": {\"color\": \"rgb(0, 0, 0)\", \"width\": 1}, \"mode\": \"lines\", \"x\": [0.66, 1.0, null, 0.9621212121212122, 0.9288794484132434, null, 0.9621212121212122, 0.9288794484132434, null], \"y\": [0.0, 0.0, null, 0.0, -0.034740981058275576, null, 0.0, 0.034740981058275576, null], \"type\": \"scatter\"}, {\"hoverinfo\": \"none\", \"marker\": {\"color\": \"rgb(0, 255, 0)\", \"line\": {\"color\": \"rgb(0, 0, 0)\", \"width\": 1}, \"size\": 20}, \"mode\": \"markers+text\", \"text\": [\"0\"], \"textfont\": {\"color\": \"rgb(0, 0, 0)\"}, \"textposition\": \"middle center\", \"x\": [0.0], \"y\": [0.5], \"type\": \"scatter\"}, {\"hoverinfo\": \"none\", \"marker\": {\"color\": \"rgb(0, 255, 0)\", \"line\": {\"color\": \"rgb(0, 0, 0)\", \"width\": 1}, \"size\": 20}, \"mode\": \"markers+text\", \"text\": [\"1\"], \"textfont\": {\"color\": \"rgb(0, 0, 0)\"}, \"textposition\": \"middle center\", \"x\": [0.33], \"y\": [1.0], \"type\": \"scatter\"}, {\"hoverinfo\": \"none\", \"marker\": {\"color\": \"rgb(0, 255, 0)\", \"line\": {\"color\": \"rgb(0, 0, 0)\", \"width\": 1}, \"size\": 20}, \"mode\": \"markers+text\", \"text\": [\"2\"], \"textfont\": {\"color\": \"rgb(0, 0, 0)\"}, \"textposition\": \"middle center\", \"x\": [0.66], \"y\": [1.0], \"type\": \"scatter\"}, {\"hoverinfo\": \"none\", \"marker\": {\"color\": \"rgb(0, 255, 0)\", \"line\": {\"color\": \"rgb(0, 0, 0)\", \"width\": 1}, \"size\": 20}, \"mode\": \"markers+text\", \"text\": [\"3\"], \"textfont\": {\"color\": \"rgb(0, 0, 0)\"}, \"textposition\": \"middle center\", \"x\": [1.0], \"y\": [1.0], \"type\": \"scatter\"}, {\"hoverinfo\": \"none\", \"marker\": {\"color\": \"rgb(0, 255, 0)\", \"line\": {\"color\": \"rgb(0, 0, 0)\", \"width\": 1}, \"size\": 20}, \"mode\": \"markers+text\", \"text\": [\"4\"], \"textfont\": {\"color\": \"rgb(0, 0, 0)\"}, \"textposition\": \"middle center\", \"x\": [0.33], \"y\": [0.0], \"type\": \"scatter\"}, {\"hoverinfo\": \"none\", \"marker\": {\"color\": \"rgb(0, 255, 0)\", \"line\": {\"color\": \"rgb(0, 0, 0)\", \"width\": 1}, \"size\": 20}, \"mode\": \"markers+text\", \"text\": [\"5\"], \"textfont\": {\"color\": \"rgb(0, 0, 0)\"}, \"textposition\": \"middle center\", \"x\": [0.66], \"y\": [0.0], \"type\": \"scatter\"}, {\"hoverinfo\": \"none\", \"marker\": {\"color\": \"rgb(255, 255, 255)\", \"line\": {\"color\": \"rgb(0, 0, 0)\", \"width\": 1}, \"size\": 20}, \"mode\": \"markers+text\", \"text\": [\"6\"], \"textfont\": {\"color\": \"rgb(0, 0, 0)\"}, \"textposition\": \"middle center\", \"x\": [1.0], \"y\": [0.0], \"type\": \"scatter\"}], \"name\": \"5\"}, {\"data\": [{\"hoverinfo\": \"none\", \"line\": {\"color\": \"rgb(0, 0, 0)\", \"width\": 1}, \"mode\": \"lines\", \"x\": [0.0, 0.33, null, 0.3003062713421305, 0.2855225877733855, null, 0.3003062713421305, 0.2629725579755741, null], \"y\": [0.5, 1.0, null, 0.9550095020335311, 0.8882926689752846, null, 0.9550095020335311, 0.9427605821595028, null], \"type\": \"scatter\"}, {\"hoverinfo\": \"none\", \"line\": {\"color\": \"rgb(0, 0, 0)\", \"width\": 1}, \"mode\": \"lines\", \"x\": [0.0, 0.33, null, 0.3003062713421305, 0.2629725579755741, null, 0.3003062713421305, 0.2855225877733855, null], \"y\": [0.5, 0.0, null, 0.04499049796646893, 0.0572394178404972, null, 0.04499049796646893, 0.11170733102471547, null], \"type\": \"scatter\"}, {\"hoverinfo\": \"none\", \"line\": {\"color\": \"rgb(0, 0, 0)\", \"width\": 1}, \"mode\": \"lines\", \"x\": [0.33, 0.66, null, 0.6221212121212122, 0.5888794484132436, null, 0.6221212121212122, 0.5888794484132436, null], \"y\": [1.0, 1.0, null, 1.0, 0.9652590189417244, null, 1.0, 1.0347409810582755, null], \"type\": \"scatter\"}, {\"hoverinfo\": \"none\", \"line\": {\"color\": \"rgb(0, 0, 0)\", \"width\": 1}, \"mode\": \"lines\", \"x\": [0.66, 1.0, null, 0.9621212121212122, 0.9288794484132434, null, 0.9621212121212122, 0.9288794484132434, null], \"y\": [1.0, 1.0, null, 1.0, 0.9652590189417244, null, 1.0, 1.0347409810582755, null], \"type\": \"scatter\"}, {\"hoverinfo\": \"none\", \"line\": {\"color\": \"rgb(0, 0, 0)\", \"width\": 1}, \"mode\": \"lines\", \"x\": [0.66, 0.33, null, 0.35022071942550836, 0.3526100389194443, null, 0.35022071942550836, 0.3833221014449805, null], \"y\": [1.0, 0.0, null, 0.06127490735002531, 0.13359437096827784, null, 0.06127490735002531, 0.09650302407543368, null], \"type\": \"scatter\"}, {\"hoverinfo\": \"none\", \"line\": {\"color\": \"rgb(0, 0, 0)\", \"width\": 1}, \"mode\": \"lines\", \"x\": [1.0, 0.66, null, 0.6806532023433265, 0.6835549327328607, null, 0.6806532023433265, 0.7140012524011855, null], \"y\": [1.0, 0.0, null, 0.06074471277448944, 0.13299554373343975, null, 0.06074471277448944, 0.09511088313140172, null], \"type\": \"scatter\"}, {\"hoverinfo\": \"none\", \"line\": {\"color\": \"rgb(0, 0, 0)\", \"width\": 1}, \"mode\": \"lines\", \"x\": [0.33, 0.66, null, 0.6221212121212122, 0.5888794484132436, null, 0.6221212121212122, 0.5888794484132436, null], \"y\": [0.0, 0.0, null, 0.0, -0.034740981058275576, null, 0.0, 0.034740981058275576, null], \"type\": \"scatter\"}, {\"hoverinfo\": \"none\", \"line\": {\"color\": \"rgb(0, 0, 0)\", \"width\": 1}, \"mode\": \"lines\", \"x\": [0.66, 1.0, null, 0.9621212121212122, 0.9288794484132434, null, 0.9621212121212122, 0.9288794484132434, null], \"y\": [0.0, 0.0, null, 0.0, -0.034740981058275576, null, 0.0, 0.034740981058275576, null], \"type\": \"scatter\"}, {\"hoverinfo\": \"none\", \"marker\": {\"color\": \"rgb(0, 255, 0)\", \"line\": {\"color\": \"rgb(0, 0, 0)\", \"width\": 1}, \"size\": 20}, \"mode\": \"markers+text\", \"text\": [\"0\"], \"textfont\": {\"color\": \"rgb(0, 0, 0)\"}, \"textposition\": \"middle center\", \"x\": [0.0], \"y\": [0.5], \"type\": \"scatter\"}, {\"hoverinfo\": \"none\", \"marker\": {\"color\": \"rgb(0, 255, 0)\", \"line\": {\"color\": \"rgb(0, 0, 0)\", \"width\": 1}, \"size\": 20}, \"mode\": \"markers+text\", \"text\": [\"1\"], \"textfont\": {\"color\": \"rgb(0, 0, 0)\"}, \"textposition\": \"middle center\", \"x\": [0.33], \"y\": [1.0], \"type\": \"scatter\"}, {\"hoverinfo\": \"none\", \"marker\": {\"color\": \"rgb(0, 255, 0)\", \"line\": {\"color\": \"rgb(0, 0, 0)\", \"width\": 1}, \"size\": 20}, \"mode\": \"markers+text\", \"text\": [\"2\"], \"textfont\": {\"color\": \"rgb(0, 0, 0)\"}, \"textposition\": \"middle center\", \"x\": [0.66], \"y\": [1.0], \"type\": \"scatter\"}, {\"hoverinfo\": \"none\", \"marker\": {\"color\": \"rgb(0, 255, 0)\", \"line\": {\"color\": \"rgb(0, 0, 0)\", \"width\": 1}, \"size\": 20}, \"mode\": \"markers+text\", \"text\": [\"3\"], \"textfont\": {\"color\": \"rgb(0, 0, 0)\"}, \"textposition\": \"middle center\", \"x\": [1.0], \"y\": [1.0], \"type\": \"scatter\"}, {\"hoverinfo\": \"none\", \"marker\": {\"color\": \"rgb(0, 255, 0)\", \"line\": {\"color\": \"rgb(0, 0, 0)\", \"width\": 1}, \"size\": 20}, \"mode\": \"markers+text\", \"text\": [\"4\"], \"textfont\": {\"color\": \"rgb(0, 0, 0)\"}, \"textposition\": \"middle center\", \"x\": [0.33], \"y\": [0.0], \"type\": \"scatter\"}, {\"hoverinfo\": \"none\", \"marker\": {\"color\": \"rgb(0, 255, 0)\", \"line\": {\"color\": \"rgb(0, 0, 0)\", \"width\": 1}, \"size\": 20}, \"mode\": \"markers+text\", \"text\": [\"5\"], \"textfont\": {\"color\": \"rgb(0, 0, 0)\"}, \"textposition\": \"middle center\", \"x\": [0.66], \"y\": [0.0], \"type\": \"scatter\"}, {\"hoverinfo\": \"none\", \"marker\": {\"color\": \"rgb(0, 255, 0)\", \"line\": {\"color\": \"rgb(0, 0, 0)\", \"width\": 1}, \"size\": 20}, \"mode\": \"markers+text\", \"text\": [\"6\"], \"textfont\": {\"color\": \"rgb(0, 0, 0)\"}, \"textposition\": \"middle center\", \"x\": [1.0], \"y\": [0.0], \"type\": \"scatter\"}], \"name\": \"6\"}]);}).then(function(){Plotly.animate('932b5954-35be-4e29-baf3-4b342dfcde35');})\n",
       "        });</script>"
      ],
      "text/vnd.plotly.v1+html": [
       "<div id=\"932b5954-35be-4e29-baf3-4b342dfcde35\" style=\"height: 256.0px; width: 408.0px;\" class=\"plotly-graph-div\"></div><script type=\"text/javascript\">require([\"plotly\"], function(Plotly) { window.PLOTLYENV=window.PLOTLYENV || {};window.PLOTLYENV.BASE_URL=\"https://plot.ly\";\n",
       "        Plotly.plot(\n",
       "            '932b5954-35be-4e29-baf3-4b342dfcde35',\n",
       "            [{\"hoverinfo\": \"none\", \"line\": {\"color\": \"rgb(0, 0, 0)\", \"width\": 1}, \"mode\": \"lines\", \"x\": [0.0, 0.33, null, 0.3003062713421305, 0.2855225877733855, null, 0.3003062713421305, 0.2629725579755741, null], \"y\": [0.5, 1.0, null, 0.9550095020335311, 0.8882926689752846, null, 0.9550095020335311, 0.9427605821595028, null], \"type\": \"scatter\", \"uid\": \"25d74192-997e-11e8-b2d4-9a5fd3dcadb7\"}, {\"hoverinfo\": \"none\", \"line\": {\"color\": \"rgb(0, 0, 0)\", \"width\": 1}, \"mode\": \"lines\", \"x\": [0.0, 0.33, null, 0.3003062713421305, 0.2629725579755741, null, 0.3003062713421305, 0.2855225877733855, null], \"y\": [0.5, 0.0, null, 0.04499049796646893, 0.0572394178404972, null, 0.04499049796646893, 0.11170733102471547, null], \"type\": \"scatter\", \"uid\": \"25d74193-997e-11e8-8d2a-9a5fd3dcadb7\"}, {\"hoverinfo\": \"none\", \"line\": {\"color\": \"rgb(0, 0, 0)\", \"width\": 1}, \"mode\": \"lines\", \"x\": [0.33, 0.66, null, 0.6221212121212122, 0.5888794484132436, null, 0.6221212121212122, 0.5888794484132436, null], \"y\": [1.0, 1.0, null, 1.0, 0.9652590189417244, null, 1.0, 1.0347409810582755, null], \"type\": \"scatter\", \"uid\": \"25d74194-997e-11e8-b403-9a5fd3dcadb7\"}, {\"hoverinfo\": \"none\", \"line\": {\"color\": \"rgb(0, 0, 0)\", \"width\": 1}, \"mode\": \"lines\", \"x\": [0.66, 1.0, null, 0.9621212121212122, 0.9288794484132434, null, 0.9621212121212122, 0.9288794484132434, null], \"y\": [1.0, 1.0, null, 1.0, 0.9652590189417244, null, 1.0, 1.0347409810582755, null], \"type\": \"scatter\", \"uid\": \"25d74195-997e-11e8-8fe5-9a5fd3dcadb7\"}, {\"hoverinfo\": \"none\", \"line\": {\"color\": \"rgb(0, 0, 0)\", \"width\": 1}, \"mode\": \"lines\", \"x\": [0.66, 0.33, null, 0.35022071942550836, 0.3526100389194443, null, 0.35022071942550836, 0.3833221014449805, null], \"y\": [1.0, 0.0, null, 0.06127490735002531, 0.13359437096827784, null, 0.06127490735002531, 0.09650302407543368, null], \"type\": \"scatter\", \"uid\": \"25d74196-997e-11e8-8f1e-9a5fd3dcadb7\"}, {\"hoverinfo\": \"none\", \"line\": {\"color\": \"rgb(0, 0, 0)\", \"width\": 1}, \"mode\": \"lines\", \"x\": [1.0, 0.66, null, 0.6806532023433265, 0.6835549327328607, null, 0.6806532023433265, 0.7140012524011855, null], \"y\": [1.0, 0.0, null, 0.06074471277448944, 0.13299554373343975, null, 0.06074471277448944, 0.09511088313140172, null], \"type\": \"scatter\", \"uid\": \"25d74197-997e-11e8-8cfb-9a5fd3dcadb7\"}, {\"hoverinfo\": \"none\", \"line\": {\"color\": \"rgb(0, 0, 0)\", \"width\": 1}, \"mode\": \"lines\", \"x\": [0.33, 0.66, null, 0.6221212121212122, 0.5888794484132436, null, 0.6221212121212122, 0.5888794484132436, null], \"y\": [0.0, 0.0, null, 0.0, -0.034740981058275576, null, 0.0, 0.034740981058275576, null], \"type\": \"scatter\", \"uid\": \"25d74198-997e-11e8-bbc4-9a5fd3dcadb7\"}, {\"hoverinfo\": \"none\", \"line\": {\"color\": \"rgb(0, 0, 0)\", \"width\": 1}, \"mode\": \"lines\", \"x\": [0.66, 1.0, null, 0.9621212121212122, 0.9288794484132434, null, 0.9621212121212122, 0.9288794484132434, null], \"y\": [0.0, 0.0, null, 0.0, -0.034740981058275576, null, 0.0, 0.034740981058275576, null], \"type\": \"scatter\", \"uid\": \"25d74199-997e-11e8-9b5a-9a5fd3dcadb7\"}, {\"hoverinfo\": \"none\", \"marker\": {\"color\": \"rgb(0, 255, 0)\", \"line\": {\"color\": \"rgb(0, 0, 0)\", \"width\": 1}, \"size\": 20}, \"mode\": \"markers+text\", \"text\": [\"0\"], \"textfont\": {\"color\": \"rgb(0, 0, 0)\"}, \"textposition\": \"middle center\", \"x\": [0.0], \"y\": [0.5], \"type\": \"scatter\", \"uid\": \"25d7419a-997e-11e8-89e5-9a5fd3dcadb7\"}, {\"hoverinfo\": \"none\", \"marker\": {\"color\": \"rgb(255, 255, 255)\", \"line\": {\"color\": \"rgb(0, 0, 0)\", \"width\": 1}, \"size\": 20}, \"mode\": \"markers+text\", \"text\": [\"1\"], \"textfont\": {\"color\": \"rgb(0, 0, 0)\"}, \"textposition\": \"middle center\", \"x\": [0.33], \"y\": [1.0], \"type\": \"scatter\", \"uid\": \"25d7419b-997e-11e8-a5dc-9a5fd3dcadb7\"}, {\"hoverinfo\": \"none\", \"marker\": {\"color\": \"rgb(255, 255, 255)\", \"line\": {\"color\": \"rgb(0, 0, 0)\", \"width\": 1}, \"size\": 20}, \"mode\": \"markers+text\", \"text\": [\"2\"], \"textfont\": {\"color\": \"rgb(0, 0, 0)\"}, \"textposition\": \"middle center\", \"x\": [0.66], \"y\": [1.0], \"type\": \"scatter\", \"uid\": \"25d7419c-997e-11e8-9c78-9a5fd3dcadb7\"}, {\"hoverinfo\": \"none\", \"marker\": {\"color\": \"rgb(255, 255, 255)\", \"line\": {\"color\": \"rgb(0, 0, 0)\", \"width\": 1}, \"size\": 20}, \"mode\": \"markers+text\", \"text\": [\"3\"], \"textfont\": {\"color\": \"rgb(0, 0, 0)\"}, \"textposition\": \"middle center\", \"x\": [1.0], \"y\": [1.0], \"type\": \"scatter\", \"uid\": \"25d7419d-997e-11e8-b039-9a5fd3dcadb7\"}, {\"hoverinfo\": \"none\", \"marker\": {\"color\": \"rgb(255, 255, 255)\", \"line\": {\"color\": \"rgb(0, 0, 0)\", \"width\": 1}, \"size\": 20}, \"mode\": \"markers+text\", \"text\": [\"4\"], \"textfont\": {\"color\": \"rgb(0, 0, 0)\"}, \"textposition\": \"middle center\", \"x\": [0.33], \"y\": [0.0], \"type\": \"scatter\", \"uid\": \"25d7419e-997e-11e8-9041-9a5fd3dcadb7\"}, {\"hoverinfo\": \"none\", \"marker\": {\"color\": \"rgb(255, 255, 255)\", \"line\": {\"color\": \"rgb(0, 0, 0)\", \"width\": 1}, \"size\": 20}, \"mode\": \"markers+text\", \"text\": [\"5\"], \"textfont\": {\"color\": \"rgb(0, 0, 0)\"}, \"textposition\": \"middle center\", \"x\": [0.66], \"y\": [0.0], \"type\": \"scatter\", \"uid\": \"25d7419f-997e-11e8-9925-9a5fd3dcadb7\"}, {\"hoverinfo\": \"none\", \"marker\": {\"color\": \"rgb(255, 255, 255)\", \"line\": {\"color\": \"rgb(0, 0, 0)\", \"width\": 1}, \"size\": 20}, \"mode\": \"markers+text\", \"text\": [\"6\"], \"textfont\": {\"color\": \"rgb(0, 0, 0)\"}, \"textposition\": \"middle center\", \"x\": [1.0], \"y\": [0.0], \"type\": \"scatter\", \"uid\": \"25d741a0-997e-11e8-9833-9a5fd3dcadb7\"}],\n",
       "            {\"height\": 256.0, \"margin\": {\"b\": 0, \"l\": 0, \"r\": 0, \"t\": 0}, \"showlegend\": false, \"sliders\": [{\"currentvalue\": {\"visible\": false}, \"steps\": [{\"args\": [[0], {\"frame\": {\"redraw\": false}, \"mode\": \"immediate\"}], \"label\": \"\", \"method\": \"animate\"}, {\"args\": [[1], {\"frame\": {\"redraw\": false}, \"mode\": \"immediate\"}], \"label\": \"\", \"method\": \"animate\"}, {\"args\": [[2], {\"frame\": {\"redraw\": false}, \"mode\": \"immediate\"}], \"label\": \"\", \"method\": \"animate\"}, {\"args\": [[3], {\"frame\": {\"redraw\": false}, \"mode\": \"immediate\"}], \"label\": \"\", \"method\": \"animate\"}, {\"args\": [[4], {\"frame\": {\"redraw\": false}, \"mode\": \"immediate\"}], \"label\": \"\", \"method\": \"animate\"}, {\"args\": [[5], {\"frame\": {\"redraw\": false}, \"mode\": \"immediate\"}], \"label\": \"\", \"method\": \"animate\"}, {\"args\": [[6], {\"frame\": {\"redraw\": false}, \"mode\": \"immediate\"}], \"label\": \"\", \"method\": \"animate\"}]}], \"updatemenus\": [{\"buttons\": [{\"args\": [null, {\"frame\": {\"redraw\": false}, \"fromcurrent\": true}], \"label\": \"Play\", \"method\": \"animate\"}, {\"args\": [[null], {\"frame\": {\"redraw\": false}, \"mode\": \"immediate\"}], \"label\": \"Pause\", \"method\": \"animate\"}], \"showactive\": true, \"type\": \"buttons\"}], \"width\": 408.0, \"xaxis\": {\"showgrid\": false, \"showticklabels\": false, \"zeroline\": false}, \"yaxis\": {\"showgrid\": false, \"showticklabels\": false, \"zeroline\": false}},\n",
       "            {\"showLink\": false, \"linkText\": \"Export to plot.ly\", \"displayModeBar\": false}\n",
       "        ).then(function () {return Plotly.addFrames('932b5954-35be-4e29-baf3-4b342dfcde35',[{\"data\": [{\"hoverinfo\": \"none\", \"line\": {\"color\": \"rgb(0, 0, 0)\", \"width\": 1}, \"mode\": \"lines\", \"x\": [0.0, 0.33, null, 0.3003062713421305, 0.2855225877733855, null, 0.3003062713421305, 0.2629725579755741, null], \"y\": [0.5, 1.0, null, 0.9550095020335311, 0.8882926689752846, null, 0.9550095020335311, 0.9427605821595028, null], \"type\": \"scatter\"}, {\"hoverinfo\": \"none\", \"line\": {\"color\": \"rgb(0, 0, 0)\", \"width\": 1}, \"mode\": \"lines\", \"x\": [0.0, 0.33, null, 0.3003062713421305, 0.2629725579755741, null, 0.3003062713421305, 0.2855225877733855, null], \"y\": [0.5, 0.0, null, 0.04499049796646893, 0.0572394178404972, null, 0.04499049796646893, 0.11170733102471547, null], \"type\": \"scatter\"}, {\"hoverinfo\": \"none\", \"line\": {\"color\": \"rgb(0, 0, 0)\", \"width\": 1}, \"mode\": \"lines\", \"x\": [0.33, 0.66, null, 0.6221212121212122, 0.5888794484132436, null, 0.6221212121212122, 0.5888794484132436, null], \"y\": [1.0, 1.0, null, 1.0, 0.9652590189417244, null, 1.0, 1.0347409810582755, null], \"type\": \"scatter\"}, {\"hoverinfo\": \"none\", \"line\": {\"color\": \"rgb(0, 0, 0)\", \"width\": 1}, \"mode\": \"lines\", \"x\": [0.66, 1.0, null, 0.9621212121212122, 0.9288794484132434, null, 0.9621212121212122, 0.9288794484132434, null], \"y\": [1.0, 1.0, null, 1.0, 0.9652590189417244, null, 1.0, 1.0347409810582755, null], \"type\": \"scatter\"}, {\"hoverinfo\": \"none\", \"line\": {\"color\": \"rgb(0, 0, 0)\", \"width\": 1}, \"mode\": \"lines\", \"x\": [0.66, 0.33, null, 0.35022071942550836, 0.3526100389194443, null, 0.35022071942550836, 0.3833221014449805, null], \"y\": [1.0, 0.0, null, 0.06127490735002531, 0.13359437096827784, null, 0.06127490735002531, 0.09650302407543368, null], \"type\": \"scatter\"}, {\"hoverinfo\": \"none\", \"line\": {\"color\": \"rgb(0, 0, 0)\", \"width\": 1}, \"mode\": \"lines\", \"x\": [1.0, 0.66, null, 0.6806532023433265, 0.6835549327328607, null, 0.6806532023433265, 0.7140012524011855, null], \"y\": [1.0, 0.0, null, 0.06074471277448944, 0.13299554373343975, null, 0.06074471277448944, 0.09511088313140172, null], \"type\": \"scatter\"}, {\"hoverinfo\": \"none\", \"line\": {\"color\": \"rgb(0, 0, 0)\", \"width\": 1}, \"mode\": \"lines\", \"x\": [0.33, 0.66, null, 0.6221212121212122, 0.5888794484132436, null, 0.6221212121212122, 0.5888794484132436, null], \"y\": [0.0, 0.0, null, 0.0, -0.034740981058275576, null, 0.0, 0.034740981058275576, null], \"type\": \"scatter\"}, {\"hoverinfo\": \"none\", \"line\": {\"color\": \"rgb(0, 0, 0)\", \"width\": 1}, \"mode\": \"lines\", \"x\": [0.66, 1.0, null, 0.9621212121212122, 0.9288794484132434, null, 0.9621212121212122, 0.9288794484132434, null], \"y\": [0.0, 0.0, null, 0.0, -0.034740981058275576, null, 0.0, 0.034740981058275576, null], \"type\": \"scatter\"}, {\"hoverinfo\": \"none\", \"marker\": {\"color\": \"rgb(0, 255, 0)\", \"line\": {\"color\": \"rgb(0, 0, 0)\", \"width\": 1}, \"size\": 20}, \"mode\": \"markers+text\", \"text\": [\"0\"], \"textfont\": {\"color\": \"rgb(0, 0, 0)\"}, \"textposition\": \"middle center\", \"x\": [0.0], \"y\": [0.5], \"type\": \"scatter\"}, {\"hoverinfo\": \"none\", \"marker\": {\"color\": \"rgb(255, 255, 255)\", \"line\": {\"color\": \"rgb(0, 0, 0)\", \"width\": 1}, \"size\": 20}, \"mode\": \"markers+text\", \"text\": [\"1\"], \"textfont\": {\"color\": \"rgb(0, 0, 0)\"}, \"textposition\": \"middle center\", \"x\": [0.33], \"y\": [1.0], \"type\": \"scatter\"}, {\"hoverinfo\": \"none\", \"marker\": {\"color\": \"rgb(255, 255, 255)\", \"line\": {\"color\": \"rgb(0, 0, 0)\", \"width\": 1}, \"size\": 20}, \"mode\": \"markers+text\", \"text\": [\"2\"], \"textfont\": {\"color\": \"rgb(0, 0, 0)\"}, \"textposition\": \"middle center\", \"x\": [0.66], \"y\": [1.0], \"type\": \"scatter\"}, {\"hoverinfo\": \"none\", \"marker\": {\"color\": \"rgb(255, 255, 255)\", \"line\": {\"color\": \"rgb(0, 0, 0)\", \"width\": 1}, \"size\": 20}, \"mode\": \"markers+text\", \"text\": [\"3\"], \"textfont\": {\"color\": \"rgb(0, 0, 0)\"}, \"textposition\": \"middle center\", \"x\": [1.0], \"y\": [1.0], \"type\": \"scatter\"}, {\"hoverinfo\": \"none\", \"marker\": {\"color\": \"rgb(255, 255, 255)\", \"line\": {\"color\": \"rgb(0, 0, 0)\", \"width\": 1}, \"size\": 20}, \"mode\": \"markers+text\", \"text\": [\"4\"], \"textfont\": {\"color\": \"rgb(0, 0, 0)\"}, \"textposition\": \"middle center\", \"x\": [0.33], \"y\": [0.0], \"type\": \"scatter\"}, {\"hoverinfo\": \"none\", \"marker\": {\"color\": \"rgb(255, 255, 255)\", \"line\": {\"color\": \"rgb(0, 0, 0)\", \"width\": 1}, \"size\": 20}, \"mode\": \"markers+text\", \"text\": [\"5\"], \"textfont\": {\"color\": \"rgb(0, 0, 0)\"}, \"textposition\": \"middle center\", \"x\": [0.66], \"y\": [0.0], \"type\": \"scatter\"}, {\"hoverinfo\": \"none\", \"marker\": {\"color\": \"rgb(255, 255, 255)\", \"line\": {\"color\": \"rgb(0, 0, 0)\", \"width\": 1}, \"size\": 20}, \"mode\": \"markers+text\", \"text\": [\"6\"], \"textfont\": {\"color\": \"rgb(0, 0, 0)\"}, \"textposition\": \"middle center\", \"x\": [1.0], \"y\": [0.0], \"type\": \"scatter\"}], \"name\": \"0\"}, {\"data\": [{\"hoverinfo\": \"none\", \"line\": {\"color\": \"rgb(0, 0, 0)\", \"width\": 1}, \"mode\": \"lines\", \"x\": [0.0, 0.33, null, 0.3003062713421305, 0.2855225877733855, null, 0.3003062713421305, 0.2629725579755741, null], \"y\": [0.5, 1.0, null, 0.9550095020335311, 0.8882926689752846, null, 0.9550095020335311, 0.9427605821595028, null], \"type\": \"scatter\"}, {\"hoverinfo\": \"none\", \"line\": {\"color\": \"rgb(0, 0, 0)\", \"width\": 1}, \"mode\": \"lines\", \"x\": [0.0, 0.33, null, 0.3003062713421305, 0.2629725579755741, null, 0.3003062713421305, 0.2855225877733855, null], \"y\": [0.5, 0.0, null, 0.04499049796646893, 0.0572394178404972, null, 0.04499049796646893, 0.11170733102471547, null], \"type\": \"scatter\"}, {\"hoverinfo\": \"none\", \"line\": {\"color\": \"rgb(0, 0, 0)\", \"width\": 1}, \"mode\": \"lines\", \"x\": [0.33, 0.66, null, 0.6221212121212122, 0.5888794484132436, null, 0.6221212121212122, 0.5888794484132436, null], \"y\": [1.0, 1.0, null, 1.0, 0.9652590189417244, null, 1.0, 1.0347409810582755, null], \"type\": \"scatter\"}, {\"hoverinfo\": \"none\", \"line\": {\"color\": \"rgb(0, 0, 0)\", \"width\": 1}, \"mode\": \"lines\", \"x\": [0.66, 1.0, null, 0.9621212121212122, 0.9288794484132434, null, 0.9621212121212122, 0.9288794484132434, null], \"y\": [1.0, 1.0, null, 1.0, 0.9652590189417244, null, 1.0, 1.0347409810582755, null], \"type\": \"scatter\"}, {\"hoverinfo\": \"none\", \"line\": {\"color\": \"rgb(0, 0, 0)\", \"width\": 1}, \"mode\": \"lines\", \"x\": [0.66, 0.33, null, 0.35022071942550836, 0.3526100389194443, null, 0.35022071942550836, 0.3833221014449805, null], \"y\": [1.0, 0.0, null, 0.06127490735002531, 0.13359437096827784, null, 0.06127490735002531, 0.09650302407543368, null], \"type\": \"scatter\"}, {\"hoverinfo\": \"none\", \"line\": {\"color\": \"rgb(0, 0, 0)\", \"width\": 1}, \"mode\": \"lines\", \"x\": [1.0, 0.66, null, 0.6806532023433265, 0.6835549327328607, null, 0.6806532023433265, 0.7140012524011855, null], \"y\": [1.0, 0.0, null, 0.06074471277448944, 0.13299554373343975, null, 0.06074471277448944, 0.09511088313140172, null], \"type\": \"scatter\"}, {\"hoverinfo\": \"none\", \"line\": {\"color\": \"rgb(0, 0, 0)\", \"width\": 1}, \"mode\": \"lines\", \"x\": [0.33, 0.66, null, 0.6221212121212122, 0.5888794484132436, null, 0.6221212121212122, 0.5888794484132436, null], \"y\": [0.0, 0.0, null, 0.0, -0.034740981058275576, null, 0.0, 0.034740981058275576, null], \"type\": \"scatter\"}, {\"hoverinfo\": \"none\", \"line\": {\"color\": \"rgb(0, 0, 0)\", \"width\": 1}, \"mode\": \"lines\", \"x\": [0.66, 1.0, null, 0.9621212121212122, 0.9288794484132434, null, 0.9621212121212122, 0.9288794484132434, null], \"y\": [0.0, 0.0, null, 0.0, -0.034740981058275576, null, 0.0, 0.034740981058275576, null], \"type\": \"scatter\"}, {\"hoverinfo\": \"none\", \"marker\": {\"color\": \"rgb(0, 255, 0)\", \"line\": {\"color\": \"rgb(0, 0, 0)\", \"width\": 1}, \"size\": 20}, \"mode\": \"markers+text\", \"text\": [\"0\"], \"textfont\": {\"color\": \"rgb(0, 0, 0)\"}, \"textposition\": \"middle center\", \"x\": [0.0], \"y\": [0.5], \"type\": \"scatter\"}, {\"hoverinfo\": \"none\", \"marker\": {\"color\": \"rgb(0, 255, 0)\", \"line\": {\"color\": \"rgb(0, 0, 0)\", \"width\": 1}, \"size\": 20}, \"mode\": \"markers+text\", \"text\": [\"1\"], \"textfont\": {\"color\": \"rgb(0, 0, 0)\"}, \"textposition\": \"middle center\", \"x\": [0.33], \"y\": [1.0], \"type\": \"scatter\"}, {\"hoverinfo\": \"none\", \"marker\": {\"color\": \"rgb(255, 255, 255)\", \"line\": {\"color\": \"rgb(0, 0, 0)\", \"width\": 1}, \"size\": 20}, \"mode\": \"markers+text\", \"text\": [\"2\"], \"textfont\": {\"color\": \"rgb(0, 0, 0)\"}, \"textposition\": \"middle center\", \"x\": [0.66], \"y\": [1.0], \"type\": \"scatter\"}, {\"hoverinfo\": \"none\", \"marker\": {\"color\": \"rgb(255, 255, 255)\", \"line\": {\"color\": \"rgb(0, 0, 0)\", \"width\": 1}, \"size\": 20}, \"mode\": \"markers+text\", \"text\": [\"3\"], \"textfont\": {\"color\": \"rgb(0, 0, 0)\"}, \"textposition\": \"middle center\", \"x\": [1.0], \"y\": [1.0], \"type\": \"scatter\"}, {\"hoverinfo\": \"none\", \"marker\": {\"color\": \"rgb(255, 255, 255)\", \"line\": {\"color\": \"rgb(0, 0, 0)\", \"width\": 1}, \"size\": 20}, \"mode\": \"markers+text\", \"text\": [\"4\"], \"textfont\": {\"color\": \"rgb(0, 0, 0)\"}, \"textposition\": \"middle center\", \"x\": [0.33], \"y\": [0.0], \"type\": \"scatter\"}, {\"hoverinfo\": \"none\", \"marker\": {\"color\": \"rgb(255, 255, 255)\", \"line\": {\"color\": \"rgb(0, 0, 0)\", \"width\": 1}, \"size\": 20}, \"mode\": \"markers+text\", \"text\": [\"5\"], \"textfont\": {\"color\": \"rgb(0, 0, 0)\"}, \"textposition\": \"middle center\", \"x\": [0.66], \"y\": [0.0], \"type\": \"scatter\"}, {\"hoverinfo\": \"none\", \"marker\": {\"color\": \"rgb(255, 255, 255)\", \"line\": {\"color\": \"rgb(0, 0, 0)\", \"width\": 1}, \"size\": 20}, \"mode\": \"markers+text\", \"text\": [\"6\"], \"textfont\": {\"color\": \"rgb(0, 0, 0)\"}, \"textposition\": \"middle center\", \"x\": [1.0], \"y\": [0.0], \"type\": \"scatter\"}], \"name\": \"1\"}, {\"data\": [{\"hoverinfo\": \"none\", \"line\": {\"color\": \"rgb(0, 0, 0)\", \"width\": 1}, \"mode\": \"lines\", \"x\": [0.0, 0.33, null, 0.3003062713421305, 0.2855225877733855, null, 0.3003062713421305, 0.2629725579755741, null], \"y\": [0.5, 1.0, null, 0.9550095020335311, 0.8882926689752846, null, 0.9550095020335311, 0.9427605821595028, null], \"type\": \"scatter\"}, {\"hoverinfo\": \"none\", \"line\": {\"color\": \"rgb(0, 0, 0)\", \"width\": 1}, \"mode\": \"lines\", \"x\": [0.0, 0.33, null, 0.3003062713421305, 0.2629725579755741, null, 0.3003062713421305, 0.2855225877733855, null], \"y\": [0.5, 0.0, null, 0.04499049796646893, 0.0572394178404972, null, 0.04499049796646893, 0.11170733102471547, null], \"type\": \"scatter\"}, {\"hoverinfo\": \"none\", \"line\": {\"color\": \"rgb(0, 0, 0)\", \"width\": 1}, \"mode\": \"lines\", \"x\": [0.33, 0.66, null, 0.6221212121212122, 0.5888794484132436, null, 0.6221212121212122, 0.5888794484132436, null], \"y\": [1.0, 1.0, null, 1.0, 0.9652590189417244, null, 1.0, 1.0347409810582755, null], \"type\": \"scatter\"}, {\"hoverinfo\": \"none\", \"line\": {\"color\": \"rgb(0, 0, 0)\", \"width\": 1}, \"mode\": \"lines\", \"x\": [0.66, 1.0, null, 0.9621212121212122, 0.9288794484132434, null, 0.9621212121212122, 0.9288794484132434, null], \"y\": [1.0, 1.0, null, 1.0, 0.9652590189417244, null, 1.0, 1.0347409810582755, null], \"type\": \"scatter\"}, {\"hoverinfo\": \"none\", \"line\": {\"color\": \"rgb(0, 0, 0)\", \"width\": 1}, \"mode\": \"lines\", \"x\": [0.66, 0.33, null, 0.35022071942550836, 0.3526100389194443, null, 0.35022071942550836, 0.3833221014449805, null], \"y\": [1.0, 0.0, null, 0.06127490735002531, 0.13359437096827784, null, 0.06127490735002531, 0.09650302407543368, null], \"type\": \"scatter\"}, {\"hoverinfo\": \"none\", \"line\": {\"color\": \"rgb(0, 0, 0)\", \"width\": 1}, \"mode\": \"lines\", \"x\": [1.0, 0.66, null, 0.6806532023433265, 0.6835549327328607, null, 0.6806532023433265, 0.7140012524011855, null], \"y\": [1.0, 0.0, null, 0.06074471277448944, 0.13299554373343975, null, 0.06074471277448944, 0.09511088313140172, null], \"type\": \"scatter\"}, {\"hoverinfo\": \"none\", \"line\": {\"color\": \"rgb(0, 0, 0)\", \"width\": 1}, \"mode\": \"lines\", \"x\": [0.33, 0.66, null, 0.6221212121212122, 0.5888794484132436, null, 0.6221212121212122, 0.5888794484132436, null], \"y\": [0.0, 0.0, null, 0.0, -0.034740981058275576, null, 0.0, 0.034740981058275576, null], \"type\": \"scatter\"}, {\"hoverinfo\": \"none\", \"line\": {\"color\": \"rgb(0, 0, 0)\", \"width\": 1}, \"mode\": \"lines\", \"x\": [0.66, 1.0, null, 0.9621212121212122, 0.9288794484132434, null, 0.9621212121212122, 0.9288794484132434, null], \"y\": [0.0, 0.0, null, 0.0, -0.034740981058275576, null, 0.0, 0.034740981058275576, null], \"type\": \"scatter\"}, {\"hoverinfo\": \"none\", \"marker\": {\"color\": \"rgb(0, 255, 0)\", \"line\": {\"color\": \"rgb(0, 0, 0)\", \"width\": 1}, \"size\": 20}, \"mode\": \"markers+text\", \"text\": [\"0\"], \"textfont\": {\"color\": \"rgb(0, 0, 0)\"}, \"textposition\": \"middle center\", \"x\": [0.0], \"y\": [0.5], \"type\": \"scatter\"}, {\"hoverinfo\": \"none\", \"marker\": {\"color\": \"rgb(0, 255, 0)\", \"line\": {\"color\": \"rgb(0, 0, 0)\", \"width\": 1}, \"size\": 20}, \"mode\": \"markers+text\", \"text\": [\"1\"], \"textfont\": {\"color\": \"rgb(0, 0, 0)\"}, \"textposition\": \"middle center\", \"x\": [0.33], \"y\": [1.0], \"type\": \"scatter\"}, {\"hoverinfo\": \"none\", \"marker\": {\"color\": \"rgb(255, 255, 255)\", \"line\": {\"color\": \"rgb(0, 0, 0)\", \"width\": 1}, \"size\": 20}, \"mode\": \"markers+text\", \"text\": [\"2\"], \"textfont\": {\"color\": \"rgb(0, 0, 0)\"}, \"textposition\": \"middle center\", \"x\": [0.66], \"y\": [1.0], \"type\": \"scatter\"}, {\"hoverinfo\": \"none\", \"marker\": {\"color\": \"rgb(255, 255, 255)\", \"line\": {\"color\": \"rgb(0, 0, 0)\", \"width\": 1}, \"size\": 20}, \"mode\": \"markers+text\", \"text\": [\"3\"], \"textfont\": {\"color\": \"rgb(0, 0, 0)\"}, \"textposition\": \"middle center\", \"x\": [1.0], \"y\": [1.0], \"type\": \"scatter\"}, {\"hoverinfo\": \"none\", \"marker\": {\"color\": \"rgb(0, 255, 0)\", \"line\": {\"color\": \"rgb(0, 0, 0)\", \"width\": 1}, \"size\": 20}, \"mode\": \"markers+text\", \"text\": [\"4\"], \"textfont\": {\"color\": \"rgb(0, 0, 0)\"}, \"textposition\": \"middle center\", \"x\": [0.33], \"y\": [0.0], \"type\": \"scatter\"}, {\"hoverinfo\": \"none\", \"marker\": {\"color\": \"rgb(255, 255, 255)\", \"line\": {\"color\": \"rgb(0, 0, 0)\", \"width\": 1}, \"size\": 20}, \"mode\": \"markers+text\", \"text\": [\"5\"], \"textfont\": {\"color\": \"rgb(0, 0, 0)\"}, \"textposition\": \"middle center\", \"x\": [0.66], \"y\": [0.0], \"type\": \"scatter\"}, {\"hoverinfo\": \"none\", \"marker\": {\"color\": \"rgb(255, 255, 255)\", \"line\": {\"color\": \"rgb(0, 0, 0)\", \"width\": 1}, \"size\": 20}, \"mode\": \"markers+text\", \"text\": [\"6\"], \"textfont\": {\"color\": \"rgb(0, 0, 0)\"}, \"textposition\": \"middle center\", \"x\": [1.0], \"y\": [0.0], \"type\": \"scatter\"}], \"name\": \"2\"}, {\"data\": [{\"hoverinfo\": \"none\", \"line\": {\"color\": \"rgb(0, 0, 0)\", \"width\": 1}, \"mode\": \"lines\", \"x\": [0.0, 0.33, null, 0.3003062713421305, 0.2855225877733855, null, 0.3003062713421305, 0.2629725579755741, null], \"y\": [0.5, 1.0, null, 0.9550095020335311, 0.8882926689752846, null, 0.9550095020335311, 0.9427605821595028, null], \"type\": \"scatter\"}, {\"hoverinfo\": \"none\", \"line\": {\"color\": \"rgb(0, 0, 0)\", \"width\": 1}, \"mode\": \"lines\", \"x\": [0.0, 0.33, null, 0.3003062713421305, 0.2629725579755741, null, 0.3003062713421305, 0.2855225877733855, null], \"y\": [0.5, 0.0, null, 0.04499049796646893, 0.0572394178404972, null, 0.04499049796646893, 0.11170733102471547, null], \"type\": \"scatter\"}, {\"hoverinfo\": \"none\", \"line\": {\"color\": \"rgb(0, 0, 0)\", \"width\": 1}, \"mode\": \"lines\", \"x\": [0.33, 0.66, null, 0.6221212121212122, 0.5888794484132436, null, 0.6221212121212122, 0.5888794484132436, null], \"y\": [1.0, 1.0, null, 1.0, 0.9652590189417244, null, 1.0, 1.0347409810582755, null], \"type\": \"scatter\"}, {\"hoverinfo\": \"none\", \"line\": {\"color\": \"rgb(0, 0, 0)\", \"width\": 1}, \"mode\": \"lines\", \"x\": [0.66, 1.0, null, 0.9621212121212122, 0.9288794484132434, null, 0.9621212121212122, 0.9288794484132434, null], \"y\": [1.0, 1.0, null, 1.0, 0.9652590189417244, null, 1.0, 1.0347409810582755, null], \"type\": \"scatter\"}, {\"hoverinfo\": \"none\", \"line\": {\"color\": \"rgb(0, 0, 0)\", \"width\": 1}, \"mode\": \"lines\", \"x\": [0.66, 0.33, null, 0.35022071942550836, 0.3526100389194443, null, 0.35022071942550836, 0.3833221014449805, null], \"y\": [1.0, 0.0, null, 0.06127490735002531, 0.13359437096827784, null, 0.06127490735002531, 0.09650302407543368, null], \"type\": \"scatter\"}, {\"hoverinfo\": \"none\", \"line\": {\"color\": \"rgb(0, 0, 0)\", \"width\": 1}, \"mode\": \"lines\", \"x\": [1.0, 0.66, null, 0.6806532023433265, 0.6835549327328607, null, 0.6806532023433265, 0.7140012524011855, null], \"y\": [1.0, 0.0, null, 0.06074471277448944, 0.13299554373343975, null, 0.06074471277448944, 0.09511088313140172, null], \"type\": \"scatter\"}, {\"hoverinfo\": \"none\", \"line\": {\"color\": \"rgb(0, 0, 0)\", \"width\": 1}, \"mode\": \"lines\", \"x\": [0.33, 0.66, null, 0.6221212121212122, 0.5888794484132436, null, 0.6221212121212122, 0.5888794484132436, null], \"y\": [0.0, 0.0, null, 0.0, -0.034740981058275576, null, 0.0, 0.034740981058275576, null], \"type\": \"scatter\"}, {\"hoverinfo\": \"none\", \"line\": {\"color\": \"rgb(0, 0, 0)\", \"width\": 1}, \"mode\": \"lines\", \"x\": [0.66, 1.0, null, 0.9621212121212122, 0.9288794484132434, null, 0.9621212121212122, 0.9288794484132434, null], \"y\": [0.0, 0.0, null, 0.0, -0.034740981058275576, null, 0.0, 0.034740981058275576, null], \"type\": \"scatter\"}, {\"hoverinfo\": \"none\", \"marker\": {\"color\": \"rgb(0, 255, 0)\", \"line\": {\"color\": \"rgb(0, 0, 0)\", \"width\": 1}, \"size\": 20}, \"mode\": \"markers+text\", \"text\": [\"0\"], \"textfont\": {\"color\": \"rgb(0, 0, 0)\"}, \"textposition\": \"middle center\", \"x\": [0.0], \"y\": [0.5], \"type\": \"scatter\"}, {\"hoverinfo\": \"none\", \"marker\": {\"color\": \"rgb(0, 255, 0)\", \"line\": {\"color\": \"rgb(0, 0, 0)\", \"width\": 1}, \"size\": 20}, \"mode\": \"markers+text\", \"text\": [\"1\"], \"textfont\": {\"color\": \"rgb(0, 0, 0)\"}, \"textposition\": \"middle center\", \"x\": [0.33], \"y\": [1.0], \"type\": \"scatter\"}, {\"hoverinfo\": \"none\", \"marker\": {\"color\": \"rgb(0, 255, 0)\", \"line\": {\"color\": \"rgb(0, 0, 0)\", \"width\": 1}, \"size\": 20}, \"mode\": \"markers+text\", \"text\": [\"2\"], \"textfont\": {\"color\": \"rgb(0, 0, 0)\"}, \"textposition\": \"middle center\", \"x\": [0.66], \"y\": [1.0], \"type\": \"scatter\"}, {\"hoverinfo\": \"none\", \"marker\": {\"color\": \"rgb(255, 255, 255)\", \"line\": {\"color\": \"rgb(0, 0, 0)\", \"width\": 1}, \"size\": 20}, \"mode\": \"markers+text\", \"text\": [\"3\"], \"textfont\": {\"color\": \"rgb(0, 0, 0)\"}, \"textposition\": \"middle center\", \"x\": [1.0], \"y\": [1.0], \"type\": \"scatter\"}, {\"hoverinfo\": \"none\", \"marker\": {\"color\": \"rgb(0, 255, 0)\", \"line\": {\"color\": \"rgb(0, 0, 0)\", \"width\": 1}, \"size\": 20}, \"mode\": \"markers+text\", \"text\": [\"4\"], \"textfont\": {\"color\": \"rgb(0, 0, 0)\"}, \"textposition\": \"middle center\", \"x\": [0.33], \"y\": [0.0], \"type\": \"scatter\"}, {\"hoverinfo\": \"none\", \"marker\": {\"color\": \"rgb(255, 255, 255)\", \"line\": {\"color\": \"rgb(0, 0, 0)\", \"width\": 1}, \"size\": 20}, \"mode\": \"markers+text\", \"text\": [\"5\"], \"textfont\": {\"color\": \"rgb(0, 0, 0)\"}, \"textposition\": \"middle center\", \"x\": [0.66], \"y\": [0.0], \"type\": \"scatter\"}, {\"hoverinfo\": \"none\", \"marker\": {\"color\": \"rgb(255, 255, 255)\", \"line\": {\"color\": \"rgb(0, 0, 0)\", \"width\": 1}, \"size\": 20}, \"mode\": \"markers+text\", \"text\": [\"6\"], \"textfont\": {\"color\": \"rgb(0, 0, 0)\"}, \"textposition\": \"middle center\", \"x\": [1.0], \"y\": [0.0], \"type\": \"scatter\"}], \"name\": \"3\"}, {\"data\": [{\"hoverinfo\": \"none\", \"line\": {\"color\": \"rgb(0, 0, 0)\", \"width\": 1}, \"mode\": \"lines\", \"x\": [0.0, 0.33, null, 0.3003062713421305, 0.2855225877733855, null, 0.3003062713421305, 0.2629725579755741, null], \"y\": [0.5, 1.0, null, 0.9550095020335311, 0.8882926689752846, null, 0.9550095020335311, 0.9427605821595028, null], \"type\": \"scatter\"}, {\"hoverinfo\": \"none\", \"line\": {\"color\": \"rgb(0, 0, 0)\", \"width\": 1}, \"mode\": \"lines\", \"x\": [0.0, 0.33, null, 0.3003062713421305, 0.2629725579755741, null, 0.3003062713421305, 0.2855225877733855, null], \"y\": [0.5, 0.0, null, 0.04499049796646893, 0.0572394178404972, null, 0.04499049796646893, 0.11170733102471547, null], \"type\": \"scatter\"}, {\"hoverinfo\": \"none\", \"line\": {\"color\": \"rgb(0, 0, 0)\", \"width\": 1}, \"mode\": \"lines\", \"x\": [0.33, 0.66, null, 0.6221212121212122, 0.5888794484132436, null, 0.6221212121212122, 0.5888794484132436, null], \"y\": [1.0, 1.0, null, 1.0, 0.9652590189417244, null, 1.0, 1.0347409810582755, null], \"type\": \"scatter\"}, {\"hoverinfo\": \"none\", \"line\": {\"color\": \"rgb(0, 0, 0)\", \"width\": 1}, \"mode\": \"lines\", \"x\": [0.66, 1.0, null, 0.9621212121212122, 0.9288794484132434, null, 0.9621212121212122, 0.9288794484132434, null], \"y\": [1.0, 1.0, null, 1.0, 0.9652590189417244, null, 1.0, 1.0347409810582755, null], \"type\": \"scatter\"}, {\"hoverinfo\": \"none\", \"line\": {\"color\": \"rgb(0, 0, 0)\", \"width\": 1}, \"mode\": \"lines\", \"x\": [0.66, 0.33, null, 0.35022071942550836, 0.3526100389194443, null, 0.35022071942550836, 0.3833221014449805, null], \"y\": [1.0, 0.0, null, 0.06127490735002531, 0.13359437096827784, null, 0.06127490735002531, 0.09650302407543368, null], \"type\": \"scatter\"}, {\"hoverinfo\": \"none\", \"line\": {\"color\": \"rgb(0, 0, 0)\", \"width\": 1}, \"mode\": \"lines\", \"x\": [1.0, 0.66, null, 0.6806532023433265, 0.6835549327328607, null, 0.6806532023433265, 0.7140012524011855, null], \"y\": [1.0, 0.0, null, 0.06074471277448944, 0.13299554373343975, null, 0.06074471277448944, 0.09511088313140172, null], \"type\": \"scatter\"}, {\"hoverinfo\": \"none\", \"line\": {\"color\": \"rgb(0, 0, 0)\", \"width\": 1}, \"mode\": \"lines\", \"x\": [0.33, 0.66, null, 0.6221212121212122, 0.5888794484132436, null, 0.6221212121212122, 0.5888794484132436, null], \"y\": [0.0, 0.0, null, 0.0, -0.034740981058275576, null, 0.0, 0.034740981058275576, null], \"type\": \"scatter\"}, {\"hoverinfo\": \"none\", \"line\": {\"color\": \"rgb(0, 0, 0)\", \"width\": 1}, \"mode\": \"lines\", \"x\": [0.66, 1.0, null, 0.9621212121212122, 0.9288794484132434, null, 0.9621212121212122, 0.9288794484132434, null], \"y\": [0.0, 0.0, null, 0.0, -0.034740981058275576, null, 0.0, 0.034740981058275576, null], \"type\": \"scatter\"}, {\"hoverinfo\": \"none\", \"marker\": {\"color\": \"rgb(0, 255, 0)\", \"line\": {\"color\": \"rgb(0, 0, 0)\", \"width\": 1}, \"size\": 20}, \"mode\": \"markers+text\", \"text\": [\"0\"], \"textfont\": {\"color\": \"rgb(0, 0, 0)\"}, \"textposition\": \"middle center\", \"x\": [0.0], \"y\": [0.5], \"type\": \"scatter\"}, {\"hoverinfo\": \"none\", \"marker\": {\"color\": \"rgb(0, 255, 0)\", \"line\": {\"color\": \"rgb(0, 0, 0)\", \"width\": 1}, \"size\": 20}, \"mode\": \"markers+text\", \"text\": [\"1\"], \"textfont\": {\"color\": \"rgb(0, 0, 0)\"}, \"textposition\": \"middle center\", \"x\": [0.33], \"y\": [1.0], \"type\": \"scatter\"}, {\"hoverinfo\": \"none\", \"marker\": {\"color\": \"rgb(0, 255, 0)\", \"line\": {\"color\": \"rgb(0, 0, 0)\", \"width\": 1}, \"size\": 20}, \"mode\": \"markers+text\", \"text\": [\"2\"], \"textfont\": {\"color\": \"rgb(0, 0, 0)\"}, \"textposition\": \"middle center\", \"x\": [0.66], \"y\": [1.0], \"type\": \"scatter\"}, {\"hoverinfo\": \"none\", \"marker\": {\"color\": \"rgb(255, 255, 255)\", \"line\": {\"color\": \"rgb(0, 0, 0)\", \"width\": 1}, \"size\": 20}, \"mode\": \"markers+text\", \"text\": [\"3\"], \"textfont\": {\"color\": \"rgb(0, 0, 0)\"}, \"textposition\": \"middle center\", \"x\": [1.0], \"y\": [1.0], \"type\": \"scatter\"}, {\"hoverinfo\": \"none\", \"marker\": {\"color\": \"rgb(0, 255, 0)\", \"line\": {\"color\": \"rgb(0, 0, 0)\", \"width\": 1}, \"size\": 20}, \"mode\": \"markers+text\", \"text\": [\"4\"], \"textfont\": {\"color\": \"rgb(0, 0, 0)\"}, \"textposition\": \"middle center\", \"x\": [0.33], \"y\": [0.0], \"type\": \"scatter\"}, {\"hoverinfo\": \"none\", \"marker\": {\"color\": \"rgb(0, 255, 0)\", \"line\": {\"color\": \"rgb(0, 0, 0)\", \"width\": 1}, \"size\": 20}, \"mode\": \"markers+text\", \"text\": [\"5\"], \"textfont\": {\"color\": \"rgb(0, 0, 0)\"}, \"textposition\": \"middle center\", \"x\": [0.66], \"y\": [0.0], \"type\": \"scatter\"}, {\"hoverinfo\": \"none\", \"marker\": {\"color\": \"rgb(255, 255, 255)\", \"line\": {\"color\": \"rgb(0, 0, 0)\", \"width\": 1}, \"size\": 20}, \"mode\": \"markers+text\", \"text\": [\"6\"], \"textfont\": {\"color\": \"rgb(0, 0, 0)\"}, \"textposition\": \"middle center\", \"x\": [1.0], \"y\": [0.0], \"type\": \"scatter\"}], \"name\": \"4\"}, {\"data\": [{\"hoverinfo\": \"none\", \"line\": {\"color\": \"rgb(0, 0, 0)\", \"width\": 1}, \"mode\": \"lines\", \"x\": [0.0, 0.33, null, 0.3003062713421305, 0.2855225877733855, null, 0.3003062713421305, 0.2629725579755741, null], \"y\": [0.5, 1.0, null, 0.9550095020335311, 0.8882926689752846, null, 0.9550095020335311, 0.9427605821595028, null], \"type\": \"scatter\"}, {\"hoverinfo\": \"none\", \"line\": {\"color\": \"rgb(0, 0, 0)\", \"width\": 1}, \"mode\": \"lines\", \"x\": [0.0, 0.33, null, 0.3003062713421305, 0.2629725579755741, null, 0.3003062713421305, 0.2855225877733855, null], \"y\": [0.5, 0.0, null, 0.04499049796646893, 0.0572394178404972, null, 0.04499049796646893, 0.11170733102471547, null], \"type\": \"scatter\"}, {\"hoverinfo\": \"none\", \"line\": {\"color\": \"rgb(0, 0, 0)\", \"width\": 1}, \"mode\": \"lines\", \"x\": [0.33, 0.66, null, 0.6221212121212122, 0.5888794484132436, null, 0.6221212121212122, 0.5888794484132436, null], \"y\": [1.0, 1.0, null, 1.0, 0.9652590189417244, null, 1.0, 1.0347409810582755, null], \"type\": \"scatter\"}, {\"hoverinfo\": \"none\", \"line\": {\"color\": \"rgb(0, 0, 0)\", \"width\": 1}, \"mode\": \"lines\", \"x\": [0.66, 1.0, null, 0.9621212121212122, 0.9288794484132434, null, 0.9621212121212122, 0.9288794484132434, null], \"y\": [1.0, 1.0, null, 1.0, 0.9652590189417244, null, 1.0, 1.0347409810582755, null], \"type\": \"scatter\"}, {\"hoverinfo\": \"none\", \"line\": {\"color\": \"rgb(0, 0, 0)\", \"width\": 1}, \"mode\": \"lines\", \"x\": [0.66, 0.33, null, 0.35022071942550836, 0.3526100389194443, null, 0.35022071942550836, 0.3833221014449805, null], \"y\": [1.0, 0.0, null, 0.06127490735002531, 0.13359437096827784, null, 0.06127490735002531, 0.09650302407543368, null], \"type\": \"scatter\"}, {\"hoverinfo\": \"none\", \"line\": {\"color\": \"rgb(0, 0, 0)\", \"width\": 1}, \"mode\": \"lines\", \"x\": [1.0, 0.66, null, 0.6806532023433265, 0.6835549327328607, null, 0.6806532023433265, 0.7140012524011855, null], \"y\": [1.0, 0.0, null, 0.06074471277448944, 0.13299554373343975, null, 0.06074471277448944, 0.09511088313140172, null], \"type\": \"scatter\"}, {\"hoverinfo\": \"none\", \"line\": {\"color\": \"rgb(0, 0, 0)\", \"width\": 1}, \"mode\": \"lines\", \"x\": [0.33, 0.66, null, 0.6221212121212122, 0.5888794484132436, null, 0.6221212121212122, 0.5888794484132436, null], \"y\": [0.0, 0.0, null, 0.0, -0.034740981058275576, null, 0.0, 0.034740981058275576, null], \"type\": \"scatter\"}, {\"hoverinfo\": \"none\", \"line\": {\"color\": \"rgb(0, 0, 0)\", \"width\": 1}, \"mode\": \"lines\", \"x\": [0.66, 1.0, null, 0.9621212121212122, 0.9288794484132434, null, 0.9621212121212122, 0.9288794484132434, null], \"y\": [0.0, 0.0, null, 0.0, -0.034740981058275576, null, 0.0, 0.034740981058275576, null], \"type\": \"scatter\"}, {\"hoverinfo\": \"none\", \"marker\": {\"color\": \"rgb(0, 255, 0)\", \"line\": {\"color\": \"rgb(0, 0, 0)\", \"width\": 1}, \"size\": 20}, \"mode\": \"markers+text\", \"text\": [\"0\"], \"textfont\": {\"color\": \"rgb(0, 0, 0)\"}, \"textposition\": \"middle center\", \"x\": [0.0], \"y\": [0.5], \"type\": \"scatter\"}, {\"hoverinfo\": \"none\", \"marker\": {\"color\": \"rgb(0, 255, 0)\", \"line\": {\"color\": \"rgb(0, 0, 0)\", \"width\": 1}, \"size\": 20}, \"mode\": \"markers+text\", \"text\": [\"1\"], \"textfont\": {\"color\": \"rgb(0, 0, 0)\"}, \"textposition\": \"middle center\", \"x\": [0.33], \"y\": [1.0], \"type\": \"scatter\"}, {\"hoverinfo\": \"none\", \"marker\": {\"color\": \"rgb(0, 255, 0)\", \"line\": {\"color\": \"rgb(0, 0, 0)\", \"width\": 1}, \"size\": 20}, \"mode\": \"markers+text\", \"text\": [\"2\"], \"textfont\": {\"color\": \"rgb(0, 0, 0)\"}, \"textposition\": \"middle center\", \"x\": [0.66], \"y\": [1.0], \"type\": \"scatter\"}, {\"hoverinfo\": \"none\", \"marker\": {\"color\": \"rgb(0, 255, 0)\", \"line\": {\"color\": \"rgb(0, 0, 0)\", \"width\": 1}, \"size\": 20}, \"mode\": \"markers+text\", \"text\": [\"3\"], \"textfont\": {\"color\": \"rgb(0, 0, 0)\"}, \"textposition\": \"middle center\", \"x\": [1.0], \"y\": [1.0], \"type\": \"scatter\"}, {\"hoverinfo\": \"none\", \"marker\": {\"color\": \"rgb(0, 255, 0)\", \"line\": {\"color\": \"rgb(0, 0, 0)\", \"width\": 1}, \"size\": 20}, \"mode\": \"markers+text\", \"text\": [\"4\"], \"textfont\": {\"color\": \"rgb(0, 0, 0)\"}, \"textposition\": \"middle center\", \"x\": [0.33], \"y\": [0.0], \"type\": \"scatter\"}, {\"hoverinfo\": \"none\", \"marker\": {\"color\": \"rgb(0, 255, 0)\", \"line\": {\"color\": \"rgb(0, 0, 0)\", \"width\": 1}, \"size\": 20}, \"mode\": \"markers+text\", \"text\": [\"5\"], \"textfont\": {\"color\": \"rgb(0, 0, 0)\"}, \"textposition\": \"middle center\", \"x\": [0.66], \"y\": [0.0], \"type\": \"scatter\"}, {\"hoverinfo\": \"none\", \"marker\": {\"color\": \"rgb(255, 255, 255)\", \"line\": {\"color\": \"rgb(0, 0, 0)\", \"width\": 1}, \"size\": 20}, \"mode\": \"markers+text\", \"text\": [\"6\"], \"textfont\": {\"color\": \"rgb(0, 0, 0)\"}, \"textposition\": \"middle center\", \"x\": [1.0], \"y\": [0.0], \"type\": \"scatter\"}], \"name\": \"5\"}, {\"data\": [{\"hoverinfo\": \"none\", \"line\": {\"color\": \"rgb(0, 0, 0)\", \"width\": 1}, \"mode\": \"lines\", \"x\": [0.0, 0.33, null, 0.3003062713421305, 0.2855225877733855, null, 0.3003062713421305, 0.2629725579755741, null], \"y\": [0.5, 1.0, null, 0.9550095020335311, 0.8882926689752846, null, 0.9550095020335311, 0.9427605821595028, null], \"type\": \"scatter\"}, {\"hoverinfo\": \"none\", \"line\": {\"color\": \"rgb(0, 0, 0)\", \"width\": 1}, \"mode\": \"lines\", \"x\": [0.0, 0.33, null, 0.3003062713421305, 0.2629725579755741, null, 0.3003062713421305, 0.2855225877733855, null], \"y\": [0.5, 0.0, null, 0.04499049796646893, 0.0572394178404972, null, 0.04499049796646893, 0.11170733102471547, null], \"type\": \"scatter\"}, {\"hoverinfo\": \"none\", \"line\": {\"color\": \"rgb(0, 0, 0)\", \"width\": 1}, \"mode\": \"lines\", \"x\": [0.33, 0.66, null, 0.6221212121212122, 0.5888794484132436, null, 0.6221212121212122, 0.5888794484132436, null], \"y\": [1.0, 1.0, null, 1.0, 0.9652590189417244, null, 1.0, 1.0347409810582755, null], \"type\": \"scatter\"}, {\"hoverinfo\": \"none\", \"line\": {\"color\": \"rgb(0, 0, 0)\", \"width\": 1}, \"mode\": \"lines\", \"x\": [0.66, 1.0, null, 0.9621212121212122, 0.9288794484132434, null, 0.9621212121212122, 0.9288794484132434, null], \"y\": [1.0, 1.0, null, 1.0, 0.9652590189417244, null, 1.0, 1.0347409810582755, null], \"type\": \"scatter\"}, {\"hoverinfo\": \"none\", \"line\": {\"color\": \"rgb(0, 0, 0)\", \"width\": 1}, \"mode\": \"lines\", \"x\": [0.66, 0.33, null, 0.35022071942550836, 0.3526100389194443, null, 0.35022071942550836, 0.3833221014449805, null], \"y\": [1.0, 0.0, null, 0.06127490735002531, 0.13359437096827784, null, 0.06127490735002531, 0.09650302407543368, null], \"type\": \"scatter\"}, {\"hoverinfo\": \"none\", \"line\": {\"color\": \"rgb(0, 0, 0)\", \"width\": 1}, \"mode\": \"lines\", \"x\": [1.0, 0.66, null, 0.6806532023433265, 0.6835549327328607, null, 0.6806532023433265, 0.7140012524011855, null], \"y\": [1.0, 0.0, null, 0.06074471277448944, 0.13299554373343975, null, 0.06074471277448944, 0.09511088313140172, null], \"type\": \"scatter\"}, {\"hoverinfo\": \"none\", \"line\": {\"color\": \"rgb(0, 0, 0)\", \"width\": 1}, \"mode\": \"lines\", \"x\": [0.33, 0.66, null, 0.6221212121212122, 0.5888794484132436, null, 0.6221212121212122, 0.5888794484132436, null], \"y\": [0.0, 0.0, null, 0.0, -0.034740981058275576, null, 0.0, 0.034740981058275576, null], \"type\": \"scatter\"}, {\"hoverinfo\": \"none\", \"line\": {\"color\": \"rgb(0, 0, 0)\", \"width\": 1}, \"mode\": \"lines\", \"x\": [0.66, 1.0, null, 0.9621212121212122, 0.9288794484132434, null, 0.9621212121212122, 0.9288794484132434, null], \"y\": [0.0, 0.0, null, 0.0, -0.034740981058275576, null, 0.0, 0.034740981058275576, null], \"type\": \"scatter\"}, {\"hoverinfo\": \"none\", \"marker\": {\"color\": \"rgb(0, 255, 0)\", \"line\": {\"color\": \"rgb(0, 0, 0)\", \"width\": 1}, \"size\": 20}, \"mode\": \"markers+text\", \"text\": [\"0\"], \"textfont\": {\"color\": \"rgb(0, 0, 0)\"}, \"textposition\": \"middle center\", \"x\": [0.0], \"y\": [0.5], \"type\": \"scatter\"}, {\"hoverinfo\": \"none\", \"marker\": {\"color\": \"rgb(0, 255, 0)\", \"line\": {\"color\": \"rgb(0, 0, 0)\", \"width\": 1}, \"size\": 20}, \"mode\": \"markers+text\", \"text\": [\"1\"], \"textfont\": {\"color\": \"rgb(0, 0, 0)\"}, \"textposition\": \"middle center\", \"x\": [0.33], \"y\": [1.0], \"type\": \"scatter\"}, {\"hoverinfo\": \"none\", \"marker\": {\"color\": \"rgb(0, 255, 0)\", \"line\": {\"color\": \"rgb(0, 0, 0)\", \"width\": 1}, \"size\": 20}, \"mode\": \"markers+text\", \"text\": [\"2\"], \"textfont\": {\"color\": \"rgb(0, 0, 0)\"}, \"textposition\": \"middle center\", \"x\": [0.66], \"y\": [1.0], \"type\": \"scatter\"}, {\"hoverinfo\": \"none\", \"marker\": {\"color\": \"rgb(0, 255, 0)\", \"line\": {\"color\": \"rgb(0, 0, 0)\", \"width\": 1}, \"size\": 20}, \"mode\": \"markers+text\", \"text\": [\"3\"], \"textfont\": {\"color\": \"rgb(0, 0, 0)\"}, \"textposition\": \"middle center\", \"x\": [1.0], \"y\": [1.0], \"type\": \"scatter\"}, {\"hoverinfo\": \"none\", \"marker\": {\"color\": \"rgb(0, 255, 0)\", \"line\": {\"color\": \"rgb(0, 0, 0)\", \"width\": 1}, \"size\": 20}, \"mode\": \"markers+text\", \"text\": [\"4\"], \"textfont\": {\"color\": \"rgb(0, 0, 0)\"}, \"textposition\": \"middle center\", \"x\": [0.33], \"y\": [0.0], \"type\": \"scatter\"}, {\"hoverinfo\": \"none\", \"marker\": {\"color\": \"rgb(0, 255, 0)\", \"line\": {\"color\": \"rgb(0, 0, 0)\", \"width\": 1}, \"size\": 20}, \"mode\": \"markers+text\", \"text\": [\"5\"], \"textfont\": {\"color\": \"rgb(0, 0, 0)\"}, \"textposition\": \"middle center\", \"x\": [0.66], \"y\": [0.0], \"type\": \"scatter\"}, {\"hoverinfo\": \"none\", \"marker\": {\"color\": \"rgb(0, 255, 0)\", \"line\": {\"color\": \"rgb(0, 0, 0)\", \"width\": 1}, \"size\": 20}, \"mode\": \"markers+text\", \"text\": [\"6\"], \"textfont\": {\"color\": \"rgb(0, 0, 0)\"}, \"textposition\": \"middle center\", \"x\": [1.0], \"y\": [0.0], \"type\": \"scatter\"}], \"name\": \"6\"}]);}).then(function(){Plotly.animate('932b5954-35be-4e29-baf3-4b342dfcde35');})\n",
       "        });</script>"
      ]
     },
     "metadata": {},
     "output_type": "display_data"
    }
   ],
   "source": [
    "from queue import Queue\n",
    "\n",
    "\n",
    "def bfs(g, s, frames):\n",
    "    sn.reset_node_colors(g)\n",
    "    for n in g.nodes:\n",
    "        g.nodes[n]['visited'] = False\n",
    "\n",
    "    g.nodes[s]['color'] = (0, 255, 0)\n",
    "    g.nodes[s]['visited'] = True\n",
    "\n",
    "    frame = sn.generate_frame(g, nlab=True)\n",
    "    frames.append(frame)\n",
    "\n",
    "    q = Queue()\n",
    "    q.put(s)\n",
    "\n",
    "    while not q.empty():\n",
    "        n = q.get()\n",
    "\n",
    "        for m in g.successors(n):\n",
    "            if not g.nodes[m]['visited']:\n",
    "                g.nodes[m]['color'] = (0, 255, 0)\n",
    "                g.nodes[m]['visited'] = True\n",
    "\n",
    "                frame = sn.generate_frame(g, nlab=True)\n",
    "                frames.append(frame)\n",
    "\n",
    "                q.put(m)\n",
    "\n",
    "\n",
    "frames = []\n",
    "\n",
    "bfs(g, 0, frames)\n",
    "\n",
    "sn.show_animation(frames)"
   ]
  },
  {
   "cell_type": "code",
   "execution_count": null,
   "metadata": {},
   "outputs": [],
   "source": []
  }
 ],
 "metadata": {
  "kernelspec": {
   "display_name": "Python 3",
   "language": "python",
   "name": "python3"
  },
  "language_info": {
   "codemirror_mode": {
    "name": "ipython",
    "version": 3
   },
   "file_extension": ".py",
   "mimetype": "text/x-python",
   "name": "python",
   "nbconvert_exporter": "python",
   "pygments_lexer": "ipython3",
   "version": "3.6.5"
  }
 },
 "nbformat": 4,
 "nbformat_minor": 1
}
