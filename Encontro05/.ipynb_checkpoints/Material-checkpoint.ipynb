{
 "cells": [
  {
   "cell_type": "markdown",
   "metadata": {
    "deletable": false,
    "editable": false
   },
   "source": [
    "<div style=\"background-color: #fff1cd; background-image: url('../socnet.svg'); background-position: 1em 1em; background-repeat: no-repeat; background-size: 3em 3em; box-shadow: 0 0 0.25em 0; color: #403c33; font-weight: bold; min-height: 3em; padding: 1em 1em 1em 5em;\">Como o nome sugere, você deve usar este notebook como um *caderno de anotações*. Use as células editáveis para tomar notas, principalmente quando os professores estiverem complementando o conteúdo com exposições orais ou exposições na lousa. Crie um *fork* pessoal do repositório, faça *commits* dessas notas e puxe do *upstream* sempre que o repositório for atualizado. Se alguma atualização modificar um notebook existente, essa modificação não envolverá as células editáveis, portanto não causará conflito.</div>"
   ]
  },
  {
   "cell_type": "markdown",
   "metadata": {
    "deletable": false,
    "editable": false
   },
   "source": [
    "# Redes Sociais: Material do Encontro 5\n",
    "\n",
    "Imagine que a Rádio Cultura FM estabeleceu uma parceria com o Spotify para promover a música clássica. Essa promoção funciona assim: dentre os *Artistas Relacionados* ao artista que um usuário está escutando, o Spotify pode escolher algum para exibir um ícone de barrinhas de ouro, indicando que esse usuário vai acumular bônus se clicar nesse artista. Esse bônus pode ser convertido em cŕeditos para mensalidade, dentre outros possíveis prêmios.\n",
    "\n",
    "O problema dessa ideia é que seu custo vai além de simplesmente pagar esses prêmios. O acordo original do Spotify com os distribuidores de música, detentores dos direitos de reprodução de qualquer material fonográfico, não permite que qualquer artista seja privilegiado pelo Spotify através de outra promoção que não seja a sugestão de *Artistas Relacionados* já existente. Após uma longa negociação, ficou acordado que a parceria deverá efetuar um pagamento adicional aos distribuidores de música cada vez que um usuário clicar em um artista com o ícone de barrinhas de ouro. Esse pagamento adicional é proporcional à popularidade do artista.\n",
    "\n",
    "Os representantes da Rádio Cultura FM estão um pouco preocupados com esse custo inesperado, pois originalmente planejavam usar apenas um critério subjetivo de \"mais parecido com música clássica\" para escolher os artistas que terão barrinhas. Agora estão pensando em fazer \"algo mais inteligente\", mas não sabem direito o que isso significa. Portanto, resolveram contratar vocês como Cientistas de Dados para descobrir!\n",
    "\n",
    "A partir daqui é com vocês! Não contem muito com os clientes, pois eles não conhecem muito sobre análise de dados e não saberiam construir hipóteses para orientar as análises. Lembrem apenas que, apesar do contexto não ser acadêmico, os passos do método científico se aplicam.\n",
    "\n",
    "0. Qual é a pergunta de pesquisa?\n",
    "1. Qual é o contexto? Como esse contexto pode ser traduzido para mecanismos?\n",
    "2. Quais são os mecanismos? Como esses mecanismos podem ser traduzidos para hipóteses?\n",
    "3. Quais são as hipóteses? Como essas hipóteses podem ser testadas?\n",
    "4. O que dizem os resultados dos testes? Como esses resultados podem ser interpretados frente às hipóteses?\n",
    "5. Como as interpretações se relacionam com o contexto original? É possível generalizar as descobertas? O que mais poderia ser agregado às análises em pesquisas futuras?\n",
    "\n",
    "Lembre-se:\n",
    "\n",
    "* no material do *Encontro 1*, vimos esses passos;\n",
    "* no material dos *Encontros 2 e 3*, vimos ferramentas de análise estatística;\n",
    "* no material do *Encontro 4*, vimos ferramentas de manipulação de grafos;\n",
    "* a tarefa do fim de semana deu a vocês um grafo dirigido cujos nós são artistas, cada um com um atributo string `label` e um atributo inteiro `popularity`, e no qual uma aresta $(a, b)$ indica que $a$ indica $b$ como relacionado.\n",
    "\n",
    "É hora de juntar todos esses ingredientes!"
   ]
  },
  {
   "cell_type": "markdown",
   "metadata": {
    "deletable": false
   },
   "source": [
    "### 0. Qual é a pergunta de pesquisa?\n",
    "\n",
    "Qual a estratégia de recomendação de artistas, gerará menos custos para o Spotify de modo que satisfaça parceria de clássica com a Rádio Cultura?\n",
    "\n",
    "\n",
    "\n"
   ]
  },
  {
   "cell_type": "markdown",
   "metadata": {},
   "source": [
    "### 1. Qual é o contexto? Como esse contexto pode ser traduzido para mecanismos?\n",
    "\n",
    "A Rádio Cultura FM quer promover a música clássica e fez uma parceria com o Spotify, em que eles podem recomendar artistas relacionados ao que o usuário está escutando. O Spotify pode dar descontos na mensalidade para os usuários que clicarem nos artistas que mais levam o usuário a escutar artistas de música clássica. Sendo assim, o Spotify está desistindo de receita.\n",
    "\n",
    "O contexto pode ser traduzido em mecanismos, imaginando como o usuário vai se comportar a partir das ações empregadas pela parceria."
   ]
  },
  {
   "cell_type": "markdown",
   "metadata": {},
   "source": [
    "### 2. Quais são os mecanismos? Como esses mecanismos podem ser traduzidos para hipóteses?\n",
    "\n",
    "- Os usuários do Spotify passam a escutar outros artistas a partir de recomendações que o aplicativo dá.\n",
    "- Os usuários do Spotify passam a clicar em artistas recomendados, pelo incentivo financeiro.\n",
    "\n"
   ]
  },
  {
   "cell_type": "markdown",
   "metadata": {},
   "source": [
    "### 3. Quais são as hipóteses? Como essas hipóteses podem ser testadas?\n",
    "\n",
    "- Dado o mecanismo de \"diversificação de artistas ouvidos\" a partir de recomendações do Spotify, ao final da parceria as pessoas passarão a escutar artistas de gêneros musicais diferentes.\n",
    "\n",
    "- Dado o mecanismo de \"incentivo financeiro\" concedido ao usuário ao clicar uma recomendação premiada, faz com que ele escute artistas de gêneros não tão relacionados com ele.\n",
    "\n"
   ]
  },
  {
   "cell_type": "code",
   "execution_count": 27,
   "metadata": {},
   "outputs": [],
   "source": [
    "import sys\n",
    "sys.path.append('..')\n",
    "\n",
    "import socnet as sn"
   ]
  },
  {
   "cell_type": "code",
   "execution_count": 6,
   "metadata": {},
   "outputs": [],
   "source": [
    "sn.node_size = 3\n",
    "sn.node_color = (0, 0, 0)\n",
    "sn.edge_width = 1\n",
    "sn.edge_color = (192, 192, 192)\n",
    "sn.node_label_position = 'hover'\n",
    "\n",
    "g = sn.load_graph('elton-debussy.gml')\n",
    "\n",
    "#sn.show_graph(g, nlab=True)"
   ]
  },
  {
   "cell_type": "code",
   "execution_count": 31,
   "metadata": {},
   "outputs": [
    {
     "name": "stdout",
     "output_type": "stream",
     "text": [
      "Elton John\n",
      "Paul McCartney\n",
      "John Lennon\n",
      "The Plastic Ono Band\n",
      "Les Boreades de Montreal\n",
      "Andreas Scholl\n",
      "Emma Kirkby\n",
      "The Sixteen\n",
      "The King's Singers\n",
      "Eric Whitacre\n",
      "Aaron Copland\n",
      "Ralph Vaughan Williams\n",
      "Claude Debussy\n"
     ]
    }
   ],
   "source": [
    "shortest = nx.shortest_path(g,source=0,target=1)\n",
    "for i in shortest:\n",
    "    print(g.nodes[i]['label'])"
   ]
  },
  {
   "cell_type": "code",
   "execution_count": 17,
   "metadata": {},
   "outputs": [],
   "source": [
    "import networkx as nx\n",
    "\n",
    "#for i, p in enumerate(nx.all_shortest_paths(g, 1, 0)):\n",
    "#    print('caminho {}:'.format(i + 1))\n",
    "#    for n in p:\n",
    "#        print(' ', g.nodes[n]['label'])\n",
    "\n",
    "c = nx.algorithms.centrality.betweenness_centrality(g)"
   ]
  },
  {
   "cell_type": "code",
   "execution_count": 18,
   "metadata": {},
   "outputs": [],
   "source": [
    "c2 = nx.algorithms.centrality.closeness_centrality(g)"
   ]
  },
  {
   "cell_type": "code",
   "execution_count": 19,
   "metadata": {},
   "outputs": [],
   "source": [
    "deg = list(sorted(g.nodes, key=lambda n: g.in_degree(n), reverse=True))"
   ]
  },
  {
   "cell_type": "code",
   "execution_count": 20,
   "metadata": {},
   "outputs": [],
   "source": [
    "bet = list(sorted(g.nodes, key=lambda n: c[n], reverse=True))"
   ]
  },
  {
   "cell_type": "code",
   "execution_count": 21,
   "metadata": {},
   "outputs": [],
   "source": [
    "clo = list(sorted(g.nodes, key=lambda n: c2[n], reverse=True))"
   ]
  },
  {
   "cell_type": "code",
   "execution_count": 22,
   "metadata": {},
   "outputs": [],
   "source": [
    "pop = list(sorted(g.nodes, key=lambda n: g.nodes[n]['popularity'], reverse=True))"
   ]
  },
  {
   "cell_type": "code",
   "execution_count": 30,
   "metadata": {},
   "outputs": [
    {
     "name": "stdout",
     "output_type": "stream",
     "text": [
      "Little River Band 62\n",
      "Seals and Crofts 61\n",
      "Thompson Twins 61\n",
      "Jefferson Starship 58\n",
      "Stephen Bishop 57\n",
      "ABC 56\n",
      "Traffic 55\n",
      "Howard Jones 53\n",
      "Firefall 52\n",
      "Captain & Tennille 52\n"
     ]
    }
   ],
   "source": [
    "for n in deg[:10]:\n",
    "    print(g.nodes[n]['label'], g.in_degree(n))"
   ]
  },
  {
   "cell_type": "code",
   "execution_count": 24,
   "metadata": {},
   "outputs": [
    {
     "name": "stdout",
     "output_type": "stream",
     "text": [
      "Jefferson Starship 0.05006370429666845\n",
      "Ambrosia 0.049985895146097276\n",
      "Poco 0.04897108189608135\n",
      "Dave Mason 0.04871148509693514\n",
      "Joe Walsh 0.04807437673430706\n",
      "Three Dog Night 0.04782417551710249\n",
      "Little River Band 0.04775907640428376\n",
      "Stephen Stills 0.047611780955220465\n",
      "Todd Rundgren 0.04760003655932623\n",
      "Orleans 0.04760003655932623\n"
     ]
    }
   ],
   "source": [
    "for n in clo[:10]:\n",
    "    print(g.nodes[n]['label'], c2[n])"
   ]
  },
  {
   "cell_type": "code",
   "execution_count": 25,
   "metadata": {},
   "outputs": [
    {
     "name": "stdout",
     "output_type": "stream",
     "text": [
      "Aaron Copland 0.07658318288665814\n",
      "Ringo Starr 0.07300265695941238\n",
      "The Plastic Ono Band 0.07162537880280591\n",
      "Les Boreades de Montreal 0.07111321783832895\n",
      "Andreas Scholl 0.06684809160989882\n",
      "The Sixteen 0.05838995649614174\n",
      "The King's Singers 0.058246306139455105\n",
      "Eric Whitacre 0.05808965851844365\n",
      "Emma Kirkby 0.05412291544303149\n",
      "Badfinger 0.04943146814928681\n"
     ]
    }
   ],
   "source": [
    "for n in bet[:10]:\n",
    "    print(g.nodes[n]['label'], c[n])"
   ]
  },
  {
   "cell_type": "code",
   "execution_count": 26,
   "metadata": {},
   "outputs": [
    {
     "name": "stdout",
     "output_type": "stream",
     "text": [
      "The Beatles 84 150\n",
      "Queen 82 528\n",
      "Pink Floyd 79 3628\n",
      "Fleetwood Mac 78 1\n",
      "The Rolling Stones 78 563\n",
      "Led Zeppelin 78 1129\n",
      "David Bowie 77 559\n",
      "Elton John 76 9\n",
      "Elvis Presley 76 225\n",
      "Creedence Clearwater Revival 76 149\n"
     ]
    }
   ],
   "source": [
    "for n in pop[:10]:\n",
    "    print(g.nodes[n]['label'], g.nodes[n]['popularity'], deg[n])"
   ]
  },
  {
   "cell_type": "markdown",
   "metadata": {},
   "source": [
    "### 4. O que dizem os resultados dos testes? Como esses resultados podem ser interpretados frente às hipóteses?\n",
    "\n"
   ]
  },
  {
   "cell_type": "markdown",
   "metadata": {},
   "source": [
    "### 5. Como as interpretações se relacionam com o contexto original? É possível generalizar as descobertas? O que mais poderia ser agregado às análises em pesquisas futuras?\n",
    "\n"
   ]
  },
  {
   "cell_type": "markdown",
   "metadata": {
    "deletable": false,
    "editable": false
   },
   "source": [
    "## Observações"
   ]
  },
  {
   "cell_type": "raw",
   "metadata": {
    "deletable": false
   },
   "source": []
  }
 ],
 "metadata": {
  "kernelspec": {
   "display_name": "Python 3",
   "language": "python",
   "name": "python3"
  },
  "language_info": {
   "codemirror_mode": {
    "name": "ipython",
    "version": 3
   },
   "file_extension": ".py",
   "mimetype": "text/x-python",
   "name": "python",
   "nbconvert_exporter": "python",
   "pygments_lexer": "ipython3",
   "version": "3.6.5"
  }
 },
 "nbformat": 4,
 "nbformat_minor": 1
}
