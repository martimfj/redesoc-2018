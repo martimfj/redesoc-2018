{
 "cells": [
  {
   "cell_type": "markdown",
   "metadata": {
    "deletable": false,
    "editable": false
   },
   "source": [
    "<div style=\"background-color: #fff1cd; background-image: url('../socnet.svg'); background-position: 1em 1em; background-repeat: no-repeat; background-size: 3em 3em; box-shadow: 0 0 0.25em 0; color: #403c33; font-weight: bold; min-height: 3em; padding: 1em 1em 1em 5em;\">Este notebook contém alguns códigos que foram usados para produzir o material do encontro. Não é necessário entender esses códigos, mas estamos disponibilizando para quem tiver interesse. Posteriormente, podem ser particularmente úteis no projeto.</div>"
   ]
  },
  {
   "cell_type": "markdown",
   "metadata": {
    "deletable": false,
    "editable": false
   },
   "source": [
    "# Redes Sociais: Apêndice do Encontro 1\n",
    "\n",
    "### Bibliotecas"
   ]
  },
  {
   "cell_type": "code",
   "execution_count": null,
   "metadata": {
    "deletable": false,
    "editable": false
   },
   "outputs": [],
   "source": [
    "import sys\n",
    "sys.path.append('..')\n",
    "\n",
    "from random import choices\n",
    "\n",
    "import numpy as np\n",
    "import matplotlib.pyplot as plt\n",
    "from scipy.stats import norm, linregress\n",
    "import networkx as nx\n",
    "\n",
    "import socnet as sn\n",
    "\n",
    "%matplotlib inline"
   ]
  },
  {
   "cell_type": "markdown",
   "metadata": {
    "deletable": false,
    "editable": false
   },
   "source": [
    "### Configurações"
   ]
  },
  {
   "cell_type": "code",
   "execution_count": null,
   "metadata": {
    "deletable": false,
    "editable": false
   },
   "outputs": [],
   "source": [
    "NUM_NODES = 100\n",
    "NUM_EDGES = 10\n",
    "\n",
    "SOCIAL_WEIGHT = 0\n",
    "RECIPR_WEIGHT = 0"
   ]
  },
  {
   "cell_type": "markdown",
   "metadata": {
    "deletable": false,
    "editable": false
   },
   "source": [
    "### Funções"
   ]
  },
  {
   "cell_type": "code",
   "execution_count": null,
   "metadata": {
    "deletable": false,
    "editable": false
   },
   "outputs": [],
   "source": [
    "def perceived(g, n, m):\n",
    "    return (1 - SOCIAL_WEIGHT) * g.nodes[m]['quality'] + SOCIAL_WEIGHT * (g.in_degree(m) - int(g.has_edge(n, m)))\n",
    "\n",
    "\n",
    "def unrequited(g, n, m):\n",
    "    return g.has_edge(n, m) * (g.has_edge(n, m) - g.has_edge(m, n))\n",
    "\n",
    "\n",
    "def single_welfare(g, n, m):\n",
    "    return int(g.has_edge(n, m)) * perceived(g, n, m) - RECIPR_WEIGHT * unrequited(g, n, m)\n",
    "\n",
    "\n",
    "def welfare(g, n):\n",
    "    return sum([single_welfare(g, n, m) for m in g.nodes if n != m])\n",
    "\n",
    "\n",
    "def gain(g, n, m):\n",
    "    before = welfare(g, n)\n",
    "    g.add_edge(n, m)\n",
    "\n",
    "    after = welfare(g, n)\n",
    "    g.remove_edge(n, m)\n",
    "\n",
    "    return after - before"
   ]
  },
  {
   "cell_type": "markdown",
   "metadata": {
    "deletable": false,
    "editable": false
   },
   "source": [
    "### Simulação"
   ]
  },
  {
   "cell_type": "code",
   "execution_count": null,
   "metadata": {
    "deletable": false,
    "editable": false
   },
   "outputs": [],
   "source": [
    "g = nx.empty_graph(NUM_NODES, create_using=nx.DiGraph())\n",
    "\n",
    "for n in g.nodes:\n",
    "    g.nodes[n]['quality'] = norm.rvs()\n",
    "\n",
    "for n in g.nodes:\n",
    "    print('criando citações do nó {}'.format(n))\n",
    "\n",
    "    alters = [m for m in g.nodes if n != m]\n",
    "\n",
    "    gains = [gain(g, n, m) for m in alters]\n",
    "\n",
    "    shift = min(gains)\n",
    "\n",
    "    weights = [gain - shift for gain in gains]\n",
    "\n",
    "    for m in choices(alters, weights, k=NUM_EDGES):\n",
    "        g.add_edge(n, m)"
   ]
  },
  {
   "cell_type": "markdown",
   "metadata": {
    "deletable": false,
    "editable": false
   },
   "source": [
    "### Histograma"
   ]
  },
  {
   "cell_type": "code",
   "execution_count": null,
   "metadata": {
    "deletable": false,
    "editable": false
   },
   "outputs": [],
   "source": [
    "hist = plt.hist([g.in_degree(n) for n in g.nodes])\n",
    "xdata = [(l + r) / 2 for l, r in zip(hist[1][:-1], hist[1][1:])]\n",
    "ydata = [h + 1 for h in hist[0]]\n",
    "\n",
    "reg = linregress(np.log(xdata), np.log(ydata))\n",
    "\n",
    "plt.plot(xdata, [x ** reg[0] * np.exp(reg[1]) - 1 for x in xdata])\n",
    "\n",
    "plt.show()"
   ]
  },
  {
   "cell_type": "markdown",
   "metadata": {
    "deletable": false,
    "editable": false
   },
   "source": [
    "### Gravação"
   ]
  },
  {
   "cell_type": "code",
   "execution_count": null,
   "metadata": {
    "deletable": false,
    "editable": false
   },
   "outputs": [],
   "source": [
    "nx.write_gml(g, 'saida.gml')"
   ]
  }
 ],
 "metadata": {
  "kernelspec": {
   "display_name": "Python 3",
   "language": "python",
   "name": "python3"
  },
  "language_info": {
   "codemirror_mode": {
    "name": "ipython",
    "version": 3
   },
   "file_extension": ".py",
   "mimetype": "text/x-python",
   "name": "python",
   "nbconvert_exporter": "python",
   "pygments_lexer": "ipython3",
   "version": "3.6.5"
  }
 },
 "nbformat": 4,
 "nbformat_minor": 1
}
